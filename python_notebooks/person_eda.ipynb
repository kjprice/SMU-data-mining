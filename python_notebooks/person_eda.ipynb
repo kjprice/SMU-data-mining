{
 "cells": [
  {
   "cell_type": "markdown",
   "metadata": {},
   "source": [
    "# Business Understanding\n",
    "\n",
    "The United States constitution had made mandatory the decennial census.   The census provided a headcount which did not provide enough details to make data driven decisions about the use of government funds.  A long form with necessary details was introduced in the 20th century.   Only one in six households received the additional questions on the long form.  In the 21st century, the American Community Survey (ACS) was established to conduct ongoing surveys with the details previously included on the decennial long form census.   The ACS survey results provide data to determine the appropriate distribution of more than $400 billion in federal and state funds.  The funds are for social programs as well as physical and service infrastructure.  \n",
    "\n",
    "Annually 3.5 million homes are surveyed.   A random sample was performed on both the housing data as well as the personal data to allow for manageable data sets while including a macro vision of the data.  We will consider the data the training sets.\n",
    "The validation of the data can be done in several ways.  A statistically sound method would be to validate the data using another random sampling which would be the test set.   Another potential option would be the validate the federal spending.  Due to the difficulty in finding the specifics spending details, the spending validation model would be prohibited by the time constraints as well as data availability constraints. \n",
    "\n",
    "Source:  https://www.census.gov/programs-surveys/acs/\n"
   ]
  },
  {
   "cell_type": "markdown",
   "metadata": {},
   "source": [
    "# Data Description\n",
    "\n",
    "The focus of the exploratory data analysis is the personal data.  The personal data contains 283 attributes.  The data dictionary link below provides the description of the attributes.  \n",
    "\n",
    "Data Dictionary:  https://www2.census.gov/programs-surveys/acs/tech_docs/pums/data_dict/PUMSDataDict13.txt\n",
    "\n",
    "A key variable in the personal data collected is the Income to poverty ration.  The income to poverty ratio is determined for the family living together.  Extended family is included in the calculation; however, non-related housemates are not included. The ratio is the income of the famiily divided by the family's poverty threshold for the year.  The poverty threshold for 2013 is included in the link below.\n",
    "    https://www2.census.gov/programs-surveys/cps/tables/time-series/historical-poverty-thresholds/thresh13.xls\n",
    "In the 2013 American Community Survey, the poverty to income ration has been transformed into whole numbers by multilplying the percentage ratio by 100. \n",
    "    "
   ]
  },
  {
   "cell_type": "code",
   "execution_count": 1,
   "metadata": {
    "collapsed": true
   },
   "outputs": [],
   "source": [
    "import pandas as pd\n",
    "import numpy as np\n",
    "import matplotlib.pyplot as plt\n",
    "import warnings\n",
    "warnings.simplefilter('ignore', DeprecationWarning)"
   ]
  },
  {
   "cell_type": "markdown",
   "metadata": {},
   "source": [
    "The original dataset contained approximately 3.1 million records. We quickly found that using the entire dataset would be much too arduous on our computers and would take too much time to gain meaningful information from the data.\n",
    "\n",
    "Instead of using the massive, original dataset; we decided to take a subset of the dataset. The new dataset includes 2.5% of the original obserations (approximate 78,000 rows). We recognize that there will be some loss in the interpretability of any statistical observations we make on this subset."
   ]
  },
  {
   "cell_type": "code",
   "execution_count": 2,
   "metadata": {
    "collapsed": false
   },
   "outputs": [],
   "source": [
    "person_raw = pd.read_csv('../data/person-subset-2.5percent.csv')"
   ]
  },
  {
   "cell_type": "code",
   "execution_count": 3,
   "metadata": {
    "collapsed": false
   },
   "outputs": [
    {
     "name": "stdout",
     "output_type": "stream",
     "text": [
      "78320 rows before removing children\n",
      "60357 rows after removing children\n"
     ]
    }
   ],
   "source": [
    "# THIS IS TEMP. TODO: Replace with actual write-up\n",
    "execfile('../python/clean_data_person.py')\n",
    "df = df[important_features]"
   ]
  },
  {
   "cell_type": "markdown",
   "metadata": {},
   "source": [
    "### Variable Overview"
   ]
  },
  {
   "cell_type": "code",
   "execution_count": 4,
   "metadata": {
    "collapsed": false
   },
   "outputs": [
    {
     "name": "stdout",
     "output_type": "stream",
     "text": [
      "<class 'pandas.core.frame.DataFrame'>\n",
      "Int64Index: 60357 entries, 0 to 78317\n",
      "Data columns (total 12 columns):\n",
      "PINCP     60357 non-null float64\n",
      "POVPIP    57892 non-null float64\n",
      "JWMNP     32486 non-null float64\n",
      "AGEP      60357 non-null int64\n",
      "PWGTP     60357 non-null int64\n",
      "PAP       60357 non-null float64\n",
      "CIT       60357 non-null object\n",
      "OC        60357 non-null bool\n",
      "ENG       60357 non-null object\n",
      "COW       60357 non-null object\n",
      "PUMA      60357 non-null category\n",
      "SEX       60357 non-null object\n",
      "dtypes: bool(1), category(1), float64(4), int64(2), object(4)\n",
      "memory usage: 5.2+ MB\n"
     ]
    }
   ],
   "source": [
    "df.info()"
   ]
  },
  {
   "cell_type": "markdown",
   "metadata": {},
   "source": [
    "As we can see, all of the variables we are looking at appear to have a complete response. Only two variables seem to be missing values:\n",
    "`JWMNP` (missing 46%)\n",
    "`POVPIP` (missing 5%)\n",
    "\n",
    "Based on this, we will proceed cautiously with proividing analysis based on these two variables. Eventually, we may decide to impute the data based on a linear regression for these continuous variables or perhaps another technique."
   ]
  },
  {
   "cell_type": "markdown",
   "metadata": {},
   "source": [
    "### Summary Statistics for continuous variables"
   ]
  },
  {
   "cell_type": "code",
   "execution_count": 5,
   "metadata": {
    "collapsed": false
   },
   "outputs": [
    {
     "data": {
      "text/html": [
       "<div>\n",
       "<table border=\"1\" class=\"dataframe\">\n",
       "  <thead>\n",
       "    <tr style=\"text-align: right;\">\n",
       "      <th></th>\n",
       "      <th>PINCP</th>\n",
       "      <th>POVPIP</th>\n",
       "      <th>JWMNP</th>\n",
       "      <th>AGEP</th>\n",
       "      <th>PWGTP</th>\n",
       "      <th>PAP</th>\n",
       "    </tr>\n",
       "  </thead>\n",
       "  <tbody>\n",
       "    <tr>\n",
       "      <th>count</th>\n",
       "      <td>60357</td>\n",
       "      <td>57892</td>\n",
       "      <td>32486</td>\n",
       "      <td>60357</td>\n",
       "      <td>60357</td>\n",
       "      <td>60357</td>\n",
       "    </tr>\n",
       "    <tr>\n",
       "      <th>mean</th>\n",
       "      <td>38326</td>\n",
       "      <td>315</td>\n",
       "      <td>26</td>\n",
       "      <td>49</td>\n",
       "      <td>99</td>\n",
       "      <td>50</td>\n",
       "    </tr>\n",
       "    <tr>\n",
       "      <th>std</th>\n",
       "      <td>54908</td>\n",
       "      <td>164</td>\n",
       "      <td>22</td>\n",
       "      <td>18</td>\n",
       "      <td>80</td>\n",
       "      <td>661</td>\n",
       "    </tr>\n",
       "    <tr>\n",
       "      <th>min</th>\n",
       "      <td>-12200</td>\n",
       "      <td>0</td>\n",
       "      <td>1</td>\n",
       "      <td>19</td>\n",
       "      <td>1</td>\n",
       "      <td>0</td>\n",
       "    </tr>\n",
       "    <tr>\n",
       "      <th>25%</th>\n",
       "      <td>9000</td>\n",
       "      <td>171</td>\n",
       "      <td>10</td>\n",
       "      <td>34</td>\n",
       "      <td>52</td>\n",
       "      <td>0</td>\n",
       "    </tr>\n",
       "    <tr>\n",
       "      <th>50%</th>\n",
       "      <td>24000</td>\n",
       "      <td>325</td>\n",
       "      <td>20</td>\n",
       "      <td>50</td>\n",
       "      <td>77</td>\n",
       "      <td>0</td>\n",
       "    </tr>\n",
       "    <tr>\n",
       "      <th>75%</th>\n",
       "      <td>49000</td>\n",
       "      <td>501</td>\n",
       "      <td>30</td>\n",
       "      <td>63</td>\n",
       "      <td>120</td>\n",
       "      <td>0</td>\n",
       "    </tr>\n",
       "    <tr>\n",
       "      <th>max</th>\n",
       "      <td>1027000</td>\n",
       "      <td>501</td>\n",
       "      <td>167</td>\n",
       "      <td>95</td>\n",
       "      <td>1505</td>\n",
       "      <td>30000</td>\n",
       "    </tr>\n",
       "  </tbody>\n",
       "</table>\n",
       "</div>"
      ],
      "text/plain": [
       "         PINCP  POVPIP  JWMNP   AGEP  PWGTP    PAP\n",
       "count    60357   57892  32486  60357  60357  60357\n",
       "mean     38326     315     26     49     99     50\n",
       "std      54908     164     22     18     80    661\n",
       "min     -12200       0      1     19      1      0\n",
       "25%       9000     171     10     34     52      0\n",
       "50%      24000     325     20     50     77      0\n",
       "75%      49000     501     30     63    120      0\n",
       "max    1027000     501    167     95   1505  30000"
      ]
     },
     "execution_count": 5,
     "metadata": {},
     "output_type": "execute_result"
    }
   ],
   "source": [
    "df[important_continuous_features].describe().astype('int64')"
   ]
  },
  {
   "cell_type": "code",
   "execution_count": 6,
   "metadata": {
    "collapsed": false
   },
   "outputs": [
    {
     "data": {
      "text/html": [
       "<div>\n",
       "<table border=\"1\" class=\"dataframe\">\n",
       "  <thead>\n",
       "    <tr style=\"text-align: right;\">\n",
       "      <th></th>\n",
       "      <th>PINCP</th>\n",
       "      <th>POVPIP</th>\n",
       "      <th>JWMNP</th>\n",
       "      <th>AGEP</th>\n",
       "      <th>PWGTP</th>\n",
       "      <th>PAP</th>\n",
       "    </tr>\n",
       "  </thead>\n",
       "  <tbody>\n",
       "    <tr>\n",
       "      <th>count</th>\n",
       "      <td>60357</td>\n",
       "      <td>57892</td>\n",
       "      <td>32486</td>\n",
       "      <td>60357</td>\n",
       "      <td>60357</td>\n",
       "      <td>60357</td>\n",
       "    </tr>\n",
       "    <tr>\n",
       "      <th>mean</th>\n",
       "      <td>38326</td>\n",
       "      <td>315</td>\n",
       "      <td>26</td>\n",
       "      <td>49</td>\n",
       "      <td>99</td>\n",
       "      <td>50</td>\n",
       "    </tr>\n",
       "    <tr>\n",
       "      <th>std</th>\n",
       "      <td>54908</td>\n",
       "      <td>164</td>\n",
       "      <td>22</td>\n",
       "      <td>18</td>\n",
       "      <td>80</td>\n",
       "      <td>661</td>\n",
       "    </tr>\n",
       "    <tr>\n",
       "      <th>min</th>\n",
       "      <td>-12200</td>\n",
       "      <td>0</td>\n",
       "      <td>1</td>\n",
       "      <td>19</td>\n",
       "      <td>1</td>\n",
       "      <td>0</td>\n",
       "    </tr>\n",
       "    <tr>\n",
       "      <th>25%</th>\n",
       "      <td>9000</td>\n",
       "      <td>171</td>\n",
       "      <td>10</td>\n",
       "      <td>34</td>\n",
       "      <td>52</td>\n",
       "      <td>0</td>\n",
       "    </tr>\n",
       "    <tr>\n",
       "      <th>50%</th>\n",
       "      <td>24000</td>\n",
       "      <td>325</td>\n",
       "      <td>20</td>\n",
       "      <td>50</td>\n",
       "      <td>77</td>\n",
       "      <td>0</td>\n",
       "    </tr>\n",
       "    <tr>\n",
       "      <th>75%</th>\n",
       "      <td>49000</td>\n",
       "      <td>501</td>\n",
       "      <td>30</td>\n",
       "      <td>63</td>\n",
       "      <td>120</td>\n",
       "      <td>0</td>\n",
       "    </tr>\n",
       "    <tr>\n",
       "      <th>max</th>\n",
       "      <td>1027000</td>\n",
       "      <td>501</td>\n",
       "      <td>167</td>\n",
       "      <td>95</td>\n",
       "      <td>1505</td>\n",
       "      <td>30000</td>\n",
       "    </tr>\n",
       "  </tbody>\n",
       "</table>\n",
       "</div>"
      ],
      "text/plain": [
       "         PINCP  POVPIP  JWMNP   AGEP  PWGTP    PAP\n",
       "count    60357   57892  32486  60357  60357  60357\n",
       "mean     38326     315     26     49     99     50\n",
       "std      54908     164     22     18     80    661\n",
       "min     -12200       0      1     19      1      0\n",
       "25%       9000     171     10     34     52      0\n",
       "50%      24000     325     20     50     77      0\n",
       "75%      49000     501     30     63    120      0\n",
       "max    1027000     501    167     95   1505  30000"
      ]
     },
     "execution_count": 6,
     "metadata": {},
     "output_type": "execute_result"
    }
   ],
   "source": [
    "df[important_continuous_features].describe().astype('int64')"
   ]
  },
  {
   "cell_type": "code",
   "execution_count": 7,
   "metadata": {
    "collapsed": false
   },
   "outputs": [
    {
     "data": {
      "text/html": [
       "<div>\n",
       "<table border=\"1\" class=\"dataframe\">\n",
       "  <thead>\n",
       "    <tr style=\"text-align: right;\">\n",
       "      <th></th>\n",
       "      <th>CIT</th>\n",
       "      <th>OC</th>\n",
       "      <th>ENG</th>\n",
       "      <th>COW</th>\n",
       "      <th>PUMA</th>\n",
       "      <th>SEX</th>\n",
       "    </tr>\n",
       "  </thead>\n",
       "  <tbody>\n",
       "    <tr>\n",
       "      <th>count</th>\n",
       "      <td>60357</td>\n",
       "      <td>60357</td>\n",
       "      <td>60357</td>\n",
       "      <td>60357</td>\n",
       "      <td>60357</td>\n",
       "      <td>60357</td>\n",
       "    </tr>\n",
       "    <tr>\n",
       "      <th>unique</th>\n",
       "      <td>5</td>\n",
       "      <td>1</td>\n",
       "      <td>5</td>\n",
       "      <td>10</td>\n",
       "      <td>982</td>\n",
       "      <td>2</td>\n",
       "    </tr>\n",
       "    <tr>\n",
       "      <th>top</th>\n",
       "      <td>US Born</td>\n",
       "      <td>False</td>\n",
       "      <td>Speaks only English</td>\n",
       "      <td>Private for Profit</td>\n",
       "      <td>300</td>\n",
       "      <td>Female</td>\n",
       "    </tr>\n",
       "    <tr>\n",
       "      <th>freq</th>\n",
       "      <td>51267</td>\n",
       "      <td>60357</td>\n",
       "      <td>49745</td>\n",
       "      <td>28942</td>\n",
       "      <td>1383</td>\n",
       "      <td>31018</td>\n",
       "    </tr>\n",
       "  </tbody>\n",
       "</table>\n",
       "</div>"
      ],
      "text/plain": [
       "            CIT     OC                  ENG                 COW   PUMA     SEX\n",
       "count     60357  60357                60357               60357  60357   60357\n",
       "unique        5      1                    5                  10    982       2\n",
       "top     US Born  False  Speaks only English  Private for Profit    300  Female\n",
       "freq      51267  60357                49745               28942   1383   31018"
      ]
     },
     "execution_count": 7,
     "metadata": {},
     "output_type": "execute_result"
    }
   ],
   "source": [
    "df[importegorical_features].describe()"
   ]
  },
  {
   "cell_type": "markdown",
   "metadata": {},
   "source": [
    "# Visualization"
   ]
  },
  {
   "cell_type": "markdown",
   "metadata": {},
   "source": [
    "Here we explore some of the features which we hope to use for future analysis. First we explor our variable for income PINCP using a histogram. As we can tell, the distribution is very right skewed."
   ]
  },
  {
   "cell_type": "code",
   "execution_count": 8,
   "metadata": {
    "collapsed": false
   },
   "outputs": [
    {
     "data": {
      "image/png": "[encoded data removed]",
      "text/plain": [
       "<matplotlib.figure.Figure at 0x1153c2d90>"
      ]
     },
     "metadata": {},
     "output_type": "display_data"
    }
   ],
   "source": [
    "plt.xlabel('Income')\n",
    "df.PINCP.plot.hist(bins=100)\n",
    "plt.show()"
   ]
  },
  {
   "cell_type": "markdown",
   "metadata": {},
   "source": [
    "Looking at a more detailed view of just income that is less than $150,000, we see what appears to be a peak somewhere around $10,000. Additionally, we see a huge number of of responses who claim to bring in an income of $0. Additional analysis be used to determine if these individuals have supplemted earnings from another source."
   ]
  },
  {
   "cell_type": "markdown",
   "metadata": {},
   "source": [
    "Next we take a look at the distribution of the person's age. It appears that the distribution is fairly uniform. We can see that there is a spike in responses from the baby boomers. Response frequencies tend to trail off after age 65 or so. Strangely, there is spike around age 92. Additional analysis should be done to determine if this spike is in  error."
   ]
  },
  {
   "cell_type": "code",
   "execution_count": 9,
   "metadata": {
    "collapsed": false
   },
   "outputs": [
    {
     "data": {
      "image/png": "[encoded data removed]",
      "text/plain": [
       "<matplotlib.figure.Figure at 0x10d2a8d90>"
      ]
     },
     "metadata": {},
     "output_type": "display_data"
    }
   ],
   "source": [
    "df.AGEP.hist(bins=len(df.AGEP.unique()))\n",
    "plt.show()"
   ]
  },
  {
   "cell_type": "markdown",
   "metadata": {},
   "source": [
    "Next, we look at commute time (`JWMNP`). Although one would expect this to be continuous, we find that there are many spikes in the datset."
   ]
  },
  {
   "cell_type": "code",
   "execution_count": 10,
   "metadata": {
    "collapsed": false
   },
   "outputs": [
    {
     "data": {
      "image/png": "[encoded data removed]",
      "text/plain": [
       "<matplotlib.figure.Figure at 0x11500e2d0>"
      ]
     },
     "metadata": {},
     "output_type": "display_data"
    }
   ],
   "source": [
    "df.JWMNP.hist(bins=len(df.JWMNP.unique()))\n",
    "plt.show()"
   ]
  },
  {
   "cell_type": "markdown",
   "metadata": {},
   "source": [
    "Further analysis into cummute time, we can determine that these large spikes can be attributed to such approximations which are common when describing time in minutes:"
   ]
  },
  {
   "cell_type": "code",
   "execution_count": 11,
   "metadata": {
    "collapsed": false
   },
   "outputs": [
    {
     "data": {
      "image/png": "[encoded data removed]",
      "text/plain": [
       "<matplotlib.figure.Figure at 0x116042910>"
      ]
     },
     "metadata": {},
     "output_type": "display_data"
    }
   ],
   "source": [
    "ax = df.JWMNP[df.JWMNP.notnull()].astype('int64').value_counts() \\\n",
    "    .sort_values().tail().plot(kind='bar')\n",
    "ax.set_xlabel('Minutes')\n",
    "plt.show()"
   ]
  }
 ],
 "metadata": {
  "anaconda-cloud": {},
  "kernelspec": {
   "display_name": "Python 2",
   "language": "python",
   "name": "python2"
  },
  "language_info": {
   "codemirror_mode": {
    "name": "ipython",
    "version": 2
   },
   "file_extension": ".py",
   "mimetype": "text/x-python",
   "name": "python",
   "nbconvert_exporter": "python",
   "pygments_lexer": "ipython2",
   "version": "2.7.13"
  }
 },
 "nbformat": 4,
 "nbformat_minor": 1
}
