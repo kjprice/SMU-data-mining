{
 "cells": [
  {
   "cell_type": "code",
   "execution_count": 1,
   "metadata": {
    "collapsed": false
   },
   "outputs": [],
   "source": [
    "import pandas as pd\n",
    "import numpy as np\n",
    "import matplotlib.pyplot as plt"
   ]
  },
  {
   "cell_type": "code",
   "execution_count": 2,
   "metadata": {
    "collapsed": false
   },
   "outputs": [],
   "source": [
    "person_raw = pd.read_csv('../data/person-subset-2.5percent.csv')"
   ]
  },
  {
   "cell_type": "code",
   "execution_count": 3,
   "metadata": {
    "collapsed": true
   },
   "outputs": [],
   "source": [
    "df = person_raw.copy(deep=True)\n",
    "\n",
    "df = df[df.AGEP > 18]"
   ]
  },
  {
   "cell_type": "code",
   "execution_count": 4,
   "metadata": {
    "collapsed": true
   },
   "outputs": [],
   "source": [
    "### This seems to be necessary to make stacked barplots on one feature\n",
    "df.dummy = True\n",
    "\n",
    "# Take rows where income is less than $150,000\n",
    "df_small_income = df[df.PINCP < 150000]\n",
    "\n",
    "\n",
    "### Define important features\n",
    "important_continuous_features = [\n",
    "    'PINCP',    # Total person's income (signed)\n",
    "    'POVPIP',   # Income-to-poverty ratio recode (continuous)\n",
    "    'JWMNP',    # Travel time to work (continuous)\n",
    "    'AGEP',     # Age of person (continuous 0-95)\n",
    "    'PWGTP',    # Person's weight (continuous)\n",
    "    'PAP',      # Public assistance income in past 12 months\n",
    "]\n",
    "import_categorical_features = [\n",
    "    'CIT_CAT',  # Citizenship status (categorical - string)\n",
    "    'OC_CAT',   # Own child (Boolean)\n",
    "    'ENG_CAT',  # Ability to speak English (ordinal 1-4)\n",
    "    'COW',      # Class of worker (categorical - string)\n",
    "    'PUMA',     # # Public use microdata area code (PUMA) based on 2010 Census definition\n",
    "]\n",
    "important_features = important_continuous_features + import_categorical_features;\n",
    "\n",
    "\n",
    "# Clean important features\n",
    "### Change from numeric to categorical (ordinal)\n",
    "df['PUMA'] = df.PUMA.astype('category')\n",
    "df['CIT_CAT'] = df.CIT.astype('category').astype('str')\n",
    "df.CIT_CAT = df.CIT_CAT \\\n",
    "    .replace('1', 'US Born') \\\n",
    "    .replace('2', 'US Territory Born') \\\n",
    "    .replace('3', 'Born Abroad)') \\\n",
    "    .replace('4', 'Naturalized') \\\n",
    "    .replace('5', 'Non-Citizen')\n",
    "\n",
    "df['OC_CAT'] = df.OC.astype('category').astype(bool)\n",
    "\n",
    "df['ENG_CAT'] = df.ENG.astype('category').astype('str')\n",
    "df.ENG_CAT = df.ENG_CAT \\\n",
    "    .replace('nan', 'Speaks only English') \\\n",
    "    .replace('1.0', 'Very well') \\\n",
    "    .replace('2.0', 'Well') \\\n",
    "    .replace('3.0', 'Not well') \\\n",
    "    .replace('4.0', 'Not at all')\n",
    "\n",
    "df['COW'] = df.COW.astype('category').astype('str')\n",
    "df.COW = df.COW \\\n",
    "    .replace('b', 'child') \\\n",
    "    .replace('1.0', 'Private for Profit') \\\n",
    "    .replace('2.0', 'Private Non-Profit') \\\n",
    "    .replace('3.0', 'Local Government') \\\n",
    "    .replace('4.0', 'State Government') \\\n",
    "    .replace('5.0', 'Federal Government') \\\n",
    "    .replace('6.0', 'Self Employed (not incorportated)') \\\n",
    "    .replace('7.0', 'Self Employed (incorporated)') \\\n",
    "    .replace('8.0', 'Family Business - no pay') \\\n",
    "    .replace('9.0', 'Unemployeed')\n",
    "\n",
    "df['JWTR'] = df.JWTR.astype('category').astype('str')\n",
    "df.JWTR = df.JWTR \\\n",
    "    .replace('1.0', 'Car, truck, or van') \\\n",
    "    .replace('2.0', 'Bus or trolley bus') \\\n",
    "    .replace('3.0', 'Streetcar or trolley car') \\\n",
    "    .replace('4.0', 'Subway or elevated') \\\n",
    "    .replace('5.0', 'Railroad') \\\n",
    "    .replace('6.0', 'Ferryboat') \\\n",
    "    .replace('7.0', 'Taxicab') \\\n",
    "    .replace('8.0', 'Motorcycle') \\\n",
    "    .replace('9.0', 'Bicycle') \\\n",
    "    .replace('10.0', 'Walked') \\\n",
    "    .replace('11.0', 'Worked at home') \\\n",
    "    .replace('12.0', 'Other method') \\\n",
    "    .replace('nan', 'Non-Commuter (unemployed, child, military)')\n",
    "\n",
    "df['ST'] = df.ST.astype('category').astype('str')\n",
    "df.ST = df.ST \\\n",
    "    .replace('1', 'AL') \\\n",
    "    .replace('2', 'AK') \\\n",
    "    .replace('4', 'AZ') \\\n",
    "    .replace('5', 'AR') \\\n",
    "    .replace('6', 'CA') \\\n",
    "    .replace('8', 'CO') \\\n",
    "    .replace('9', 'CT') \\\n",
    "    .replace('10', 'DE') \\\n",
    "    .replace('11', 'DC') \\\n",
    "    .replace('12', 'FL') \\\n",
    "    .replace('13', 'GA') \\\n",
    "    .replace('15', 'HI') \\\n",
    "    .replace('16', 'ID') \\\n",
    "    .replace('17', 'IL') \\\n",
    "    .replace('18', 'IN') \\\n",
    "    .replace('19', 'IA') \\\n",
    "    .replace('20', 'KS') \\\n",
    "    .replace('21', 'KY') \\\n",
    "    .replace('22', 'LA') \\\n",
    "    .replace('23', 'ME') \\\n",
    "    .replace('24', 'MD') \\\n",
    "    .replace('25', 'MA') \\\n",
    "    .replace('26', 'MI') \\\n",
    "    .replace('27', 'MN') \\\n",
    "    .replace('28', 'MS') \\\n",
    "    .replace('29', 'MO') \\\n",
    "    .replace('30', 'MT') \\\n",
    "    .replace('31', 'NE') \\\n",
    "    .replace('32', 'NV') \\\n",
    "    .replace('33', 'NH') \\\n",
    "    .replace('34', 'NJ') \\\n",
    "    .replace('35', 'NM') \\\n",
    "    .replace('36', 'NY') \\\n",
    "    .replace('37', 'NC') \\\n",
    "    .replace('38', 'ND') \\\n",
    "    .replace('39', 'OH') \\\n",
    "    .replace('40', 'OK') \\\n",
    "    .replace('41', 'OR') \\\n",
    "    .replace('42', 'PA') \\\n",
    "    .replace('44', 'RI') \\\n",
    "    .replace('45', 'SC') \\\n",
    "    .replace('46', 'SD') \\\n",
    "    .replace('47', 'TN') \\\n",
    "    .replace('48', 'TX') \\\n",
    "    .replace('49', 'UT') \\\n",
    "    .replace('50', 'VT') \\\n",
    "    .replace('51', 'VA') \\\n",
    "    .replace('53', 'WA') \\\n",
    "    .replace('54', 'WV') \\\n",
    "    .replace('55', 'WI') \\\n",
    "    .replace('56', 'WY') \\\n",
    "    .replace('72', 'PR')\n",
    "\n",
    "df['GCL'] = df.GCL.astype('category').astype('str')\n",
    "df.GCL = df.GCL \\\n",
    "    .replace('1.0', 'Grandparents living with Grandchildren') \\\n",
    "    .replace('2.0', 'Grandparents do not live with grandchildren') \\\n",
    "    .replace('nan', 'less than 30 years old')\n",
    "\n",
    "df['MAR'] = df.MAR.astype('category').astype('str')\n",
    "df.MAR = df.MAR \\\n",
    "    .replace('1', 'Married') \\\n",
    "    .replace('2', 'Widowed') \\\n",
    "    .replace('3', 'Divorced') \\\n",
    "    .replace('4', 'Separated') \\\n",
    "    .replace('5', 'Never Married') \\\n",
    "\n",
    "df['SEX'] = df.SEX.astype('category').astype('str')\n",
    "df.SEX = df.SEX \\\n",
    "    .replace('1', 'Male') \\\n",
    "    .replace('2', 'Female')\n"
   ]
  },
  {
   "cell_type": "code",
   "execution_count": 5,
   "metadata": {
    "collapsed": false
   },
   "outputs": [],
   "source": [
    "df = df[important_features]"
   ]
  },
  {
   "cell_type": "markdown",
   "metadata": {},
   "source": [
    "### Variable Overview"
   ]
  },
  {
   "cell_type": "code",
   "execution_count": 6,
   "metadata": {
    "collapsed": false
   },
   "outputs": [
    {
     "name": "stdout",
     "output_type": "stream",
     "text": [
      "<class 'pandas.core.frame.DataFrame'>\n",
      "Int64Index: 60357 entries, 0 to 78317\n",
      "Data columns (total 11 columns):\n",
      "PINCP      60357 non-null float64\n",
      "POVPIP     57892 non-null float64\n",
      "JWMNP      32486 non-null float64\n",
      "AGEP       60357 non-null int64\n",
      "PWGTP      60357 non-null int64\n",
      "PAP        60357 non-null float64\n",
      "CIT_CAT    60357 non-null object\n",
      "OC_CAT     60357 non-null bool\n",
      "ENG_CAT    60357 non-null object\n",
      "COW        60357 non-null object\n",
      "PUMA       60357 non-null category\n",
      "dtypes: bool(1), category(1), float64(4), int64(2), object(3)\n",
      "memory usage: 4.8+ MB\n"
     ]
    }
   ],
   "source": [
    "df.info()"
   ]
  },
  {
   "cell_type": "markdown",
   "metadata": {},
   "source": [
    "As we can see, all of the variables we are looking at appear to have a complete response. Only two variables seem to be missing values:\n",
    "`JWMNP` (missing 46%)\n",
    "`POVPIP` (missing 5%)\n",
    "\n",
    "Based on this, we will proceed cautiously with proividing analysis based on these two variables. Eventually, we may decide to impute the data based on a linear regression for these continuous variables or perhaps another technique."
   ]
  },
  {
   "cell_type": "markdown",
   "metadata": {},
   "source": [
    "### Summary Statistics for continuous variables"
   ]
  },
  {
   "cell_type": "code",
   "execution_count": 7,
   "metadata": {
    "collapsed": false
   },
   "outputs": [
    {
     "data": {
      "text/html": [
       "<div>\n",
       "<table border=\"1\" class=\"dataframe\">\n",
       "  <thead>\n",
       "    <tr style=\"text-align: right;\">\n",
       "      <th></th>\n",
       "      <th>PINCP</th>\n",
       "      <th>POVPIP</th>\n",
       "      <th>JWMNP</th>\n",
       "      <th>AGEP</th>\n",
       "      <th>PWGTP</th>\n",
       "      <th>PAP</th>\n",
       "    </tr>\n",
       "  </thead>\n",
       "  <tbody>\n",
       "    <tr>\n",
       "      <th>count</th>\n",
       "      <td>60357</td>\n",
       "      <td>57892</td>\n",
       "      <td>32486</td>\n",
       "      <td>60357</td>\n",
       "      <td>60357</td>\n",
       "      <td>60357</td>\n",
       "    </tr>\n",
       "    <tr>\n",
       "      <th>mean</th>\n",
       "      <td>38326</td>\n",
       "      <td>315</td>\n",
       "      <td>26</td>\n",
       "      <td>49</td>\n",
       "      <td>99</td>\n",
       "      <td>50</td>\n",
       "    </tr>\n",
       "    <tr>\n",
       "      <th>std</th>\n",
       "      <td>54908</td>\n",
       "      <td>164</td>\n",
       "      <td>22</td>\n",
       "      <td>18</td>\n",
       "      <td>80</td>\n",
       "      <td>661</td>\n",
       "    </tr>\n",
       "    <tr>\n",
       "      <th>min</th>\n",
       "      <td>-12200</td>\n",
       "      <td>0</td>\n",
       "      <td>1</td>\n",
       "      <td>19</td>\n",
       "      <td>1</td>\n",
       "      <td>0</td>\n",
       "    </tr>\n",
       "    <tr>\n",
       "      <th>25%</th>\n",
       "      <td>9000</td>\n",
       "      <td>171</td>\n",
       "      <td>10</td>\n",
       "      <td>34</td>\n",
       "      <td>52</td>\n",
       "      <td>0</td>\n",
       "    </tr>\n",
       "    <tr>\n",
       "      <th>50%</th>\n",
       "      <td>24000</td>\n",
       "      <td>325</td>\n",
       "      <td>20</td>\n",
       "      <td>50</td>\n",
       "      <td>77</td>\n",
       "      <td>0</td>\n",
       "    </tr>\n",
       "    <tr>\n",
       "      <th>75%</th>\n",
       "      <td>49000</td>\n",
       "      <td>501</td>\n",
       "      <td>30</td>\n",
       "      <td>63</td>\n",
       "      <td>120</td>\n",
       "      <td>0</td>\n",
       "    </tr>\n",
       "    <tr>\n",
       "      <th>max</th>\n",
       "      <td>1027000</td>\n",
       "      <td>501</td>\n",
       "      <td>167</td>\n",
       "      <td>95</td>\n",
       "      <td>1505</td>\n",
       "      <td>30000</td>\n",
       "    </tr>\n",
       "  </tbody>\n",
       "</table>\n",
       "</div>"
      ],
      "text/plain": [
       "         PINCP  POVPIP  JWMNP   AGEP  PWGTP    PAP\n",
       "count    60357   57892  32486  60357  60357  60357\n",
       "mean     38326     315     26     49     99     50\n",
       "std      54908     164     22     18     80    661\n",
       "min     -12200       0      1     19      1      0\n",
       "25%       9000     171     10     34     52      0\n",
       "50%      24000     325     20     50     77      0\n",
       "75%      49000     501     30     63    120      0\n",
       "max    1027000     501    167     95   1505  30000"
      ]
     },
     "execution_count": 7,
     "metadata": {},
     "output_type": "execute_result"
    }
   ],
   "source": [
    "df[important_continuous_features].describe().astype('int64')"
   ]
  },
  {
   "cell_type": "markdown",
   "metadata": {},
   "source": [
    "### Summary Statistics for categorical variables"
   ]
  },
  {
   "cell_type": "code",
   "execution_count": 8,
   "metadata": {
    "collapsed": false
   },
   "outputs": [
    {
     "data": {
      "text/html": [
       "<div>\n",
       "<table border=\"1\" class=\"dataframe\">\n",
       "  <thead>\n",
       "    <tr style=\"text-align: right;\">\n",
       "      <th></th>\n",
       "      <th>CIT_CAT</th>\n",
       "      <th>OC_CAT</th>\n",
       "      <th>ENG_CAT</th>\n",
       "      <th>COW</th>\n",
       "      <th>PUMA</th>\n",
       "    </tr>\n",
       "  </thead>\n",
       "  <tbody>\n",
       "    <tr>\n",
       "      <th>count</th>\n",
       "      <td>60357</td>\n",
       "      <td>60357</td>\n",
       "      <td>60357</td>\n",
       "      <td>60357</td>\n",
       "      <td>60357</td>\n",
       "    </tr>\n",
       "    <tr>\n",
       "      <th>unique</th>\n",
       "      <td>5</td>\n",
       "      <td>1</td>\n",
       "      <td>5</td>\n",
       "      <td>10</td>\n",
       "      <td>982</td>\n",
       "    </tr>\n",
       "    <tr>\n",
       "      <th>top</th>\n",
       "      <td>US Born</td>\n",
       "      <td>False</td>\n",
       "      <td>Speaks only English</td>\n",
       "      <td>Private for Profit</td>\n",
       "      <td>300</td>\n",
       "    </tr>\n",
       "    <tr>\n",
       "      <th>freq</th>\n",
       "      <td>51267</td>\n",
       "      <td>60357</td>\n",
       "      <td>49745</td>\n",
       "      <td>28942</td>\n",
       "      <td>1383</td>\n",
       "    </tr>\n",
       "  </tbody>\n",
       "</table>\n",
       "</div>"
      ],
      "text/plain": [
       "        CIT_CAT OC_CAT              ENG_CAT                 COW   PUMA\n",
       "count     60357  60357                60357               60357  60357\n",
       "unique        5      1                    5                  10    982\n",
       "top     US Born  False  Speaks only English  Private for Profit    300\n",
       "freq      51267  60357                49745               28942   1383"
      ]
     },
     "execution_count": 8,
     "metadata": {},
     "output_type": "execute_result"
    }
   ],
   "source": [
    "df[import_categorical_features].describe()"
   ]
  }
 ],
 "metadata": {
  "kernelspec": {
   "display_name": "Python 3",
   "language": "python",
   "name": "python3"
  },
  "language_info": {
   "codemirror_mode": {
    "name": "ipython",
    "version": 3
   },
   "file_extension": ".py",
   "mimetype": "text/x-python",
   "name": "python",
   "nbconvert_exporter": "python",
   "pygments_lexer": "ipython3",
   "version": "3.6.0"
  }
 },
 "nbformat": 4,
 "nbformat_minor": 2
}
