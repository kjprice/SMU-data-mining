{
 "cells": [
  {
   "cell_type": "markdown",
   "metadata": {},
   "source": [
    "From https://turi.com/learn/userguide/deployment/pipeline-example.html"
   ]
  },
  {
   "cell_type": "code",
   "execution_count": 14,
   "metadata": {
    "collapsed": true
   },
   "outputs": [],
   "source": [
    "import graphlab as gl"
   ]
  },
  {
   "cell_type": "code",
   "execution_count": 15,
   "metadata": {
    "collapsed": true
   },
   "outputs": [],
   "source": [
    "def clean_file(path):\n",
    "    \"\"\"\n",
    "    Takes a CSV file passed in as a param and cleans it into an SFrame.\n",
    "    In particular, it parses and drops None values.\n",
    "    \"\"\"\n",
    "    import graphlab as gl\n",
    "\n",
    "    sf = gl.SFrame.read_csv(path, delimiter='\\t')\n",
    "    sf = sf.dropna()\n",
    "    return sf"
   ]
  },
  {
   "cell_type": "code",
   "execution_count": 16,
   "metadata": {
    "collapsed": true
   },
   "outputs": [],
   "source": [
    "def train_model(data):\n",
    "    \"\"\"\n",
    "    Takes an SFrame as input and uses it to train a model,\n",
    "    setting the train and test sets as outputs along with the trained\n",
    "    model.\n",
    "    \"\"\"\n",
    "    import graphlab as gl\n",
    "\n",
    "    model = gl.recommender.create(data, user_id='user',\n",
    "                                  item_id='movie',\n",
    "                                  target='rating')\n",
    "    return model"
   ]
  },
  {
   "cell_type": "code",
   "execution_count": 17,
   "metadata": {
    "collapsed": true
   },
   "outputs": [],
   "source": [
    "def recommend_items(model, data):\n",
    "    recommendations = model.recommend(users=data['user'])\n",
    "    return recommendations"
   ]
  },
  {
   "cell_type": "code",
   "execution_count": 18,
   "metadata": {
    "collapsed": true
   },
   "outputs": [],
   "source": [
    "def my_workflow(path):\n",
    "    # Clean file\n",
    "    data = clean_file(path)\n",
    "\n",
    "    # Train model.\n",
    "    model = train_model(data)\n",
    "\n",
    "    # Make recommendations.\n",
    "    recommendations = recommend_items(model, data)\n",
    "\n",
    "    # Return the SFrame of recommendations.\n",
    "    return recommendations"
   ]
  },
  {
   "cell_type": "code",
   "execution_count": 20,
   "metadata": {
    "collapsed": false
   },
   "outputs": [
    {
     "name": "stderr",
     "output_type": "stream",
     "text": [
      "[INFO] graphlab.connect.aws._ec2: Launching an m3.xlarge instance in the us-west-2c availability zone, with id: i-070fb740926694ee4. You will be responsible for the cost of this instance.\n",
      "[INFO] graphlab.deploy._executionenvironment: Waiting for i-070fb740926694ee4 to start up.\n"
     ]
    },
    {
     "ename": "RuntimeError",
     "evalue": "Unable to start host(s). Please terminate manually from the AWS console.",
     "output_type": "error",
     "traceback": [
      "\u001b[0;31m---------------------------------------------------------------------------\u001b[0m",
      "\u001b[0;31mRuntimeError\u001b[0m                              Traceback (most recent call last)",
      "\u001b[0;32m<ipython-input-20-5816cc1c51b1>\u001b[0m in \u001b[0;36m<module>\u001b[0;34m()\u001b[0m\n\u001b[1;32m      6\u001b[0m                                    \u001b[0ms3_path\u001b[0m\u001b[0;34m=\u001b[0m\u001b[0;34m's3://graphlab-deployment-smu/test'\u001b[0m\u001b[0;34m,\u001b[0m\u001b[0;34m\u001b[0m\u001b[0m\n\u001b[1;32m      7\u001b[0m                                    \u001b[0mec2_config\u001b[0m\u001b[0;34m=\u001b[0m\u001b[0mec2config\u001b[0m\u001b[0;34m,\u001b[0m\u001b[0;34m\u001b[0m\u001b[0m\n\u001b[0;32m----> 8\u001b[0;31m                                   idle_shutdown_timeout=1000000)\n\u001b[0m\u001b[1;32m      9\u001b[0m \u001b[0;34m\u001b[0m\u001b[0m\n\u001b[1;32m     10\u001b[0m job_ec2 = gl.deploy.job.create(my_workflow,\n",
      "\u001b[0;32m/Users/kjprice/anaconda/envs/gl-env/lib/python2.7/site-packages/graphlab/deploy/ec2_cluster.pyc\u001b[0m in \u001b[0;36mcreate\u001b[0;34m(name, s3_path, ec2_config, num_hosts, additional_packages, idle_shutdown_timeout)\u001b[0m\n\u001b[1;32m     81\u001b[0m     \u001b[0mcluster\u001b[0m \u001b[0;34m=\u001b[0m \u001b[0mEc2Cluster\u001b[0m\u001b[0;34m(\u001b[0m\u001b[0mec2_config\u001b[0m\u001b[0;34m,\u001b[0m \u001b[0ms3_path\u001b[0m\u001b[0;34m,\u001b[0m \u001b[0mname\u001b[0m\u001b[0;34m,\u001b[0m \u001b[0mnum_hosts\u001b[0m\u001b[0;34m,\u001b[0m \u001b[0madditional_packages\u001b[0m\u001b[0;34m,\u001b[0m \u001b[0midle_shutdown_timeout\u001b[0m\u001b[0;34m)\u001b[0m\u001b[0;34m\u001b[0m\u001b[0m\n\u001b[1;32m     82\u001b[0m \u001b[0;34m\u001b[0m\u001b[0m\n\u001b[0;32m---> 83\u001b[0;31m     \u001b[0mcluster\u001b[0m\u001b[0;34m.\u001b[0m\u001b[0mstart\u001b[0m\u001b[0;34m(\u001b[0m\u001b[0;34m)\u001b[0m\u001b[0;34m\u001b[0m\u001b[0m\n\u001b[0m\u001b[1;32m     84\u001b[0m     \u001b[0;32mreturn\u001b[0m \u001b[0mcluster\u001b[0m\u001b[0;34m\u001b[0m\u001b[0m\n\u001b[1;32m     85\u001b[0m \u001b[0;34m\u001b[0m\u001b[0m\n",
      "\u001b[0;32m/Users/kjprice/anaconda/envs/gl-env/lib/python2.7/site-packages/graphlab/deploy/ec2_cluster.pyc\u001b[0m in \u001b[0;36mstart\u001b[0;34m(self)\u001b[0m\n\u001b[1;32m    231\u001b[0m                                                                        \u001b[0mself\u001b[0m\u001b[0;34m.\u001b[0m\u001b[0mnum_hosts\u001b[0m\u001b[0;34m,\u001b[0m\u001b[0;34m\u001b[0m\u001b[0m\n\u001b[1;32m    232\u001b[0m                                                                        \u001b[0mself\u001b[0m\u001b[0;34m.\u001b[0m\u001b[0madditional_packages\u001b[0m\u001b[0;34m,\u001b[0m\u001b[0;34m\u001b[0m\u001b[0m\n\u001b[0;32m--> 233\u001b[0;31m                                                                        \u001b[0mself\u001b[0m\u001b[0;34m.\u001b[0m\u001b[0midle_shutdown_timeout\u001b[0m\u001b[0;34m\u001b[0m\u001b[0m\n\u001b[0m\u001b[1;32m    234\u001b[0m                                                                        )\n\u001b[1;32m    235\u001b[0m         \u001b[0mself\u001b[0m\u001b[0;34m.\u001b[0m\u001b[0m_save\u001b[0m\u001b[0;34m(\u001b[0m\u001b[0;34m)\u001b[0m\u001b[0;34m\u001b[0m\u001b[0m\n",
      "\u001b[0;32m/Users/kjprice/anaconda/envs/gl-env/lib/python2.7/site-packages/graphlab/deploy/_executionenvironment.pyc\u001b[0m in \u001b[0;36m_start_commander_host\u001b[0;34m(env_name, config, s3_folder_path, num_hosts, additional_packages, idle_shutdown_timeout)\u001b[0m\n\u001b[1;32m    370\u001b[0m             \u001b[0m_wait_for_host_to_start_up\u001b[0m\u001b[0;34m(\u001b[0m\u001b[0;34m)\u001b[0m\u001b[0;34m\u001b[0m\u001b[0m\n\u001b[1;32m    371\u001b[0m         \u001b[0;32mexcept\u001b[0m\u001b[0;34m:\u001b[0m\u001b[0;34m\u001b[0m\u001b[0m\n\u001b[0;32m--> 372\u001b[0;31m             raise RuntimeError('Unable to start host(s). Please terminate '\n\u001b[0m\u001b[1;32m    373\u001b[0m                                'manually from the AWS console.')\n\u001b[1;32m    374\u001b[0m \u001b[0;34m\u001b[0m\u001b[0m\n",
      "\u001b[0;31mRuntimeError\u001b[0m: Unable to start host(s). Please terminate manually from the AWS console."
     ]
    }
   ],
   "source": [
    "ec2config = gl.deploy.Ec2Config(instance_type='m3.xlarge',\n",
    "                                aws_access_key_id='xxxxx',\n",
    "                                aws_secret_access_key='xxxxx')\n",
    "\n",
    "ec2 = gl.deploy.ec2_cluster.create(name='ec2',\n",
    "                                   s3_path='s3://graphlab-deployment-smu/test',\n",
    "                                   ec2_config=ec2config,\n",
    "                                  idle_shutdown_timeout=1000000)\n",
    "\n",
    "job_ec2 = gl.deploy.job.create(my_workflow,\n",
    "        environment=ec2,\n",
    "        path='https://static.turi.com/datasets/movie_ratings/sample.large')\n",
    "\n",
    "# get the results\n",
    "job_ec2.get_results()"
   ]
  },
  {
   "cell_type": "code",
   "execution_count": null,
   "metadata": {
    "collapsed": true
   },
   "outputs": [],
   "source": []
  }
 ],
 "metadata": {
  "kernelspec": {
   "display_name": "Python [conda env:gl-env]",
   "language": "python",
   "name": "conda-env-gl-env-py"
  },
  "language_info": {
   "codemirror_mode": {
    "name": "ipython",
    "version": 2
   },
   "file_extension": ".py",
   "mimetype": "text/x-python",
   "name": "python",
   "nbconvert_exporter": "python",
   "pygments_lexer": "ipython2",
   "version": "2.7.11"
  }
 },
 "nbformat": 4,
 "nbformat_minor": 2
}
