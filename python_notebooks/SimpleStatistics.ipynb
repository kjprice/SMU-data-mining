{
 "cells": [
  {
   "cell_type": "code",
   "execution_count": 1,
   "metadata": {
    "collapsed": false
   },
   "outputs": [],
   "source": [
    "import pandas as pd\n",
    "import numpy as np\n",
    "import matplotlib.pyplot as plt"
   ]
  },
  {
   "cell_type": "code",
   "execution_count": 2,
   "metadata": {
    "collapsed": false
   },
   "outputs": [],
   "source": [
    "person_raw = pd.read_csv('../data/person-subset-2.5percent.csv')"
   ]
  },
  {
   "cell_type": "code",
   "execution_count": 3,
   "metadata": {
    "collapsed": false
   },
   "outputs": [
    {
     "name": "stdout",
     "output_type": "stream",
     "text": [
      "78320 rows before removing children\n",
      "60357 rows after removing children\n"
     ]
    }
   ],
   "source": [
    "execfile('../python/clean_data_person.py')"
   ]
  },
  {
   "cell_type": "code",
   "execution_count": 4,
   "metadata": {
    "collapsed": false
   },
   "outputs": [],
   "source": [
    "df = df[important_features]"
   ]
  },
  {
   "cell_type": "markdown",
   "metadata": {},
   "source": [
    "### Variable Overview"
   ]
  },
  {
   "cell_type": "code",
   "execution_count": 5,
   "metadata": {
    "collapsed": false
   },
   "outputs": [
    {
     "name": "stdout",
     "output_type": "stream",
     "text": [
      "<class 'pandas.core.frame.DataFrame'>\n",
      "Int64Index: 60357 entries, 0 to 78317\n",
      "Data columns (total 11 columns):\n",
      "PINCP      60357 non-null float64\n",
      "POVPIP     57892 non-null float64\n",
      "JWMNP      32486 non-null float64\n",
      "AGEP       60357 non-null int64\n",
      "PWGTP      60357 non-null int64\n",
      "PAP        60357 non-null float64\n",
      "CIT    60357 non-null object\n",
      "OC     60357 non-null bool\n",
      "ENG    60357 non-null object\n",
      "COW        60357 non-null object\n",
      "PUMA       60357 non-null category\n",
      "dtypes: bool(1), category(1), float64(4), int64(2), object(3)\n",
      "memory usage: 4.8+ MB\n"
     ]
    }
   ],
   "source": [
    "df.info()"
   ]
  },
  {
   "cell_type": "markdown",
   "metadata": {},
   "source": [
    "As we can see, all of the variables we are looking at appear to have a complete response. Only two variables seem to be missing values:\n",
    "`JWMNP` (missing 46%)\n",
    "`POVPIP` (missing 5%)\n",
    "\n",
    "Based on this, we will proceed cautiously with proividing analysis based on these two variables. Eventually, we may decide to impute the data based on a linear regression for these continuous variables or perhaps another technique."
   ]
  },
  {
   "cell_type": "markdown",
   "metadata": {},
   "source": [
    "### Summary Statistics for continuous variables"
   ]
  },
  {
   "cell_type": "code",
   "execution_count": 6,
   "metadata": {
    "collapsed": false
   },
   "outputs": [
    {
     "data": {
      "text/html": [
       "<div>\n",
       "<table border=\"1\" class=\"dataframe\">\n",
       "  <thead>\n",
       "    <tr style=\"text-align: right;\">\n",
       "      <th></th>\n",
       "      <th>PINCP</th>\n",
       "      <th>POVPIP</th>\n",
       "      <th>JWMNP</th>\n",
       "      <th>AGEP</th>\n",
       "      <th>PWGTP</th>\n",
       "      <th>PAP</th>\n",
       "    </tr>\n",
       "  </thead>\n",
       "  <tbody>\n",
       "    <tr>\n",
       "      <th>count</th>\n",
       "      <td>60357</td>\n",
       "      <td>57892</td>\n",
       "      <td>32486</td>\n",
       "      <td>60357</td>\n",
       "      <td>60357</td>\n",
       "      <td>60357</td>\n",
       "    </tr>\n",
       "    <tr>\n",
       "      <th>mean</th>\n",
       "      <td>38326</td>\n",
       "      <td>315</td>\n",
       "      <td>26</td>\n",
       "      <td>49</td>\n",
       "      <td>99</td>\n",
       "      <td>50</td>\n",
       "    </tr>\n",
       "    <tr>\n",
       "      <th>std</th>\n",
       "      <td>54908</td>\n",
       "      <td>164</td>\n",
       "      <td>22</td>\n",
       "      <td>18</td>\n",
       "      <td>80</td>\n",
       "      <td>661</td>\n",
       "    </tr>\n",
       "    <tr>\n",
       "      <th>min</th>\n",
       "      <td>-12200</td>\n",
       "      <td>0</td>\n",
       "      <td>1</td>\n",
       "      <td>19</td>\n",
       "      <td>1</td>\n",
       "      <td>0</td>\n",
       "    </tr>\n",
       "    <tr>\n",
       "      <th>25%</th>\n",
       "      <td>9000</td>\n",
       "      <td>171</td>\n",
       "      <td>10</td>\n",
       "      <td>34</td>\n",
       "      <td>52</td>\n",
       "      <td>0</td>\n",
       "    </tr>\n",
       "    <tr>\n",
       "      <th>50%</th>\n",
       "      <td>24000</td>\n",
       "      <td>325</td>\n",
       "      <td>20</td>\n",
       "      <td>50</td>\n",
       "      <td>77</td>\n",
       "      <td>0</td>\n",
       "    </tr>\n",
       "    <tr>\n",
       "      <th>75%</th>\n",
       "      <td>49000</td>\n",
       "      <td>501</td>\n",
       "      <td>30</td>\n",
       "      <td>63</td>\n",
       "      <td>120</td>\n",
       "      <td>0</td>\n",
       "    </tr>\n",
       "    <tr>\n",
       "      <th>max</th>\n",
       "      <td>1027000</td>\n",
       "      <td>501</td>\n",
       "      <td>167</td>\n",
       "      <td>95</td>\n",
       "      <td>1505</td>\n",
       "      <td>30000</td>\n",
       "    </tr>\n",
       "  </tbody>\n",
       "</table>\n",
       "</div>"
      ],
      "text/plain": [
       "         PINCP  POVPIP  JWMNP   AGEP  PWGTP    PAP\n",
       "count    60357   57892  32486  60357  60357  60357\n",
       "mean     38326     315     26     49     99     50\n",
       "std      54908     164     22     18     80    661\n",
       "min     -12200       0      1     19      1      0\n",
       "25%       9000     171     10     34     52      0\n",
       "50%      24000     325     20     50     77      0\n",
       "75%      49000     501     30     63    120      0\n",
       "max    1027000     501    167     95   1505  30000"
      ]
     },
     "execution_count": 6,
     "metadata": {},
     "output_type": "execute_result"
    }
   ],
   "source": [
    "df[important_continuous_features].describe().astype('int64')"
   ]
  },
  {
   "cell_type": "markdown",
   "metadata": {},
   "source": [
    "### Summary Statistics for categorical variables"
   ]
  },
  {
   "cell_type": "code",
   "execution_count": 7,
   "metadata": {
    "collapsed": false
   },
   "outputs": [
    {
     "data": {
      "text/html": [
       "<div>\n",
       "<table border=\"1\" class=\"dataframe\">\n",
       "  <thead>\n",
       "    <tr style=\"text-align: right;\">\n",
       "      <th></th>\n",
       "      <th>CIT</th>\n",
       "      <th>OC</th>\n",
       "      <th>ENG</th>\n",
       "      <th>COW</th>\n",
       "      <th>PUMA</th>\n",
       "    </tr>\n",
       "  </thead>\n",
       "  <tbody>\n",
       "    <tr>\n",
       "      <th>count</th>\n",
       "      <td>60357</td>\n",
       "      <td>60357</td>\n",
       "      <td>60357</td>\n",
       "      <td>60357</td>\n",
       "      <td>60357</td>\n",
       "    </tr>\n",
       "    <tr>\n",
       "      <th>unique</th>\n",
       "      <td>5</td>\n",
       "      <td>1</td>\n",
       "      <td>5</td>\n",
       "      <td>10</td>\n",
       "      <td>982</td>\n",
       "    </tr>\n",
       "    <tr>\n",
       "      <th>top</th>\n",
       "      <td>US Born</td>\n",
       "      <td>False</td>\n",
       "      <td>Speaks only English</td>\n",
       "      <td>Private for Profit</td>\n",
       "      <td>300</td>\n",
       "    </tr>\n",
       "    <tr>\n",
       "      <th>freq</th>\n",
       "      <td>51267</td>\n",
       "      <td>60357</td>\n",
       "      <td>49745</td>\n",
       "      <td>28942</td>\n",
       "      <td>1383</td>\n",
       "    </tr>\n",
       "  </tbody>\n",
       "</table>\n",
       "</div>"
      ],
      "text/plain": [
       "        CIT OC              ENG                 COW   PUMA\n",
       "count     60357  60357                60357               60357  60357\n",
       "unique        5      1                    5                  10    982\n",
       "top     US Born  False  Speaks only English  Private for Profit    300\n",
       "freq      51267  60357                49745               28942   1383"
      ]
     },
     "execution_count": 7,
     "metadata": {},
     "output_type": "execute_result"
    }
   ],
   "source": [
    "df[importegorical_features].describe()"
   ]
  }
 ],
 "metadata": {
  "kernelspec": {
   "display_name": "Python 2",
   "language": "python",
   "name": "python2"
  },
  "language_info": {
   "codemirror_mode": {
    "name": "ipython",
    "version": 2
   },
   "file_extension": ".py",
   "mimetype": "text/x-python",
   "name": "python",
   "nbconvert_exporter": "python",
   "pygments_lexer": "ipython2",
   "version": "2.7.13"
  }
 },
 "nbformat": 4,
 "nbformat_minor": 2
}
