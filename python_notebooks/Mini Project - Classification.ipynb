{
 "cells": [
  {
   "cell_type": "markdown",
   "metadata": {},
   "source": [
    "### Introduction\n",
    "We continue our work, with census data, from [Project 1](https://gist.github.com/kjprice/820c75bd8e5c3f2558f4576f38893dae), to take a deeper look into our data. We move beyond exploratory data analysis and will now look into classifying the data based on the given attributes. "
   ]
  },
  {
   "cell_type": "code",
   "execution_count": 39,
   "metadata": {
    "collapsed": true
   },
   "outputs": [],
   "source": [
    "import pandas as pd\n",
    "import numpy as np\n",
    "import sys\n",
    "import os\n",
    "from sklearn.linear_model import LogisticRegression\n",
    "from sklearn import metrics as mt\n",
    "from sklearn.model_selection import StratifiedShuffleSplit \n",
    "from sklearn.linear_model import SGDClassifier\n",
    "from sklearn.preprocessing import StandardScaler\n",
    "from sklearn.model_selection import train_test_split\n",
    "\n",
    "# load in raw dataset\n",
    "person_raw = pd.read_csv('../data/person-subset-2.5percent.csv')\n",
    "\n",
    "# clean data (as performed in Project 1)\n",
    "# will provide us with a new dataset \"df\"\n",
    "# ...and a list of \"important_features\"\n",
    "execfile('../python/clean_data_person.py')"
   ]
  },
  {
   "cell_type": "markdown",
   "metadata": {},
   "source": [
    "Let's take a look at some of the `important_features` discovered from the previous project:"
   ]
  },
  {
   "cell_type": "code",
   "execution_count": 40,
   "metadata": {
    "collapsed": false
   },
   "outputs": [
    {
     "name": "stdout",
     "output_type": "stream",
     "text": [
      "<class 'pandas.core.frame.DataFrame'>\n",
      "Int64Index: 60357 entries, 0 to 78317\n",
      "Data columns (total 14 columns):\n",
      "PINCP     60357 non-null float64\n",
      "POVPIP    57892 non-null float64\n",
      "JWMNP     32486 non-null float64\n",
      "AGEP      60357 non-null int64\n",
      "PWGTP     60357 non-null int64\n",
      "PAP       60357 non-null float64\n",
      "CIT       60357 non-null object\n",
      "ENG       60357 non-null object\n",
      "COW       60357 non-null object\n",
      "PUMA      60357 non-null category\n",
      "SEX       60357 non-null object\n",
      "MIL       60357 non-null object\n",
      "SCHL      60357 non-null float64\n",
      "MAR       60357 non-null object\n",
      "dtypes: category(1), float64(5), int64(2), object(6)\n",
      "memory usage: 6.6+ MB\n"
     ]
    }
   ],
   "source": [
    "df[important_features].info()"
   ]
  },
  {
   "cell_type": "markdown",
   "metadata": {},
   "source": [
    "### New Categorical Variable\n",
    "\n",
    "Along with these attributes above, as defined in our [previous project](https://gist.github.com/kjprice/820c75bd8e5c3f2558f4576f38893dae), we will want to add another variable which we will use to perform a classification analysis on. This variable should be categorical and would, ideally, continue on with our theme of \"predicting income\". Income (`PINCP`), as we have it currently, is a continuous variable. We will take income and will create a new categorical variable called `affluency`, which will take on the values \"general\" and \"rich\" based on whether the individual makes less (or more) than $100,000:"
   ]
  },
  {
   "cell_type": "code",
   "execution_count": 41,
   "metadata": {
    "collapsed": true
   },
   "outputs": [],
   "source": [
    "def create_affluency():\n",
    "    global lr\n",
    "    global important_features\n",
    "\n",
    "    lr = df[important_features].copy(deep=True)\n",
    "    lr['affluency'] = pd.cut(df.PINCP, [-1, 99999.99, 1e12], labels=('general', 'rich'))\n",
    "create_affluency()"
   ]
  },
  {
   "cell_type": "markdown",
   "metadata": {},
   "source": [
    "### Cleanup\n",
    "Now that we have our new categorical variable, and a new dataset (`lr`) based on our `important_features`, let's try to clean up our data."
   ]
  },
  {
   "cell_type": "markdown",
   "metadata": {},
   "source": [
    "First, we will remove unwanted fields:"
   ]
  },
  {
   "cell_type": "code",
   "execution_count": 42,
   "metadata": {
    "collapsed": true
   },
   "outputs": [],
   "source": [
    "del lr['POVPIP']\n",
    "del lr['PINCP']\n",
    "del lr['PUMA']\n",
    "del lr['MIL']\n",
    "del lr['MAR']\n",
    "del lr['SCHL']"
   ]
  },
  {
   "cell_type": "markdown",
   "metadata": {},
   "source": [
    "Then we group \"Travel Time\" (`JWMNP`)"
   ]
  },
  {
   "cell_type": "code",
   "execution_count": 43,
   "metadata": {
    "collapsed": true
   },
   "outputs": [],
   "source": [
    "def calculate_travel_time():\n",
    "    lr.JWMNP = lr.JWMNP.fillna(-1)\n",
    "    lr['travel_time'] = pd.cut(lr.JWMNP, (-2, 0, 15, 40, 60, lr.JWMNP.max()), labels=['na', 'short', 'half hour', 'hour', 'long'])\n",
    "    del lr['JWMNP']\n",
    "calculate_travel_time()"
   ]
  },
  {
   "cell_type": "markdown",
   "metadata": {},
   "source": [
    "Then, from our variables `affluency` and `SEX`, we will create the boolean variables `wealthy` and `is_male` respectively:"
   ]
  },
  {
   "cell_type": "code",
   "execution_count": 44,
   "metadata": {
    "collapsed": true
   },
   "outputs": [],
   "source": [
    "def calculate_bools():\n",
    "    lr['wealthy'] = lr.affluency == 'rich'\n",
    "    del lr['affluency']\n",
    "    lr['is_male'] = lr.SEX == 'Male'\n",
    "    lr.is_male = lr.is_male.astype(np.int)\n",
    "    del lr['SEX']\n",
    "calculate_bools()"
   ]
  },
  {
   "cell_type": "markdown",
   "metadata": {},
   "source": [
    "Finally, we can perform one-hot-encoding on our other categorical variables `travel_time`, `CIT`, `ENG`, `COW`:"
   ]
  },
  {
   "cell_type": "code",
   "execution_count": 45,
   "metadata": {
    "collapsed": true
   },
   "outputs": [],
   "source": [
    "def one_hot_encode():\n",
    "    global lr\n",
    "    one_hot_travel_time = pd.get_dummies(lr.travel_time, prefix='Travel_Time_')\n",
    "    lr = pd.concat((lr, one_hot_travel_time), axis=1)\n",
    "    del lr['travel_time']\n",
    "\n",
    "    one_hot_citizenship = pd.get_dummies(lr.CIT, prefix='Citizen_')\n",
    "    lr = pd.concat((lr, one_hot_citizenship), axis=1)\n",
    "    del lr['CIT']\n",
    "\n",
    "    one_hot_english = pd.get_dummies(lr.ENG, prefix='English_')\n",
    "    lr = pd.concat((lr, one_hot_english), axis=1)\n",
    "    del lr['ENG']\n",
    "\n",
    "    one_hot_worker_class = pd.get_dummies(lr.COW, prefix='Worker_Class_')\n",
    "    lr = pd.concat((lr, one_hot_worker_class), axis=1)\n",
    "    del lr['COW']\n",
    "one_hot_encode()"
   ]
  },
  {
   "cell_type": "markdown",
   "metadata": {},
   "source": [
    "Let's see how our dataset looks now:"
   ]
  },
  {
   "cell_type": "code",
   "execution_count": 46,
   "metadata": {
    "collapsed": false
   },
   "outputs": [
    {
     "name": "stdout",
     "output_type": "stream",
     "text": [
      "<class 'pandas.core.frame.DataFrame'>\n",
      "Int64Index: 60357 entries, 0 to 78317\n",
      "Data columns (total 30 columns):\n",
      "AGEP                                               60357 non-null int64\n",
      "PWGTP                                              60357 non-null int64\n",
      "PAP                                                60357 non-null float64\n",
      "wealthy                                            60357 non-null bool\n",
      "is_male                                            60357 non-null int32\n",
      "Travel_Time__na                                    60357 non-null uint8\n",
      "Travel_Time__short                                 60357 non-null uint8\n",
      "Travel_Time__half hour                             60357 non-null uint8\n",
      "Travel_Time__hour                                  60357 non-null uint8\n",
      "Travel_Time__long                                  60357 non-null uint8\n",
      "Citizen__Born Abroad)                              60357 non-null uint8\n",
      "Citizen__Naturalized                               60357 non-null uint8\n",
      "Citizen__Non-Citizen                               60357 non-null uint8\n",
      "Citizen__US Born                                   60357 non-null uint8\n",
      "Citizen__US Territory Born                         60357 non-null uint8\n",
      "English__Not at all                                60357 non-null uint8\n",
      "English__Not well                                  60357 non-null uint8\n",
      "English__Speaks only English                       60357 non-null uint8\n",
      "English__Very well                                 60357 non-null uint8\n",
      "English__Well                                      60357 non-null uint8\n",
      "Worker_Class__Family Business - no pay             60357 non-null uint8\n",
      "Worker_Class__Federal Government                   60357 non-null uint8\n",
      "Worker_Class__Local Government                     60357 non-null uint8\n",
      "Worker_Class__Private Non-Profit                   60357 non-null uint8\n",
      "Worker_Class__Private for Profit                   60357 non-null uint8\n",
      "Worker_Class__Self Employed (incorporated)         60357 non-null uint8\n",
      "Worker_Class__Self Employed (not incorportated)    60357 non-null uint8\n",
      "Worker_Class__State Government                     60357 non-null uint8\n",
      "Worker_Class__Unemployeed                          60357 non-null uint8\n",
      "Worker_Class__nan                                  60357 non-null uint8\n",
      "dtypes: bool(1), float64(1), int32(1), int64(2), uint8(25)\n",
      "memory usage: 3.6 MB\n"
     ]
    }
   ],
   "source": [
    "lr.info()"
   ]
  },
  {
   "cell_type": "markdown",
   "metadata": {},
   "source": [
    "Great, so we now we have numeric fields to work with. now we can begin our analysis..."
   ]
  },
  {
   "cell_type": "markdown",
   "metadata": {},
   "source": [
    "### Prep for Analysis"
   ]
  },
  {
   "cell_type": "markdown",
   "metadata": {},
   "source": [
    "First, we can create our response `y` and explanatory `X` variables. Then we standardize `X` values. Finally, we split the dataset into a 20/80 testing/training set."
   ]
  },
  {
   "cell_type": "code",
   "execution_count": 47,
   "metadata": {
    "collapsed": true
   },
   "outputs": [],
   "source": [
    "def clean_data_for_analysis():\n",
    "   global lr2\n",
    "   ### Create reponse and explanatory variables\n",
    "   lr2 = lr.copy(deep=True)\n",
    "   y = lr2.wealthy.values\n",
    "   del lr2['wealthy']\n",
    "   X = lr2.values\n",
    "\n",
    "   ### Standardize X values\n",
    "   scl_obj = StandardScaler()\n",
    "   scl_obj.fit(X)\n",
    "   X = scl_obj.transform(X)\n",
    "   \n",
    "   ### Get training/test data\n",
    "   return train_test_split(X, y, test_size=.2, random_state=0)"
   ]
  },
  {
   "cell_type": "code",
   "execution_count": 48,
   "metadata": {
    "collapsed": true
   },
   "outputs": [],
   "source": [
    "X_train, X_test, y_train, y_test = clean_data_for_analysis()"
   ]
  },
  {
   "cell_type": "markdown",
   "metadata": {},
   "source": [
    "### Logistic Regression"
   ]
  },
  {
   "cell_type": "markdown",
   "metadata": {},
   "source": [
    "Create a function will analyze our data using a logistic regression."
   ]
  },
  {
   "cell_type": "code",
   "execution_count": 49,
   "metadata": {
    "collapsed": false
   },
   "outputs": [
    {
     "name": "stdout",
     "output_type": "stream",
     "text": [
      "accuracy: 0.692842942346 \n",
      "\n",
      "Wall time: 631 ms\n"
     ]
    }
   ],
   "source": [
    "def run_logistic_regression():\n",
    "   ### Create reusable logistic regression object\n",
    "   global lr_clf\n",
    "   lr_clf = LogisticRegression(penalty='l2', C=0.05, class_weight='balanced', n_jobs=-1)\n",
    "   \n",
    "   ### Create and test accuracy of our model\n",
    "   lr_clf.fit(X_train, y_train)\n",
    "   y_hat = lr_clf.predict(X_test)\n",
    "   \n",
    "   acc = mt.accuracy_score(y_test, y_hat)\n",
    "   \n",
    "   print('accuracy: %s \\n' % acc)\n",
    "\n",
    "%time run_logistic_regression()"
   ]
  },
  {
   "cell_type": "markdown",
   "metadata": {},
   "source": [
    "### Support Vector Machines"
   ]
  },
  {
   "cell_type": "code",
   "execution_count": 50,
   "metadata": {
    "collapsed": false
   },
   "outputs": [
    {
     "name": "stdout",
     "output_type": "stream",
     "text": [
      "accuracy: 0.666500994036 \n",
      "\n",
      "Wall time: 82 ms\n"
     ]
    }
   ],
   "source": [
    "def run_sgd():\n",
    "   regularize_const = 0.1\n",
    "   iterations = 5\n",
    "   svm_sgd = SGDClassifier(alpha=regularize_const, class_weight='balanced',\n",
    "           fit_intercept=True, l1_ratio=0.0, learning_rate='optimal',\n",
    "           loss='hinge', n_iter=iterations, n_jobs=-1, penalty='l2')\n",
    "   \n",
    "   svm_sgd.fit(X_train, y_train)\n",
    "   y_hat = svm_sgd.predict(X_test)\n",
    "   \n",
    "   acc = mt.accuracy_score(y_test, y_hat)\n",
    "   conf = mt.confusion_matrix(y_test, y_hat)\n",
    "   \n",
    "   print('accuracy: %s \\n' % acc)\n",
    "\n",
    "%time run_sgd()"
   ]
  },
  {
   "cell_type": "markdown",
   "metadata": {},
   "source": [
    "### Tweak variables"
   ]
  },
  {
   "cell_type": "markdown",
   "metadata": {
    "collapsed": true
   },
   "source": [
    "We can try to change our variables to see if we get a different score. Let's see how eduction (`SCHL`), marital status (`MAR`), and military service (`MIL`) affect our model."
   ]
  },
  {
   "cell_type": "code",
   "execution_count": 51,
   "metadata": {
    "collapsed": true
   },
   "outputs": [],
   "source": [
    "create_affluency()\n",
    "calculate_travel_time()\n",
    "calculate_bools()\n",
    "one_hot_encode()"
   ]
  },
  {
   "cell_type": "code",
   "execution_count": 52,
   "metadata": {
    "collapsed": false
   },
   "outputs": [],
   "source": [
    "del lr['POVPIP']\n",
    "del lr['PINCP']\n",
    "del lr['PUMA']\n",
    "\n",
    "### Group \"education attained\"\n",
    "lr.SCHL = lr.SCHL.fillna(-1)\n",
    "lr['education_attained'] = pd.cut(lr.SCHL, (-2, 1, 11, 15, 17, 20, 21, 22, 23, 24), labels=['na', 'no_high_school', 'some_high_school', 'HS_diploma', 'some_college', 'bacholors_degree', 'masters_degree', 'professional_degree', 'doctorate_degree'])\n",
    "del lr['SCHL']\n",
    "\n",
    "\n",
    "### One-hot-encode our new categorical variables\n",
    "one_hot_military = pd.get_dummies(lr.MIL, prefix='Miliary_Service_')\n",
    "lr = pd.concat((lr, one_hot_military), axis=1)\n",
    "del lr['MIL']\n",
    "\n",
    "one_hot_education_attained = pd.get_dummies(lr.education_attained, prefix='Education_Attained_')\n",
    "lr = pd.concat((lr, one_hot_education_attained), axis=1)\n",
    "del lr['education_attained']\n",
    "\n",
    "one_hot_marital_status = pd.get_dummies(lr.MAR, prefix=\"Marital_status_\")\n",
    "lr = pd.concat((lr, one_hot_marital_status), axis=1)\n",
    "del lr['MAR']"
   ]
  },
  {
   "cell_type": "markdown",
   "metadata": {},
   "source": [
    "#### Run again\n"
   ]
  },
  {
   "cell_type": "code",
   "execution_count": 53,
   "metadata": {
    "collapsed": false
   },
   "outputs": [
    {
     "name": "stdout",
     "output_type": "stream",
     "text": [
      "logistic regression:\n",
      "accuracy: 0.784459907223 \n",
      "\n",
      "Wall time: 1.92 s\n",
      "\n",
      "\n",
      "support vector machine:\n",
      "accuracy: 0.774602385686 \n",
      "\n",
      "Wall time: 142 ms\n"
     ]
    }
   ],
   "source": [
    "\n",
    "X_train, X_test, y_train, y_test = clean_data_for_analysis()\n",
    "\n",
    "print('logistic regression:')\n",
    "%time run_logistic_regression()\n",
    "\n",
    "print('\\n\\nsupport vector machine:')\n",
    "%time run_sgd()"
   ]
  },
  {
   "cell_type": "markdown",
   "metadata": {},
   "source": [
    "Indeed, we see that our accuracy greatly approves with the addition of these several variables"
   ]
  },
  {
   "cell_type": "markdown",
   "metadata": {},
   "source": [
    "### Advantages between algorithm"
   ]
  },
  {
   "cell_type": "markdown",
   "metadata": {},
   "source": [
    "We can see that logistic regression gets a better accuracy (about 1%) than support vector machines (using stochastic gradient descent). Logistic regression takes about four times longer, however, than support vector machines. Using a batch gradient descent gives support vectors additional accuracy (consistent with logistic regression) but takes abou three minutes to complete (approximately 250 times slower than logistic regression)."
   ]
  },
  {
   "cell_type": "markdown",
   "metadata": {},
   "source": [
    "### Interpret the weights"
   ]
  },
  {
   "cell_type": "code",
   "execution_count": 54,
   "metadata": {
    "collapsed": false,
    "scrolled": true
   },
   "outputs": [
    {
     "name": "stdout",
     "output_type": "stream",
     "text": [
      "\n",
      "Weights of variables\n",
      "('Education_Attained__HS_diploma', 'has weight of', -0.39658104784975301)\n",
      "('Education_Attained__some_high_school', 'has weight of', -0.35910426108900434)\n",
      "('Worker_Class__nan', 'has weight of', -0.32978564940326538)\n",
      "('Worker_Class__Unemployeed', 'has weight of', -0.32607924970820107)\n",
      "('Education_Attained__no_high_school', 'has weight of', -0.31381084465277337)\n",
      "('Travel_Time__na', 'has weight of', -0.30977338159633522)\n",
      "('Marital_status__Never Married', 'has weight of', -0.24291596892371856)\n",
      "('Education_Attained__na', 'has weight of', -0.17876418187388149)\n",
      "('English__Not at all', 'has weight of', -0.15019718111038075)\n",
      "('English__Not well', 'has weight of', -0.14470121230967478)\n",
      "('Worker_Class__State Government', 'has weight of', -0.10874680023206162)\n",
      "('Education_Attained__some_college', 'has weight of', -0.053094833090232982)\n",
      "('Marital_status__Separated', 'has weight of', -0.043453441183019831)\n",
      "('Worker_Class__Local Government', 'has weight of', -0.039996795112794352)\n",
      "('English__Well', 'has weight of', -0.037800579599269711)\n",
      "('Miliary_Service__Serving Active Duty', 'has weight of', -0.034462983315286501)\n",
      "('Citizen__Non-Citizen', 'has weight of', -0.025394629743926405)\n",
      "('Citizen__US Territory Born', 'has weight of', -0.015536400054483439)\n",
      "('Miliary_Service__Served Not Active', 'has weight of', -0.0071799840485118841)\n",
      "('Citizen__US Born', 'has weight of', -0.0047461706833854022)\n",
      "('Worker_Class__Private Non-Profit', 'has weight of', -0.000132114188213227)\n",
      "('Miliary_Service__Reserves', 'has weight of', 0.00010722163182312958)\n",
      "('Citizen__Born Abroad)', 'has weight of', 0.0026435686916041678)\n",
      "('Miliary_Service__Never Served', 'has weight of', 0.013592074272191149)\n",
      "('Marital_status__Divorced', 'has weight of', 0.02596785064365361)\n",
      "('PWGTP', 'has weight of', 0.031557597557459981)\n",
      "('Citizen__Naturalized', 'has weight of', 0.034100021515268572)\n",
      "('Worker_Class__Family Business - no pay', 'has weight of', 0.045448023811820323)\n",
      "('English__Very well', 'has weight of', 0.050077682454325902)\n",
      "('Travel_Time__short', 'has weight of', 0.054067056896113762)\n",
      "('PAP', 'has weight of', 0.056083120475836648)\n",
      "('English__Speaks only English', 'has weight of', 0.088899634074814202)\n",
      "('Marital_status__Widowed', 'has weight of', 0.090786994975408708)\n",
      "('Worker_Class__Federal Government', 'has weight of', 0.1265164803663438)\n",
      "('Travel_Time__long', 'has weight of', 0.15105608170346521)\n",
      "('Worker_Class__Self Employed (not incorportated)', 'has weight of', 0.15407266130916683)\n",
      "('Marital_status__Married', 'has weight of', 0.15814554547554802)\n",
      "('Travel_Time__hour', 'has weight of', 0.1594835721742561)\n",
      "('Travel_Time__half hour', 'has weight of', 0.16651842518465232)\n",
      "('Worker_Class__Self Employed (incorporated)', 'has weight of', 0.20061180470254375)\n",
      "('Worker_Class__Private for Profit', 'has weight of', 0.22696009876660703)\n",
      "('Education_Attained__doctorate_degree', 'has weight of', 0.29195778119550214)\n",
      "('Education_Attained__professional_degree', 'has weight of', 0.34312062773985957)\n",
      "('Education_Attained__bacholors_degree', 'has weight of', 0.45953069924709355)\n",
      "('Education_Attained__masters_degree', 'has weight of', 0.47434565710541954)\n",
      "('is_male', 'has weight of', 0.54662714060657525)\n",
      "('AGEP', 'has weight of', 0.61257094727957573)\n"
     ]
    }
   ],
   "source": [
    "def get_weights():\n",
    "   zip_vars = zip(lr_clf.coef_.T, lr2.columns) # combine attributes\n",
    "   zip_vars = sorted(zip_vars)\n",
    "   \n",
    "   print('\\nWeights of variables')\n",
    "   for coef, name in zip_vars:\n",
    "       print(name, 'has weight of', coef[0]) # now print them out\n",
    "\n",
    "get_weights()"
   ]
  },
  {
   "cell_type": "markdown",
   "metadata": {},
   "source": [
    "Age has the greatest weight.  Education was the second highest weight with both positive and negative impacts on the wealth outcome.  "
   ]
  },
  {
   "cell_type": "markdown",
   "metadata": {},
   "source": [
    "### Graph the weights"
   ]
  },
  {
   "cell_type": "code",
   "execution_count": 55,
   "metadata": {
    "collapsed": false
   },
   "outputs": [
    {
     "name": "stdout",
     "output_type": "stream",
     "text": [
      "AGEP                                               0.612571\n",
      "PWGTP                                              0.031558\n",
      "PAP                                                0.056083\n",
      "is_male                                            0.546627\n",
      "Travel_Time__na                                   -0.309773\n",
      "Travel_Time__short                                 0.054067\n",
      "Travel_Time__half hour                             0.166518\n",
      "Travel_Time__hour                                  0.159484\n",
      "Travel_Time__long                                  0.151056\n",
      "Citizen__Born Abroad)                              0.002644\n",
      "Citizen__Naturalized                               0.034100\n",
      "Citizen__Non-Citizen                              -0.025395\n",
      "Citizen__US Born                                  -0.004746\n",
      "Citizen__US Territory Born                        -0.015536\n",
      "English__Not at all                               -0.150197\n",
      "English__Not well                                 -0.144701\n",
      "English__Speaks only English                       0.088900\n",
      "English__Very well                                 0.050078\n",
      "English__Well                                     -0.037801\n",
      "Worker_Class__Family Business - no pay             0.045448\n",
      "Worker_Class__Federal Government                   0.126516\n",
      "Worker_Class__Local Government                    -0.039997\n",
      "Worker_Class__Private Non-Profit                  -0.000132\n",
      "Worker_Class__Private for Profit                   0.226960\n",
      "Worker_Class__Self Employed (incorporated)         0.200612\n",
      "Worker_Class__Self Employed (not incorportated)    0.154073\n",
      "Worker_Class__State Government                    -0.108747\n",
      "Worker_Class__Unemployeed                         -0.326079\n",
      "Worker_Class__nan                                 -0.329786\n",
      "Miliary_Service__Never Served                      0.013592\n",
      "Miliary_Service__Reserves                          0.000107\n",
      "Miliary_Service__Served Not Active                -0.007180\n",
      "Miliary_Service__Serving Active Duty              -0.034463\n",
      "Education_Attained__na                            -0.178764\n",
      "Education_Attained__no_high_school                -0.313811\n",
      "Education_Attained__some_high_school              -0.359104\n",
      "Education_Attained__HS_diploma                    -0.396581\n",
      "Education_Attained__some_college                  -0.053095\n",
      "Education_Attained__bacholors_degree               0.459531\n",
      "Education_Attained__masters_degree                 0.474346\n",
      "Education_Attained__professional_degree            0.343121\n",
      "Education_Attained__doctorate_degree               0.291958\n",
      "Marital_status__Divorced                           0.025968\n",
      "Marital_status__Married                            0.158146\n",
      "Marital_status__Never Married                     -0.242916\n",
      "Marital_status__Separated                         -0.043453\n",
      "Marital_status__Widowed                            0.090787\n",
      "dtype: float64\n"
     ]
    },
    {
     "data": {
      "image/png": "[encoded data removed]",
      "text/plain": [
       "<matplotlib.figure.Figure at 0x3a856ef0>"
      ]
     },
     "metadata": {},
     "output_type": "display_data"
    }
   ],
   "source": [
    "from matplotlib import pyplot as plt\n",
    "%matplotlib inline\n",
    "plt.style.use('ggplot')\n",
    "\n",
    "weights = pd.Series(lr_clf.coef_[0],index=lr2.columns)\n",
    "print weights\n",
    "weights.plot(kind='bar')\n",
    "plt.show()"
   ]
  },
  {
   "cell_type": "code",
   "execution_count": 56,
   "metadata": {
    "collapsed": false
   },
   "outputs": [
    {
     "name": "stdout",
     "output_type": "stream",
     "text": [
      "('SVM:', 0.78263750828363154)\n",
      "0:04:25.737000\n",
      "<class 'pandas.core.frame.DataFrame'>\n",
      "Int64Index: 22707 entries, 1 to 62664\n",
      "Data columns (total 48 columns):\n",
      "AGEP                                               22707 non-null int64\n",
      "PWGTP                                              22707 non-null int64\n",
      "PAP                                                22707 non-null float64\n",
      "wealthy                                            22707 non-null bool\n",
      "is_male                                            22707 non-null int32\n",
      "Travel_Time__na                                    22707 non-null uint8\n",
      "Travel_Time__short                                 22707 non-null uint8\n",
      "Travel_Time__half hour                             22707 non-null uint8\n",
      "Travel_Time__hour                                  22707 non-null uint8\n",
      "Travel_Time__long                                  22707 non-null uint8\n",
      "Citizen__Born Abroad)                              22707 non-null uint8\n",
      "Citizen__Naturalized                               22707 non-null uint8\n",
      "Citizen__Non-Citizen                               22707 non-null uint8\n",
      "Citizen__US Born                                   22707 non-null uint8\n",
      "Citizen__US Territory Born                         22707 non-null uint8\n",
      "English__Not at all                                22707 non-null uint8\n",
      "English__Not well                                  22707 non-null uint8\n",
      "English__Speaks only English                       22707 non-null uint8\n",
      "English__Very well                                 22707 non-null uint8\n",
      "English__Well                                      22707 non-null uint8\n",
      "Worker_Class__Family Business - no pay             22707 non-null uint8\n",
      "Worker_Class__Federal Government                   22707 non-null uint8\n",
      "Worker_Class__Local Government                     22707 non-null uint8\n",
      "Worker_Class__Private Non-Profit                   22707 non-null uint8\n",
      "Worker_Class__Private for Profit                   22707 non-null uint8\n",
      "Worker_Class__Self Employed (incorporated)         22707 non-null uint8\n",
      "Worker_Class__Self Employed (not incorportated)    22707 non-null uint8\n",
      "Worker_Class__State Government                     22707 non-null uint8\n",
      "Worker_Class__Unemployeed                          22707 non-null uint8\n",
      "Worker_Class__nan                                  22707 non-null uint8\n",
      "Miliary_Service__Never Served                      22707 non-null uint8\n",
      "Miliary_Service__Reserves                          22707 non-null uint8\n",
      "Miliary_Service__Served Not Active                 22707 non-null uint8\n",
      "Miliary_Service__Serving Active Duty               22707 non-null uint8\n",
      "Education_Attained__na                             22707 non-null uint8\n",
      "Education_Attained__no_high_school                 22707 non-null uint8\n",
      "Education_Attained__some_high_school               22707 non-null uint8\n",
      "Education_Attained__HS_diploma                     22707 non-null uint8\n",
      "Education_Attained__some_college                   22707 non-null uint8\n",
      "Education_Attained__bacholors_degree               22707 non-null uint8\n",
      "Education_Attained__masters_degree                 22707 non-null uint8\n",
      "Education_Attained__professional_degree            22707 non-null uint8\n",
      "Education_Attained__doctorate_degree               22707 non-null uint8\n",
      "Marital_status__Divorced                           22707 non-null uint8\n",
      "Marital_status__Married                            22707 non-null uint8\n",
      "Marital_status__Never Married                      22707 non-null uint8\n",
      "Marital_status__Separated                          22707 non-null uint8\n",
      "Marital_status__Widowed                            22707 non-null uint8\n",
      "dtypes: bool(1), float64(1), int32(1), int64(2), uint8(43)\n",
      "memory usage: 1.7 MB\n"
     ]
    },
    {
     "data": {
      "image/png": "[encoded data removed]",
      "text/plain": [
       "<matplotlib.figure.Figure at 0x12d6c4a8>"
      ]
     },
     "metadata": {},
     "output_type": "display_data"
    }
   ],
   "source": [
    "from sklearn.svm import SVC\n",
    "from datetime import datetime\n",
    "startTime = datetime.now()\n",
    "\n",
    "lr2 = lr.copy(deep=True)\n",
    "y = lr2.wealthy.values\n",
    "X = lr2.values\n",
    "\n",
    "svm_clf = SVC(C=0.5, class_weight='balanced')\n",
    "svm_clf.fit(X_train, y_train)\n",
    "\n",
    "y_hat = svm_clf.predict(X_test)\n",
    "\n",
    "conf = mt.confusion_matrix(y_test, y_hat)\n",
    "acc = mt.accuracy_score(y_test,y_hat)\n",
    "\n",
    "print('SVM:', acc)\n",
    "print (datetime.now() - startTime)\n",
    "\n",
    "# make a dataframe of the training data\n",
    "# df_tested_on = pd.DataFrame(X_train) # saved from above, the indices chosen for training\n",
    "df_tested_on = lr2\n",
    "# now get the support vectors from the trained model\n",
    "df_support = df_tested_on.iloc[svm_clf.support_,:]\n",
    "\n",
    "df_support.loc[:,'wealthy'] = y[svm_clf.support_] # add back in the 'Survived' Column to the pandas dataframe\n",
    "lr2.loc[:,'wealthy'] = y # also add it back in for the original data\n",
    "df_support.info()\n",
    "\n",
    "\n",
    "# now lets see the statistics of these attributes\n",
    "from pandas.tools.plotting import boxplot\n",
    "\n",
    "# group the original data and the support vectors\n",
    "df_grouped_support = df_support.groupby(['wealthy'])\n",
    "df_grouped = lr2.groupby(['wealthy'])\n",
    "\n",
    "# plot KDE of Different variables\n",
    "vars_to_plot = ['AGEP']\n",
    "\n",
    "for v in vars_to_plot:\n",
    "    plt.figure(figsize=(10,4))\n",
    "    # plot support vector stats\n",
    "    plt.subplot(1,2,1)\n",
    "    ax = df_grouped_support[v].plot.kde() \n",
    "    plt.legend(['not_wealthy','wealthy'])\n",
    "    plt.title(v+' (Instances chosen as Support Vectors)')\n",
    "    \n",
    "    # plot original distributions\n",
    "    plt.subplot(1,2,2)\n",
    "    ax = df_grouped[v].plot.kde() \n",
    "    plt.legend(['not_wealthy','wealthy'])\n",
    "    plt.title(v+' (Original)')\n",
    "\n",
    "\n"
   ]
  },
  {
   "cell_type": "markdown",
   "metadata": {
    "collapsed": true
   },
   "source": [
    "### Support Vectors\n",
    "\n",
    "Support Vector Machines utilize machine learning algorithms to predict the separation of response variables in training data.  The accurracy of the machine learning is then "
   ]
  },
  {
   "cell_type": "code",
   "execution_count": null,
   "metadata": {
    "collapsed": true
   },
   "outputs": [],
   "source": []
  }
 ],
 "metadata": {
  "kernelspec": {
   "display_name": "Python [default]",
   "language": "python",
   "name": "python2"
  },
  "language_info": {
   "codemirror_mode": {
    "name": "ipython",
    "version": 2
   },
   "file_extension": ".py",
   "mimetype": "text/x-python",
   "name": "python",
   "nbconvert_exporter": "python",
   "pygments_lexer": "ipython2",
   "version": "2.7.13"
  }
 },
 "nbformat": 4,
 "nbformat_minor": 2
}
