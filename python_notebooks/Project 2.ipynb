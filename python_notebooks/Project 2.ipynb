{
 "cells": [
  {
   "cell_type": "markdown",
   "metadata": {},
   "source": [
    "## Introduction\n",
    "Project 2 will continue the work with census data from [Project 1](https://gist.github.com/kjprice/820c75bd8e5c3f2558f4576f38893dae) and the [Mini Project](https://gist.github.com/kjprice/bb3ecd63e7a2e5050c018d63c875a79b), to take a deeper look into the data. The analysis of this project will focus on the predictive classification ability.  Methods for both categorical variables as well as continuous variables will be evaluated.  "
   ]
  },
  {
   "cell_type": "code",
   "execution_count": 16,
   "metadata": {
    "collapsed": true
   },
   "outputs": [],
   "source": [
    "import numpy as np \n",
    "import pandas as pd\n",
    "import seaborn as sns\n",
    "\n",
    "from sklearn import model_selection\n",
    "from sklearn.linear_model import LogisticRegression\n",
    "from sklearn import metrics as mt\n",
    "from sklearn.naive_bayes import MultinomialNB, GaussianNB, BernoulliNB\n",
    "from sklearn.tree import DecisionTreeClassifier\n",
    "from sklearn.neighbors import KNeighborsClassifier\n",
    "from sklearn.linear_model import SGDClassifier\n",
    "from sklearn.ensemble import RandomForestClassifier\n",
    "from sklearn.tree import DecisionTreeRegressor\n",
    "from sklearn.svm import SVC\n",
    "from datetime import datetime\n",
    "import matplotlib.pyplot as plt\n",
    "from scipy import stats\n",
    "\n",
    "# load in raw dataset\n",
    "person_raw = pd.read_csv('../data/person-subset-2.5percent.csv')\n",
    "\n",
    "# clean data (as performed in Project 1)\n",
    "# will provide us with a new dataset \"df\"\n",
    "# ...and a list of \"important_features\"\n",
    "execfile('../python/clean_data_person.py')"
   ]
  },
  {
   "cell_type": "markdown",
   "metadata": {},
   "source": [
    "The `important_features` discovered from the first project will continue to be utilized in this project."
   ]
  },
  {
   "cell_type": "code",
   "execution_count": 17,
   "metadata": {
    "collapsed": false
   },
   "outputs": [
    {
     "name": "stdout",
     "output_type": "stream",
     "text": [
      "<class 'pandas.core.frame.DataFrame'>\n",
      "Int64Index: 60357 entries, 0 to 60356\n",
      "Data columns (total 15 columns):\n",
      "PINCP        60357 non-null float64\n",
      "POVPIP       57892 non-null float64\n",
      "JWMNP        32486 non-null float64\n",
      "AGEP         60357 non-null int64\n",
      "PWGTP        60357 non-null int64\n",
      "PAP          60357 non-null float64\n",
      "CIT          60357 non-null object\n",
      "ENG          60357 non-null object\n",
      "COW          60357 non-null object\n",
      "PUMA         60357 non-null category\n",
      "SEX          60357 non-null object\n",
      "MIL          60357 non-null object\n",
      "SCHL         60357 non-null float64\n",
      "MAR          60357 non-null object\n",
      "affluency    60312 non-null category\n",
      "dtypes: category(2), float64(5), int64(2), object(6)\n",
      "memory usage: 6.6+ MB\n"
     ]
    }
   ],
   "source": [
    "df[important_features].info()"
   ]
  },
  {
   "cell_type": "markdown",
   "metadata": {},
   "source": [
    "### Data Descriptions\n",
    "\n",
    "The included attributes with descriptions:\n",
    "  * AGEP:  Age of person (continuous 0-95)\n",
    "  * CIT:  Citizenship status (categorical - numerical key)\n",
    "  * CIT_CAT:  Citizenship status (categorical - string)\n",
    "  * COW:  Class of worker (categorical - string)\n",
    "  * ENG:  Ability to speak English (categorical scale of 1-4 and native speakers)\n",
    "  * JWMNP:  Travel time to work (continuous - minutes of commute to work)\n",
    "  * JWTR:  Means of transportation to work (categorical - 12 modes of transportation)\n",
    "  * MAR:  Marital status (categorical - 5 categories: married, divorced, separated, single, widow)\n",
    "  * PAP:  Public assistance income past 12 months (continuous variable of dollars of assistance received)\n",
    "  * PINCP:  Total person's income (continuous of total income)\n",
    "  * POVPIP:  Income-to-poverty ratio recode (continuous with a cap at 501)\n",
    "  * SCHL:  Educational attainment (continuous - years of completed education)\n",
    "  * SEX:  Sex (gender of female or male)"
   ]
  },
  {
   "cell_type": "markdown",
   "metadata": {},
   "source": [
    "### Classification variable\n",
    "\n",
    "A new variable has been created to categorize wealth.   The new variable called `affluency` which can be one of two levels - \"general\" or \"rich\" (greater than $100,000 income):"
   ]
  },
  {
   "cell_type": "code",
   "execution_count": 18,
   "metadata": {
    "collapsed": true
   },
   "outputs": [],
   "source": [
    "def create_affluency():\n",
    "    global lr\n",
    "    global important_features\n",
    "\n",
    "    lr = df[important_features].copy(deep=True)\n",
    "    lr['affluency'] = pd.cut(df.PINCP, [-1, 99999.99, 1e12], labels=('general', 'rich'))\n",
    "create_affluency()"
   ]
  },
  {
   "cell_type": "markdown",
   "metadata": {},
   "source": [
    "### Cleanup\n",
    "\n",
    "As performed in the previous project, unneccesaary variables are removed from the dataset: \n",
    " - `POVPIP`\n",
    " - `PINCP`\n",
    " - `PUMA`\n",
    " - `MIL`\n",
    " - `MAR`\n",
    " - `SCHL`\n",
    "\n",
    "The \"Travel Time\" (`JWMNP`) attributed is grouped into appropriate intervals (previously a continuous variable):\n",
    " - `na`\n",
    " - `short`\n",
    " - `half hour`\n",
    " - `hour`\n",
    " - `long`\n",
    " \n",
    "Then, from the variables `affluency` and `SEX`, boolean variables of `wealthy` and `is_male` are created respectively.\n",
    "\n",
    "Finally, one-hot-encoding is performed on other categorical variables `travel_time`, `CIT`, `ENG`, `COW`.\n",
    "\n",
    "All of this gives the following:"
   ]
  },
  {
   "cell_type": "code",
   "execution_count": 19,
   "metadata": {
    "collapsed": false
   },
   "outputs": [
    {
     "name": "stdout",
     "output_type": "stream",
     "text": [
      "<class 'pandas.core.frame.DataFrame'>\n",
      "Int64Index: 60357 entries, 0 to 60356\n",
      "Data columns (total 49 columns):\n",
      "PINCP                                              60357 non-null float64\n",
      "AGEP                                               60357 non-null int64\n",
      "PWGTP                                              60357 non-null int64\n",
      "PAP                                                60357 non-null float64\n",
      "wealthy                                            60357 non-null bool\n",
      "is_male                                            60357 non-null int32\n",
      "Travel_Time__na                                    60357 non-null uint8\n",
      "Travel_Time__short                                 60357 non-null uint8\n",
      "Travel_Time__half hour                             60357 non-null uint8\n",
      "Travel_Time__hour                                  60357 non-null uint8\n",
      "Travel_Time__long                                  60357 non-null uint8\n",
      "Citizen__Born Abroad)                              60357 non-null uint8\n",
      "Citizen__Naturalized                               60357 non-null uint8\n",
      "Citizen__Non-Citizen                               60357 non-null uint8\n",
      "Citizen__US Born                                   60357 non-null uint8\n",
      "Citizen__US Territory Born                         60357 non-null uint8\n",
      "English__Not at all                                60357 non-null uint8\n",
      "English__Not well                                  60357 non-null uint8\n",
      "English__Speaks only English                       60357 non-null uint8\n",
      "English__Very well                                 60357 non-null uint8\n",
      "English__Well                                      60357 non-null uint8\n",
      "Worker_Class__Family Business - no pay             60357 non-null uint8\n",
      "Worker_Class__Federal Government                   60357 non-null uint8\n",
      "Worker_Class__Local Government                     60357 non-null uint8\n",
      "Worker_Class__Private Non-Profit                   60357 non-null uint8\n",
      "Worker_Class__Private for Profit                   60357 non-null uint8\n",
      "Worker_Class__Self Employed (incorporated)         60357 non-null uint8\n",
      "Worker_Class__Self Employed (not incorportated)    60357 non-null uint8\n",
      "Worker_Class__State Government                     60357 non-null uint8\n",
      "Worker_Class__Unemployeed                          60357 non-null uint8\n",
      "Worker_Class__nan                                  60357 non-null uint8\n",
      "Miliary_Service__Never Served                      60357 non-null uint8\n",
      "Miliary_Service__Reserves                          60357 non-null uint8\n",
      "Miliary_Service__Served Not Active                 60357 non-null uint8\n",
      "Miliary_Service__Serving Active Duty               60357 non-null uint8\n",
      "Education_Attained__na                             60357 non-null uint8\n",
      "Education_Attained__no_high_school                 60357 non-null uint8\n",
      "Education_Attained__some_high_school               60357 non-null uint8\n",
      "Education_Attained__HS_diploma                     60357 non-null uint8\n",
      "Education_Attained__some_college                   60357 non-null uint8\n",
      "Education_Attained__bacholors_degree               60357 non-null uint8\n",
      "Education_Attained__masters_degree                 60357 non-null uint8\n",
      "Education_Attained__professional_degree            60357 non-null uint8\n",
      "Education_Attained__doctorate_degree               60357 non-null uint8\n",
      "Marital_status__Divorced                           60357 non-null uint8\n",
      "Marital_status__Married                            60357 non-null uint8\n",
      "Marital_status__Never Married                      60357 non-null uint8\n",
      "Marital_status__Separated                          60357 non-null uint8\n",
      "Marital_status__Widowed                            60357 non-null uint8\n",
      "dtypes: bool(1), float64(2), int32(1), int64(2), uint8(43)\n",
      "memory usage: 5.1 MB\n"
     ]
    }
   ],
   "source": [
    "execfile('../python/clean_data_classification.py')\n",
    "lr.info()"
   ]
  },
  {
   "cell_type": "markdown",
   "metadata": {},
   "source": [
    "### PCA"
   ]
  },
  {
   "cell_type": "markdown",
   "metadata": {},
   "source": [
    "A principal components analysis is also performed with five components on a scaled-version of our dataset. Although the PCA is not officially part of the classification analysis, the data may be useful for comparative reference. "
   ]
  },
  {
   "cell_type": "code",
   "execution_count": 20,
   "metadata": {
    "collapsed": false
   },
   "outputs": [
    {
     "data": {
      "text/html": [
       "<div>\n",
       "<table border=\"1\" class=\"dataframe\">\n",
       "  <thead>\n",
       "    <tr style=\"text-align: right;\">\n",
       "      <th></th>\n",
       "      <th>PCA_0</th>\n",
       "      <th>PCA_1</th>\n",
       "      <th>PCA_2</th>\n",
       "      <th>PCA_3</th>\n",
       "      <th>PCA_4</th>\n",
       "    </tr>\n",
       "  </thead>\n",
       "  <tbody>\n",
       "    <tr>\n",
       "      <th>0</th>\n",
       "      <td>1.884722</td>\n",
       "      <td>1.800257</td>\n",
       "      <td>0.924182</td>\n",
       "      <td>-0.699640</td>\n",
       "      <td>-0.178168</td>\n",
       "    </tr>\n",
       "    <tr>\n",
       "      <th>1</th>\n",
       "      <td>0.337951</td>\n",
       "      <td>-1.349852</td>\n",
       "      <td>0.459929</td>\n",
       "      <td>-0.865061</td>\n",
       "      <td>0.821997</td>\n",
       "    </tr>\n",
       "    <tr>\n",
       "      <th>2</th>\n",
       "      <td>-1.203093</td>\n",
       "      <td>-0.315044</td>\n",
       "      <td>-0.527054</td>\n",
       "      <td>-0.989048</td>\n",
       "      <td>1.147468</td>\n",
       "    </tr>\n",
       "    <tr>\n",
       "      <th>3</th>\n",
       "      <td>-0.173147</td>\n",
       "      <td>-1.279213</td>\n",
       "      <td>-0.209784</td>\n",
       "      <td>-0.614139</td>\n",
       "      <td>-0.449463</td>\n",
       "    </tr>\n",
       "    <tr>\n",
       "      <th>4</th>\n",
       "      <td>1.361579</td>\n",
       "      <td>1.421788</td>\n",
       "      <td>-0.016835</td>\n",
       "      <td>-1.109766</td>\n",
       "      <td>0.966595</td>\n",
       "    </tr>\n",
       "  </tbody>\n",
       "</table>\n",
       "</div>"
      ],
      "text/plain": [
       "      PCA_0     PCA_1     PCA_2     PCA_3     PCA_4\n",
       "0  1.884722  1.800257  0.924182 -0.699640 -0.178168\n",
       "1  0.337951 -1.349852  0.459929 -0.865061  0.821997\n",
       "2 -1.203093 -0.315044 -0.527054 -0.989048  1.147468\n",
       "3 -0.173147 -1.279213 -0.209784 -0.614139 -0.449463\n",
       "4  1.361579  1.421788 -0.016835 -1.109766  0.966595"
      ]
     },
     "execution_count": 20,
     "metadata": {},
     "output_type": "execute_result"
    }
   ],
   "source": [
    "df[pca_features].head()"
   ]
  },
  {
   "cell_type": "markdown",
   "metadata": {},
   "source": [
    "## Evaluation metric"
   ]
  },
  {
   "cell_type": "markdown",
   "metadata": {},
   "source": [
    "Ultimately, we are hoping to classify individuals as either _wealthy_ (income > \\$100,000) or _general_ (income < \\$100,000). Being so, we want our model to be as accurate as possible and will consider accuracy to be the most important metric.\n",
    "\n",
    "Our dataset is highly unbalanced with only 7% of the population being classified as \"wealthy\". Because of this unbalance, we want to keep an eye on the F-measure. A model may choose to take the easy way out, obtaining nearly 92% accuracy by simply classifying all individuals as \"general\". The F-measure will be a secondary metric to accuracy.\n",
    "\n",
    "For regression, we will use r^2 as the metric. This will give us a metric which is on the same scale as accuracy."
   ]
  },
  {
   "cell_type": "markdown",
   "metadata": {},
   "source": [
    "## Dividing Data"
   ]
  },
  {
   "cell_type": "markdown",
   "metadata": {},
   "source": [
    "To help ensure that overfitting is mitigated, we will use a 10-fold cross validation technique to split our dataset. Because our dataset is so unbalanced, we will use a stratified k-fold cross validator.\n",
    "\n",
    "Additionally, we will scale our dataset so that various classification techniques can be used."
   ]
  },
  {
   "cell_type": "code",
   "execution_count": 21,
   "metadata": {
    "collapsed": true
   },
   "outputs": [],
   "source": [
    "def get_X_y(regression=False):\n",
    "   global lr2\n",
    "   lr2 = lr.copy(deep=True)\n",
    "   y = list(lr2.wealthy.values)\n",
    "   if regression:\n",
    "       y = list(lr2.PINCP.values)\n",
    "   del lr2['wealthy']\n",
    "   del lr2['PINCP']\n",
    "   X = lr2.values\n",
    "   \n",
    "   ### Standardize X values\n",
    "   scl_obj = MinMaxScaler()\n",
    "   scl_obj.fit(X)\n",
    "   X = scl_obj.transform(X)\n",
    " \n",
    "   return (X,y)"
   ]
  },
  {
   "cell_type": "markdown",
   "metadata": {},
   "source": [
    "## Creating models"
   ]
  },
  {
   "cell_type": "markdown",
   "metadata": {},
   "source": [
    "We will try to classify the individuals of our dataset as being wealthy (or not) using several techniques including Naive Bayes, Decision Trees, and KNN. Then we will try to regress our dataset to predict the actual income of the individual using linear regression."
   ]
  },
  {
   "cell_type": "markdown",
   "metadata": {},
   "source": [
    "### Helper functions"
   ]
  },
  {
   "cell_type": "markdown",
   "metadata": {},
   "source": [
    "We will create two functions to help us with cognitive overload by cleaning our code down to the essential pieces:"
   ]
  },
  {
   "cell_type": "code",
   "execution_count": 22,
   "metadata": {
    "collapsed": true
   },
   "outputs": [],
   "source": [
    "# variables to be used later\n",
    "methodSpeeds = []\n",
    "methodSpeedNames = []\n",
    "_results = []\n",
    "names = []\n",
    "\n",
    "def print_accuracy(title, results):\n",
    "    accuracy = round(results.mean()*100, 2)\n",
    "    std = round(results.std(), 6)\n",
    "    print('%s%% accuracy (%s std) - %s' % (accuracy, std, title))\n",
    "\n",
    "def fit_and_test(title, model, show_individual_accuracies=False, print_confusion=False, regression=False, scoring='accuracy'):\n",
    "    startTime = datetime.now()\n",
    "\n",
    "    X, y = get_X_y(regression)\n",
    "    \n",
    "    cv_results = model_selection.cross_val_score(model, X, y, cv=10, scoring=scoring)\n",
    "    \n",
    "    _results.append(cv_results)\n",
    "    names.append(title)\n",
    "    \n",
    "    print_accuracy(title, cv_results)\n",
    "\n",
    "    methodSpeedNames.append(model.__class__.__name__)\n",
    "    timePassed = datetime.now() - startTime\n",
    "    methodSpeeds.append(timePassed.total_seconds())"
   ]
  },
  {
   "cell_type": "markdown",
   "metadata": {},
   "source": [
    "### Decision Trees"
   ]
  },
  {
   "cell_type": "code",
   "execution_count": 23,
   "metadata": {
    "collapsed": false
   },
   "outputs": [
    {
     "name": "stdout",
     "output_type": "stream",
     "text": [
      "89.68% accuracy (0.002525 std) - decision tree (no max feature)\n",
      "89.76% accuracy (0.003107 std) - decision tree (max_features=4)\n",
      "92.47% accuracy (0.001299 std) - Random Forest\n"
     ]
    }
   ],
   "source": [
    "dt_clf = DecisionTreeClassifier(max_features=None, class_weight='balanced')\n",
    "fit_and_test('decision tree (no max feature)', dt_clf)\n",
    "dt_clf = DecisionTreeClassifier(max_features=4, class_weight='balanced')\n",
    "fit_and_test('decision tree (max_features=4)', dt_clf)\n",
    "dt_clf = RandomForestClassifier(max_features=None, class_weight='balanced')\n",
    "fit_and_test('Random Forest', dt_clf)"
   ]
  },
  {
   "cell_type": "markdown",
   "metadata": {},
   "source": [
    "We can get nearly **90%** accuracy using a decision tree. We are not seeing much difference when changing the `max_features` parameter except a slight speed boost when limiting the featuers. Using a random forest, however, seems to give us a bit of a boost in accuracy of about **92%** total."
   ]
  },
  {
   "cell_type": "markdown",
   "metadata": {},
   "source": [
    "### Multinomial Bayes"
   ]
  },
  {
   "cell_type": "code",
   "execution_count": 24,
   "metadata": {
    "collapsed": false
   },
   "outputs": [
    {
     "name": "stdout",
     "output_type": "stream",
     "text": [
      "92.74% accuracy (0.001426 std) - bayes multinomial (alpha=100)\n",
      "92.82% accuracy (0.001239 std) - bayes multinomial (alpha=1)\n",
      "92.82% accuracy (0.001171 std) - bayes multinomial (alpha=.001)\n"
     ]
    }
   ],
   "source": [
    "mb_clf = MultinomialNB(alpha=100)\n",
    "fit_and_test('bayes multinomial (alpha=100)', mb_clf, show_individual_accuracies=False)\n",
    "mb_clf = MultinomialNB(alpha=1)\n",
    "fit_and_test('bayes multinomial (alpha=1)', mb_clf, show_individual_accuracies=False)\n",
    "mb_clf = MultinomialNB(alpha=.001)\n",
    "fit_and_test('bayes multinomial (alpha=.001)', mb_clf, show_individual_accuracies=False)"
   ]
  },
  {
   "cell_type": "markdown",
   "metadata": {},
   "source": [
    "With multinomial Bayes, we are getting an accuracy around **93%** consistently. A chance in the `alpha` parameter does not seem to produce a significant change in accuracy."
   ]
  },
  {
   "cell_type": "markdown",
   "metadata": {},
   "source": [
    "### Bernoulli Bayes"
   ]
  },
  {
   "cell_type": "code",
   "execution_count": 25,
   "metadata": {
    "collapsed": false
   },
   "outputs": [
    {
     "name": "stdout",
     "output_type": "stream",
     "text": [
      "92.03% accuracy (0.002165 std) - bayes bernoulli alpha=100, binarize=None\n",
      "91.35% accuracy (0.002516 std) - bayes bernoulli alpha=0.1, binarize=None\n",
      "\n",
      "92.68% accuracy (6e-06 std) - bayes bernoulli alpha=0.1, binarize=1\n",
      "92.68% accuracy (6e-06 std) - bayes bernoulli alpha=100, binarize=1\n"
     ]
    }
   ],
   "source": [
    "mb_clf = BernoulliNB(alpha=100)\n",
    "title_with_params = 'bayes bernoulli alpha=100, binarize=None'\n",
    "fit_and_test(title_with_params, mb_clf, show_individual_accuracies=False)\n",
    "mb_clf = BernoulliNB(alpha=.1)\n",
    "title_with_params = 'bayes bernoulli alpha=0.1, binarize=None'\n",
    "fit_and_test(title_with_params, mb_clf, show_individual_accuracies=False)\n",
    "mb_clf = BernoulliNB(alpha=.1, binarize=1)\n",
    "\n",
    "print('')\n",
    "\n",
    "title_with_params = 'bayes bernoulli alpha=0.1, binarize=1'\n",
    "fit_and_test(title_with_params, mb_clf, show_individual_accuracies=False)\n",
    "mb_clf = BernoulliNB(alpha=100, binarize=1)\n",
    "title_with_params = 'bayes bernoulli alpha=100, binarize=1'\n",
    "fit_and_test(title_with_params, mb_clf, show_individual_accuracies=False)\n"
   ]
  },
  {
   "cell_type": "markdown",
   "metadata": {},
   "source": [
    "Bernoulli Bayes gives about **92%** accuracy with a slight gain for setting the property `binarize=1`."
   ]
  },
  {
   "cell_type": "markdown",
   "metadata": {},
   "source": [
    "### Gaussian Bayes"
   ]
  },
  {
   "cell_type": "code",
   "execution_count": 26,
   "metadata": {
    "collapsed": false
   },
   "outputs": [
    {
     "name": "stdout",
     "output_type": "stream",
     "text": [
      "42.82% accuracy (0.005449 std) - bayes gaussian\n"
     ]
    }
   ],
   "source": [
    "mb_clf = GaussianNB()\n",
    "fit_and_test('bayes gaussian', mb_clf, show_individual_accuracies=False)"
   ]
  },
  {
   "cell_type": "markdown",
   "metadata": {},
   "source": [
    "The Gaussian Bayes performs terribly. Many of our features are nominal or binomial, so it makes sense that this would not perform well. Even with the assumption of normal distribution unmet, the fact that this performs worse than a random guess might do (less than 50%) is pretty startling."
   ]
  },
  {
   "cell_type": "markdown",
   "metadata": {},
   "source": [
    "### Gradient Descent"
   ]
  },
  {
   "cell_type": "code",
   "execution_count": 27,
   "metadata": {
    "collapsed": false
   },
   "outputs": [
    {
     "name": "stdout",
     "output_type": "stream",
     "text": [
      "72.01% accuracy (0.008869 std) - gradient descent\n"
     ]
    }
   ],
   "source": [
    "regularize_const = 0.1\n",
    "iterations = 5\n",
    "svm_sgd = SGDClassifier(alpha=regularize_const, class_weight='balanced',\n",
    "       fit_intercept=True, l1_ratio=0.0, learning_rate='optimal',\n",
    "       loss='hinge', n_iter=iterations, n_jobs=-1, penalty='l2')\n",
    "\n",
    "fit_and_test('gradient descent', svm_sgd, show_individual_accuracies=False)"
   ]
  },
  {
   "cell_type": "markdown",
   "metadata": {},
   "source": [
    "Stochastic gradient descent does not seem to provide an accurate model for our particular dataset."
   ]
  },
  {
   "cell_type": "markdown",
   "metadata": {},
   "source": [
    "### Decision Tree Regressor"
   ]
  },
  {
   "cell_type": "code",
   "execution_count": 28,
   "metadata": {
    "collapsed": false
   },
   "outputs": [
    {
     "name": "stdout",
     "output_type": "stream",
     "text": [
      "23.58% accuracy (0.019461 std) - Decision Tree Regressor\n"
     ]
    }
   ],
   "source": [
    "dt_reg = DecisionTreeRegressor(max_depth=5)\n",
    "fit_and_test(\"Decision Tree Regressor\", dt_reg, regression=True, scoring='r2')"
   ]
  },
  {
   "cell_type": "markdown",
   "metadata": {},
   "source": [
    "Our metric is no longer _accuracy_, because this is a regression function, but instead we are using _r^2_. The decision tree regressor gives us an r^2 of around **23%**."
   ]
  },
  {
   "cell_type": "markdown",
   "metadata": {
    "collapsed": true
   },
   "source": [
    "## Analyze Results\n"
   ]
  },
  {
   "cell_type": "markdown",
   "metadata": {},
   "source": [
    "First, we can take a look at comparing our selected metrics _accuracy_ (for classification) and _r^2_ (for regression)."
   ]
  },
  {
   "cell_type": "markdown",
   "metadata": {},
   "source": [
    "### Compare Metrics\n",
    "\n",
    "Here we compare our top-performing models using blox plots of the accuracies for the 10fold cross validation. The Bayes multinomial model, with alpha set to .001 seems to provide the highest accuracy with moderate variance. If variance was an issue, then we would want to use Bernoulli Bayes."
   ]
  },
  {
   "cell_type": "code",
   "execution_count": 29,
   "metadata": {
    "collapsed": false
   },
   "outputs": [
    {
     "data": {
      "image/png": "[encoded data removed]",
      "text/plain": [
       "<matplotlib.figure.Figure at 0x132d4198>"
      ]
     },
     "metadata": {},
     "output_type": "display_data"
    }
   ],
   "source": [
    "###Comparison of Algorithms\n",
    "x_results = pd.Series(_results)\n",
    "x_names = pd.Series(names)\n",
    "def showAlgorithmMetricPlots(items_index):\n",
    "    fig = plt.figure(figsize=(16,10))\n",
    "    fig.suptitle('Algorithm Comparison')\n",
    "    ax = fig.add_subplot(111)\n",
    "    plt.boxplot(x_results[items_index])\n",
    "    ax.set_xticklabels(x_names[items_index], rotation=90, fontsize=16)\n",
    "    plt.show()\n",
    "\n",
    "showAlgorithmMetricPlots(x_results.map(np.mean) > .8)\n"
   ]
  },
  {
   "cell_type": "markdown",
   "metadata": {},
   "source": [
    "### Statistically compare models"
   ]
  },
  {
   "cell_type": "markdown",
   "metadata": {},
   "source": [
    "We can clearly see that there are different accuracies between the models, but are the differences statistically significant? First we can take a look at the F-Statistic (and p-value) for comparing the first six models. This of course requires the assumptions of normality between the accuracy samples as well equal variance. Normality can be assumed, but we will continue with skepticism in regards to equal variance."
   ]
  },
  {
   "cell_type": "code",
   "execution_count": 30,
   "metadata": {
    "collapsed": false
   },
   "outputs": [
    {
     "name": "stdout",
     "output_type": "stream",
     "text": [
      "F statistic 572.925495672 and p-value 1.80272381786e-45\n"
     ]
    }
   ],
   "source": [
    "F, p = stats.f_oneway(_results[0], _results[1], _results[2], _results[3], _results[4], _results[5])\n",
    "print ('F statistic %s and p-value %s' %(F, p))"
   ]
  },
  {
   "cell_type": "markdown",
   "metadata": {},
   "source": [
    "Clearly, there is overwhelming evidence to suggest that at least one of the models has a different mean. Let us dive deeper and look at the t-test statistic of the two highest-performing bayes models where one has alpha of 1 and the other of .001."
   ]
  },
  {
   "cell_type": "code",
   "execution_count": 31,
   "metadata": {
    "collapsed": false
   },
   "outputs": [
    {
     "name": "stdout",
     "output_type": "stream",
     "text": [
      "T statistic -0.0874468434361 and p-value 0.931281834641\n"
     ]
    }
   ],
   "source": [
    "t, p = stats.ttest_ind(_results[4], _results[5])\n",
    "print ('T statistic %s and p-value %s' %(t, p))"
   ]
  },
  {
   "cell_type": "markdown",
   "metadata": {},
   "source": [
    "With such a large p-value, we are unable to reject the assumption that the two distributions have the same mean."
   ]
  },
  {
   "cell_type": "markdown",
   "metadata": {},
   "source": [
    "### Compare Time to complete\n",
    "\n",
    "We can also look at how long the functions take to complete. Here we compare time (in seconds) for each models' training and testing to complete."
   ]
  },
  {
   "cell_type": "code",
   "execution_count": 32,
   "metadata": {
    "collapsed": false
   },
   "outputs": [
    {
     "data": {
      "image/png": "[encoded data removed]",
      "text/plain": [
       "<matplotlib.figure.Figure at 0x1199ae48>"
      ]
     },
     "metadata": {},
     "output_type": "display_data"
    }
   ],
   "source": [
    "def showSpeedPlot():\n",
    "   speeds = pd.DataFrame({'method': methodSpeedNames, 'time': methodSpeeds})\n",
    "   speeds.plot.bar(x='method', y='time')\n",
    "   plt.show()\n",
    "showSpeedPlot()"
   ]
  },
  {
   "cell_type": "markdown",
   "metadata": {},
   "source": [
    "The Multinomial Bayes model is clearly the fastest model. Based on our analysis, the Multinomial Bayes models gives us both the best accuracy and is the fastest compared to all other classification techniques we have explored. However, we do not have convincing evidence that a change in an alpha can give us better accuracy on our Multinomial Bayes model."
   ]
  },
  {
   "cell_type": "markdown",
   "metadata": {},
   "source": [
    "### Compare F1 score\n",
    "\n",
    "Because our dataset is so unbalanced, it would be wise to check the F1 score to take a look at precision and recall. Let's use the Multinomial Bayes model to check the statistic:"
   ]
  },
  {
   "cell_type": "code",
   "execution_count": 33,
   "metadata": {
    "collapsed": false
   },
   "outputs": [
    {
     "name": "stdout",
     "output_type": "stream",
     "text": [
      "[[10997   182]\n",
      " [  679   214]]\n",
      "F1 score 0.33204034135\n"
     ]
    }
   ],
   "source": [
    "X, y = get_X_y()\n",
    "X_train, X_test, y_train, y_test = model_selection.train_test_split(X, y, test_size=.2, random_state=42)\n",
    "\n",
    "mb_clf = MultinomialNB(alpha=1)\n",
    "mb_clf.fit(X_train, y_train)\n",
    "\n",
    "y_hat = mb_clf.predict(X_test)\n",
    "\n",
    "acc = mt.accuracy_score(y_test, y_hat)\n",
    "print(mt.confusion_matrix(y_test, y_hat))\n",
    "print('F1 score %s' % mt.f1_score(y_test, y_hat))"
   ]
  },
  {
   "cell_type": "markdown",
   "metadata": {},
   "source": [
    "The confusion matrix and the F1 score both show what we were hoping to avoid. There were three times as many people incorrectly classifed as \"general\" (679) as there were correctly classified as \"wealthy\" (214). A small F1 score furth asserts our concerns. Indeed we would hope for a larger F1 score, but with our dataset so unbalanced, this might be the best we can achieve. We should proceed with caution."
   ]
  },
  {
   "cell_type": "markdown",
   "metadata": {},
   "source": [
    "## Most important features"
   ]
  },
  {
   "cell_type": "markdown",
   "metadata": {},
   "source": [
    "With Multinomial Bayes being our strongest model for accuracy, let's consider the coefficients which are outputted from fitting the model."
   ]
  },
  {
   "cell_type": "code",
   "execution_count": 34,
   "metadata": {
    "collapsed": false
   },
   "outputs": [
    {
     "data": {
      "text/plain": [
       "Worker_Class__Unemployeed                         -3.282635\n",
       "English__Not at all                               -1.896341\n",
       "PAP                                               -1.827904\n",
       "Education_Attained__na                            -1.490876\n",
       "Worker_Class__Family Business - no pay            -1.085410\n",
       "Education_Attained__no_high_school                -0.643578\n",
       "Citizen__US Territory Born                        -0.574585\n",
       "Miliary_Service__Serving Active Duty              -0.238113\n",
       "English__Not well                                 -0.147141\n",
       "Marital_status__Separated                          0.243725\n",
       "Citizen__Born Abroad)                              0.354951\n",
       "Education_Attained__some_high_school               0.406244\n",
       "English__Well                                      1.228224\n",
       "Miliary_Service__Reserves                          1.260660\n",
       "Marital_status__Widowed                            1.496488\n",
       "Worker_Class__State Government                     1.504857\n",
       "Citizen__Non-Citizen                               1.811115\n",
       "Worker_Class__Local Government                     1.948474\n",
       "Worker_Class__Federal Government                   1.990364\n",
       "Travel_Time__long                                  2.045241\n",
       "Worker_Class__nan                                  2.106437\n",
       "PWGTP                                              2.119155\n",
       "Worker_Class__Private Non-Profit                   2.202162\n",
       "Education_Attained__doctorate_degree               2.202162\n",
       "Worker_Class__Self Employed (not incorportated)    2.289519\n",
       "Education_Attained__HS_diploma                     2.397538\n",
       "Worker_Class__Self Employed (incorporated)         2.431098\n",
       "Marital_status__Divorced                           2.504262\n",
       "Marital_status__Never Married                      2.510379\n",
       "Citizen__Naturalized                               2.592296\n",
       "Education_Attained__professional_degree            2.691175\n",
       "English__Very well                                 2.774149\n",
       "Miliary_Service__Served Not Active                 2.855092\n",
       "Travel_Time__hour                                  2.907680\n",
       "Education_Attained__some_college                   3.137360\n",
       "Travel_Time__na                                    3.261277\n",
       "Education_Attained__masters_degree                 3.385593\n",
       "Travel_Time__short                                 3.528609\n",
       "Education_Attained__bacholors_degree               3.776123\n",
       "Travel_Time__half hour                             3.848264\n",
       "AGEP                                               4.059940\n",
       "Worker_Class__Private for Profit                   4.325243\n",
       "is_male                                            4.585619\n",
       "Marital_status__Married                            4.633078\n",
       "Miliary_Service__Never Served                      4.713009\n",
       "Citizen__US Born                                   4.715364\n",
       "English__Speaks only English                       4.724399\n",
       "dtype: float64"
      ]
     },
     "execution_count": 34,
     "metadata": {},
     "output_type": "execute_result"
    }
   ],
   "source": [
    "X, y = get_X_y()\n",
    "X_train, X_test, y_train, y_test = model_selection.train_test_split(X, y, test_size=.2)\n",
    "\n",
    "mb_clf = MultinomialNB(alpha=1)\n",
    "mb_clf.fit(X_train, y_train)\n",
    "\n",
    "chosen_coeficients = pd.Series(mb_clf.coef_[0])\n",
    "chosen_coeficients.index = lr2.columns\n",
    "chosen_coeficients = chosen_coeficients.sort_values()\n",
    "\n",
    "# All coefficients seem to be negative, let's offset them to show some positive weights\n",
    "chosen_coeficients + 7"
   ]
  },
  {
   "cell_type": "markdown",
   "metadata": {},
   "source": [
    "Clearly never being in the military seems to be an important feature. Additional research might be warranted into why this feature is so important.\n",
    "\n",
    "Other features seem less surprising: Being married, born in US, and only speaking English are the next most important positive features. The most important negative features are: being unemployed, receiving public assistance in the last 12 months (`PAP`), and not speaking English."
   ]
  },
  {
   "cell_type": "markdown",
   "metadata": {},
   "source": [
    "## Deployment\n",
    "\n",
    "We are achieving about 93% accuracy for our model. We may want to work on getting the accuracy up higher as you could, theoretically, get about 92% by naively classifying all people as \"general\" wealth.\n",
    "\n",
    "For true classification, we would want to see this model in production. To deploy, we may want to use a low-level, compiled langauge such as Java to be in charge of handling the actual clssification of real data."
   ]
  },
  {
   "cell_type": "markdown",
   "metadata": {},
   "source": [
    "## Exceptional Work\n",
    "\n",
    "We have used two regression models which were not discussed in class."
   ]
  }
 ],
 "metadata": {
  "kernelspec": {
   "display_name": "Python [default]",
   "language": "python",
   "name": "python2"
  },
  "language_info": {
   "codemirror_mode": {
    "name": "ipython",
    "version": 2
   },
   "file_extension": ".py",
   "mimetype": "text/x-python",
   "name": "python",
   "nbconvert_exporter": "python",
   "pygments_lexer": "ipython2",
   "version": "2.7.13"
  }
 },
 "nbformat": 4,
 "nbformat_minor": 2
}
