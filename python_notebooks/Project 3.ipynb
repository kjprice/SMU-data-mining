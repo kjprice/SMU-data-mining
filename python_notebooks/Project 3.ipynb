{
 "cells": [
  {
   "cell_type": "markdown",
   "metadata": {
    "collapsed": true
   },
   "source": [
    "# Recommendation System"
   ]
  },
  {
   "cell_type": "markdown",
   "metadata": {},
   "source": [
    "## Business Understanding"
   ]
  },
  {
   "cell_type": "markdown",
   "metadata": {},
   "source": [
    "The analysis below is for a custom recommendation system for songs.  The data chosen for training/testing came from the [Million Song Dataset Challenge](https://www.kaggle.com/c/msdchallenge#description). The dataset was originally provided by The Echo Nest and made available by [Columbia University](https://labrosa.ee.columbia.edu/millionsong/) with the puprose encouraging research in machine learning.  The predictive modeling will be done to determine songs the user would like to listen to based on the current song playing.  "
   ]
  },
  {
   "cell_type": "markdown",
   "metadata": {},
   "source": [
    "## Data Understanding"
   ]
  },
  {
   "cell_type": "markdown",
   "metadata": {},
   "source": [
    "The analysis will involve two datasets.   The song _usage_ data and the song _information_ data.\n",
    "\n",
    "The first is the Taste Profile subset.   The data includes a unique hash value for each user along with the song identification number and the number of times the user has played that particular song.  The data was not gathered over a specified time.  Rather the data is dependent upon the user having a minimum of 10 unique songs.  \n",
    "\n",
    "The second dataset is the song data which provides details about the song.  The usage data only contains the song identification number while the song data provides the song title, artist, release, and year.  "
   ]
  },
  {
   "cell_type": "markdown",
   "metadata": {},
   "source": [
    "### Downloading the usage and song data"
   ]
  },
  {
   "cell_type": "code",
   "execution_count": 1,
   "metadata": {
    "collapsed": false
   },
   "outputs": [],
   "source": [
    "%%capture\n",
    "\n",
    "import graphlab as gl\n",
    "import graphlab.aggregate as agg\n",
    "from matplotlib import pyplot as plt\n",
    "\n",
    "gl.canvas.set_target('ipynb')\n",
    "\n",
    "usage_data = gl.SFrame.read_csv(\"../data/kaggle_visible_evaluation_triplets.txt\",\n",
    "                                header=False,\n",
    "                                delimiter='\\t',\n",
    "                                column_type_hints={'X3':int})\n",
    "\n",
    "songs = gl.SFrame.read_csv(\"../data/song_data.csv\")"
   ]
  },
  {
   "cell_type": "markdown",
   "metadata": {},
   "source": [
    "### Change data labels to be human readable"
   ]
  },
  {
   "cell_type": "code",
   "execution_count": 2,
   "metadata": {
    "collapsed": false
   },
   "outputs": [],
   "source": [
    "%%capture\n",
    "print(usage_data.rename({'X1':'user', 'X2': 'song_id', 'X3': 'plays'}))"
   ]
  },
  {
   "cell_type": "markdown",
   "metadata": {},
   "source": [
    "The usage data has three fields (`user`, `song_id`, and `plays`) which describes how many times (`play`) a `song` is listened to by a `user`."
   ]
  },
  {
   "cell_type": "code",
   "execution_count": 3,
   "metadata": {
    "collapsed": false
   },
   "outputs": [
    {
     "data": {
      "text/html": [
       "<div style=\"max-height:1000px;max-width:1500px;overflow:auto;\"><table frame=\"box\" rules=\"cols\">\n",
       "    <tr>\n",
       "        <th style=\"padding-left: 1em; padding-right: 1em; text-align: center\">user</th>\n",
       "        <th style=\"padding-left: 1em; padding-right: 1em; text-align: center\">song_id</th>\n",
       "        <th style=\"padding-left: 1em; padding-right: 1em; text-align: center\">plays</th>\n",
       "    </tr>\n",
       "    <tr>\n",
       "        <td style=\"padding-left: 1em; padding-right: 1em; text-align: center; vertical-align: top\">fd50c4007b68a3737fe052d5a<br>4f78ce8aa117f3d ...</td>\n",
       "        <td style=\"padding-left: 1em; padding-right: 1em; text-align: center; vertical-align: top\">SOBONKR12A58A7A7E0</td>\n",
       "        <td style=\"padding-left: 1em; padding-right: 1em; text-align: center; vertical-align: top\">1</td>\n",
       "    </tr>\n",
       "    <tr>\n",
       "        <td style=\"padding-left: 1em; padding-right: 1em; text-align: center; vertical-align: top\">fd50c4007b68a3737fe052d5a<br>4f78ce8aa117f3d ...</td>\n",
       "        <td style=\"padding-left: 1em; padding-right: 1em; text-align: center; vertical-align: top\">SOEGIYH12A6D4FC0E3</td>\n",
       "        <td style=\"padding-left: 1em; padding-right: 1em; text-align: center; vertical-align: top\">1</td>\n",
       "    </tr>\n",
       "    <tr>\n",
       "        <td style=\"padding-left: 1em; padding-right: 1em; text-align: center; vertical-align: top\">fd50c4007b68a3737fe052d5a<br>4f78ce8aa117f3d ...</td>\n",
       "        <td style=\"padding-left: 1em; padding-right: 1em; text-align: center; vertical-align: top\">SOFLJQZ12A6D4FADA6</td>\n",
       "        <td style=\"padding-left: 1em; padding-right: 1em; text-align: center; vertical-align: top\">1</td>\n",
       "    </tr>\n",
       "    <tr>\n",
       "        <td style=\"padding-left: 1em; padding-right: 1em; text-align: center; vertical-align: top\">fd50c4007b68a3737fe052d5a<br>4f78ce8aa117f3d ...</td>\n",
       "        <td style=\"padding-left: 1em; padding-right: 1em; text-align: center; vertical-align: top\">SOHTKMO12AB01843B0</td>\n",
       "        <td style=\"padding-left: 1em; padding-right: 1em; text-align: center; vertical-align: top\">1</td>\n",
       "    </tr>\n",
       "</table>\n",
       "[4 rows x 3 columns]<br/>\n",
       "</div>"
      ],
      "text/plain": [
       "Columns:\n",
       "\tuser\tstr\n",
       "\tsong_id\tstr\n",
       "\tplays\tint\n",
       "\n",
       "Rows: 4\n",
       "\n",
       "Data:\n",
       "+-------------------------------+--------------------+-------+\n",
       "|              user             |      song_id       | plays |\n",
       "+-------------------------------+--------------------+-------+\n",
       "| fd50c4007b68a3737fe052d5a4... | SOBONKR12A58A7A7E0 |   1   |\n",
       "| fd50c4007b68a3737fe052d5a4... | SOEGIYH12A6D4FC0E3 |   1   |\n",
       "| fd50c4007b68a3737fe052d5a4... | SOFLJQZ12A6D4FADA6 |   1   |\n",
       "| fd50c4007b68a3737fe052d5a4... | SOHTKMO12AB01843B0 |   1   |\n",
       "+-------------------------------+--------------------+-------+\n",
       "[4 rows x 3 columns]"
      ]
     },
     "execution_count": 3,
     "metadata": {},
     "output_type": "execute_result"
    }
   ],
   "source": [
    "usage_data.head(4)"
   ]
  },
  {
   "cell_type": "markdown",
   "metadata": {},
   "source": [
    "The song data has five fields (`song_id`, `title`, `release`, `artist_name`, and `year`."
   ]
  },
  {
   "cell_type": "code",
   "execution_count": 4,
   "metadata": {
    "collapsed": false,
    "scrolled": true
   },
   "outputs": [
    {
     "data": {
      "text/html": [
       "<div style=\"max-height:1000px;max-width:1500px;overflow:auto;\"><table frame=\"box\" rules=\"cols\">\n",
       "    <tr>\n",
       "        <th style=\"padding-left: 1em; padding-right: 1em; text-align: center\">song_id</th>\n",
       "        <th style=\"padding-left: 1em; padding-right: 1em; text-align: center\">title</th>\n",
       "        <th style=\"padding-left: 1em; padding-right: 1em; text-align: center\">release</th>\n",
       "        <th style=\"padding-left: 1em; padding-right: 1em; text-align: center\">artist_name</th>\n",
       "        <th style=\"padding-left: 1em; padding-right: 1em; text-align: center\">year</th>\n",
       "    </tr>\n",
       "    <tr>\n",
       "        <td style=\"padding-left: 1em; padding-right: 1em; text-align: center; vertical-align: top\">SOQMMHC12AB0180CB8</td>\n",
       "        <td style=\"padding-left: 1em; padding-right: 1em; text-align: center; vertical-align: top\">Silent Night</td>\n",
       "        <td style=\"padding-left: 1em; padding-right: 1em; text-align: center; vertical-align: top\">Monster Ballads X-Mas</td>\n",
       "        <td style=\"padding-left: 1em; padding-right: 1em; text-align: center; vertical-align: top\">Faster Pussy cat</td>\n",
       "        <td style=\"padding-left: 1em; padding-right: 1em; text-align: center; vertical-align: top\">2003</td>\n",
       "    </tr>\n",
       "    <tr>\n",
       "        <td style=\"padding-left: 1em; padding-right: 1em; text-align: center; vertical-align: top\">SOVFVAK12A8C1350D9</td>\n",
       "        <td style=\"padding-left: 1em; padding-right: 1em; text-align: center; vertical-align: top\">Tanssi vaan</td>\n",
       "        <td style=\"padding-left: 1em; padding-right: 1em; text-align: center; vertical-align: top\">Karkuteillä</td>\n",
       "        <td style=\"padding-left: 1em; padding-right: 1em; text-align: center; vertical-align: top\">Karkkiautomaatti</td>\n",
       "        <td style=\"padding-left: 1em; padding-right: 1em; text-align: center; vertical-align: top\">1995</td>\n",
       "    </tr>\n",
       "    <tr>\n",
       "        <td style=\"padding-left: 1em; padding-right: 1em; text-align: center; vertical-align: top\">SOGTUKN12AB017F4F1</td>\n",
       "        <td style=\"padding-left: 1em; padding-right: 1em; text-align: center; vertical-align: top\">No One Could Ever</td>\n",
       "        <td style=\"padding-left: 1em; padding-right: 1em; text-align: center; vertical-align: top\">Butter</td>\n",
       "        <td style=\"padding-left: 1em; padding-right: 1em; text-align: center; vertical-align: top\">Hudson Mohawke</td>\n",
       "        <td style=\"padding-left: 1em; padding-right: 1em; text-align: center; vertical-align: top\">2006</td>\n",
       "    </tr>\n",
       "    <tr>\n",
       "        <td style=\"padding-left: 1em; padding-right: 1em; text-align: center; vertical-align: top\">SOBNYVR12A8C13558C</td>\n",
       "        <td style=\"padding-left: 1em; padding-right: 1em; text-align: center; vertical-align: top\">Si Vos Querés</td>\n",
       "        <td style=\"padding-left: 1em; padding-right: 1em; text-align: center; vertical-align: top\">De Culo</td>\n",
       "        <td style=\"padding-left: 1em; padding-right: 1em; text-align: center; vertical-align: top\">Yerba Brava</td>\n",
       "        <td style=\"padding-left: 1em; padding-right: 1em; text-align: center; vertical-align: top\">2003</td>\n",
       "    </tr>\n",
       "</table>\n",
       "[4 rows x 5 columns]<br/>\n",
       "</div>"
      ],
      "text/plain": [
       "Columns:\n",
       "\tsong_id\tstr\n",
       "\ttitle\tstr\n",
       "\trelease\tstr\n",
       "\tartist_name\tstr\n",
       "\tyear\tint\n",
       "\n",
       "Rows: 4\n",
       "\n",
       "Data:\n",
       "+--------------------+-------------------+-----------------------+\n",
       "|      song_id       |       title       |        release        |\n",
       "+--------------------+-------------------+-----------------------+\n",
       "| SOQMMHC12AB0180CB8 |    Silent Night   | Monster Ballads X-Mas |\n",
       "| SOVFVAK12A8C1350D9 |    Tanssi vaan    |      Karkuteillä      |\n",
       "| SOGTUKN12AB017F4F1 | No One Could Ever |         Butter        |\n",
       "| SOBNYVR12A8C13558C |   Si Vos Querés   |        De Culo        |\n",
       "+--------------------+-------------------+-----------------------+\n",
       "+------------------+------+\n",
       "|   artist_name    | year |\n",
       "+------------------+------+\n",
       "| Faster Pussy cat | 2003 |\n",
       "| Karkkiautomaatti | 1995 |\n",
       "|  Hudson Mohawke  | 2006 |\n",
       "|   Yerba Brava    | 2003 |\n",
       "+------------------+------+\n",
       "[4 rows x 5 columns]"
      ]
     },
     "execution_count": 4,
     "metadata": {},
     "output_type": "execute_result"
    }
   ],
   "source": [
    "songs.head(4)"
   ]
  },
  {
   "cell_type": "markdown",
   "metadata": {},
   "source": [
    "To enhance the `usage_data` records details from `songs` data will be included.   The inclusion of the details will allow for subjective review as well as expand the analysis from song usage to artist usage.  A merge on the `usage_data` and `songs` datasets will provide the needed details."
   ]
  },
  {
   "cell_type": "code",
   "execution_count": 6,
   "metadata": {
    "collapsed": false,
    "scrolled": false
   },
   "outputs": [
    {
     "data": {
      "text/html": [
       "<div style=\"max-height:1000px;max-width:1500px;overflow:auto;\"><table frame=\"box\" rules=\"cols\">\n",
       "    <tr>\n",
       "        <th style=\"padding-left: 1em; padding-right: 1em; text-align: center\">user</th>\n",
       "        <th style=\"padding-left: 1em; padding-right: 1em; text-align: center\">title</th>\n",
       "        <th style=\"padding-left: 1em; padding-right: 1em; text-align: center\">artist_name</th>\n",
       "        <th style=\"padding-left: 1em; padding-right: 1em; text-align: center\">plays</th>\n",
       "    </tr>\n",
       "    <tr>\n",
       "        <td style=\"padding-left: 1em; padding-right: 1em; text-align: center; vertical-align: top\">fd50c4007b68a3737fe052d5a<br>4f78ce8aa117f3d ...</td>\n",
       "        <td style=\"padding-left: 1em; padding-right: 1em; text-align: center; vertical-align: top\">You're The One</td>\n",
       "        <td style=\"padding-left: 1em; padding-right: 1em; text-align: center; vertical-align: top\">Dwight Yoakam</td>\n",
       "        <td style=\"padding-left: 1em; padding-right: 1em; text-align: center; vertical-align: top\">1</td>\n",
       "    </tr>\n",
       "    <tr>\n",
       "        <td style=\"padding-left: 1em; padding-right: 1em; text-align: center; vertical-align: top\">fd50c4007b68a3737fe052d5a<br>4f78ce8aa117f3d ...</td>\n",
       "        <td style=\"padding-left: 1em; padding-right: 1em; text-align: center; vertical-align: top\">Horn Concerto No. 4 in E<br>flat K495: II. Romance ...</td>\n",
       "        <td style=\"padding-left: 1em; padding-right: 1em; text-align: center; vertical-align: top\">Barry Tuckwell/Academy of<br>St Martin-in-the- ...</td>\n",
       "        <td style=\"padding-left: 1em; padding-right: 1em; text-align: center; vertical-align: top\">1</td>\n",
       "    </tr>\n",
       "    <tr>\n",
       "        <td style=\"padding-left: 1em; padding-right: 1em; text-align: center; vertical-align: top\">fd50c4007b68a3737fe052d5a<br>4f78ce8aa117f3d ...</td>\n",
       "        <td style=\"padding-left: 1em; padding-right: 1em; text-align: center; vertical-align: top\">Tive Sim</td>\n",
       "        <td style=\"padding-left: 1em; padding-right: 1em; text-align: center; vertical-align: top\">Cartola</td>\n",
       "        <td style=\"padding-left: 1em; padding-right: 1em; text-align: center; vertical-align: top\">1</td>\n",
       "    </tr>\n",
       "    <tr>\n",
       "        <td style=\"padding-left: 1em; padding-right: 1em; text-align: center; vertical-align: top\">fd50c4007b68a3737fe052d5a<br>4f78ce8aa117f3d ...</td>\n",
       "        <td style=\"padding-left: 1em; padding-right: 1em; text-align: center; vertical-align: top\">Catch You Baby (Steve<br>Pitron &amp; Max Sanna Radio ...</td>\n",
       "        <td style=\"padding-left: 1em; padding-right: 1em; text-align: center; vertical-align: top\">Lonnie Gordon</td>\n",
       "        <td style=\"padding-left: 1em; padding-right: 1em; text-align: center; vertical-align: top\">1</td>\n",
       "    </tr>\n",
       "</table>\n",
       "<table frame=\"box\" rules=\"cols\">\n",
       "    <tr>\n",
       "        <th style=\"padding-left: 1em; padding-right: 1em; text-align: center\">song_name</th>\n",
       "    </tr>\n",
       "    <tr>\n",
       "        <td style=\"padding-left: 1em; padding-right: 1em; text-align: center; vertical-align: top\">You're The One (Dwight<br>Yoakam) ...</td>\n",
       "    </tr>\n",
       "    <tr>\n",
       "        <td style=\"padding-left: 1em; padding-right: 1em; text-align: center; vertical-align: top\">Horn Concerto No. 4 in E<br>flat K495: II. Romance ...</td>\n",
       "    </tr>\n",
       "    <tr>\n",
       "        <td style=\"padding-left: 1em; padding-right: 1em; text-align: center; vertical-align: top\">Tive Sim (Cartola)</td>\n",
       "    </tr>\n",
       "    <tr>\n",
       "        <td style=\"padding-left: 1em; padding-right: 1em; text-align: center; vertical-align: top\">Catch You Baby (Steve<br>Pitron &amp; Max Sanna Radio ...</td>\n",
       "    </tr>\n",
       "</table>\n",
       "[4 rows x 5 columns]<br/>\n",
       "</div>"
      ],
      "text/plain": [
       "Columns:\n",
       "\tuser\tstr\n",
       "\ttitle\tstr\n",
       "\tartist_name\tstr\n",
       "\tplays\tint\n",
       "\tsong_name\tstr\n",
       "\n",
       "Rows: 4\n",
       "\n",
       "Data:\n",
       "+-------------------------------+-------------------------------+\n",
       "|              user             |             title             |\n",
       "+-------------------------------+-------------------------------+\n",
       "| fd50c4007b68a3737fe052d5a4... |         You're The One        |\n",
       "| fd50c4007b68a3737fe052d5a4... | Horn Concerto No. 4 in E f... |\n",
       "| fd50c4007b68a3737fe052d5a4... |            Tive Sim           |\n",
       "| fd50c4007b68a3737fe052d5a4... | Catch You Baby (Steve Pitr... |\n",
       "+-------------------------------+-------------------------------+\n",
       "+-------------------------------+-------+--------------------------------+\n",
       "|          artist_name          | plays |           song_name            |\n",
       "+-------------------------------+-------+--------------------------------+\n",
       "|         Dwight Yoakam         |   1   | You're The One (Dwight Yoakam) |\n",
       "| Barry Tuckwell/Academy of ... |   1   | Horn Concerto No. 4 in E f...  |\n",
       "|            Cartola            |   1   |       Tive Sim (Cartola)       |\n",
       "|         Lonnie Gordon         |   1   | Catch You Baby (Steve Pitr...  |\n",
       "+-------------------------------+-------+--------------------------------+\n",
       "[4 rows x 5 columns]"
      ]
     },
     "execution_count": 6,
     "metadata": {},
     "output_type": "execute_result"
    }
   ],
   "source": [
    "ud_df = usage_data.to_dataframe()\n",
    "song_df = songs.to_dataframe()\n",
    "\n",
    "new_df = ud_df.merge(song_df, how='left', left_on='song_id', right_on='song_id')\n",
    "\n",
    "combo_songs = gl.SFrame(new_df)\n",
    "combo_songs['song_name'] = combo_songs['title'] + ' (' + combo_songs['artist_name'] +')'\n",
    "\n",
    "combo_songs['user', 'title', 'artist_name', 'plays', 'song_name'].head(4)"
   ]
  },
  {
   "cell_type": "markdown",
   "metadata": {},
   "source": [
    "Collaborative filtering based on song and user is the primary objective.  In addition, the user and artist data will be analyzed in the same fashion to determine the preferred method.   Both models will be trained, tested, and compared.  "
   ]
  },
  {
   "cell_type": "code",
   "execution_count": 9,
   "metadata": {
    "collapsed": false
   },
   "outputs": [
    {
     "data": {
      "text/html": [
       "<div style=\"max-height:1000px;max-width:1500px;overflow:auto;\"><table frame=\"box\" rules=\"cols\">\n",
       "    <tr>\n",
       "        <th style=\"padding-left: 1em; padding-right: 1em; text-align: center\">user</th>\n",
       "        <th style=\"padding-left: 1em; padding-right: 1em; text-align: center\">artist_name</th>\n",
       "        <th style=\"padding-left: 1em; padding-right: 1em; text-align: center\">plays</th>\n",
       "    </tr>\n",
       "    <tr>\n",
       "        <td style=\"padding-left: 1em; padding-right: 1em; text-align: center; vertical-align: top\">00007a02388c208ea7176479f<br>6ae06f8224355b3 ...</td>\n",
       "        <td style=\"padding-left: 1em; padding-right: 1em; text-align: center; vertical-align: top\">Dredg</td>\n",
       "        <td style=\"padding-left: 1em; padding-right: 1em; text-align: center; vertical-align: top\">3</td>\n",
       "    </tr>\n",
       "    <tr>\n",
       "        <td style=\"padding-left: 1em; padding-right: 1em; text-align: center; vertical-align: top\">00007a02388c208ea7176479f<br>6ae06f8224355b3 ...</td>\n",
       "        <td style=\"padding-left: 1em; padding-right: 1em; text-align: center; vertical-align: top\">Local H</td>\n",
       "        <td style=\"padding-left: 1em; padding-right: 1em; text-align: center; vertical-align: top\">1</td>\n",
       "    </tr>\n",
       "    <tr>\n",
       "        <td style=\"padding-left: 1em; padding-right: 1em; text-align: center; vertical-align: top\">00007a02388c208ea7176479f<br>6ae06f8224355b3 ...</td>\n",
       "        <td style=\"padding-left: 1em; padding-right: 1em; text-align: center; vertical-align: top\">M83</td>\n",
       "        <td style=\"padding-left: 1em; padding-right: 1em; text-align: center; vertical-align: top\">2</td>\n",
       "    </tr>\n",
       "    <tr>\n",
       "        <td style=\"padding-left: 1em; padding-right: 1em; text-align: center; vertical-align: top\">00007a02388c208ea7176479f<br>6ae06f8224355b3 ...</td>\n",
       "        <td style=\"padding-left: 1em; padding-right: 1em; text-align: center; vertical-align: top\">No Doubt</td>\n",
       "        <td style=\"padding-left: 1em; padding-right: 1em; text-align: center; vertical-align: top\">1</td>\n",
       "    </tr>\n",
       "</table>\n",
       "[4 rows x 3 columns]<br/>\n",
       "</div>"
      ],
      "text/plain": [
       "Columns:\n",
       "\tuser\tstr\n",
       "\tartist_name\tstr\n",
       "\tplays\tint\n",
       "\n",
       "Rows: 4\n",
       "\n",
       "Data:\n",
       "+-------------------------------+-------------+-------+\n",
       "|              user             | artist_name | plays |\n",
       "+-------------------------------+-------------+-------+\n",
       "| 00007a02388c208ea7176479f6... |    Dredg    |   3   |\n",
       "| 00007a02388c208ea7176479f6... |   Local H   |   1   |\n",
       "| 00007a02388c208ea7176479f6... |     M83     |   2   |\n",
       "| 00007a02388c208ea7176479f6... |   No Doubt  |   1   |\n",
       "+-------------------------------+-------------+-------+\n",
       "[4 rows x 3 columns]"
      ]
     },
     "execution_count": 9,
     "metadata": {},
     "output_type": "execute_result"
    }
   ],
   "source": [
    "df_artist = new_df.groupby(by=['user','artist_name'])[['plays']].sum().reset_index()\n",
    "\n",
    "artist = gl.SFrame(df_artist)\n",
    "artist.head(4)"
   ]
  },
  {
   "cell_type": "markdown",
   "metadata": {},
   "source": [
    "### Data Visualization"
   ]
  },
  {
   "cell_type": "markdown",
   "metadata": {},
   "source": [
    "The dataset being utilized for the project is significant in size.   Due to the size, the visuals can be challenging to present.  To provide an image of the number of songs and the number of plays, each entry was categorized based on the number of plays.  The pie chart below shows the percentage of songs in each category.   "
   ]
  },
  {
   "cell_type": "code",
   "execution_count": 7,
   "metadata": {
    "collapsed": false,
    "scrolled": true
   },
   "outputs": [
    {
     "data": {
      "text/html": [
       "<div>\n",
       "<table border=\"1\" class=\"dataframe\">\n",
       "  <thead>\n",
       "    <tr style=\"text-align: right;\">\n",
       "      <th></th>\n",
       "      <th>user</th>\n",
       "      <th>song_id</th>\n",
       "      <th>plays</th>\n",
       "      <th>title</th>\n",
       "      <th>release</th>\n",
       "      <th>artist_name</th>\n",
       "      <th>year</th>\n",
       "      <th>category</th>\n",
       "    </tr>\n",
       "  </thead>\n",
       "  <tbody>\n",
       "    <tr>\n",
       "      <th>0</th>\n",
       "      <td>fd50c4007b68a3737fe052d5a4f78ce8aa117f3d</td>\n",
       "      <td>SOBONKR12A58A7A7E0</td>\n",
       "      <td>1</td>\n",
       "      <td>You're The One</td>\n",
       "      <td>If There Was A Way</td>\n",
       "      <td>Dwight Yoakam</td>\n",
       "      <td>1990</td>\n",
       "      <td>0-1</td>\n",
       "    </tr>\n",
       "    <tr>\n",
       "      <th>1</th>\n",
       "      <td>fd50c4007b68a3737fe052d5a4f78ce8aa117f3d</td>\n",
       "      <td>SOEGIYH12A6D4FC0E3</td>\n",
       "      <td>1</td>\n",
       "      <td>Horn Concerto No. 4 in E flat K495: II. Romanc...</td>\n",
       "      <td>Mozart - Eine kleine Nachtmusik</td>\n",
       "      <td>Barry Tuckwell/Academy of St Martin-in-the-Fie...</td>\n",
       "      <td>0</td>\n",
       "      <td>0-1</td>\n",
       "    </tr>\n",
       "    <tr>\n",
       "      <th>2</th>\n",
       "      <td>fd50c4007b68a3737fe052d5a4f78ce8aa117f3d</td>\n",
       "      <td>SOFLJQZ12A6D4FADA6</td>\n",
       "      <td>1</td>\n",
       "      <td>Tive Sim</td>\n",
       "      <td>Nova Bis-Cartola</td>\n",
       "      <td>Cartola</td>\n",
       "      <td>1974</td>\n",
       "      <td>0-1</td>\n",
       "    </tr>\n",
       "  </tbody>\n",
       "</table>\n",
       "</div>"
      ],
      "text/plain": [
       "                                       user             song_id  plays  \\\n",
       "0  fd50c4007b68a3737fe052d5a4f78ce8aa117f3d  SOBONKR12A58A7A7E0      1   \n",
       "1  fd50c4007b68a3737fe052d5a4f78ce8aa117f3d  SOEGIYH12A6D4FC0E3      1   \n",
       "2  fd50c4007b68a3737fe052d5a4f78ce8aa117f3d  SOFLJQZ12A6D4FADA6      1   \n",
       "\n",
       "                                               title  \\\n",
       "0                                     You're The One   \n",
       "1  Horn Concerto No. 4 in E flat K495: II. Romanc...   \n",
       "2                                           Tive Sim   \n",
       "\n",
       "                           release  \\\n",
       "0               If There Was A Way   \n",
       "1  Mozart - Eine kleine Nachtmusik   \n",
       "2                 Nova Bis-Cartola   \n",
       "\n",
       "                                         artist_name  year category  \n",
       "0                                      Dwight Yoakam  1990      0-1  \n",
       "1  Barry Tuckwell/Academy of St Martin-in-the-Fie...     0      0-1  \n",
       "2                                            Cartola  1974      0-1  "
      ]
     },
     "execution_count": 7,
     "metadata": {},
     "output_type": "execute_result"
    }
   ],
   "source": [
    "#Create the category function\n",
    "def f(row):\n",
    "    if row['plays'] <= 1:\n",
    "        val = ' 0-1'\n",
    "    elif row['plays'] <= 5:\n",
    "        val = ' 2-5'\n",
    "    elif row['plays'] <= 10:\n",
    "        val =  ' 6-10'\n",
    "    elif row['plays'] <= 50:\n",
    "        val =  '11-50'\n",
    "    elif row['plays'] <= 75:\n",
    "        val =  '51-75'\n",
    "    elif row['plays'] >75:\n",
    "        val =  'Greater than 75'\n",
    "    return val\n",
    "\n",
    "#Apply the category function \n",
    "new_df['category'] = new_df.apply(f, axis=1)\n",
    "\n",
    "#Confirm the new category added\n",
    "new_df.head(3)"
   ]
  },
  {
   "cell_type": "code",
   "execution_count": 8,
   "metadata": {
    "collapsed": false
   },
   "outputs": [
    {
     "data": {
      "text/html": [
       "<div>\n",
       "<table border=\"1\" class=\"dataframe\">\n",
       "  <thead>\n",
       "    <tr style=\"text-align: right;\">\n",
       "      <th></th>\n",
       "      <th>category</th>\n",
       "      <th>plays</th>\n",
       "    </tr>\n",
       "  </thead>\n",
       "  <tbody>\n",
       "    <tr>\n",
       "      <th>0</th>\n",
       "      <td>0-1</td>\n",
       "      <td>862354</td>\n",
       "    </tr>\n",
       "    <tr>\n",
       "      <th>1</th>\n",
       "      <td>2-5</td>\n",
       "      <td>451292</td>\n",
       "    </tr>\n",
       "    <tr>\n",
       "      <th>2</th>\n",
       "      <td>6-10</td>\n",
       "      <td>100857</td>\n",
       "    </tr>\n",
       "    <tr>\n",
       "      <th>3</th>\n",
       "      <td>11-50</td>\n",
       "      <td>72879</td>\n",
       "    </tr>\n",
       "    <tr>\n",
       "      <th>4</th>\n",
       "      <td>51-75</td>\n",
       "      <td>2699</td>\n",
       "    </tr>\n",
       "  </tbody>\n",
       "</table>\n",
       "</div>"
      ],
      "text/plain": [
       "  category   plays\n",
       "0      0-1  862354\n",
       "1      2-5  451292\n",
       "2     6-10  100857\n",
       "3    11-50   72879\n",
       "4    51-75    2699"
      ]
     },
     "execution_count": 8,
     "metadata": {},
     "output_type": "execute_result"
    }
   ],
   "source": [
    "#Group by categories\n",
    "\n",
    "pie_chart = new_df.groupby(by=['category'])[['plays']].count().reset_index()\n",
    "\n",
    "pie_chart.head()"
   ]
  },
  {
   "cell_type": "code",
   "execution_count": 9,
   "metadata": {
    "collapsed": false
   },
   "outputs": [
    {
     "data": {
      "text/plain": [
       "([<matplotlib.patches.Wedge at 0x12113a910>,\n",
       "  <matplotlib.patches.Wedge at 0x12114dc50>,\n",
       "  <matplotlib.patches.Wedge at 0x12115df50>,\n",
       "  <matplotlib.patches.Wedge at 0x121176290>,\n",
       "  <matplotlib.patches.Wedge at 0x121183590>,\n",
       "  <matplotlib.patches.Wedge at 0x121190890>],\n",
       " [<matplotlib.text.Text at 0x12114d350>,\n",
       "  <matplotlib.text.Text at 0x12115d650>,\n",
       "  <matplotlib.text.Text at 0x121169950>,\n",
       "  <matplotlib.text.Text at 0x121176c50>,\n",
       "  <matplotlib.text.Text at 0x121183f50>,\n",
       "  <matplotlib.text.Text at 0x12119d290>],\n",
       " [<matplotlib.text.Text at 0x12114d810>,\n",
       "  <matplotlib.text.Text at 0x12115db10>,\n",
       "  <matplotlib.text.Text at 0x121169e10>,\n",
       "  <matplotlib.text.Text at 0x121183150>,\n",
       "  <matplotlib.text.Text at 0x121190450>,\n",
       "  <matplotlib.text.Text at 0x12119d750>])"
      ]
     },
     "execution_count": 9,
     "metadata": {},
     "output_type": "execute_result"
    }
   ],
   "source": [
    "#Plot\n",
    "plt.pie(pie_chart['plays'], labels=pie_chart['category'], autopct='%1.1f%%', shadow=True, startangle=140)\n",
    "plt.axis('equal')\n",
    "plt.show()"
   ]
  },
  {
   "cell_type": "code",
   "execution_count": null,
   "metadata": {
    "collapsed": false
   },
   "outputs": [],
   "source": [
    "#Apply the category function \n",
    "df_artist['category'] = df_artist.apply(f, axis=1)\n",
    "                                  \n",
    "art_pc = df_artist.groupby(by=['category'])[['plays']].count().reset_index()\n",
    "art_pc.head()\n",
    "\n",
    "plt.pie(art_pc['plays'], labels=art_pc['category'], autopct='%1.1f%%', shadow=True, startangle=140)\n",
    "plt.axis('equal')\n",
    "plt.show()"
   ]
  },
  {
   "cell_type": "markdown",
   "metadata": {},
   "source": [
    "With the song data, over half of the information is based on a song being played a single time.  All data will remain in the analysis; however, the model will be chosen to consider the number of times the song was played."
   ]
  },
  {
   "cell_type": "markdown",
   "metadata": {},
   "source": [
    "### GraphLab Canvas"
   ]
  },
  {
   "cell_type": "code",
   "execution_count": 23,
   "metadata": {
    "collapsed": false
   },
   "outputs": [
    {
     "data": {
      "application/javascript": [
       "$(\"head\").append($(\"<link/>\").attr({\n",
       "  rel:  \"stylesheet\",\n",
       "  type: \"text/css\",\n",
       "  href: \"//cdnjs.cloudflare.com/ajax/libs/font-awesome/4.1.0/css/font-awesome.min.css\"\n",
       "}));\n",
       "$(\"head\").append($(\"<link/>\").attr({\n",
       "  rel:  \"stylesheet\",\n",
       "  type: \"text/css\",\n",
       "  href: \"https://static.turi.com/products/graphlab-create/2.1/canvas/css/canvas.css\"\n",
       "}));\n",
       "\n",
       "            (function(){\n",
       "\n",
       "                var e = null;\n",
       "                if (typeof element == 'undefined') {\n",
       "                    var scripts = document.getElementsByTagName('script');\n",
       "                    var thisScriptTag = scripts[scripts.length-1];\n",
       "                    var parentDiv = thisScriptTag.parentNode;\n",
       "                    e = document.createElement('div');\n",
       "                    parentDiv.appendChild(e);\n",
       "                } else {\n",
       "                    e = element[0];\n",
       "                }\n",
       "\n",
       "                if (typeof requirejs !== 'undefined') {\n",
       "                    // disable load timeout; ipython_app.js is large and can take a while to load.\n",
       "                    requirejs.config({waitSeconds: 0});\n",
       "                }\n",
       "\n",
       "                require(['https://static.turi.com/products/graphlab-create/2.1/canvas/js/ipython_app.js'], function(IPythonApp){\n",
       "                    var app = new IPythonApp();\n",
       "                    app.attachView('sframe','Summary', {\"ipython\": true, \"sketch\": {\"song_id\": {\"complete\": true, \"numeric\": false, \"num_unique\": 166433, \"num_undefined\": 0, \"progress\": 1.0, \"frequent_items\": {\"SOUWROC12A8C141CF3\": {\"frequency\": 197, \"value\": \"SOUWROC12A8C141CF3\"}, \"SOEIKRK12AB017D6E0\": {\"frequency\": 179, \"value\": \"SOEIKRK12AB017D6E0\"}, \"SOPKVQT12A6701FB27\": {\"frequency\": 143, \"value\": \"SOPKVQT12A6701FB27\"}, \"SOEQCMA12AB01891C5\": {\"frequency\": 251, \"value\": \"SOEQCMA12AB01891C5\"}, \"SOGUKDL12A6D4FAAB9\": {\"frequency\": 166, \"value\": \"SOGUKDL12A6D4FAAB9\"}, \"SOWNIUS12A8C142815\": {\"frequency\": 179, \"value\": \"SOWNIUS12A8C142815\"}, \"SOSHVEI12AF729AF6B\": {\"frequency\": 209, \"value\": \"SOSHVEI12AF729AF6B\"}, \"SOOUDTH12A6D4F60A6\": {\"frequency\": 165, \"value\": \"SOOUDTH12A6D4F60A6\"}, \"SOCGWCK12A67020F39\": {\"frequency\": 256, \"value\": \"SOCGWCK12A67020F39\"}, \"SOLJWIQ12A6D4FA875\": {\"frequency\": 241, \"value\": \"SOLJWIQ12A6D4FA875\"}, \"SONVPTP12A6D4F7A34\": {\"frequency\": 315, \"value\": \"SONVPTP12A6D4F7A34\"}, \"SOIYWPZ12A81C204EF\": {\"frequency\": 313, \"value\": \"SOIYWPZ12A81C204EF\"}, \"SOXWYZP12AF72A42A6\": {\"frequency\": 967, \"value\": \"SOXWYZP12AF72A42A6\"}, \"SOUGAYN12A6D4F6E90\": {\"frequency\": 204, \"value\": \"SOUGAYN12A6D4F6E90\"}, \"SOTKMXA12A6D4F672F\": {\"frequency\": 569, \"value\": \"SOTKMXA12A6D4F672F\"}, \"SOWUZVU12A6D4F914D\": {\"frequency\": 268, \"value\": \"SOWUZVU12A6D4F914D\"}, \"SOFWTVR12A6D4F9A43\": {\"frequency\": 153, \"value\": \"SOFWTVR12A6D4F9A43\"}, \"SOBYZRW12A58A7ABF1\": {\"frequency\": 149, \"value\": \"SOBYZRW12A58A7ABF1\"}, \"SOFGTCQ12AB01812C8\": {\"frequency\": 142, \"value\": \"SOFGTCQ12AB01812C8\"}, \"SOVWPNQ12A8C132A63\": {\"frequency\": 146, \"value\": \"SOVWPNQ12A8C132A63\"}, \"SOFRCGW12A81C21EA6\": {\"frequency\": 807, \"value\": \"SOFRCGW12A81C21EA6\"}, \"SOGETEU12A8C1410AA\": {\"frequency\": 132, \"value\": \"SOGETEU12A8C1410AA\"}, \"SOJJBVA12A58A78A79\": {\"frequency\": 138, \"value\": \"SOJJBVA12A58A78A79\"}, \"SOXLOQG12AF72A2D55\": {\"frequency\": 834, \"value\": \"SOXLOQG12AF72A2D55\"}, \"SOQWHFM12A8C138FF8\": {\"frequency\": 182, \"value\": \"SOQWHFM12A8C138FF8\"}, \"SOGRWVE12A8AE488B1\": {\"frequency\": 183, \"value\": \"SOGRWVE12A8AE488B1\"}, \"SOWONPQ12A8BED02A8\": {\"frequency\": 203, \"value\": \"SOWONPQ12A8BED02A8\"}, \"SOHPRQX12AB0186127\": {\"frequency\": 139, \"value\": \"SOHPRQX12AB0186127\"}, \"SONOYIB12A81C1F88C\": {\"frequency\": 964, \"value\": \"SONOYIB12A81C1F88C\"}, \"SOUCPBK12A58A7881A\": {\"frequency\": 320, \"value\": \"SOUCPBK12A58A7881A\"}, \"SOMMUKQ12AB01801A5\": {\"frequency\": 284, \"value\": \"SOMMUKQ12AB01801A5\"}, \"SODEOCO12A6701E922\": {\"frequency\": 445, \"value\": \"SODEOCO12A6701E922\"}, \"SOJOJUN12A8AE47E1D\": {\"frequency\": 165, \"value\": \"SOJOJUN12A8AE47E1D\"}, \"SOEWYLX12A6D4F8E5F\": {\"frequency\": 245, \"value\": \"SOEWYLX12A6D4F8E5F\"}, \"SOOXRJG12A8C13773E\": {\"frequency\": 176, \"value\": \"SOOXRJG12A8C13773E\"}, \"SOTTTEQ12B0B80CA01\": {\"frequency\": 164, \"value\": \"SOTTTEQ12B0B80CA01\"}, \"SOMNGMO12A6702187E\": {\"frequency\": 204, \"value\": \"SOMNGMO12A6702187E\"}, \"SOCRRJX12A6701D96A\": {\"frequency\": 158, \"value\": \"SOCRRJX12A6701D96A\"}, \"SODXFAS12A58A7B24B\": {\"frequency\": 155, \"value\": \"SODXFAS12A58A7B24B\"}, \"SOTODTI12A8C1402D3\": {\"frequency\": 169, \"value\": \"SOTODTI12A8C1402D3\"}, \"SOZOWON12A67ADA091\": {\"frequency\": 155, \"value\": \"SOZOWON12A67ADA091\"}, \"SOPUELG12A6701D215\": {\"frequency\": 216, \"value\": \"SOPUELG12A6701D215\"}, \"SOHEGSJ12AB0183790\": {\"frequency\": 194, \"value\": \"SOHEGSJ12AB0183790\"}, \"SOLOFYI12A8C145F8D\": {\"frequency\": 228, \"value\": \"SOLOFYI12A8C145F8D\"}, \"SONZPPA12AF72A9E13\": {\"frequency\": 158, \"value\": \"SONZPPA12AF72A9E13\"}, \"SOHTKMO12AB01843B0\": {\"frequency\": 2104, \"value\": \"SOHTKMO12AB01843B0\"}, \"SOKYHYL12A8C13D79D\": {\"frequency\": 393, \"value\": \"SOKYHYL12A8C13D79D\"}, \"SONIQRE12AF72A2B02\": {\"frequency\": 2051, \"value\": \"SONIQRE12AF72A2B02\"}, \"SOEQJBS12A8AE475A4\": {\"frequency\": 671, \"value\": \"SOEQJBS12A8AE475A4\"}, \"SOBAUXH12A67ADD86C\": {\"frequency\": 154, \"value\": \"SOBAUXH12A67ADD86C\"}, \"SOVALQH12AB0189114\": {\"frequency\": 204, \"value\": \"SOVALQH12AB0189114\"}, \"SOPKPUK12A8C13CAED\": {\"frequency\": 147, \"value\": \"SOPKPUK12A8C13CAED\"}, \"SOFYELC12A6D4F8D96\": {\"frequency\": 230, \"value\": \"SOFYELC12A6D4F8D96\"}, \"SOWKSFG12A8C13E535\": {\"frequency\": 207, \"value\": \"SOWKSFG12A8C13E535\"}, \"SOADISH12AB018DFAC\": {\"frequency\": 146, \"value\": \"SOADISH12AB018DFAC\"}, \"SOSJSSU12A6D4F8F41\": {\"frequency\": 249, \"value\": \"SOSJSSU12A6D4F8F41\"}, \"SOSGEGU12AB018188A\": {\"frequency\": 179, \"value\": \"SOSGEGU12AB018188A\"}, \"SOLMEOG12A8C142046\": {\"frequency\": 143, \"value\": \"SOLMEOG12A8C142046\"}, \"SOUCKDH12A8C138FF5\": {\"frequency\": 316, \"value\": \"SOUCKDH12A8C138FF5\"}, \"SOXZUAV12A6310F21A\": {\"frequency\": 142, \"value\": \"SOXZUAV12A6310F21A\"}, \"SORMGEO12A8C14406D\": {\"frequency\": 218, \"value\": \"SORMGEO12A8C14406D\"}, \"SOKUWEV12A8C13BBEB\": {\"frequency\": 137, \"value\": \"SOKUWEV12A8C13BBEB\"}, \"SOZBZSY12A6D4FA404\": {\"frequency\": 214, \"value\": \"SOZBZSY12A6D4FA404\"}, \"SOAYATB12A6701FD50\": {\"frequency\": 253, \"value\": \"SOAYATB12A6701FD50\"}, \"SOVGLTY12AF72A39CD\": {\"frequency\": 215, \"value\": \"SOVGLTY12AF72A39CD\"}, \"SOSBKKN12A8C1384B4\": {\"frequency\": 191, \"value\": \"SOSBKKN12A8C1384B4\"}, \"SOFZSAT12AF72A0806\": {\"frequency\": 140, \"value\": \"SOFZSAT12AF72A0806\"}, \"SOJSXJY12A8C13E32E\": {\"frequency\": 168, \"value\": \"SOJSXJY12A8C13E32E\"}, \"SOBKLTU12A58A7FB77\": {\"frequency\": 326, \"value\": \"SOBKLTU12A58A7FB77\"}, \"SOIWBJU12A6701CBE7\": {\"frequency\": 172, \"value\": \"SOIWBJU12A6701CBE7\"}, \"SOCDOVE12AB01808DE\": {\"frequency\": 163, \"value\": \"SOCDOVE12AB01808DE\"}, \"SOXKFRI12A8C137A5F\": {\"frequency\": 153, \"value\": \"SOXKFRI12A8C137A5F\"}, \"SORJICW12A8C13640D\": {\"frequency\": 831, \"value\": \"SORJICW12A8C13640D\"}, \"SOVYMZI12A58A7A5EB\": {\"frequency\": 164, \"value\": \"SOVYMZI12A58A7A5EB\"}, \"SOOLYZQ12A6D4FA5B7\": {\"frequency\": 316, \"value\": \"SOOLYZQ12A6D4FA5B7\"}, \"SODOLRB12A8AE47628\": {\"frequency\": 146, \"value\": \"SODOLRB12A8AE47628\"}, \"SOQLFVE12AB017E74E\": {\"frequency\": 219, \"value\": \"SOQLFVE12AB017E74E\"}, \"SOUNNWW12AB018795D\": {\"frequency\": 372, \"value\": \"SOUNNWW12AB018795D\"}, \"SOGVSOC12A58A7B0F7\": {\"frequency\": 174, \"value\": \"SOGVSOC12A58A7B0F7\"}, \"SOVJJQI12A6D4F5910\": {\"frequency\": 162, \"value\": \"SOVJJQI12A6D4F5910\"}, \"SOELOOM12AB017DB4C\": {\"frequency\": 210, \"value\": \"SOELOOM12AB017DB4C\"}, \"SOUNZHU12A8AE47481\": {\"frequency\": 1308, \"value\": \"SOUNZHU12A8AE47481\"}, \"SOXXVSU12A8C133445\": {\"frequency\": 190, \"value\": \"SOXXVSU12A8C133445\"}, \"SOKKKZW12A6D4F7F88\": {\"frequency\": 388, \"value\": \"SOKKKZW12A6D4F7F88\"}, \"SOZVCRW12A67ADA0B7\": {\"frequency\": 941, \"value\": \"SOZVCRW12A67ADA0B7\"}, \"SOGJVUF12A8C141F9F\": {\"frequency\": 141, \"value\": \"SOGJVUF12A8C141F9F\"}, \"SOMCMKG12A8C1347BF\": {\"frequency\": 599, \"value\": \"SOMCMKG12A8C1347BF\"}, \"SOHMFHE12AAF3B3E07\": {\"frequency\": 144, \"value\": \"SOHMFHE12AAF3B3E07\"}, \"SOJKQSF12A6D4F5EE9\": {\"frequency\": 526, \"value\": \"SOJKQSF12A6D4F5EE9\"}, \"SOGDZSB12AB017CC29\": {\"frequency\": 216, \"value\": \"SOGDZSB12AB017CC29\"}, \"SOHRQFL12A6D4F3C8A\": {\"frequency\": 594, \"value\": \"SOHRQFL12A6D4F3C8A\"}, \"SOQZOMP12A6D4FD39D\": {\"frequency\": 145, \"value\": \"SOQZOMP12A6D4FD39D\"}, \"SOYGKNI12AB0187E6E\": {\"frequency\": 739, \"value\": \"SOYGKNI12AB0187E6E\"}, \"SOREBOB12A6D4F7986\": {\"frequency\": 185, \"value\": \"SOREBOB12A6D4F7986\"}, \"SOIHUUT12AF72A2188\": {\"frequency\": 235, \"value\": \"SOIHUUT12AF72A2188\"}, \"SOQCGHN12AB0181246\": {\"frequency\": 747, \"value\": \"SOQCGHN12AB0181246\"}, \"SOEPQXD12A58A7BBFE\": {\"frequency\": 257, \"value\": \"SOEPQXD12A58A7BBFE\"}, \"SOIYIMC12AC9097E45\": {\"frequency\": 259, \"value\": \"SOIYIMC12AC9097E45\"}, \"SOGCWUH12AC90732B0\": {\"frequency\": 839, \"value\": \"SOGCWUH12AC90732B0\"}, \"SOGRAGY12A6D4F7248\": {\"frequency\": 303, \"value\": \"SOGRAGY12A6D4F7248\"}, \"SOGYKVS12A67020EDD\": {\"frequency\": 152, \"value\": \"SOGYKVS12A67020EDD\"}, \"SOMHEVM12A58A80951\": {\"frequency\": 167, \"value\": \"SOMHEVM12A58A80951\"}, \"SOALJAA12A6702085C\": {\"frequency\": 415, \"value\": \"SOALJAA12A6702085C\"}, \"SOSQIHH12A8C13370B\": {\"frequency\": 197, \"value\": \"SOSQIHH12A8C13370B\"}, \"SOOUCOH12AC468D3EB\": {\"frequency\": 231, \"value\": \"SOOUCOH12AC468D3EB\"}, \"SOKVZHI12A58A7A13E\": {\"frequency\": 373, \"value\": \"SOKVZHI12A58A7A13E\"}, \"SOJVYJH12AB0180F4F\": {\"frequency\": 144, \"value\": \"SOJVYJH12AB0180F4F\"}, \"SOBXHDL12A81C204C0\": {\"frequency\": 1100, \"value\": \"SOBXHDL12A81C204C0\"}, \"SOLFXKT12AB017E3E0\": {\"frequency\": 2726, \"value\": \"SOLFXKT12AB017E3E0\"}, \"SOKCXXE12A6D4F5A04\": {\"frequency\": 165, \"value\": \"SOKCXXE12A6D4F5A04\"}, \"SOOSCPN12AB0186AF2\": {\"frequency\": 293, \"value\": \"SOOSCPN12AB0186AF2\"}, \"SOTMKZF12AB0187412\": {\"frequency\": 185, \"value\": \"SOTMKZF12AB0187412\"}, \"SOHZGLQ12AB01879B0\": {\"frequency\": 152, \"value\": \"SOHZGLQ12AB01879B0\"}, \"SOFQFWN12A58A7A84E\": {\"frequency\": 168, \"value\": \"SOFQFWN12A58A7A84E\"}, \"SOFBFVG12A6D4F61A7\": {\"frequency\": 142, \"value\": \"SOFBFVG12A6D4F61A7\"}, \"SOJCRUY12A67ADA4C2\": {\"frequency\": 155, \"value\": \"SOJCRUY12A67ADA4C2\"}, \"SOPEOGA12AB017B694\": {\"frequency\": 393, \"value\": \"SOPEOGA12AB017B694\"}, \"SOSDRTG12A8AE46382\": {\"frequency\": 138, \"value\": \"SOSDRTG12A8AE46382\"}, \"SOJQOIK12AF72A0AAF\": {\"frequency\": 151, \"value\": \"SOJQOIK12AF72A0AAF\"}, \"SOGIWFN12AB01884AD\": {\"frequency\": 167, \"value\": \"SOGIWFN12AB01884AD\"}, \"SOCAJUZ12A6701E555\": {\"frequency\": 128, \"value\": \"SOCAJUZ12A6701E555\"}, \"SOIGXKF12A6701E096\": {\"frequency\": 360, \"value\": \"SOIGXKF12A6701E096\"}, \"SOQGXVR12B0B80C04E\": {\"frequency\": 187, \"value\": \"SOQGXVR12B0B80C04E\"}, \"SOWSPUS12AC468BEE3\": {\"frequency\": 281, \"value\": \"SOWSPUS12AC468BEE3\"}, \"SOTLHUV12A6D4FC541\": {\"frequency\": 226, \"value\": \"SOTLHUV12A6D4FC541\"}, \"SODOWUC12AC9097E76\": {\"frequency\": 717, \"value\": \"SODOWUC12AC9097E76\"}, \"SOUVGJL12AB017FC35\": {\"frequency\": 470, \"value\": \"SOUVGJL12AB017FC35\"}, \"SOUOCRG12A67AE0E17\": {\"frequency\": 188, \"value\": \"SOUOCRG12A67AE0E17\"}, \"SOSROFB12AAF3B4C5D\": {\"frequency\": 890, \"value\": \"SOSROFB12AAF3B4C5D\"}, \"SOKRQNU12A67ADA22E\": {\"frequency\": 232, \"value\": \"SOKRQNU12A67ADA22E\"}, \"SOOYDAZ12A58A7AE08\": {\"frequency\": 406, \"value\": \"SOOYDAZ12A58A7AE08\"}, \"SOIBLKQ12AB0183E85\": {\"frequency\": 525, \"value\": \"SOIBLKQ12AB0183E85\"}, \"SOJHUQN12A6D4F8EDE\": {\"frequency\": 162, \"value\": \"SOJHUQN12A6D4F8EDE\"}, \"SOLGIWB12A58A77A05\": {\"frequency\": 148, \"value\": \"SOLGIWB12A58A77A05\"}, \"SOUOEMP12A8C13866E\": {\"frequency\": 627, \"value\": \"SOUOEMP12A8C13866E\"}, \"SOHOCMM12AB01845E0\": {\"frequency\": 137, \"value\": \"SOHOCMM12AB01845E0\"}, \"SOJYFST12A6D4F9DE8\": {\"frequency\": 162, \"value\": \"SOJYFST12A6D4F9DE8\"}, \"SORJBJB12A8C13E711\": {\"frequency\": 158, \"value\": \"SORJBJB12A8C13E711\"}, \"SOPLUOT12A6D4F7AC3\": {\"frequency\": 269, \"value\": \"SOPLUOT12A6D4F7AC3\"}, \"SOYHHCO12AB01891DA\": {\"frequency\": 195, \"value\": \"SOYHHCO12AB01891DA\"}, \"SOEBOWM12AB017F279\": {\"frequency\": 847, \"value\": \"SOEBOWM12AB017F279\"}, \"SOULTKQ12AB018A183\": {\"frequency\": 2348, \"value\": \"SOULTKQ12AB018A183\"}, \"SOVRMZU12AB017FE90\": {\"frequency\": 219, \"value\": \"SOVRMZU12AB017FE90\"}, \"SOEHWGF12A6D4F8B2B\": {\"frequency\": 1219, \"value\": \"SOEHWGF12A6D4F8B2B\"}, \"SOQWYAQ12A6D4FB9A3\": {\"frequency\": 688, \"value\": \"SOQWYAQ12A6D4FB9A3\"}, \"SODPKNB12AF72ACEBA\": {\"frequency\": 214, \"value\": \"SODPKNB12AF72ACEBA\"}, \"SOOBGSW12A6D4F9D51\": {\"frequency\": 468, \"value\": \"SOOBGSW12A6D4F9D51\"}, \"SODBQPZ12A8C144B58\": {\"frequency\": 173, \"value\": \"SODBQPZ12A8C144B58\"}, \"SOSJRJP12A6D4F826F\": {\"frequency\": 856, \"value\": \"SOSJRJP12A6D4F826F\"}, \"SOMCYXR12AB01897B4\": {\"frequency\": 140, \"value\": \"SOMCYXR12AB01897B4\"}, \"SOZUPDR12A8C137FB6\": {\"frequency\": 161, \"value\": \"SOZUPDR12A8C137FB6\"}, \"SOEPJPV12A8C13DE9F\": {\"frequency\": 421, \"value\": \"SOEPJPV12A8C13DE9F\"}, \"SOAAVUV12AB0186646\": {\"frequency\": 295, \"value\": \"SOAAVUV12AB0186646\"}, \"SOXNYUA12AB017B49B\": {\"frequency\": 162, \"value\": \"SOXNYUA12AB017B49B\"}, \"SOZSFWF12A6D4F93D5\": {\"frequency\": 230, \"value\": \"SOZSFWF12A6D4F93D5\"}, \"SOKTJKI12A8C143254\": {\"frequency\": 154, \"value\": \"SOKTJKI12A8C143254\"}, \"SOJGZXL12A6D4F2980\": {\"frequency\": 446, \"value\": \"SOJGZXL12A6D4F2980\"}, \"SOBNCNF12A8C13F62E\": {\"frequency\": 244, \"value\": \"SOBNCNF12A8C13F62E\"}, \"SOSUZFA12A8C13C04A\": {\"frequency\": 298, \"value\": \"SOSUZFA12A8C13C04A\"}, \"SOIIOUS12A8AE47E20\": {\"frequency\": 705, \"value\": \"SOIIOUS12A8AE47E20\"}, \"SOPXFGP12A8C13FA9F\": {\"frequency\": 152, \"value\": \"SOPXFGP12A8C13FA9F\"}, \"SOIZFTE12AB0186842\": {\"frequency\": 718, \"value\": \"SOIZFTE12AB0186842\"}, \"SOVRIPE12A6D4FEA19\": {\"frequency\": 141, \"value\": \"SOVRIPE12A6D4FEA19\"}, \"SOBYHAJ12A6701BF1D\": {\"frequency\": 213, \"value\": \"SOBYHAJ12A6701BF1D\"}, \"SOPJLFV12A6701C797\": {\"frequency\": 326, \"value\": \"SOPJLFV12A6701C797\"}, \"SOHTQAS12A6701C7BA\": {\"frequency\": 338, \"value\": \"SOHTQAS12A6701C7BA\"}, \"SONNSYV12A8C146BEC\": {\"frequency\": 909, \"value\": \"SONNSYV12A8C146BEC\"}, \"SORALYQ12A8151BA99\": {\"frequency\": 447, \"value\": \"SORALYQ12A8151BA99\"}, \"SOTGHQR12A8C1406C5\": {\"frequency\": 200, \"value\": \"SOTGHQR12A8C1406C5\"}, \"SOJSGZT12A58A7E75C\": {\"frequency\": 196, \"value\": \"SOJSGZT12A58A7E75C\"}, \"SOGJWEA12A8151BD76\": {\"frequency\": 164, \"value\": \"SOGJWEA12A8151BD76\"}, \"SOKUPAO12AB018D576\": {\"frequency\": 1376, \"value\": \"SOKUPAO12AB018D576\"}, \"SOGJMJH12A6702154D\": {\"frequency\": 278, \"value\": \"SOGJMJH12A6702154D\"}, \"SOTNWCI12AAF3B2028\": {\"frequency\": 356, \"value\": \"SOTNWCI12AAF3B2028\"}, \"SOFPZCI12A58A7CF79\": {\"frequency\": 211, \"value\": \"SOFPZCI12A58A7CF79\"}, \"SOMEJEH12A6D4FD320\": {\"frequency\": 181, \"value\": \"SOMEJEH12A6D4FD320\"}, \"SOXGTRO12A8C143454\": {\"frequency\": 243, \"value\": \"SOXGTRO12A8C143454\"}, \"SOOVANF12A6D4FA500\": {\"frequency\": 143, \"value\": \"SOOVANF12A6D4FA500\"}, \"SOPKEIV12AB018220D\": {\"frequency\": 179, \"value\": \"SOPKEIV12AB018220D\"}, \"SOWIMTL12A8C1386DC\": {\"frequency\": 178, \"value\": \"SOWIMTL12A8C1386DC\"}, \"SOSPXWA12AB0181875\": {\"frequency\": 1135, \"value\": \"SOSPXWA12AB0181875\"}, \"SOXQROF12AB0186B1D\": {\"frequency\": 256, \"value\": \"SOXQROF12AB0186B1D\"}, \"SOSXLTC12AF72A7F54\": {\"frequency\": 3679, \"value\": \"SOSXLTC12AF72A7F54\"}, \"SOTMLOE12A8C133F15\": {\"frequency\": 308, \"value\": \"SOTMLOE12A8C133F15\"}, \"SOBABSR12A58A7AD93\": {\"frequency\": 217, \"value\": \"SOBABSR12A58A7AD93\"}, \"SOEPWYH12AF72A4813\": {\"frequency\": 225, \"value\": \"SOEPWYH12AF72A4813\"}, \"SOWOMMY127F8096DF9\": {\"frequency\": 628, \"value\": \"SOWOMMY127F8096DF9\"}, \"SOYGKHG12AB01804C8\": {\"frequency\": 148, \"value\": \"SOYGKHG12AB01804C8\"}, \"SOUDLVN12AAFF43658\": {\"frequency\": 864, \"value\": \"SOUDLVN12AAFF43658\"}, \"SOAJJDS12A8C13A3FB\": {\"frequency\": 163, \"value\": \"SOAJJDS12A8C13A3FB\"}, \"SOCGOZK12A8151BD5D\": {\"frequency\": 163, \"value\": \"SOCGOZK12A8151BD5D\"}, \"SOESWIW12AB017F1CD\": {\"frequency\": 252, \"value\": \"SOESWIW12AB017F1CD\"}, \"SOTUILE12A6D4FA444\": {\"frequency\": 140, \"value\": \"SOTUILE12A6D4FA444\"}, \"SOAKPQJ12A8C13D812\": {\"frequency\": 144, \"value\": \"SOAKPQJ12A8C13D812\"}, \"SOKUECJ12A6D4F6129\": {\"frequency\": 307, \"value\": \"SOKUECJ12A6D4F6129\"}, \"SOOLPFK12A58A7BDE3\": {\"frequency\": 452, \"value\": \"SOOLPFK12A58A7BDE3\"}, \"SODCNEE12A6310E037\": {\"frequency\": 259, \"value\": \"SODCNEE12A6310E037\"}, \"SOMYXWV12A8C14232E\": {\"frequency\": 518, \"value\": \"SOMYXWV12A8C14232E\"}, \"SOHEMBB12A6701E907\": {\"frequency\": 692, \"value\": \"SOHEMBB12A6701E907\"}, \"SOKAQBY12AB0185614\": {\"frequency\": 295, \"value\": \"SOKAQBY12AB0185614\"}, \"SOMFUWK12A6D4F8AFA\": {\"frequency\": 193, \"value\": \"SOMFUWK12A6D4F8AFA\"}, \"SOVEUVC12A6310EAF1\": {\"frequency\": 691, \"value\": \"SOVEUVC12A6310EAF1\"}, \"SOSLQQJ12AB017BDCC\": {\"frequency\": 500, \"value\": \"SOSLQQJ12AB017BDCC\"}, \"SOEFSXD12AF72ACED4\": {\"frequency\": 177, \"value\": \"SOEFSXD12AF72ACED4\"}, \"SOCPMIK12A6701E96D\": {\"frequency\": 272, \"value\": \"SOCPMIK12A6701E96D\"}, \"SOODHLO12AF72A1980\": {\"frequency\": 280, \"value\": \"SOODHLO12AF72A1980\"}, \"SOYWTUB12A8C13B429\": {\"frequency\": 176, \"value\": \"SOYWTUB12A8C13B429\"}, \"SOBIMTY12A6D4F931F\": {\"frequency\": 194, \"value\": \"SOBIMTY12A6D4F931F\"}, \"SOKVDJM12A8C13B274\": {\"frequency\": 201, \"value\": \"SOKVDJM12A8C13B274\"}, \"SOEVQQZ12A6D4F968E\": {\"frequency\": 218, \"value\": \"SOEVQQZ12A6D4F968E\"}, \"SOJTLUY12A58A7D1E3\": {\"frequency\": 149, \"value\": \"SOJTLUY12A58A7D1E3\"}, \"SOSDTGC12AF72A2BC3\": {\"frequency\": 181, \"value\": \"SOSDTGC12AF72A2BC3\"}, \"SORFASW12A81C22AE7\": {\"frequency\": 174, \"value\": \"SORFASW12A81C22AE7\"}, \"SOZBZFF12A6310F12D\": {\"frequency\": 196, \"value\": \"SOZBZFF12A6310F12D\"}, \"SOVPSKL12A670206B9\": {\"frequency\": 241, \"value\": \"SOVPSKL12A670206B9\"}, \"SOIKQFR12A6310F2A6\": {\"frequency\": 184, \"value\": \"SOIKQFR12A6310F2A6\"}, \"SODLLYS12A8C13A96B\": {\"frequency\": 798, \"value\": \"SODLLYS12A8C13A96B\"}, \"SOGFJJE12A58A80C35\": {\"frequency\": 121, \"value\": \"SOGFJJE12A58A80C35\"}, \"SOBPRZE12A8C1313CC\": {\"frequency\": 145, \"value\": \"SOBPRZE12A8C1313CC\"}, \"SOXEZLY12A8C137AB0\": {\"frequency\": 183, \"value\": \"SOXEZLY12A8C137AB0\"}, \"SOCNLEI12A67021565\": {\"frequency\": 279, \"value\": \"SOCNLEI12A67021565\"}, \"SOVHVBJ12A58A7AB0A\": {\"frequency\": 297, \"value\": \"SOVHVBJ12A58A7AB0A\"}, \"SOAUFOF12AB0180C65\": {\"frequency\": 1589, \"value\": \"SOAUFOF12AB0180C65\"}, \"SOJYBJZ12AB01801D0\": {\"frequency\": 611, \"value\": \"SOJYBJZ12AB01801D0\"}, \"SOEYVHS12AB0181D31\": {\"frequency\": 414, \"value\": \"SOEYVHS12AB0181D31\"}, \"SOPSYOY12A8C142E0B\": {\"frequency\": 377, \"value\": \"SOPSYOY12A8C142E0B\"}, \"SONIAKP12A8C130514\": {\"frequency\": 227, \"value\": \"SONIAKP12A8C130514\"}, \"SODOZXB12A8C13CD55\": {\"frequency\": 230, \"value\": \"SODOZXB12A8C13CD55\"}, \"SOESVAM12A8C138BF2\": {\"frequency\": 151, \"value\": \"SOESVAM12A8C138BF2\"}, \"SOQBMFK12A8C13835B\": {\"frequency\": 238, \"value\": \"SOQBMFK12A8C13835B\"}, \"SOZBAAH12A6D4F959F\": {\"frequency\": 186, \"value\": \"SOZBAAH12A6D4F959F\"}, \"SORNWVM12AF72A14ED\": {\"frequency\": 176, \"value\": \"SORNWVM12AF72A14ED\"}, \"SOOWVNN12A8C140775\": {\"frequency\": 478, \"value\": \"SOOWVNN12A8C140775\"}, \"SOVWQJE12A8C13A4C6\": {\"frequency\": 147, \"value\": \"SOVWQJE12A8C13A4C6\"}, \"SOSJFDH12A8C143096\": {\"frequency\": 308, \"value\": \"SOSJFDH12A8C143096\"}, \"SOYAIPB12A8C143D84\": {\"frequency\": 370, \"value\": \"SOYAIPB12A8C143D84\"}, \"SOZVVRE12A8C143150\": {\"frequency\": 751, \"value\": \"SOZVVRE12A8C143150\"}, \"SOCQQSU12AB0185BF4\": {\"frequency\": 170, \"value\": \"SOCQQSU12AB0185BF4\"}, \"SOOLKSV12AAA8C6B2A\": {\"frequency\": 180, \"value\": \"SOOLKSV12AAA8C6B2A\"}, \"SOBZFSZ12A8C13F2CA\": {\"frequency\": 162, \"value\": \"SOBZFSZ12A8C13F2CA\"}, \"SOVMGXI12AF72A80B0\": {\"frequency\": 152, \"value\": \"SOVMGXI12AF72A80B0\"}, \"SOXVVSM12A8C142224\": {\"frequency\": 843, \"value\": \"SOXVVSM12A8C142224\"}, \"SOULYQW12A8C13708E\": {\"frequency\": 139, \"value\": \"SOULYQW12A8C13708E\"}, \"SOOCKPO12A67021D10\": {\"frequency\": 260, \"value\": \"SOOCKPO12A67021D10\"}, \"SOHHZKM12A6D4F70DA\": {\"frequency\": 138, \"value\": \"SOHHZKM12A6D4F70DA\"}, \"SOLEEUJ12A6701C787\": {\"frequency\": 203, \"value\": \"SOLEEUJ12A6701C787\"}, \"SOWGHHQ12A67021878\": {\"frequency\": 184, \"value\": \"SOWGHHQ12A67021878\"}, \"SOTXDCY12AF729A39B\": {\"frequency\": 270, \"value\": \"SOTXDCY12AF729A39B\"}, \"SOPFVER12AB0180FEF\": {\"frequency\": 195, \"value\": \"SOPFVER12AB0180FEF\"}, \"SOWUTFF12A8C138AB2\": {\"frequency\": 257, \"value\": \"SOWUTFF12A8C138AB2\"}, \"SOEWTBE12A58A7E7C2\": {\"frequency\": 238, \"value\": \"SOEWTBE12A58A7E7C2\"}, \"SOIXXSG12A8C13C400\": {\"frequency\": 180, \"value\": \"SOIXXSG12A8C13C400\"}, \"SOGTDJQ12A8C13324F\": {\"frequency\": 499, \"value\": \"SOGTDJQ12A8C13324F\"}, \"SOUBXSF12A6701D23C\": {\"frequency\": 350, \"value\": \"SOUBXSF12A6701D23C\"}, \"SOVDLZN12AB0185BEA\": {\"frequency\": 774, \"value\": \"SOVDLZN12AB0185BEA\"}, \"SOMCAFM12A58A7B024\": {\"frequency\": 715, \"value\": \"SOMCAFM12A58A7B024\"}, \"SOBZXCU12A67AE1818\": {\"frequency\": 148, \"value\": \"SOBZXCU12A67AE1818\"}, \"SOWYFFH12AAF3B4C65\": {\"frequency\": 286, \"value\": \"SOWYFFH12AAF3B4C65\"}, \"SOAQMNM12AB0188D7A\": {\"frequency\": 396, \"value\": \"SOAQMNM12AB0188D7A\"}, \"SOITRTA12A6D4F8261\": {\"frequency\": 345, \"value\": \"SOITRTA12A6D4F8261\"}, \"SOTGKTG12AB0189D2E\": {\"frequency\": 177, \"value\": \"SOTGKTG12AB0189D2E\"}, \"SONGTTS12A6701E59A\": {\"frequency\": 147, \"value\": \"SONGTTS12A6701E59A\"}, \"SOAVFLR12A8C138576\": {\"frequency\": 236, \"value\": \"SOAVFLR12A8C138576\"}, \"SOWKRRE12A6702073E\": {\"frequency\": 145, \"value\": \"SOWKRRE12A6702073E\"}, \"SOUQQWB12AB01828AB\": {\"frequency\": 180, \"value\": \"SOUQQWB12AB01828AB\"}, \"SOLCKAS12A8C14242A\": {\"frequency\": 498, \"value\": \"SOLCKAS12A8C14242A\"}, \"SOVGKPF12A8AE45594\": {\"frequency\": 152, \"value\": \"SOVGKPF12A8AE45594\"}, \"SOUKJBT12A6701C4D6\": {\"frequency\": 494, \"value\": \"SOUKJBT12A6701C4D6\"}, \"SOFTWWH12AB017AD0E\": {\"frequency\": 428, \"value\": \"SOFTWWH12AB017AD0E\"}, \"SOHNOOC12A8C13BF35\": {\"frequency\": 202, \"value\": \"SOHNOOC12A8C13BF35\"}, \"SOCKSGZ12A58A7CA4B\": {\"frequency\": 1330, \"value\": \"SOCKSGZ12A58A7CA4B\"}, \"SOLXXZI12A8AE4733A\": {\"frequency\": 258, \"value\": \"SOLXXZI12A8AE4733A\"}, \"SOKOTYF12A8C13F2E7\": {\"frequency\": 180, \"value\": \"SOKOTYF12A8C13F2E7\"}, \"SOFPJGB12A8C143EA1\": {\"frequency\": 393, \"value\": \"SOFPJGB12A8C143EA1\"}, \"SOTORXA12A58A79338\": {\"frequency\": 243, \"value\": \"SOTORXA12A58A79338\"}, \"SOVRTPN12AB0184F9E\": {\"frequency\": 386, \"value\": \"SOVRTPN12AB0184F9E\"}, \"SORWLTW12A670208FA\": {\"frequency\": 606, \"value\": \"SORWLTW12A670208FA\"}, \"SOPUUQJ12AF72A5748\": {\"frequency\": 139, \"value\": \"SOPUUQJ12AF72A5748\"}, \"SOQTHZW12A8C1400F8\": {\"frequency\": 266, \"value\": \"SOQTHZW12A8C1400F8\"}, \"SOJOIKI12AB0187525\": {\"frequency\": 283, \"value\": \"SOJOIKI12AB0187525\"}, \"SOEOVGV12AF72A1E27\": {\"frequency\": 140, \"value\": \"SOEOVGV12AF72A1E27\"}, \"SOYGHOJ12A6701FFBA\": {\"frequency\": 464, \"value\": \"SOYGHOJ12A6701FFBA\"}, \"SONYKOW12AB01849C9\": {\"frequency\": 3437, \"value\": \"SONYKOW12AB01849C9\"}, \"SOCUSRK12A8C13CEDF\": {\"frequency\": 155, \"value\": \"SOCUSRK12A8C13CEDF\"}, \"SOGJQBU12A6D4FA8EC\": {\"frequency\": 221, \"value\": \"SOGJQBU12A6D4FA8EC\"}, \"SOWEJXA12A6701C574\": {\"frequency\": 1035, \"value\": \"SOWEJXA12A6701C574\"}, \"SOBEVGM12A67ADBCA7\": {\"frequency\": 274, \"value\": \"SOBEVGM12A67ADBCA7\"}, \"SOOEEPE12A8AE459A4\": {\"frequency\": 181, \"value\": \"SOOEEPE12A8AE459A4\"}, \"SOUDBWL12A6D4F8155\": {\"frequency\": 296, \"value\": \"SOUDBWL12A6D4F8155\"}, \"SOADQPP12A67020C82\": {\"frequency\": 474, \"value\": \"SOADQPP12A67020C82\"}, \"SOPCQRT12A8C13B15D\": {\"frequency\": 156, \"value\": \"SOPCQRT12A8C13B15D\"}, \"SOSFPMR12A8C13D44A\": {\"frequency\": 216, \"value\": \"SOSFPMR12A8C13D44A\"}, \"SOEOJHS12AB017F3DC\": {\"frequency\": 353, \"value\": \"SOEOJHS12AB017F3DC\"}, \"SONGIPI12A8AE46162\": {\"frequency\": 378, \"value\": \"SONGIPI12A8AE46162\"}, \"SORRBVQ12A58A7AA33\": {\"frequency\": 156, \"value\": \"SORRBVQ12A58A7AA33\"}, \"SOPABZM12A6D4FC668\": {\"frequency\": 358, \"value\": \"SOPABZM12A6D4FC668\"}, \"SOUCPUM12A81C20BC5\": {\"frequency\": 190, \"value\": \"SOUCPUM12A81C20BC5\"}, \"SOYSADG12A8AE47F2C\": {\"frequency\": 221, \"value\": \"SOYSADG12A8AE47F2C\"}, \"SOVDSJC12A58A7A271\": {\"frequency\": 1714, \"value\": \"SOVDSJC12A58A7A271\"}, \"SOMESIV12A6D4FC6F2\": {\"frequency\": 277, \"value\": \"SOMESIV12A6D4FC6F2\"}, \"SOKBTLR12AAA8C6656\": {\"frequency\": 184, \"value\": \"SOKBTLR12AAA8C6656\"}, \"SONFIMU12A6701F304\": {\"frequency\": 205, \"value\": \"SONFIMU12A6701F304\"}, \"SOFRIRU12AB017E62D\": {\"frequency\": 151, \"value\": \"SOFRIRU12AB017E62D\"}, \"SOQSTMS12A58A7AC66\": {\"frequency\": 203, \"value\": \"SOQSTMS12A58A7AC66\"}, \"SOZNLBZ12A6D4F639E\": {\"frequency\": 290, \"value\": \"SOZNLBZ12A6D4F639E\"}, \"SOAJAFJ12A58A7B75A\": {\"frequency\": 201, \"value\": \"SOAJAFJ12A58A7B75A\"}, \"SOKCEWP12AB01881D9\": {\"frequency\": 169, \"value\": \"SOKCEWP12AB01881D9\"}, \"SOGFFET12A58A7ECA9\": {\"frequency\": 250, \"value\": \"SOGFFET12A58A7ECA9\"}, \"SOGHSQA12A8C14098E\": {\"frequency\": 260, \"value\": \"SOGHSQA12A8C14098E\"}, \"SOTGGLG12AC468B85F\": {\"frequency\": 151, \"value\": \"SOTGGLG12AC468B85F\"}, \"SORHRZK12AB018187A\": {\"frequency\": 154, \"value\": \"SORHRZK12AB018187A\"}, \"SOJJYDE12AF729FC16\": {\"frequency\": 233, \"value\": \"SOJJYDE12AF729FC16\"}, \"SOFPSZV12A6D4FBBFA\": {\"frequency\": 194, \"value\": \"SOFPSZV12A6D4FBBFA\"}, \"SOLDJLX12A6D4F9A78\": {\"frequency\": 174, \"value\": \"SOLDJLX12A6D4F9A78\"}, \"SOAEHEX12A8C13EFA4\": {\"frequency\": 209, \"value\": \"SOAEHEX12A8C13EFA4\"}, \"SOPWWIR12A8C13A4B8\": {\"frequency\": 178, \"value\": \"SOPWWIR12A8C13A4B8\"}, \"SOTEKMT12A67AD954E\": {\"frequency\": 341, \"value\": \"SOTEKMT12A67AD954E\"}, \"SOIZPLP12A8AE49604\": {\"frequency\": 142, \"value\": \"SOIZPLP12A8AE49604\"}, \"SOEKNMO12AF72A1918\": {\"frequency\": 197, \"value\": \"SOEKNMO12AF72A1918\"}, \"SOIORZI12A58A7BE2A\": {\"frequency\": 139, \"value\": \"SOIORZI12A58A7BE2A\"}, \"SOQPGDF12AB01858C5\": {\"frequency\": 165, \"value\": \"SOQPGDF12AB01858C5\"}, \"SOEPGZU12A6D4F91E1\": {\"frequency\": 155, \"value\": \"SOEPGZU12A6D4F91E1\"}, \"SOEOLGZ12A8C134706\": {\"frequency\": 179, \"value\": \"SOEOLGZ12A8C134706\"}, \"SOPXKYD12A6D4FA876\": {\"frequency\": 2622, \"value\": \"SOPXKYD12A6D4FA876\"}, \"SONMMKG12A6D4F4661\": {\"frequency\": 162, \"value\": \"SONMMKG12A6D4F4661\"}, \"SOPWZGK12A67020744\": {\"frequency\": 280, \"value\": \"SOPWZGK12A67020744\"}, \"SOIZLKI12A6D4F7B61\": {\"frequency\": 1854, \"value\": \"SOIZLKI12A6D4F7B61\"}, \"SOIMREX12A6D4F99FE\": {\"frequency\": 169, \"value\": \"SOIMREX12A6D4F99FE\"}, \"SOLVSWA12AF72A2C5F\": {\"frequency\": 162, \"value\": \"SOLVSWA12AF72A2C5F\"}, \"SOUVDUK12A8AE489A3\": {\"frequency\": 215, \"value\": \"SOUVDUK12A8AE489A3\"}, \"SOBSLVH12A8C131F38\": {\"frequency\": 309, \"value\": \"SOBSLVH12A8C131F38\"}, \"SONPEXU12A8C1451BD\": {\"frequency\": 163, \"value\": \"SONPEXU12A8C1451BD\"}, \"SOOLULU12A6701FBC4\": {\"frequency\": 1093, \"value\": \"SOOLULU12A6701FBC4\"}, \"SOMEUED12A6701DBEA\": {\"frequency\": 413, \"value\": \"SOMEUED12A6701DBEA\"}, \"SOPVQLJ12A67AE2281\": {\"frequency\": 773, \"value\": \"SOPVQLJ12A67AE2281\"}, \"SOPJULC12A6D4F667F\": {\"frequency\": 504, \"value\": \"SOPJULC12A6D4F667F\"}, \"SOKOSPK12A8C13C088\": {\"frequency\": 176, \"value\": \"SOKOSPK12A8C13C088\"}, \"SOLLNTU12A6701CFDC\": {\"frequency\": 1049, \"value\": \"SOLLNTU12A6701CFDC\"}, \"SOEYWYP12A6D4F5E9D\": {\"frequency\": 185, \"value\": \"SOEYWYP12A6D4F5E9D\"}, \"SOPLAHV12A8C13D110\": {\"frequency\": 288, \"value\": \"SOPLAHV12A8C13D110\"}, \"SOSNSKM12A8C1382A1\": {\"frequency\": 188, \"value\": \"SOSNSKM12A8C1382A1\"}, \"SOGZOIP12A6D4FB934\": {\"frequency\": 246, \"value\": \"SOGZOIP12A6D4FB934\"}, \"SOOROCA12AF72A07D1\": {\"frequency\": 160, \"value\": \"SOOROCA12AF72A07D1\"}, \"SOMBNVR12AF72A736E\": {\"frequency\": 147, \"value\": \"SOMBNVR12AF72A736E\"}, \"SOBOAFP12A8C131F36\": {\"frequency\": 1545, \"value\": \"SOBOAFP12A8C131F36\"}, \"SOTVLQY12A58A798C2\": {\"frequency\": 845, \"value\": \"SOTVLQY12A58A798C2\"}, \"SONNPCF12A6701E0A6\": {\"frequency\": 150, \"value\": \"SONNPCF12A6701E0A6\"}, \"SOFRQTD12A81C233C0\": {\"frequency\": 5043, \"value\": \"SOFRQTD12A81C233C0\"}, \"SOFRSCA12A6701D29D\": {\"frequency\": 174, \"value\": \"SOFRSCA12A6701D29D\"}, \"SOQWZAB12AB017C6F7\": {\"frequency\": 163, \"value\": \"SOQWZAB12AB017C6F7\"}, \"SOUFWEW12AB0180EB7\": {\"frequency\": 317, \"value\": \"SOUFWEW12AB0180EB7\"}, \"SOSEUUV12A6701E93C\": {\"frequency\": 173, \"value\": \"SOSEUUV12A6701E93C\"}, \"SOSLZXV12A8C1354C9\": {\"frequency\": 305, \"value\": \"SOSLZXV12A8C1354C9\"}, \"SOYELXR12A8C14153A\": {\"frequency\": 160, \"value\": \"SOYELXR12A8C14153A\"}, \"SOGFWUD12A6D4F6A71\": {\"frequency\": 165, \"value\": \"SOGFWUD12A6D4F6A71\"}, \"SOVHYVB12A3F1EC277\": {\"frequency\": 254, \"value\": \"SOVHYVB12A3F1EC277\"}, \"SOHQFNK12A6701C0B9\": {\"frequency\": 314, \"value\": \"SOHQFNK12A6701C0B9\"}, \"SOYPRBR12A8C14396C\": {\"frequency\": 166, \"value\": \"SOYPRBR12A8C14396C\"}, \"SOHLLRP12A6701F2F4\": {\"frequency\": 259, \"value\": \"SOHLLRP12A6701F2F4\"}, \"SOMAUXP12AB018051D\": {\"frequency\": 141, \"value\": \"SOMAUXP12AB018051D\"}, \"SOUTGUB12AB017DC5B\": {\"frequency\": 400, \"value\": \"SOUTGUB12AB017DC5B\"}, \"SORMLZF12A8C143FFA\": {\"frequency\": 222, \"value\": \"SORMLZF12A8C143FFA\"}, \"SOHPNUZ12A6D4F5709\": {\"frequency\": 309, \"value\": \"SOHPNUZ12A6D4F5709\"}, \"SOCHTHF12AB017E206\": {\"frequency\": 527, \"value\": \"SOCHTHF12AB017E206\"}, \"SOADJQJ12A8C141D38\": {\"frequency\": 1095, \"value\": \"SOADJQJ12A8C141D38\"}, \"SOPREHY12AB01815F9\": {\"frequency\": 502, \"value\": \"SOPREHY12AB01815F9\"}, \"SOYCXUA12A8C133713\": {\"frequency\": 140, \"value\": \"SOYCXUA12A8C133713\"}, \"SOUIYDY12A8C141517\": {\"frequency\": 147, \"value\": \"SOUIYDY12A8C141517\"}, \"SOQQGBB12A6D4FCE33\": {\"frequency\": 310, \"value\": \"SOQQGBB12A6D4FCE33\"}, \"SOJUEFU12AC3DF97C2\": {\"frequency\": 162, \"value\": \"SOJUEFU12AC3DF97C2\"}, \"SOAMPRJ12A8AE45F38\": {\"frequency\": 246, \"value\": \"SOAMPRJ12A8AE45F38\"}, \"SODORVA12A8C13B259\": {\"frequency\": 362, \"value\": \"SODORVA12A8C13B259\"}, \"SOWKKVL12A8C134D6B\": {\"frequency\": 137, \"value\": \"SOWKKVL12A8C134D6B\"}, \"SORLZXM12A67ADAEF5\": {\"frequency\": 146, \"value\": \"SORLZXM12A67ADAEF5\"}, \"SOJIJWG12AAF3B46C0\": {\"frequency\": 258, \"value\": \"SOJIJWG12AAF3B46C0\"}, \"SOOJJCT12A6310E1C0\": {\"frequency\": 835, \"value\": \"SOOJJCT12A6310E1C0\"}, \"SOANQFY12AB0183239\": {\"frequency\": 1047, \"value\": \"SOANQFY12AB0183239\"}, \"SOEBPXF12A8C14295A\": {\"frequency\": 180, \"value\": \"SOEBPXF12A8C14295A\"}, \"SOVXBOT12A8C136816\": {\"frequency\": 310, \"value\": \"SOVXBOT12A8C136816\"}, \"SOGZCOB12A8C14280E\": {\"frequency\": 171, \"value\": \"SOGZCOB12A8C14280E\"}, \"SOHOTAA12A8AE45F43\": {\"frequency\": 280, \"value\": \"SOHOTAA12A8AE45F43\"}, \"SOCCWZW12AB01829DB\": {\"frequency\": 243, \"value\": \"SOCCWZW12AB01829DB\"}, \"SOOEGCA12A6D4F8B80\": {\"frequency\": 217, \"value\": \"SOOEGCA12A6D4F8B80\"}, \"SOWPLVJ12AB0183586\": {\"frequency\": 456, \"value\": \"SOWPLVJ12AB0183586\"}, \"SOBJBEU12AF729D526\": {\"frequency\": 137, \"value\": \"SOBJBEU12AF729D526\"}, \"SOWFIFP12A8C13A9EE\": {\"frequency\": 161, \"value\": \"SOWFIFP12A8C13A9EE\"}, \"SOTNHIP12AB0183131\": {\"frequency\": 524, \"value\": \"SOTNHIP12AB0183131\"}, \"SOCBQKE12AB018548E\": {\"frequency\": 161, \"value\": \"SOCBQKE12AB018548E\"}, \"SOBNJZN12A67ADE984\": {\"frequency\": 169, \"value\": \"SOBNJZN12A67ADE984\"}, \"SOQFEDG12AB018DD24\": {\"frequency\": 171, \"value\": \"SOQFEDG12AB018DD24\"}, \"SOYFMNU12AB0181435\": {\"frequency\": 294, \"value\": \"SOYFMNU12AB0181435\"}, \"SOEKBXL12A6D4FC6FC\": {\"frequency\": 208, \"value\": \"SOEKBXL12A6D4FC6FC\"}, \"SOUSQCN12A8C133302\": {\"frequency\": 157, \"value\": \"SOUSQCN12A8C133302\"}, \"SOLRGNF12AB0187CF4\": {\"frequency\": 985, \"value\": \"SOLRGNF12AB0187CF4\"}, \"SOTIEEP12A6701C779\": {\"frequency\": 155, \"value\": \"SOTIEEP12A6701C779\"}, \"SOISNSU12AC468C0D8\": {\"frequency\": 786, \"value\": \"SOISNSU12AC468C0D8\"}, \"SOBIQWH12A8C13BCDE\": {\"frequency\": 162, \"value\": \"SOBIQWH12A8C13BCDE\"}, \"SOGCWZS12A6701FCAC\": {\"frequency\": 155, \"value\": \"SOGCWZS12A6701FCAC\"}, \"SOGVKXX12A67ADA0B8\": {\"frequency\": 153, \"value\": \"SOGVKXX12A67ADA0B8\"}, \"SOGXGKK12AB0184CD6\": {\"frequency\": 168, \"value\": \"SOGXGKK12AB0184CD6\"}, \"SOAFQGA12A8C1367FA\": {\"frequency\": 210, \"value\": \"SOAFQGA12A8C1367FA\"}, \"SOQPCVN12AF729FB85\": {\"frequency\": 151, \"value\": \"SOQPCVN12AF729FB85\"}, \"SOETKSY12A8C13C666\": {\"frequency\": 359, \"value\": \"SOETKSY12A8C13C666\"}, \"SOVHFMK12A679AE565\": {\"frequency\": 230, \"value\": \"SOVHFMK12A679AE565\"}, \"SOHYSXA12AB0186704\": {\"frequency\": 963, \"value\": \"SOHYSXA12AB0186704\"}, \"SOVDLVT12A58A7B988\": {\"frequency\": 164, \"value\": \"SOVDLVT12A58A7B988\"}, \"SOLRBSH12AB018AE7B\": {\"frequency\": 292, \"value\": \"SOLRBSH12AB018AE7B\"}, \"SOXJYJM12A6310D7C1\": {\"frequency\": 331, \"value\": \"SOXJYJM12A6310D7C1\"}, \"SOPWLLY12AB0183DB8\": {\"frequency\": 165, \"value\": \"SOPWLLY12AB0183DB8\"}, \"SOSMXVH12A58A7CA6C\": {\"frequency\": 232, \"value\": \"SOSMXVH12A58A7CA6C\"}, \"SOEHZUQ12A3F1EBC10\": {\"frequency\": 244, \"value\": \"SOEHZUQ12A3F1EBC10\"}, \"SOTEGWG12AB01897AC\": {\"frequency\": 919, \"value\": \"SOTEGWG12AB01897AC\"}, \"SOFGIVB12A6D4F5923\": {\"frequency\": 328, \"value\": \"SOFGIVB12A6D4F5923\"}, \"SOOFTNW12AB017DB3E\": {\"frequency\": 155, \"value\": \"SOOFTNW12AB017DB3E\"}, \"SOGEZGA12A6D4F74F6\": {\"frequency\": 186, \"value\": \"SOGEZGA12A6D4F74F6\"}, \"SOPQLBY12A6310E992\": {\"frequency\": 1200, \"value\": \"SOPQLBY12A6310E992\"}, \"SOILFUU12AB017C75F\": {\"frequency\": 400, \"value\": \"SOILFUU12AB017C75F\"}, \"SOSWDMO12A8AE45996\": {\"frequency\": 169, \"value\": \"SOSWDMO12A8AE45996\"}, \"SOTVJEN12A8C13B064\": {\"frequency\": 199, \"value\": \"SOTVJEN12A8C13B064\"}, \"SOQARNI12A8C141964\": {\"frequency\": 188, \"value\": \"SOQARNI12A8C141964\"}, \"SODQZCY12A6D4F9D11\": {\"frequency\": 185, \"value\": \"SODQZCY12A6D4F9D11\"}, \"SOTRDVJ12A8C13975E\": {\"frequency\": 376, \"value\": \"SOTRDVJ12A8C13975E\"}, \"SOAOSDF12A58A779F1\": {\"frequency\": 203, \"value\": \"SOAOSDF12A58A779F1\"}, \"SOZDTJE12A6701F2FE\": {\"frequency\": 153, \"value\": \"SOZDTJE12A6701F2FE\"}, \"SOQDJPZ12AB017A896\": {\"frequency\": 172, \"value\": \"SOQDJPZ12AB017A896\"}, \"SOAUWYT12A81C206F1\": {\"frequency\": 4484, \"value\": \"SOAUWYT12A81C206F1\"}, \"SOVWADY12AB0189C63\": {\"frequency\": 1060, \"value\": \"SOVWADY12AB0189C63\"}, \"SOOAVGC12AB01821EC\": {\"frequency\": 166, \"value\": \"SOOAVGC12AB01821EC\"}, \"SOAGNRU12A58A7AC5C\": {\"frequency\": 160, \"value\": \"SOAGNRU12A58A7AC5C\"}, \"SOMGIYR12AB0187973\": {\"frequency\": 603, \"value\": \"SOMGIYR12AB0187973\"}, \"SOEHDTU12AF72A8BD5\": {\"frequency\": 315, \"value\": \"SOEHDTU12AF72A8BD5\"}, \"SOCVBFV12A6701FB94\": {\"frequency\": 173, \"value\": \"SOCVBFV12A6701FB94\"}, \"SOXHIDK12A58A7CFB3\": {\"frequency\": 302, \"value\": \"SOXHIDK12A58A7CFB3\"}, \"SOGKAYF12A81C204CD\": {\"frequency\": 269, \"value\": \"SOGKAYF12A81C204CD\"}, \"SOLQXDJ12AB0182E47\": {\"frequency\": 195, \"value\": \"SOLQXDJ12AB0182E47\"}, \"SOGLWGG12A6D4F8046\": {\"frequency\": 389, \"value\": \"SOGLWGG12A6D4F8046\"}, \"SOTFJGS12AB017F577\": {\"frequency\": 164, \"value\": \"SOTFJGS12AB017F577\"}, \"SOCNAXF12A6D4F9B34\": {\"frequency\": 401, \"value\": \"SOCNAXF12A6D4F9B34\"}, \"SOSVQNK12AC468D6BE\": {\"frequency\": 401, \"value\": \"SOSVQNK12AC468D6BE\"}, \"SOTVMLE12AB018168E\": {\"frequency\": 300, \"value\": \"SOTVMLE12AB018168E\"}, \"SOKOXWU12AF72AD1BC\": {\"frequency\": 1464, \"value\": \"SOKOXWU12AF72AD1BC\"}, \"SOMMMFT12A67ADC119\": {\"frequency\": 150, \"value\": \"SOMMMFT12A67ADC119\"}, \"SOKKUJN12A63110824\": {\"frequency\": 189, \"value\": \"SOKKUJN12A63110824\"}, \"SOWGCMN12A8C136E44\": {\"frequency\": 335, \"value\": \"SOWGCMN12A8C136E44\"}, \"SOEBYTE12A8C14389C\": {\"frequency\": 414, \"value\": \"SOEBYTE12A8C14389C\"}, \"SOUKXIN12A8C133C7F\": {\"frequency\": 357, \"value\": \"SOUKXIN12A8C133C7F\"}, \"SOVOOSP12A6310F1AC\": {\"frequency\": 212, \"value\": \"SOVOOSP12A6310F1AC\"}, \"SOEWPFY12AF729F7FC\": {\"frequency\": 194, \"value\": \"SOEWPFY12AF729F7FC\"}, \"SOOLWEJ12AB0186DA4\": {\"frequency\": 332, \"value\": \"SOOLWEJ12AB0186DA4\"}, \"SOTASGN12AC9075A8F\": {\"frequency\": 435, \"value\": \"SOTASGN12AC9075A8F\"}, \"SORUFVF12AB018230B\": {\"frequency\": 221, \"value\": \"SORUFVF12AB018230B\"}, \"SOXHPVI12A6D4F903A\": {\"frequency\": 151, \"value\": \"SOXHPVI12A6D4F903A\"}, \"SOKZICY12A6310DF57\": {\"frequency\": 550, \"value\": \"SOKZICY12A6310DF57\"}, \"SOHTCVN12A8C134E46\": {\"frequency\": 498, \"value\": \"SOHTCVN12A8C134E46\"}, \"SOQENWM12AB017EDE0\": {\"frequency\": 148, \"value\": \"SOQENWM12AB017EDE0\"}, \"SOOKGRB12A8C13CD66\": {\"frequency\": 161, \"value\": \"SOOKGRB12A8C13CD66\"}, \"SOLUHHS12A58A81A6B\": {\"frequency\": 158, \"value\": \"SOLUHHS12A58A81A6B\"}, \"SOHGBHN12A6701F082\": {\"frequency\": 228, \"value\": \"SOHGBHN12A6701F082\"}, \"SOKMHKY12AF72AB079\": {\"frequency\": 700, \"value\": \"SOKMHKY12AF72AB079\"}, \"SOIDEPI12A6D4F98D2\": {\"frequency\": 246, \"value\": \"SOIDEPI12A6D4F98D2\"}, \"SOABHYV12A6D4F6D0F\": {\"frequency\": 158, \"value\": \"SOABHYV12A6D4F6D0F\"}, \"SODHJHX12A58A7D24C\": {\"frequency\": 300, \"value\": \"SODHJHX12A58A7D24C\"}, \"SOHBFUU12A6D4F9DD8\": {\"frequency\": 168, \"value\": \"SOHBFUU12A6D4F9DD8\"}, \"SOZQLLE12A6D4F7170\": {\"frequency\": 138, \"value\": \"SOZQLLE12A6D4F7170\"}, \"SOMXDFJ12AB0183B34\": {\"frequency\": 217, \"value\": \"SOMXDFJ12AB0183B34\"}, \"SOSTTPA12A8AE47622\": {\"frequency\": 183, \"value\": \"SOSTTPA12A8AE47622\"}, \"SOCJWZY12A67021D18\": {\"frequency\": 245, \"value\": \"SOCJWZY12A67021D18\"}, \"SOREDMW12AB01871BB\": {\"frequency\": 210, \"value\": \"SOREDMW12AB01871BB\"}, \"SOISUWI12A6D4F5708\": {\"frequency\": 220, \"value\": \"SOISUWI12A6D4F5708\"}, \"SOQAZKD12AB017F667\": {\"frequency\": 173, \"value\": \"SOQAZKD12AB017F667\"}, \"SOPNWKG12AB017DE3F\": {\"frequency\": 141, \"value\": \"SOPNWKG12AB017DE3F\"}, \"SOHNVHC12A6D4F95AB\": {\"frequency\": 220, \"value\": \"SOHNVHC12A6D4F95AB\"}, \"SOMOZKO12AB017C323\": {\"frequency\": 139, \"value\": \"SOMOZKO12AB017C323\"}, \"SOIMTII12A6D4F662A\": {\"frequency\": 196, \"value\": \"SOIMTII12A6D4F662A\"}, \"SORZCTH12A6D4FB0BD\": {\"frequency\": 207, \"value\": \"SORZCTH12A6D4FB0BD\"}, \"SOAOAWR12A58A7B7BE\": {\"frequency\": 133, \"value\": \"SOAOAWR12A58A7B7BE\"}, \"SOIRJGI12AF72A3A57\": {\"frequency\": 313, \"value\": \"SOIRJGI12AF72A3A57\"}, \"SOXBCZH12A67ADAD77\": {\"frequency\": 183, \"value\": \"SOXBCZH12A67ADAD77\"}, \"SOIPYPB12A8C1360D4\": {\"frequency\": 1075, \"value\": \"SOIPYPB12A8C1360D4\"}, \"SOZKDEA12AB0183183\": {\"frequency\": 159, \"value\": \"SOZKDEA12AB0183183\"}, \"SODGVGW12AC9075A8D\": {\"frequency\": 3180, \"value\": \"SODGVGW12AC9075A8D\"}, \"SOEJMGM12AF72A6261\": {\"frequency\": 256, \"value\": \"SOEJMGM12AF72A6261\"}, \"SOGCDYR12AC961854A\": {\"frequency\": 214, \"value\": \"SOGCDYR12AC961854A\"}, \"SOIFGCB12A8C134160\": {\"frequency\": 192, \"value\": \"SOIFGCB12A8C134160\"}, \"SOUSOKG12A58A7AC15\": {\"frequency\": 318, \"value\": \"SOUSOKG12A58A7AC15\"}, \"SOAXGDH12A8C13F8A1\": {\"frequency\": 3784, \"value\": \"SOAXGDH12A8C13F8A1\"}, \"SONGYFE12AB018562D\": {\"frequency\": 196, \"value\": \"SONGYFE12AB018562D\"}, \"SOHAHTQ12AB017AA32\": {\"frequency\": 155, \"value\": \"SOHAHTQ12AB017AA32\"}, \"SOBONKR12A58A7A7E0\": {\"frequency\": 4134, \"value\": \"SOBONKR12A58A7A7E0\"}, \"SODZHVJ12A8C13DB29\": {\"frequency\": 148, \"value\": \"SODZHVJ12A8C13DB29\"}, \"SOKEYJQ12A6D4F6132\": {\"frequency\": 236, \"value\": \"SOKEYJQ12A6D4F6132\"}, \"SOLTIVF12AAFF43797\": {\"frequency\": 197, \"value\": \"SOLTIVF12AAFF43797\"}, \"SOSELMV12A6D4FCF5A\": {\"frequency\": 210, \"value\": \"SOSELMV12A6D4FCF5A\"}, \"SOIZZXF12AB0187C34\": {\"frequency\": 132, \"value\": \"SOIZZXF12AB0187C34\"}, \"SONQEYS12AF72AABC9\": {\"frequency\": 496, \"value\": \"SONQEYS12AF72AABC9\"}, \"SOHFJAQ12AB017E4AF\": {\"frequency\": 830, \"value\": \"SOHFJAQ12AB017E4AF\"}, \"SOGHQMI12A8AE46ADC\": {\"frequency\": 217, \"value\": \"SOGHQMI12A8AE46ADC\"}, \"SOZRIFX12A8C142691\": {\"frequency\": 441, \"value\": \"SOZRIFX12A8C142691\"}, \"SOWRREB12A6D4FA7CB\": {\"frequency\": 957, \"value\": \"SOWRREB12A6D4FA7CB\"}, \"SOMBGAL12AB0181F7F\": {\"frequency\": 270, \"value\": \"SOMBGAL12AB0181F7F\"}, \"SOJMUUU12A8C137A4F\": {\"frequency\": 309, \"value\": \"SOJMUUU12A8C137A4F\"}, \"SOIOZPV12A58A7880B\": {\"frequency\": 166, \"value\": \"SOIOZPV12A58A7880B\"}, \"SOPSAEJ12A58A7DA0F\": {\"frequency\": 161, \"value\": \"SOPSAEJ12A58A7DA0F\"}, \"SOPHQPE12AB0183798\": {\"frequency\": 144, \"value\": \"SOPHQPE12AB0183798\"}, \"SOXZOMB12AB017DA15\": {\"frequency\": 323, \"value\": \"SOXZOMB12AB017DA15\"}, \"SOFGJCW12AF72A812D\": {\"frequency\": 424, \"value\": \"SOFGJCW12AF72A812D\"}, \"SOQAJHW12AB0186004\": {\"frequency\": 219, \"value\": \"SOQAJHW12AB0186004\"}, \"SOPAYPV12AB017DB0C\": {\"frequency\": 883, \"value\": \"SOPAYPV12AB017DB0C\"}, \"SOCVTLJ12A6310F0FD\": {\"frequency\": 1500, \"value\": \"SOCVTLJ12A6310F0FD\"}, \"SOLTAEJ12A8C13F793\": {\"frequency\": 189, \"value\": \"SOLTAEJ12A8C13F793\"}, \"SOGWJEY12AC9618862\": {\"frequency\": 662, \"value\": \"SOGWJEY12AC9618862\"}, \"SOXPFLM12A8AE48C50\": {\"frequency\": 851, \"value\": \"SOXPFLM12A8AE48C50\"}, \"SOASTSF12A8C1420B5\": {\"frequency\": 214, \"value\": \"SOASTSF12A8C1420B5\"}, \"SODBMRI12A8151AF45\": {\"frequency\": 166, \"value\": \"SODBMRI12A8151AF45\"}, \"SOIMZJE12AB01808BB\": {\"frequency\": 173, \"value\": \"SOIMZJE12AB01808BB\"}, \"SOTFOAE12A6D4F4511\": {\"frequency\": 149, \"value\": \"SOTFOAE12A6D4F4511\"}, \"SOFEGST12A58A7D682\": {\"frequency\": 335, \"value\": \"SOFEGST12A58A7D682\"}, \"SOUFNSM12A58A77715\": {\"frequency\": 147, \"value\": \"SOUFNSM12A58A77715\"}, \"SOYWPMG12A6D4F901A\": {\"frequency\": 208, \"value\": \"SOYWPMG12A6D4F901A\"}, \"SOINJVD12A6D4F91D3\": {\"frequency\": 297, \"value\": \"SOINJVD12A6D4F91D3\"}, \"SONMOVN12A8C13C0C9\": {\"frequency\": 204, \"value\": \"SONMOVN12A8C13C0C9\"}, \"SOCYOTN12A8C13A4B1\": {\"frequency\": 403, \"value\": \"SOCYOTN12A8C13A4B1\"}, \"SOCRCNK12A8C133AA7\": {\"frequency\": 284, \"value\": \"SOCRCNK12A8C133AA7\"}, \"SOXZTLV12A6701FFDD\": {\"frequency\": 181, \"value\": \"SOXZTLV12A6701FFDD\"}, \"SOIROON12A6701E0B8\": {\"frequency\": 313, \"value\": \"SOIROON12A6701E0B8\"}, \"SOLCCCU12A58A7FBD9\": {\"frequency\": 165, \"value\": \"SOLCCCU12A58A7FBD9\"}, \"SOPKPSQ12A58A7A5E4\": {\"frequency\": 215, \"value\": \"SOPKPSQ12A58A7A5E4\"}, \"SOXEYIE12AB0180212\": {\"frequency\": 95, \"value\": \"SOXEYIE12AB0180212\"}, \"SORKDWS12A6701E6D9\": {\"frequency\": 206, \"value\": \"SORKDWS12A6701E6D9\"}, \"SOLRPJX12A58A79808\": {\"frequency\": 486, \"value\": \"SOLRPJX12A58A79808\"}, \"SOJPKCY12AF72A103F\": {\"frequency\": 142, \"value\": \"SOJPKCY12AF72A103F\"}, \"SOBRHVR12A8C133F35\": {\"frequency\": 529, \"value\": \"SOBRHVR12A8C133F35\"}, \"SOQZYQH12A8AE468E5\": {\"frequency\": 713, \"value\": \"SOQZYQH12A8AE468E5\"}, \"SOGUUQH12A8C1427D6\": {\"frequency\": 158, \"value\": \"SOGUUQH12A8C1427D6\"}, \"SOKRIMP12A6D4F5DA3\": {\"frequency\": 161, \"value\": \"SOKRIMP12A6D4F5DA3\"}, \"SOLZCIF12A67AE0DF1\": {\"frequency\": 133, \"value\": \"SOLZCIF12A67AE0DF1\"}, \"SORPVUD12A67020454\": {\"frequency\": 286, \"value\": \"SORPVUD12A67020454\"}, \"SOLLWCK12A6D4FB0B9\": {\"frequency\": 145, \"value\": \"SOLLWCK12A6D4FB0B9\"}, \"SOFKABN12A8AE476C6\": {\"frequency\": 1382, \"value\": \"SOFKABN12A8AE476C6\"}, \"SOKTJXL12A8C13C90B\": {\"frequency\": 150, \"value\": \"SOKTJXL12A8C13C90B\"}, \"SOLWRZI12A6D4FC4F0\": {\"frequency\": 367, \"value\": \"SOLWRZI12A6D4FC4F0\"}, \"SOALJBV12AB017FC3A\": {\"frequency\": 337, \"value\": \"SOALJBV12AB017FC3A\"}, \"SOXGQEM12AB0181D35\": {\"frequency\": 234, \"value\": \"SOXGQEM12AB0181D35\"}, \"SOTSRUQ12A81C22359\": {\"frequency\": 199, \"value\": \"SOTSRUQ12A81C22359\"}, \"SOQQSYT12A6310F0C7\": {\"frequency\": 145, \"value\": \"SOQQSYT12A6310F0C7\"}, \"SODXRTY12AB0180F3B\": {\"frequency\": 226, \"value\": \"SODXRTY12AB0180F3B\"}, \"SOYMIMI12AB0181E5C\": {\"frequency\": 454, \"value\": \"SOYMIMI12AB0181E5C\"}, \"SOIBCIC12A58A7B55B\": {\"frequency\": 270, \"value\": \"SOIBCIC12A58A7B55B\"}, \"SOIOESO12A6D4F621D\": {\"frequency\": 323, \"value\": \"SOIOESO12A6D4F621D\"}, \"SOXIYJA12A8C1468F6\": {\"frequency\": 157, \"value\": \"SOXIYJA12A8C1468F6\"}, \"SOSWWEU12AC9097E4C\": {\"frequency\": 226, \"value\": \"SOSWWEU12AC9097E4C\"}, \"SOVVENS12A8C144DB5\": {\"frequency\": 164, \"value\": \"SOVVENS12A8C144DB5\"}, \"SOXCEYU12A6D4F3E70\": {\"frequency\": 270, \"value\": \"SOXCEYU12A6D4F3E70\"}, \"SOOSADY12A6701F119\": {\"frequency\": 174, \"value\": \"SOOSADY12A6701F119\"}, \"SOEPZQS12A8C1436C7\": {\"frequency\": 672, \"value\": \"SOEPZQS12A8C1436C7\"}, \"SOHYDID12A6D4F781C\": {\"frequency\": 155, \"value\": \"SOHYDID12A6D4F781C\"}, \"SOXAOAJ12AB0184578\": {\"frequency\": 214, \"value\": \"SOXAOAJ12AB0184578\"}, \"SOZAPQT12A8C142821\": {\"frequency\": 173, \"value\": \"SOZAPQT12A8C142821\"}, \"SOUSMXX12AB0185C24\": {\"frequency\": 2250, \"value\": \"SOUSMXX12AB0185C24\"}, \"SOQGVCS12AF72A078D\": {\"frequency\": 745, \"value\": \"SOQGVCS12AF72A078D\"}, \"SOLLDVS12AB0183835\": {\"frequency\": 192, \"value\": \"SOLLDVS12AB0183835\"}, \"SOKZZGT12A67ADA4C3\": {\"frequency\": 297, \"value\": \"SOKZZGT12A67ADA4C3\"}, \"SOCHADN12A6310ED94\": {\"frequency\": 185, \"value\": \"SOCHADN12A6310ED94\"}, \"SOSVPIE12A6D4FA873\": {\"frequency\": 517, \"value\": \"SOSVPIE12A6D4FA873\"}, \"SOPWSTE12A8C13D2D2\": {\"frequency\": 188, \"value\": \"SOPWSTE12A8C13D2D2\"}, \"SOQQAAQ12A67ADE34D\": {\"frequency\": 220, \"value\": \"SOQQAAQ12A67ADE34D\"}, \"SOPDVTD12A8C13618B\": {\"frequency\": 147, \"value\": \"SOPDVTD12A8C13618B\"}, \"SONNNEH12AB01827DE\": {\"frequency\": 331, \"value\": \"SONNNEH12AB01827DE\"}, \"SOZSZTY12A8C13B693\": {\"frequency\": 166, \"value\": \"SOZSZTY12A8C13B693\"}, \"SOXRBNT12A8C1377FC\": {\"frequency\": 166, \"value\": \"SOXRBNT12A8C1377FC\"}, \"SOWEFXC12A6D4FA230\": {\"frequency\": 206, \"value\": \"SOWEFXC12A6D4FA230\"}, \"SOHPNUP12A8C1431B4\": {\"frequency\": 158, \"value\": \"SOHPNUP12A8C1431B4\"}, \"SOMJWPP12A6D4F8506\": {\"frequency\": 166, \"value\": \"SOMJWPP12A6D4F8506\"}, \"SOALEQA12A58A77839\": {\"frequency\": 195, \"value\": \"SOALEQA12A58A77839\"}, \"SOYABSZ12A81C1FEAC\": {\"frequency\": 463, \"value\": \"SOYABSZ12A81C1FEAC\"}, \"SOQHWMN12A6701E2D9\": {\"frequency\": 233, \"value\": \"SOQHWMN12A6701E2D9\"}, \"SOISTCC12A67ADA6D4\": {\"frequency\": 145, \"value\": \"SOISTCC12A67ADA6D4\"}, \"SOCBNYL12A8C13404D\": {\"frequency\": 175, \"value\": \"SOCBNYL12A8C13404D\"}, \"SOTZION12A6D4FB477\": {\"frequency\": 220, \"value\": \"SOTZION12A6D4FB477\"}, \"SONIEQI12AF72A9822\": {\"frequency\": 229, \"value\": \"SONIEQI12AF72A9822\"}, \"SOAJXWO12A8C1436D0\": {\"frequency\": 292, \"value\": \"SOAJXWO12A8C1436D0\"}, \"SORDUDR12A6310EF78\": {\"frequency\": 135, \"value\": \"SORDUDR12A6310EF78\"}, \"SODHXDO12A8C13A37A\": {\"frequency\": 167, \"value\": \"SODHXDO12A8C13A37A\"}, \"SOITFCH12A6D4F9478\": {\"frequency\": 361, \"value\": \"SOITFCH12A6D4F9478\"}, \"SOUJVIT12A8C1451C1\": {\"frequency\": 749, \"value\": \"SOUJVIT12A8C1451C1\"}, \"SONDCOR12A8C13BA16\": {\"frequency\": 155, \"value\": \"SONDCOR12A8C13BA16\"}, \"SOGQANL12A6701E099\": {\"frequency\": 156, \"value\": \"SOGQANL12A6701E099\"}, \"SORJVDO12AF72A1970\": {\"frequency\": 268, \"value\": \"SORJVDO12AF72A1970\"}, \"SODJWHY12A8C142CCE\": {\"frequency\": 2785, \"value\": \"SODJWHY12A8C142CCE\"}, \"SOPZKGR12A6D4F3F3A\": {\"frequency\": 246, \"value\": \"SOPZKGR12A6D4F3F3A\"}, \"SOHIWSV12A67020042\": {\"frequency\": 208, \"value\": \"SOHIWSV12A67020042\"}, \"SOUXNNU12A67020A48\": {\"frequency\": 156, \"value\": \"SOUXNNU12A67020A48\"}, \"SOYCHDB12A8C13F2C8\": {\"frequency\": 202, \"value\": \"SOYCHDB12A8C13F2C8\"}, \"SOTVZIB12A6D4F694A\": {\"frequency\": 147, \"value\": \"SOTVZIB12A6D4F694A\"}, \"SOFBOXR12A6310F0FC\": {\"frequency\": 155, \"value\": \"SOFBOXR12A6310F0FC\"}, \"SOWKQYL12AB0183B15\": {\"frequency\": 864, \"value\": \"SOWKQYL12AB0183B15\"}, \"SOLGNBX12AF72A7737\": {\"frequency\": 181, \"value\": \"SOLGNBX12AF72A7737\"}, \"SONIMNU12B0B8092AB\": {\"frequency\": 221, \"value\": \"SONIMNU12B0B8092AB\"}, \"SOKDUUY12B0B80BD37\": {\"frequency\": 174, \"value\": \"SOKDUUY12B0B80BD37\"}, \"SOTEFFR12A8C144765\": {\"frequency\": 152, \"value\": \"SOTEFFR12A8C144765\"}, \"SOUFTBI12AB0183F65\": {\"frequency\": 1619, \"value\": \"SOUFTBI12AB0183F65\"}, \"SOICKOC12A6701C603\": {\"frequency\": 160, \"value\": \"SOICKOC12A6701C603\"}, \"SOFROGM12A8C136F19\": {\"frequency\": 157, \"value\": \"SOFROGM12A8C136F19\"}, \"SOFPXFY12A6701C5C3\": {\"frequency\": 315, \"value\": \"SOFPXFY12A6701C5C3\"}, \"SOKMPDP12AB017BC0D\": {\"frequency\": 193, \"value\": \"SOKMPDP12AB017BC0D\"}, \"SODEAJC12A58A7769F\": {\"frequency\": 139, \"value\": \"SODEAJC12A58A7769F\"}, \"SOMNXML12A6D4F8386\": {\"frequency\": 319, \"value\": \"SOMNXML12A6D4F8386\"}, \"SOKBIIQ12AB017FEFC\": {\"frequency\": 367, \"value\": \"SOKBIIQ12AB017FEFC\"}, \"SORWLJM12A6D4F9C0C\": {\"frequency\": 294, \"value\": \"SORWLJM12A6D4F9C0C\"}, \"SOLTSGU12A8C13BFE5\": {\"frequency\": 167, \"value\": \"SOLTSGU12A8C13BFE5\"}, \"SOWPASM12A8C142B88\": {\"frequency\": 365, \"value\": \"SOWPASM12A8C142B88\"}, \"SOODSPH12AB01819C3\": {\"frequency\": 246, \"value\": \"SOODSPH12AB01819C3\"}, \"SOTSHYT12A8C142868\": {\"frequency\": 162, \"value\": \"SOTSHYT12A8C142868\"}, \"SOEIJIX12A6D4FAF6E\": {\"frequency\": 149, \"value\": \"SOEIJIX12A6D4FAF6E\"}, \"SOVYTXK12AB01800F5\": {\"frequency\": 249, \"value\": \"SOVYTXK12AB01800F5\"}, \"SOJNNJQ12AB018697A\": {\"frequency\": 150, \"value\": \"SOJNNJQ12AB018697A\"}, \"SOOTEVS12A58A7FCDA\": {\"frequency\": 176, \"value\": \"SOOTEVS12A58A7FCDA\"}, \"SOYGHUM12AB018139C\": {\"frequency\": 425, \"value\": \"SOYGHUM12AB018139C\"}, \"SOTSJDX12AF72A9AFD\": {\"frequency\": 286, \"value\": \"SOTSJDX12AF72A9AFD\"}, \"SOLRGVL12A8C143BC3\": {\"frequency\": 1425, \"value\": \"SOLRGVL12A8C143BC3\"}, \"SODNXDD12AB018331A\": {\"frequency\": 161, \"value\": \"SODNXDD12AB018331A\"}, \"SOKYJYU12AB0186429\": {\"frequency\": 158, \"value\": \"SOKYJYU12AB0186429\"}, \"SOQKBIT12A6D4FA8BF\": {\"frequency\": 181, \"value\": \"SOQKBIT12A6D4FA8BF\"}, \"SOJEYPO12AAA8C6B0E\": {\"frequency\": 207, \"value\": \"SOJEYPO12AAA8C6B0E\"}, \"SOJJDYI12A6701FC23\": {\"frequency\": 147, \"value\": \"SOJJDYI12A6701FC23\"}, \"SOGTQNI12AB0184A5C\": {\"frequency\": 768, \"value\": \"SOGTQNI12AB0184A5C\"}, \"SOYDTRQ12AF72A3D61\": {\"frequency\": 404, \"value\": \"SOYDTRQ12AF72A3D61\"}, \"SOCHRXB12A8AE48069\": {\"frequency\": 210, \"value\": \"SOCHRXB12A8AE48069\"}, \"SOHHALP12A6D4FB6A8\": {\"frequency\": 335, \"value\": \"SOHHALP12A6D4FB6A8\"}, \"SOYBHSI12A58A7D58B\": {\"frequency\": 233, \"value\": \"SOYBHSI12A58A7D58B\"}, \"SOXAHKA12AF72A5A65\": {\"frequency\": 203, \"value\": \"SOXAHKA12AF72A5A65\"}, \"SORWJSF12A8C138AB6\": {\"frequency\": 282, \"value\": \"SORWJSF12A8C138AB6\"}, \"SOEDXFM12A8C1459E9\": {\"frequency\": 202, \"value\": \"SOEDXFM12A8C1459E9\"}, \"SOJEVHC12A8C13C3E5\": {\"frequency\": 235, \"value\": \"SOJEVHC12A8C13C3E5\"}, \"SOGAOAU12A8C140E54\": {\"frequency\": 152, \"value\": \"SOGAOAU12A8C140E54\"}, \"SOZCCEU12A8C13D1EA\": {\"frequency\": 138, \"value\": \"SOZCCEU12A8C13D1EA\"}, \"SOQTPLM12B0B809575\": {\"frequency\": 164, \"value\": \"SOQTPLM12B0B809575\"}, \"SOKQZYZ12A58A7767E\": {\"frequency\": 233, \"value\": \"SOKQZYZ12A58A7767E\"}, \"SOMFTUN12A6D4F60A5\": {\"frequency\": 365, \"value\": \"SOMFTUN12A6D4F60A5\"}, \"SOUDZSZ12A6D4FA238\": {\"frequency\": 168, \"value\": \"SOUDZSZ12A6D4FA238\"}, \"SOFERPM12A6D4FAC44\": {\"frequency\": 146, \"value\": \"SOFERPM12A6D4FAC44\"}, \"SOOGNOZ12AAF3B2936\": {\"frequency\": 425, \"value\": \"SOOGNOZ12AAF3B2936\"}, \"SOONJMQ12A8C137E6D\": {\"frequency\": 138, \"value\": \"SOONJMQ12A8C137E6D\"}, \"SOSJTOL12A6D4FB4CD\": {\"frequency\": 159, \"value\": \"SOSJTOL12A6D4FB4CD\"}, \"SOTCMDJ12A6D4F8528\": {\"frequency\": 1265, \"value\": \"SOTCMDJ12A6D4F8528\"}, \"SOUZBUD12A8C13FD8E\": {\"frequency\": 176, \"value\": \"SOUZBUD12A8C13FD8E\"}, \"SOBPHXV12A6D4F9FD0\": {\"frequency\": 146, \"value\": \"SOBPHXV12A6D4F9FD0\"}, \"SOBAKOT12A67021B3D\": {\"frequency\": 247, \"value\": \"SOBAKOT12A67021B3D\"}, \"SODGJKH12AAA8C9487\": {\"frequency\": 1000, \"value\": \"SODGJKH12AAA8C9487\"}, \"SOJRFWQ12AB0183582\": {\"frequency\": 660, \"value\": \"SOJRFWQ12AB0183582\"}, \"SOKRAMY12A8C140804\": {\"frequency\": 423, \"value\": \"SOKRAMY12A8C140804\"}, \"SOXKOIY12A8C13C1EA\": {\"frequency\": 303, \"value\": \"SOXKOIY12A8C13C1EA\"}, \"SOUSZSW12AB01800C2\": {\"frequency\": 583, \"value\": \"SOUSZSW12AB01800C2\"}, \"SOYJDRA12AB017F30D\": {\"frequency\": 305, \"value\": \"SOYJDRA12AB017F30D\"}, \"SOXEGBZ12A679AE53D\": {\"frequency\": 161, \"value\": \"SOXEGBZ12A679AE53D\"}, \"SOREPNQ12A58A7B49E\": {\"frequency\": 159, \"value\": \"SOREPNQ12A58A7B49E\"}, \"SOZKNSB12A8C140F11\": {\"frequency\": 322, \"value\": \"SOZKNSB12A8C140F11\"}, \"SOMCWAZ12A67ADBCE3\": {\"frequency\": 183, \"value\": \"SOMCWAZ12A67ADBCE3\"}, \"SOLWHSJ12A67AE227B\": {\"frequency\": 351, \"value\": \"SOLWHSJ12A67AE227B\"}, \"SOBOUPA12A6D4F81F1\": {\"frequency\": 1791, \"value\": \"SOBOUPA12A6D4F81F1\"}, \"SODTHOY12AC9071AE7\": {\"frequency\": 277, \"value\": \"SODTHOY12AC9071AE7\"}, \"SOMBKJF12A8C1440B9\": {\"frequency\": 157, \"value\": \"SOMBKJF12A8C1440B9\"}, \"SOLARJV12AB018306B\": {\"frequency\": 258, \"value\": \"SOLARJV12AB018306B\"}, \"SOBMVXX12A8C13D19E\": {\"frequency\": 146, \"value\": \"SOBMVXX12A8C13D19E\"}, \"SOJCVSP12AAFF4438D\": {\"frequency\": 142, \"value\": \"SOJCVSP12AAFF4438D\"}, \"SOLWAHM12AB018EBC8\": {\"frequency\": 340, \"value\": \"SOLWAHM12AB018EBC8\"}, \"SOCDVMQ12A6D4F71B0\": {\"frequency\": 174, \"value\": \"SOCDVMQ12A6D4F71B0\"}, \"SOHTZUF12A8C13582B\": {\"frequency\": 172, \"value\": \"SOHTZUF12A8C13582B\"}, \"SONNBUM12A6D4FDDB4\": {\"frequency\": 161, \"value\": \"SONNBUM12A6D4FDDB4\"}, \"SOJGVOS12A6D4F91D4\": {\"frequency\": 141, \"value\": \"SOJGVOS12A6D4F91D4\"}, \"SOGPBAW12A6D4F9F22\": {\"frequency\": 1172, \"value\": \"SOGPBAW12A6D4F9F22\"}, \"SOQGJZA12A8C1367AE\": {\"frequency\": 321, \"value\": \"SOQGJZA12A8C1367AE\"}, \"SOMNTMT12A8C1400F6\": {\"frequency\": 304, \"value\": \"SOMNTMT12A8C1400F6\"}, \"SOWCKVR12A8C142411\": {\"frequency\": 3823, \"value\": \"SOWCKVR12A8C142411\"}, \"SOXDHVL12A6D4FBBE7\": {\"frequency\": 158, \"value\": \"SOXDHVL12A6D4FBBE7\"}, \"SOWEHOM12A6BD4E09E\": {\"frequency\": 1081, \"value\": \"SOWEHOM12A6BD4E09E\"}, \"SOQFXDQ12AF72AD0EE\": {\"frequency\": 146, \"value\": \"SOQFXDQ12AF72AD0EE\"}, \"SOCGXXL12B0B808865\": {\"frequency\": 299, \"value\": \"SOCGXXL12B0B808865\"}, \"SOTVLHC12A6701EA31\": {\"frequency\": 161, \"value\": \"SOTVLHC12A6701EA31\"}, \"SOXHYVQ12AB0187949\": {\"frequency\": 195, \"value\": \"SOXHYVQ12AB0187949\"}, \"SOGTXWE12AC4687F2D\": {\"frequency\": 187, \"value\": \"SOGTXWE12AC4687F2D\"}, \"SOHJUEQ12A8C143421\": {\"frequency\": 174, \"value\": \"SOHJUEQ12A8C143421\"}, \"SOMYECL12A6701D9C8\": {\"frequency\": 207, \"value\": \"SOMYECL12A6701D9C8\"}, \"SOJSUIS12A8C13BDC4\": {\"frequency\": 160, \"value\": \"SOJSUIS12A8C13BDC4\"}, \"SOTFIPT12A6701F2FA\": {\"frequency\": 266, \"value\": \"SOTFIPT12A6701F2FA\"}, \"SOVAUWH12AB01857EA\": {\"frequency\": 438, \"value\": \"SOVAUWH12AB01857EA\"}, \"SOANSPC12A6702154A\": {\"frequency\": 237, \"value\": \"SOANSPC12A6702154A\"}, \"SOZARJQ12A6D4F66CE\": {\"frequency\": 237, \"value\": \"SOZARJQ12A6D4F66CE\"}, \"SOSDGUX12AB01802FE\": {\"frequency\": 181, \"value\": \"SOSDGUX12AB01802FE\"}, \"SODJVTF12A8AE46DFD\": {\"frequency\": 308, \"value\": \"SODJVTF12A8AE46DFD\"}, \"SOSYOHI12A8C144584\": {\"frequency\": 618, \"value\": \"SOSYOHI12A8C144584\"}, \"SOZFYTZ12AB018565D\": {\"frequency\": 139, \"value\": \"SOZFYTZ12AB018565D\"}, \"SOABJBU12A8C13F63F\": {\"frequency\": 361, \"value\": \"SOABJBU12A8C13F63F\"}, \"SOVQJRY12A81C210C0\": {\"frequency\": 475, \"value\": \"SOVQJRY12A81C210C0\"}, \"SOWBYZF12A6D4F9424\": {\"frequency\": 145, \"value\": \"SOWBYZF12A6D4F9424\"}, \"SORGVYS12A8AE48882\": {\"frequency\": 253, \"value\": \"SORGVYS12A8AE48882\"}, \"SOZCWQA12A6701C798\": {\"frequency\": 252, \"value\": \"SOZCWQA12A6701C798\"}, \"SORYLNP12A8C13C3E7\": {\"frequency\": 153, \"value\": \"SORYLNP12A8C13C3E7\"}, \"SOIRUXQ12A8C133060\": {\"frequency\": 214, \"value\": \"SOIRUXQ12A8C133060\"}, \"SORAHAG12AB0182BD0\": {\"frequency\": 288, \"value\": \"SORAHAG12AB0182BD0\"}, \"SOHHJYE12A8AE47599\": {\"frequency\": 177, \"value\": \"SOHHJYE12A8AE47599\"}, \"SOBWSGV12AB018B5E0\": {\"frequency\": 464, \"value\": \"SOBWSGV12AB018B5E0\"}, \"SODEGIQ12A6D4FC6E3\": {\"frequency\": 323, \"value\": \"SODEGIQ12A6D4FC6E3\"}, \"SOVYNVS12AC3DF64AB\": {\"frequency\": 197, \"value\": \"SOVYNVS12AC3DF64AB\"}, \"SOSLQGG12A6D4F5045\": {\"frequency\": 305, \"value\": \"SOSLQGG12A6D4F5045\"}, \"SOQTTKJ12A6D4F9060\": {\"frequency\": 166, \"value\": \"SOQTTKJ12A6D4F9060\"}, \"SOTJDDY12AB017DC5B\": {\"frequency\": 159, \"value\": \"SOTJDDY12AB017DC5B\"}, \"SONJJXC12A6701D7BD\": {\"frequency\": 234, \"value\": \"SONJJXC12A6701D7BD\"}, \"SOAOAHZ12A8C13AAF1\": {\"frequency\": 288, \"value\": \"SOAOAHZ12A8C13AAF1\"}, \"SOKDQBU12A67AD8F3F\": {\"frequency\": 173, \"value\": \"SOKDQBU12A67AD8F3F\"}, \"SODLAPJ12A8C142002\": {\"frequency\": 333, \"value\": \"SODLAPJ12A8C142002\"}, \"SOSQQGF12A6310F0FB\": {\"frequency\": 183, \"value\": \"SOSQQGF12A6310F0FB\"}, \"SOCJCVE12A8C13CDDB\": {\"frequency\": 157, \"value\": \"SOCJCVE12A8C13CDDB\"}, \"SODUGQV12AF72A6803\": {\"frequency\": 173, \"value\": \"SODUGQV12AF72A6803\"}, \"SOUMOMJ12A6701DFDC\": {\"frequency\": 215, \"value\": \"SOUMOMJ12A6701DFDC\"}, \"SOSZJFV12AB01878CB\": {\"frequency\": 1194, \"value\": \"SOSZJFV12AB01878CB\"}, \"SOULHTS12A6D4FAE9C\": {\"frequency\": 210, \"value\": \"SOULHTS12A6D4FAE9C\"}, \"SOJHVZZ12A58A75BBE\": {\"frequency\": 160, \"value\": \"SOJHVZZ12A58A75BBE\"}, \"SOWNVIV12AB0184846\": {\"frequency\": 177, \"value\": \"SOWNVIV12AB0184846\"}, \"SOWRTJD12A8C132704\": {\"frequency\": 564, \"value\": \"SOWRTJD12A8C132704\"}, \"SOOXLIG12AB0185803\": {\"frequency\": 197, \"value\": \"SOOXLIG12AB0185803\"}, \"SOQJNKS12A6D4FBF52\": {\"frequency\": 134, \"value\": \"SOQJNKS12A6D4FBF52\"}, \"SOLGPOU12A58A7EA20\": {\"frequency\": 750, \"value\": \"SOLGPOU12A58A7EA20\"}, \"SOPUDWU12A8AE4612A\": {\"frequency\": 147, \"value\": \"SOPUDWU12A8AE4612A\"}, \"SOZCDWG12A6D4F81E1\": {\"frequency\": 708, \"value\": \"SOZCDWG12A6D4F81E1\"}, \"SOFXLEQ12AF729FA3E\": {\"frequency\": 147, \"value\": \"SOFXLEQ12AF729FA3E\"}, \"SOFVZRE12A8C139783\": {\"frequency\": 494, \"value\": \"SOFVZRE12A8C139783\"}, \"SOJUXGA12AC961885C\": {\"frequency\": 273, \"value\": \"SOJUXGA12AC961885C\"}, \"SOTBAVH12A8C137808\": {\"frequency\": 142, \"value\": \"SOTBAVH12A8C137808\"}, \"SOSRERB12A8C139735\": {\"frequency\": 170, \"value\": \"SOSRERB12A8C139735\"}, \"SOHJOLH12A6310DFE5\": {\"frequency\": 564, \"value\": \"SOHJOLH12A6310DFE5\"}, \"SOAEYBP12AB0184573\": {\"frequency\": 253, \"value\": \"SOAEYBP12AB0184573\"}, \"SOVIZNF12AF72A710A\": {\"frequency\": 230, \"value\": \"SOVIZNF12AF72A710A\"}, \"SOQTFOR12A6D4F612A\": {\"frequency\": 256, \"value\": \"SOQTFOR12A6D4F612A\"}, \"SOWPRYI12A58A7B51A\": {\"frequency\": 157, \"value\": \"SOWPRYI12A58A7B51A\"}, \"SOXMGFH12A6701FF31\": {\"frequency\": 141, \"value\": \"SOXMGFH12A6701FF31\"}, \"SOFWEPP12AB01890A2\": {\"frequency\": 177, \"value\": \"SOFWEPP12AB01890A2\"}, \"SOBTUTU12A6701F301\": {\"frequency\": 188, \"value\": \"SOBTUTU12A6701F301\"}, \"SOQKNEO12A58A78EE7\": {\"frequency\": 197, \"value\": \"SOQKNEO12A58A78EE7\"}, \"SOQLUTQ12A8AE48037\": {\"frequency\": 503, \"value\": \"SOQLUTQ12A8AE48037\"}, \"SOBUBLL12A58A795A8\": {\"frequency\": 461, \"value\": \"SOBUBLL12A58A795A8\"}, \"SOUFPNI12A8C142D19\": {\"frequency\": 1107, \"value\": \"SOUFPNI12A8C142D19\"}, \"SOXDQPZ12A8C13F4FC\": {\"frequency\": 164, \"value\": \"SOXDQPZ12A8C13F4FC\"}, \"SOWTYVO12AB0180BDA\": {\"frequency\": 212, \"value\": \"SOWTYVO12AB0180BDA\"}, \"SOMWTWK12AB01860CD\": {\"frequency\": 171, \"value\": \"SOMWTWK12AB01860CD\"}, \"SOTHABI12A58A7DACB\": {\"frequency\": 318, \"value\": \"SOTHABI12A58A7DACB\"}, \"SOJZFQA12AB017BFB0\": {\"frequency\": 193, \"value\": \"SOJZFQA12AB017BFB0\"}, \"SOLOZRE12A8C133256\": {\"frequency\": 140, \"value\": \"SOLOZRE12A8C133256\"}, \"SOXAQJS12AB018CBF7\": {\"frequency\": 549, \"value\": \"SOXAQJS12AB018CBF7\"}, \"SORRCNC12A8C13FDA9\": {\"frequency\": 429, \"value\": \"SORRCNC12A8C13FDA9\"}, \"SOCPTWE12A6701E2F8\": {\"frequency\": 216, \"value\": \"SOCPTWE12A6701E2F8\"}, \"SOUKTVI12A8C13BF74\": {\"frequency\": 178, \"value\": \"SOUKTVI12A8C13BF74\"}, \"SOVMADB12A8C137B96\": {\"frequency\": 132, \"value\": \"SOVMADB12A8C137B96\"}, \"SOOZFCC12A58A7D783\": {\"frequency\": 206, \"value\": \"SOOZFCC12A58A7D783\"}, \"SONNPHH12A58A79A9C\": {\"frequency\": 171, \"value\": \"SONNPHH12A58A79A9C\"}, \"SOLOQJG12A81C20457\": {\"frequency\": 156, \"value\": \"SOLOQJG12A81C20457\"}, \"SOKNWRZ12A8C13BF62\": {\"frequency\": 224, \"value\": \"SOKNWRZ12A8C13BF62\"}, \"SOHWRJH12A8C139AFC\": {\"frequency\": 289, \"value\": \"SOHWRJH12A8C139AFC\"}, \"SOMMKEW12A58A80F00\": {\"frequency\": 199, \"value\": \"SOMMKEW12A58A80F00\"}, \"SOIPSJB12A67ADD6C0\": {\"frequency\": 267, \"value\": \"SOIPSJB12A67ADD6C0\"}, \"SOWWCNJ12A81C1FFA5\": {\"frequency\": 257, \"value\": \"SOWWCNJ12A81C1FFA5\"}, \"SOLDUYB12A67020910\": {\"frequency\": 201, \"value\": \"SOLDUYB12A67020910\"}, \"SOARUPP12AB01842E0\": {\"frequency\": 621, \"value\": \"SOARUPP12AB01842E0\"}, \"SODACBL12A8C13C273\": {\"frequency\": 416, \"value\": \"SODACBL12A8C13C273\"}, \"SOWPCTZ12A6310D890\": {\"frequency\": 145, \"value\": \"SOWPCTZ12A6310D890\"}, \"SOFCPOU12A8C13BF40\": {\"frequency\": 506, \"value\": \"SOFCPOU12A8C13BF40\"}, \"SOZFYPG12A8C14490A\": {\"frequency\": 222, \"value\": \"SOZFYPG12A8C14490A\"}, \"SOJCJMT12A8AE492E5\": {\"frequency\": 186, \"value\": \"SOJCJMT12A8AE492E5\"}, \"SOMLYJD12A58A7B155\": {\"frequency\": 389, \"value\": \"SOMLYJD12A58A7B155\"}, \"SOAWIDW12A81C22AEB\": {\"frequency\": 152, \"value\": \"SOAWIDW12A81C22AEB\"}, \"SOGDKEK12AF72A193B\": {\"frequency\": 152, \"value\": \"SOGDKEK12AF72A193B\"}, \"SONEJIJ12AB0185727\": {\"frequency\": 338, \"value\": \"SONEJIJ12AB0185727\"}, \"SORMOAU12AB018956B\": {\"frequency\": 152, \"value\": \"SORMOAU12AB018956B\"}, \"SONOMEC12A8C14541F\": {\"frequency\": 216, \"value\": \"SONOMEC12A8C14541F\"}, \"SOCHPTV12A6BD53113\": {\"frequency\": 179, \"value\": \"SOCHPTV12A6BD53113\"}, \"SOAAWEE12A6D4FBEC8\": {\"frequency\": 161, \"value\": \"SOAAWEE12A6D4FBEC8\"}, \"SOSNMJN12A58A7A649\": {\"frequency\": 154, \"value\": \"SOSNMJN12A58A7A649\"}, \"SOPPROJ12AB0184E18\": {\"frequency\": 1676, \"value\": \"SOPPROJ12AB0184E18\"}, \"SOJSCKJ12A8C1455E5\": {\"frequency\": 155, \"value\": \"SOJSCKJ12A8C1455E5\"}, \"SOESTPV12AB01821F6\": {\"frequency\": 230, \"value\": \"SOESTPV12AB01821F6\"}, \"SOBFRNE12A6D4F7995\": {\"frequency\": 803, \"value\": \"SOBFRNE12A6D4F7995\"}, \"SOUCBEB12A6310E1F9\": {\"frequency\": 247, \"value\": \"SOUCBEB12A6310E1F9\"}, \"SOOECND12A8C13A0EA\": {\"frequency\": 233, \"value\": \"SOOECND12A8C13A0EA\"}, \"SOUCMUI12AB018C0C6\": {\"frequency\": 275, \"value\": \"SOUCMUI12AB018C0C6\"}, \"SOMRYYN12A6310F0F3\": {\"frequency\": 527, \"value\": \"SOMRYYN12A6310F0F3\"}, \"SOLMIUU12A58A79C99\": {\"frequency\": 163, \"value\": \"SOLMIUU12A58A79C99\"}, \"SOLMARC12A8C13FC61\": {\"frequency\": 163, \"value\": \"SOLMARC12A8C13FC61\"}, \"SOCRVWC12A6310F991\": {\"frequency\": 239, \"value\": \"SOCRVWC12A6310F991\"}, \"SOOQFQE12AB0180901\": {\"frequency\": 142, \"value\": \"SOOQFQE12AB0180901\"}, \"SORBBFV12AB017D710\": {\"frequency\": 440, \"value\": \"SORBBFV12AB017D710\"}, \"SOEWNJA12A67AE110B\": {\"frequency\": 183, \"value\": \"SOEWNJA12A67AE110B\"}, \"SOHFNKO12AB017C772\": {\"frequency\": 554, \"value\": \"SOHFNKO12AB017C772\"}, \"SOPBFHP12A8C131F30\": {\"frequency\": 267, \"value\": \"SOPBFHP12A8C131F30\"}, \"SOLXTXN12AB018238A\": {\"frequency\": 163, \"value\": \"SOLXTXN12AB018238A\"}, \"SOKGMOT12AB018771F\": {\"frequency\": 153, \"value\": \"SOKGMOT12AB018771F\"}, \"SODASIJ12A6D4F5D89\": {\"frequency\": 287, \"value\": \"SODASIJ12A6D4F5D89\"}, \"SOVFBUL12A58A7B498\": {\"frequency\": 148, \"value\": \"SOVFBUL12A58A7B498\"}, \"SOCMHES12AB0186FCF\": {\"frequency\": 305, \"value\": \"SOCMHES12AB0186FCF\"}, \"SOMAKIT12A58A7E292\": {\"frequency\": 240, \"value\": \"SOMAKIT12A58A7E292\"}, \"SONZWDK12A6701F62B\": {\"frequency\": 250, \"value\": \"SONZWDK12A6701F62B\"}, \"SOGSAYQ12AB018BA14\": {\"frequency\": 932, \"value\": \"SOGSAYQ12AB018BA14\"}, \"SOFKEQZ12AB018A996\": {\"frequency\": 146, \"value\": \"SOFKEQZ12AB018A996\"}, \"SOQGOPT12AAF3B2B27\": {\"frequency\": 311, \"value\": \"SOQGOPT12AAF3B2B27\"}, \"SOKJFOA12A6D4F79DF\": {\"frequency\": 196, \"value\": \"SOKJFOA12A6D4F79DF\"}, \"SOMWCVL12AF729E81A\": {\"frequency\": 162, \"value\": \"SOMWCVL12AF729E81A\"}, \"SOBTVDE12AF72A3DE5\": {\"frequency\": 154, \"value\": \"SOBTVDE12AF72A3DE5\"}, \"SOQJHUW12AB0188A24\": {\"frequency\": 282, \"value\": \"SOQJHUW12AB0188A24\"}, \"SOLAUOW12A8C13A400\": {\"frequency\": 227, \"value\": \"SOLAUOW12A8C13A400\"}, \"SOVNVRF12A8C14477B\": {\"frequency\": 150, \"value\": \"SOVNVRF12A8C14477B\"}, \"SOHFGKG12A6701C429\": {\"frequency\": 323, \"value\": \"SOHFGKG12A6701C429\"}, \"SOLWZVR12AB01849C6\": {\"frequency\": 971, \"value\": \"SOLWZVR12AB01849C6\"}, \"SOKCJPR12AF72AC24D\": {\"frequency\": 195, \"value\": \"SOKCJPR12AF72AC24D\"}, \"SOCATVQ12A8AE46CF4\": {\"frequency\": 153, \"value\": \"SOCATVQ12A8AE46CF4\"}, \"SOOEEAQ12A8AE46374\": {\"frequency\": 172, \"value\": \"SOOEEAQ12A8AE46374\"}, \"SONMIKP12A58A7E1FF\": {\"frequency\": 177, \"value\": \"SONMIKP12A58A7E1FF\"}, \"SOFFWND12A58A796B7\": {\"frequency\": 145, \"value\": \"SOFFWND12A58A796B7\"}, \"SODCNJX12A6D4F93CB\": {\"frequency\": 762, \"value\": \"SODCNJX12A6D4F93CB\"}, \"SOPQBHI12A58A777F6\": {\"frequency\": 147, \"value\": \"SOPQBHI12A58A777F6\"}, \"SOWNIWL12AB017B720\": {\"frequency\": 274, \"value\": \"SOWNIWL12AB017B720\"}, \"SOSCDWE12AB01823C4\": {\"frequency\": 172, \"value\": \"SOSCDWE12AB01823C4\"}, \"SOMUWFQ12AB0184608\": {\"frequency\": 140, \"value\": \"SOMUWFQ12AB0184608\"}, \"SOINYMI12A8C13C3F8\": {\"frequency\": 154, \"value\": \"SOINYMI12A8C13C3F8\"}, \"SOVWBYM12A6D4F8A22\": {\"frequency\": 550, \"value\": \"SOVWBYM12A6D4F8A22\"}, \"SOCBSZW12AB01891C1\": {\"frequency\": 144, \"value\": \"SOCBSZW12AB01891C1\"}, \"SOZDGEW12A8C13E748\": {\"frequency\": 412, \"value\": \"SOZDGEW12A8C13E748\"}, \"SOAUXEN12A81C23960\": {\"frequency\": 159, \"value\": \"SOAUXEN12A81C23960\"}, \"SOUCHPA12AB0184B1A\": {\"frequency\": 328, \"value\": \"SOUCHPA12AB0184B1A\"}, \"SOPUCYA12A8C13A694\": {\"frequency\": 1735, \"value\": \"SOPUCYA12A8C13A694\"}, \"SOWKRSR12A8C13CA37\": {\"frequency\": 168, \"value\": \"SOWKRSR12A8C13CA37\"}, \"SOCXCTS12AC468A380\": {\"frequency\": 202, \"value\": \"SOCXCTS12AC468A380\"}, \"SOSCIZP12AB0181D2F\": {\"frequency\": 1508, \"value\": \"SOSCIZP12AB0181D2F\"}, \"SOQIOXQ12AAF3B2A37\": {\"frequency\": 198, \"value\": \"SOQIOXQ12AAF3B2A37\"}, \"SOYFQVR12AB018ACA5\": {\"frequency\": 214, \"value\": \"SOYFQVR12AB018ACA5\"}, \"SOLOHIX12A58A7A2C2\": {\"frequency\": 172, \"value\": \"SOLOHIX12A58A7A2C2\"}, \"SOXPDDQ12A58A76829\": {\"frequency\": 275, \"value\": \"SOXPDDQ12A58A76829\"}, \"SOSYHME12A8C135DD8\": {\"frequency\": 279, \"value\": \"SOSYHME12A8C135DD8\"}, \"SOPIEIJ12A6D4F8F81\": {\"frequency\": 328, \"value\": \"SOPIEIJ12A6D4F8F81\"}, \"SOCBWRP12A8C1311DB\": {\"frequency\": 182, \"value\": \"SOCBWRP12A8C1311DB\"}, \"SOHUFCT12A8151E05B\": {\"frequency\": 162, \"value\": \"SOHUFCT12A8151E05B\"}, \"SOZEETS12AC9071BD3\": {\"frequency\": 279, \"value\": \"SOZEETS12AC9071BD3\"}, \"SOESZWS12A6D4F910C\": {\"frequency\": 236, \"value\": \"SOESZWS12A6D4F910C\"}, \"SOVTLQW12AB0186641\": {\"frequency\": 284, \"value\": \"SOVTLQW12AB0186641\"}, \"SOUBZPQ12A8C13629D\": {\"frequency\": 230, \"value\": \"SOUBZPQ12A8C13629D\"}, \"SOBMKJU12A6D4F7128\": {\"frequency\": 186, \"value\": \"SOBMKJU12A6D4F7128\"}, \"SOSAXUZ12AAF3B2031\": {\"frequency\": 139, \"value\": \"SOSAXUZ12AAF3B2031\"}, \"SONETQG12AF72A16FF\": {\"frequency\": 214, \"value\": \"SONETQG12AF72A16FF\"}, \"SOROOFM12A8AE48536\": {\"frequency\": 143, \"value\": \"SOROOFM12A8AE48536\"}, \"SODGACR12A8C141936\": {\"frequency\": 175, \"value\": \"SODGACR12A8C141936\"}, \"SOYGQGR12AF72ABAB8\": {\"frequency\": 161, \"value\": \"SOYGQGR12AF72ABAB8\"}, \"SODLYRF12AB01861E0\": {\"frequency\": 171, \"value\": \"SODLYRF12AB01861E0\"}, \"SOHZMFE12A6D4FB412\": {\"frequency\": 207, \"value\": \"SOHZMFE12A6D4FB412\"}, \"SOLOFQJ12AB0184320\": {\"frequency\": 207, \"value\": \"SOLOFQJ12AB0184320\"}, \"SOGQJKF12A8C13729E\": {\"frequency\": 181, \"value\": \"SOGQJKF12A8C13729E\"}, \"SOYOMWJ12A6D4F6689\": {\"frequency\": 146, \"value\": \"SOYOMWJ12A6D4F6689\"}, \"SOMIHYA12AB018DD37\": {\"frequency\": 162, \"value\": \"SOMIHYA12AB018DD37\"}, \"SOAFHIF12AB0184446\": {\"frequency\": 146, \"value\": \"SOAFHIF12AB0184446\"}, \"SOMJFPG12A58A7DD95\": {\"frequency\": 154, \"value\": \"SOMJFPG12A58A7DD95\"}, \"SOMDVSL12A6D4F7230\": {\"frequency\": 229, \"value\": \"SOMDVSL12A6D4F7230\"}, \"SOOTKWZ12AB0181082\": {\"frequency\": 420, \"value\": \"SOOTKWZ12AB0181082\"}, \"SOLMKTS12A8AE46C27\": {\"frequency\": 276, \"value\": \"SOLMKTS12A8AE46C27\"}, \"SOKPSFX12A58A7B5CF\": {\"frequency\": 218, \"value\": \"SOKPSFX12A58A7B5CF\"}, \"SOMBAVX12AF72AC99C\": {\"frequency\": 217, \"value\": \"SOMBAVX12AF72AC99C\"}, \"SOYIBFQ12A6701C628\": {\"frequency\": 291, \"value\": \"SOYIBFQ12A6701C628\"}, \"SOKSMZU12AB01867E9\": {\"frequency\": 131, \"value\": \"SOKSMZU12AB01867E9\"}, \"SOTWCDE12AB018909C\": {\"frequency\": 596, \"value\": \"SOTWCDE12AB018909C\"}, \"SOAYETG12A67ADA751\": {\"frequency\": 211, \"value\": \"SOAYETG12A67ADA751\"}, \"SOSJDQJ12A8C13D4A9\": {\"frequency\": 200, \"value\": \"SOSJDQJ12A8C13D4A9\"}, \"SOUGMXP12AB017C76C\": {\"frequency\": 254, \"value\": \"SOUGMXP12AB017C76C\"}, \"SODCADR12AF72A1A99\": {\"frequency\": 572, \"value\": \"SODCADR12AF72A1A99\"}, \"SOUGOHW12AB018AEA3\": {\"frequency\": 153, \"value\": \"SOUGOHW12AB018AEA3\"}, \"SOGOSHO12AB0184D38\": {\"frequency\": 787, \"value\": \"SOGOSHO12AB0184D38\"}, \"SOGRPEY12A8C13FBB1\": {\"frequency\": 157, \"value\": \"SOGRPEY12A8C13FBB1\"}, \"SODEAWL12AB0187032\": {\"frequency\": 448, \"value\": \"SODEAWL12AB0187032\"}, \"SOXQWUS12A58A7B236\": {\"frequency\": 176, \"value\": \"SOXQWUS12A58A7B236\"}, \"SORFVMQ12AB0184135\": {\"frequency\": 180, \"value\": \"SORFVMQ12AB0184135\"}, \"SOSHQBW12A6701FC60\": {\"frequency\": 147, \"value\": \"SOSHQBW12A6701FC60\"}, \"SOIBSWV12A6D4F6AB3\": {\"frequency\": 409, \"value\": \"SOIBSWV12A6D4F6AB3\"}, \"SOJNNUA12A8AE48C7A\": {\"frequency\": 180, \"value\": \"SOJNNUA12A8AE48C7A\"}, \"SONJILQ12A67020456\": {\"frequency\": 291, \"value\": \"SONJILQ12A67020456\"}, \"SOACIPG12A8AE47E1C\": {\"frequency\": 228, \"value\": \"SOACIPG12A8AE47E1C\"}, \"SOASXQD12AB018902F\": {\"frequency\": 224, \"value\": \"SOASXQD12AB018902F\"}, \"SOXCCPU12A58A7BF1E\": {\"frequency\": 138, \"value\": \"SOXCCPU12A58A7BF1E\"}, \"SONEWAX12AB018DD3F\": {\"frequency\": 372, \"value\": \"SONEWAX12AB018DD3F\"}, \"SOILROA12A6D4FD0D7\": {\"frequency\": 184, \"value\": \"SOILROA12A6D4FD0D7\"}, \"SOMGVYU12A8C1314FF\": {\"frequency\": 895, \"value\": \"SOMGVYU12A8C1314FF\"}, \"SOVUKJM12A8C13C52A\": {\"frequency\": 158, \"value\": \"SOVUKJM12A8C13C52A\"}, \"SORCAKN12A58A7A2CF\": {\"frequency\": 147, \"value\": \"SORCAKN12A58A7A2CF\"}, \"SOQGSUC12A8C13B66D\": {\"frequency\": 298, \"value\": \"SOQGSUC12A8C13B66D\"}, \"SOWLCQY12A6D4F84CF\": {\"frequency\": 139, \"value\": \"SOWLCQY12A6D4F84CF\"}, \"SOKUTUM12A6701D9CD\": {\"frequency\": 533, \"value\": \"SOKUTUM12A6701D9CD\"}, \"SONIJFN12A6D4F7A7A\": {\"frequency\": 172, \"value\": \"SONIJFN12A6D4F7A7A\"}, \"SOFDJSB12AB0183B5B\": {\"frequency\": 272, \"value\": \"SOFDJSB12AB0183B5B\"}, \"SOTWNDJ12A8C143984\": {\"frequency\": 1990, \"value\": \"SOTWNDJ12A8C143984\"}, \"SOOFYTN12A6D4F9B35\": {\"frequency\": 1772, \"value\": \"SOOFYTN12A6D4F9B35\"}, \"SODEYDM12A58A77072\": {\"frequency\": 221, \"value\": \"SODEYDM12A58A77072\"}, \"SOYKFFK12A8C14391D\": {\"frequency\": 155, \"value\": \"SOYKFFK12A8C14391D\"}, \"SOMQHZK12A6D4F8074\": {\"frequency\": 176, \"value\": \"SOMQHZK12A6D4F8074\"}, \"SONHLJN12A81C2169B\": {\"frequency\": 364, \"value\": \"SONHLJN12A81C2169B\"}, \"SOYALKY12A8C137576\": {\"frequency\": 166, \"value\": \"SOYALKY12A8C137576\"}, \"SOBNSME12A6701E2FD\": {\"frequency\": 182, \"value\": \"SOBNSME12A6701E2FD\"}, \"SOOXJDU12A8AE47ECB\": {\"frequency\": 187, \"value\": \"SOOXJDU12A8AE47ECB\"}, \"SOUVTSM12AC468F6A7\": {\"frequency\": 2226, \"value\": \"SOUVTSM12AC468F6A7\"}, \"SOHKZSM12A8C13E5D5\": {\"frequency\": 168, \"value\": \"SOHKZSM12A8C13E5D5\"}, \"SOIOZHO12AB017FE5E\": {\"frequency\": 303, \"value\": \"SOIOZHO12AB017FE5E\"}, \"SOTGFZL12AB0184F7D\": {\"frequency\": 131, \"value\": \"SOTGFZL12AB0184F7D\"}, \"SOPCTBB12AF72A1B64\": {\"frequency\": 457, \"value\": \"SOPCTBB12AF72A1B64\"}, \"SONBIEE12A58A7BE55\": {\"frequency\": 141, \"value\": \"SONBIEE12A58A7BE55\"}, \"SOSXSMM12B0B808B45\": {\"frequency\": 165, \"value\": \"SOSXSMM12B0B808B45\"}, \"SOAKMDU12A8C1346A9\": {\"frequency\": 547, \"value\": \"SOAKMDU12A8C1346A9\"}, \"SOWBTPS12A6D4FA5BE\": {\"frequency\": 164, \"value\": \"SOWBTPS12A6D4FA5BE\"}, \"SOOCICG12A8AE49309\": {\"frequency\": 144, \"value\": \"SOOCICG12A8AE49309\"}, \"SOFEOVT12A58A78DF3\": {\"frequency\": 157, \"value\": \"SOFEOVT12A58A78DF3\"}, \"SOBBKGF12A8C1311EE\": {\"frequency\": 286, \"value\": \"SOBBKGF12A8C1311EE\"}, \"SOMSWGY12AB017F755\": {\"frequency\": 165, \"value\": \"SOMSWGY12AB017F755\"}, \"SOICNON12A8C140437\": {\"frequency\": 218, \"value\": \"SOICNON12A8C140437\"}, \"SORNJQU12AB01821FA\": {\"frequency\": 158, \"value\": \"SORNJQU12AB01821FA\"}, \"SOIZAZL12A6701C53B\": {\"frequency\": 340, \"value\": \"SOIZAZL12A6701C53B\"}, \"SOWBHRF12A8C137AB2\": {\"frequency\": 162, \"value\": \"SOWBHRF12A8C137AB2\"}, \"SOZVUCT12A8C1424BE\": {\"frequency\": 294, \"value\": \"SOZVUCT12A8C1424BE\"}, \"SOSNJIT12A8159E8DB\": {\"frequency\": 266, \"value\": \"SOSNJIT12A8159E8DB\"}, \"SOZUVYE12AB017CA2D\": {\"frequency\": 142, \"value\": \"SOZUVYE12AB017CA2D\"}, \"SOTCDXR12A679D7E5E\": {\"frequency\": 150, \"value\": \"SOTCDXR12A679D7E5E\"}, \"SOMZVGZ12A8C140EFF\": {\"frequency\": 291, \"value\": \"SOMZVGZ12A8C140EFF\"}, \"SOUUZPU12A6701FB90\": {\"frequency\": 366, \"value\": \"SOUUZPU12A6701FB90\"}, \"SOHWXEU12A8C1320D1\": {\"frequency\": 265, \"value\": \"SOHWXEU12A8C1320D1\"}, \"SOLGLUC12AB018A8FA\": {\"frequency\": 924, \"value\": \"SOLGLUC12AB018A8FA\"}, \"SOARYZA12A6D4FAB9B\": {\"frequency\": 154, \"value\": \"SOARYZA12A6D4FAB9B\"}, \"SOPOTMH12A58A7F739\": {\"frequency\": 201, \"value\": \"SOPOTMH12A58A7F739\"}, \"SOLIFTZ12AB017AFED\": {\"frequency\": 149, \"value\": \"SOLIFTZ12AB017AFED\"}, \"SOSVDRD12A67ADAEF1\": {\"frequency\": 271, \"value\": \"SOSVDRD12A67ADAEF1\"}, \"SOWYYUQ12A6701D68D\": {\"frequency\": 713, \"value\": \"SOWYYUQ12A6701D68D\"}, \"SOCHYVZ12A6D4F5908\": {\"frequency\": 444, \"value\": \"SOCHYVZ12A6D4F5908\"}, \"SOVHKJL12AB017E2B2\": {\"frequency\": 231, \"value\": \"SOVHKJL12AB017E2B2\"}, \"SOTUARP12A8C13CB54\": {\"frequency\": 248, \"value\": \"SOTUARP12A8C13CB54\"}, \"SOIMCDE12A6D4F8383\": {\"frequency\": 436, \"value\": \"SOIMCDE12A6D4F8383\"}, \"SOTHQRU12A58A78698\": {\"frequency\": 173, \"value\": \"SOTHQRU12A58A78698\"}, \"SOJHCOH12A8AE45F4F\": {\"frequency\": 273, \"value\": \"SOJHCOH12A8AE45F4F\"}, \"SOGKGDF12AF72A5DD6\": {\"frequency\": 257, \"value\": \"SOGKGDF12AF72A5DD6\"}, \"SOWSHHE12AF729F422\": {\"frequency\": 214, \"value\": \"SOWSHHE12AF729F422\"}, \"SOGCRXY12A8C1439FC\": {\"frequency\": 233, \"value\": \"SOGCRXY12A8C1439FC\"}, \"SOSSRFA12A6D4F79DB\": {\"frequency\": 133, \"value\": \"SOSSRFA12A6D4F79DB\"}, \"SOVVBPK12A58A810CA\": {\"frequency\": 152, \"value\": \"SOVVBPK12A58A810CA\"}, \"SOPTLQL12AB018D56F\": {\"frequency\": 1656, \"value\": \"SOPTLQL12AB018D56F\"}, \"SOZYSDT12A8C13BFD7\": {\"frequency\": 473, \"value\": \"SOZYSDT12A8C13BFD7\"}, \"SOBCNJU12A8C13F270\": {\"frequency\": 150, \"value\": \"SOBCNJU12A8C13F270\"}, \"SONTQUO12A6D4F7D8B\": {\"frequency\": 328, \"value\": \"SONTQUO12A6D4F7D8B\"}, \"SOSRCCU12A67ADA089\": {\"frequency\": 198, \"value\": \"SOSRCCU12A67ADA089\"}, \"SOBJDDA12A6BD53159\": {\"frequency\": 185, \"value\": \"SOBJDDA12A6BD53159\"}, \"SONQJCU12A8C144398\": {\"frequency\": 323, \"value\": \"SONQJCU12A8C144398\"}, \"SOXACZF12A6D4FB153\": {\"frequency\": 226, \"value\": \"SOXACZF12A6D4FB153\"}, \"SOZEBAZ12AF72A80C8\": {\"frequency\": 272, \"value\": \"SOZEBAZ12AF72A80C8\"}, \"SOUOPLF12AB017F40F\": {\"frequency\": 256, \"value\": \"SOUOPLF12AB017F40F\"}, \"SOFKFXC12AC90732A5\": {\"frequency\": 438, \"value\": \"SOFKFXC12AC90732A5\"}, \"SOXFYTY127E9433E7D\": {\"frequency\": 235, \"value\": \"SOXFYTY127E9433E7D\"}, \"SOOYQXS12A6D4F84B9\": {\"frequency\": 132, \"value\": \"SOOYQXS12A6D4F84B9\"}, \"SOYIYFF12A6701D22F\": {\"frequency\": 196, \"value\": \"SOYIYFF12A6701D22F\"}, \"SOZYDZR12A8C13F4F0\": {\"frequency\": 170, \"value\": \"SOZYDZR12A8C13F4F0\"}, \"SOEKSGJ12A67AE227E\": {\"frequency\": 471, \"value\": \"SOEKSGJ12A67AE227E\"}, \"SOLVNYY12AB0181D2E\": {\"frequency\": 173, \"value\": \"SOLVNYY12AB0181D2E\"}, \"SOJSTYO12A8C13F200\": {\"frequency\": 408, \"value\": \"SOJSTYO12A8C13F200\"}, \"SOMTLPL12A6702085A\": {\"frequency\": 201, \"value\": \"SOMTLPL12A6702085A\"}, \"SOJYMBF12A58A7E245\": {\"frequency\": 297, \"value\": \"SOJYMBF12A58A7E245\"}, \"SOAHLGV12AF72A6DFC\": {\"frequency\": 477, \"value\": \"SOAHLGV12AF72A6DFC\"}, \"SOSRIHB12A8C13608B\": {\"frequency\": 289, \"value\": \"SOSRIHB12A8C13608B\"}, \"SOAFTRR12AF72A8D4D\": {\"frequency\": 790, \"value\": \"SOAFTRR12AF72A8D4D\"}, \"SOHXWUX12AB01821DC\": {\"frequency\": 223, \"value\": \"SOHXWUX12AB01821DC\"}, \"SODWXJW12AAA8C5C29\": {\"frequency\": 414, \"value\": \"SODWXJW12AAA8C5C29\"}, \"SOLRZLK12AF72A3F6C\": {\"frequency\": 141, \"value\": \"SOLRZLK12AF72A3F6C\"}, \"SOBQYCF12AC909726F\": {\"frequency\": 215, \"value\": \"SOBQYCF12AC909726F\"}, \"SOCEGJM12A8AE481D3\": {\"frequency\": 161, \"value\": \"SOCEGJM12A8AE481D3\"}, \"SOWKXQS12A8C1343A6\": {\"frequency\": 160, \"value\": \"SOWKXQS12A8C1343A6\"}, \"SONQCXC12A6D4F6A37\": {\"frequency\": 1028, \"value\": \"SONQCXC12A6D4F6A37\"}, \"SOYPWKK12A8C136494\": {\"frequency\": 146, \"value\": \"SOYPWKK12A8C136494\"}, \"SONHWUN12AC468C014\": {\"frequency\": 1036, \"value\": \"SONHWUN12AC468C014\"}, \"SOGAGAT12A6D4FAF3D\": {\"frequency\": 148, \"value\": \"SOGAGAT12A6D4FAF3D\"}, \"SOWQXHG12AB0189D1A\": {\"frequency\": 176, \"value\": \"SOWQXHG12AB0189D1A\"}, \"SOBRYBV12A58A7D451\": {\"frequency\": 139, \"value\": \"SOBRYBV12A58A7D451\"}, \"SOXHYWX12A8C142CE8\": {\"frequency\": 180, \"value\": \"SOXHYWX12A8C142CE8\"}, \"SOLWOMR12A6D4F8AC3\": {\"frequency\": 213, \"value\": \"SOLWOMR12A6D4F8AC3\"}, \"SOPSOHT12A67AE0235\": {\"frequency\": 960, \"value\": \"SOPSOHT12A67AE0235\"}, \"SOCAFDI12A8C13D10E\": {\"frequency\": 170, \"value\": \"SOCAFDI12A8C13D10E\"}, \"SOUGCDK12AC95F075F\": {\"frequency\": 574, \"value\": \"SOUGCDK12AC95F075F\"}, \"SOAFBKA12A58A7ACCF\": {\"frequency\": 147, \"value\": \"SOAFBKA12A58A7ACCF\"}, \"SOWRCYH12A58A7C559\": {\"frequency\": 147, \"value\": \"SOWRCYH12A58A7C559\"}, \"SOPTPWD12A6D4FBD4E\": {\"frequency\": 265, \"value\": \"SOPTPWD12A6D4FBD4E\"}, \"SODYCOO12A58A7955E\": {\"frequency\": 156, \"value\": \"SODYCOO12A58A7955E\"}, \"SOOHCUB12A58A7AD2C\": {\"frequency\": 228, \"value\": \"SOOHCUB12A58A7AD2C\"}, \"SOEMUXL12A58A7B848\": {\"frequency\": 315, \"value\": \"SOEMUXL12A58A7B848\"}, \"SOGEKGR12A6D4F81E8\": {\"frequency\": 218, \"value\": \"SOGEKGR12A6D4F81E8\"}, \"SOWCBKV12AC90732A6\": {\"frequency\": 579, \"value\": \"SOWCBKV12AC90732A6\"}, \"SOHYLXU12A8C139492\": {\"frequency\": 284, \"value\": \"SOHYLXU12A8C139492\"}, \"SONTIBS12A6D4F9CFE\": {\"frequency\": 163, \"value\": \"SONTIBS12A6D4F9CFE\"}, \"SOKIYKQ12A8AE464FC\": {\"frequency\": 213, \"value\": \"SOKIYKQ12A8AE464FC\"}, \"SOOALOT12A8C13ABD9\": {\"frequency\": 190, \"value\": \"SOOALOT12A8C13ABD9\"}, \"SOPGYCQ12A6D4FB4DC\": {\"frequency\": 273, \"value\": \"SOPGYCQ12A6D4FB4DC\"}, \"SOKWOKS12A58A7BF56\": {\"frequency\": 158, \"value\": \"SOKWOKS12A58A7BF56\"}, \"SOYEZKY12AB018909A\": {\"frequency\": 199, \"value\": \"SOYEZKY12AB018909A\"}, \"SOZOIUU12A67ADFA39\": {\"frequency\": 141, \"value\": \"SOZOIUU12A67ADFA39\"}, \"SOJCAVK12A8151B805\": {\"frequency\": 156, \"value\": \"SOJCAVK12A8151B805\"}, \"SOSXPFU12AB017FE27\": {\"frequency\": 159, \"value\": \"SOSXPFU12AB017FE27\"}, \"SOUKMKR12A8C141925\": {\"frequency\": 465, \"value\": \"SOUKMKR12A8C141925\"}, \"SONHVVE12AB018D038\": {\"frequency\": 983, \"value\": \"SONHVVE12AB018D038\"}, \"SOJDOJC12A8AE46372\": {\"frequency\": 191, \"value\": \"SOJDOJC12A8AE46372\"}, \"SOARTRF12AB0181F4D\": {\"frequency\": 140, \"value\": \"SOARTRF12AB0181F4D\"}, \"SOERYLG12A6701F07F\": {\"frequency\": 560, \"value\": \"SOERYLG12A6701F07F\"}, \"SONQBUB12A6D4F8ED0\": {\"frequency\": 648, \"value\": \"SONQBUB12A6D4F8ED0\"}, \"SOCIHMS12A8C142CC7\": {\"frequency\": 189, \"value\": \"SOCIHMS12A8C142CC7\"}, \"SOLZOBD12AB0185720\": {\"frequency\": 647, \"value\": \"SOLZOBD12AB0185720\"}, \"SOIAHAG12A8C137806\": {\"frequency\": 177, \"value\": \"SOIAHAG12A8C137806\"}, \"SOPGBMT12A8C142E7F\": {\"frequency\": 135, \"value\": \"SOPGBMT12A8C142E7F\"}, \"SOYYJMW12A6D4F8636\": {\"frequency\": 182, \"value\": \"SOYYJMW12A6D4F8636\"}, \"SOOHWRZ12AC468BA59\": {\"frequency\": 183, \"value\": \"SOOHWRZ12AC468BA59\"}, \"SOKEEKD12AB0188B39\": {\"frequency\": 153, \"value\": \"SOKEEKD12AB0188B39\"}, \"SOBIWNU12A6BD56C1E\": {\"frequency\": 224, \"value\": \"SOBIWNU12A6BD56C1E\"}, \"SOOABBO12A6701DFDA\": {\"frequency\": 230, \"value\": \"SOOABBO12A6701DFDA\"}, \"SOIZYSO12A58A7BA28\": {\"frequency\": 172, \"value\": \"SOIZYSO12A58A7BA28\"}, \"SOIMQAK12A67ADE98C\": {\"frequency\": 231, \"value\": \"SOIMQAK12A67ADE98C\"}, \"SOAIAAT12A8C145D49\": {\"frequency\": 227, \"value\": \"SOAIAAT12A8C145D49\"}, \"SODFUIQ12A58A79DDF\": {\"frequency\": 154, \"value\": \"SODFUIQ12A58A79DDF\"}, \"SOMOFOP12AB01825DD\": {\"frequency\": 429, \"value\": \"SOMOFOP12AB01825DD\"}, \"SOYYIMV12A8C13E4ED\": {\"frequency\": 267, \"value\": \"SOYYIMV12A8C13E4ED\"}, \"SOSBNIU12AB017CFEB\": {\"frequency\": 156, \"value\": \"SOSBNIU12AB017CFEB\"}, \"SOWBNGK12A8C143932\": {\"frequency\": 277, \"value\": \"SOWBNGK12A8C143932\"}, \"SOWVBDQ12A8C13503D\": {\"frequency\": 272, \"value\": \"SOWVBDQ12A8C13503D\"}, \"SOJTLHS12A8C13F633\": {\"frequency\": 726, \"value\": \"SOJTLHS12A8C13F633\"}, \"SOWKYIJ12AB017B0AA\": {\"frequency\": 205, \"value\": \"SOWKYIJ12AB017B0AA\"}, \"SOSHJHA12AB0181410\": {\"frequency\": 216, \"value\": \"SOSHJHA12AB0181410\"}, \"SOBPKPW12A6701E8F9\": {\"frequency\": 568, \"value\": \"SOBPKPW12A6701E8F9\"}, \"SOWEUOO12A6D4F6D0C\": {\"frequency\": 232, \"value\": \"SOWEUOO12A6D4F6D0C\"}, \"SOYTDBL12A6D4F8148\": {\"frequency\": 212, \"value\": \"SOYTDBL12A6D4F8148\"}, \"SOHALKJ12AB017FCC2\": {\"frequency\": 232, \"value\": \"SOHALKJ12AB017FCC2\"}, \"SOFSPAT12A8C145F53\": {\"frequency\": 227, \"value\": \"SOFSPAT12A8C145F53\"}, \"SOXAAFS12A8C14041D\": {\"frequency\": 215, \"value\": \"SOXAAFS12A8C14041D\"}, \"SODPPDY12AB017F767\": {\"frequency\": 146, \"value\": \"SODPPDY12AB017F767\"}, \"SOGIDHJ12AB01800D1\": {\"frequency\": 324, \"value\": \"SOGIDHJ12AB01800D1\"}, \"SOOWPBJ12A8C137FB4\": {\"frequency\": 243, \"value\": \"SOOWPBJ12A8C137FB4\"}, \"SOXQYSC12A6310E908\": {\"frequency\": 874, \"value\": \"SOXQYSC12A6310E908\"}, \"SOCLMAD12AB017FC09\": {\"frequency\": 435, \"value\": \"SOCLMAD12AB017FC09\"}, \"SOBHNKR12AB0186218\": {\"frequency\": 262, \"value\": \"SOBHNKR12AB0186218\"}, \"SOMHLHX12A58A7AA5B\": {\"frequency\": 182, \"value\": \"SOMHLHX12A58A7AA5B\"}, \"SODREUL12AB018D6C3\": {\"frequency\": 186, \"value\": \"SODREUL12AB018D6C3\"}, \"SOONUTJ12A6701D7B4\": {\"frequency\": 308, \"value\": \"SOONUTJ12A6701D7B4\"}, \"SOLRDEI12A8C13AAA2\": {\"frequency\": 246, \"value\": \"SOLRDEI12A8C13AAA2\"}, \"SOIDDNJ12AC9071B90\": {\"frequency\": 612, \"value\": \"SOIDDNJ12AC9071B90\"}, \"SOMORYX12B0B80908A\": {\"frequency\": 249, \"value\": \"SOMORYX12B0B80908A\"}, \"SOWKKGX12A6D4FCC01\": {\"frequency\": 172, \"value\": \"SOWKKGX12A6D4FCC01\"}, \"SONWUZV12AB0180BAD\": {\"frequency\": 248, \"value\": \"SONWUZV12AB0180BAD\"}, \"SOXLRDB12A81C21739\": {\"frequency\": 266, \"value\": \"SOXLRDB12A81C21739\"}, \"SOZXMYX12AB018A445\": {\"frequency\": 154, \"value\": \"SOZXMYX12AB018A445\"}, \"SOAVWHY12AB017C6C0\": {\"frequency\": 242, \"value\": \"SOAVWHY12AB017C6C0\"}, \"SOXNZOW12AB017F756\": {\"frequency\": 800, \"value\": \"SOXNZOW12AB017F756\"}, \"SOTWWEV12AC9074E6F\": {\"frequency\": 241, \"value\": \"SOTWWEV12AC9074E6F\"}, \"SOUNJIO12AB0181339\": {\"frequency\": 977, \"value\": \"SOUNJIO12AB0181339\"}, \"SOLZEED12A6D4FA8C9\": {\"frequency\": 398, \"value\": \"SOLZEED12A6D4FA8C9\"}, \"SOOCMSA12AB017F6BD\": {\"frequency\": 189, \"value\": \"SOOCMSA12AB017F6BD\"}, \"SOZHUUI12A6701D7B6\": {\"frequency\": 234, \"value\": \"SOZHUUI12A6701D7B6\"}, \"SOPDRWC12A8C141DDE\": {\"frequency\": 444, \"value\": \"SOPDRWC12A8C141DDE\"}, \"SODZVOZ12A6D4F7CFF\": {\"frequency\": 154, \"value\": \"SODZVOZ12A6D4F7CFF\"}, \"SOZDYMX12A58A7D443\": {\"frequency\": 160, \"value\": \"SOZDYMX12A58A7D443\"}, \"SOPZVSB12A8C13E2EF\": {\"frequency\": 221, \"value\": \"SOPZVSB12A8C13E2EF\"}, \"SOMTZYU12AB017D632\": {\"frequency\": 141, \"value\": \"SOMTZYU12AB017D632\"}, \"SOAWFKO129F06933A7\": {\"frequency\": 157, \"value\": \"SOAWFKO129F06933A7\"}, \"SOLPVAQ12AB017EB35\": {\"frequency\": 183, \"value\": \"SOLPVAQ12AB017EB35\"}, \"SOTKYBW12A8C13C3EA\": {\"frequency\": 397, \"value\": \"SOTKYBW12A8C13C3EA\"}, \"SOAKPMX12AB018193B\": {\"frequency\": 151, \"value\": \"SOAKPMX12AB018193B\"}, \"SOLJTMU12AAF3B4C4D\": {\"frequency\": 212, \"value\": \"SOLJTMU12AAF3B4C4D\"}, \"SOOSVDW12AB017E3B8\": {\"frequency\": 182, \"value\": \"SOOSVDW12AB017E3B8\"}, \"SOIKTWI12AB017DB72\": {\"frequency\": 216, \"value\": \"SOIKTWI12AB017DB72\"}, \"SOTWSXL12A8C143349\": {\"frequency\": 2536, \"value\": \"SOTWSXL12A8C143349\"}, \"SONPMUF12AB018B612\": {\"frequency\": 140, \"value\": \"SONPMUF12AB018B612\"}, \"SOWGXOP12A6701E93A\": {\"frequency\": 870, \"value\": \"SOWGXOP12A6701E93A\"}, \"SOGDDKR12A6701E8FA\": {\"frequency\": 344, \"value\": \"SOGDDKR12A6701E8FA\"}, \"SOXFXDH12A8C13326E\": {\"frequency\": 185, \"value\": \"SOXFXDH12A8C13326E\"}, \"SOQIFSM12A8C13A28C\": {\"frequency\": 143, \"value\": \"SOQIFSM12A8C13A28C\"}, \"SOVJHCB12A8AE4636E\": {\"frequency\": 275, \"value\": \"SOVJHCB12A8AE4636E\"}, \"SOXFPND12AB017C9D1\": {\"frequency\": 1356, \"value\": \"SOXFPND12AB017C9D1\"}, \"SOGZMBF12A8C13AA23\": {\"frequency\": 188, \"value\": \"SOGZMBF12A8C13AA23\"}, \"SOHZPIK12A58A7CCAE\": {\"frequency\": 485, \"value\": \"SOHZPIK12A58A7CCAE\"}, \"SOMPTCI12AB017C416\": {\"frequency\": 255, \"value\": \"SOMPTCI12AB017C416\"}, \"SOKLRPJ12A8C13C3FE\": {\"frequency\": 1673, \"value\": \"SOKLRPJ12A8C13C3FE\"}, \"SOSFAQM12AB018427B\": {\"frequency\": 134, \"value\": \"SOSFAQM12AB018427B\"}, \"SOCNCGL127D9786D66\": {\"frequency\": 175, \"value\": \"SOCNCGL127D9786D66\"}, \"SODCLQR12A67AE110D\": {\"frequency\": 406, \"value\": \"SODCLQR12A67AE110D\"}, \"SOHATSR12A6702045F\": {\"frequency\": 387, \"value\": \"SOHATSR12A6702045F\"}, \"SOSRJRK12AB0186FF4\": {\"frequency\": 199, \"value\": \"SOSRJRK12AB0186FF4\"}, \"SOYIZSN12A6701E0BB\": {\"frequency\": 254, \"value\": \"SOYIZSN12A6701E0BB\"}, \"SOBDJYZ12A8C132ADA\": {\"frequency\": 149, \"value\": \"SOBDJYZ12A8C132ADA\"}, \"SOIEBXT12A8C1341E1\": {\"frequency\": 394, \"value\": \"SOIEBXT12A8C1341E1\"}, \"SOOSPIF12A6310D880\": {\"frequency\": 207, \"value\": \"SOOSPIF12A6310D880\"}, \"SOMMONH12A6D4F41CD\": {\"frequency\": 587, \"value\": \"SOMMONH12A6D4F41CD\"}, \"SOEGIYH12A6D4FC0E3\": {\"frequency\": 3272, \"value\": \"SOEGIYH12A6D4FC0E3\"}, \"SOYIJIL12A6701F1C1\": {\"frequency\": 185, \"value\": \"SOYIJIL12A6701F1C1\"}, \"SOBZJVD12A8C13C796\": {\"frequency\": 184, \"value\": \"SOBZJVD12A8C13C796\"}, \"SOUSOOB12A8C13371F\": {\"frequency\": 171, \"value\": \"SOUSOOB12A8C13371F\"}, \"SOQUJLT12A8C141F8A\": {\"frequency\": 292, \"value\": \"SOQUJLT12A8C141F8A\"}, \"SOUPMLF12A6701EAFE\": {\"frequency\": 247, \"value\": \"SOUPMLF12A6701EAFE\"}, \"SOCAHRT12A8C13A1A4\": {\"frequency\": 169, \"value\": \"SOCAHRT12A8C13A1A4\"}, \"SOKENKR12AB01828F7\": {\"frequency\": 262, \"value\": \"SOKENKR12AB01828F7\"}, \"SOSNOSA12A67ADA05B\": {\"frequency\": 264, \"value\": \"SOSNOSA12A67ADA05B\"}, \"SOHYWRK12A8C13D117\": {\"frequency\": 174, \"value\": \"SOHYWRK12A8C13D117\"}, \"SOOHOAE12AF729D88B\": {\"frequency\": 193, \"value\": \"SOOHOAE12AF729D88B\"}, \"SOFXXUW12A8C1333ED\": {\"frequency\": 210, \"value\": \"SOFXXUW12A8C1333ED\"}, \"SOSKDTM12A6701C795\": {\"frequency\": 178, \"value\": \"SOSKDTM12A6701C795\"}, \"SOVMWUC12A8C13750B\": {\"frequency\": 181, \"value\": \"SOVMWUC12A8C13750B\"}, \"SOAPNSG12A8C13481A\": {\"frequency\": 194, \"value\": \"SOAPNSG12A8C13481A\"}, \"SOYDHXP12AB01849D4\": {\"frequency\": 178, \"value\": \"SOYDHXP12AB01849D4\"}, \"SOGPNGN12A8C143969\": {\"frequency\": 824, \"value\": \"SOGPNGN12A8C143969\"}, \"SOWFPLI12A6310DFA1\": {\"frequency\": 164, \"value\": \"SOWFPLI12A6310DFA1\"}, \"SOPGCOH12A8C139789\": {\"frequency\": 338, \"value\": \"SOPGCOH12A8C139789\"}, \"SOCHWPT12AB0184F15\": {\"frequency\": 194, \"value\": \"SOCHWPT12AB0184F15\"}, \"SODABFP12AB01845EC\": {\"frequency\": 237, \"value\": \"SODABFP12AB01845EC\"}, \"SOCECZH12AB017FC28\": {\"frequency\": 164, \"value\": \"SOCECZH12AB017FC28\"}, \"SOJGSIO12A8C141DBF\": {\"frequency\": 204, \"value\": \"SOJGSIO12A8C141DBF\"}, \"SOJYISZ12A8C135F5A\": {\"frequency\": 229, \"value\": \"SOJYISZ12A8C135F5A\"}, \"SOSGBJB12A6D4FCDEC\": {\"frequency\": 154, \"value\": \"SOSGBJB12A6D4FCDEC\"}, \"SOUFWFG12AC9072C7E\": {\"frequency\": 124, \"value\": \"SOUFWFG12AC9072C7E\"}, \"SOKUAGP12A8C133B94\": {\"frequency\": 1714, \"value\": \"SOKUAGP12A8C133B94\"}, \"SOKXYUW12A8C140229\": {\"frequency\": 248, \"value\": \"SOKXYUW12A8C140229\"}, \"SOEHHJG12A6D4F968A\": {\"frequency\": 160, \"value\": \"SOEHHJG12A6D4F968A\"}, \"SOFCPEE12A8C13D566\": {\"frequency\": 136, \"value\": \"SOFCPEE12A8C13D566\"}, \"SOTCWRK12AB017E47D\": {\"frequency\": 367, \"value\": \"SOTCWRK12AB017E47D\"}, \"SOILNZM12AF72A791A\": {\"frequency\": 163, \"value\": \"SOILNZM12AF72A791A\"}, \"SOBABRB12A6701DF4B\": {\"frequency\": 536, \"value\": \"SOBABRB12A6701DF4B\"}, \"SOPKPFW12A6D4F84BC\": {\"frequency\": 360, \"value\": \"SOPKPFW12A6D4F84BC\"}, \"SOJSXTU12AAF3B464A\": {\"frequency\": 216, \"value\": \"SOJSXTU12AAF3B464A\"}, \"SOAMIQK12A6701D94F\": {\"frequency\": 382, \"value\": \"SOAMIQK12A6701D94F\"}, \"SOQQQMM12A6310DFCC\": {\"frequency\": 226, \"value\": \"SOQQQMM12A6310DFCC\"}, \"SOJMUAN12AB0183911\": {\"frequency\": 239, \"value\": \"SOJMUAN12AB0183911\"}, \"SORVLRC12A8151E078\": {\"frequency\": 182, \"value\": \"SORVLRC12A8151E078\"}, \"SOQXNGV12A6701E312\": {\"frequency\": 179, \"value\": \"SOQXNGV12A6701E312\"}, \"SONDKOF12A6D4F7D70\": {\"frequency\": 292, \"value\": \"SONDKOF12A6D4F7D70\"}, \"SOWQMMX12AB017DBE2\": {\"frequency\": 230, \"value\": \"SOWQMMX12AB017DBE2\"}, \"SODAIMX12A6D4F74D6\": {\"frequency\": 171, \"value\": \"SODAIMX12A6D4F74D6\"}, \"SOHMJJQ12AF72AD2A2\": {\"frequency\": 300, \"value\": \"SOHMJJQ12AF72AD2A2\"}, \"SOJLXET12AB0188632\": {\"frequency\": 287, \"value\": \"SOJLXET12AB0188632\"}, \"SOOXLND12A6D4FE36E\": {\"frequency\": 211, \"value\": \"SOOXLND12A6D4FE36E\"}, \"SOFLJQZ12A6D4FADA6\": {\"frequency\": 2666, \"value\": \"SOFLJQZ12A6D4FADA6\"}, \"SONAZWN12A8151C957\": {\"frequency\": 187, \"value\": \"SONAZWN12A8151C957\"}, \"SOBADEB12AB018275F\": {\"frequency\": 953, \"value\": \"SOBADEB12AB018275F\"}}, \"size\": 1491952}, \"plays\": {\"std\": 7.015020351392461, \"complete\": true, \"min\": 1.0, \"max\": 923.0, \"quantile\": [1.0, 1.0, 1.0, 1.0, 1.0, 1.0, 1.0, 1.0, 1.0, 1.0, 1.0, 1.0, 1.0, 1.0, 1.0, 1.0, 1.0, 1.0, 1.0, 1.0, 1.0, 1.0, 1.0, 1.0, 1.0, 1.0, 1.0, 1.0, 1.0, 1.0, 1.0, 1.0, 1.0, 1.0, 1.0, 1.0, 1.0, 1.0, 1.0, 1.0, 1.0, 1.0, 1.0, 1.0, 1.0, 1.0, 1.0, 1.0, 1.0, 1.0, 1.0, 1.0, 1.0, 1.0, 1.0, 1.0, 1.0, 1.0, 2.0, 2.0, 2.0, 2.0, 2.0, 2.0, 2.0, 2.0, 2.0, 2.0, 2.0, 2.0, 2.0, 2.0, 2.0, 3.0, 3.0, 3.0, 3.0, 3.0, 3.0, 4.0, 4.0, 4.0, 4.0, 5.0, 5.0, 5.0, 5.0, 5.0, 6.0, 6.0, 6.0, 7.0, 8.0, 9.0, 10.0, 11.0, 13.0, 16.0, 20.0, 28.0, 923.0], \"median\": 1.0, \"numeric\": true, \"num_unique\": 299, \"num_undefined\": 0, \"var\": 49.2105105304504, \"progress\": 1.0, \"size\": 1491952, \"frequent_items\": {\"1\": {\"frequency\": 862354, \"value\": 1}, \"2\": {\"frequency\": 220369, \"value\": 2}, \"3\": {\"frequency\": 98845, \"value\": 3}, \"4\": {\"frequency\": 56996, \"value\": 4}, \"5\": {\"frequency\": 75082, \"value\": 5}, \"6\": {\"frequency\": 32841, \"value\": 6}, \"7\": {\"frequency\": 23039, \"value\": 7}, \"8\": {\"frequency\": 16685, \"value\": 8}, \"9\": {\"frequency\": 12579, \"value\": 9}, \"10\": {\"frequency\": 15713, \"value\": 10}, \"11\": {\"frequency\": 9620, \"value\": 11}, \"12\": {\"frequency\": 7547, \"value\": 12}, \"13\": {\"frequency\": 6207, \"value\": 13}, \"14\": {\"frequency\": 5197, \"value\": 14}, \"15\": {\"frequency\": 5911, \"value\": 15}, \"16\": {\"frequency\": 4236, \"value\": 16}, \"17\": {\"frequency\": 3514, \"value\": 17}, \"18\": {\"frequency\": 2951, \"value\": 18}, \"19\": {\"frequency\": 2531, \"value\": 19}, \"20\": {\"frequency\": 2767, \"value\": 20}, \"21\": {\"frequency\": 2253, \"value\": 21}, \"22\": {\"frequency\": 1942, \"value\": 22}, \"23\": {\"frequency\": 1617, \"value\": 23}, \"24\": {\"frequency\": 1494, \"value\": 24}, \"25\": {\"frequency\": 1548, \"value\": 25}, \"26\": {\"frequency\": 1222, \"value\": 26}, \"27\": {\"frequency\": 1180, \"value\": 27}, \"28\": {\"frequency\": 962, \"value\": 28}, \"29\": {\"frequency\": 879, \"value\": 29}, \"30\": {\"frequency\": 946, \"value\": 30}, \"31\": {\"frequency\": 767, \"value\": 31}, \"32\": {\"frequency\": 725, \"value\": 32}, \"33\": {\"frequency\": 643, \"value\": 33}, \"34\": {\"frequency\": 565, \"value\": 34}, \"35\": {\"frequency\": 596, \"value\": 35}, \"36\": {\"frequency\": 537, \"value\": 36}, \"37\": {\"frequency\": 474, \"value\": 37}, \"38\": {\"frequency\": 443, \"value\": 38}, \"39\": {\"frequency\": 393, \"value\": 39}, \"40\": {\"frequency\": 454, \"value\": 40}, \"41\": {\"frequency\": 350, \"value\": 41}, \"42\": {\"frequency\": 345, \"value\": 42}, \"43\": {\"frequency\": 317, \"value\": 43}, \"44\": {\"frequency\": 300, \"value\": 44}, \"45\": {\"frequency\": 306, \"value\": 45}, \"46\": {\"frequency\": 254, \"value\": 46}, \"47\": {\"frequency\": 234, \"value\": 47}, \"48\": {\"frequency\": 216, \"value\": 48}, \"49\": {\"frequency\": 218, \"value\": 49}, \"50\": {\"frequency\": 218, \"value\": 50}, \"51\": {\"frequency\": 181, \"value\": 51}, \"52\": {\"frequency\": 165, \"value\": 52}, \"53\": {\"frequency\": 181, \"value\": 53}, \"54\": {\"frequency\": 153, \"value\": 54}, \"55\": {\"frequency\": 161, \"value\": 55}, \"56\": {\"frequency\": 153, \"value\": 56}, \"57\": {\"frequency\": 138, \"value\": 57}, \"58\": {\"frequency\": 124, \"value\": 58}, \"59\": {\"frequency\": 134, \"value\": 59}, \"60\": {\"frequency\": 132, \"value\": 60}, \"61\": {\"frequency\": 107, \"value\": 61}, \"62\": {\"frequency\": 107, \"value\": 62}, \"63\": {\"frequency\": 87, \"value\": 63}, \"64\": {\"frequency\": 84, \"value\": 64}, \"65\": {\"frequency\": 98, \"value\": 65}, \"66\": {\"frequency\": 85, \"value\": 66}, \"67\": {\"frequency\": 83, \"value\": 67}, \"68\": {\"frequency\": 66, \"value\": 68}, \"69\": {\"frequency\": 73, \"value\": 69}, \"70\": {\"frequency\": 83, \"value\": 70}, \"71\": {\"frequency\": 74, \"value\": 71}, \"72\": {\"frequency\": 69, \"value\": 72}, \"73\": {\"frequency\": 52, \"value\": 73}, \"74\": {\"frequency\": 55, \"value\": 74}, \"75\": {\"frequency\": 54, \"value\": 75}, \"76\": {\"frequency\": 47, \"value\": 76}, \"77\": {\"frequency\": 47, \"value\": 77}, \"78\": {\"frequency\": 59, \"value\": 78}, \"79\": {\"frequency\": 52, \"value\": 79}, \"80\": {\"frequency\": 52, \"value\": 80}, \"81\": {\"frequency\": 49, \"value\": 81}, \"82\": {\"frequency\": 57, \"value\": 82}, \"83\": {\"frequency\": 33, \"value\": 83}, \"84\": {\"frequency\": 49, \"value\": 84}, \"85\": {\"frequency\": 51, \"value\": 85}, \"86\": {\"frequency\": 32, \"value\": 86}, \"87\": {\"frequency\": 29, \"value\": 87}, \"88\": {\"frequency\": 24, \"value\": 88}, \"89\": {\"frequency\": 42, \"value\": 89}, \"90\": {\"frequency\": 40, \"value\": 90}, \"91\": {\"frequency\": 38, \"value\": 91}, \"92\": {\"frequency\": 28, \"value\": 92}, \"93\": {\"frequency\": 24, \"value\": 93}, \"94\": {\"frequency\": 33, \"value\": 94}, \"95\": {\"frequency\": 24, \"value\": 95}, \"96\": {\"frequency\": 18, \"value\": 96}, \"97\": {\"frequency\": 27, \"value\": 97}, \"98\": {\"frequency\": 26, \"value\": 98}, \"99\": {\"frequency\": 25, \"value\": 99}, \"100\": {\"frequency\": 28, \"value\": 100}, \"101\": {\"frequency\": 35, \"value\": 101}, \"102\": {\"frequency\": 27, \"value\": 102}, \"103\": {\"frequency\": 15, \"value\": 103}, \"104\": {\"frequency\": 23, \"value\": 104}, \"105\": {\"frequency\": 23, \"value\": 105}, \"106\": {\"frequency\": 26, \"value\": 106}, \"107\": {\"frequency\": 17, \"value\": 107}, \"108\": {\"frequency\": 16, \"value\": 108}, \"109\": {\"frequency\": 12, \"value\": 109}, \"110\": {\"frequency\": 16, \"value\": 110}, \"111\": {\"frequency\": 19, \"value\": 111}, \"112\": {\"frequency\": 16, \"value\": 112}, \"113\": {\"frequency\": 15, \"value\": 113}, \"114\": {\"frequency\": 13, \"value\": 114}, \"115\": {\"frequency\": 15, \"value\": 115}, \"116\": {\"frequency\": 9, \"value\": 116}, \"117\": {\"frequency\": 15, \"value\": 117}, \"118\": {\"frequency\": 11, \"value\": 118}, \"119\": {\"frequency\": 12, \"value\": 119}, \"120\": {\"frequency\": 12, \"value\": 120}, \"121\": {\"frequency\": 15, \"value\": 121}, \"122\": {\"frequency\": 6, \"value\": 122}, \"123\": {\"frequency\": 17, \"value\": 123}, \"124\": {\"frequency\": 6, \"value\": 124}, \"125\": {\"frequency\": 14, \"value\": 125}, \"126\": {\"frequency\": 16, \"value\": 126}, \"127\": {\"frequency\": 7, \"value\": 127}, \"128\": {\"frequency\": 11, \"value\": 128}, \"129\": {\"frequency\": 12, \"value\": 129}, \"130\": {\"frequency\": 6, \"value\": 130}, \"131\": {\"frequency\": 6, \"value\": 131}, \"132\": {\"frequency\": 9, \"value\": 132}, \"133\": {\"frequency\": 2, \"value\": 133}, \"134\": {\"frequency\": 8, \"value\": 134}, \"135\": {\"frequency\": 7, \"value\": 135}, \"136\": {\"frequency\": 10, \"value\": 136}, \"137\": {\"frequency\": 7, \"value\": 137}, \"138\": {\"frequency\": 10, \"value\": 138}, \"139\": {\"frequency\": 8, \"value\": 139}, \"140\": {\"frequency\": 8, \"value\": 140}, \"141\": {\"frequency\": 7, \"value\": 141}, \"142\": {\"frequency\": 7, \"value\": 142}, \"143\": {\"frequency\": 6, \"value\": 143}, \"144\": {\"frequency\": 8, \"value\": 144}, \"145\": {\"frequency\": 5, \"value\": 145}, \"146\": {\"frequency\": 11, \"value\": 146}, \"147\": {\"frequency\": 6, \"value\": 147}, \"148\": {\"frequency\": 6, \"value\": 148}, \"149\": {\"frequency\": 1, \"value\": 149}, \"150\": {\"frequency\": 6, \"value\": 150}, \"151\": {\"frequency\": 11, \"value\": 151}, \"152\": {\"frequency\": 3, \"value\": 152}, \"153\": {\"frequency\": 8, \"value\": 153}, \"154\": {\"frequency\": 5, \"value\": 154}, \"155\": {\"frequency\": 6, \"value\": 155}, \"156\": {\"frequency\": 8, \"value\": 156}, \"157\": {\"frequency\": 5, \"value\": 157}, \"158\": {\"frequency\": 4, \"value\": 158}, \"159\": {\"frequency\": 8, \"value\": 159}, \"160\": {\"frequency\": 5, \"value\": 160}, \"161\": {\"frequency\": 4, \"value\": 161}, \"162\": {\"frequency\": 3, \"value\": 162}, \"163\": {\"frequency\": 4, \"value\": 163}, \"164\": {\"frequency\": 4, \"value\": 164}, \"165\": {\"frequency\": 4, \"value\": 165}, \"166\": {\"frequency\": 4, \"value\": 166}, \"167\": {\"frequency\": 7, \"value\": 167}, \"168\": {\"frequency\": 3, \"value\": 168}, \"169\": {\"frequency\": 7, \"value\": 169}, \"170\": {\"frequency\": 5, \"value\": 170}, \"171\": {\"frequency\": 3, \"value\": 171}, \"172\": {\"frequency\": 1, \"value\": 172}, \"173\": {\"frequency\": 4, \"value\": 173}, \"174\": {\"frequency\": 4, \"value\": 174}, \"175\": {\"frequency\": 5, \"value\": 175}, \"176\": {\"frequency\": 2, \"value\": 176}, \"177\": {\"frequency\": 3, \"value\": 177}, \"178\": {\"frequency\": 1, \"value\": 178}, \"179\": {\"frequency\": 3, \"value\": 179}, \"180\": {\"frequency\": 5, \"value\": 180}, \"181\": {\"frequency\": 5, \"value\": 181}, \"183\": {\"frequency\": 2, \"value\": 183}, \"184\": {\"frequency\": 2, \"value\": 184}, \"185\": {\"frequency\": 2, \"value\": 185}, \"186\": {\"frequency\": 2, \"value\": 186}, \"187\": {\"frequency\": 2, \"value\": 187}, \"188\": {\"frequency\": 3, \"value\": 188}, \"189\": {\"frequency\": 1, \"value\": 189}, \"190\": {\"frequency\": 3, \"value\": 190}, \"191\": {\"frequency\": 2, \"value\": 191}, \"192\": {\"frequency\": 3, \"value\": 192}, \"193\": {\"frequency\": 2, \"value\": 193}, \"194\": {\"frequency\": 2, \"value\": 194}, \"195\": {\"frequency\": 2, \"value\": 195}, \"196\": {\"frequency\": 5, \"value\": 196}, \"197\": {\"frequency\": 5, \"value\": 197}, \"198\": {\"frequency\": 1, \"value\": 198}, \"199\": {\"frequency\": 1, \"value\": 199}, \"200\": {\"frequency\": 2, \"value\": 200}, \"201\": {\"frequency\": 3, \"value\": 201}, \"202\": {\"frequency\": 2, \"value\": 202}, \"203\": {\"frequency\": 2, \"value\": 203}, \"204\": {\"frequency\": 4, \"value\": 204}, \"206\": {\"frequency\": 1, \"value\": 206}, \"207\": {\"frequency\": 3, \"value\": 207}, \"209\": {\"frequency\": 3, \"value\": 209}, \"211\": {\"frequency\": 1, \"value\": 211}, \"212\": {\"frequency\": 1, \"value\": 212}, \"213\": {\"frequency\": 4, \"value\": 213}, \"214\": {\"frequency\": 3, \"value\": 214}, \"215\": {\"frequency\": 1, \"value\": 215}, \"216\": {\"frequency\": 2, \"value\": 216}, \"217\": {\"frequency\": 2, \"value\": 217}, \"218\": {\"frequency\": 3, \"value\": 218}, \"219\": {\"frequency\": 2, \"value\": 219}, \"220\": {\"frequency\": 1, \"value\": 220}, \"221\": {\"frequency\": 3, \"value\": 221}, \"222\": {\"frequency\": 4, \"value\": 222}, \"226\": {\"frequency\": 1, \"value\": 226}, \"227\": {\"frequency\": 4, \"value\": 227}, \"228\": {\"frequency\": 1, \"value\": 228}, \"229\": {\"frequency\": 1, \"value\": 229}, \"230\": {\"frequency\": 3, \"value\": 230}, \"231\": {\"frequency\": 1, \"value\": 231}, \"232\": {\"frequency\": 2, \"value\": 232}, \"233\": {\"frequency\": 1, \"value\": 233}, \"234\": {\"frequency\": 1, \"value\": 234}, \"236\": {\"frequency\": 2, \"value\": 236}, \"237\": {\"frequency\": 1, \"value\": 237}, \"239\": {\"frequency\": 1, \"value\": 239}, \"240\": {\"frequency\": 1, \"value\": 240}, \"241\": {\"frequency\": 2, \"value\": 241}, \"242\": {\"frequency\": 1, \"value\": 242}, \"244\": {\"frequency\": 4, \"value\": 244}, \"245\": {\"frequency\": 3, \"value\": 245}, \"246\": {\"frequency\": 2, \"value\": 246}, \"250\": {\"frequency\": 2, \"value\": 250}, \"253\": {\"frequency\": 1, \"value\": 253}, \"255\": {\"frequency\": 2, \"value\": 255}, \"256\": {\"frequency\": 1, \"value\": 256}, \"257\": {\"frequency\": 2, \"value\": 257}, \"259\": {\"frequency\": 1, \"value\": 259}, \"537\": {\"frequency\": 1, \"value\": 537}, \"261\": {\"frequency\": 3, \"value\": 261}, \"262\": {\"frequency\": 1, \"value\": 262}, \"264\": {\"frequency\": 1, \"value\": 264}, \"265\": {\"frequency\": 1, \"value\": 265}, \"267\": {\"frequency\": 1, \"value\": 267}, \"268\": {\"frequency\": 2, \"value\": 268}, \"269\": {\"frequency\": 3, \"value\": 269}, \"270\": {\"frequency\": 1, \"value\": 270}, \"273\": {\"frequency\": 2, \"value\": 273}, \"274\": {\"frequency\": 1, \"value\": 274}, \"275\": {\"frequency\": 2, \"value\": 275}, \"276\": {\"frequency\": 1, \"value\": 276}, \"281\": {\"frequency\": 1, \"value\": 281}, \"282\": {\"frequency\": 2, \"value\": 282}, \"283\": {\"frequency\": 1, \"value\": 283}, \"290\": {\"frequency\": 1, \"value\": 290}, \"291\": {\"frequency\": 1, \"value\": 291}, \"646\": {\"frequency\": 1, \"value\": 646}, \"294\": {\"frequency\": 1, \"value\": 294}, \"297\": {\"frequency\": 2, \"value\": 297}, \"299\": {\"frequency\": 1, \"value\": 299}, \"307\": {\"frequency\": 1, \"value\": 307}, \"308\": {\"frequency\": 1, \"value\": 308}, \"311\": {\"frequency\": 1, \"value\": 311}, \"317\": {\"frequency\": 1, \"value\": 317}, \"323\": {\"frequency\": 1, \"value\": 323}, \"324\": {\"frequency\": 3, \"value\": 324}, \"329\": {\"frequency\": 1, \"value\": 329}, \"335\": {\"frequency\": 2, \"value\": 335}, \"340\": {\"frequency\": 1, \"value\": 340}, \"345\": {\"frequency\": 1, \"value\": 345}, \"348\": {\"frequency\": 1, \"value\": 348}, \"351\": {\"frequency\": 1, \"value\": 351}, \"354\": {\"frequency\": 1, \"value\": 354}, \"355\": {\"frequency\": 1, \"value\": 355}, \"372\": {\"frequency\": 1, \"value\": 372}, \"374\": {\"frequency\": 1, \"value\": 374}, \"384\": {\"frequency\": 1, \"value\": 384}, \"389\": {\"frequency\": 1, \"value\": 389}, \"391\": {\"frequency\": 2, \"value\": 391}, \"402\": {\"frequency\": 1, \"value\": 402}, \"923\": {\"frequency\": 1, \"value\": 923}, \"582\": {\"frequency\": 1, \"value\": 582}, \"423\": {\"frequency\": 1, \"value\": 423}, \"426\": {\"frequency\": 1, \"value\": 426}, \"433\": {\"frequency\": 1, \"value\": 433}, \"445\": {\"frequency\": 1, \"value\": 445}, \"446\": {\"frequency\": 1, \"value\": 446}, \"450\": {\"frequency\": 1, \"value\": 450}, \"454\": {\"frequency\": 1, \"value\": 454}, \"463\": {\"frequency\": 1, \"value\": 463}, \"476\": {\"frequency\": 1, \"value\": 476}, \"478\": {\"frequency\": 1, \"value\": 478}, \"535\": {\"frequency\": 1, \"value\": 535}, \"500\": {\"frequency\": 1, \"value\": 500}, \"597\": {\"frequency\": 1, \"value\": 597}}, \"mean\": 3.1797189185711208}, \"title\": {\"complete\": true, \"numeric\": false, \"num_unique\": 138499, \"num_undefined\": 0, \"progress\": 1.0, \"frequent_items\": {\"Canada\": {\"frequency\": 1731, \"value\": \"Canada\"}, \"D.A.N.C.E. [Radio Edit]\": {\"frequency\": 158, \"value\": \"D.A.N.C.E. [Radio ...\"}, \"Blue (Da Ba Dee)\": {\"frequency\": 146, \"value\": \"Blue (Da Ba Dee)\"}, \"Party In The U.S.A.\": {\"frequency\": 1060, \"value\": \"Party In The ...\"}, \"Gives You Hell\": {\"frequency\": 821, \"value\": \"Gives You Hell\"}, \"Yeah!\": {\"frequency\": 717, \"value\": \"Yeah!\"}, \"Me & U\": {\"frequency\": 163, \"value\": \"Me & U\"}, \"West One (Shine On Me)\": {\"frequency\": 817, \"value\": \"West One (Shine On ...\"}, \"Making Love (Into The Night)\": {\"frequency\": 146, \"value\": \"Making Love (Into ...\"}, \"Dirty Little Secret\": {\"frequency\": 205, \"value\": \"Dirty Little ...\"}, \"Smile (Explicit Version)\": {\"frequency\": 252, \"value\": \"Smile (Explicit ...\"}, \"Creature Fear\": {\"frequency\": 154, \"value\": \"Creature Fear\"}, \"Give It To Me\": {\"frequency\": 212, \"value\": \"Give It To Me\"}, \"Say My Name\": {\"frequency\": 163, \"value\": \"Say My Name\"}, \"What's Your Name\": {\"frequency\": 141, \"value\": \"What's Your Name\"}, \"Marry Me\": {\"frequency\": 2013, \"value\": \"Marry Me\"}, \"Obsesion\": {\"frequency\": 144, \"value\": \"Obsesion\"}, \"Heartbreakin' Wreck\": {\"frequency\": 163, \"value\": \"Heartbreakin' ...\"}, \"The Seed (2.0)\": {\"frequency\": 157, \"value\": \"The Seed (2.0)\"}, \"Takin' Back My Love\": {\"frequency\": 151, \"value\": \"Takin' Back My ...\"}, \"Hurt\": {\"frequency\": 198, \"value\": \"Hurt\"}, \"Your Woman\": {\"frequency\": 284, \"value\": \"Your Woman\"}, \"Tive Sim\": {\"frequency\": 2671, \"value\": \"Tive Sim\"}, \"This Afternoon (Album Version)\": {\"frequency\": 245, \"value\": \"This Afternoon ...\"}, \"Under Pressure\": {\"frequency\": 475, \"value\": \"Under Pressure\"}, \"More Than A Feeling\": {\"frequency\": 228, \"value\": \"More Than A ...\"}, \"What's Up?\": {\"frequency\": 190, \"value\": \"What's Up?\"}, \"Down To Earth\": {\"frequency\": 440, \"value\": \"Down To Earth\"}, \"Teach Me How To Dougie\": {\"frequency\": 1194, \"value\": \"Teach Me How To ...\"}, \"Head Full Of Doubt/Road Full Of Promise\": {\"frequency\": 149, \"value\": \"Head Full Of ...\"}, \"Naive\": {\"frequency\": 243, \"value\": \"Naive\"}, \"Cry Me A River\": {\"frequency\": 391, \"value\": \"Cry Me A River\"}, \"Chicken Fried (Album)\": {\"frequency\": 295, \"value\": \"Chicken Fried ...\"}, \"The Beautiful People\": {\"frequency\": 195, \"value\": \"The Beautiful ...\"}, \"One More Sad Song\": {\"frequency\": 256, \"value\": \"One More Sad Song\"}, \"Spirits In The Material World\": {\"frequency\": 148, \"value\": \"Spirits In The ...\"}, \"Genom tunna tyger\": {\"frequency\": 190, \"value\": \"Genom tunna tyger\"}, \"Have A Nice Day\": {\"frequency\": 161, \"value\": \"Have A Nice Day\"}, \"Black Hole Sun\": {\"frequency\": 311, \"value\": \"Black Hole Sun\"}, \"Words\": {\"frequency\": 135, \"value\": \"Words\"}, \"Common Denominator\": {\"frequency\": 247, \"value\": \"Common Denominator\"}, \"Too Far Gone\": {\"frequency\": 175, \"value\": \"Too Far Gone\"}, \"Believe\": {\"frequency\": 209, \"value\": \"Believe\"}, \"I CAN'T GET STARTED\": {\"frequency\": 1293, \"value\": \"I CAN'T GET ...\"}, \"I Wanna Be Sedated (Remastered Album Version )\": {\"frequency\": 384, \"value\": \"I Wanna Be Sedated ...\"}, \"Half Of My Heart\": {\"frequency\": 832, \"value\": \"Half Of My Heart\"}, \"Every Lasting Light\": {\"frequency\": 227, \"value\": \"Every Lasting ...\"}, \"Chasing Cars\": {\"frequency\": 329, \"value\": \"Chasing Cars\"}, \"Love Me\": {\"frequency\": 683, \"value\": \"Love Me\"}, \"Your Touch\": {\"frequency\": 232, \"value\": \"Your Touch\"}, \"Everytime\": {\"frequency\": 212, \"value\": \"Everytime\"}, \"Y solo se me ocurre amarte (Unplugged)\": {\"frequency\": 173, \"value\": \"Y solo se me ...\"}, \"The Bachelor and the Bride\": {\"frequency\": 169, \"value\": \"The Bachelor and ...\"}, \"Tenuousness\": {\"frequency\": 233, \"value\": \"Tenuousness\"}, \"Slow Jamz (Feat. Kanye West & Jamie Foxx) (Edited Album Version)\": {\"frequency\": 285, \"value\": \"Slow Jamz (Feat. ...\"}, \"Behind Blue Eyes\": {\"frequency\": 168, \"value\": \"Behind Blue Eyes\"}, \"How It Ends (Album version)\": {\"frequency\": 158, \"value\": \"How It Ends (Album ...\"}, \"Why Georgia\": {\"frequency\": 140, \"value\": \"Why Georgia\"}, \"Eye Of The Tiger\": {\"frequency\": 496, \"value\": \"Eye Of The Tiger\"}, \"Ms. Jackson\": {\"frequency\": 248, \"value\": \"Ms. Jackson\"}, \"Taylor\": {\"frequency\": 229, \"value\": \"Taylor\"}, \"Technologic\": {\"frequency\": 212, \"value\": \"Technologic\"}, \"When The Lights Go Out\": {\"frequency\": 153, \"value\": \"When The Lights Go ...\"}, \"Ready_ Steady_ Go (Album Version)\": {\"frequency\": 142, \"value\": \"Ready_ Steady_ Go ...\"}, \"Siguiendo La Luna\": {\"frequency\": 145, \"value\": \"Siguiendo La Luna\"}, \"Atomic '98 (Xenomania Mix)\": {\"frequency\": 150, \"value\": \"Atomic '98 ...\"}, \"Constellations\": {\"frequency\": 226, \"value\": \"Constellations\"}, \"What I've Done (Album Version)\": {\"frequency\": 525, \"value\": \"What I've Done ...\"}, \"White & Nerdy (Parody of \\\"Ridin'\\\" by Chamillionaire featuring Krayzie Bone)\": {\"frequency\": 133, \"value\": \"White & Nerdy ...\"}, \"Rammstein\": {\"frequency\": 183, \"value\": \"Rammstein\"}, \"Smooth Criminal\": {\"frequency\": 258, \"value\": \"Smooth Criminal\"}, \"Seven Nation Army (Album Version)\": {\"frequency\": 801, \"value\": \"Seven Nation Army ...\"}, \"All We Ever Do Is Say Goodbye\": {\"frequency\": 181, \"value\": \"All We Ever Do Is ...\"}, \"Sinisten t\\ufffd\\ufffdhtien alla\": {\"frequency\": 893, \"value\": \"Sinisten t\\u00e4htien ...\"}, \"No Diggity\": {\"frequency\": 141, \"value\": \"No Diggity\"}, \"Use Somebody\": {\"frequency\": 3822, \"value\": \"Use Somebody\"}, \"Colors Of The Wind\": {\"frequency\": 230, \"value\": \"Colors Of The Wind\"}, \"Orange Tr\\ufffd\\ufffdgt Nur Die M\\ufffd\\ufffdllabfuhr (Go West)\": {\"frequency\": 361, \"value\": \"Orange Tr\\u00e4gt Nur ...\"}, \"Blow Me Away\": {\"frequency\": 173, \"value\": \"Blow Me Away\"}, \"Street Lights\": {\"frequency\": 243, \"value\": \"Street Lights\"}, \"Home (Album Version)\": {\"frequency\": 350, \"value\": \"Home (Album ...\"}, \"Rockin' Rollin' Stone\": {\"frequency\": 198, \"value\": \"Rockin' Rollin' ...\"}, \"Aghia Sophia (2008 Digital Remaster)\": {\"frequency\": 264, \"value\": \"Aghia Sophia (2008 ...\"}, \"Frisch und g'sund\": {\"frequency\": 919, \"value\": \"Frisch und g'sund\"}, \"RoboCop\": {\"frequency\": 190, \"value\": \"RoboCop\"}, \"One Minute To Midnight\": {\"frequency\": 156, \"value\": \"One Minute To ...\"}, \"Hold Me_ Thrill Me_ Kiss Me_ Kill Me\": {\"frequency\": 168, \"value\": \"Hold Me_ Thrill ...\"}, \"Don't Think I Don't Think About It\": {\"frequency\": 144, \"value\": \"Don't Think I ...\"}, \"The Joker\": {\"frequency\": 329, \"value\": \"The Joker\"}, \"When I'm Gone\": {\"frequency\": 210, \"value\": \"When I'm Gone\"}, \"Gravity\": {\"frequency\": 485, \"value\": \"Gravity\"}, \"Boys Will Be Boys\": {\"frequency\": 254, \"value\": \"Boys Will Be Boys\"}, \"You Got Me\": {\"frequency\": 190, \"value\": \"You Got Me\"}, \"Lemme Get That\": {\"frequency\": 196, \"value\": \"Lemme Get That\"}, \"Atr\\ufffd\\ufffdvete te te\": {\"frequency\": 221, \"value\": \"Atr\\u00e9vete te te\"}, \"16 Candles\": {\"frequency\": 1087, \"value\": \"16 Candles\"}, \"Easy\": {\"frequency\": 258, \"value\": \"Easy\"}, \"Strut (1993 Digital Remaster)\": {\"frequency\": 1032, \"value\": \"Strut (1993 ...\"}, \"Come On Eileen\": {\"frequency\": 168, \"value\": \"Come On Eileen\"}, \"Irreplaceable\": {\"frequency\": 162, \"value\": \"Irreplaceable\"}, \"Tears In Heaven\": {\"frequency\": 303, \"value\": \"Tears In Heaven\"}, \"Quando_ Quando_ Quando (Album Version)\": {\"frequency\": 151, \"value\": \"Quando_ Quando_ ...\"}, \"You Make Me Wanna...\": {\"frequency\": 160, \"value\": \"You Make Me ...\"}, \"Walcott (Album)\": {\"frequency\": 150, \"value\": \"Walcott (Album)\"}, \"Down\": {\"frequency\": 153, \"value\": \"Down\"}, \"All I Do Is Win (feat. T-Pain_ Ludacris_ Snoop Dogg & Rick Ross)\": {\"frequency\": 741, \"value\": \"All I Do Is Win ...\"}, \"My December\": {\"frequency\": 297, \"value\": \"My December\"}, \"Rorol\": {\"frequency\": 244, \"value\": \"Rorol\"}, \"Big Me\": {\"frequency\": 226, \"value\": \"Big Me\"}, \"O.N.E\": {\"frequency\": 137, \"value\": \"O.N.E\"}, \"More Than Words\": {\"frequency\": 222, \"value\": \"More Than Words\"}, \"Mercy:The Laundromat\": {\"frequency\": 834, \"value\": \"Mercy:The ...\"}, \"The Power Of Love\": {\"frequency\": 187, \"value\": \"The Power Of Love\"}, \"Behind The Sea [Live In Chicago]\": {\"frequency\": 611, \"value\": \"Behind The Sea ...\"}, \"Apologize\": {\"frequency\": 364, \"value\": \"Apologize\"}, \"Waterfall\": {\"frequency\": 376, \"value\": \"Waterfall\"}, \"Crazier\": {\"frequency\": 147, \"value\": \"Crazier\"}, \"Greenback Dollar\": {\"frequency\": 174, \"value\": \"Greenback Dollar\"}, \"What They Found\": {\"frequency\": 242, \"value\": \"What They Found\"}, \"No. 5\": {\"frequency\": 243, \"value\": \"No. 5\"}, \"Make Her Say\": {\"frequency\": 544, \"value\": \"Make Her Say\"}, \"True\": {\"frequency\": 127, \"value\": \"True\"}, \"The Funeral (Album Version)\": {\"frequency\": 678, \"value\": \"The Funeral (Album ...\"}, \"Bigger\": {\"frequency\": 227, \"value\": \"Bigger\"}, \"Nothing Better (Album)\": {\"frequency\": 475, \"value\": \"Nothing Better ...\"}, \"1234\": {\"frequency\": 172, \"value\": \"1234\"}, \"Forever\": {\"frequency\": 1180, \"value\": \"Forever\"}, \"The Kindness Of Strangers\": {\"frequency\": 272, \"value\": \"The Kindness Of ...\"}, \"Wind Of Change\": {\"frequency\": 164, \"value\": \"Wind Of Change\"}, \"Drop It Low\": {\"frequency\": 203, \"value\": \"Drop It Low\"}, \"The Ballad of Michael Valentine\": {\"frequency\": 198, \"value\": \"The Ballad of ...\"}, \"Freedom\": {\"frequency\": 168, \"value\": \"Freedom\"}, \"Outside (Original LP Version)\": {\"frequency\": 145, \"value\": \"Outside (Original ...\"}, \"Overboard\": {\"frequency\": 340, \"value\": \"Overboard\"}, \"I Kissed A Girl\": {\"frequency\": 967, \"value\": \"I Kissed A Girl\"}, \"Jumping Jack Flash\": {\"frequency\": 198, \"value\": \"Jumping Jack Flash\"}, \"Say It Ain't So\": {\"frequency\": 488, \"value\": \"Say It Ain't So\"}, \"U.R.A Fever\": {\"frequency\": 137, \"value\": \"U.R.A Fever\"}, \"One In A Million\": {\"frequency\": 214, \"value\": \"One In A Million\"}, \"Bang Bang\": {\"frequency\": 188, \"value\": \"Bang Bang\"}, \"Bubble Toes\": {\"frequency\": 1144, \"value\": \"Bubble Toes\"}, \"Fergalicious\": {\"frequency\": 207, \"value\": \"Fergalicious\"}, \"Alright\": {\"frequency\": 367, \"value\": \"Alright\"}, \"Knocked Up\": {\"frequency\": 170, \"value\": \"Knocked Up\"}, \"Ain't No Rest For The Wicked (Original Version)\": {\"frequency\": 722, \"value\": \"Ain't No Rest For ...\"}, \"My Band\": {\"frequency\": 157, \"value\": \"My Band\"}, \"Love Is A Losing Game\": {\"frequency\": 190, \"value\": \"Love Is A Losing ...\"}, \"Synchronicity II\": {\"frequency\": 156, \"value\": \"Synchronicity II\"}, \"Boy With The Coin\": {\"frequency\": 137, \"value\": \"Boy With The Coin\"}, \"Un Beso de Desayuno\": {\"frequency\": 269, \"value\": \"Un Beso de ...\"}, \"Never Let You Go\": {\"frequency\": 593, \"value\": \"Never Let You Go\"}, \"It's My Own Fault\": {\"frequency\": 509, \"value\": \"It's My Own Fault\"}, \"Howlin\\u0019 For You\": {\"frequency\": 387, \"value\": \"Howlin\\u0019 For You\"}, \"Jamaica Roots II(Agora E Sempre)\": {\"frequency\": 761, \"value\": \"Jamaica Roots ...\"}, \"Funkytown\": {\"frequency\": 240, \"value\": \"Funkytown\"}, \"Save The Last Dance For Me [Ralphi Rosario Anthomic Vocal]\": {\"frequency\": 173, \"value\": \"Save The Last ...\"}, \"Thank You\": {\"frequency\": 256, \"value\": \"Thank You\"}, \"Daylight\": {\"frequency\": 197, \"value\": \"Daylight\"}, \"Sincerit\\ufffd\\ufffd Et Jalousie\": {\"frequency\": 1797, \"value\": \"Sincerit\\u00e9 Et ...\"}, \"Piano Concerto No. 2 in G minor Op. 22 (2006 Digital Remaster): III.  Presto\": {\"frequency\": 398, \"value\": \"Piano Concerto No. ...\"}, \"Audience Of One\": {\"frequency\": 208, \"value\": \"Audience Of One\"}, \"The Pulse\": {\"frequency\": 138, \"value\": \"The Pulse\"}, \"Home\": {\"frequency\": 1281, \"value\": \"Home\"}, \"Roger That\": {\"frequency\": 171, \"value\": \"Roger That\"}, \"Superman\": {\"frequency\": 787, \"value\": \"Superman\"}, \"One Less Lonely Girl\": {\"frequency\": 579, \"value\": \"One Less Lonely ...\"}, \"Interactive Halloween Bear\": {\"frequency\": 263, \"value\": \"Interactive ...\"}, \"Take Me Out\": {\"frequency\": 312, \"value\": \"Take Me Out\"}, \"The Memory Remains\": {\"frequency\": 321, \"value\": \"The Memory Remains\"}, \"Come As You Are\": {\"frequency\": 451, \"value\": \"Come As You Are\"}, \"The Rain\": {\"frequency\": 209, \"value\": \"The Rain\"}, \"Crying Shame\": {\"frequency\": 151, \"value\": \"Crying Shame\"}, \"Caring Is Creepy\": {\"frequency\": 173, \"value\": \"Caring Is Creepy\"}, \"Mykonos\": {\"frequency\": 162, \"value\": \"Mykonos\"}, \"Happy Alone\": {\"frequency\": 150, \"value\": \"Happy Alone\"}, \"Elephant Gun\": {\"frequency\": 220, \"value\": \"Elephant Gun\"}, \"It's Time I Go (Jazz)\": {\"frequency\": 143, \"value\": \"It's Time I Go ...\"}, \"If You're Gone (Remastered Version)\": {\"frequency\": 141, \"value\": \"If You're Gone ...\"}, \"The Downfall Of Us All\": {\"frequency\": 215, \"value\": \"The Downfall Of Us ...\"}, \"The Middle\": {\"frequency\": 641, \"value\": \"The Middle\"}, \"Animal\": {\"frequency\": 163, \"value\": \"Animal\"}, \"Highway 20 Ride (Album)\": {\"frequency\": 252, \"value\": \"Highway 20 Ride ...\"}, \"Fakty\": {\"frequency\": 146, \"value\": \"Fakty\"}, \"You Get What You Give\": {\"frequency\": 240, \"value\": \"You Get What You ...\"}, \"The End\": {\"frequency\": 178, \"value\": \"The End\"}, \"They Might Follow You\": {\"frequency\": 451, \"value\": \"They Might Follow ...\"}, \"Without Me\": {\"frequency\": 868, \"value\": \"Without Me\"}, \"Obsessed\": {\"frequency\": 176, \"value\": \"Obsessed\"}, \"Brave The Elements\": {\"frequency\": 302, \"value\": \"Brave The Elements\"}, \"Save Room\": {\"frequency\": 141, \"value\": \"Save Room\"}, \"When I Grow Up\": {\"frequency\": 426, \"value\": \"When I Grow Up\"}, \"Nothin' On You [feat. Bruno Mars] (Album Version)\": {\"frequency\": 2345, \"value\": \"Nothin' On You ...\"}, \"Stay\": {\"frequency\": 369, \"value\": \"Stay\"}, \"Mia\": {\"frequency\": 340, \"value\": \"Mia\"}, \"Rock Your Body\": {\"frequency\": 197, \"value\": \"Rock Your Body\"}, \"Ride Wit Me\": {\"frequency\": 156, \"value\": \"Ride Wit Me\"}, \"Hey_ Soul Sister\": {\"frequency\": 2815, \"value\": \"Hey_ Soul Sister\"}, \"Baby Boy [feat. Beyonce]\": {\"frequency\": 276, \"value\": \"Baby Boy [feat. ...\"}, \"Terre Promise\": {\"frequency\": 595, \"value\": \"Terre Promise\"}, \"re:stacks\": {\"frequency\": 180, \"value\": \"re:stacks\"}, \"Whispers In The Dark (Radio Edit)\": {\"frequency\": 172, \"value\": \"Whispers In The ...\"}, \"Temperature (Album Version)\": {\"frequency\": 147, \"value\": \"Temperature (Album ...\"}, \"Clint Eastwood (Ed Case/Sweetie Irie Refix) (Edit)\": {\"frequency\": 196, \"value\": \"Clint Eastwood (Ed ...\"}, \"Yellow\": {\"frequency\": 2631, \"value\": \"Yellow\"}, \"Slow Down\": {\"frequency\": 155, \"value\": \"Slow Down\"}, \"Who's Real\": {\"frequency\": 302, \"value\": \"Who's Real\"}, \"Glamorous\": {\"frequency\": 148, \"value\": \"Glamorous\"}, \"Veleta (En Vivo Auditorio Nacional)\": {\"frequency\": 145, \"value\": \"Veleta (En Vivo ...\"}, \"Make Love To Your Mind\": {\"frequency\": 858, \"value\": \"Make Love To Your ...\"}, \"Fall For You\": {\"frequency\": 157, \"value\": \"Fall For You\"}, \"Give It Back\": {\"frequency\": 214, \"value\": \"Give It Back\"}, \"Stronger\": {\"frequency\": 1301, \"value\": \"Stronger\"}, \"All Men Are Liars\": {\"frequency\": 182, \"value\": \"All Men Are Liars\"}, \"Beautiful Stranger\": {\"frequency\": 296, \"value\": \"Beautiful Stranger\"}, \"Piggy\": {\"frequency\": 240, \"value\": \"Piggy\"}, \"Down On The Corner\": {\"frequency\": 239, \"value\": \"Down On The Corner\"}, \"Push\": {\"frequency\": 172, \"value\": \"Push\"}, \"Clint Eastwood (Explicit)\": {\"frequency\": 143, \"value\": \"Clint Eastwood ...\"}, \"Crumpshit\": {\"frequency\": 319, \"value\": \"Crumpshit\"}, \"You Give Love A Bad Name\": {\"frequency\": 425, \"value\": \"You Give Love A ...\"}, \"The Way I Are\": {\"frequency\": 402, \"value\": \"The Way I Are\"}, \"Speed Of Sound\": {\"frequency\": 501, \"value\": \"Speed Of Sound\"}, \"Beautiful\": {\"frequency\": 462, \"value\": \"Beautiful\"}, \"Crazy\": {\"frequency\": 432, \"value\": \"Crazy\"}, \"House Of Cards\": {\"frequency\": 180, \"value\": \"House Of Cards\"}, \"Sayonara-Nostalgia\": {\"frequency\": 748, \"value\": \"Sayonara-Nostalgia\"}, \"Ride The Lightning\": {\"frequency\": 346, \"value\": \"Ride The Lightning\"}, \"Reptilia\": {\"frequency\": 174, \"value\": \"Reptilia\"}, \"Glitter In The Air\": {\"frequency\": 222, \"value\": \"Glitter In The Air\"}, \"Microdaze\": {\"frequency\": 273, \"value\": \"Microdaze\"}, \"Butterflies and Hurricanes\": {\"frequency\": 152, \"value\": \"Butterflies and ...\"}, \"Lies\": {\"frequency\": 210, \"value\": \"Lies\"}, \"Dick In A Box\": {\"frequency\": 160, \"value\": \"Dick In A Box\"}, \"Float On\": {\"frequency\": 916, \"value\": \"Float On\"}, \"Hemma F\\ufffd\\ufffdre M\\ufffd\\ufffdrkret\": {\"frequency\": 174, \"value\": \"Hemma F\\u00f6re M\\u00f6rkret\"}, \"I Need A Dollar\": {\"frequency\": 319, \"value\": \"I Need A Dollar\"}, \"Matricide\": {\"frequency\": 311, \"value\": \"Matricide\"}, \"Bad Company\": {\"frequency\": 444, \"value\": \"Bad Company\"}, \"Tomorrow\": {\"frequency\": 318, \"value\": \"Tomorrow\"}, \"Schwarze Biene (Black Maja)\": {\"frequency\": 217, \"value\": \"Schwarze Biene ...\"}, \"Du Hast\": {\"frequency\": 277, \"value\": \"Du Hast\"}, \"No One Knows\": {\"frequency\": 178, \"value\": \"No One Knows\"}, \"Imma Be\": {\"frequency\": 956, \"value\": \"Imma Be\"}, \"Be Somebody\": {\"frequency\": 446, \"value\": \"Be Somebody\"}, \"Kryptonite\": {\"frequency\": 1051, \"value\": \"Kryptonite\"}, \"Sleepyhead\": {\"frequency\": 545, \"value\": \"Sleepyhead\"}, \"Soulful Dress\": {\"frequency\": 164, \"value\": \"Soulful Dress\"}, \"You Learn (Album Version)\": {\"frequency\": 181, \"value\": \"You Learn (Album ...\"}, \"All Along The Watchtower\": {\"frequency\": 298, \"value\": \"All Along The ...\"}, \"She Loves You\": {\"frequency\": 286, \"value\": \"She Loves You\"}, \"American Soldier\": {\"frequency\": 214, \"value\": \"American Soldier\"}, \"Forgot About Dre\": {\"frequency\": 320, \"value\": \"Forgot About Dre\"}, \"You\": {\"frequency\": 306, \"value\": \"You\"}, \"Walking On Sunshine\": {\"frequency\": 161, \"value\": \"Walking On ...\"}, \"Disco Heaven\": {\"frequency\": 147, \"value\": \"Disco Heaven\"}, \"Whataya Want From Me\": {\"frequency\": 568, \"value\": \"Whataya Want From ...\"}, \"Superstar\": {\"frequency\": 180, \"value\": \"Superstar\"}, \"Girls Just Want To Have Fun\": {\"frequency\": 171, \"value\": \"Girls Just Want To ...\"}, \"Missing\": {\"frequency\": 169, \"value\": \"Missing\"}, \"Won't Go Home Without You\": {\"frequency\": 184, \"value\": \"Won't Go Home ...\"}, \"Here Without You\": {\"frequency\": 844, \"value\": \"Here Without You\"}, \"Dear God (Album Version)\": {\"frequency\": 142, \"value\": \"Dear God (Album ...\"}, \"The Way Things Go\": {\"frequency\": 297, \"value\": \"The Way Things Go\"}, \"Empty Skies\": {\"frequency\": 225, \"value\": \"Empty Skies\"}, \"Dead And Gone [feat. Justin Timberlake] (Explicit Album Version)\": {\"frequency\": 209, \"value\": \"Dead And Gone ...\"}, \"Opposite Of Adults\": {\"frequency\": 374, \"value\": \"Opposite Of Adults\"}, \"Hope\": {\"frequency\": 142, \"value\": \"Hope\"}, \"The News\": {\"frequency\": 217, \"value\": \"The News\"}, \"Adam's Song\": {\"frequency\": 481, \"value\": \"Adam's Song\"}, \"Dumb\": {\"frequency\": 178, \"value\": \"Dumb\"}, \"Real World\": {\"frequency\": 191, \"value\": \"Real World\"}, \"Why\": {\"frequency\": 226, \"value\": \"Why\"}, \"That Should Be Me\": {\"frequency\": 560, \"value\": \"That Should Be Me\"}, \"Words So Leisured\": {\"frequency\": 153, \"value\": \"Words So Leisured\"}, \"Teardrop\": {\"frequency\": 188, \"value\": \"Teardrop\"}, \"Eternal Flame (Single Version)\": {\"frequency\": 176, \"value\": \"Eternal Flame ...\"}, \"I Get Joy\": {\"frequency\": 260, \"value\": \"I Get Joy\"}, \"Waiting On The World To Change\": {\"frequency\": 282, \"value\": \"Waiting On The ...\"}, \"Man In The Box\": {\"frequency\": 216, \"value\": \"Man In The Box\"}, \"The Real Slim Shady\": {\"frequency\": 1464, \"value\": \"The Real Slim ...\"}, \"Magic Carpet Ride\": {\"frequency\": 221, \"value\": \"Magic Carpet Ride\"}, \"Underground\": {\"frequency\": 248, \"value\": \"Underground\"}, \"Move The Crowd\": {\"frequency\": 189, \"value\": \"Move The Crowd\"}, \"Superstar (featuring Matthew Santos) (Album Version)\": {\"frequency\": 313, \"value\": \"Superstar ...\"}, \"I Still Haven't Found What I'm Looking For\": {\"frequency\": 253, \"value\": \"I Still Haven't ...\"}, \"Sorrow (1997 Digital Remaster)\": {\"frequency\": 256, \"value\": \"Sorrow (1997 ...\"}, \"Do You Remember\": {\"frequency\": 795, \"value\": \"Do You Remember\"}, \"Le Courage Des Oiseaux\": {\"frequency\": 799, \"value\": \"Le Courage Des ...\"}, \"The Gift\": {\"frequency\": 1267, \"value\": \"The Gift\"}, \"Like A Boss\": {\"frequency\": 315, \"value\": \"Like A Boss\"}, \"My Sacrifice\": {\"frequency\": 202, \"value\": \"My Sacrifice\"}, \"Everlong\": {\"frequency\": 837, \"value\": \"Everlong\"}, \"Big Green Tractor\": {\"frequency\": 258, \"value\": \"Big Green Tractor\"}, \"Just The Way You Are\": {\"frequency\": 200, \"value\": \"Just The Way You ...\"}, \"Verde Que Te Quero Rosa\": {\"frequency\": 200, \"value\": \"Verde Que Te Quero ...\"}, \"S.O.S.\": {\"frequency\": 182, \"value\": \"S.O.S.\"}, \"Never Say Never\": {\"frequency\": 241, \"value\": \"Never Say Never\"}, \"Stockholm Syndrome\": {\"frequency\": 275, \"value\": \"Stockholm Syndrome\"}, \"Why Don't We Just Dance\": {\"frequency\": 159, \"value\": \"Why Don't We Just ...\"}, \"Restless\": {\"frequency\": 138, \"value\": \"Restless\"}, \"Wake Up Call\": {\"frequency\": 189, \"value\": \"Wake Up Call\"}, \"The Queen of Nothing\": {\"frequency\": 168, \"value\": \"The Queen of ...\"}, \"Wake Up Alone\": {\"frequency\": 151, \"value\": \"Wake Up Alone\"}, \"Jailbreak\": {\"frequency\": 141, \"value\": \"Jailbreak\"}, \"No Cars Go\": {\"frequency\": 227, \"value\": \"No Cars Go\"}, \"My World\": {\"frequency\": 225, \"value\": \"My World\"}, \"One\": {\"frequency\": 551, \"value\": \"One\"}, \"Gunn Clapp\": {\"frequency\": 311, \"value\": \"Gunn Clapp\"}, \"Kalopsia\": {\"frequency\": 143, \"value\": \"Kalopsia\"}, \"Under The Bridge (Album Version)\": {\"frequency\": 254, \"value\": \"Under The Bridge ...\"}, \"Face Down (Album Version)\": {\"frequency\": 310, \"value\": \"Face Down (Album ...\"}, \"Heart Shaped Box\": {\"frequency\": 221, \"value\": \"Heart Shaped Box\"}, \"Wake Up\": {\"frequency\": 258, \"value\": \"Wake Up\"}, \"Mr. Jones\": {\"frequency\": 497, \"value\": \"Mr. Jones\"}, \"I And Love And You\": {\"frequency\": 168, \"value\": \"I And Love And You\"}, \"Big Idea\": {\"frequency\": 206, \"value\": \"Big Idea\"}, \"Bigger Isn't Better\": {\"frequency\": 278, \"value\": \"Bigger Isn't ...\"}, \"I'm In Miami Bitch\": {\"frequency\": 162, \"value\": \"I'm In Miami Bitch\"}, \"Hustler\": {\"frequency\": 171, \"value\": \"Hustler\"}, \"What We Do (Explicit) (Feat. Memphis Bleek)\": {\"frequency\": 203, \"value\": \"What We Do ...\"}, \"Simple As...\": {\"frequency\": 158, \"value\": \"Simple As...\"}, \"Walk Away\": {\"frequency\": 179, \"value\": \"Walk Away\"}, \"Tim McGraw\": {\"frequency\": 436, \"value\": \"Tim McGraw\"}, \"People Gotta Move\": {\"frequency\": 145, \"value\": \"People Gotta Move\"}, \"Gente Que No\": {\"frequency\": 176, \"value\": \"Gente Que No\"}, \"In One Ear\": {\"frequency\": 221, \"value\": \"In One Ear\"}, \"How Long\": {\"frequency\": 241, \"value\": \"How Long\"}, \"Heartbreak Warfare\": {\"frequency\": 1120, \"value\": \"Heartbreak Warfare\"}, \"Deja Vu\": {\"frequency\": 201, \"value\": \"Deja Vu\"}, \"Die Kunst der Fuge_ BWV 1080 (2007 Digital Remaster): Contrapunctus XVII - Inversus\": {\"frequency\": 179, \"value\": \"Die Kunst der ...\"}, \"Breakout\": {\"frequency\": 162, \"value\": \"Breakout\"}, \"Gold Guns Girls\": {\"frequency\": 257, \"value\": \"Gold Guns Girls\"}, \"All I Need\": {\"frequency\": 252, \"value\": \"All I Need\"}, \"Masquerade (Reality Check Album Version)\": {\"frequency\": 450, \"value\": \"Masquerade ...\"}, \"Hypnopaedia\": {\"frequency\": 274, \"value\": \"Hypnopaedia\"}, \"Heaven Must Be Missing An Angel\": {\"frequency\": 218, \"value\": \"Heaven Must Be ...\"}, \"The District Sleeps Alone Tonight (Album)\": {\"frequency\": 202, \"value\": \"The District ...\"}, \"Blurry\": {\"frequency\": 174, \"value\": \"Blurry\"}, \"All Summer Long (Album Version)\": {\"frequency\": 210, \"value\": \"All Summer Long ...\"}, \"Once In A Lifetime\": {\"frequency\": 244, \"value\": \"Once In A Lifetime\"}, \"Baker's Blue Jay Yarn\": {\"frequency\": 431, \"value\": \"Baker's Blue Jay ...\"}, \"Bulletproof\": {\"frequency\": 1493, \"value\": \"Bulletproof\"}, \"Sehr kosmisch\": {\"frequency\": 5039, \"value\": \"Sehr kosmisch\"}, \"Boombox\": {\"frequency\": 177, \"value\": \"Boombox\"}, \"Songs Of The Season\": {\"frequency\": 291, \"value\": \"Songs Of The ...\"}, \"Rain\": {\"frequency\": 471, \"value\": \"Rain\"}, \"Superstition\": {\"frequency\": 161, \"value\": \"Superstition\"}, \"Robot Soul (Radio Edit)\": {\"frequency\": 610, \"value\": \"Robot Soul (Radio ...\"}, \"Heartbreaker\": {\"frequency\": 206, \"value\": \"Heartbreaker\"}, \"Bodies\": {\"frequency\": 263, \"value\": \"Bodies\"}, \"Paper Gangsta\": {\"frequency\": 225, \"value\": \"Paper Gangsta\"}, \"Now I'm High_ Really High\": {\"frequency\": 234, \"value\": \"Now I'm High_ ...\"}, \"Sing\": {\"frequency\": 163, \"value\": \"Sing\"}, \"Him\": {\"frequency\": 140, \"value\": \"Him\"}, \"Video Killed The Radio Star\": {\"frequency\": 626, \"value\": \"Video Killed The ...\"}, \"Breakeven\": {\"frequency\": 793, \"value\": \"Breakeven\"}, \"In The Waiting Line\": {\"frequency\": 185, \"value\": \"In The Waiting ...\"}, \"Fortunate Son\": {\"frequency\": 419, \"value\": \"Fortunate Son\"}, \"Here We Go Again\": {\"frequency\": 148, \"value\": \"Here We Go Again\"}, \"Spaceman\": {\"frequency\": 161, \"value\": \"Spaceman\"}, \"U Can't Touch This\": {\"frequency\": 196, \"value\": \"U Can't Touch This\"}, \"Your Guardian Angel\": {\"frequency\": 165, \"value\": \"Your Guardian ...\"}, \"Better To Reign In Hell\": {\"frequency\": 711, \"value\": \"Better To Reign In ...\"}, \"Michael\": {\"frequency\": 208, \"value\": \"Michael\"}, \"Brother\": {\"frequency\": 214, \"value\": \"Brother\"}, \"Smile Like You Mean It\": {\"frequency\": 247, \"value\": \"Smile Like You ...\"}, \"How You Remind Me\": {\"frequency\": 704, \"value\": \"How You Remind Me\"}, \"Greece 2000\": {\"frequency\": 794, \"value\": \"Greece 2000\"}, \"Rome\": {\"frequency\": 198, \"value\": \"Rome\"}, \"Feeling This\": {\"frequency\": 226, \"value\": \"Feeling This\"}, \"My Happy Ending\": {\"frequency\": 403, \"value\": \"My Happy Ending\"}, \"(Nice Dream)\": {\"frequency\": 222, \"value\": \"(Nice Dream)\"}, \"Venus\": {\"frequency\": 246, \"value\": \"Venus\"}, \"Proud Mary\": {\"frequency\": 210, \"value\": \"Proud Mary\"}, \"Someday\": {\"frequency\": 587, \"value\": \"Someday\"}, \"Lullaby\": {\"frequency\": 382, \"value\": \"Lullaby\"}, \"The Way I Loved You\": {\"frequency\": 193, \"value\": \"The Way I Loved ...\"}, \"Jump Around (LP Version)\": {\"frequency\": 179, \"value\": \"Jump Around (LP ...\"}, \"Alejate De Mi\": {\"frequency\": 273, \"value\": \"Alejate De Mi\"}, \"Simple\": {\"frequency\": 281, \"value\": \"Simple\"}, \"My Moon My Man\": {\"frequency\": 215, \"value\": \"My Moon My Man\"}, \"Resistance\": {\"frequency\": 552, \"value\": \"Resistance\"}, \"Civil War\": {\"frequency\": 261, \"value\": \"Civil War\"}, \"Skinny Love\": {\"frequency\": 404, \"value\": \"Skinny Love\"}, \"Parachute\": {\"frequency\": 159, \"value\": \"Parachute\"}, \"Fall To Pieces\": {\"frequency\": 213, \"value\": \"Fall To Pieces\"}, \"I Want You\": {\"frequency\": 588, \"value\": \"I Want You\"}, \"Just Lose It\": {\"frequency\": 708, \"value\": \"Just Lose It\"}, \"Miss You\": {\"frequency\": 220, \"value\": \"Miss You\"}, \"(If You're Wondering If I Want You To) I Want You To\": {\"frequency\": 192, \"value\": \"(If You're ...\"}, \"Given Up (Album Version)\": {\"frequency\": 209, \"value\": \"Given Up (Album ...\"}, \"Milk\": {\"frequency\": 129, \"value\": \"Milk\"}, \"Mr. Brownstone\": {\"frequency\": 196, \"value\": \"Mr. Brownstone\"}, \"Bubbly\": {\"frequency\": 265, \"value\": \"Bubbly\"}, \"You And Your Heart\": {\"frequency\": 209, \"value\": \"You And Your Heart\"}, \"It's Not My Time\": {\"frequency\": 155, \"value\": \"It's Not My Time\"}, \"Mrs. Officer\": {\"frequency\": 229, \"value\": \"Mrs. Officer\"}, \"The Maestro\": {\"frequency\": 584, \"value\": \"The Maestro\"}, \"Streets On Lock\": {\"frequency\": 152, \"value\": \"Streets On Lock\"}, \"Sparks\": {\"frequency\": 309, \"value\": \"Sparks\"}, \"Neon\": {\"frequency\": 227, \"value\": \"Neon\"}, \"Don't Cha\": {\"frequency\": 270, \"value\": \"Don't Cha\"}, \"Quelqu'un M'a Dit (Album Version)\": {\"frequency\": 179, \"value\": \"Quelqu'un M'a Dit ...\"}, \"Sugar_ We're Goin Down\": {\"frequency\": 454, \"value\": \"Sugar_ We're Goin ...\"}, \"Black & Blue\": {\"frequency\": 154, \"value\": \"Black & Blue\"}, \"I Miss You\": {\"frequency\": 198, \"value\": \"I Miss You\"}, \"Be With You\": {\"frequency\": 274, \"value\": \"Be With You\"}, \"Bleed It Out [Live At Milton Keynes]\": {\"frequency\": 1330, \"value\": \"Bleed It Out [Live ...\"}, \"Yesterday Once More\": {\"frequency\": 180, \"value\": \"Yesterday Once ...\"}, \"Dance_ Dance\": {\"frequency\": 667, \"value\": \"Dance_ Dance\"}, \"My Immortal (Album Version)\": {\"frequency\": 541, \"value\": \"My Immortal (Album ...\"}, \"Criminal\": {\"frequency\": 204, \"value\": \"Criminal\"}, \"Dog Days Are Over (Radio Edit)\": {\"frequency\": 3781, \"value\": \"Dog Days Are Over ...\"}, \"You'll Never Know (My Love) (Bovellian 07 Mix)\": {\"frequency\": 266, \"value\": \"You'll Never Know ...\"}, \"Killing Lies\": {\"frequency\": 167, \"value\": \"Killing Lies\"}, \"Daft Punk Is Playing At My House\": {\"frequency\": 174, \"value\": \"Daft Punk Is ...\"}, \"The Unforgiven III\": {\"frequency\": 181, \"value\": \"The Unforgiven III\"}, \"(You Drive Me) Crazy (The Stop Remix!)\": {\"frequency\": 180, \"value\": \"(You Drive Me) ...\"}, \"Put Your Records On\": {\"frequency\": 215, \"value\": \"Put Your Records ...\"}, \"We Belong Together\": {\"frequency\": 368, \"value\": \"We Belong Together\"}, \"Time To Pretend\": {\"frequency\": 629, \"value\": \"Time To Pretend\"}, \"Esisti Tu\": {\"frequency\": 162, \"value\": \"Esisti Tu\"}, \"Lazy Eye [Jason Bentley Remix]\": {\"frequency\": 160, \"value\": \"Lazy Eye [Jason ...\"}, \"Agua\": {\"frequency\": 156, \"value\": \"Agua\"}, \"Lump Sum\": {\"frequency\": 155, \"value\": \"Lump Sum\"}, \"Crazy Little Thing Called Love (Album Version)\": {\"frequency\": 189, \"value\": \"Crazy Little Thing ...\"}, \"Marble House\": {\"frequency\": 155, \"value\": \"Marble House\"}, \"You And Me Jesus\": {\"frequency\": 478, \"value\": \"You And Me Jesus\"}, \"Invincible\": {\"frequency\": 286, \"value\": \"Invincible\"}, \"Baby\": {\"frequency\": 185, \"value\": \"Baby\"}, \"Posters\": {\"frequency\": 186, \"value\": \"Posters\"}, \"I'm Only Me When I'm With You\": {\"frequency\": 344, \"value\": \"I'm Only Me When ...\"}, \"The Whole World\": {\"frequency\": 139, \"value\": \"The Whole World\"}, \"My Life Would Suck Without You\": {\"frequency\": 296, \"value\": \"My Life Would Suck ...\"}, \"Rising Moon\": {\"frequency\": 153, \"value\": \"Rising Moon\"}, \"The Way You Move\": {\"frequency\": 142, \"value\": \"The Way You Move\"}, \"Che Sara\": {\"frequency\": 150, \"value\": \"Che Sara\"}, \"Friends_ Lovers Or Nothing\": {\"frequency\": 148, \"value\": \"Friends_ Lovers Or ...\"}, \"Valerie\": {\"frequency\": 270, \"value\": \"Valerie\"}, \"Halo\": {\"frequency\": 1238, \"value\": \"Halo\"}, \"Smooth Operator\": {\"frequency\": 134, \"value\": \"Smooth Operator\"}, \"Sometimes\": {\"frequency\": 148, \"value\": \"Sometimes\"}, \"Modern world\": {\"frequency\": 165, \"value\": \"Modern world\"}, \"Hypnotize(Album Version)\": {\"frequency\": 231, \"value\": \"Hypnotize(Album ...\"}, \"Electric Feel\": {\"frequency\": 961, \"value\": \"Electric Feel\"}, \"Na Vi\": {\"frequency\": 306, \"value\": \"Na Vi\"}, \"Dile al amor\": {\"frequency\": 188, \"value\": \"Dile al amor\"}, \"War\": {\"frequency\": 175, \"value\": \"War\"}, \"Tie Me Down [feat. Ray J] (Amended Album Version)\": {\"frequency\": 221, \"value\": \"Tie Me Down [feat. ...\"}, \"Doperide\": {\"frequency\": 174, \"value\": \"Doperide\"}, \"American Idiot [feat. Green Day & The Cast Of American Idiot] (Album Version)\": {\"frequency\": 446, \"value\": \"American Idiot ...\"}, \"No One's Gonna Love You (Album)\": {\"frequency\": 232, \"value\": \"No One's Gonna ...\"}, \"Hey Stephen\": {\"frequency\": 210, \"value\": \"Hey Stephen\"}, \"The Kids Don\\u0019t Stand A Chance (Album)\": {\"frequency\": 178, \"value\": \"The Kids Don\\u0019t ...\"}, \"Gone\": {\"frequency\": 361, \"value\": \"Gone\"}, \"If You Want To Sing Out_ Sing Out\": {\"frequency\": 182, \"value\": \"If You Want To ...\"}, \"One More Time (Short Radio Edit)\": {\"frequency\": 345, \"value\": \"One More Time ...\"}, \"Unwell (Album Version)\": {\"frequency\": 315, \"value\": \"Unwell (Album ...\"}, \"September\": {\"frequency\": 217, \"value\": \"September\"}, \"U Smile\": {\"frequency\": 835, \"value\": \"U Smile\"}, \"Costruire\": {\"frequency\": 282, \"value\": \"Costruire\"}, \"All These Things That I've Done\": {\"frequency\": 258, \"value\": \"All These Things ...\"}, \"Missing You\": {\"frequency\": 303, \"value\": \"Missing You\"}, \"Feuer Frei\": {\"frequency\": 217, \"value\": \"Feuer Frei\"}, \"Jump\": {\"frequency\": 155, \"value\": \"Jump\"}, \"Let Down\": {\"frequency\": 297, \"value\": \"Let Down\"}, \"Unite (2009 Digital Remaster)\": {\"frequency\": 828, \"value\": \"Unite (2009 ...\"}, \"Human\": {\"frequency\": 616, \"value\": \"Human\"}, \"Peace Train\": {\"frequency\": 181, \"value\": \"Peace Train\"}, \"Girlfriend\": {\"frequency\": 281, \"value\": \"Girlfriend\"}, \"Knocking On Forbidden Doors\": {\"frequency\": 288, \"value\": \"Knocking On ...\"}, \"Luvstruck\": {\"frequency\": 528, \"value\": \"Luvstruck\"}, \"No Surprise\": {\"frequency\": 207, \"value\": \"No Surprise\"}, \"Speak\": {\"frequency\": 271, \"value\": \"Speak\"}, \"Not Fair (Clean Radio Edit)\": {\"frequency\": 210, \"value\": \"Not Fair (Clean ...\"}, \"Teddy Picker (Explicit)\": {\"frequency\": 243, \"value\": \"Teddy Picker ...\"}, \"There Goes My Baby\": {\"frequency\": 364, \"value\": \"There Goes My Baby\"}, \"Fuck Kitty\": {\"frequency\": 717, \"value\": \"Fuck Kitty\"}, \"Repr\\ufffd\\ufffdsente\": {\"frequency\": 1773, \"value\": \"Repr\\u00e9sente\"}, \"I Remember\": {\"frequency\": 260, \"value\": \"I Remember\"}, \"Live Like We're Dying\": {\"frequency\": 190, \"value\": \"Live Like We're ...\"}, \"One Headlight\": {\"frequency\": 197, \"value\": \"One Headlight\"}, \"Get Me Bodied\": {\"frequency\": 174, \"value\": \"Get Me Bodied\"}, \"Yellow Ledbetter\": {\"frequency\": 188, \"value\": \"Yellow Ledbetter\"}, \"Hey Daddy (Daddy's Home)\": {\"frequency\": 648, \"value\": \"Hey Daddy (Daddy's ...\"}, \"Streets Of New York (City Life)\": {\"frequency\": 269, \"value\": \"Streets Of New ...\"}, \"Where Is My Mind?\": {\"frequency\": 288, \"value\": \"Where Is My Mind?\"}, \"Black\": {\"frequency\": 547, \"value\": \"Black\"}, \"Boys Boys Boys\": {\"frequency\": 221, \"value\": \"Boys Boys Boys\"}, \"No Air duet with Chris Brown\": {\"frequency\": 182, \"value\": \"No Air duet with ...\"}, \"Purple Rain\": {\"frequency\": 157, \"value\": \"Purple Rain\"}, \"Stacy's Mom\": {\"frequency\": 158, \"value\": \"Stacy's Mom\"}, \"In My Place\": {\"frequency\": 555, \"value\": \"In My Place\"}, \"Love Of My Life (1993 Digital Remaster)\": {\"frequency\": 286, \"value\": \"Love Of My Life ...\"}, \"High Voltage\": {\"frequency\": 141, \"value\": \"High Voltage\"}, \"Firestarter\": {\"frequency\": 177, \"value\": \"Firestarter\"}, \"Naturally\": {\"frequency\": 476, \"value\": \"Naturally\"}, \"Family Business\": {\"frequency\": 198, \"value\": \"Family Business\"}, \"Octavo D\\ufffd\\ufffda\": {\"frequency\": 250, \"value\": \"Octavo D\\u00eda\"}, \"I'm Not Your Toy\": {\"frequency\": 148, \"value\": \"I'm Not Your Toy\"}, \"Hands Open\": {\"frequency\": 167, \"value\": \"Hands Open\"}, \"Cape Cod Kwassa Kwassa (Album)\": {\"frequency\": 202, \"value\": \"Cape Cod Kwassa ...\"}, \"Uprising\": {\"frequency\": 1058, \"value\": \"Uprising\"}, \"What Goes Around...Comes Around\": {\"frequency\": 518, \"value\": \"What Goes ...\"}, \"Fireworks\": {\"frequency\": 172, \"value\": \"Fireworks\"}, \"BedRock (Radio Edit) (feat.Lloyd)\": {\"frequency\": 601, \"value\": \"BedRock (Radio ...\"}, \"All Night Long\": {\"frequency\": 186, \"value\": \"All Night Long\"}, \"The Bad Touch\": {\"frequency\": 244, \"value\": \"The Bad Touch\"}, \"What If I Do?\": {\"frequency\": 182, \"value\": \"What If I Do?\"}, \"Next Girl\": {\"frequency\": 173, \"value\": \"Next Girl\"}, \"You'd Be So Nice To Come Home To\": {\"frequency\": 174, \"value\": \"You'd Be So Nice ...\"}, \"Run To The Hills (1998 Digital Remaster)\": {\"frequency\": 189, \"value\": \"Run To The Hills ...\"}, \"Waters Of Nazareth (album version)\": {\"frequency\": 174, \"value\": \"Waters Of Nazareth ...\"}, \"Miss Murder\": {\"frequency\": 146, \"value\": \"Miss Murder\"}, \"Falling Slowly (Album version)\": {\"frequency\": 160, \"value\": \"Falling Slowly ...\"}, \"O Samba E O Tango\": {\"frequency\": 140, \"value\": \"O Samba E O Tango\"}, \"Don't Walk Away\": {\"frequency\": 219, \"value\": \"Don't Walk Away\"}, \"Killing Me Softly With His Song\": {\"frequency\": 133, \"value\": \"Killing Me Softly ...\"}, \"Island In The Sun\": {\"frequency\": 294, \"value\": \"Island In The Sun\"}, \"Welcome Home (Sanitarium)\": {\"frequency\": 175, \"value\": \"Welcome Home ...\"}, \"Loud Pipes\": {\"frequency\": 221, \"value\": \"Loud Pipes\"}, \"Hearts On Fire\": {\"frequency\": 222, \"value\": \"Hearts On Fire\"}, \"Fader\": {\"frequency\": 293, \"value\": \"Fader\"}, \"Corrido de Boxeo\": {\"frequency\": 204, \"value\": \"Corrido de Boxeo\"}, \"Only You\": {\"frequency\": 189, \"value\": \"Only You\"}, \"Cannonball\": {\"frequency\": 193, \"value\": \"Cannonball\"}, \"Solid State\": {\"frequency\": 138, \"value\": \"Solid State\"}, \"If It's Love\": {\"frequency\": 251, \"value\": \"If It's Love\"}, \"Not In Love\": {\"frequency\": 151, \"value\": \"Not In Love\"}, \"You And I Both (LP Version)\": {\"frequency\": 147, \"value\": \"You And I Both (LP ...\"}, \"My Name Is\": {\"frequency\": 1096, \"value\": \"My Name Is\"}, \"Picture Perfect\": {\"frequency\": 157, \"value\": \"Picture Perfect\"}, \"Lively Up Yourself\": {\"frequency\": 195, \"value\": \"Lively Up Yourself\"}, \"Fast Car (LP Version)\": {\"frequency\": 162, \"value\": \"Fast Car (LP ...\"}, \"Tonight\": {\"frequency\": 288, \"value\": \"Tonight\"}, \"Precious\": {\"frequency\": 133, \"value\": \"Precious\"}, \"Creep (Explicit)\": {\"frequency\": 1200, \"value\": \"Creep (Explicit)\"}, \"Gears\": {\"frequency\": 977, \"value\": \"Gears\"}, \"Por quererte\": {\"frequency\": 146, \"value\": \"Por quererte\"}, \"If We Ever Meet Again\": {\"frequency\": 314, \"value\": \"If We Ever Meet ...\"}, \"Hand In My Pocket (Acoustic Album Version)\": {\"frequency\": 147, \"value\": \"Hand In My Pocket ...\"}, \"Bailamos\": {\"frequency\": 158, \"value\": \"Bailamos\"}, \"Take A Bow\": {\"frequency\": 714, \"value\": \"Take A Bow\"}, \"Shine On\": {\"frequency\": 180, \"value\": \"Shine On\"}, \"Seven\": {\"frequency\": 151, \"value\": \"Seven\"}, \"Lucky (Album Version)\": {\"frequency\": 1545, \"value\": \"Lucky (Album ...\"}, \"OMG\": {\"frequency\": 2261, \"value\": \"OMG\"}, \"Saturdays\": {\"frequency\": 157, \"value\": \"Saturdays\"}, \"Coda\": {\"frequency\": 201, \"value\": \"Coda\"}, \"Everywhere I Go\": {\"frequency\": 459, \"value\": \"Everywhere I Go\"}, \"Somebody To Love\": {\"frequency\": 3263, \"value\": \"Somebody To Love\"}, \"The Calculation (Album Version)\": {\"frequency\": 160, \"value\": \"The Calculation ...\"}, \"Pienso En Ti\": {\"frequency\": 236, \"value\": \"Pienso En Ti\"}, \"Alejandro\": {\"frequency\": 1508, \"value\": \"Alejandro\"}, \"Pork And Beans\": {\"frequency\": 169, \"value\": \"Pork And Beans\"}, \"Intro\": {\"frequency\": 664, \"value\": \"Intro\"}, \"I Want Your Love\": {\"frequency\": 148, \"value\": \"I Want Your Love\"}, \"TTHHEE PPAARRTTYY\": {\"frequency\": 165, \"value\": \"TTHHEE PPAARRTTYY\"}, \"One Of The Boys\": {\"frequency\": 161, \"value\": \"One Of The Boys\"}, \"Uptown\": {\"frequency\": 140, \"value\": \"Uptown\"}, \"Oh My God\": {\"frequency\": 153, \"value\": \"Oh My God\"}, \"Hard Sun\": {\"frequency\": 145, \"value\": \"Hard Sun\"}, \"Pump It\": {\"frequency\": 409, \"value\": \"Pump It\"}, \"Walking On The Moon\": {\"frequency\": 291, \"value\": \"Walking On The ...\"}, \"Surf Wax America\": {\"frequency\": 213, \"value\": \"Surf Wax America\"}, \"Reason I'm Alive (Explicit)\": {\"frequency\": 250, \"value\": \"Reason I'm Alive ...\"}, \"Do I\": {\"frequency\": 197, \"value\": \"Do I\"}, \"Rianna\": {\"frequency\": 1044, \"value\": \"Rianna\"}, \"Man Makes The Zoo\": {\"frequency\": 147, \"value\": \"Man Makes The Zoo\"}, \"Of Wolf And Man\": {\"frequency\": 165, \"value\": \"Of Wolf And Man\"}, \"Don't Matter\": {\"frequency\": 204, \"value\": \"Don't Matter\"}, \"Something (Album Version)\": {\"frequency\": 246, \"value\": \"Something (Album ...\"}, \"Dream On\": {\"frequency\": 677, \"value\": \"Dream On\"}, \"Jambalaya\": {\"frequency\": 379, \"value\": \"Jambalaya\"}, \"Bleeding Love\": {\"frequency\": 278, \"value\": \"Bleeding Love\"}, \"Calabria 2007\": {\"frequency\": 179, \"value\": \"Calabria 2007\"}, \"Wait And Bleed (Album Version)\": {\"frequency\": 166, \"value\": \"Wait And Bleed ...\"}, \"Two Is Better Than One\": {\"frequency\": 234, \"value\": \"Two Is Better Than ...\"}, \"Shots\": {\"frequency\": 612, \"value\": \"Shots\"}, \"My Dad's Gone Crazy\": {\"frequency\": 344, \"value\": \"My Dad's Gone ...\"}, \"Crazy In Love\": {\"frequency\": 204, \"value\": \"Crazy In Love\"}, \"Fools\": {\"frequency\": 154, \"value\": \"Fools\"}, \"The World At Large\": {\"frequency\": 157, \"value\": \"The World At Large\"}, \"Breaking The Habit (Album Version)\": {\"frequency\": 153, \"value\": \"Breaking The Habit ...\"}, \"Learning To Fly\": {\"frequency\": 176, \"value\": \"Learning To Fly\"}, \"I'm Not Calling You A Liar\": {\"frequency\": 405, \"value\": \"I'm Not Calling ...\"}, \"Would?\": {\"frequency\": 136, \"value\": \"Would?\"}, \"Staple It Together\": {\"frequency\": 164, \"value\": \"Staple It Together\"}, \"Clara meets Slope - Hard To Say\": {\"frequency\": 158, \"value\": \"Clara meets Slope ...\"}, \"I'm Not Okay (I Promise) (Live From Sessions@AOL)\": {\"frequency\": 214, \"value\": \"I'm Not Okay (I ...\"}, \"This Charming Man\": {\"frequency\": 156, \"value\": \"This Charming Man\"}, \"The Fear\": {\"frequency\": 264, \"value\": \"The Fear\"}, \"Open Your Eyes\": {\"frequency\": 149, \"value\": \"Open Your Eyes\"}, \"Lady Marmalade\": {\"frequency\": 349, \"value\": \"Lady Marmalade\"}, \"Kiss (LP Version)\": {\"frequency\": 234, \"value\": \"Kiss (LP Version)\"}, \"Speechless\": {\"frequency\": 297, \"value\": \"Speechless\"}, \"Over The Rainbow\": {\"frequency\": 156, \"value\": \"Over The Rainbow\"}, \"Tangerine  (Album Version)\": {\"frequency\": 299, \"value\": \"Tangerine  (Album ...\"}, \"What You Know\": {\"frequency\": 372, \"value\": \"What You Know\"}, \"Born To Be Wild\": {\"frequency\": 280, \"value\": \"Born To Be Wild\"}, \"No You Girls\": {\"frequency\": 176, \"value\": \"No You Girls\"}, \"Trouble (Album Version)\": {\"frequency\": 140, \"value\": \"Trouble (Album ...\"}, \"Susie Q\": {\"frequency\": 167, \"value\": \"Susie Q\"}, \"Call On Me\": {\"frequency\": 236, \"value\": \"Call On Me\"}, \"Hips Don't Lie (featuring Wyclef Jean)\": {\"frequency\": 609, \"value\": \"Hips Don't Lie ...\"}, \"Everybody Wants To Rule The World\": {\"frequency\": 163, \"value\": \"Everybody Wants To ...\"}, \"Wild Horses\": {\"frequency\": 147, \"value\": \"Wild Horses\"}, \"Don't Stop The Music\": {\"frequency\": 1769, \"value\": \"Don't Stop The ...\"}, \"DVNO\": {\"frequency\": 286, \"value\": \"DVNO\"}, \"Have You Ever Seen The Rain\": {\"frequency\": 390, \"value\": \"Have You Ever Seen ...\"}, \"Lights & Music\": {\"frequency\": 227, \"value\": \"Lights & Music\"}, \"Hide & Seek\": {\"frequency\": 354, \"value\": \"Hide & Seek\"}, \"Our Song\": {\"frequency\": 471, \"value\": \"Our Song\"}, \"Push It\": {\"frequency\": 272, \"value\": \"Push It\"}, \"Above The Clouds (Edited)\": {\"frequency\": 216, \"value\": \"Above The Clouds ...\"}, \"Rock And Roll All Nite\": {\"frequency\": 231, \"value\": \"Rock And Roll All ...\"}, \"Happy Endings\": {\"frequency\": 241, \"value\": \"Happy Endings\"}, \"On My Own\": {\"frequency\": 160, \"value\": \"On My Own\"}, \"Transparency\": {\"frequency\": 408, \"value\": \"Transparency\"}, \"The Scientist\": {\"frequency\": 1680, \"value\": \"The Scientist\"}, \"Your Mother Should Have Told You\": {\"frequency\": 137, \"value\": \"Your Mother Should ...\"}, \"Cosmic Love\": {\"frequency\": 1000, \"value\": \"Cosmic Love\"}, \"Champion\": {\"frequency\": 144, \"value\": \"Champion\"}, \"Such Great Heights\": {\"frequency\": 545, \"value\": \"Such Great Heights\"}, \"Naked\": {\"frequency\": 214, \"value\": \"Naked\"}, \"Lost!\": {\"frequency\": 240, \"value\": \"Lost!\"}, \"Red Red Wine (Edit)\": {\"frequency\": 244, \"value\": \"Red Red Wine ...\"}, \"Follow Me (Explicit LP Version)\": {\"frequency\": 233, \"value\": \"Follow Me ...\"}, \"One Time\": {\"frequency\": 761, \"value\": \"One Time\"}, \"Cheryl Tweedy\": {\"frequency\": 246, \"value\": \"Cheryl Tweedy\"}, \"The Runner\": {\"frequency\": 154, \"value\": \"The Runner\"}, \"When You're Gone\": {\"frequency\": 429, \"value\": \"When You're Gone\"}, \"She's Good For You\": {\"frequency\": 156, \"value\": \"She's Good For You\"}, \"Hero Of War\": {\"frequency\": 167, \"value\": \"Hero Of War\"}, \"Heart Of The City (Ain't No Love)\": {\"frequency\": 122, \"value\": \"Heart Of The City ...\"}, \"Lost\": {\"frequency\": 316, \"value\": \"Lost\"}, \"As The Sun Still Burns Away (2002 Digital Remaster)\": {\"frequency\": 155, \"value\": \"As The Sun Still ...\"}, \"Slow Dancing In A Burning Room\": {\"frequency\": 323, \"value\": \"Slow Dancing In A ...\"}, \"Almaz\": {\"frequency\": 958, \"value\": \"Almaz\"}, \"Incentive (Bonus Track)\": {\"frequency\": 157, \"value\": \"Incentive (Bonus ...\"}, \"Lasso\": {\"frequency\": 290, \"value\": \"Lasso\"}, \"Make It Mine (Album Version)\": {\"frequency\": 189, \"value\": \"Make It Mine ...\"}, \"Since U Been Gone\": {\"frequency\": 176, \"value\": \"Since U Been Gone\"}, \"Californication (Album Version)\": {\"frequency\": 292, \"value\": \"Californication ...\"}, \"Now You're Gone\": {\"frequency\": 196, \"value\": \"Now You're Gone\"}, \"Ocean Avenue\": {\"frequency\": 228, \"value\": \"Ocean Avenue\"}, \"Medley: Let Me Talk To You/ My Love\": {\"frequency\": 155, \"value\": \"Medley: Let Me ...\"}, \"Creil City\": {\"frequency\": 398, \"value\": \"Creil City\"}, \"Cousins\": {\"frequency\": 175, \"value\": \"Cousins\"}, \"Flash\": {\"frequency\": 151, \"value\": \"Flash\"}, \"You Only Live Once\": {\"frequency\": 396, \"value\": \"You Only Live Once\"}, \"Monsoon\": {\"frequency\": 180, \"value\": \"Monsoon\"}, \"A Rush Of Blood To The Head\": {\"frequency\": 210, \"value\": \"A Rush Of Blood To ...\"}, \"Life In Technicolor ii\": {\"frequency\": 232, \"value\": \"Life In ...\"}, \"Keep The Car Running\": {\"frequency\": 166, \"value\": \"Keep The Car ...\"}, \"Smile\": {\"frequency\": 474, \"value\": \"Smile\"}, \"My Last Breath\": {\"frequency\": 177, \"value\": \"My Last Breath\"}, \"No One\": {\"frequency\": 250, \"value\": \"No One\"}, \"Digital Love\": {\"frequency\": 261, \"value\": \"Digital Love\"}, \"God Put A Smile Upon Your Face\": {\"frequency\": 154, \"value\": \"God Put A Smile ...\"}, \"McFearless\": {\"frequency\": 185, \"value\": \"McFearless\"}, \"Breathe\": {\"frequency\": 886, \"value\": \"Breathe\"}, \"Crawling (Album Version)\": {\"frequency\": 473, \"value\": \"Crawling (Album ...\"}, \"Dust in The Wind\": {\"frequency\": 211, \"value\": \"Dust in The Wind\"}, \"Woman\": {\"frequency\": 294, \"value\": \"Woman\"}, \"White Sky\": {\"frequency\": 167, \"value\": \"White Sky\"}, \"Feel Good Inc (Album Version)\": {\"frequency\": 195, \"value\": \"Feel Good Inc ...\"}, \"Too Little_ Too Late\": {\"frequency\": 145, \"value\": \"Too Little_ Too ...\"}, \"Don't You Want Me (Original Version)\": {\"frequency\": 155, \"value\": \"Don't You Want Me ...\"}, \"For You\": {\"frequency\": 239, \"value\": \"For You\"}, \"You're Not Alone\": {\"frequency\": 160, \"value\": \"You're Not Alone\"}, \"Undo\": {\"frequency\": 4490, \"value\": \"Undo\"}, \"Gunpowder & Lead\": {\"frequency\": 188, \"value\": \"Gunpowder & Lead\"}, \"Burn It To The Ground (Album Version)\": {\"frequency\": 279, \"value\": \"Burn It To The ...\"}, \"I Can Dance\": {\"frequency\": 226, \"value\": \"I Can Dance\"}, \"Empire State Of Mind (Part II) Broken Down\": {\"frequency\": 270, \"value\": \"Empire State Of ...\"}, \"My Humps\": {\"frequency\": 353, \"value\": \"My Humps\"}, \"Awake\": {\"frequency\": 171, \"value\": \"Awake\"}, \"Is This It\": {\"frequency\": 430, \"value\": \"Is This It\"}, \"You've Got The Love\": {\"frequency\": 885, \"value\": \"You've Got The ...\"}, \"Sunday Morning\": {\"frequency\": 256, \"value\": \"Sunday Morning\"}, \"Surrender\": {\"frequency\": 151, \"value\": \"Surrender\"}, \"Realize\": {\"frequency\": 190, \"value\": \"Realize\"}, \"Thriller\": {\"frequency\": 308, \"value\": \"Thriller\"}, \"Nantes\": {\"frequency\": 202, \"value\": \"Nantes\"}, \"Don't Panic\": {\"frequency\": 322, \"value\": \"Don't Panic\"}, \"Victoria (LP Version)\": {\"frequency\": 250, \"value\": \"Victoria (LP ...\"}, \"Horchata\": {\"frequency\": 189, \"value\": \"Horchata\"}, \"Magic\": {\"frequency\": 358, \"value\": \"Magic\"}, \"Sound Of Madness (Album Version)\": {\"frequency\": 150, \"value\": \"Sound Of Madness ...\"}, \"Go Your Own Way (LP Version)\": {\"frequency\": 218, \"value\": \"Go Your Own Way ...\"}, \"Another Day In Paradise\": {\"frequency\": 169, \"value\": \"Another Day In ...\"}, \"I'm On A Boat\": {\"frequency\": 564, \"value\": \"I'm On A Boat\"}, \"Strange Times\": {\"frequency\": 178, \"value\": \"Strange Times\"}, \"Hotel California\": {\"frequency\": 911, \"value\": \"Hotel California\"}, \"Rocket Queen\": {\"frequency\": 177, \"value\": \"Rocket Queen\"}, \"Crossfire\": {\"frequency\": 192, \"value\": \"Crossfire\"}, \"I'm Back (Album Version)\": {\"frequency\": 161, \"value\": \"I'm Back (Album ...\"}, \"Naughty Girl\": {\"frequency\": 168, \"value\": \"Naughty Girl\"}, \"Sympathy For The Devil\": {\"frequency\": 155, \"value\": \"Sympathy For The ...\"}, \"Bitter Sweet Symphony\": {\"frequency\": 876, \"value\": \"Bitter Sweet ...\"}, \"A Dustland Fairytale\": {\"frequency\": 151, \"value\": \"A Dustland ...\"}, \"Swing Life Away\": {\"frequency\": 240, \"value\": \"Swing Life Away\"}, \"I Hate Pretending (Album Version)\": {\"frequency\": 163, \"value\": \"I Hate Pretending ...\"}, \"Ghosts 'n' Stuff (Original Instrumental Mix)\": {\"frequency\": 678, \"value\": \"Ghosts 'n' Stuff ...\"}, \"Save Tonight\": {\"frequency\": 178, \"value\": \"Save Tonight\"}, \"Rain Is A Good Thing\": {\"frequency\": 196, \"value\": \"Rain Is A Good ...\"}, \"Angel\": {\"frequency\": 432, \"value\": \"Angel\"}, \"Drops Of Jupiter\": {\"frequency\": 313, \"value\": \"Drops Of Jupiter\"}, \"Goodnight Bad Morning\": {\"frequency\": 156, \"value\": \"Goodnight Bad ...\"}, \"I Second That Emotion\": {\"frequency\": 294, \"value\": \"I Second That ...\"}, \"Cold Desert\": {\"frequency\": 299, \"value\": \"Cold Desert\"}, \"Rio\": {\"frequency\": 354, \"value\": \"Rio\"}, \"Clocks\": {\"frequency\": 1505, \"value\": \"Clocks\"}, \"Mockingbird\": {\"frequency\": 971, \"value\": \"Mockingbird\"}, \"Kiss With A Fist\": {\"frequency\": 548, \"value\": \"Kiss With A Fist\"}, \"Birthday Sex\": {\"frequency\": 277, \"value\": \"Birthday Sex\"}, \"Mardy Bum\": {\"frequency\": 163, \"value\": \"Mardy Bum\"}, \"Crank That (Soulja Boy)\": {\"frequency\": 193, \"value\": \"Crank That (Soulja ...\"}, \"Grace Kelly\": {\"frequency\": 211, \"value\": \"Grace Kelly\"}, \"Like You\": {\"frequency\": 224, \"value\": \"Like You\"}, \"Vanilla Twilight\": {\"frequency\": 757, \"value\": \"Vanilla Twilight\"}, \"The Best Day\": {\"frequency\": 141, \"value\": \"The Best Day\"}, \"Superballs\": {\"frequency\": 231, \"value\": \"Superballs\"}, \"Horn Concerto No. 4 in E flat K495: II. Romance (Andante cantabile)\": {\"frequency\": 3268, \"value\": \"Horn Concerto No. ...\"}, \"Supermassive Black Hole (Album Version)\": {\"frequency\": 925, \"value\": \"Supermassive Black ...\"}, \"Jesus Walks\": {\"frequency\": 242, \"value\": \"Jesus Walks\"}, \"Here We Are (Family In The Hallways)\": {\"frequency\": 149, \"value\": \"Here We Are ...\"}, \"Welcome To The Black Parade (Album Version)\": {\"frequency\": 222, \"value\": \"Welcome To The ...\"}, \"Citizen/Soldier\": {\"frequency\": 145, \"value\": \"Citizen/Soldier\"}, \"Roses\": {\"frequency\": 187, \"value\": \"Roses\"}, \"Runaway Love\": {\"frequency\": 281, \"value\": \"Runaway Love\"}, \"Homecoming\": {\"frequency\": 372, \"value\": \"Homecoming\"}, \"For What It's Worth\": {\"frequency\": 156, \"value\": \"For What It's ...\"}, \"On Melancholy Hill\": {\"frequency\": 218, \"value\": \"On Melancholy Hill\"}, \"What They Call Him (Skit)\": {\"frequency\": 154, \"value\": \"What They Call Him ...\"}, \"Babylon\": {\"frequency\": 242, \"value\": \"Babylon\"}, \"EMCEE Murdah\": {\"frequency\": 163, \"value\": \"EMCEE Murdah\"}, \"New Divide (Album Version)\": {\"frequency\": 375, \"value\": \"New Divide (Album ...\"}, \"Hailie's Song\": {\"frequency\": 458, \"value\": \"Hailie's Song\"}, \"This Is How We Do It\": {\"frequency\": 138, \"value\": \"This Is How We Do ...\"}, \"Tied Together With A Smile\": {\"frequency\": 165, \"value\": \"Tied Together With ...\"}, \"Talk Show Host\": {\"frequency\": 145, \"value\": \"Talk Show Host\"}, \"Run\": {\"frequency\": 280, \"value\": \"Run\"}, \"There_ There\": {\"frequency\": 210, \"value\": \"There_ There\"}, \"Without You\": {\"frequency\": 160, \"value\": \"Without You\"}, \"Far Away (Album Version)\": {\"frequency\": 494, \"value\": \"Far Away (Album ...\"}, \"Shelter\": {\"frequency\": 142, \"value\": \"Shelter\"}, \"Flaca\": {\"frequency\": 161, \"value\": \"Flaca\"}, \"Again & Again\": {\"frequency\": 189, \"value\": \"Again & Again\"}, \"LDN\": {\"frequency\": 571, \"value\": \"LDN\"}, \"Moth's Wings\": {\"frequency\": 148, \"value\": \"Moth's Wings\"}, \"Last Cup Of Sorrow\": {\"frequency\": 175, \"value\": \"Last Cup Of Sorrow\"}, \"P.I.M.P.\": {\"frequency\": 191, \"value\": \"P.I.M.P.\"}, \"Intergalactic\": {\"frequency\": 246, \"value\": \"Intergalactic\"}, \"My First Kiss (Feat. Ke$ha) [Album Version]\": {\"frequency\": 334, \"value\": \"My First Kiss ...\"}, \"Burden In My Hand\": {\"frequency\": 254, \"value\": \"Burden In My Hand\"}, \"Estoy Aqu\\ufffd\\ufffd\": {\"frequency\": 412, \"value\": \"Estoy Aqu\\u00ed\"}, \"Helena (So Long & Goodnight) (Album Version)\": {\"frequency\": 251, \"value\": \"Helena (So Long & ...\"}, \"Wait\": {\"frequency\": 184, \"value\": \"Wait\"}, \"A Beggar On A Beach Of Gold\": {\"frequency\": 707, \"value\": \"A Beggar On A ...\"}, \"Higher\": {\"frequency\": 184, \"value\": \"Higher\"}, \"Sala De Recep\\ufffd\\ufffd\\ufffd\\ufffdo\": {\"frequency\": 279, \"value\": \"Sala De Recep\\u00e7\\u00e3o\"}, \"Brianstorm\": {\"frequency\": 149, \"value\": \"Brianstorm\"}, \"Try Sleeping With A Broken Heart\": {\"frequency\": 219, \"value\": \"Try Sleeping With ...\"}, \"Besame\": {\"frequency\": 169, \"value\": \"Besame\"}, \"When You Feel The Mess\": {\"frequency\": 219, \"value\": \"When You Feel The ...\"}, \"California Dreamin'\": {\"frequency\": 343, \"value\": \"California ...\"}, \"Paper Planes\": {\"frequency\": 654, \"value\": \"Paper Planes\"}, \"Janglin\": {\"frequency\": 161, \"value\": \"Janglin\"}, \"Never Know\": {\"frequency\": 247, \"value\": \"Never Know\"}, \"Sexy Bitch\": {\"frequency\": 983, \"value\": \"Sexy Bitch\"}, \"Timeless\": {\"frequency\": 152, \"value\": \"Timeless\"}, \"Lay Your Hands On Me\": {\"frequency\": 138, \"value\": \"Lay Your Hands On ...\"}, \"Money To Blow\": {\"frequency\": 145, \"value\": \"Money To Blow\"}, \"Wagon Wheel\": {\"frequency\": 146, \"value\": \"Wagon Wheel\"}, \"Do We Need This?\": {\"frequency\": 267, \"value\": \"Do We Need This?\"}, \"Teeth\": {\"frequency\": 179, \"value\": \"Teeth\"}, \"Between Two Lungs\": {\"frequency\": 247, \"value\": \"Between Two Lungs\"}, \"Too Young\": {\"frequency\": 185, \"value\": \"Too Young\"}, \"Lithium\": {\"frequency\": 477, \"value\": \"Lithium\"}, \"So Lonely\": {\"frequency\": 336, \"value\": \"So Lonely\"}, \"Latin Static\": {\"frequency\": 143, \"value\": \"Latin Static\"}, \"I Gotta Feeling\": {\"frequency\": 1362, \"value\": \"I Gotta Feeling\"}, \"Shining Down [feat. Matthew Santos] (Amended Album Version)\": {\"frequency\": 174, \"value\": \"Shining Down ...\"}, \"Numb (Album Version)\": {\"frequency\": 164, \"value\": \"Numb (Album ...\"}, \"Don't Worry Be Happy\": {\"frequency\": 192, \"value\": \"Don't Worry Be ...\"}, \"I Hate Everything About You\": {\"frequency\": 230, \"value\": \"I Hate Everything ...\"}, \"The Big Gundown\": {\"frequency\": 219, \"value\": \"The Big Gundown\"}, \"Te Amo\": {\"frequency\": 501, \"value\": \"Te Amo\"}, \"Ain't Misbehavin\": {\"frequency\": 1712, \"value\": \"Ain't Misbehavin\"}, \"I Got Mine\": {\"frequency\": 176, \"value\": \"I Got Mine\"}, \"Volver\\ufffd\\ufffd\": {\"frequency\": 292, \"value\": \"Volver\\u00e9\"}, \"DONTTRUSTME [BENNYBLANCOREMIX] FEATURINGKIDCUDI (Explicit Bonus Version)\": {\"frequency\": 242, \"value\": \"DONTTRUSTME ...\"}, \"LDN (Switch Remix)\": {\"frequency\": 264, \"value\": \"LDN (Switch Remix)\"}, \"Reign Of The Tyrants\": {\"frequency\": 193, \"value\": \"Reign Of The ...\"}, \"Yes\": {\"frequency\": 307, \"value\": \"Yes\"}, \"Nah!\": {\"frequency\": 549, \"value\": \"Nah!\"}, \"You'll Be In My Heart\": {\"frequency\": 359, \"value\": \"You'll Be In My ...\"}, \"Flake\": {\"frequency\": 230, \"value\": \"Flake\"}, \"Swing_ Swing\": {\"frequency\": 233, \"value\": \"Swing_ Swing\"}, \"You And Me (Wedding Version)\": {\"frequency\": 405, \"value\": \"You And Me ...\"}, \"Losing Touch\": {\"frequency\": 244, \"value\": \"Losing Touch\"}, \"Voices On A String (Album Version)\": {\"frequency\": 282, \"value\": \"Voices On A String ...\"}, \"Walk This Way\": {\"frequency\": 186, \"value\": \"Walk This Way\"}, \"Colgando en tus manos (con Marta Sanchez)\": {\"frequency\": 140, \"value\": \"Colgando en tus ...\"}, \"Hey\": {\"frequency\": 245, \"value\": \"Hey\"}, \"Lambada\": {\"frequency\": 155, \"value\": \"Lambada\"}, \"Cudi Zone\": {\"frequency\": 227, \"value\": \"Cudi Zone\"}, \"Addicted\": {\"frequency\": 238, \"value\": \"Addicted\"}, \"Shout\": {\"frequency\": 132, \"value\": \"Shout\"}, \"Pr\\ufffd\\ufffdte A Porter\": {\"frequency\": 213, \"value\": \"Pr\\u00eate A Porter\"}, \"Check Yes Juliet\": {\"frequency\": 206, \"value\": \"Check Yes Juliet\"}, \"The Invisible Man\": {\"frequency\": 302, \"value\": \"The Invisible Man\"}, \"Here_ There And Everywhere\": {\"frequency\": 276, \"value\": \"Here_ There And ...\"}, \"Love\": {\"frequency\": 313, \"value\": \"Love\"}, \"Sorry\": {\"frequency\": 154, \"value\": \"Sorry\"}, \"Billionaire [feat. Bruno Mars]  (Explicit Album Version)\": {\"frequency\": 1660, \"value\": \"Billionaire [feat. ...\"}, \"Makes Me Wonder\": {\"frequency\": 193, \"value\": \"Makes Me Wonder\"}, \"Blame It\": {\"frequency\": 133, \"value\": \"Blame It\"}, \"The Way You Make Me Feel\": {\"frequency\": 197, \"value\": \"The Way You Make ...\"}, \"Pain\": {\"frequency\": 166, \"value\": \"Pain\"}, \"Rayando el sol\": {\"frequency\": 381, \"value\": \"Rayando el sol\"}, \"All Hands Against His Own\": {\"frequency\": 202, \"value\": \"All Hands Against ...\"}, \"Love Song\": {\"frequency\": 360, \"value\": \"Love Song\"}, \"ROCKSTAR 101\": {\"frequency\": 281, \"value\": \"ROCKSTAR 101\"}, \"I'm Sleeping In A Submarine\": {\"frequency\": 166, \"value\": \"I'm Sleeping In A ...\"}, \"Shake\": {\"frequency\": 167, \"value\": \"Shake\"}, \"Don't Start Me Talkin'\": {\"frequency\": 536, \"value\": \"Don't Start Me ...\"}, \"Shadow Of The Day (Album Version)\": {\"frequency\": 158, \"value\": \"Shadow Of The Day ...\"}, \"California\": {\"frequency\": 253, \"value\": \"California\"}, \"Silence\": {\"frequency\": 314, \"value\": \"Silence\"}, \"Lord I Guess I'll Never Know\": {\"frequency\": 185, \"value\": \"Lord I Guess I'll ...\"}, \"Take A Chance On Me\": {\"frequency\": 206, \"value\": \"Take A Chance On ...\"}, \"Trouble\": {\"frequency\": 354, \"value\": \"Trouble\"}, \"Lips Of An Angel\": {\"frequency\": 201, \"value\": \"Lips Of An Angel\"}, \"Every Little Thing She Does Is Magic\": {\"frequency\": 252, \"value\": \"Every Little Thing ...\"}, \"Angie (1993 Digital Remaster)\": {\"frequency\": 328, \"value\": \"Angie (1993 ...\"}, \"Fortune Faded (Album Version)\": {\"frequency\": 269, \"value\": \"Fortune Faded ...\"}, \"Favorite Girl\": {\"frequency\": 282, \"value\": \"Favorite Girl\"}, \"Flashing Lights\": {\"frequency\": 454, \"value\": \"Flashing Lights\"}, \"Luv Me_ Luv Me\": {\"frequency\": 221, \"value\": \"Luv Me_ Luv Me\"}, \"Who Can Compare\": {\"frequency\": 726, \"value\": \"Who Can Compare\"}, \"Tighten Up\": {\"frequency\": 793, \"value\": \"Tighten Up\"}, \"The Climb\": {\"frequency\": 489, \"value\": \"The Climb\"}, \"Sideways\": {\"frequency\": 158, \"value\": \"Sideways\"}, \"Almost Lover (Album Version)\": {\"frequency\": 208, \"value\": \"Almost Lover ...\"}, \"It's Just A Thought\": {\"frequency\": 145, \"value\": \"It's Just A ...\"}, \"Politik\": {\"frequency\": 172, \"value\": \"Politik\"}, \"Moar Ghosts 'n' Stuff\": {\"frequency\": 404, \"value\": \"Moar Ghosts 'n' ...\"}, \"(They Long To Be) Close To You\": {\"frequency\": 172, \"value\": \"(They Long To Be) ...\"}, \"Speed Of Life\": {\"frequency\": 158, \"value\": \"Speed Of Life\"}, \"Fight For Your Life\": {\"frequency\": 204, \"value\": \"Fight For Your ...\"}, \"Heads Will Roll\": {\"frequency\": 494, \"value\": \"Heads Will Roll\"}, \"Chinese\": {\"frequency\": 180, \"value\": \"Chinese\"}, \"Undercover Martyn\": {\"frequency\": 152, \"value\": \"Undercover Martyn\"}, \"Hallelujah (Album Version)\": {\"frequency\": 173, \"value\": \"Hallelujah (Album ...\"}, \"Whisper\": {\"frequency\": 181, \"value\": \"Whisper\"}, \"Fire And Rain\": {\"frequency\": 157, \"value\": \"Fire And Rain\"}, \"Music Box\": {\"frequency\": 205, \"value\": \"Music Box\"}, \"Demon\": {\"frequency\": 316, \"value\": \"Demon\"}, \"Help I'm Alive\": {\"frequency\": 360, \"value\": \"Help I'm Alive\"}, \"What If (Film Version)\": {\"frequency\": 156, \"value\": \"What If (Film ...\"}, \"We Don't Stop (Explicit)\": {\"frequency\": 355, \"value\": \"We Don't Stop ...\"}, \"Revelry\": {\"frequency\": 3671, \"value\": \"Revelry\"}, \"Church\": {\"frequency\": 149, \"value\": \"Church\"}, \"Otherside (Album Version)\": {\"frequency\": 290, \"value\": \"Otherside (Album ...\"}, \"Brothers & Sisters\": {\"frequency\": 209, \"value\": \"Brothers & Sisters\"}, \"What's The Difference\": {\"frequency\": 176, \"value\": \"What's The ...\"}, \"Cooler Than Me\": {\"frequency\": 218, \"value\": \"Cooler Than Me\"}, \"Karma Police\": {\"frequency\": 585, \"value\": \"Karma Police\"}, \"Yesterdays\": {\"frequency\": 303, \"value\": \"Yesterdays\"}, \"It's Not Over\": {\"frequency\": 164, \"value\": \"It's Not Over\"}, \"Hey There Delilah\": {\"frequency\": 806, \"value\": \"Hey There Delilah\"}, \"Se Quiere_ Se Mata\": {\"frequency\": 229, \"value\": \"Se Quiere_ Se Mata\"}, \"Una Confusion\": {\"frequency\": 349, \"value\": \"Una Confusion\"}, \"Head Over Heels\": {\"frequency\": 189, \"value\": \"Head Over Heels\"}, \"Situations\": {\"frequency\": 167, \"value\": \"Situations\"}, \"Ni T\\ufffd\\ufffd Ni Nadie (Versi\\ufffd\\ufffdn Demo)\": {\"frequency\": 147, \"value\": \"Ni T\\u00fa Ni Nadie ...\"}, \"Ring The Alarm\": {\"frequency\": 156, \"value\": \"Ring The Alarm\"}, \"Good Life\": {\"frequency\": 504, \"value\": \"Good Life\"}, \"Frank Sinatra\": {\"frequency\": 256, \"value\": \"Frank Sinatra\"}, \"Perfectly Lonely\": {\"frequency\": 312, \"value\": \"Perfectly Lonely\"}, \"Sample Track 2\": {\"frequency\": 991, \"value\": \"Sample Track 2\"}, \"CIE\\ufffd\\ufffd\": {\"frequency\": 345, \"value\": \"CIE\\u00d1\"}, \"All Star\": {\"frequency\": 359, \"value\": \"All Star\"}, \"Toxic\": {\"frequency\": 643, \"value\": \"Toxic\"}, \"Falling\": {\"frequency\": 203, \"value\": \"Falling\"}, \"Velouria\": {\"frequency\": 213, \"value\": \"Velouria\"}, \"Weird Fishes/Arpeggi\": {\"frequency\": 154, \"value\": \"Weird ...\"}, \"Love Shack\": {\"frequency\": 185, \"value\": \"Love Shack\"}, \"If I Ain't Got You\": {\"frequency\": 446, \"value\": \"If I Ain't Got You\"}, \"Hold On\": {\"frequency\": 360, \"value\": \"Hold On\"}, \"Fever\": {\"frequency\": 186, \"value\": \"Fever\"}, \"Word Up!\": {\"frequency\": 323, \"value\": \"Word Up!\"}, \"High School Musical\": {\"frequency\": 146, \"value\": \"High School ...\"}, \"Sweet Dreams\": {\"frequency\": 220, \"value\": \"Sweet Dreams\"}, \"Heiterkeit\": {\"frequency\": 204, \"value\": \"Heiterkeit\"}, \"Loba\": {\"frequency\": 152, \"value\": \"Loba\"}, \"My Immortal\": {\"frequency\": 615, \"value\": \"My Immortal\"}, \"XRDS\": {\"frequency\": 152, \"value\": \"XRDS\"}, \"Wish\": {\"frequency\": 292, \"value\": \"Wish\"}, \"If It Means A Lot To You\": {\"frequency\": 437, \"value\": \"If It Means A Lot ...\"}, \"Blood\": {\"frequency\": 177, \"value\": \"Blood\"}, \"Day 'N' Nite\": {\"frequency\": 1243, \"value\": \"Day 'N' Nite\"}, \"I'm Gonna Find Another You\": {\"frequency\": 152, \"value\": \"I'm Gonna Find ...\"}, \"Se\\ufffd\\ufffdorita\": {\"frequency\": 218, \"value\": \"Se\\u00f1orita\"}, \"Better Together\": {\"frequency\": 236, \"value\": \"Better Together\"}, \"Te Mando Flores\": {\"frequency\": 137, \"value\": \"Te Mando Flores\"}, \"T\\ufffd\\ufffd\": {\"frequency\": 473, \"value\": \"T\\u00fa\"}, \"All We Are\": {\"frequency\": 149, \"value\": \"All We Are\"}, \"Shine\": {\"frequency\": 205, \"value\": \"Shine\"}, \"A Certain Romance\": {\"frequency\": 181, \"value\": \"A Certain Romance\"}, \"If I Had You\": {\"frequency\": 804, \"value\": \"If I Had You\"}, \"Besos\": {\"frequency\": 142, \"value\": \"Besos\"}, \"First Dance\": {\"frequency\": 303, \"value\": \"First Dance\"}, \"In The End (Album Version)\": {\"frequency\": 820, \"value\": \"In The End (Album ...\"}, \"Closer\": {\"frequency\": 459, \"value\": \"Closer\"}, \"Maybe\": {\"frequency\": 346, \"value\": \"Maybe\"}, \"Hero (Album Version)\": {\"frequency\": 282, \"value\": \"Hero (Album ...\"}, \"It Was A Good Day\": {\"frequency\": 393, \"value\": \"It Was A Good Day\"}, \"These Days\": {\"frequency\": 154, \"value\": \"These Days\"}, \"Just Dance\": {\"frequency\": 1479, \"value\": \"Just Dance\"}, \"Crossroads\": {\"frequency\": 181, \"value\": \"Crossroads\"}, \"Gimme Sympathy\": {\"frequency\": 209, \"value\": \"Gimme Sympathy\"}, \"Found Home\": {\"frequency\": 239, \"value\": \"Found Home\"}, \"Hips Don't Lie\": {\"frequency\": 612, \"value\": \"Hips Don't Lie\"}, \"One Step Closer (Album Version)\": {\"frequency\": 351, \"value\": \"One Step Closer ...\"}, \"Hallelujah\": {\"frequency\": 428, \"value\": \"Hallelujah\"}, \"If I Ever Leave This World Alive\": {\"frequency\": 157, \"value\": \"If I Ever Leave ...\"}, \"My Name Is Jonas\": {\"frequency\": 178, \"value\": \"My Name Is Jonas\"}, \"Alive (2006 Remastered Album Version)\": {\"frequency\": 170, \"value\": \"Alive (2006 ...\"}, \"Dream\": {\"frequency\": 160, \"value\": \"Dream\"}, \"Angie\": {\"frequency\": 323, \"value\": \"Angie\"}, \"Your Hand In Mine\": {\"frequency\": 180, \"value\": \"Your Hand In Mine\"}, \"Aerodynamic (Daft Punk Remix)\": {\"frequency\": 212, \"value\": \"Aerodynamic (Daft ...\"}, \"Caf\\ufffd\\ufffd Del Mar\": {\"frequency\": 145, \"value\": \"Caf\\u00e9 Del Mar\"}, \"Breakdown (Album Version)\": {\"frequency\": 149, \"value\": \"Breakdown (Album ...\"}, \"Holes To Heaven\": {\"frequency\": 196, \"value\": \"Holes To Heaven\"}, \"Mamma\": {\"frequency\": 166, \"value\": \"Mamma\"}, \"Back To You\": {\"frequency\": 150, \"value\": \"Back To You\"}, \"She's Everything\": {\"frequency\": 215, \"value\": \"She's Everything\"}, \"'Till I Collapse\": {\"frequency\": 574, \"value\": \"'Till I Collapse\"}, \"Fantasy\": {\"frequency\": 199, \"value\": \"Fantasy\"}, \"Inside The Fire (Album Version)\": {\"frequency\": 196, \"value\": \"Inside The Fire ...\"}, \"Slam\": {\"frequency\": 174, \"value\": \"Slam\"}, \"I Can't Stay\": {\"frequency\": 145, \"value\": \"I Can't Stay\"}, \"Call It Off (Album Version)\": {\"frequency\": 177, \"value\": \"Call It Off (Album ...\"}, \"You Could Be Mine\": {\"frequency\": 348, \"value\": \"You Could Be Mine\"}, \"Thinking Of You\": {\"frequency\": 348, \"value\": \"Thinking Of You\"}, \"Work It Out\": {\"frequency\": 267, \"value\": \"Work It Out\"}, \"Tired Of Being Sorry\": {\"frequency\": 163, \"value\": \"Tired Of Being ...\"}, \"Crack The Shutters\": {\"frequency\": 175, \"value\": \"Crack The Shutters\"}, \"I Wanna Love You\": {\"frequency\": 184, \"value\": \"I Wanna Love You\"}, \"Cold As You\": {\"frequency\": 434, \"value\": \"Cold As You\"}, \"Second Chance (Album Version)\": {\"frequency\": 199, \"value\": \"Second Chance ...\"}, \"The Pretender\": {\"frequency\": 622, \"value\": \"The Pretender\"}, \"Desert Rose\": {\"frequency\": 136, \"value\": \"Desert Rose\"}, \"Find You Waiting\": {\"frequency\": 185, \"value\": \"Find You Waiting\"}, \"Stuck In The Moment\": {\"frequency\": 423, \"value\": \"Stuck In The ...\"}, \"Sweet home Alabama\": {\"frequency\": 474, \"value\": \"Sweet home Alabama\"}, \"Marshall Mathers\": {\"frequency\": 154, \"value\": \"Marshall Mathers\"}, \"Never Gonna Happen\": {\"frequency\": 187, \"value\": \"Never Gonna Happen\"}, \"Marshall Examines His Carcass\": {\"frequency\": 278, \"value\": \"Marshall Examines ...\"}, \"Buttons\": {\"frequency\": 204, \"value\": \"Buttons\"}, \"When You Were Young\": {\"frequency\": 953, \"value\": \"When You Were ...\"}, \"I'll Be Your Man\": {\"frequency\": 191, \"value\": \"I'll Be Your Man\"}, \"Something Good Can Work\": {\"frequency\": 205, \"value\": \"Something Good Can ...\"}, \"Like A Rolling Stone\": {\"frequency\": 203, \"value\": \"Like A Rolling ...\"}, \"What If (Album Version)\": {\"frequency\": 217, \"value\": \"What If (Album ...\"}, \"End Of The Road\": {\"frequency\": 162, \"value\": \"End Of The Road\"}, \"Can't Help But Wait (Album Version)\": {\"frequency\": 142, \"value\": \"Can't Help But ...\"}, \"DARE\": {\"frequency\": 204, \"value\": \"DARE\"}, \"You Gotta Be\": {\"frequency\": 142, \"value\": \"You Gotta Be\"}, \"Ice Ice Baby (Radio Edit)\": {\"frequency\": 316, \"value\": \"Ice Ice Baby ...\"}, \"I Wonder\": {\"frequency\": 178, \"value\": \"I Wonder\"}, \"Dans Ma Bulle (Edit Radio - Live 2006)\": {\"frequency\": 273, \"value\": \"Dans Ma Bulle ...\"}, \"Message In A Bottle\": {\"frequency\": 390, \"value\": \"Message In A ...\"}, \"All My Friends\": {\"frequency\": 183, \"value\": \"All My Friends\"}, \"Bad Moon Rising\": {\"frequency\": 256, \"value\": \"Bad Moon Rising\"}, \"Forgive Me\": {\"frequency\": 358, \"value\": \"Forgive Me\"}, \"15 Step\": {\"frequency\": 204, \"value\": \"15 Step\"}, \"Oh!\": {\"frequency\": 194, \"value\": \"Oh!\"}, \"Scream\": {\"frequency\": 142, \"value\": \"Scream\"}, \"Untouchable\": {\"frequency\": 146, \"value\": \"Untouchable\"}, \"California Waiting\": {\"frequency\": 170, \"value\": \"California Waiting\"}, \"Black Betty\": {\"frequency\": 174, \"value\": \"Black Betty\"}, \"Don't Speak\": {\"frequency\": 198, \"value\": \"Don't Speak\"}, \"Where'd You Go (Featuring Holly Brook & Jonah Matranga) (Album Version)\": {\"frequency\": 143, \"value\": \"Where'd You Go ...\"}, \"The Day That Never Comes\": {\"frequency\": 166, \"value\": \"The Day That Never ...\"}, \"Epilogue\": {\"frequency\": 341, \"value\": \"Epilogue\"}, \"Rise To The Challenge\": {\"frequency\": 169, \"value\": \"Rise To The ...\"}, \"Change\": {\"frequency\": 423, \"value\": \"Change\"}, \"Lesson Learned\": {\"frequency\": 212, \"value\": \"Lesson Learned\"}, \"Long Black Road\": {\"frequency\": 175, \"value\": \"Long Black Road\"}, \"Tourniquet\": {\"frequency\": 207, \"value\": \"Tourniquet\"}, \"All Tomorrow's Parties\": {\"frequency\": 270, \"value\": \"All Tomorrow's ...\"}, \"Abrazame\": {\"frequency\": 147, \"value\": \"Abrazame\"}, \"People Are Crazy\": {\"frequency\": 172, \"value\": \"People Are Crazy\"}, \"Musti Sotakoira (2007 Digital Remaster)\": {\"frequency\": 188, \"value\": \"Musti Sotakoira ...\"}, \"Fade To Black\": {\"frequency\": 158, \"value\": \"Fade To Black\"}, \"Dig\": {\"frequency\": 275, \"value\": \"Dig\"}, \"Dollhouse\": {\"frequency\": 480, \"value\": \"Dollhouse\"}, \"Alice\": {\"frequency\": 287, \"value\": \"Alice\"}, \"Livin' On A Prayer\": {\"frequency\": 1171, \"value\": \"Livin' On A Prayer\"}, \"Silent Lucidity (2002 Digital Remaster)\": {\"frequency\": 183, \"value\": \"Silent Lucidity ...\"}, \"Sandstorm\": {\"frequency\": 330, \"value\": \"Sandstorm\"}, \"Burn\": {\"frequency\": 140, \"value\": \"Burn\"}, \"V\\ufffd\\ufffdNDORMAD\\ufffd\\ufffdR\": {\"frequency\": 224, \"value\": \"V\\u00c1NDORMAD\\u00c1R\"}, \"Here It Goes Again\": {\"frequency\": 121, \"value\": \"Here It Goes Again\"}, \"Let's Get It On\": {\"frequency\": 241, \"value\": \"Let's Get It On\"}, \"Show Me Love\": {\"frequency\": 147, \"value\": \"Show Me Love\"}, \"Invalid\": {\"frequency\": 1615, \"value\": \"Invalid\"}, \"Voodoo\": {\"frequency\": 190, \"value\": \"Voodoo\"}, \"Bring Me To Life\": {\"frequency\": 2046, \"value\": \"Bring Me To Life\"}, \"The Remedy (I Won't Worry) (New EQ'd LP Version)\": {\"frequency\": 207, \"value\": \"The Remedy (I ...\"}, \"Hands Up\": {\"frequency\": 147, \"value\": \"Hands Up\"}, \"Nine Times Out Of Ten (1998 Digital Remaster)\": {\"frequency\": 183, \"value\": \"Nine Times Out Of ...\"}, \"Escape\": {\"frequency\": 163, \"value\": \"Escape\"}, \"Where You From?\": {\"frequency\": 187, \"value\": \"Where You From?\"}, \"Mona Lisa (When The World Comes Down)\": {\"frequency\": 166, \"value\": \"Mona Lisa (When ...\"}, \"Run Run Run\": {\"frequency\": 165, \"value\": \"Run Run Run\"}, \"My Love\": {\"frequency\": 189, \"value\": \"My Love\"}, \"My Boy Builds Coffins\": {\"frequency\": 320, \"value\": \"My Boy Builds ...\"}, \"Wavin'  Flag\": {\"frequency\": 308, \"value\": \"Wavin'  Flag\"}, \"Seven Nation Army\": {\"frequency\": 801, \"value\": \"Seven Nation Army\"}, \"Kun Puut Tekee Seitti\\ufffd\\ufffd\": {\"frequency\": 152, \"value\": \"Kun Puut Tekee ...\"}, \"Beggin'\": {\"frequency\": 157, \"value\": \"Beggin'\"}, \"Le Jardin d'Hiver\": {\"frequency\": 593, \"value\": \"Le Jardin d'Hiver\"}, \"Satisfaction\": {\"frequency\": 380, \"value\": \"Satisfaction\"}, \"Eenie Meenie\": {\"frequency\": 928, \"value\": \"Eenie Meenie\"}, \"Rabbit Heart (Raise It Up)\": {\"frequency\": 506, \"value\": \"Rabbit Heart ...\"}, \"You Belong With Me\": {\"frequency\": 900, \"value\": \"You Belong With Me\"}, \"Drunken Lullabies\": {\"frequency\": 271, \"value\": \"Drunken Lullabies\"}, \"Bones\": {\"frequency\": 234, \"value\": \"Bones\"}, \"Faith\": {\"frequency\": 245, \"value\": \"Faith\"}, \"Intermission 1\": {\"frequency\": 145, \"value\": \"Intermission 1\"}, \"Learn To Fly\": {\"frequency\": 415, \"value\": \"Learn To Fly\"}, \"Red Right Ankle\": {\"frequency\": 187, \"value\": \"Red Right Ankle\"}, \"Wild World\": {\"frequency\": 340, \"value\": \"Wild World\"}, \"Superstar Talking Blues\": {\"frequency\": 157, \"value\": \"Superstar Talking ...\"}, \"It's My Life\": {\"frequency\": 776, \"value\": \"It's My Life\"}, \"Hey Mama\": {\"frequency\": 343, \"value\": \"Hey Mama\"}, \"The Next Episode\": {\"frequency\": 247, \"value\": \"The Next Episode\"}, \"Harder Better Faster Stronger\": {\"frequency\": 787, \"value\": \"Harder Better ...\"}, \"Talk Me Out Of Tampa\": {\"frequency\": 156, \"value\": \"Talk Me Out Of ...\"}, \"22\": {\"frequency\": 251, \"value\": \"22\"}, \"Until The End Of Time\": {\"frequency\": 430, \"value\": \"Until The End Of ...\"}, \"No Rain\": {\"frequency\": 269, \"value\": \"No Rain\"}, \"Sweet And Wild\": {\"frequency\": 337, \"value\": \"Sweet And Wild\"}, \"Something About Us\": {\"frequency\": 148, \"value\": \"Something About Us\"}, \"El Cuatrero\": {\"frequency\": 179, \"value\": \"El Cuatrero\"}, \"Around The World (Radio Edit)\": {\"frequency\": 430, \"value\": \"Around The World ...\"}, \"Everything Is Everything\": {\"frequency\": 158, \"value\": \"Everything Is ...\"}, \"Fences\": {\"frequency\": 196, \"value\": \"Fences\"}, \"I Think I'll Live\": {\"frequency\": 363, \"value\": \"I Think I'll Live\"}, \"Touch My Body\": {\"frequency\": 146, \"value\": \"Touch My Body\"}, \"The Heart Of Life\": {\"frequency\": 185, \"value\": \"The Heart Of Life\"}, \"Breakdown\": {\"frequency\": 467, \"value\": \"Breakdown\"}, \"Recado Falado (Metr\\ufffd\\ufffd Da Saudade)\": {\"frequency\": 295, \"value\": \"Recado Falado ...\"}, \"Hello\": {\"frequency\": 699, \"value\": \"Hello\"}, \"Holiday\": {\"frequency\": 380, \"value\": \"Holiday\"}, \"All I Ever Wanted\": {\"frequency\": 361, \"value\": \"All I Ever Wanted\"}, \"Forever & Always\": {\"frequency\": 682, \"value\": \"Forever & Always\"}, \"Molly's Chambers\": {\"frequency\": 255, \"value\": \"Molly's Chambers\"}, \"Tides\": {\"frequency\": 158, \"value\": \"Tides\"}, \"Lovefool\": {\"frequency\": 184, \"value\": \"Lovefool\"}, \"Nightly Journey\": {\"frequency\": 160, \"value\": \"Nightly Journey\"}, \"Shoulder to shoulder 2009\": {\"frequency\": 202, \"value\": \"Shoulder to ...\"}, \"Pursuit Of Happiness (nightmare)\": {\"frequency\": 1690, \"value\": \"Pursuit Of ...\"}, \"Unwritten\": {\"frequency\": 162, \"value\": \"Unwritten\"}, \"Complicated\": {\"frequency\": 240, \"value\": \"Complicated\"}, \"Broken\": {\"frequency\": 246, \"value\": \"Broken\"}, \"For Emma\": {\"frequency\": 162, \"value\": \"For Emma\"}, \"Monster (Album Version)\": {\"frequency\": 234, \"value\": \"Monster (Album ...\"}, \"Lex\": {\"frequency\": 157, \"value\": \"Lex\"}, \"Deepest Blue\": {\"frequency\": 188, \"value\": \"Deepest Blue\"}, \"Go To Sleep\": {\"frequency\": 358, \"value\": \"Go To Sleep\"}, \"Ruby\": {\"frequency\": 155, \"value\": \"Ruby\"}, \"Map Of The Problematique\": {\"frequency\": 305, \"value\": \"Map Of The ...\"}, \"Boys Don't Cry\": {\"frequency\": 206, \"value\": \"Boys Don't Cry\"}, \"Check On It\": {\"frequency\": 268, \"value\": \"Check On It\"}, \"Heaven\": {\"frequency\": 532, \"value\": \"Heaven\"}, \"Better Man\": {\"frequency\": 174, \"value\": \"Better Man\"}, \"Nobody (Featuring Athena Cage) (LP Version)\": {\"frequency\": 149, \"value\": \"Nobody (Featuring ...\"}, \"La Despedida\": {\"frequency\": 233, \"value\": \"La Despedida\"}, \"I Put A Spell On You\": {\"frequency\": 213, \"value\": \"I Put A Spell On ...\"}, \"Waking The Demon\": {\"frequency\": 178, \"value\": \"Waking The Demon\"}, \"The Want Ad\": {\"frequency\": 383, \"value\": \"The Want Ad\"}, \"Love Story\": {\"frequency\": 2627, \"value\": \"Love Story\"}, \"Up\": {\"frequency\": 274, \"value\": \"Up\"}, \"The Only Exception (Album Version)\": {\"frequency\": 1354, \"value\": \"The Only Exception ...\"}, \"Untitled\": {\"frequency\": 216, \"value\": \"Untitled\"}, \"Emergency (Album Version)\": {\"frequency\": 165, \"value\": \"Emergency (Album ...\"}, \"Touched By The Sun\": {\"frequency\": 147, \"value\": \"Touched By The Sun\"}, \"Somebody Told Me\": {\"frequency\": 305, \"value\": \"Somebody Told Me\"}, \"Goodbye\": {\"frequency\": 359, \"value\": \"Goodbye\"}, \"If I Never See Your Face Again\": {\"frequency\": 231, \"value\": \"If I Never See ...\"}, \"Times Like These\": {\"frequency\": 746, \"value\": \"Times Like These\"}, \"Pass Out (Instrumental)\": {\"frequency\": 166, \"value\": \"Pass Out ...\"}, \"Buddy Holly\": {\"frequency\": 264, \"value\": \"Buddy Holly\"}, \"21 Guns [feat. Green Day & The Cast Of American Idiot] (Album Version)\": {\"frequency\": 205, \"value\": \"21 Guns [feat. ...\"}, \"Breakfast At Tiffany's\": {\"frequency\": 251, \"value\": \"Breakfast At ...\"}, \"Love All The Pain Away\": {\"frequency\": 136, \"value\": \"Love All The Pain ...\"}, \"Como Duele (Album)\": {\"frequency\": 147, \"value\": \"Como Duele (Album)\"}, \"Always\": {\"frequency\": 673, \"value\": \"Always\"}, \"Kut-Off\": {\"frequency\": 171, \"value\": \"Kut-Off\"}, \"Read My Mind\": {\"frequency\": 416, \"value\": \"Read My Mind\"}, \"I'm Still Breathing\": {\"frequency\": 206, \"value\": \"I'm Still ...\"}, \"You Never Miss The Water Until The Well Runs Dry\": {\"frequency\": 193, \"value\": \"You Never Miss The ...\"}, \"Reelin' In The Years\": {\"frequency\": 149, \"value\": \"Reelin' In The ...\"}, \"Relax\": {\"frequency\": 173, \"value\": \"Relax\"}, \"The Man Who Sold The World\": {\"frequency\": 287, \"value\": \"The Man Who Sold ...\"}, \"LoveStoned/I Think She Knows\": {\"frequency\": 273, \"value\": \"LoveStoned/I Think ...\"}, \"A-Punk (Album)\": {\"frequency\": 496, \"value\": \"A-Punk (Album)\"}, \"Valentine\": {\"frequency\": 148, \"value\": \"Valentine\"}, \"Savin' Me\": {\"frequency\": 385, \"value\": \"Savin' Me\"}, \"Zero\": {\"frequency\": 245, \"value\": \"Zero\"}, \"Replay\": {\"frequency\": 327, \"value\": \"Replay\"}, \"Mushaboom\": {\"frequency\": 200, \"value\": \"Mushaboom\"}, \"Le Soir\": {\"frequency\": 263, \"value\": \"Le Soir\"}, \"Strawberry Swing\": {\"frequency\": 230, \"value\": \"Strawberry Swing\"}, \"Outro\": {\"frequency\": 269, \"value\": \"Outro\"}, \"Let It Go\": {\"frequency\": 187, \"value\": \"Let It Go\"}, \"Fireflies\": {\"frequency\": 2744, \"value\": \"Fireflies\"}, \"All The Right Moves\": {\"frequency\": 972, \"value\": \"All The Right ...\"}, \"Invitation To Understanding\": {\"frequency\": 146, \"value\": \"Invitation To ...\"}, \"Too Shy\": {\"frequency\": 213, \"value\": \"Too Shy\"}, \"Wonderwall\": {\"frequency\": 144, \"value\": \"Wonderwall\"}, \"Starlight\": {\"frequency\": 263, \"value\": \"Starlight\"}, \"White Winter Hymnal\": {\"frequency\": 185, \"value\": \"White Winter ...\"}, \"Youth Against Fascism\": {\"frequency\": 148, \"value\": \"Youth Against ...\"}, \"Natural Anthem (Album)\": {\"frequency\": 233, \"value\": \"Natural Anthem ...\"}, \"Shot You Down (Radio Edit) (Feat. Nancy Sinatra)\": {\"frequency\": 151, \"value\": \"Shot You Down ...\"}, \"Heartbeats\": {\"frequency\": 224, \"value\": \"Heartbeats\"}, \"Catch You Baby (Steve Pitron & Max Sanna Radio Edit)\": {\"frequency\": 2100, \"value\": \"Catch You Baby ...\"}, \"All At Once\": {\"frequency\": 159, \"value\": \"All At Once\"}, \"Young\": {\"frequency\": 255, \"value\": \"Young\"}, \"Poison\": {\"frequency\": 311, \"value\": \"Poison\"}, \"Paint The Town Red\": {\"frequency\": 217, \"value\": \"Paint The Town Red\"}, \"Everything\": {\"frequency\": 361, \"value\": \"Everything\"}, \"Back Against The Wall\": {\"frequency\": 369, \"value\": \"Back Against The ...\"}, \"Not Fair\": {\"frequency\": 216, \"value\": \"Not Fair\"}, \"Elevator\": {\"frequency\": 204, \"value\": \"Elevator\"}, \"Provider\": {\"frequency\": 271, \"value\": \"Provider\"}, \"Live And Let Die\": {\"frequency\": 500, \"value\": \"Live And Let Die\"}, \"Rock Star\": {\"frequency\": 1055, \"value\": \"Rock Star\"}, \"It's Been Awhile (Clean Edit)\": {\"frequency\": 171, \"value\": \"It's Been Awhile ...\"}, \"Someone Else Calling You Baby\": {\"frequency\": 180, \"value\": \"Someone Else ...\"}, \"Good Girls Go Bad (Feat.Leighton Meester) (Album Version)\": {\"frequency\": 216, \"value\": \"Good Girls Go Bad ...\"}, \"Whatcha Say\": {\"frequency\": 855, \"value\": \"Whatcha Say\"}, \"Flume\": {\"frequency\": 242, \"value\": \"Flume\"}, \"Replay (Album Version)\": {\"frequency\": 181, \"value\": \"Replay (Album ...\"}, \"I?'m A Steady Rollin? Man\": {\"frequency\": 164, \"value\": \"I?'m A Steady ...\"}, \"Infinity\": {\"frequency\": 213, \"value\": \"Infinity\"}, \"See You Again\": {\"frequency\": 159, \"value\": \"See You Again\"}, \"Through The Fire And Flames (Album Version)\": {\"frequency\": 178, \"value\": \"Through The Fire ...\"}, \"Spell\": {\"frequency\": 198, \"value\": \"Spell\"}, \"The Trouble With Love Is\": {\"frequency\": 164, \"value\": \"The Trouble With ...\"}, \"#40\": {\"frequency\": 147, \"value\": \"#40\"}, \"All The Pretty Faces\": {\"frequency\": 154, \"value\": \"All The Pretty ...\"}, \"New Soul\": {\"frequency\": 185, \"value\": \"New Soul\"}, \"Supermassive Black Hole (Twilight Soundtrack Version)\": {\"frequency\": 930, \"value\": \"Supermassive Black ...\"}, \"I Will Follow You into the Dark (Album Version)\": {\"frequency\": 397, \"value\": \"I Will Follow You ...\"}, \"Haunted\": {\"frequency\": 177, \"value\": \"Haunted\"}, \"Lookin' Out My Back Door\": {\"frequency\": 160, \"value\": \"Lookin' Out My ...\"}, \"Come Fly With Me (Album Version)\": {\"frequency\": 217, \"value\": \"Come Fly With Me ...\"}, \"Damn Girl\": {\"frequency\": 261, \"value\": \"Damn Girl\"}, \"Hochmah (Interlude)\": {\"frequency\": 426, \"value\": \"Hochmah ...\"}, \"Human After All\": {\"frequency\": 196, \"value\": \"Human After All\"}, \"Enter Sandman\": {\"frequency\": 489, \"value\": \"Enter Sandman\"}, \"Runaway\": {\"frequency\": 148, \"value\": \"Runaway\"}, \"Hero\": {\"frequency\": 523, \"value\": \"Hero\"}, \"Killing In The Name\": {\"frequency\": 295, \"value\": \"Killing In The ...\"}, \"Boombastic\": {\"frequency\": 229, \"value\": \"Boombastic\"}, \"Guaranteed\": {\"frequency\": 166, \"value\": \"Guaranteed\"}, \"Llamado De Emergencia\": {\"frequency\": 147, \"value\": \"Llamado De ...\"}, \"I'm With You\": {\"frequency\": 421, \"value\": \"I'm With You\"}, \"I'll Be Missing You (Featuring Faith Evans & 112)(Album Version)\": {\"frequency\": 335, \"value\": \"I'll Be Missing ...\"}, \"Peaceful Valley\": {\"frequency\": 152, \"value\": \"Peaceful Valley\"}, \"Running Away\": {\"frequency\": 203, \"value\": \"Running Away\"}, \"Rehab\": {\"frequency\": 317, \"value\": \"Rehab\"}, \"Ignorance (Album Version)\": {\"frequency\": 206, \"value\": \"Ignorance (Album ...\"}, \"Sky Might Fall\": {\"frequency\": 151, \"value\": \"Sky Might Fall\"}, \"A Whiter Shade Of Pale\": {\"frequency\": 145, \"value\": \"A Whiter Shade Of ...\"}, \"Fancy Footwork\": {\"frequency\": 200, \"value\": \"Fancy Footwork\"}, \"It Wasn't Me\": {\"frequency\": 166, \"value\": \"It Wasn't Me\"}, \"Never Gonna Be Alone (Album Version)\": {\"frequency\": 321, \"value\": \"Never Gonna Be ...\"}, \"I Need You (Album Version)\": {\"frequency\": 135, \"value\": \"I Need You (Album ...\"}, \"Girl Money\": {\"frequency\": 196, \"value\": \"Girl Money\"}, \"Solo Dolo (nightmare)\": {\"frequency\": 142, \"value\": \"Solo Dolo ...\"}, \"Last Nite\": {\"frequency\": 152, \"value\": \"Last Nite\"}, \"Say What You Say\": {\"frequency\": 195, \"value\": \"Say What You Say\"}, \"Psychotic Girl\": {\"frequency\": 227, \"value\": \"Psychotic Girl\"}, \"My Paper Heart\": {\"frequency\": 309, \"value\": \"My Paper Heart\"}, \"I Never Told You\": {\"frequency\": 291, \"value\": \"I Never Told You\"}, \"You're The One\": {\"frequency\": 4265, \"value\": \"You're The One\"}, \"Through The Wire\": {\"frequency\": 410, \"value\": \"Through The Wire\"}, \"Drop The World\": {\"frequency\": 2226, \"value\": \"Drop The World\"}, \"Patience\": {\"frequency\": 329, \"value\": \"Patience\"}, \"3AM (LP Version)\": {\"frequency\": 214, \"value\": \"3AM (LP Version)\"}, \"En Glad Calypso Om V\\ufffd\\ufffdren (Live '62)\": {\"frequency\": 190, \"value\": \"En Glad Calypso Om ...\"}, \"For Once In My Life (Album Version)\": {\"frequency\": 170, \"value\": \"For Once In My ...\"}, \"All My Life\": {\"frequency\": 166, \"value\": \"All My Life\"}, \"Blindsided\": {\"frequency\": 140, \"value\": \"Blindsided\"}, \"Hilarious Movie Of The 90s\": {\"frequency\": 161, \"value\": \"Hilarious Movie Of ...\"}, \"Have Faith In Me\": {\"frequency\": 172, \"value\": \"Have Faith In Me\"}, \"Up Up & Away\": {\"frequency\": 627, \"value\": \"Up Up & Away\"}, \"You Know I'm No Good\": {\"frequency\": 418, \"value\": \"You Know I'm No ...\"}, \"Wish You Were Here\": {\"frequency\": 234, \"value\": \"Wish You Were Here\"}, \"Vertigo\": {\"frequency\": 152, \"value\": \"Vertigo\"}, \"Personal Jesus\": {\"frequency\": 248, \"value\": \"Personal Jesus\"}, \"Starry Eyed\": {\"frequency\": 143, \"value\": \"Starry Eyed\"}, \"Tears Don't Fall\": {\"frequency\": 227, \"value\": \"Tears Don't Fall\"}, \"Don't Leave Me\": {\"frequency\": 155, \"value\": \"Don't Leave Me\"}, \"STARSTRUKK [FEATURINGKATYPERRY] (Explicit Bonus Version)\": {\"frequency\": 297, \"value\": \"STARSTRUKK [FEATUR ...\"}, \"The Last Song\": {\"frequency\": 182, \"value\": \"The Last Song\"}, \"Never Enough\": {\"frequency\": 193, \"value\": \"Never Enough\"}, \"Moondance (Album Version)\": {\"frequency\": 154, \"value\": \"Moondance (Album ...\"}, \"The Saltwater Room\": {\"frequency\": 218, \"value\": \"The Saltwater Room\"}, \"Bat Country (Album Version)\": {\"frequency\": 144, \"value\": \"Bat Country (Album ...\"}, \"Shiver\": {\"frequency\": 564, \"value\": \"Shiver\"}, \"Can't Take My Eyes Off You\": {\"frequency\": 221, \"value\": \"Can't Take My Eyes ...\"}, \"Lava Lava\": {\"frequency\": 163, \"value\": \"Lava Lava\"}, \"Summertime\": {\"frequency\": 191, \"value\": \"Summertime\"}, \"Ironic (Acoustic Album Version)\": {\"frequency\": 278, \"value\": \"Ironic (Acoustic ...\"}, \"(iii)\": {\"frequency\": 270, \"value\": \"(iii)\"}, \"Goodbye My Lover\": {\"frequency\": 198, \"value\": \"Goodbye My Lover\"}, \"Sunshine Of Your Love\": {\"frequency\": 149, \"value\": \"Sunshine Of Your ...\"}, \"Manhattan\": {\"frequency\": 229, \"value\": \"Manhattan\"}, \"Don't Cry (Original)\": {\"frequency\": 398, \"value\": \"Don't Cry ...\"}, \"Monster\": {\"frequency\": 483, \"value\": \"Monster\"}, \"Oxford Comma (Album)\": {\"frequency\": 340, \"value\": \"Oxford Comma ...\"}, \"Master Of Puppets\": {\"frequency\": 862, \"value\": \"Master Of Puppets\"}, \"Sunshine\": {\"frequency\": 166, \"value\": \"Sunshine\"}, \"42\": {\"frequency\": 167, \"value\": \"42\"}, \"Demasiado Bueno\": {\"frequency\": 191, \"value\": \"Demasiado Bueno\"}, \"Warning Sign\": {\"frequency\": 204, \"value\": \"Warning Sign\"}, \"Already Gone\": {\"frequency\": 453, \"value\": \"Already Gone\"}, \"Oh_ The Devastation\": {\"frequency\": 137, \"value\": \"Oh_ The ...\"}, \"Sway (Album Version)\": {\"frequency\": 261, \"value\": \"Sway (Album ...\"}, \"First Day Of My Life (Single Version)\": {\"frequency\": 232, \"value\": \"First Day Of My ...\"}, \"Move Along\": {\"frequency\": 418, \"value\": \"Move Along\"}, \"Savior\": {\"frequency\": 754, \"value\": \"Savior\"}, \"Fix You\": {\"frequency\": 1034, \"value\": \"Fix You\"}, \"Listen To Your Heart\": {\"frequency\": 159, \"value\": \"Listen To Your ...\"}, \"Rollin' (Air Raid Vehicle)\": {\"frequency\": 206, \"value\": \"Rollin' (Air Raid ...\"}, \"Jack & Diane\": {\"frequency\": 172, \"value\": \"Jack & Diane\"}, \"Sugar Ray (LP Version)\": {\"frequency\": 760, \"value\": \"Sugar Ray (LP ...\"}, \"My Heart Will Go On\": {\"frequency\": 233, \"value\": \"My Heart Will Go ...\"}, \"Butterfly\": {\"frequency\": 174, \"value\": \"Butterfly\"}, \"Monkey Man\": {\"frequency\": 165, \"value\": \"Monkey Man\"}, \"Crack A Bottle\": {\"frequency\": 786, \"value\": \"Crack A Bottle\"}, \"Lo  Que Tengo Yo Adentro\": {\"frequency\": 139, \"value\": \"Lo  Que Tengo Yo ...\"}, \"Where I Stand\": {\"frequency\": 211, \"value\": \"Where I Stand\"}, \"May It Be (Album version)\": {\"frequency\": 237, \"value\": \"May It Be (Album ...\"}, \"Picture\": {\"frequency\": 325, \"value\": \"Picture\"}, \"Secrets\": {\"frequency\": 3456, \"value\": \"Secrets\"}, \"Snow [Hey Oh] (Album Version)\": {\"frequency\": 246, \"value\": \"Snow [Hey Oh] ...\"}, \"Welk\": {\"frequency\": 214, \"value\": \"Welk\"}, \"Nearly Home\": {\"frequency\": 195, \"value\": \"Nearly Home\"}, \"Drive\": {\"frequency\": 475, \"value\": \"Drive\"}, \"Crazy Bitch (Album Version)\": {\"frequency\": 292, \"value\": \"Crazy Bitch (Album ...\"}, \"Under The Gun\": {\"frequency\": 161, \"value\": \"Under The Gun\"}, \"Never Gonna Give You Up\": {\"frequency\": 160, \"value\": \"Never Gonna Give ...\"}, \"Let's Get It Started\": {\"frequency\": 215, \"value\": \"Let's Get It ...\"}, \"Hell Breaks Loose\": {\"frequency\": 140, \"value\": \"Hell Breaks Loose\"}, \"Non E_ Per Te_ Per Me\": {\"frequency\": 270, \"value\": \"Non E_ Per Te_ Per ...\"}, \"Romeo And Juliet\": {\"frequency\": 178, \"value\": \"Romeo And Juliet\"}, \"Road Trippin' (Album Version)\": {\"frequency\": 405, \"value\": \"Road Trippin' ...\"}, \"I'm So Sick\": {\"frequency\": 161, \"value\": \"I'm So Sick\"}, \"Prince Caspian\": {\"frequency\": 145, \"value\": \"Prince Caspian\"}, \"Infinity 2008\": {\"frequency\": 156, \"value\": \"Infinity 2008\"}, \"Beautiful_ Dirty_ Rich\": {\"frequency\": 218, \"value\": \"Beautiful_ Dirty_ ...\"}, \"Unintended\": {\"frequency\": 144, \"value\": \"Unintended\"}, \"Me & Mr Jones\": {\"frequency\": 312, \"value\": \"Me & Mr Jones\"}, \"Unchained Melody\": {\"frequency\": 195, \"value\": \"Unchained Melody\"}, \"Illuminati\": {\"frequency\": 141, \"value\": \"Illuminati\"}, \"With Or Without You\": {\"frequency\": 248, \"value\": \"With Or Without ...\"}, \"Dreams-Come-True-Girl\": {\"frequency\": 180, \"value\": \"Dreams-Come-True- ...\"}, \"Ragoo\": {\"frequency\": 161, \"value\": \"Ragoo\"}, \"Electric Avenue\": {\"frequency\": 268, \"value\": \"Electric Avenue\"}, \"Frenchy\\u0019s\": {\"frequency\": 216, \"value\": \"Frenchy\\u0019s\"}, \"Paradise City\": {\"frequency\": 747, \"value\": \"Paradise City\"}, \"The General\": {\"frequency\": 189, \"value\": \"The General\"}, \"Torn\": {\"frequency\": 210, \"value\": \"Torn\"}, \"Handlebars (UK Radio Edit)\": {\"frequency\": 167, \"value\": \"Handlebars (UK ...\"}, \"Basic Space\": {\"frequency\": 206, \"value\": \"Basic Space\"}, \"There Is A Light That Never Goes Out\": {\"frequency\": 212, \"value\": \"There Is A Light ...\"}, \"She Said\": {\"frequency\": 143, \"value\": \"She Said\"}}, \"size\": 1491952}, \"song_name\": {\"complete\": true, \"numeric\": false, \"num_unique\": 166875, \"num_undefined\": 0, \"progress\": 1.0, \"frequent_items\": {\"Dreams-Come-True-Girl (Cass McCombs feat. Karen Black)\": {\"frequency\": 179, \"value\": \"Dreams-Come-True- ...\"}, \"Streets Of New York (City Life) (Alicia Keys)\": {\"frequency\": 273, \"value\": \"Streets Of New ...\"}, \"The Day That Never Comes (Metallica)\": {\"frequency\": 167, \"value\": \"The Day That Never ...\"}, \"Save Tonight (Eagle-Eye Cherry)\": {\"frequency\": 156, \"value\": \"Save Tonight ...\"}, \"Is This It (The Strokes)\": {\"frequency\": 421, \"value\": \"Is This It (The ...\"}, \"Verde Que Te Quero Rosa (Cartola)\": {\"frequency\": 198, \"value\": \"Verde Que Te Quero ...\"}, \"CIE\\ufffd\\ufffd (Milczenie Owiec)\": {\"frequency\": 339, \"value\": \"CIE\\u00d1 (Milczenie ...\"}, \"Mariposa traicionera (Man\\ufffd\\ufffd)\": {\"frequency\": 136, \"value\": \"Mariposa ...\"}, \"Starry Eyed (Ellie Goulding)\": {\"frequency\": 135, \"value\": \"Starry Eyed (Ellie ...\"}, \"Frenchy\\u0019s (Holy Fuck)\": {\"frequency\": 222, \"value\": \"Frenchy\\u0019s (Holy ...\"}, \"Waking The Demon (Bullet For My Valentine)\": {\"frequency\": 178, \"value\": \"Waking The Demon ...\"}, \"Empty Skies (Kosheen)\": {\"frequency\": 231, \"value\": \"Empty Skies ...\"}, \"Non E_ Per Te_ Per Me (Alejandro Sanz)\": {\"frequency\": 271, \"value\": \"Non E_ Per Te_ Per ...\"}, \"The Real Slim Shady (Eminem)\": {\"frequency\": 1464, \"value\": \"The Real Slim ...\"}, \"One Headlight (The Wallflowers)\": {\"frequency\": 203, \"value\": \"One Headlight (The ...\"}, \"Disco Heaven (Lady GaGa)\": {\"frequency\": 149, \"value\": \"Disco Heaven (Lady ...\"}, \"(Nice Dream) (Radiohead)\": {\"frequency\": 221, \"value\": \"(Nice Dream) ...\"}, \"No One (Alicia Keys)\": {\"frequency\": 212, \"value\": \"No One (Alicia ...\"}, \"High Voltage (Linkin Park)\": {\"frequency\": 146, \"value\": \"High Voltage ...\"}, \"Se Quiere_ Se Mata (Shakira)\": {\"frequency\": 225, \"value\": \"Se Quiere_ Se Mata ...\"}, \"Video Killed The Radio Star (The Buggles)\": {\"frequency\": 549, \"value\": \"Video Killed The ...\"}, \"21 Guns [feat. Green Day & The Cast Of American Idiot] (Album Version) (Green Day)\": {\"frequency\": 189, \"value\": \"21 Guns [feat. ...\"}, \"New Soul (Yael Na\\ufffd\\ufffdm)\": {\"frequency\": 172, \"value\": \"New Soul (Yael ...\"}, \"Breakdown (Jack Johnson)\": {\"frequency\": 415, \"value\": \"Breakdown (Jack ...\"}, \"You Only Live Once (The Strokes)\": {\"frequency\": 399, \"value\": \"You Only Live Once ...\"}, \"Basic Space (The xx)\": {\"frequency\": 208, \"value\": \"Basic Space (The ...\"}, \"Grace Kelly (MIKA)\": {\"frequency\": 213, \"value\": \"Grace Kelly (MIKA)\"}, \"Monster (Album Version) (Skillet)\": {\"frequency\": 195, \"value\": \"Monster (Album ...\"}, \"Under Pressure (Queen)\": {\"frequency\": 475, \"value\": \"Under Pressure ...\"}, \"Come As You Are (Nirvana)\": {\"frequency\": 446, \"value\": \"Come As You Are ...\"}, \"Silence (Delerium feat. Sarah McLachlan)\": {\"frequency\": 242, \"value\": \"Silence (Delerium ...\"}, \"Family Business (Kanye West)\": {\"frequency\": 184, \"value\": \"Family Business ...\"}, \"Home (Album Version) (Michael Bubl\\ufffd\\ufffd)\": {\"frequency\": 317, \"value\": \"Home (Album ...\"}, \"Hey Mama (Black Eyed Peas)\": {\"frequency\": 174, \"value\": \"Hey Mama (Black ...\"}, \"Everlong (Foo Fighters)\": {\"frequency\": 843, \"value\": \"Everlong (Foo ...\"}, \"California Waiting (Kings Of Leon)\": {\"frequency\": 173, \"value\": \"California Waiting ...\"}, \"All These Things That I've Done (The Killers)\": {\"frequency\": 259, \"value\": \"All These Things ...\"}, \"Rock And Roll All Nite (Kiss)\": {\"frequency\": 234, \"value\": \"Rock And Roll All ...\"}, \"Follow Me (Explicit LP Version) (Uncle Kracker)\": {\"frequency\": 228, \"value\": \"Follow Me ...\"}, \"Speed Of Sound (Coldplay)\": {\"frequency\": 493, \"value\": \"Speed Of Sound ...\"}, \"Janglin (Edward Sharpe & The Magnetic Zeros)\": {\"frequency\": 159, \"value\": \"Janglin (Edward ...\"}, \"Push (Enrique Iglesias / Lil Wayne)\": {\"frequency\": 155, \"value\": \"Push (Enrique ...\"}, \"My Happy Ending (Avril Lavigne)\": {\"frequency\": 403, \"value\": \"My Happy Ending ...\"}, \"Stacy's Mom (Fountains Of Wayne)\": {\"frequency\": 163, \"value\": \"Stacy's Mom ...\"}, \"Snow [Hey Oh] (Album Version) (Red Hot Chili Peppers)\": {\"frequency\": 244, \"value\": \"Snow [Hey Oh] ...\"}, \"Yellow Ledbetter (Pearl Jam)\": {\"frequency\": 197, \"value\": \"Yellow Ledbetter ...\"}, \"Empire State Of Mind (Part II) Broken Down (Alicia Keys)\": {\"frequency\": 263, \"value\": \"Empire State Of ...\"}, \"Hallelujah (Album Version) (Paramore)\": {\"frequency\": 165, \"value\": \"Hallelujah (Album ...\"}, \"I And Love And You (The Avett Brothers)\": {\"frequency\": 166, \"value\": \"I And Love And You ...\"}, \"Thriller (Michael Jackson)\": {\"frequency\": 291, \"value\": \"Thriller (Michael ...\"}, \"Voices On A String (Album Version) (Thursday)\": {\"frequency\": 272, \"value\": \"Voices On A String ...\"}, \"T\\ufffd\\ufffd (Shakira)\": {\"frequency\": 430, \"value\": \"T\\u00fa (Shakira)\"}, \"Given Up (Album Version) (Linkin Park)\": {\"frequency\": 205, \"value\": \"Given Up (Album ...\"}, \"Tides (Tarot)\": {\"frequency\": 154, \"value\": \"Tides (Tarot)\"}, \"Shots (LMFAO / Lil Jon)\": {\"frequency\": 614, \"value\": \"Shots (LMFAO / Lil ...\"}, \"Use Somebody (Kings Of Leon)\": {\"frequency\": 3823, \"value\": \"Use Somebody ...\"}, \"Stuck In The Moment (Justin Bieber)\": {\"frequency\": 420, \"value\": \"Stuck In The ...\"}, \"What I've Done (Album Version) (Linkin Park)\": {\"frequency\": 529, \"value\": \"What I've Done ...\"}, \"Savior (Rise Against)\": {\"frequency\": 754, \"value\": \"Savior (Rise ...\"}, \"Solo Dolo (nightmare) (Kid Cudi)\": {\"frequency\": 140, \"value\": \"Solo Dolo ...\"}, \"Bulletproof (La Roux)\": {\"frequency\": 1425, \"value\": \"Bulletproof (La ...\"}, \"Firestarter (The Prodigy)\": {\"frequency\": 171, \"value\": \"Firestarter (The ...\"}, \"Invitation To Understanding (MxPx)\": {\"frequency\": 149, \"value\": \"Invitation To ...\"}, \"Blurry (Puddle Of Mudd)\": {\"frequency\": 173, \"value\": \"Blurry (Puddle Of ...\"}, \"Billionaire [feat. Bruno Mars]  (Explicit Album Version) (Travie McCoy)\": {\"frequency\": 1661, \"value\": \"Billionaire [feat. ...\"}, \"Kiss (LP Version) (Prince & The Revolution)\": {\"frequency\": 232, \"value\": \"Kiss (LP Version) ...\"}, \"LoveStoned/I Think She Knows (Justin Timberlake)\": {\"frequency\": 266, \"value\": \"LoveStoned/I Think ...\"}, \"I Got Mine (The Black Keys)\": {\"frequency\": 162, \"value\": \"I Got Mine (The ...\"}, \"What They Call Him (Skit) (Cocoa Brovas)\": {\"frequency\": 154, \"value\": \"What They Call Him ...\"}, \"Whispers In The Dark (Radio Edit) (Skillet)\": {\"frequency\": 163, \"value\": \"Whispers In The ...\"}, \"Dead And Gone [feat. Justin Timberlake] (Explicit Album Version) (T.I.)\": {\"frequency\": 206, \"value\": \"Dead And Gone ...\"}, \"Speechless (Lady GaGa)\": {\"frequency\": 234, \"value\": \"Speechless (Lady ...\"}, \"What You Know (Two Door Cinema Club)\": {\"frequency\": 359, \"value\": \"What You Know (Two ...\"}, \"Better Together (Jack Johnson)\": {\"frequency\": 245, \"value\": \"Better Together ...\"}, \"Surf Wax America (Weezer)\": {\"frequency\": 210, \"value\": \"Surf Wax America ...\"}, \"Vanilla Twilight (Owl City)\": {\"frequency\": 759, \"value\": \"Vanilla Twilight ...\"}, \"Lesson Learned (Alicia Keys featuring John Mayer)\": {\"frequency\": 150, \"value\": \"Lesson Learned ...\"}, \"Hell Breaks Loose (Eminem / Dr. Dre)\": {\"frequency\": 142, \"value\": \"Hell Breaks Loose ...\"}, \"Lord I Guess I'll Never Know (The Verve)\": {\"frequency\": 179, \"value\": \"Lord I Guess I'll ...\"}, \"Drop The World (Lil Wayne / Eminem)\": {\"frequency\": 2227, \"value\": \"Drop The World ...\"}, \"Somebody To Love (Justin Bieber)\": {\"frequency\": 3175, \"value\": \"Somebody To Love ...\"}, \"Weird Fishes/Arpeggi (Radiohead)\": {\"frequency\": 142, \"value\": \"Weird ...\"}, \"I Wonder (Kanye West)\": {\"frequency\": 164, \"value\": \"I Wonder (Kanye ...\"}, \"Lullaby (Jack Johnson / Matt Costa)\": {\"frequency\": 164, \"value\": \"Lullaby (Jack ...\"}, \"You Never Miss The Water Until The Well Runs Dry (Lindisfarne)\": {\"frequency\": 194, \"value\": \"You Never Miss The ...\"}, \"Rising Moon (ATB)\": {\"frequency\": 138, \"value\": \"Rising Moon (ATB)\"}, \"The Downfall Of Us All (A Day To Remember)\": {\"frequency\": 216, \"value\": \"The Downfall Of Us ...\"}, \"Learn To Fly (Foo Fighters)\": {\"frequency\": 414, \"value\": \"Learn To Fly (Foo ...\"}, \"It's Time I Go (Jazz) (Joyce Cooling)\": {\"frequency\": 142, \"value\": \"It's Time I Go ...\"}, \"In My Place (Coldplay)\": {\"frequency\": 528, \"value\": \"In My Place ...\"}, \"Breakfast At Tiffany's (Deep Blue Something)\": {\"frequency\": 251, \"value\": \"Breakfast At ...\"}, \"M79 (Album) (Vampire Weekend)\": {\"frequency\": 142, \"value\": \"M79 (Album) ...\"}, \"Bitter Sweet Symphony (The Verve)\": {\"frequency\": 885, \"value\": \"Bitter Sweet ...\"}, \"Message In A Bottle (The Police)\": {\"frequency\": 376, \"value\": \"Message In A ...\"}, \"Hold Me_ Thrill Me_ Kiss Me_ Kill Me (U2)\": {\"frequency\": 169, \"value\": \"Hold Me_ Thrill ...\"}, \"Y solo se me ocurre amarte (Unplugged) (Alejandro Sanz)\": {\"frequency\": 177, \"value\": \"Y solo se me ...\"}, \"Day 'N' Nite (Kid Cudi)\": {\"frequency\": 224, \"value\": \"Day 'N' Nite (Kid ...\"}, \"Gravity (Sara Bareilles)\": {\"frequency\": 158, \"value\": \"Gravity (Sara ...\"}, \"Street Lights (Kanye West)\": {\"frequency\": 230, \"value\": \"Street Lights ...\"}, \"Molly's Chambers (Kings Of Leon)\": {\"frequency\": 257, \"value\": \"Molly's Chambers ...\"}, \"Streets On Lock (Young Jeezy)\": {\"frequency\": 144, \"value\": \"Streets On Lock ...\"}, \"Sideways (Dierks Bentley)\": {\"frequency\": 168, \"value\": \"Sideways (Dierks ...\"}, \"Save Room (John Legend)\": {\"frequency\": 141, \"value\": \"Save Room (John ...\"}, \"Atomic '98 (Xenomania Mix) (Blondie)\": {\"frequency\": 150, \"value\": \"Atomic '98 ...\"}, \"Fall To Pieces (Avril Lavigne)\": {\"frequency\": 147, \"value\": \"Fall To Pieces ...\"}, \"Closer (Nine Inch Nails)\": {\"frequency\": 276, \"value\": \"Closer (Nine Inch ...\"}, \"Spaceman (The Killers)\": {\"frequency\": 161, \"value\": \"Spaceman (The ...\"}, \"Shiver (Coldplay)\": {\"frequency\": 514, \"value\": \"Shiver (Coldplay)\"}, \"You Could Be Mine (Guns N' Roses)\": {\"frequency\": 367, \"value\": \"You Could Be Mine ...\"}, \"Stronger (Kanye West)\": {\"frequency\": 1272, \"value\": \"Stronger (Kanye ...\"}, \"Adam's Song (Blink-182)\": {\"frequency\": 487, \"value\": \"Adam's Song ...\"}, \"Valerie (Amy Winehouse)\": {\"frequency\": 210, \"value\": \"Valerie (Amy ...\"}, \"Can't Take My Eyes Off You (Muse)\": {\"frequency\": 209, \"value\": \"Can't Take My Eyes ...\"}, \"Be Somebody (Kings Of Leon)\": {\"frequency\": 403, \"value\": \"Be Somebody (Kings ...\"}, \"Sound Of Madness (Album Version) (Shinedown)\": {\"frequency\": 138, \"value\": \"Sound Of Madness ...\"}, \"Hand In My Pocket (Acoustic Album Version) (Alanis Morissette)\": {\"frequency\": 135, \"value\": \"Hand In My Pocket ...\"}, \"Encore Break (Pearl Jam)\": {\"frequency\": 129, \"value\": \"Encore Break ...\"}, \"Songs Of The Season (Soltero)\": {\"frequency\": 285, \"value\": \"Songs Of The ...\"}, \"Interactive Halloween Bear (Restiform Bodies)\": {\"frequency\": 262, \"value\": \"Interactive ...\"}, \"LDN (Lily Allen)\": {\"frequency\": 572, \"value\": \"LDN (Lily Allen)\"}, \"A Whiter Shade Of Pale (Procol Harum)\": {\"frequency\": 141, \"value\": \"A Whiter Shade Of ...\"}, \"Lambada (Kaoma)\": {\"frequency\": 157, \"value\": \"Lambada (Kaoma)\"}, \"Fancy Footwork (Chromeo)\": {\"frequency\": 202, \"value\": \"Fancy Footwork ...\"}, \"I'll Be Missing You (Featuring Faith Evans & 112)(Album Version) (Puff Daddy)\": {\"frequency\": 333, \"value\": \"I'll Be Missing ...\"}, \"Cosmic Love (Florence + The Machine)\": {\"frequency\": 995, \"value\": \"Cosmic Love ...\"}, \"Fortune Faded (Album Version) (Red Hot Chili Peppers)\": {\"frequency\": 256, \"value\": \"Fortune Faded ...\"}, \"Drive (Incubus)\": {\"frequency\": 352, \"value\": \"Drive (Incubus)\"}, \"Runaway Love (Justin Bieber)\": {\"frequency\": 276, \"value\": \"Runaway Love ...\"}, \"Too Little_ Too Late (JoJo)\": {\"frequency\": 141, \"value\": \"Too Little_ Too ...\"}, \"Unwritten (Natasha Bedingfield)\": {\"frequency\": 165, \"value\": \"Unwritten (Natasha ...\"}, \"Drunken Lullabies (Flogging Molly)\": {\"frequency\": 274, \"value\": \"Drunken Lullabies ...\"}, \"She Loves You (Peter Sellers)\": {\"frequency\": 288, \"value\": \"She Loves You ...\"}, \"Up Up & Away (Kid Cudi)\": {\"frequency\": 625, \"value\": \"Up Up & Away (Kid ...\"}, \"If It's Love (Train)\": {\"frequency\": 246, \"value\": \"If It's Love ...\"}, \"Velouria (Pixies)\": {\"frequency\": 189, \"value\": \"Velouria (Pixies)\"}, \"Beautiful_ Dirty_ Rich (Lady GaGa)\": {\"frequency\": 219, \"value\": \"Beautiful_ Dirty_ ...\"}, \"No Cars Go (Arcade Fire)\": {\"frequency\": 225, \"value\": \"No Cars Go (Arcade ...\"}, \"Lithium (Nirvana)\": {\"frequency\": 323, \"value\": \"Lithium (Nirvana)\"}, \"The Joker (Steve Miller Band)\": {\"frequency\": 280, \"value\": \"The Joker (Steve ...\"}, \"My December (Linkin Park)\": {\"frequency\": 299, \"value\": \"My December ...\"}, \"Rammstein (Rammstein)\": {\"frequency\": 179, \"value\": \"Rammstein ...\"}, \"Gives You Hell (The All-American Rejects)\": {\"frequency\": 819, \"value\": \"Gives You Hell ...\"}, \"Sparks (Coldplay)\": {\"frequency\": 237, \"value\": \"Sparks (Coldplay)\"}, \"There_ There (Radiohead)\": {\"frequency\": 208, \"value\": \"There_ There ...\"}, \"One Minute To Midnight (Justice)\": {\"frequency\": 158, \"value\": \"One Minute To ...\"}, \"Change (Taylor Swift)\": {\"frequency\": 152, \"value\": \"Change (Taylor ...\"}, \"You Belong With Me (Taylor Swift)\": {\"frequency\": 890, \"value\": \"You Belong With Me ...\"}, \"(If You're Wondering If I Want You To) I Want You To (Weezer)\": {\"frequency\": 191, \"value\": \"(If You're ...\"}, \"Ice Ice Baby (Radio Edit) (Vanilla Ice)\": {\"frequency\": 318, \"value\": \"Ice Ice Baby ...\"}, \"Marshall Mathers (Eminem)\": {\"frequency\": 154, \"value\": \"Marshall Mathers ...\"}, \"Fader (The Temper Trap)\": {\"frequency\": 292, \"value\": \"Fader (The Temper ...\"}, \"Le Soir (Line Renaud)\": {\"frequency\": 267, \"value\": \"Le Soir (Line ...\"}, \"All Along The Watchtower (Jimi Hendrix)\": {\"frequency\": 245, \"value\": \"All Along The ...\"}, \"Miss Murder (AFI)\": {\"frequency\": 143, \"value\": \"Miss Murder (AFI)\"}, \"Your Woman (White Town)\": {\"frequency\": 284, \"value\": \"Your Woman (White ...\"}, \"Since U Been Gone (Kelly Clarkson)\": {\"frequency\": 173, \"value\": \"Since U Been Gone ...\"}, \"Float On (Modest Mouse)\": {\"frequency\": 906, \"value\": \"Float On (Modest ...\"}, \"Hearts On Fire (Cut Copy)\": {\"frequency\": 204, \"value\": \"Hearts On Fire ...\"}, \"Something (Album Version) (Jaci Velasquez)\": {\"frequency\": 240, \"value\": \"Something (Album ...\"}, \"(You Drive Me) Crazy (The Stop Remix!) (Britney Spears)\": {\"frequency\": 181, \"value\": \"(You Drive Me) ...\"}, \"Te Mando Flores (Fonseca)\": {\"frequency\": 142, \"value\": \"Te Mando Flores ...\"}, \"Superman (Eminem / Dina Rae)\": {\"frequency\": 692, \"value\": \"Superman (Eminem / ...\"}, \"I'm Only Me When I'm With You (Taylor Swift)\": {\"frequency\": 340, \"value\": \"I'm Only Me When ...\"}, \"Hotel California (Eagles)\": {\"frequency\": 841, \"value\": \"Hotel California ...\"}, \"Calabria 2007 (ENUR Feat NATASJA)\": {\"frequency\": 186, \"value\": \"Calabria 2007 ...\"}, \"Clint Eastwood (Ed Case/Sweetie Irie Refix) (Edit) (Gorillaz)\": {\"frequency\": 190, \"value\": \"Clint Eastwood (Ed ...\"}, \"Girl Money (Kix)\": {\"frequency\": 197, \"value\": \"Girl Money (Kix)\"}, \"Ride The Lightning (Metallica)\": {\"frequency\": 348, \"value\": \"Ride The Lightning ...\"}, \"Clint Eastwood (Explicit) (Gorillaz)\": {\"frequency\": 145, \"value\": \"Clint Eastwood ...\"}, \"It Was A Good Day (Ice Cube)\": {\"frequency\": 391, \"value\": \"It Was A Good Day ...\"}, \"Peace Train (Cat Stevens)\": {\"frequency\": 180, \"value\": \"Peace Train (Cat ...\"}, \"First Dance (Justin Bieber / Usher)\": {\"frequency\": 310, \"value\": \"First Dance ...\"}, \"Good Girls Go Bad (Feat.Leighton Meester) (Album Version) (Cobra Starship Featuring Leighton Meester)\": {\"frequency\": 216, \"value\": \"Good Girls Go Bad ...\"}, \"Goodbye My Lover (James Blunt)\": {\"frequency\": 195, \"value\": \"Goodbye My Lover ...\"}, \"Last Nite (The Strokes)\": {\"frequency\": 146, \"value\": \"Last Nite (The ...\"}, \"Sala De Recep\\ufffd\\ufffd\\ufffd\\ufffdo (Cartola)\": {\"frequency\": 275, \"value\": \"Sala De Recep\\u00e7\\u00e3o ...\"}, \"The Invisible Man (Michael Cretu)\": {\"frequency\": 301, \"value\": \"The Invisible Man ...\"}, \"Found Home (59 Times the Pain)\": {\"frequency\": 236, \"value\": \"Found Home (59 ...\"}, \"You Gotta Be (Des'ree)\": {\"frequency\": 145, \"value\": \"You Gotta Be ...\"}, \"Tied Together With A Smile (Taylor Swift)\": {\"frequency\": 167, \"value\": \"Tied Together With ...\"}, \"Caring Is Creepy (The Shins)\": {\"frequency\": 173, \"value\": \"Caring Is Creepy ...\"}, \"STARSTRUKK [FEATURINGKATYPERRY] (Explicit Bonus Version) (3OH!3)\": {\"frequency\": 292, \"value\": \"STARSTRUKK [FEATUR ...\"}, \"42 (Coldplay)\": {\"frequency\": 158, \"value\": \"42 (Coldplay)\"}, \"Forever & Always (Taylor Swift)\": {\"frequency\": 690, \"value\": \"Forever & Always ...\"}, \"Imma Be (Black Eyed Peas)\": {\"frequency\": 954, \"value\": \"Imma Be (Black ...\"}, \"Rain (Subhumans)\": {\"frequency\": 336, \"value\": \"Rain (Subhumans)\"}, \"Staple It Together (Jack Johnson)\": {\"frequency\": 175, \"value\": \"Staple It Together ...\"}, \"Greece 2000 (Three Drives)\": {\"frequency\": 792, \"value\": \"Greece 2000 (Three ...\"}, \"Chinese (Lily Allen)\": {\"frequency\": 176, \"value\": \"Chinese (Lily ...\"}, \"Flashing Lights (Kanye West)\": {\"frequency\": 454, \"value\": \"Flashing Lights ...\"}, \"Lost (Katy Perry)\": {\"frequency\": 174, \"value\": \"Lost (Katy Perry)\"}, \"Just Dance (Lady GaGa / Colby O'Donis)\": {\"frequency\": 1420, \"value\": \"Just Dance (Lady ...\"}, \"Burn It To The Ground (Album Version) (Nickelback)\": {\"frequency\": 279, \"value\": \"Burn It To The ...\"}, \"Daft Punk Is Playing At My House (LCD Soundsystem)\": {\"frequency\": 172, \"value\": \"Daft Punk Is ...\"}, \"Teach Me How To Dougie (California Swag District)\": {\"frequency\": 1195, \"value\": \"Teach Me How To ...\"}, \"Tears Don't Fall (Bullet For My Valentine)\": {\"frequency\": 226, \"value\": \"Tears Don't Fall ...\"}, \"Have You Ever Seen The Rain (Creedence Clearwater Revival)\": {\"frequency\": 388, \"value\": \"Have You Ever Seen ...\"}, \"Ironic (Acoustic Album Version) (Alanis Morissette)\": {\"frequency\": 279, \"value\": \"Ironic (Acoustic ...\"}, \"(iii) (The Gerbils)\": {\"frequency\": 269, \"value\": \"(iii) (The ...\"}, \"Obsesion (Aventura)\": {\"frequency\": 148, \"value\": \"Obsesion ...\"}, \"Aghia Sophia (2008 Digital Remaster) (CCCP - Fedeli Alla Linea)\": {\"frequency\": 267, \"value\": \"Aghia Sophia (2008 ...\"}, \"Tangerine  (Album Version) (Led Zeppelin)\": {\"frequency\": 295, \"value\": \"Tangerine  (Album ...\"}, \"Marshall Examines His Carcass (Octopus Project)\": {\"frequency\": 275, \"value\": \"Marshall Examines ...\"}, \"Cudi Zone (Kid Cudi)\": {\"frequency\": 227, \"value\": \"Cudi Zone (Kid ...\"}, \"Dirty Little Secret (The All-American Rejects)\": {\"frequency\": 204, \"value\": \"Dirty Little ...\"}, \"DONTTRUSTME [BENNYBLANCOREMIX] FEATURINGKIDCUDI (Explicit Bonus Version) (3OH!3)\": {\"frequency\": 251, \"value\": \"DONTTRUSTME ...\"}, \"Nantes (Beirut)\": {\"frequency\": 199, \"value\": \"Nantes (Beirut)\"}, \"One More Sad Song (The All-American Rejects)\": {\"frequency\": 268, \"value\": \"One More Sad Song ...\"}, \"This Is How We Do It (Montell Jordan)\": {\"frequency\": 138, \"value\": \"This Is How We Do ...\"}, \"Picture Perfect (Chris Brown featuring will.i.am)\": {\"frequency\": 142, \"value\": \"Picture Perfect ...\"}, \"Never Know (Jack Johnson)\": {\"frequency\": 212, \"value\": \"Never Know (Jack ...\"}, \"Lasso (Phoenix)\": {\"frequency\": 290, \"value\": \"Lasso (Phoenix)\"}, \"Everybody Wants To Rule The World (Tears For Fears)\": {\"frequency\": 148, \"value\": \"Everybody Wants To ...\"}, \"Sugar Ray (LP Version) (Todd Barry)\": {\"frequency\": 761, \"value\": \"Sugar Ray (LP ...\"}, \"Numb (Album Version) (Disturbed)\": {\"frequency\": 164, \"value\": \"Numb (Album ...\"}, \"U Can't Touch This (MC Hammer)\": {\"frequency\": 198, \"value\": \"U Can't Touch This ...\"}, \"Ni T\\ufffd\\ufffd Ni Nadie (Versi\\ufffd\\ufffdn Demo) (Alaska Y Dinarama)\": {\"frequency\": 160, \"value\": \"Ni T\\u00fa Ni Nadie ...\"}, \"Ready_ Steady_ Go (Album Version) (Paul Oakenfold)\": {\"frequency\": 143, \"value\": \"Ready_ Steady_ Go ...\"}, \"Your Guardian Angel (The Red Jumpsuit Apparatus)\": {\"frequency\": 165, \"value\": \"Your Guardian ...\"}, \"Livin' On A Prayer (Bon Jovi)\": {\"frequency\": 1171, \"value\": \"Livin' On A Prayer ...\"}, \"Naughty Girl (Beyonc\\ufffd\\ufffd)\": {\"frequency\": 170, \"value\": \"Naughty Girl ...\"}, \"Angie (1993 Digital Remaster) (The Rolling Stones)\": {\"frequency\": 329, \"value\": \"Angie (1993 ...\"}, \"Naive (The Kooks)\": {\"frequency\": 198, \"value\": \"Naive (The Kooks)\"}, \"Creep (Explicit) (Radiohead)\": {\"frequency\": 1202, \"value\": \"Creep (Explicit) ...\"}, \"Music Box (Eminem)\": {\"frequency\": 165, \"value\": \"Music Box (Eminem)\"}, \"Un Beso de Desayuno (Calle 13)\": {\"frequency\": 272, \"value\": \"Un Beso de ...\"}, \"I Will Follow You into the Dark (Album Version) (Death Cab for Cutie)\": {\"frequency\": 398, \"value\": \"I Will Follow You ...\"}, \"In One Ear (Cage The Elephant)\": {\"frequency\": 224, \"value\": \"In One Ear (Cage ...\"}, \"Run (Snow Patrol)\": {\"frequency\": 155, \"value\": \"Run (Snow Patrol)\"}, \"Read My Mind (The Killers)\": {\"frequency\": 422, \"value\": \"Read My Mind (The ...\"}, \"Stockholm Syndrome (Muse)\": {\"frequency\": 269, \"value\": \"Stockholm Syndrome ...\"}, \"The Saltwater Room (Owl City)\": {\"frequency\": 198, \"value\": \"The Saltwater Room ...\"}, \"Nobody (Featuring Athena Cage) (LP Version) (Keith Sweat Featuring Athena Cage)\": {\"frequency\": 151, \"value\": \"Nobody (Featuring ...\"}, \"Walcott (Album) (Vampire Weekend)\": {\"frequency\": 147, \"value\": \"Walcott (Album) ...\"}, \"Up (Justin Bieber)\": {\"frequency\": 275, \"value\": \"Up (Justin Bieber)\"}, \"Brave The Elements (Colossal)\": {\"frequency\": 302, \"value\": \"Brave The Elements ...\"}, \"I'm Not Your Toy (La Roux)\": {\"frequency\": 150, \"value\": \"I'm Not Your Toy ...\"}, \"O.N.E (Yeasayer)\": {\"frequency\": 138, \"value\": \"O.N.E (Yeasayer)\"}, \"Road Trippin' (Album Version) (Red Hot Chili Peppers)\": {\"frequency\": 395, \"value\": \"Road Trippin' ...\"}, \"Forever (Chris Brown)\": {\"frequency\": 150, \"value\": \"Forever (Chris ...\"}, \"Marry Me (Train)\": {\"frequency\": 1992, \"value\": \"Marry Me (Train)\"}, \"One (Metallica)\": {\"frequency\": 409, \"value\": \"One (Metallica)\"}, \"Killing Lies (The Strokes)\": {\"frequency\": 179, \"value\": \"Killing Lies (The ...\"}, \"Highway 20 Ride (Album) (Zac Brown Band)\": {\"frequency\": 253, \"value\": \"Highway 20 Ride ...\"}, \"Besos (Lucas Masciano)\": {\"frequency\": 127, \"value\": \"Besos (Lucas ...\"}, \"My Last Breath (Evanescence)\": {\"frequency\": 186, \"value\": \"My Last Breath ...\"}, \"Te Amo (Rihanna)\": {\"frequency\": 500, \"value\": \"Te Amo (Rihanna)\"}, \"California Dreamin' (The Mamas & The Papas)\": {\"frequency\": 335, \"value\": \"California ...\"}, \"Glamorous (Fergie / Ludacris)\": {\"frequency\": 154, \"value\": \"Glamorous (Fergie ...\"}, \"If I Never See Your Face Again (Maroon 5 / Rihanna)\": {\"frequency\": 216, \"value\": \"If I Never See ...\"}, \"Karma Police (Radiohead)\": {\"frequency\": 557, \"value\": \"Karma Police ...\"}, \"I Gotta Feeling (Black Eyed Peas)\": {\"frequency\": 1356, \"value\": \"I Gotta Feeling ...\"}, \"You're The One (Dwight Yoakam)\": {\"frequency\": 4136, \"value\": \"You're The One ...\"}, \"Last Cup Of Sorrow (Faith No More)\": {\"frequency\": 170, \"value\": \"Last Cup Of Sorrow ...\"}, \"All I Ever Wanted (Basshunter)\": {\"frequency\": 225, \"value\": \"All I Ever Wanted ...\"}, \"Mr. Brownstone (Guns N' Roses)\": {\"frequency\": 207, \"value\": \"Mr. Brownstone ...\"}, \"Party In The U.S.A. (Miley Cyrus)\": {\"frequency\": 1060, \"value\": \"Party In The ...\"}, \"Crack The Shutters (Snow Patrol)\": {\"frequency\": 171, \"value\": \"Crack The Shutters ...\"}, \"Map Of The Problematique (Muse)\": {\"frequency\": 309, \"value\": \"Map Of The ...\"}, \"Por quererte (Efecto Mariposa)\": {\"frequency\": 138, \"value\": \"Por quererte ...\"}, \"Voodoo (Godsmack)\": {\"frequency\": 144, \"value\": \"Voodoo (Godsmack)\"}, \"Lookin' Out My Back Door (Creedence Clearwater Revival)\": {\"frequency\": 158, \"value\": \"Lookin' Out My ...\"}, \"I Put A Spell On You (Creedence Clearwater Revival)\": {\"frequency\": 178, \"value\": \"I Put A Spell On ...\"}, \"Breakeven (The Script)\": {\"frequency\": 800, \"value\": \"Breakeven (The ...\"}, \"The Trouble With Love Is (Kelly Clarkson)\": {\"frequency\": 152, \"value\": \"The Trouble With ...\"}, \"Back To You (John Mayer)\": {\"frequency\": 147, \"value\": \"Back To You (John ...\"}, \"Where You From? (Rin\\ufffd\\ufffd\\ufffd\\ufffd\\ufffd\\ufffdr\\ufffd\\ufffdse / Mark Gardener)\": {\"frequency\": 186, \"value\": \"Where You From? ...\"}, \"Never Enough (Five Finger Death Punch)\": {\"frequency\": 138, \"value\": \"Never Enough (Five ...\"}, \"Jumping Jack Flash (The Rolling Stones)\": {\"frequency\": 203, \"value\": \"Jumping Jack Flash ...\"}, \"Rayando el sol (Man\\ufffd\\ufffd)\": {\"frequency\": 387, \"value\": \"Rayando el sol ...\"}, \"La Despedida (Daddy Yankee)\": {\"frequency\": 236, \"value\": \"La Despedida ...\"}, \"Veleta (En Vivo Auditorio Nacional) (Lucero)\": {\"frequency\": 143, \"value\": \"Veleta (En Vivo ...\"}, \"Take A Chance On Me (Abba)\": {\"frequency\": 159, \"value\": \"Take A Chance On ...\"}, \"Now You're Gone (Basshunter Feat. DJ Mental Theo\\u0019s Bazzheadz)\": {\"frequency\": 183, \"value\": \"Now You're Gone ...\"}, \"Yellow (Coldplay)\": {\"frequency\": 2597, \"value\": \"Yellow (Coldplay)\"}, \"How You Remind Me (Nickelback)\": {\"frequency\": 699, \"value\": \"How You Remind Me ...\"}, \"September (Daughtry)\": {\"frequency\": 160, \"value\": \"September ...\"}, \"Constellations (Jack Johnson)\": {\"frequency\": 222, \"value\": \"Constellations ...\"}, \"Coda (Chris Bathgate)\": {\"frequency\": 199, \"value\": \"Coda (Chris ...\"}, \"When I'm Gone (3 Doors Down)\": {\"frequency\": 203, \"value\": \"When I'm Gone (3 ...\"}, \"Go To Sleep (Eminem / DMX / Obie Trice)\": {\"frequency\": 153, \"value\": \"Go To Sleep ...\"}, \"Medley: Let Me Talk To You/ My Love (Justin Timberlake Featuring T.I.)\": {\"frequency\": 167, \"value\": \"Medley: Let Me ...\"}, \"Lips Of An Angel (Hinder)\": {\"frequency\": 203, \"value\": \"Lips Of An Angel ...\"}, \"Le Jardin d'Hiver (Jacky Terrasson)\": {\"frequency\": 599, \"value\": \"Le Jardin d'Hiver ...\"}, \"Until The End Of Time (Justin Timberlake duet with Beyonce)\": {\"frequency\": 423, \"value\": \"Until The End Of ...\"}, \"Never Let You Go (Justin Bieber)\": {\"frequency\": 568, \"value\": \"Never Let You Go ...\"}, \"Sway (Album Version) (Michael Bubl\\ufffd\\ufffd)\": {\"frequency\": 258, \"value\": \"Sway (Album ...\"}, \"Who's Real (Jadakiss / Swizz Beatz / OJ Da Juiceman)\": {\"frequency\": 298, \"value\": \"Who's Real ...\"}, \"Goodnight Bad Morning (The Kills)\": {\"frequency\": 153, \"value\": \"Goodnight Bad ...\"}, \"I Wanna Be Sedated (Remastered Album Version ) (Ramones)\": {\"frequency\": 385, \"value\": \"I Wanna Be Sedated ...\"}, \"Kryptonite (3 Doors Down)\": {\"frequency\": 1051, \"value\": \"Kryptonite (3 ...\"}, \"Too Young (Phoenix)\": {\"frequency\": 163, \"value\": \"Too Young ...\"}, \"Rocket Queen (Guns N' Roses)\": {\"frequency\": 176, \"value\": \"Rocket Queen (Guns ...\"}, \"15 Step (Radiohead)\": {\"frequency\": 205, \"value\": \"15 Step ...\"}, \"Trouble (Album Version) (Ray LaMontagne)\": {\"frequency\": 136, \"value\": \"Trouble (Album ...\"}, \"Heartbeats (Jos\\ufffd\\ufffd Gonzalez)\": {\"frequency\": 215, \"value\": \"Heartbeats (Jos\\u00e9 ...\"}, \"Na Vi (Dino Merlin)\": {\"frequency\": 306, \"value\": \"Na Vi (Dino ...\"}, \"Rianna (Fisher)\": {\"frequency\": 1034, \"value\": \"Rianna (Fisher)\"}, \"Strut (1993 Digital Remaster) (Sheena Easton)\": {\"frequency\": 1033, \"value\": \"Strut (1993 ...\"}, \"Whisper (Evanescence)\": {\"frequency\": 155, \"value\": \"Whisper ...\"}, \"Happy Endings (The All-American Rejects)\": {\"frequency\": 232, \"value\": \"Happy Endings (The ...\"}, \"What We Do (Explicit) (Feat. Memphis Bleek) (Sauce Money Featuring Memphis Bleek)\": {\"frequency\": 203, \"value\": \"What We Do ...\"}, \"Pak Dit Grej (1998 Digital Remaster) (C.V. J\\ufffd\\ufffdrgensen)\": {\"frequency\": 134, \"value\": \"Pak Dit Grej (1998 ...\"}, \"Shoulder to shoulder 2009 (What We Feel)\": {\"frequency\": 203, \"value\": \"Shoulder to ...\"}, \"Marble House (The Knife)\": {\"frequency\": 150, \"value\": \"Marble House (The ...\"}, \"You Learn (Album Version) (Alanis Morissette)\": {\"frequency\": 190, \"value\": \"You Learn (Album ...\"}, \"A Rush Of Blood To The Head (Coldplay)\": {\"frequency\": 184, \"value\": \"A Rush Of Blood To ...\"}, \"Natural Anthem (Album) (Postal Service)\": {\"frequency\": 230, \"value\": \"Natural Anthem ...\"}, \"Refuse / Resist (Apocalyptica)\": {\"frequency\": 140, \"value\": \"Refuse / Resist ...\"}, \"My Band (D-12)\": {\"frequency\": 156, \"value\": \"My Band (D-12)\"}, \"Ain't Misbehavin (Sam Cooke)\": {\"frequency\": 1707, \"value\": \"Ain't Misbehavin ...\"}, \"Thank You (Dido)\": {\"frequency\": 171, \"value\": \"Thank You (Dido)\"}, \"Nightly Journey (Dim Pees)\": {\"frequency\": 150, \"value\": \"Nightly Journey ...\"}, \"Under The Bridge (Album Version) (Red Hot Chili Peppers)\": {\"frequency\": 255, \"value\": \"Under The Bridge ...\"}, \"Crazier (Taylor Swift)\": {\"frequency\": 148, \"value\": \"Crazier (Taylor ...\"}, \"Red Red Wine (Edit) (UB40)\": {\"frequency\": 245, \"value\": \"Red Red Wine ...\"}, \"My Paper Heart (The All-American Rejects)\": {\"frequency\": 308, \"value\": \"My Paper Heart ...\"}, \"Hypnotize(Album Version) (The Notorious B.I.G.)\": {\"frequency\": 234, \"value\": \"Hypnotize(Album ...\"}, \"Costruire (Niccol\\ufffd\\ufffd Fabi)\": {\"frequency\": 298, \"value\": \"Costruire (Niccol\\u00f2 ...\"}, \"Boys Don't Cry (The Cure)\": {\"frequency\": 204, \"value\": \"Boys Don't Cry ...\"}, \"Wake Up Call (Maroon 5)\": {\"frequency\": 163, \"value\": \"Wake Up Call ...\"}, \"Simple As... (Kid Cudi)\": {\"frequency\": 147, \"value\": \"Simple As... (Kid ...\"}, \"Audience Of One (Rise Against)\": {\"frequency\": 151, \"value\": \"Audience Of One ...\"}, \"Mykonos (Fleet Foxes)\": {\"frequency\": 159, \"value\": \"Mykonos (Fleet ...\"}, \"Posters (Jack Johnson)\": {\"frequency\": 170, \"value\": \"Posters (Jack ...\"}, \"Robot Soul (Radio Edit) (Cosmo Vitelli)\": {\"frequency\": 618, \"value\": \"Robot Soul (Radio ...\"}, \"My Sacrifice (Creed)\": {\"frequency\": 201, \"value\": \"My Sacrifice ...\"}, \"Sincerit\\ufffd\\ufffd Et Jalousie (Alliance Ethnik)\": {\"frequency\": 1801, \"value\": \"Sincerit\\u00e9 Et ...\"}, \"My Humps (Black Eyed Peas)\": {\"frequency\": 391, \"value\": \"My Humps (Black ...\"}, \"Cold Desert (Kings Of Leon)\": {\"frequency\": 292, \"value\": \"Cold Desert (Kings ...\"}, \"There Goes My Baby (Usher)\": {\"frequency\": 351, \"value\": \"There Goes My Baby ...\"}, \"Loud Pipes (Ratatat)\": {\"frequency\": 219, \"value\": \"Loud Pipes ...\"}, \"Ocean Avenue (Yellowcard)\": {\"frequency\": 232, \"value\": \"Ocean Avenue ...\"}, \"Crazy In Love (Beyonc\\ufffd\\ufffd feat. Jay-Z)\": {\"frequency\": 177, \"value\": \"Crazy In Love ...\"}, \"Hey There Delilah (Plain White T's)\": {\"frequency\": 800, \"value\": \"Hey There Delilah ...\"}, \"Holes To Heaven (Jack Johnson)\": {\"frequency\": 189, \"value\": \"Holes To Heaven ...\"}, \"It's Been Awhile (Clean Edit) (Staind)\": {\"frequency\": 164, \"value\": \"It's Been Awhile ...\"}, \"Welcome Home (Sanitarium) (Metallica)\": {\"frequency\": 147, \"value\": \"Welcome Home ...\"}, \"Mercy:The Laundromat (Pavement)\": {\"frequency\": 834, \"value\": \"Mercy:The ...\"}, \"Jambalaya (Tab Benoit)\": {\"frequency\": 368, \"value\": \"Jambalaya (Tab ...\"}, \"Superstar (featuring Matthew Santos) (Album Version) (Lupe Fiasco featuring Matt Santos)\": {\"frequency\": 311, \"value\": \"Superstar ...\"}, \"The Bad Touch (Bloodhound Gang)\": {\"frequency\": 213, \"value\": \"The Bad Touch ...\"}, \"Superstition (The Kills)\": {\"frequency\": 154, \"value\": \"Superstition (The ...\"}, \"Face Down (Album Version) (The Red Jumpsuit Apparatus)\": {\"frequency\": 317, \"value\": \"Face Down (Album ...\"}, \"Transparency (White Denim)\": {\"frequency\": 414, \"value\": \"Transparency ...\"}, \"Heartbreakin' Wreck (The Boxmasters)\": {\"frequency\": 170, \"value\": \"Heartbreakin' ...\"}, \"The Best Day (Taylor Swift)\": {\"frequency\": 142, \"value\": \"The Best Day ...\"}, \"U.R.A Fever (The Kills)\": {\"frequency\": 123, \"value\": \"U.R.A Fever (The ...\"}, \"Cheryl Tweedy (Lily Allen)\": {\"frequency\": 244, \"value\": \"Cheryl Tweedy ...\"}, \"Not In Love (Crystal Castles)\": {\"frequency\": 150, \"value\": \"Not In Love ...\"}, \"The Seed (2.0) (The Roots / Cody Chestnutt)\": {\"frequency\": 160, \"value\": \"The Seed (2.0) ...\"}, \"1234 (Feist)\": {\"frequency\": 171, \"value\": \"1234 (Feist)\"}, \"Sunday Morning (Maroon 5)\": {\"frequency\": 150, \"value\": \"Sunday Morning ...\"}, \"Teddy Picker (Explicit) (Arctic Monkeys)\": {\"frequency\": 238, \"value\": \"Teddy Picker ...\"}, \"Otherside (Album Version) (Red Hot Chili Peppers)\": {\"frequency\": 287, \"value\": \"Otherside (Album ...\"}, \"Moar Ghosts 'n' Stuff (Deadmau5)\": {\"frequency\": 408, \"value\": \"Moar Ghosts 'n' ...\"}, \"Hide & Seek (Imogen Heap)\": {\"frequency\": 322, \"value\": \"Hide & Seek ...\"}, \"I'm On A Boat (The Lonely Island / T-Pain)\": {\"frequency\": 560, \"value\": \"I'm On A Boat (The ...\"}, \"Bat Country (Album Version) (Avenged Sevenfold)\": {\"frequency\": 146, \"value\": \"Bat Country (Album ...\"}, \"Stay (Lisa Loeb & Nine Stories)\": {\"frequency\": 174, \"value\": \"Stay (Lisa Loeb & ...\"}, \"Tie Me Down [feat. Ray J] (Amended Album Version) (New Boyz)\": {\"frequency\": 214, \"value\": \"Tie Me Down [feat. ...\"}, \"Pr\\ufffd\\ufffdte A Porter (Paris Combo)\": {\"frequency\": 205, \"value\": \"Pr\\u00eate A Porter ...\"}, \"Halo (Beyonc\\ufffd\\ufffd)\": {\"frequency\": 1093, \"value\": \"Halo (Beyonc\\u00e9)\"}, \"Fergalicious (Fergie / Will.I.Am)\": {\"frequency\": 195, \"value\": \"Fergalicious ...\"}, \"They Might Follow You (Tiny Vipers)\": {\"frequency\": 457, \"value\": \"They Might Follow ...\"}, \"En Glad Calypso Om V\\ufffd\\ufffdren (Live '62) (Olle Adolphson)\": {\"frequency\": 195, \"value\": \"En Glad Calypso Om ...\"}, \"Crank That (Soulja Boy) (Soulja Boy Tell'em)\": {\"frequency\": 193, \"value\": \"Crank That (Soulja ...\"}, \"Electric Feel (MGMT)\": {\"frequency\": 950, \"value\": \"Electric Feel ...\"}, \"You've Got The Love (Florence + The Machine)\": {\"frequency\": 887, \"value\": \"You've Got The ...\"}, \"ROCKSTAR 101 (Rihanna / Slash)\": {\"frequency\": 291, \"value\": \"ROCKSTAR 101 ...\"}, \"Big Me (Foo Fighters)\": {\"frequency\": 197, \"value\": \"Big Me (Foo ...\"}, \"American Idiot [feat. Green Day & The Cast Of American Idiot] (Album Version) (Green Day)\": {\"frequency\": 447, \"value\": \"American Idiot ...\"}, \"Don't Worry Be Happy (Bobby McFerrin)\": {\"frequency\": 191, \"value\": \"Don't Worry Be ...\"}, \"Something Good Can Work (Two Door Cinema Club)\": {\"frequency\": 208, \"value\": \"Something Good Can ...\"}, \"Terre Promise (O'Rosko Raricim)\": {\"frequency\": 595, \"value\": \"Terre Promise ...\"}, \"Piano Concerto No. 2 in G minor Op. 22 (2006 Digital Remaster): III.  Presto (Emil Gilels/Orchestre de la Soci\\ufffd\\ufffdt\\ufffd\\ufffd des Concerts du Conservatoire/Andr\\ufffd\\ufffd Cluytens)\": {\"frequency\": 399, \"value\": \"Piano Concerto No. ...\"}, \"The Gift (Angels and Airwaves)\": {\"frequency\": 1261, \"value\": \"The Gift (Angels ...\"}, \"Blue (Da Ba Dee) (Eiffel 65)\": {\"frequency\": 152, \"value\": \"Blue (Da Ba Dee) ...\"}, \"Talk Me Out Of Tampa (Joe Nichols)\": {\"frequency\": 150, \"value\": \"Talk Me Out Of ...\"}, \"Nah! (Shania Twain)\": {\"frequency\": 538, \"value\": \"Nah! (Shania ...\"}, \"What's The Difference (Dr. Dre / Eminem / Alvin Joiner)\": {\"frequency\": 183, \"value\": \"What's The ...\"}, \"Second Chance (Album Version) (Shinedown)\": {\"frequency\": 203, \"value\": \"Second Chance ...\"}, \"Estoy Aqu\\ufffd\\ufffd (Shakira)\": {\"frequency\": 421, \"value\": \"Estoy Aqu\\u00ed ...\"}, \"Blood (El-P)\": {\"frequency\": 162, \"value\": \"Blood (El-P)\"}, \"Touched By The Sun (Envio)\": {\"frequency\": 141, \"value\": \"Touched By The Sun ...\"}, \"Rabbit Heart (Raise It Up) (Florence + The Machine)\": {\"frequency\": 470, \"value\": \"Rabbit Heart ...\"}, \"Waiting On The World To Change (John Mayer)\": {\"frequency\": 270, \"value\": \"Waiting On The ...\"}, \"No One's Gonna Love You (Album) (Band Of Horses)\": {\"frequency\": 245, \"value\": \"No One's Gonna ...\"}, \"Bones (The Killers)\": {\"frequency\": 166, \"value\": \"Bones (The ...\"}, \"Far Away (Album Version) (Nickelback)\": {\"frequency\": 495, \"value\": \"Far Away (Album ...\"}, \"With Or Without You (U2)\": {\"frequency\": 233, \"value\": \"With Or Without ...\"}, \"Clocks (Coldplay)\": {\"frequency\": 1497, \"value\": \"Clocks (Coldplay)\"}, \"Forgive Me (Leona Lewis)\": {\"frequency\": 300, \"value\": \"Forgive Me (Leona ...\"}, \"Fast Car (LP Version) (Tracy Chapman)\": {\"frequency\": 151, \"value\": \"Fast Car (LP ...\"}, \"I Get Joy (Coko featuring Kirk Franklin)\": {\"frequency\": 258, \"value\": \"I Get Joy (Coko ...\"}, \"Moth's Wings (Passion Pit)\": {\"frequency\": 145, \"value\": \"Moth's Wings ...\"}, \"Someone Else Calling You Baby (Luke Bryan)\": {\"frequency\": 178, \"value\": \"Someone Else ...\"}, \"My Heart Will Go On (C\\ufffd\\ufffdline Dion)\": {\"frequency\": 226, \"value\": \"My Heart Will Go ...\"}, \"Blame It (Jamie Foxx featuring T-Pain)\": {\"frequency\": 142, \"value\": \"Blame It (Jamie ...\"}, \"No Rain (Blind Melon)\": {\"frequency\": 265, \"value\": \"No Rain (Blind ...\"}, \"The Bachelor and the Bride (The Decemberists)\": {\"frequency\": 177, \"value\": \"The Bachelor and ...\"}, \"Where I Stand (Days Of The New)\": {\"frequency\": 202, \"value\": \"Where I Stand ...\"}, \"Seven Nation Army (Album Version) (The White Stripes)\": {\"frequency\": 800, \"value\": \"Seven Nation Army ...\"}, \"Aerodynamic (Daft Punk Remix) (Daft Punk)\": {\"frequency\": 195, \"value\": \"Aerodynamic (Daft ...\"}, \"Won't Go Home Without You (Maroon 5)\": {\"frequency\": 202, \"value\": \"Won't Go Home ...\"}, \"Check Yes Juliet (We The Kings)\": {\"frequency\": 199, \"value\": \"Check Yes Juliet ...\"}, \"Brothers & Sisters (Coldplay)\": {\"frequency\": 210, \"value\": \"Brothers & Sisters ...\"}, \"Provider (Days Of The New)\": {\"frequency\": 268, \"value\": \"Provider (Days Of ...\"}, \"Here Without You (3 Doors Down)\": {\"frequency\": 837, \"value\": \"Here Without You ...\"}, \"Pork And Beans (Weezer)\": {\"frequency\": 167, \"value\": \"Pork And Beans ...\"}, \"Cry Me A River (Justin Timberlake)\": {\"frequency\": 391, \"value\": \"Cry Me A River ...\"}, \"Big Idea (Radney Foster)\": {\"frequency\": 204, \"value\": \"Big Idea (Radney ...\"}, \"Horchata (Vampire Weekend)\": {\"frequency\": 192, \"value\": \"Horchata (Vampire ...\"}, \"Fight For Your Life (The Casualties)\": {\"frequency\": 204, \"value\": \"Fight For Your ...\"}, \"Alive (2006 Remastered Album Version) (P.O.D.)\": {\"frequency\": 164, \"value\": \"Alive (2006 ...\"}, \"You Make Me Wanna... (Usher)\": {\"frequency\": 159, \"value\": \"You Make Me ...\"}, \"I Think I'll Live (Charlie Louvin)\": {\"frequency\": 364, \"value\": \"I Think I'll Live ...\"}, \"Rise To The Challenge (Asian Dub Foundation)\": {\"frequency\": 165, \"value\": \"Rise To The ...\"}, \"Making Love (Into The Night) (Usher)\": {\"frequency\": 142, \"value\": \"Making Love (Into ...\"}, \"Abrazame (Camila)\": {\"frequency\": 155, \"value\": \"Abrazame (Camila)\"}, \"Something About Us (Daft Punk)\": {\"frequency\": 149, \"value\": \"Something About Us ...\"}, \"How It Ends (Album version) (Devotchka)\": {\"frequency\": 157, \"value\": \"How It Ends (Album ...\"}, \"A Beggar On A Beach Of Gold (Mike And The Mechanics)\": {\"frequency\": 702, \"value\": \"A Beggar On A ...\"}, \"What If I Do? (Foo Fighters)\": {\"frequency\": 187, \"value\": \"What If I Do? (Foo ...\"}, \"High School Musical (High School Musical Cast)\": {\"frequency\": 149, \"value\": \"High School ...\"}, \"Bleed It Out [Live At Milton Keynes] (Linkin Park)\": {\"frequency\": 1334, \"value\": \"Bleed It Out [Live ...\"}, \"Toxic (Britney Spears)\": {\"frequency\": 575, \"value\": \"Toxic (Britney ...\"}, \"Drop It Low (Ester Dean / Chris Brown)\": {\"frequency\": 202, \"value\": \"Drop It Low (Ester ...\"}, \"Jump Around (LP Version) (House Of Pain)\": {\"frequency\": 176, \"value\": \"Jump Around (LP ...\"}, \"Modern world (Modern Lovers)\": {\"frequency\": 165, \"value\": \"Modern world ...\"}, \"Oh! (Boys Noize)\": {\"frequency\": 150, \"value\": \"Oh! (Boys Noize)\"}, \"LDN (Switch Remix) (Lily Allen)\": {\"frequency\": 258, \"value\": \"LDN (Switch Remix) ...\"}, \"Sorrow (1997 Digital Remaster) (David Bowie)\": {\"frequency\": 253, \"value\": \"Sorrow (1997 ...\"}, \"Funkytown (Lipps Inc.)\": {\"frequency\": 188, \"value\": \"Funkytown (Lipps ...\"}, \"Times Like These (Foo Fighters)\": {\"frequency\": 186, \"value\": \"Times Like These ...\"}, \"Helena (So Long & Goodnight) (Album Version) (My Chemical Romance)\": {\"frequency\": 256, \"value\": \"Helena (So Long & ...\"}, \"You And Your Heart (Jack Johnson)\": {\"frequency\": 215, \"value\": \"You And Your Heart ...\"}, \"Friends_ Lovers Or Nothing (John Mayer)\": {\"frequency\": 149, \"value\": \"Friends_ Lovers Or ...\"}, \"Fall For You (Second Hand Serenade)\": {\"frequency\": 160, \"value\": \"Fall For You ...\"}, \"Whataya Want From Me (Adam Lambert)\": {\"frequency\": 572, \"value\": \"Whataya Want From ...\"}, \"Do You Remember (Jack Johnson)\": {\"frequency\": 517, \"value\": \"Do You Remember ...\"}, \"Bubble Toes (Jack Johnson)\": {\"frequency\": 1130, \"value\": \"Bubble Toes (Jack ...\"}, \"Latin Static (Sound 5)\": {\"frequency\": 140, \"value\": \"Latin Static ...\"}, \"I'm Not Calling You A Liar (Florence + The Machine)\": {\"frequency\": 397, \"value\": \"I'm Not Calling ...\"}, \"Tears In Heaven (Eric Clapton)\": {\"frequency\": 310, \"value\": \"Tears In Heaven ...\"}, \"Alejandro (Lady GaGa)\": {\"frequency\": 1508, \"value\": \"Alejandro (Lady ...\"}, \"Supermassive Black Hole (Album Version) (Muse)\": {\"frequency\": 927, \"value\": \"Supermassive Black ...\"}, \"Matricide (Nevermore)\": {\"frequency\": 305, \"value\": \"Matricide ...\"}, \"Che Sara (Andre Hazes)\": {\"frequency\": 147, \"value\": \"Che Sara (Andre ...\"}, \"Oxford Comma (Album) (Vampire Weekend)\": {\"frequency\": 337, \"value\": \"Oxford Comma ...\"}, \"Forever (Drake / Kanye West / Lil Wayne / Eminem)\": {\"frequency\": 922, \"value\": \"Forever (Drake / ...\"}, \"22 (Lily Allen)\": {\"frequency\": 250, \"value\": \"22 (Lily Allen)\"}, \"Love Story (Taylor Swift)\": {\"frequency\": 2535, \"value\": \"Love Story (Taylor ...\"}, \"Prince Caspian (Phish)\": {\"frequency\": 151, \"value\": \"Prince Caspian ...\"}, \"Genom tunna tyger (Markus Kruneg\\ufffd\\ufffdrd)\": {\"frequency\": 189, \"value\": \"Genom tunna tyger ...\"}, \"Reign Of The Tyrants (Jag Panzer)\": {\"frequency\": 197, \"value\": \"Reign Of The ...\"}, \"Young (Hollywood Undead)\": {\"frequency\": 242, \"value\": \"Young (Hollywood ...\"}, \"Rock Your Body (Justin Timberlake)\": {\"frequency\": 200, \"value\": \"Rock Your Body ...\"}, \"Don't Speak (No Doubt)\": {\"frequency\": 171, \"value\": \"Don't Speak (No ...\"}, \"The Unforgiven III (Metallica)\": {\"frequency\": 190, \"value\": \"The Unforgiven III ...\"}, \"Better To Reign In Hell (Cradle Of Filth)\": {\"frequency\": 711, \"value\": \"Better To Reign In ...\"}, \"I Wanna Love You (Akon / Snoop Dogg)\": {\"frequency\": 189, \"value\": \"I Wanna Love You ...\"}, \"Jack & Diane (John Mellencamp)\": {\"frequency\": 176, \"value\": \"Jack & Diane (John ...\"}, \"Between Two Lungs (Florence + The Machine)\": {\"frequency\": 246, \"value\": \"Between Two Lungs ...\"}, \"Like You (Bow Wow)\": {\"frequency\": 152, \"value\": \"Like You (Bow Wow)\"}, \"Someday (Nickelback)\": {\"frequency\": 364, \"value\": \"Someday ...\"}, \"Makes Me Wonder (Maroon 5)\": {\"frequency\": 201, \"value\": \"Makes Me Wonder ...\"}, \"White Winter Hymnal (Fleet Foxes)\": {\"frequency\": 187, \"value\": \"White Winter ...\"}, \"I'm Gonna Find Another You (John Mayer)\": {\"frequency\": 141, \"value\": \"I'm Gonna Find ...\"}, \"Let's Get It Started (Black Eyed Peas)\": {\"frequency\": 205, \"value\": \"Let's Get It ...\"}, \"Repr\\ufffd\\ufffdsente (Alliance Ethnik)\": {\"frequency\": 1770, \"value\": \"Repr\\u00e9sente ...\"}, \"Love Is A Losing Game (Amy Winehouse)\": {\"frequency\": 184, \"value\": \"Love Is A Losing ...\"}, \"Lex (Ratatat)\": {\"frequency\": 161, \"value\": \"Lex (Ratatat)\"}, \"Apologize (OneRepublic)\": {\"frequency\": 362, \"value\": \"Apologize ...\"}, \"Let's Get It On (Marvin Gaye)\": {\"frequency\": 229, \"value\": \"Let's Get It On ...\"}, \"McFearless (Kings Of Leon)\": {\"frequency\": 181, \"value\": \"McFearless (Kings ...\"}, \"You Know I'm No Good (Amy Winehouse)\": {\"frequency\": 405, \"value\": \"You Know I'm No ...\"}, \"Hochmah (Interlude) (Olivia Newton-John)\": {\"frequency\": 414, \"value\": \"Hochmah ...\"}, \"Electric Avenue (Eddy Grant)\": {\"frequency\": 274, \"value\": \"Electric Avenue ...\"}, \"No. 5 (Hollywood Undead)\": {\"frequency\": 244, \"value\": \"No. 5 (Hollywood ...\"}, \"Crazy Bitch (Album Version) (Buckcherry)\": {\"frequency\": 292, \"value\": \"Crazy Bitch (Album ...\"}, \"Who Can Compare (Foolish Things)\": {\"frequency\": 718, \"value\": \"Who Can Compare ...\"}, \"You'd Be So Nice To Come Home To (Julie London)\": {\"frequency\": 178, \"value\": \"You'd Be So Nice ...\"}, \"Satisfaction (Benny Benassi Presents The Biz)\": {\"frequency\": 357, \"value\": \"Satisfaction ...\"}, \"What If (Album Version) (Jason Derulo)\": {\"frequency\": 209, \"value\": \"What If (Album ...\"}, \"Dig (Incubus)\": {\"frequency\": 260, \"value\": \"Dig (Incubus)\"}, \"Smile (Explicit Version) (Lily Allen)\": {\"frequency\": 260, \"value\": \"Smile (Explicit ...\"}, \"Live And Let Die (Guns N' Roses)\": {\"frequency\": 488, \"value\": \"Live And Let Die ...\"}, \"Eternal Flame (Single Version) (Atomic Kitten)\": {\"frequency\": 178, \"value\": \"Eternal Flame ...\"}, \"Hemma F\\ufffd\\ufffdre M\\ufffd\\ufffdrkret (Totta N\\ufffd\\ufffdslund)\": {\"frequency\": 155, \"value\": \"Hemma F\\u00f6re M\\u00f6rkret ...\"}, \"Hilarious Movie Of The 90s (Four Tet)\": {\"frequency\": 153, \"value\": \"Hilarious Movie Of ...\"}, \"Praise You (Fatboy Slim)\": {\"frequency\": 139, \"value\": \"Praise You (Fatboy ...\"}, \"The Funeral (Album Version) (Band Of Horses)\": {\"frequency\": 678, \"value\": \"The Funeral (Album ...\"}, \"Where Is My Mind? (Pixies)\": {\"frequency\": 284, \"value\": \"Where Is My Mind? ...\"}, \"Crumpshit (Philippe Rochard)\": {\"frequency\": 304, \"value\": \"Crumpshit ...\"}, \"Our Song (Taylor Swift)\": {\"frequency\": 474, \"value\": \"Our Song (Taylor ...\"}, \"God Put A Smile Upon Your Face (Coldplay)\": {\"frequency\": 147, \"value\": \"God Put A Smile ...\"}, \"One More Time (Short Radio Edit) (Daft Punk)\": {\"frequency\": 347, \"value\": \"One More Time ...\"}, \"Realize (Colbie Caillat)\": {\"frequency\": 169, \"value\": \"Realize (Colbie ...\"}, \"I Can't Stay (The Killers)\": {\"frequency\": 148, \"value\": \"I Can't Stay (The ...\"}, \"I'm Not Okay (I Promise) (Live From Sessions@AOL) (My Chemical Romance)\": {\"frequency\": 214, \"value\": \"I'm Not Okay (I ...\"}, \"Strawberry Swing (Coldplay)\": {\"frequency\": 239, \"value\": \"Strawberry Swing ...\"}, \"Ain't No Rest For The Wicked (Original Version) (Cage The Elephant)\": {\"frequency\": 725, \"value\": \"Ain't No Rest For ...\"}, \"Master Of Puppets (Metallica)\": {\"frequency\": 865, \"value\": \"Master Of Puppets ...\"}, \"We Don't Stop (Explicit) (Young Bleed)\": {\"frequency\": 358, \"value\": \"We Don't Stop ...\"}, \"Savin' Me (Nickelback)\": {\"frequency\": 383, \"value\": \"Savin' Me ...\"}, \"Secrets (OneRepublic)\": {\"frequency\": 3430, \"value\": \"Secrets ...\"}, \"Mardy Bum (Arctic Monkeys)\": {\"frequency\": 166, \"value\": \"Mardy Bum (Arctic ...\"}, \"Back Against The Wall (Cage The Elephant)\": {\"frequency\": 369, \"value\": \"Back Against The ...\"}, \"Time To Pretend (MGMT)\": {\"frequency\": 626, \"value\": \"Time To Pretend ...\"}, \"Hustler (Simian Mobile Disco)\": {\"frequency\": 169, \"value\": \"Hustler (Simian ...\"}, \"No Diggity (Blackstreet / Dr. Dre)\": {\"frequency\": 150, \"value\": \"No Diggity ...\"}, \"What They Found (Octopus Project)\": {\"frequency\": 243, \"value\": \"What They Found ...\"}, \"Emergency (Album Version) (Paramore)\": {\"frequency\": 164, \"value\": \"Emergency (Album ...\"}, \"Rockin' Rollin' Stone (Andy Starr)\": {\"frequency\": 188, \"value\": \"Rockin' Rollin' ...\"}, \"#40 (DAVE MATTHEWS BAND)\": {\"frequency\": 148, \"value\": \"#40 (DAVE MATTHEWS ...\"}, \"I Kissed A Girl (Katy Perry)\": {\"frequency\": 962, \"value\": \"I Kissed A Girl ...\"}, \"Half Of My Heart (John Mayer)\": {\"frequency\": 802, \"value\": \"Half Of My Heart ...\"}, \"Wake Up Alone (Amy Winehouse)\": {\"frequency\": 147, \"value\": \"Wake Up Alone (Amy ...\"}, \"This Afternoon (Album Version) (Nickelback)\": {\"frequency\": 235, \"value\": \"This Afternoon ...\"}, \"Reason I'm Alive (Explicit) (Drowning Pool)\": {\"frequency\": 254, \"value\": \"Reason I'm Alive ...\"}, \"Sweet home Alabama (Lynyrd Skynyrd)\": {\"frequency\": 476, \"value\": \"Sweet home Alabama ...\"}, \"Manhattan (Kings Of Leon)\": {\"frequency\": 206, \"value\": \"Manhattan (Kings ...\"}, \"Angel (Jack Johnson)\": {\"frequency\": 156, \"value\": \"Angel (Jack ...\"}, \"Your Hand In Mine (Explosions In The Sky)\": {\"frequency\": 183, \"value\": \"Your Hand In Mine ...\"}, \"For Emma (Bon Iver)\": {\"frequency\": 164, \"value\": \"For Emma (Bon ...\"}, \"Creil City (Alliance Ethnik)\": {\"frequency\": 402, \"value\": \"Creil City ...\"}, \"Killing In The Name (Rage Against The Machine)\": {\"frequency\": 289, \"value\": \"Killing In The ...\"}, \"Do I (Luke Bryan)\": {\"frequency\": 197, \"value\": \"Do I (Luke Bryan)\"}, \"The Only Exception (Album Version) (Paramore)\": {\"frequency\": 1352, \"value\": \"The Only Exception ...\"}, \"Nine Times Out Of Ten (1998 Digital Remaster) (Cliff Richard & The Shadows)\": {\"frequency\": 183, \"value\": \"Nine Times Out Of ...\"}, \"Perfectly Lonely (John Mayer)\": {\"frequency\": 320, \"value\": \"Perfectly Lonely ...\"}, \"Dile al amor (Aventura)\": {\"frequency\": 188, \"value\": \"Dile al amor ...\"}, \"The Kindness Of Strangers (Radney Foster)\": {\"frequency\": 273, \"value\": \"The Kindness Of ...\"}, \"Illuminati (Fatboy Slim)\": {\"frequency\": 139, \"value\": \"Illuminati (Fatboy ...\"}, \"Too Far Gone (The All-American Rejects)\": {\"frequency\": 178, \"value\": \"Too Far Gone (The ...\"}, \"All Summer Long (Album Version) (Kid Rock)\": {\"frequency\": 202, \"value\": \"All Summer Long ...\"}, \"Peaceful Valley (Ryan Adams & The Cardinals)\": {\"frequency\": 184, \"value\": \"Peaceful Valley ...\"}, \"Bring Me To Life (Evanescence)\": {\"frequency\": 2044, \"value\": \"Bring Me To Life ...\"}, \"More Than A Feeling (Boston)\": {\"frequency\": 227, \"value\": \"More Than A ...\"}, \"Mushaboom (Feist)\": {\"frequency\": 192, \"value\": \"Mushaboom (Feist)\"}, \"Times Like These (Jack Johnson)\": {\"frequency\": 563, \"value\": \"Times Like These ...\"}, \"Why Don't We Just Dance (Josh Turner)\": {\"frequency\": 153, \"value\": \"Why Don't We Just ...\"}, \"Everywhere I Go (Hollywood Undead)\": {\"frequency\": 370, \"value\": \"Everywhere I Go ...\"}, \"EMCEE Murdah (K-OS)\": {\"frequency\": 155, \"value\": \"EMCEE Murdah ...\"}, \"Heaven Must Be Missing An Angel (Tavares)\": {\"frequency\": 215, \"value\": \"Heaven Must Be ...\"}, \"Sandstorm (Darude)\": {\"frequency\": 322, \"value\": \"Sandstorm (Darude)\"}, \"The Big Gundown (The Prodigy)\": {\"frequency\": 215, \"value\": \"The Big Gundown ...\"}, \"American Soldier (Toby Keith)\": {\"frequency\": 203, \"value\": \"American Soldier ...\"}, \"Ragoo (Kings Of Leon)\": {\"frequency\": 163, \"value\": \"Ragoo (Kings Of ...\"}, \"Always (Blink-182)\": {\"frequency\": 563, \"value\": \"Always (Blink-182)\"}, \"The Pretender (Foo Fighters)\": {\"frequency\": 504, \"value\": \"The Pretender (Foo ...\"}, \"Don't Start Me Talkin' (Sonny Boy Williamson)\": {\"frequency\": 531, \"value\": \"Don't Start Me ...\"}, \"Baby Boy [feat. Beyonce] (Sean Paul)\": {\"frequency\": 269, \"value\": \"Baby Boy [feat. ...\"}, \"Give It To Me (Timbaland / Justin Timberlake / Nelly Furtado)\": {\"frequency\": 180, \"value\": \"Give It To Me ...\"}, \"Se\\ufffd\\ufffdorita (Justin Timberlake)\": {\"frequency\": 218, \"value\": \"Se\\u00f1orita (Justin ...\"}, \"I'm Made Of Wax_ Larry_ What Are You Made Of? (A Day To Remember)\": {\"frequency\": 150, \"value\": \"I'm Made Of Wax_ ...\"}, \"Love Song (Sara Bareilles)\": {\"frequency\": 307, \"value\": \"Love Song (Sara ...\"}, \"Victoria (LP Version) (Old 97's)\": {\"frequency\": 245, \"value\": \"Victoria (LP ...\"}, \"Hard Sun (Eddie Vedder)\": {\"frequency\": 141, \"value\": \"Hard Sun (Eddie ...\"}, \"Yeah! (Usher Featuring Lil' Jon & Ludacris)\": {\"frequency\": 732, \"value\": \"Yeah! (Usher ...\"}, \"Kiss With A Fist (Florence + The Machine)\": {\"frequency\": 558, \"value\": \"Kiss With A Fist ...\"}, \"Superstar Talking Blues (Edwyn Collins)\": {\"frequency\": 168, \"value\": \"Superstar Talking ...\"}, \"Running Away (Kevin Blechdom)\": {\"frequency\": 165, \"value\": \"Running Away ...\"}, \"Neon (John Mayer)\": {\"frequency\": 230, \"value\": \"Neon (John Mayer)\"}, \"All I Do Is Win (feat. T-Pain_ Ludacris_ Snoop Dogg & Rick Ross) (DJ Khaled)\": {\"frequency\": 740, \"value\": \"All I Do Is Win ...\"}, \"Run To The Hills (1998 Digital Remaster) (Iron Maiden)\": {\"frequency\": 188, \"value\": \"Run To The Hills ...\"}, \"If We Ever Meet Again (Timbaland / Katy Perry)\": {\"frequency\": 311, \"value\": \"If We Ever Meet ...\"}, \"Buddy Holly (Weezer)\": {\"frequency\": 273, \"value\": \"Buddy Holly ...\"}, \"Ignorance (Album Version) (Paramore)\": {\"frequency\": 202, \"value\": \"Ignorance (Album ...\"}, \"Slow Jamz (Feat. Kanye West & Jamie Foxx) (Edited Album Version) (Twista feat. Kayne West & Jamie Foxx)\": {\"frequency\": 289, \"value\": \"Slow Jamz (Feat. ...\"}, \"A Dustland Fairytale (The Killers)\": {\"frequency\": 154, \"value\": \"A Dustland ...\"}, \"Smile (Lily Allen)\": {\"frequency\": 297, \"value\": \"Smile (Lily Allen)\"}, \"Black Hole Sun (Soundgarden)\": {\"frequency\": 300, \"value\": \"Black Hole Sun ...\"}, \"The Way I Are (Timbaland / Keri Hilson / D.O.E.)\": {\"frequency\": 401, \"value\": \"The Way I Are ...\"}, \"Dick In A Box (The Lonely Island / Justin Timberlake)\": {\"frequency\": 164, \"value\": \"Dick In A Box (The ...\"}, \"Fortunate Son (Creedence Clearwater Revival)\": {\"frequency\": 368, \"value\": \"Fortunate Son ...\"}, \"Day 'N' Nite (Kid Cudi Vs Crookers)\": {\"frequency\": 1001, \"value\": \"Day 'N' Nite (Kid ...\"}, \"Here_ There And Everywhere (Erin Bode)\": {\"frequency\": 267, \"value\": \"Here_ There And ...\"}, \"Piggy (Nine Inch Nails)\": {\"frequency\": 230, \"value\": \"Piggy (Nine Inch ...\"}, \"Crazy (Aerosmith)\": {\"frequency\": 340, \"value\": \"Crazy (Aerosmith)\"}, \"Like A Boss (The Lonely Island)\": {\"frequency\": 313, \"value\": \"Like A Boss (The ...\"}, \"Dans Ma Bulle (Edit Radio - Live 2006) (Diam's)\": {\"frequency\": 273, \"value\": \"Dans Ma Bulle ...\"}, \"Boys Will Be Boys (The Ordinary Boys)\": {\"frequency\": 211, \"value\": \"Boys Will Be Boys ...\"}, \"Synchronicity II (The Police)\": {\"frequency\": 172, \"value\": \"Synchronicity II ...\"}, \"Besame (Camila)\": {\"frequency\": 157, \"value\": \"Besame (Camila)\"}, \"Fakty (Horkyze Slyze)\": {\"frequency\": 136, \"value\": \"Fakty (Horkyze ...\"}, \"Skinny Love (Bon Iver)\": {\"frequency\": 413, \"value\": \"Skinny Love (Bon ...\"}, \"Call On Me (Eric Prydz)\": {\"frequency\": 215, \"value\": \"Call On Me (Eric ...\"}, \"Shake (Ying Yang Twins ft. Pitbull)\": {\"frequency\": 165, \"value\": \"Shake (Ying Yang ...\"}, \"Creature Fear (Bon Iver)\": {\"frequency\": 148, \"value\": \"Creature Fear (Bon ...\"}, \"Colors Of The Wind (Vanessa Williams)\": {\"frequency\": 216, \"value\": \"Colors Of The Wind ...\"}, \"Eenie Meenie (Sean Kingston and Justin Bieber)\": {\"frequency\": 934, \"value\": \"Eenie Meenie (Sean ...\"}, \"Shining Down [feat. Matthew Santos] (Amended Album Version) (Lupe Fiasco)\": {\"frequency\": 181, \"value\": \"Shining Down ...\"}, \"For Once In My Life (Album Version) (Michael Bubl\\ufffd\\ufffd)\": {\"frequency\": 162, \"value\": \"For Once In My ...\"}, \"Here It Goes Again (Ok Go)\": {\"frequency\": 153, \"value\": \"Here It Goes Again ...\"}, \"What If (Film Version) (Kate Winslet)\": {\"frequency\": 156, \"value\": \"What If (Film ...\"}, \"Enter Sandman (Metallica)\": {\"frequency\": 442, \"value\": \"Enter Sandman ...\"}, \"Hero (Album Version) (Skillet)\": {\"frequency\": 280, \"value\": \"Hero (Album ...\"}, \"Swing_ Swing (The All-American Rejects)\": {\"frequency\": 235, \"value\": \"Swing_ Swing (The ...\"}, \"If I Ever Leave This World Alive (Flogging Molly)\": {\"frequency\": 160, \"value\": \"If I Ever Leave ...\"}, \"The Next Episode (Dr. Dre / Snoop Dogg)\": {\"frequency\": 246, \"value\": \"The Next Episode ...\"}, \"She's Good For You (Deana Carter)\": {\"frequency\": 153, \"value\": \"She's Good For You ...\"}, \"Harder Better Faster Stronger (Daft Punk)\": {\"frequency\": 805, \"value\": \"Harder Better ...\"}, \"Love Shack (The B-52's)\": {\"frequency\": 189, \"value\": \"Love Shack (The ...\"}, \"He Can Only Hold Her (Amy Winehouse)\": {\"frequency\": 139, \"value\": \"He Can Only Hold ...\"}, \"You And Me Jesus (Jake Hess)\": {\"frequency\": 476, \"value\": \"You And Me Jesus ...\"}, \"Sweet And Wild (Radney Foster)\": {\"frequency\": 321, \"value\": \"Sweet And Wild ...\"}, \"Reelin' In The Years (Steely Dan)\": {\"frequency\": 150, \"value\": \"Reelin' In The ...\"}, \"Do You Remember (Moose)\": {\"frequency\": 242, \"value\": \"Do You Remember ...\"}, \"Feuer Frei (Rammstein)\": {\"frequency\": 214, \"value\": \"Feuer Frei ...\"}, \"Big Green Tractor (Jason Aldean)\": {\"frequency\": 262, \"value\": \"Big Green Tractor ...\"}, \"Superballs (Insane Clown Posse)\": {\"frequency\": 244, \"value\": \"Superballs (Insane ...\"}, \"Love All The Pain Away (Ronski Speed)\": {\"frequency\": 141, \"value\": \"Love All The Pain ...\"}, \"Too Shy (Kajagoogoo)\": {\"frequency\": 197, \"value\": \"Too Shy ...\"}, \"Gente Que No (Los Aut\\ufffd\\ufffdnticos Decadentes)\": {\"frequency\": 211, \"value\": \"Gente Que No (Los ...\"}, \"Rollin' (Air Raid Vehicle) (Limp Bizkit)\": {\"frequency\": 201, \"value\": \"Rollin' (Air Raid ...\"}, \"Crazy Little Thing Called Love (Album Version) (Michael Bubl\\ufffd\\ufffd)\": {\"frequency\": 191, \"value\": \"Crazy Little Thing ...\"}, \"Zero (Yeah Yeah Yeahs)\": {\"frequency\": 152, \"value\": \"Zero (Yeah Yeah ...\"}, \"We Belong Together (Mariah Carey)\": {\"frequency\": 256, \"value\": \"We Belong Together ...\"}, \"I'm With You (Avril Lavigne)\": {\"frequency\": 410, \"value\": \"I'm With You ...\"}, \"Heartbreak Warfare (John Mayer)\": {\"frequency\": 1110, \"value\": \"Heartbreak Warfare ...\"}, \"Clara meets Slope - Hard To Say (Clara Hill)\": {\"frequency\": 161, \"value\": \"Clara meets Slope ...\"}, \"Replay (Iyaz)\": {\"frequency\": 322, \"value\": \"Replay (Iyaz)\"}, \"It's Not My Time (3 Doors Down)\": {\"frequency\": 153, \"value\": \"It's Not My Time ...\"}, \"Speak (Godsmack)\": {\"frequency\": 233, \"value\": \"Speak (Godsmack)\"}, \"Atr\\ufffd\\ufffdvete te te (Calle 13)\": {\"frequency\": 217, \"value\": \"Atr\\u00e9vete te te ...\"}, \"Cold As You (Taylor Swift)\": {\"frequency\": 437, \"value\": \"Cold As You ...\"}, \"Complicated (Avril Lavigne)\": {\"frequency\": 190, \"value\": \"Complicated (Avril ...\"}, \"Patience (Guns N' Roses)\": {\"frequency\": 331, \"value\": \"Patience (Guns N' ...\"}, \"My Life Would Suck Without You (Kelly Clarkson)\": {\"frequency\": 291, \"value\": \"My Life Would Suck ...\"}, \"Glitter In The Air (P!nk)\": {\"frequency\": 215, \"value\": \"Glitter In The Air ...\"}, \"The Maestro (Beastie Boys)\": {\"frequency\": 603, \"value\": \"The Maestro ...\"}, \"The Whole World (Outkast Featuring Killer Mike)\": {\"frequency\": 135, \"value\": \"The Whole World ...\"}, \"Born To Be Wild (Steppenwolf)\": {\"frequency\": 279, \"value\": \"Born To Be Wild ...\"}, \"Inside The Fire (Album Version) (Disturbed)\": {\"frequency\": 197, \"value\": \"Inside The Fire ...\"}, \"It Wasn't Me (Shaggy / Ricardo Ducent)\": {\"frequency\": 148, \"value\": \"It Wasn't Me ...\"}, \"Loba (Shakira)\": {\"frequency\": 157, \"value\": \"Loba (Shakira)\"}, \"Overboard (Justin Bieber / Jessica Jarrell)\": {\"frequency\": 340, \"value\": \"Overboard (Justin ...\"}, \"Mona Lisa (When The World Comes Down) (The All-American Rejects)\": {\"frequency\": 167, \"value\": \"Mona Lisa (When ...\"}, \"S.O.S. (Jonas Brothers)\": {\"frequency\": 169, \"value\": \"S.O.S. (Jonas ...\"}, \"I'm In Miami Bitch (LMFAO)\": {\"frequency\": 173, \"value\": \"I'm In Miami Bitch ...\"}, \"Picture (Sheryl Crow)\": {\"frequency\": 323, \"value\": \"Picture (Sheryl ...\"}, \"Get Me Bodied (Beyonc\\ufffd\\ufffd)\": {\"frequency\": 174, \"value\": \"Get Me Bodied ...\"}, \"Speed Of Life (Sugarland)\": {\"frequency\": 169, \"value\": \"Speed Of Life ...\"}, \"Octavo D\\ufffd\\ufffda (Shakira)\": {\"frequency\": 249, \"value\": \"Octavo D\\u00eda ...\"}, \"Save The Last Dance For Me [Ralphi Rosario Anthomic Vocal] (Michael Bubl\\ufffd\\ufffd)\": {\"frequency\": 186, \"value\": \"Save The Last ...\"}, \"Como Duele (Album) (Ricardo Arjona)\": {\"frequency\": 150, \"value\": \"Como Duele (Album) ...\"}, \"Brianstorm (Arctic Monkeys)\": {\"frequency\": 147, \"value\": \"Brianstorm (Arctic ...\"}, \"Hero Of War (Rise Against)\": {\"frequency\": 167, \"value\": \"Hero Of War (Rise ...\"}, \"The Ballad of Michael Valentine (The Killers)\": {\"frequency\": 224, \"value\": \"The Ballad of ...\"}, \"Make It Mine (Album Version) (Jason Mraz)\": {\"frequency\": 185, \"value\": \"Make It Mine ...\"}, \"My Moon My Man (Feist)\": {\"frequency\": 208, \"value\": \"My Moon My Man ...\"}, \"Lovefool (The Cardigans)\": {\"frequency\": 179, \"value\": \"Lovefool (The ...\"}, \"Rio (Another Sunny Day)\": {\"frequency\": 248, \"value\": \"Rio (Another Sunny ...\"}, \"Frank Sinatra (Cake)\": {\"frequency\": 254, \"value\": \"Frank Sinatra ...\"}, \"O Samba E O Tango (Caetano Veloso)\": {\"frequency\": 140, \"value\": \"O Samba E O Tango ...\"}, \"When You Were Young (The Killers)\": {\"frequency\": 945, \"value\": \"When You Were ...\"}, \"Bigger Isn't Better (The String Cheese Incident)\": {\"frequency\": 283, \"value\": \"Bigger Isn't ...\"}, \"Bubbly (Colbie Caillat)\": {\"frequency\": 263, \"value\": \"Bubbly (Colbie ...\"}, \"Gold Guns Girls (Metric)\": {\"frequency\": 256, \"value\": \"Gold Guns Girls ...\"}, \"Hey Stephen (Taylor Swift)\": {\"frequency\": 208, \"value\": \"Hey Stephen ...\"}, \"Another Day In Paradise (Phil Collins)\": {\"frequency\": 169, \"value\": \"Another Day In ...\"}, \"Slow Dancing In A Burning Room (John Mayer)\": {\"frequency\": 318, \"value\": \"Slow Dancing In A ...\"}, \"Boombastic (Shaggy)\": {\"frequency\": 228, \"value\": \"Boombastic ...\"}, \"Lively Up Yourself (Bob Marley)\": {\"frequency\": 201, \"value\": \"Lively Up Yourself ...\"}, \"Howlin\\u0019 For You (The Black Keys)\": {\"frequency\": 387, \"value\": \"Howlin\\u0019 For You ...\"}, \"One Time (Justin Bieber)\": {\"frequency\": 717, \"value\": \"One Time (Justin ...\"}, \"Push It (Salt-N-Pepa)\": {\"frequency\": 157, \"value\": \"Push It ...\"}, \"Sehr kosmisch (Harmonia)\": {\"frequency\": 5044, \"value\": \"Sehr kosmisch ...\"}, \"Would? (Alice In Chains)\": {\"frequency\": 136, \"value\": \"Would? (Alice In ...\"}, \"The Remedy (I Won't Worry) (New EQ'd LP Version) (Jason Mraz)\": {\"frequency\": 204, \"value\": \"The Remedy (I ...\"}, \"Hips Don't Lie (featuring Wyclef Jean) (Shakira Featuring Wyclef Jean)\": {\"frequency\": 607, \"value\": \"Hips Don't Lie ...\"}, \"Wavin'  Flag (K'Naan)\": {\"frequency\": 303, \"value\": \"Wavin'  Flag ...\"}, \"I Want You (Kings Of Leon)\": {\"frequency\": 444, \"value\": \"I Want You (Kings ...\"}, \"Smile Version Revisited (Mark Ronson Remix) (Explicit) (Lily Allen)\": {\"frequency\": 149, \"value\": \"Smile Version ...\"}, \"Chicken Fried (Album) (Zac Brown Band)\": {\"frequency\": 276, \"value\": \"Chicken Fried ...\"}, \"Jesus Walks (Kanye West)\": {\"frequency\": 242, \"value\": \"Jesus Walks (Kanye ...\"}, \"Lazy Eye [Jason Bentley Remix] (Silversun Pickups)\": {\"frequency\": 161, \"value\": \"Lazy Eye [Jason ...\"}, \"My Immortal (Album Version) (Evanescence)\": {\"frequency\": 541, \"value\": \"My Immortal (Album ...\"}, \"The General (Dispatch)\": {\"frequency\": 186, \"value\": \"The General ...\"}, \"Two Is Better Than One (Boys Like Girls featuring Taylor Swift)\": {\"frequency\": 233, \"value\": \"Two Is Better Than ...\"}, \"Red Right Ankle (The Decemberists)\": {\"frequency\": 172, \"value\": \"Red Right Ankle ...\"}, \"My Boy Builds Coffins (Florence + The Machine)\": {\"frequency\": 318, \"value\": \"My Boy Builds ...\"}, \"Doperide (Saliva)\": {\"frequency\": 167, \"value\": \"Doperide (Saliva)\"}, \"Roger That (Young Money)\": {\"frequency\": 145, \"value\": \"Roger That (Young ...\"}, \"Down To Earth (Justin Bieber)\": {\"frequency\": 426, \"value\": \"Down To Earth ...\"}, \"Deepest Blue (Deepest Blue)\": {\"frequency\": 188, \"value\": \"Deepest Blue ...\"}, \"Behind The Sea [Live In Chicago] (Panic At The Disco)\": {\"frequency\": 603, \"value\": \"Behind The Sea ...\"}, \"Find You Waiting (DecembeRadio)\": {\"frequency\": 195, \"value\": \"Find You Waiting ...\"}, \"Seven Nation Army (The White Stripes)\": {\"frequency\": 797, \"value\": \"Seven Nation Army ...\"}, \"Die Kunst der Fuge_ BWV 1080 (2007 Digital Remaster): Contrapunctus XVII - Inversus (Lionel Rogg)\": {\"frequency\": 179, \"value\": \"Die Kunst der ...\"}, \"Bigger (Justin Bieber)\": {\"frequency\": 229, \"value\": \"Bigger (Justin ...\"}, \"Don't Panic (Coldplay)\": {\"frequency\": 309, \"value\": \"Don't Panic ...\"}, \"All Tomorrow's Parties (The Velvet Underground / Nico)\": {\"frequency\": 271, \"value\": \"All Tomorrow's ...\"}, \"Say It Ain't So (Weezer)\": {\"frequency\": 499, \"value\": \"Say It Ain't So ...\"}, \"Heiterkeit (PeterLicht)\": {\"frequency\": 203, \"value\": \"Heiterkeit ...\"}, \"Losing Touch (The Killers)\": {\"frequency\": 242, \"value\": \"Losing Touch (The ...\"}, \"Gunpowder & Lead (Miranda Lambert)\": {\"frequency\": 188, \"value\": \"Gunpowder & Lead ...\"}, \"Sexy Bitch (DJ Dizzy)\": {\"frequency\": 987, \"value\": \"Sexy Bitch (DJ ...\"}, \"Dance_ Dance (Fall Out Boy)\": {\"frequency\": 669, \"value\": \"Dance_ Dance (Fall ...\"}, \"Lump Sum (Bon Iver)\": {\"frequency\": 159, \"value\": \"Lump Sum (Bon ...\"}, \"More Than Words (Extreme)\": {\"frequency\": 215, \"value\": \"More Than Words ...\"}, \"Island In The Sun (Weezer)\": {\"frequency\": 305, \"value\": \"Island In The Sun ...\"}, \"Pass Out (Instrumental) (Tinie Tempah)\": {\"frequency\": 166, \"value\": \"Pass Out ...\"}, \"Mrs. Officer (Lil Wayne / Bobby Valentino / Kidd Kidd)\": {\"frequency\": 232, \"value\": \"Mrs. Officer (Lil ...\"}, \"Favorite Girl (Justin Bieber)\": {\"frequency\": 282, \"value\": \"Favorite Girl ...\"}, \"Quelqu'un M'a Dit (Album Version) (Carla Bruni)\": {\"frequency\": 175, \"value\": \"Quelqu'un M'a Dit ...\"}, \"Takin' Back My Love (Enrique Iglesias / Ciara)\": {\"frequency\": 137, \"value\": \"Takin' Back My ...\"}, \"As The Sun Still Burns Away (2002 Digital Remaster) (Ten Years After)\": {\"frequency\": 152, \"value\": \"As The Sun Still ...\"}, \"Common Denominator (Justin Bieber)\": {\"frequency\": 248, \"value\": \"Common Denominator ...\"}, \"Alejate De Mi (Camila)\": {\"frequency\": 271, \"value\": \"Alejate De Mi ...\"}, \"Check On It (Beyonc\\ufffd\\ufffd feat. Slim Thug)\": {\"frequency\": 242, \"value\": \"Check On It ...\"}, \"In The Waiting Line (Zero 7)\": {\"frequency\": 189, \"value\": \"In The Waiting ...\"}, \"Don't Cry (Original) (Guns N' Roses)\": {\"frequency\": 383, \"value\": \"Don't Cry ...\"}, \"Yesterday Once More (Carpenters)\": {\"frequency\": 187, \"value\": \"Yesterday Once ...\"}, \"Hips Don't Lie (Shakira ft. Wyclef Jean)\": {\"frequency\": 608, \"value\": \"Hips Don't Lie ...\"}, \"I'm Still Breathing (Katy Perry)\": {\"frequency\": 213, \"value\": \"I'm Still ...\"}, \"My Name Is (Eminem)\": {\"frequency\": 1106, \"value\": \"My Name Is ...\"}, \"Bad Company (Five Finger Death Punch)\": {\"frequency\": 448, \"value\": \"Bad Company (Five ...\"}, \"Don't Matter (Akon)\": {\"frequency\": 196, \"value\": \"Don't Matter ...\"}, \"Underground (Eminem)\": {\"frequency\": 187, \"value\": \"Underground ...\"}, \"Musti Sotakoira (2007 Digital Remaster) (Kollaa Kest\\ufffd\\ufffd\\ufffd\\ufffd)\": {\"frequency\": 187, \"value\": \"Musti Sotakoira ...\"}, \"Homecoming (Kanye West)\": {\"frequency\": 313, \"value\": \"Homecoming (Kanye ...\"}, \"The Way Things Go (Octopus Project)\": {\"frequency\": 299, \"value\": \"The Way Things Go ...\"}, \"You And I Both (LP Version) (Jason Mraz)\": {\"frequency\": 141, \"value\": \"You And I Both (LP ...\"}, \"Psychotic Girl (The Black Keys)\": {\"frequency\": 232, \"value\": \"Psychotic Girl ...\"}, \"Behind Blue Eyes (Limp Bizkit)\": {\"frequency\": 163, \"value\": \"Behind Blue Eyes ...\"}, \"Words So Leisured (Franz Ferdinand)\": {\"frequency\": 154, \"value\": \"Words So Leisured ...\"}, \"Nothin' On You [feat. Bruno Mars] (Album Version) (B.o.B)\": {\"frequency\": 2348, \"value\": \"Nothin' On You ...\"}, \"DARE (Gorillaz)\": {\"frequency\": 203, \"value\": \"DARE (Gorillaz)\"}, \"Sky Might Fall (Kid Cudi)\": {\"frequency\": 151, \"value\": \"Sky Might Fall ...\"}, \"The Queen of Nothing (+ / - {Plus/Minus})\": {\"frequency\": 163, \"value\": \"The Queen of ...\"}, \"The Way You Make Me Feel (Michael Jackson)\": {\"frequency\": 184, \"value\": \"The Way You Make ...\"}, \"Crack A Bottle (Eminem / Dr. Dre / 50 Cent)\": {\"frequency\": 788, \"value\": \"Crack A Bottle ...\"}, \"Girlfriend (Phoenix)\": {\"frequency\": 180, \"value\": \"Girlfriend ...\"}, \"Take Me Out (Franz Ferdinand)\": {\"frequency\": 305, \"value\": \"Take Me Out (Franz ...\"}, \"Relax (Frankie Goes To Hollywood)\": {\"frequency\": 149, \"value\": \"Relax (Frankie ...\"}, \"I Still Haven't Found What I'm Looking For (U2)\": {\"frequency\": 253, \"value\": \"I Still Haven't ...\"}, \"Better Man (Pearl Jam)\": {\"frequency\": 170, \"value\": \"Better Man (Pearl ...\"}, \"Jamaica Roots II(Agora E Sempre) (Natiruts)\": {\"frequency\": 762, \"value\": \"Jamaica Roots ...\"}, \"BedRock (Radio Edit) (feat.Lloyd) (Young Money featuring Lloyd)\": {\"frequency\": 596, \"value\": \"BedRock (Radio ...\"}, \"Wagon Wheel (Old Crow Medicine Show)\": {\"frequency\": 151, \"value\": \"Wagon Wheel (Old ...\"}, \"Infinity 2008 (Guru Josh Project)\": {\"frequency\": 155, \"value\": \"Infinity 2008 ...\"}, \"The Fear (Lily Allen)\": {\"frequency\": 255, \"value\": \"The Fear (Lily ...\"}, \"Good Life (Kanye West / T-Pain)\": {\"frequency\": 269, \"value\": \"Good Life (Kanye ...\"}, \"All The Right Moves (OneRepublic)\": {\"frequency\": 970, \"value\": \"All The Right ...\"}, \"Say What You Say (Eminem / Dr. Dre)\": {\"frequency\": 199, \"value\": \"Say What You Say ...\"}, \"Nearly Home (Lange)\": {\"frequency\": 191, \"value\": \"Nearly Home ...\"}, \"The Calculation (Album Version) (Regina Spektor)\": {\"frequency\": 169, \"value\": \"The Calculation ...\"}, \"(They Long To Be) Close To You (Carpenters)\": {\"frequency\": 167, \"value\": \"(They Long To Be) ...\"}, \"Welk (Bohren & Der Club Of Gore)\": {\"frequency\": 210, \"value\": \"Welk (Bohren & Der ...\"}, \"I?'m A Steady Rollin? Man (Robert Johnson)\": {\"frequency\": 162, \"value\": \"I?'m A Steady ...\"}, \"I Need A Dollar (Aloe Blacc)\": {\"frequency\": 320, \"value\": \"I Need A Dollar ...\"}, \"Waterfall (Triumvirat)\": {\"frequency\": 332, \"value\": \"Waterfall ...\"}, \"Digital Love (Daft Punk)\": {\"frequency\": 262, \"value\": \"Digital Love (Daft ...\"}, \"Dear God (Album Version) (Avenged Sevenfold)\": {\"frequency\": 141, \"value\": \"Dear God (Album ...\"}, \"She's Everything (Brad Paisley)\": {\"frequency\": 213, \"value\": \"She's Everything ...\"}, \"Falling Slowly (Album version) (Glen Hansard & Marketa Irglova)\": {\"frequency\": 146, \"value\": \"Falling Slowly ...\"}, \"Everything (Lifehouse)\": {\"frequency\": 179, \"value\": \"Everything ...\"}, \"Purple Rain (Prince & The Revolution)\": {\"frequency\": 159, \"value\": \"Purple Rain ...\"}, \"Alright (Darius Rucker)\": {\"frequency\": 176, \"value\": \"Alright (Darius ...\"}, \"If I Had You (Adam Lambert)\": {\"frequency\": 799, \"value\": \"If I Had You (Adam ...\"}, \"Paper Gangsta (Lady GaGa)\": {\"frequency\": 225, \"value\": \"Paper Gangsta ...\"}, \"Wait And Bleed (Album Version) (Slipknot)\": {\"frequency\": 168, \"value\": \"Wait And Bleed ...\"}, \"Touch My Body (Mariah Carey)\": {\"frequency\": 142, \"value\": \"Touch My Body ...\"}, \"Air Force Ones (Nelly / David Banner / 8-Ball)\": {\"frequency\": 139, \"value\": \"Air Force Ones ...\"}, \"Never Say Never (Armin van Buuren)\": {\"frequency\": 178, \"value\": \"Never Say Never ...\"}, \"Catch You Baby (Steve Pitron & Max Sanna Radio Edit) (Lonnie Gordon)\": {\"frequency\": 2097, \"value\": \"Catch You Baby ...\"}, \"Breaking The Habit (Album Version) (Linkin Park)\": {\"frequency\": 153, \"value\": \"Breaking The Habit ...\"}, \"Romeo And Juliet (The Killers)\": {\"frequency\": 173, \"value\": \"Romeo And Juliet ...\"}, \"No One Knows (Queens Of The Stone Age)\": {\"frequency\": 175, \"value\": \"No One Knows ...\"}, \"Hello (Evanescence)\": {\"frequency\": 280, \"value\": \"Hello ...\"}, \"Shadow Of The Day (Album Version) (Linkin Park)\": {\"frequency\": 151, \"value\": \"Shadow Of The Day ...\"}, \"Breathe (Prodigy)\": {\"frequency\": 165, \"value\": \"Breathe (Prodigy)\"}, \"Handlebars (UK Radio Edit) (Flobots)\": {\"frequency\": 165, \"value\": \"Handlebars (UK ...\"}, \"Nothing Better (Album) (Postal Service)\": {\"frequency\": 476, \"value\": \"Nothing Better ...\"}, \"I Hate Pretending (Album Version) (Secret Machines)\": {\"frequency\": 182, \"value\": \"I Hate Pretending ...\"}, \"Now I'm High_ Really High (Triple Six Mafia)\": {\"frequency\": 235, \"value\": \"Now I'm High_ ...\"}, \"Wish You Were Here (Incubus)\": {\"frequency\": 157, \"value\": \"Wish You Were Here ...\"}, \"Replay (Album Version) (Iyaz)\": {\"frequency\": 186, \"value\": \"Replay (Album ...\"}, \"Wild World (Cat Stevens)\": {\"frequency\": 309, \"value\": \"Wild World (Cat ...\"}, \"Citizen/Soldier (3 Doors Down)\": {\"frequency\": 140, \"value\": \"Citizen/Soldier (3 ...\"}, \"Taylor (Jack Johnson)\": {\"frequency\": 227, \"value\": \"Taylor (Jack ...\"}, \"Walk This Way (Aerosmith)\": {\"frequency\": 178, \"value\": \"Walk This Way ...\"}, \"Alright (Mystikal)\": {\"frequency\": 153, \"value\": \"Alright (Mystikal)\"}, \"Resistance (Muse)\": {\"frequency\": 569, \"value\": \"Resistance (Muse)\"}, \"Let Down (Radiohead)\": {\"frequency\": 285, \"value\": \"Let Down ...\"}, \"Down On The Corner (Creedence Clearwater Revival)\": {\"frequency\": 236, \"value\": \"Down On The Corner ...\"}, \"Soulful Dress (Sugar Pie DeSanto)\": {\"frequency\": 165, \"value\": \"Soulful Dress ...\"}, \"Mamma (Bram Vermeulen)\": {\"frequency\": 149, \"value\": \"Mamma (Bram ...\"}, \"I Second That Emotion (Smokey Robinson & The Miracles)\": {\"frequency\": 276, \"value\": \"I Second That ...\"}, \"Lights & Music (Cut Copy)\": {\"frequency\": 228, \"value\": \"Lights & Music ...\"}, \"3AM (LP Version) (matchbox twenty)\": {\"frequency\": 208, \"value\": \"3AM (LP Version) ...\"}, \"D.A.N.C.E. [Radio Edit] (Justice)\": {\"frequency\": 159, \"value\": \"D.A.N.C.E. [Radio ...\"}, \"Above The Clouds (Edited) (Gang Starr/Inspectah Deck)\": {\"frequency\": 218, \"value\": \"Above The Clouds ...\"}, \"Susie Q (Creedence Clearwater Revival)\": {\"frequency\": 136, \"value\": \"Susie Q (Creedence ...\"}, \"No Surprise (Daughtry)\": {\"frequency\": 197, \"value\": \"No Surprise ...\"}, \"Baker's Blue Jay Yarn (Dakota Oak)\": {\"frequency\": 425, \"value\": \"Baker's Blue Jay ...\"}, \"Hallelujah (Rufus Wainwright)\": {\"frequency\": 265, \"value\": \"Hallelujah (Rufus ...\"}, \"Rain Is A Good Thing (Luke Bryan)\": {\"frequency\": 196, \"value\": \"Rain Is A Good ...\"}, \"Smooth Operator (Sade)\": {\"frequency\": 125, \"value\": \"Smooth Operator ...\"}, \"Walking On Sunshine (Katrina & The Waves)\": {\"frequency\": 160, \"value\": \"Walking On ...\"}, \"Venus (Air)\": {\"frequency\": 173, \"value\": \"Venus (Air)\"}, \"You Give Love A Bad Name (Bon Jovi)\": {\"frequency\": 424, \"value\": \"You Give Love A ...\"}, \"Move Along (The All-American Rejects)\": {\"frequency\": 419, \"value\": \"Move Along (The ...\"}, \"Don't Stop The Music (Rihanna)\": {\"frequency\": 1708, \"value\": \"Don't Stop The ...\"}, \"People Are Crazy (Billy Curringham)\": {\"frequency\": 171, \"value\": \"People Are Crazy ...\"}, \"Pursuit Of Happiness (nightmare) (Kid Cudi / MGMT / Ratatat)\": {\"frequency\": 1684, \"value\": \"Pursuit Of ...\"}, \"Lo  Que Tengo Yo Adentro (Pereza)\": {\"frequency\": 146, \"value\": \"Lo  Que Tengo Yo ...\"}, \"Paper Planes (M.I.A.)\": {\"frequency\": 635, \"value\": \"Paper Planes ...\"}, \"If You Want To Sing Out_ Sing Out (Cat Stevens)\": {\"frequency\": 182, \"value\": \"If You Want To ...\"}, \"Oh_ The Devastation (So Many Dynamos)\": {\"frequency\": 133, \"value\": \"Oh_ The ...\"}, \"Home (Edward Sharpe & The Magnetic Zeros)\": {\"frequency\": 845, \"value\": \"Home (Edward ...\"}, \"DVNO (Justice)\": {\"frequency\": 288, \"value\": \"DVNO (Justice)\"}, \"Hypnopaedia (Octopus Project)\": {\"frequency\": 274, \"value\": \"Hypnopaedia ...\"}, \"Already Gone (Kelly Clarkson)\": {\"frequency\": 425, \"value\": \"Already Gone ...\"}, \"Here We Are (Family In The Hallways) (The Appleseed Cast)\": {\"frequency\": 150, \"value\": \"Here We Are ...\"}, \"Agua (Jarabe De Palo)\": {\"frequency\": 144, \"value\": \"Agua (Jarabe De ...\"}, \"Word Up! (Cameo)\": {\"frequency\": 321, \"value\": \"Word Up! (Cameo)\"}, \"Youth Against Fascism (Sonic Youth)\": {\"frequency\": 154, \"value\": \"Youth Against ...\"}, \"Quando_ Quando_ Quando (Album Version) (Michael Bubl\\ufffd\\ufffd (With Nelly Furtado))\": {\"frequency\": 157, \"value\": \"Quando_ Quando_ ...\"}, \"Once In A Lifetime (Wolfsheim)\": {\"frequency\": 180, \"value\": \"Once In A Lifetime ...\"}, \"Colgando en tus manos (con Marta Sanchez) (Carlos Baute)\": {\"frequency\": 140, \"value\": \"Colgando en tus ...\"}, \"Where'd You Go (Featuring Holly Brook & Jonah Matranga) (Album Version) (Fort Minor [Featuring Holly Brook And Jonah Matranga])\": {\"frequency\": 141, \"value\": \"Where'd You Go ...\"}, \"Whatcha Say (Jason Derulo)\": {\"frequency\": 856, \"value\": \"Whatcha Say (Jason ...\"}, \"The Want Ad (Pandora's Box)\": {\"frequency\": 381, \"value\": \"The Want Ad ...\"}, \"Personal Jesus (Depeche Mode)\": {\"frequency\": 137, \"value\": \"Personal Jesus ...\"}, \"True (Spandau Ballet)\": {\"frequency\": 127, \"value\": \"True (Spandau ...\"}, \"Maybe (Sick Puppies)\": {\"frequency\": 211, \"value\": \"Maybe (Sick ...\"}, \"Hero (Enrique Iglesias)\": {\"frequency\": 455, \"value\": \"Hero (Enrique ...\"}, \"Human After All (Daft Punk)\": {\"frequency\": 191, \"value\": \"Human After All ...\"}, \"Gravity (John Mayer)\": {\"frequency\": 199, \"value\": \"Gravity (John ...\"}, \"Angie (The Rolling Stones)\": {\"frequency\": 324, \"value\": \"Angie (The Rolling ...\"}, \"Mr. Jones (Counting Crows)\": {\"frequency\": 495, \"value\": \"Mr. Jones ...\"}, \"What Goes Around...Comes Around (Justin Timberlake)\": {\"frequency\": 522, \"value\": \"What Goes ...\"}, \"Keep The Car Running (Arcade Fire)\": {\"frequency\": 167, \"value\": \"Keep The Car ...\"}, \"Technologic (Daft Punk)\": {\"frequency\": 181, \"value\": \"Technologic (Daft ...\"}, \"Solid State (Menno De Jong feat. Relocate)\": {\"frequency\": 139, \"value\": \"Solid State (Menno ...\"}, \"Undo (Bj\\ufffd\\ufffdrk)\": {\"frequency\": 4484, \"value\": \"Undo (Bj\\u00f6rk)\"}, \"Revelry (Kings Of Leon)\": {\"frequency\": 3674, \"value\": \"Revelry (Kings Of ...\"}, \"Hey (Pixies)\": {\"frequency\": 185, \"value\": \"Hey (Pixies)\"}, \"The Kids Don\\u0019t Stand A Chance (Album) (Vampire Weekend)\": {\"frequency\": 176, \"value\": \"The Kids Don\\u0019t ...\"}, \"The District Sleeps Alone Tonight (Album) (Postal Service)\": {\"frequency\": 202, \"value\": \"The District ...\"}, \"Just Lose It (Eminem)\": {\"frequency\": 685, \"value\": \"Just Lose It ...\"}, \"Saturdays (Cut Copy)\": {\"frequency\": 146, \"value\": \"Saturdays (Cut ...\"}, \"Heads Will Roll (Yeah Yeah Yeahs)\": {\"frequency\": 494, \"value\": \"Heads Will Roll ...\"}, \"Put Your Records On (Corinne Bailey Rae)\": {\"frequency\": 208, \"value\": \"Put Your Records ...\"}, \"Fuck Kitty (Frumpies)\": {\"frequency\": 718, \"value\": \"Fuck Kitty ...\"}, \"No You Girls (Franz Ferdinand)\": {\"frequency\": 171, \"value\": \"No You Girls ...\"}, \"Almost Lover (Album Version) (A Fine Frenzy)\": {\"frequency\": 206, \"value\": \"Almost Lover ...\"}, \"Again & Again (the bird and the bee)\": {\"frequency\": 186, \"value\": \"Again & Again (the ...\"}, \"One Of The Boys (Katy Perry)\": {\"frequency\": 150, \"value\": \"One Of The Boys ...\"}, \"XRDS (Covenant)\": {\"frequency\": 143, \"value\": \"XRDS (Covenant)\"}, \"Una Confusion (LU)\": {\"frequency\": 340, \"value\": \"Una Confusion (LU)\"}, \"Recado Falado (Metr\\ufffd\\ufffd Da Saudade) (Alceu Valen\\ufffd\\ufffda)\": {\"frequency\": 294, \"value\": \"Recado Falado ...\"}, \"Supermassive Black Hole (Twilight Soundtrack Version) (Muse)\": {\"frequency\": 926, \"value\": \"Supermassive Black ...\"}, \"Gunn Clapp (O.G.C.)\": {\"frequency\": 296, \"value\": \"Gunn Clapp ...\"}, \"Invincible (Muse)\": {\"frequency\": 221, \"value\": \"Invincible (Muse)\"}, \"Gimme Sympathy (Metric)\": {\"frequency\": 162, \"value\": \"Gimme Sympathy ...\"}, \"El Cuatrero (Miguel Calo)\": {\"frequency\": 177, \"value\": \"El Cuatrero ...\"}, \"Sayonara-Nostalgia (Base Ball Bear)\": {\"frequency\": 743, \"value\": \"Sayonara-Nostalgia ...\"}, \"Your Mother Should Have Told You (Robert Palmer)\": {\"frequency\": 134, \"value\": \"Your Mother Should ...\"}, \"Silent Lucidity (2002 Digital Remaster) (Queensryche)\": {\"frequency\": 182, \"value\": \"Silent Lucidity ...\"}, \"If You're Gone (Remastered Version) (matchbox twenty)\": {\"frequency\": 142, \"value\": \"If You're Gone ...\"}, \"My Name Is Jonas (Weezer)\": {\"frequency\": 172, \"value\": \"My Name Is Jonas ...\"}, \"Me & U (Cassie Feat. Diddy & Yung Joc)\": {\"frequency\": 159, \"value\": \"Me & U (Cassie ...\"}, \"Rome (Phoenix)\": {\"frequency\": 165, \"value\": \"Rome (Phoenix)\"}, \"Drops Of Jupiter (Train)\": {\"frequency\": 315, \"value\": \"Drops Of Jupiter ...\"}, \"When You Feel The Mess (Starflyer 59)\": {\"frequency\": 209, \"value\": \"When You Feel The ...\"}, \"Civil War (Guns N' Roses)\": {\"frequency\": 249, \"value\": \"Civil War (Guns N' ...\"}, \"Just The Way You Are (Barry White)\": {\"frequency\": 182, \"value\": \"Just The Way You ...\"}, \"Lava Lava (Boys Noize)\": {\"frequency\": 167, \"value\": \"Lava Lava (Boys ...\"}, \"Burden In My Hand (Soundgarden)\": {\"frequency\": 254, \"value\": \"Burden In My Hand ...\"}, \"The Way I Loved You (Taylor Swift)\": {\"frequency\": 177, \"value\": \"The Way I Loved ...\"}, \"Of Wolf And Man (Metallica)\": {\"frequency\": 165, \"value\": \"Of Wolf And Man ...\"}, \"The Memory Remains (Metallica / Marianne Faithfull)\": {\"frequency\": 330, \"value\": \"The Memory Remains ...\"}, \"Tim McGraw (Taylor Swift)\": {\"frequency\": 438, \"value\": \"Tim McGraw (Taylor ...\"}, \"The Middle (Jimmy Eat World)\": {\"frequency\": 584, \"value\": \"The Middle (Jimmy ...\"}, \"Help I'm Alive (Metric)\": {\"frequency\": 354, \"value\": \"Help I'm Alive ...\"}, \"Good Life (OneRepublic)\": {\"frequency\": 178, \"value\": \"Good Life ...\"}, \"Paradise City (Guns N' Roses)\": {\"frequency\": 744, \"value\": \"Paradise City ...\"}, \"When You're Gone (Avril Lavigne)\": {\"frequency\": 381, \"value\": \"When You're Gone ...\"}, \"V\\ufffd\\ufffdNDORMAD\\ufffd\\ufffdR (Crystal)\": {\"frequency\": 206, \"value\": \"V\\u00c1NDORMAD\\u00c1R ...\"}, \"Trouble (Coldplay)\": {\"frequency\": 205, \"value\": \"Trouble (Coldplay)\"}, \"Gears (Future Rock)\": {\"frequency\": 973, \"value\": \"Gears (Future ...\"}, \"Magic Carpet Ride (Steppenwolf)\": {\"frequency\": 159, \"value\": \"Magic Carpet Ride ...\"}, \"If I Ain't Got You (Alicia Keys)\": {\"frequency\": 446, \"value\": \"If I Ain't Got You ...\"}, \"Head Over Heels (Tears For Fears)\": {\"frequency\": 150, \"value\": \"Head Over Heels ...\"}, \"Mia (Emmy The Great)\": {\"frequency\": 337, \"value\": \"Mia (Emmy The ...\"}, \"Real World (The All-American Rejects)\": {\"frequency\": 187, \"value\": \"Real World (The ...\"}, \"Tomorrow (Avril Lavigne)\": {\"frequency\": 174, \"value\": \"Tomorrow (Avril ...\"}, \"Naturally (Selena Gomez & The Scene)\": {\"frequency\": 465, \"value\": \"Naturally (Selena ...\"}, \"West One (Shine On Me) (The Ruts)\": {\"frequency\": 812, \"value\": \"West One (Shine On ...\"}, \"Boombox (The Lonely Island / Julian Casablancas)\": {\"frequency\": 170, \"value\": \"Boombox (The ...\"}, \"You And Me (Wedding Version) (Lifehouse)\": {\"frequency\": 407, \"value\": \"You And Me ...\"}, \"Flaca (Andres Calamaro)\": {\"frequency\": 160, \"value\": \"Flaca (Andres ...\"}, \"Volver\\ufffd\\ufffd (Gian Marco)\": {\"frequency\": 281, \"value\": \"Volver\\u00e9 (Gian ...\"}, \"Intergalactic (Beastie Boys)\": {\"frequency\": 263, \"value\": \"Intergalactic ...\"}, \"You Get What You Give (New Radicals)\": {\"frequency\": 243, \"value\": \"You Get What You ...\"}, \"Llamado De Emergencia (Daddy Yankee)\": {\"frequency\": 145, \"value\": \"Llamado De ...\"}, \"Man In The Box (Alice In Chains)\": {\"frequency\": 220, \"value\": \"Man In The Box ...\"}, \"When The Lights Go Out (The Black Keys)\": {\"frequency\": 142, \"value\": \"When The Lights Go ...\"}, \"One Less Lonely Girl (Justin Bieber)\": {\"frequency\": 589, \"value\": \"One Less Lonely ...\"}, \"Next Girl (The Black Keys)\": {\"frequency\": 165, \"value\": \"Next Girl (The ...\"}, \"How Long (Soul II Soul)\": {\"frequency\": 202, \"value\": \"How Long (Soul II ...\"}, \"Chasing Cars (Snow Patrol)\": {\"frequency\": 328, \"value\": \"Chasing Cars (Snow ...\"}, \"Temperature (Album Version) (Sean Paul)\": {\"frequency\": 144, \"value\": \"Temperature (Album ...\"}, \"Missing You (John Waite)\": {\"frequency\": 232, \"value\": \"Missing You (John ...\"}, \"Irreplaceable (Beyonc\\ufffd\\ufffd)\": {\"frequency\": 164, \"value\": \"Irreplaceable ...\"}, \"Smooth Criminal (Alien Ant Farm)\": {\"frequency\": 262, \"value\": \"Smooth Criminal ...\"}, \"Walking On The Moon (The Police)\": {\"frequency\": 283, \"value\": \"Walking On The ...\"}, \"A Certain Romance (Arctic Monkeys)\": {\"frequency\": 179, \"value\": \"A Certain Romance ...\"}, \"Say My Name (Destiny's Child)\": {\"frequency\": 159, \"value\": \"Say My Name ...\"}, \"Every Little Thing She Does Is Magic (The Police)\": {\"frequency\": 252, \"value\": \"Every Little Thing ...\"}, \"There Is A Light That Never Goes Out (The Smiths)\": {\"frequency\": 204, \"value\": \"There Is A Light ...\"}, \"Blow Me Away (Breaking Benjamin)\": {\"frequency\": 172, \"value\": \"Blow Me Away ...\"}, \"White & Nerdy (Parody of \\\"Ridin'\\\" by Chamillionaire featuring Krayzie Bone) (Weird Al\\\" Yankovic)\": {\"frequency\": 153, \"value\": \"White & Nerdy ...\"}, \"If Looks Could Kill (Camera Obscura)\": {\"frequency\": 133, \"value\": \"If Looks Could ...\"}, \"Poison (Bell Biv DeVoe)\": {\"frequency\": 158, \"value\": \"Poison (Bell Biv ...\"}, \"Lay Your Hands On Me (Bon Jovi)\": {\"frequency\": 134, \"value\": \"Lay Your Hands On ...\"}, \"Try Sleeping With A Broken Heart (Alicia Keys)\": {\"frequency\": 218, \"value\": \"Try Sleeping With ...\"}, \"Lucky (Album Version) (Jason Mraz & Colbie Caillat)\": {\"frequency\": 1545, \"value\": \"Lucky (Album ...\"}, \"Black (Pearl Jam)\": {\"frequency\": 528, \"value\": \"Black (Pearl Jam)\"}, \"Have Faith In Me (A Day To Remember)\": {\"frequency\": 173, \"value\": \"Have Faith In Me ...\"}, \"Pump It (Black Eyed Peas)\": {\"frequency\": 410, \"value\": \"Pump It (Black ...\"}, \"Hands Open (Snow Patrol)\": {\"frequency\": 169, \"value\": \"Hands Open (Snow ...\"}, \"P.I.M.P. (50 Cent)\": {\"frequency\": 194, \"value\": \"P.I.M.P. (50 Cent)\"}, \"Sweet Dreams (Beyonc\\ufffd\\ufffd)\": {\"frequency\": 176, \"value\": \"Sweet Dreams ...\"}, \"Waters Of Nazareth (album version) (Justice)\": {\"frequency\": 174, \"value\": \"Waters Of Nazareth ...\"}, \"Your Touch (The Black Keys)\": {\"frequency\": 229, \"value\": \"Your Touch (The ...\"}, \"Spell (Nick Cave & The Bad Seeds)\": {\"frequency\": 187, \"value\": \"Spell (Nick Cave & ...\"}, \"Don't Cha (The Pussycat Dolls / Busta Rhymes)\": {\"frequency\": 272, \"value\": \"Don't Cha (The ...\"}, \"Schwarze Biene (Black Maja) (Bohren & Der Club Of Gore)\": {\"frequency\": 222, \"value\": \"Schwarze Biene ...\"}, \"Almaz (Randy Crawford)\": {\"frequency\": 964, \"value\": \"Almaz (Randy ...\"}, \"Reptilia (The Strokes)\": {\"frequency\": 172, \"value\": \"Reptilia (The ...\"}, \"Dog Days Are Over (Radio Edit) (Florence + The Machine)\": {\"frequency\": 3778, \"value\": \"Dog Days Are Over ...\"}, \"Tighten Up (The Black Keys)\": {\"frequency\": 771, \"value\": \"Tighten Up (The ...\"}, \"Hey Daddy (Daddy's Home) (Usher)\": {\"frequency\": 659, \"value\": \"Hey Daddy (Daddy's ...\"}, \"Ghosts 'n' Stuff (Original Instrumental Mix) (Deadmau5)\": {\"frequency\": 665, \"value\": \"Ghosts 'n' Stuff ...\"}, \"New Divide (Album Version) (Linkin Park)\": {\"frequency\": 379, \"value\": \"New Divide (Album ...\"}, \"Elephant Gun (Beirut)\": {\"frequency\": 229, \"value\": \"Elephant Gun ...\"}, \"Me & Mr Jones (Amy Winehouse)\": {\"frequency\": 315, \"value\": \"Me & Mr Jones (Amy ...\"}, \"Ring The Alarm (Beyonc\\ufffd\\ufffd)\": {\"frequency\": 150, \"value\": \"Ring The Alarm ...\"}, \"Love Me (Justin Bieber)\": {\"frequency\": 658, \"value\": \"Love Me (Justin ...\"}, \"Demon (London After Midnight)\": {\"frequency\": 297, \"value\": \"Demon (London ...\"}, \"All Men Are Liars (Nick Lowe)\": {\"frequency\": 161, \"value\": \"All Men Are Liars ...\"}, \"If It Means A Lot To You (A Day To Remember)\": {\"frequency\": 437, \"value\": \"If It Means A Lot ...\"}, \"I Want Your Love (Transvision Vamp)\": {\"frequency\": 145, \"value\": \"I Want Your Love ...\"}, \"All Star (Smash Mouth)\": {\"frequency\": 317, \"value\": \"All Star (Smash ...\"}, \"Everytime (Britney Spears)\": {\"frequency\": 196, \"value\": \"Everytime (Britney ...\"}, \"Dollhouse (Switchblade Symphony)\": {\"frequency\": 445, \"value\": \"Dollhouse ...\"}, \"Flume (Bon Iver)\": {\"frequency\": 245, \"value\": \"Flume (Bon Iver)\"}, \"I'll Be Your Man (The Black Keys)\": {\"frequency\": 191, \"value\": \"I'll Be Your Man ...\"}, \"I Never Told You (Colbie Caillat)\": {\"frequency\": 296, \"value\": \"I Never Told You ...\"}, \"Alice (Avril Lavigne)\": {\"frequency\": 278, \"value\": \"Alice (Avril ...\"}, \"Masquerade (Reality Check Album Version) (Reality Check)\": {\"frequency\": 449, \"value\": \"Masquerade ...\"}, \"Welcome To The Black Parade (Album Version) (My Chemical Romance)\": {\"frequency\": 223, \"value\": \"Welcome To The ...\"}, \"Money To Blow (Birdman / Lil Wayne / Drake)\": {\"frequency\": 157, \"value\": \"Money To Blow ...\"}, \"Buttons (The Pussycat Dolls)\": {\"frequency\": 152, \"value\": \"Buttons (The ...\"}, \"Through The Wire (Kanye West)\": {\"frequency\": 409, \"value\": \"Through The Wire ...\"}, \"Girls Just Want To Have Fun (Cyndi Lauper)\": {\"frequency\": 215, \"value\": \"Girls Just Want To ...\"}, \"I'm Back (Album Version) (Lil Scrappy)\": {\"frequency\": 164, \"value\": \"I'm Back (Album ...\"}, \"Horn Concerto No. 4 in E flat K495: II. Romance (Andante cantabile) (Barry Tuckwell/Academy of St Martin-in-the-Fields/Sir Neville Marriner)\": {\"frequency\": 3261, \"value\": \"Horn Concerto No. ...\"}, \"Beggin' (Madcon)\": {\"frequency\": 127, \"value\": \"Beggin' (Madcon)\"}, \"Don't You Want Me (Original Version) (The Human League)\": {\"frequency\": 146, \"value\": \"Don't You Want Me ...\"}, \"Uprising (Muse)\": {\"frequency\": 1052, \"value\": \"Uprising (Muse)\"}, \"Flake (Jack Johnson)\": {\"frequency\": 208, \"value\": \"Flake (Jack ...\"}, \"Give It Back (Polly Paulusma)\": {\"frequency\": 205, \"value\": \"Give It Back ...\"}, \"All We Ever Do Is Say Goodbye (John Mayer)\": {\"frequency\": 166, \"value\": \"All We Ever Do Is ...\"}, \"Call It Off (Album Version) (Tegan And Sara)\": {\"frequency\": 168, \"value\": \"Call It Off (Album ...\"}, \"Make Love To Your Mind (Bill Withers)\": {\"frequency\": 863, \"value\": \"Make Love To Your ...\"}, \"Feeling This (Blink-182)\": {\"frequency\": 233, \"value\": \"Feeling This ...\"}, \"Heaven (Bryan Adams)\": {\"frequency\": 218, \"value\": \"Heaven (Bryan ...\"}, \"Uptown (Drake / Bun B / Lil Wayne)\": {\"frequency\": 133, \"value\": \"Uptown (Drake / ...\"}, \"Every Lasting Light (The Black Keys)\": {\"frequency\": 216, \"value\": \"Every Lasting ...\"}, \"Starlight (Muse)\": {\"frequency\": 215, \"value\": \"Starlight (Muse)\"}, \"16 Candles (The Crests)\": {\"frequency\": 1086, \"value\": \"16 Candles (The ...\"}, \"Come On Eileen (Dexys Midnight Runners)\": {\"frequency\": 151, \"value\": \"Come On Eileen ...\"}, \"Knocked Up (Kings Of Leon)\": {\"frequency\": 169, \"value\": \"Knocked Up (Kings ...\"}, \"'Till I Collapse (Eminem / Nate Dogg)\": {\"frequency\": 574, \"value\": \"'Till I Collapse ...\"}, \"Sugar_ We're Goin Down (Fall Out Boy)\": {\"frequency\": 451, \"value\": \"Sugar_ We're Goin ...\"}, \"Dust in The Wind (Kansas)\": {\"frequency\": 219, \"value\": \"Dust in The Wind ...\"}, \"Hailie's Song (Eminem)\": {\"frequency\": 457, \"value\": \"Hailie's Song ...\"}, \"Tenuousness (Andrew Bird)\": {\"frequency\": 234, \"value\": \"Tenuousness ...\"}, \"My First Kiss (Feat. Ke$ha) [Album Version] (3OH!3)\": {\"frequency\": 327, \"value\": \"My First Kiss ...\"}, \"Bad Moon Rising (Creedence Clearwater Revival)\": {\"frequency\": 247, \"value\": \"Bad Moon Rising ...\"}, \"Fantasy (The xx)\": {\"frequency\": 151, \"value\": \"Fantasy (The xx)\"}, \"Ruby (Kaiser Chiefs)\": {\"frequency\": 143, \"value\": \"Ruby (Kaiser ...\"}, \"I Hate Everything About You (Three Days Grace)\": {\"frequency\": 232, \"value\": \"I Hate Everything ...\"}, \"Tive Sim (Cartola)\": {\"frequency\": 2672, \"value\": \"Tive Sim (Cartola)\"}, \"Epilogue (Asia 2001)\": {\"frequency\": 331, \"value\": \"Epilogue (Asia ...\"}, \"It's My Own Fault (Johnny Winter)\": {\"frequency\": 497, \"value\": \"It's My Own Fault ...\"}, \"In The End (Album Version) (Linkin Park)\": {\"frequency\": 771, \"value\": \"In The End (Album ...\"}, \"Kun Puut Tekee Seitti\\ufffd\\ufffd (Scandinavian Music Group)\": {\"frequency\": 154, \"value\": \"Kun Puut Tekee ...\"}, \"Love Of My Life (1993 Digital Remaster) (Queen)\": {\"frequency\": 290, \"value\": \"Love Of My Life ...\"}, \"Orange Tr\\ufffd\\ufffdgt Nur Die M\\ufffd\\ufffdllabfuhr (Go West) (Mickie Krause)\": {\"frequency\": 370, \"value\": \"Orange Tr\\u00e4gt Nur ...\"}, \"Microdaze (Jonny L)\": {\"frequency\": 273, \"value\": \"Microdaze (Jonny ...\"}, \"Have A Nice Day (Bon Jovi)\": {\"frequency\": 155, \"value\": \"Have A Nice Day ...\"}, \"Cousins (Vampire Weekend)\": {\"frequency\": 180, \"value\": \"Cousins (Vampire ...\"}, \"Sympathy For The Devil (Guns N' Roses)\": {\"frequency\": 146, \"value\": \"Sympathy For The ...\"}, \"Happy Alone (Kings Of Leon)\": {\"frequency\": 150, \"value\": \"Happy Alone (Kings ...\"}, \"Boys Boys Boys (Lady GaGa)\": {\"frequency\": 220, \"value\": \"Boys Boys Boys ...\"}, \"Opposite Of Adults (Chiddy Bang)\": {\"frequency\": 373, \"value\": \"Opposite Of Adults ...\"}, \"A-Punk (Album) (Vampire Weekend)\": {\"frequency\": 498, \"value\": \"A-Punk (Album) ...\"}, \"Outside (Original LP Version) (Staind)\": {\"frequency\": 154, \"value\": \"Outside (Original ...\"}, \"Make Her Say (Kid Cudi / Kanye West / Common)\": {\"frequency\": 544, \"value\": \"Make Her Say (Kid ...\"}, \"Lost! (Coldplay)\": {\"frequency\": 241, \"value\": \"Lost! (Coldplay)\"}, \"See You Again (Miley Cyrus)\": {\"frequency\": 159, \"value\": \"See You Again ...\"}, \"The Beautiful People (Marilyn Manson)\": {\"frequency\": 194, \"value\": \"The Beautiful ...\"}, \"Can't Help But Wait (Album Version) (Trey Songz)\": {\"frequency\": 140, \"value\": \"Can't Help But ...\"}, \"Head Full Of Doubt/Road Full Of Promise (The Avett Brothers)\": {\"frequency\": 130, \"value\": \"Head Full Of ...\"}, \"Go Your Own Way (LP Version) (Fleetwood Mac)\": {\"frequency\": 219, \"value\": \"Go Your Own Way ...\"}, \"Sinisten t\\ufffd\\ufffdhtien alla (J. Karjalainen & Mustat Lasit)\": {\"frequency\": 902, \"value\": \"Sinisten t\\u00e4htien ...\"}, \"Heart Of The City (Ain't No Love) (Jay-Z)\": {\"frequency\": 119, \"value\": \"Heart Of The City ...\"}, \"Listen To Your Heart (DHT Feat. Edm\\ufffd\\ufffde)\": {\"frequency\": 158, \"value\": \"Listen To Your ...\"}, \"Cape Cod Kwassa Kwassa (Album) (Vampire Weekend)\": {\"frequency\": 205, \"value\": \"Cape Cod Kwassa ...\"}, \"It's My Life (Bon Jovi)\": {\"frequency\": 708, \"value\": \"It's My Life (Bon ...\"}, \"Lady Marmalade (Christina Aguilera / Lil' Kim / Mya / Pink)\": {\"frequency\": 292, \"value\": \"Lady Marmalade ...\"}, \"Pienso En Ti (Shakira)\": {\"frequency\": 231, \"value\": \"Pienso En Ti ...\"}, \"Sleepyhead (Passion Pit)\": {\"frequency\": 536, \"value\": \"Sleepyhead ...\"}, \"Sample Track 2 (Simon Harris)\": {\"frequency\": 998, \"value\": \"Sample Track 2 ...\"}, \"Forgot About Dre (Dr. Dre / Eminem)\": {\"frequency\": 325, \"value\": \"Forgot About Dre ...\"}, \"re:stacks (Bon Iver)\": {\"frequency\": 186, \"value\": \"re:stacks (Bon ...\"}, \"Strange Times (The Black Keys)\": {\"frequency\": 182, \"value\": \"Strange Times (The ...\"}, \"Unite (2009 Digital Remaster) (Beastie Boys)\": {\"frequency\": 832, \"value\": \"Unite (2009 ...\"}, \"Mockingbird (Eminem)\": {\"frequency\": 956, \"value\": \"Mockingbird ...\"}, \"Torn (Natalie Imbruglia)\": {\"frequency\": 196, \"value\": \"Torn (Natalie ...\"}, \"Don't Think I Don't Think About It (Darius Rucker)\": {\"frequency\": 139, \"value\": \"Don't Think I ...\"}, \"Hey Mama (Kanye West)\": {\"frequency\": 161, \"value\": \"Hey Mama (Kanye ...\"}, \"Corrido de Boxeo (Ry Cooder)\": {\"frequency\": 203, \"value\": \"Corrido de Boxeo ...\"}, \"Around The World (Radio Edit) (Daft Punk)\": {\"frequency\": 432, \"value\": \"Around The World ...\"}, \"Moondance (Album Version) (Michael Bubl\\ufffd\\ufffd)\": {\"frequency\": 154, \"value\": \"Moondance (Album ...\"}, \"May It Be (Album version) (Enya)\": {\"frequency\": 251, \"value\": \"May It Be (Album ...\"}, \"Human (The Killers)\": {\"frequency\": 521, \"value\": \"Human (The ...\"}, \"Lemme Get That (Rihanna)\": {\"frequency\": 194, \"value\": \"Lemme Get That ...\"}, \"I'm Sleeping In A Submarine (Arcade Fire)\": {\"frequency\": 164, \"value\": \"I'm Sleeping In A ...\"}, \"TTHHEE PPAARRTTYY (Justice)\": {\"frequency\": 170, \"value\": \"TTHHEE PPAARRTTYY ...\"}, \"Birthday Sex (Jeremih)\": {\"frequency\": 277, \"value\": \"Birthday Sex ...\"}, \"No Air duet with Chris Brown (Jordin Sparks featuring Chris Brown)\": {\"frequency\": 182, \"value\": \"No Air duet with ...\"}, \"The Man Who Sold The World (Nirvana)\": {\"frequency\": 276, \"value\": \"The Man Who Sold ...\"}, \"Wind Of Change (Scorpions)\": {\"frequency\": 167, \"value\": \"Wind Of Change ...\"}, \"Come Fly With Me (Album Version) (Michael Bubl\\ufffd\\ufffd)\": {\"frequency\": 209, \"value\": \"Come Fly With Me ...\"}, \"Not Fair (Lily Allen)\": {\"frequency\": 215, \"value\": \"Not Fair (Lily ...\"}, \"When I Grow Up (The Pussycat Dolls)\": {\"frequency\": 381, \"value\": \"When I Grow Up ...\"}, \"Without Me (Eminem)\": {\"frequency\": 870, \"value\": \"Without Me ...\"}, \"I Need You (Album Version) (Faith Hill And Tim McGraw)\": {\"frequency\": 138, \"value\": \"I Need You (Album ...\"}, \"People Gotta Move (Gino Vannelli)\": {\"frequency\": 144, \"value\": \"People Gotta Move ...\"}, \"Talk Show Host (Radiohead)\": {\"frequency\": 145, \"value\": \"Talk Show Host ...\"}, \"Monster (Lady GaGa)\": {\"frequency\": 416, \"value\": \"Monster (Lady ...\"}, \"Eye Of The Tiger (Survivor)\": {\"frequency\": 516, \"value\": \"Eye Of The Tiger ...\"}, \"Through The Fire And Flames (Album Version) (Dragonforce)\": {\"frequency\": 180, \"value\": \"Through The Fire ...\"}, \"OMG (Usher featuring will.i.am)\": {\"frequency\": 2265, \"value\": \"OMG (Usher ...\"}, \"That Should Be Me (Justin Bieber)\": {\"frequency\": 575, \"value\": \"That Should Be Me ...\"}, \"Unintended (Muse)\": {\"frequency\": 143, \"value\": \"Unintended (Muse)\"}, \"Wish (Nine Inch Nails)\": {\"frequency\": 255, \"value\": \"Wish (Nine Inch ...\"}, \"Simple (Simian Mobile Disco)\": {\"frequency\": 246, \"value\": \"Simple (Simian ...\"}, \"Dumb (Nirvana)\": {\"frequency\": 165, \"value\": \"Dumb (Nirvana)\"}, \"For You (Coldplay)\": {\"frequency\": 172, \"value\": \"For You (Coldplay)\"}, \"The News (Jack Johnson)\": {\"frequency\": 226, \"value\": \"The News (Jack ...\"}, \"Bleeding Love (Leona Lewis)\": {\"frequency\": 277, \"value\": \"Bleeding Love ...\"}, \"The Climb (Miley Cyrus)\": {\"frequency\": 490, \"value\": \"The Climb (Miley ...\"}, \"Guaranteed (Eddie Vedder)\": {\"frequency\": 160, \"value\": \"Guaranteed (Eddie ...\"}, \"Unwell (Album Version) (matchbox twenty)\": {\"frequency\": 309, \"value\": \"Unwell (Album ...\"}, \"Live Like We're Dying (Kris Allen)\": {\"frequency\": 186, \"value\": \"Live Like We're ...\"}, \"Butterflies and Hurricanes (Muse)\": {\"frequency\": 148, \"value\": \"Butterflies and ...\"}, \"Feel Good Inc (Album Version) (Gorillaz)\": {\"frequency\": 186, \"value\": \"Feel Good Inc ...\"}, \"Tourniquet (Evanescence)\": {\"frequency\": 172, \"value\": \"Tourniquet ...\"}, \"Smile Like You Mean It (The Killers)\": {\"frequency\": 234, \"value\": \"Smile Like You ...\"}, \"Higher (Creed)\": {\"frequency\": 148, \"value\": \"Higher (Creed)\"}, \"Teeth (Lady GaGa)\": {\"frequency\": 164, \"value\": \"Teeth (Lady GaGa)\"}, \"Long Black Road (Slim Dusty)\": {\"frequency\": 179, \"value\": \"Long Black Road ...\"}, \"Criminal (Eminem)\": {\"frequency\": 165, \"value\": \"Criminal (Eminem)\"}, \"Fix You (Coldplay)\": {\"frequency\": 1029, \"value\": \"Fix You (Coldplay)\"}, \"Heart Shaped Box (Nirvana)\": {\"frequency\": 220, \"value\": \"Heart Shaped Box ...\"}, \"So Lonely (The Police)\": {\"frequency\": 331, \"value\": \"So Lonely (The ...\"}, \"Life In Technicolor ii (Coldplay)\": {\"frequency\": 233, \"value\": \"Life In ...\"}, \"Proud Mary (Creedence Clearwater Revival)\": {\"frequency\": 183, \"value\": \"Proud Mary ...\"}, \"Fireflies (Charttraxx Karaoke)\": {\"frequency\": 2725, \"value\": \"Fireflies ...\"}, \"Him (Lily Allen)\": {\"frequency\": 138, \"value\": \"Him (Lily Allen)\"}, \"You'll Never Know (My Love) (Bovellian 07 Mix) (Edwyn Collins)\": {\"frequency\": 269, \"value\": \"You'll Never Know ...\"}, \"Esisti Tu (Valerio Scanu)\": {\"frequency\": 162, \"value\": \"Esisti Tu (Valerio ...\"}, \"Never Gonna Happen (Lily Allen)\": {\"frequency\": 189, \"value\": \"Never Gonna Happen ...\"}, \"Move The Crowd (Eric B. & Rakim)\": {\"frequency\": 188, \"value\": \"Move The Crowd ...\"}, \"Luv Me_ Luv Me (Shaggy / Samantha Cole)\": {\"frequency\": 229, \"value\": \"Luv Me_ Luv Me ...\"}, \"Demasiado Bueno (Edgar Oceransky)\": {\"frequency\": 186, \"value\": \"Demasiado Bueno ...\"}, \"Frisch und g'sund (Die Mooskirchner)\": {\"frequency\": 917, \"value\": \"Frisch und g'sund ...\"}, \"Breathe (Taylor Swift / Colbie Caillat)\": {\"frequency\": 291, \"value\": \"Breathe (Taylor ...\"}, \"Church (T-Pain featuring Teddy Verseti)\": {\"frequency\": 144, \"value\": \"Church (T-Pain ...\"}, \"One Step Closer (Album Version) (Linkin Park)\": {\"frequency\": 356, \"value\": \"One Step Closer ...\"}, \"All Hands Against His Own (The Black Keys)\": {\"frequency\": 200, \"value\": \"All Hands Against ...\"}, \"Bodies (Drowning Pool)\": {\"frequency\": 236, \"value\": \"Bodies (Drowning ...\"}, \"RoboCop (Kanye West)\": {\"frequency\": 183, \"value\": \"RoboCop (Kanye ...\"}, \"The World At Large (Modest Mouse)\": {\"frequency\": 157, \"value\": \"The World At Large ...\"}, \"Undercover Martyn (Two Door Cinema Club)\": {\"frequency\": 156, \"value\": \"Undercover Martyn ...\"}, \"Man Makes The Zoo (USS (Ubiquitous Synergy Seeker))\": {\"frequency\": 137, \"value\": \"Man Makes The Zoo ...\"}, \"It's Just A Thought (Creedence Clearwater Revival)\": {\"frequency\": 133, \"value\": \"It's Just A ...\"}, \"Swing Life Away (Rise Against)\": {\"frequency\": 236, \"value\": \"Swing Life Away ...\"}, \"Intermission 1 (Brisa Roch\\ufffd\\ufffd)\": {\"frequency\": 142, \"value\": \"Intermission 1 ...\"}, \"Boy With The Coin (Iron And Wine)\": {\"frequency\": 157, \"value\": \"Boy With The Coin ...\"}, \"Beautiful Stranger (Madonna)\": {\"frequency\": 300, \"value\": \"Beautiful Stranger ...\"}, \"Rock Star (N.E.R.D.)\": {\"frequency\": 951, \"value\": \"Rock Star ...\"}, \"All The Pretty Faces (The Killers)\": {\"frequency\": 157, \"value\": \"All The Pretty ...\"}, \"Tired Of Being Sorry (Enrique Iglesias)\": {\"frequency\": 153, \"value\": \"Tired Of Being ...\"}, \"Knocking On Forbidden Doors (Enigma)\": {\"frequency\": 291, \"value\": \"Knocking On ...\"}, \"Woman (Wolfmother)\": {\"frequency\": 266, \"value\": \"Woman (Wolfmother)\"}, \"Somebody Told Me (The Killers)\": {\"frequency\": 306, \"value\": \"Somebody Told Me ...\"}, \"I'm So Sick (Flyleaf)\": {\"frequency\": 157, \"value\": \"I'm So Sick ...\"}, \"Californication (Album Version) (Red Hot Chili Peppers)\": {\"frequency\": 295, \"value\": \"Californication ...\"}, \"Le Courage Des Oiseaux (Dominique A)\": {\"frequency\": 802, \"value\": \"Le Courage Des ...\"}, \"Infinity (The xx)\": {\"frequency\": 189, \"value\": \"Infinity (The xx)\"}, \"Under The Gun (The Killers)\": {\"frequency\": 162, \"value\": \"Under The Gun (The ...\"}, \"Naked (Marques Houston)\": {\"frequency\": 155, \"value\": \"Naked (Marques ...\"}, \"Luvstruck (Southside Spinners)\": {\"frequency\": 528, \"value\": \"Luvstruck ...\"}, \"Rorol (Octopus Project)\": {\"frequency\": 251, \"value\": \"Rorol (Octopus ...\"}, \"I CAN'T GET STARTED (Ron Carter)\": {\"frequency\": 1295, \"value\": \"I CAN'T GET ...\"}, \"Learning To Fly (Tom Petty And The Heartbreakers)\": {\"frequency\": 176, \"value\": \"Learning To Fly ...\"}, \"Dream On (Aerosmith)\": {\"frequency\": 664, \"value\": \"Dream On ...\"}, \"Thinking Of You (Katy Perry)\": {\"frequency\": 318, \"value\": \"Thinking Of You ...\"}, \"Rehab (Rihanna)\": {\"frequency\": 308, \"value\": \"Rehab (Rihanna)\"}, \"Incentive (Bonus Track) (Epica)\": {\"frequency\": 161, \"value\": \"Incentive (Bonus ...\"}, \"White Sky (Vampire Weekend)\": {\"frequency\": 190, \"value\": \"White Sky (Vampire ...\"}, \"Not Fair (Clean Radio Edit) (Lily Allen)\": {\"frequency\": 213, \"value\": \"Not Fair (Clean ...\"}, \"Yes (LMFAO)\": {\"frequency\": 187, \"value\": \"Yes (LMFAO)\"}, \"The Heart Of Life (John Mayer)\": {\"frequency\": 191, \"value\": \"The Heart Of Life ...\"}, \"Warning Sign (Coldplay)\": {\"frequency\": 162, \"value\": \"Warning Sign ...\"}, \"Do We Need This? (Muse)\": {\"frequency\": 266, \"value\": \"Do We Need This? ...\"}, \"Kut-Off (Skream)\": {\"frequency\": 170, \"value\": \"Kut-Off (Skream)\"}, \"Cooler Than Me (Mike Posner)\": {\"frequency\": 216, \"value\": \"Cooler Than Me ...\"}, \"You'll Be In My Heart (Phil Collins)\": {\"frequency\": 316, \"value\": \"You'll Be In My ...\"}, \"Ms. Jackson (OutKast)\": {\"frequency\": 232, \"value\": \"Ms. Jackson ...\"}, \"House Of Cards (Radiohead)\": {\"frequency\": 180, \"value\": \"House Of Cards ...\"}, \"Siguiendo La Luna (Los Fabulosos Cadillacs)\": {\"frequency\": 144, \"value\": \"Siguiendo La Luna ...\"}, \"Paint The Town Red (Delirious?)\": {\"frequency\": 206, \"value\": \"Paint The Town Red ...\"}, \"Fences (Phoenix)\": {\"frequency\": 189, \"value\": \"Fences (Phoenix)\"}, \"Politik (Coldplay)\": {\"frequency\": 180, \"value\": \"Politik (Coldplay)\"}, \"Du Hast (Rammstein)\": {\"frequency\": 283, \"value\": \"Du Hast ...\"}, \"Shot You Down (Radio Edit) (Feat. Nancy Sinatra) (Audio Bullys Featuring Nancy Sinatra)\": {\"frequency\": 146, \"value\": \"Shot You Down ...\"}, \"On Melancholy Hill (Gorillaz)\": {\"frequency\": 216, \"value\": \"On Melancholy Hill ...\"}, \"Crawling (Album Version) (Linkin Park)\": {\"frequency\": 463, \"value\": \"Crawling (Album ...\"}, \"Take A Bow (Rihanna)\": {\"frequency\": 690, \"value\": \"Take A Bow ...\"}, \"First Day Of My Life (Single Version) (Bright Eyes)\": {\"frequency\": 229, \"value\": \"First Day Of My ...\"}, \"I Can Dance (Brian Poole & The Tremeloes)\": {\"frequency\": 224, \"value\": \"I Can Dance (Brian ...\"}, \"My Immortal (Evanescence)\": {\"frequency\": 615, \"value\": \"My Immortal ...\"}, \"What's Up? (4 Non Blondes)\": {\"frequency\": 197, \"value\": \"What's Up? (4 Non ...\"}, \"Never Gonna Be Alone (Album Version) (Nickelback)\": {\"frequency\": 327, \"value\": \"Never Gonna Be ...\"}, \"Yesterdays (Guns N' Roses)\": {\"frequency\": 300, \"value\": \"Yesterdays (Guns ...\"}, \"My Dad's Gone Crazy (Eminem / Hailie Jade)\": {\"frequency\": 339, \"value\": \"My Dad's Gone ...\"}, \"Such Great Heights (The Postal Service)\": {\"frequency\": 540, \"value\": \"Such Great Heights ...\"}, \"Why Georgia (John Mayer)\": {\"frequency\": 150, \"value\": \"Why Georgia (John ...\"}, \"Hey_ Soul Sister (Train)\": {\"frequency\": 2791, \"value\": \"Hey_ Soul Sister ...\"}, \"Invalid (Tub Ring)\": {\"frequency\": 1622, \"value\": \"Invalid (Tub Ring)\"}, \"The Scientist (Coldplay)\": {\"frequency\": 1672, \"value\": \"The Scientist ...\"}, \"U Smile (Justin Bieber)\": {\"frequency\": 830, \"value\": \"U Smile (Justin ...\"}, \"Canada (Five Iron Frenzy)\": {\"frequency\": 1727, \"value\": \"Canada (Five Iron ...\"}}, \"size\": 1491952}, \"artist_name\": {\"complete\": true, \"numeric\": false, \"num_unique\": 28266, \"num_undefined\": 0, \"progress\": 1.0, \"frequent_items\": {\"Los Bunkers\": {\"frequency\": 165, \"value\": \"Los Bunkers\"}, \"Eliza Doolittle\": {\"frequency\": 181, \"value\": \"Eliza Doolittle\"}, \"Bobby Darin\": {\"frequency\": 158, \"value\": \"Bobby Darin\"}, \"Caifanes\": {\"frequency\": 269, \"value\": \"Caifanes\"}, \"New Radicals\": {\"frequency\": 404, \"value\": \"New Radicals\"}, \"Deerhunter\": {\"frequency\": 216, \"value\": \"Deerhunter\"}, \"Uncle Kracker\": {\"frequency\": 328, \"value\": \"Uncle Kracker\"}, \"Ester Dean / Chris Brown\": {\"frequency\": 202, \"value\": \"Ester Dean / Chris ...\"}, \"Crosby_ Stills_ Nash and Young\": {\"frequency\": 209, \"value\": \"Crosby_ Stills_ ...\"}, \"Lil Wayne / Eminem\": {\"frequency\": 2226, \"value\": \"Lil Wayne / Eminem\"}, \"Nirvana\": {\"frequency\": 2690, \"value\": \"Nirvana\"}, \"Randy Travis\": {\"frequency\": 293, \"value\": \"Randy Travis\"}, \"Massive Attack\": {\"frequency\": 1251, \"value\": \"Massive Attack\"}, \"Los Aut\\ufffd\\ufffdnticos Decadentes\": {\"frequency\": 217, \"value\": \"Los Aut\\u00e9nticos ...\"}, \"Procol Harum\": {\"frequency\": 152, \"value\": \"Procol Harum\"}, \"Goldfrapp\": {\"frequency\": 730, \"value\": \"Goldfrapp\"}, \"Plastilina Mosh\": {\"frequency\": 343, \"value\": \"Plastilina Mosh\"}, \"Jo\\ufffd\\ufffdo Gilberto\": {\"frequency\": 541, \"value\": \"Jo\\u00e3o Gilberto\"}, \"Westside Connection\": {\"frequency\": 254, \"value\": \"Westside ...\"}, \"Gustavo Santaolalla\": {\"frequency\": 160, \"value\": \"Gustavo ...\"}, \"Chris Tomlin\": {\"frequency\": 263, \"value\": \"Chris Tomlin\"}, \"Chris Bathgate\": {\"frequency\": 204, \"value\": \"Chris Bathgate\"}, \"Gary Allan\": {\"frequency\": 581, \"value\": \"Gary Allan\"}, \"Roadrunner United\": {\"frequency\": 157, \"value\": \"Roadrunner United\"}, \"Billy Bragg\": {\"frequency\": 213, \"value\": \"Billy Bragg\"}, \"John Waite\": {\"frequency\": 373, \"value\": \"John Waite\"}, \"Shaggy / Samantha Cole\": {\"frequency\": 228, \"value\": \"Shaggy / Samantha ...\"}, \"The Crystal Method\": {\"frequency\": 384, \"value\": \"The Crystal Method\"}, \"Panda\": {\"frequency\": 199, \"value\": \"Panda\"}, \"Dominique A\": {\"frequency\": 822, \"value\": \"Dominique A\"}, \"Bayside\": {\"frequency\": 387, \"value\": \"Bayside\"}, \"John Mellencamp\": {\"frequency\": 310, \"value\": \"John Mellencamp\"}, \"Red Hot Chili Peppers\": {\"frequency\": 3622, \"value\": \"Red Hot Chili ...\"}, \"Suzanne Vega\": {\"frequency\": 150, \"value\": \"Suzanne Vega\"}, \"Ely Guerra\": {\"frequency\": 192, \"value\": \"Ely Guerra\"}, \"Twista feat. Kayne West & Jamie Foxx\": {\"frequency\": 288, \"value\": \"Twista feat. Kayne ...\"}, \"Shwayze\": {\"frequency\": 260, \"value\": \"Shwayze\"}, \"A-Ha\": {\"frequency\": 179, \"value\": \"A-Ha\"}, \"Finger Eleven\": {\"frequency\": 409, \"value\": \"Finger Eleven\"}, \"Airbourne\": {\"frequency\": 190, \"value\": \"Airbourne\"}, \"Nada Surf\": {\"frequency\": 266, \"value\": \"Nada Surf\"}, \"David Bisbal\": {\"frequency\": 293, \"value\": \"David Bisbal\"}, \"Bon Iver\": {\"frequency\": 1849, \"value\": \"Bon Iver\"}, \"Disturbed\": {\"frequency\": 1395, \"value\": \"Disturbed\"}, \"The Decemberists\": {\"frequency\": 1818, \"value\": \"The Decemberists\"}, \"Sepultura\": {\"frequency\": 290, \"value\": \"Sepultura\"}, \"Cold\": {\"frequency\": 226, \"value\": \"Cold\"}, \"Lupe Fiasco\": {\"frequency\": 994, \"value\": \"Lupe Fiasco\"}, \"Ashley Tisdale\": {\"frequency\": 224, \"value\": \"Ashley Tisdale\"}, \"Gian Marco\": {\"frequency\": 275, \"value\": \"Gian Marco\"}, \"Rachid Taha\": {\"frequency\": 154, \"value\": \"Rachid Taha\"}, \"Queen\": {\"frequency\": 1138, \"value\": \"Queen\"}, \"B.B. King\": {\"frequency\": 224, \"value\": \"B.B. King\"}, \"John Michael Montgomery\": {\"frequency\": 158, \"value\": \"John Michael ...\"}, \"Yelle\": {\"frequency\": 232, \"value\": \"Yelle\"}, \"Murs\": {\"frequency\": 303, \"value\": \"Murs\"}, \"Iron And Wine\": {\"frequency\": 934, \"value\": \"Iron And Wine\"}, \"RUN-DMC\": {\"frequency\": 205, \"value\": \"RUN-DMC\"}, \"Vienio & Pele\": {\"frequency\": 234, \"value\": \"Vienio & Pele\"}, \"Sleater-kinney\": {\"frequency\": 313, \"value\": \"Sleater-kinney\"}, \"Avenged Sevenfold\": {\"frequency\": 1534, \"value\": \"Avenged Sevenfold\"}, \"Say Anything\": {\"frequency\": 202, \"value\": \"Say Anything\"}, \"CCCP - Fedeli Alla Linea\": {\"frequency\": 364, \"value\": \"CCCP - Fedeli Alla ...\"}, \"Jem\": {\"frequency\": 246, \"value\": \"Jem\"}, \"The Casualties\": {\"frequency\": 227, \"value\": \"The Casualties\"}, \"Ricky Martin\": {\"frequency\": 191, \"value\": \"Ricky Martin\"}, \"Bobby McFerrin\": {\"frequency\": 372, \"value\": \"Bobby McFerrin\"}, \"Blind Guardian\": {\"frequency\": 207, \"value\": \"Blind Guardian\"}, \"Kyuss\": {\"frequency\": 150, \"value\": \"Kyuss\"}, \"Foolish Things\": {\"frequency\": 716, \"value\": \"Foolish Things\"}, \"Ministry\": {\"frequency\": 251, \"value\": \"Ministry\"}, \"Craig Morgan\": {\"frequency\": 220, \"value\": \"Craig Morgan\"}, \"Beastie Boys\": {\"frequency\": 2526, \"value\": \"Beastie Boys\"}, \"Booka Shade\": {\"frequency\": 298, \"value\": \"Booka Shade\"}, \"Los Prisioneros\": {\"frequency\": 224, \"value\": \"Los Prisioneros\"}, \"Luis Fonsi\": {\"frequency\": 188, \"value\": \"Luis Fonsi\"}, \"Kudai\": {\"frequency\": 273, \"value\": \"Kudai\"}, \"Niccol\\ufffd\\ufffd Fabi\": {\"frequency\": 307, \"value\": \"Niccol\\u00f2 Fabi\"}, \"Christina Milian\": {\"frequency\": 164, \"value\": \"Christina Milian\"}, \"Hans Zimmer\": {\"frequency\": 210, \"value\": \"Hans Zimmer\"}, \"Gang Of Four\": {\"frequency\": 227, \"value\": \"Gang Of Four\"}, \"Carpenters\": {\"frequency\": 744, \"value\": \"Carpenters\"}, \"Metronomy\": {\"frequency\": 184, \"value\": \"Metronomy\"}, \"The Crests\": {\"frequency\": 1089, \"value\": \"The Crests\"}, \"Lit\": {\"frequency\": 200, \"value\": \"Lit\"}, \"Theory Of A Deadman\": {\"frequency\": 526, \"value\": \"Theory Of A ...\"}, \"Cannibal Corpse\": {\"frequency\": 171, \"value\": \"Cannibal Corpse\"}, \"Luke Bryan\": {\"frequency\": 918, \"value\": \"Luke Bryan\"}, \"Il Divo\": {\"frequency\": 419, \"value\": \"Il Divo\"}, \"Amy Winehouse\": {\"frequency\": 2883, \"value\": \"Amy Winehouse\"}, \"Daughtry\": {\"frequency\": 746, \"value\": \"Daughtry\"}, \"Phoenix\": {\"frequency\": 2143, \"value\": \"Phoenix\"}, \"Darude\": {\"frequency\": 396, \"value\": \"Darude\"}, \"Edward Sharpe & The Magnetic Zeros\": {\"frequency\": 1678, \"value\": \"Edward Sharpe & ...\"}, \"LU\": {\"frequency\": 459, \"value\": \"LU\"}, \"Miles Davis\": {\"frequency\": 274, \"value\": \"Miles Davis\"}, \"Echo And The Bunnymen\": {\"frequency\": 310, \"value\": \"Echo And The ...\"}, \"Beach House\": {\"frequency\": 728, \"value\": \"Beach House\"}, \"Future Rock\": {\"frequency\": 976, \"value\": \"Future Rock\"}, \"Gym Class Heroes\": {\"frequency\": 558, \"value\": \"Gym Class Heroes\"}, \"Less Than Jake\": {\"frequency\": 349, \"value\": \"Less Than Jake\"}, \"Jonas Brothers\": {\"frequency\": 1604, \"value\": \"Jonas Brothers\"}, \"Rise Against\": {\"frequency\": 3119, \"value\": \"Rise Against\"}, \"Carrie Underwood\": {\"frequency\": 327, \"value\": \"Carrie Underwood\"}, \"Dusty Springfield\": {\"frequency\": 172, \"value\": \"Dusty Springfield\"}, \"Grace Jones\": {\"frequency\": 160, \"value\": \"Grace Jones\"}, \"Maxwell\": {\"frequency\": 189, \"value\": \"Maxwell\"}, \"Astrud Gilberto\": {\"frequency\": 154, \"value\": \"Astrud Gilberto\"}, \"Shpongle\": {\"frequency\": 237, \"value\": \"Shpongle\"}, \"Lloyd\": {\"frequency\": 246, \"value\": \"Lloyd\"}, \"Cartola\": {\"frequency\": 3400, \"value\": \"Cartola\"}, \"Nando Reis\": {\"frequency\": 289, \"value\": \"Nando Reis\"}, \"Bl\\ufffd\\ufffdf\": {\"frequency\": 197, \"value\": \"Bl\\u00f8f\"}, \"The Swell Season\": {\"frequency\": 167, \"value\": \"The Swell Season\"}, \"Mayer Hawthorne\": {\"frequency\": 200, \"value\": \"Mayer Hawthorne\"}, \"Aloe Blacc\": {\"frequency\": 326, \"value\": \"Aloe Blacc\"}, \"Blur\": {\"frequency\": 790, \"value\": \"Blur\"}, \"Andr\\ufffd\\ufffds Cepeda\": {\"frequency\": 483, \"value\": \"Andr\\u00e9s Cepeda\"}, \"Junior Boys\": {\"frequency\": 281, \"value\": \"Junior Boys\"}, \"Amon Tobin\": {\"frequency\": 189, \"value\": \"Amon Tobin\"}, \"Sade\": {\"frequency\": 1100, \"value\": \"Sade\"}, \"Ted Nugent\": {\"frequency\": 180, \"value\": \"Ted Nugent\"}, \"Ska-P\": {\"frequency\": 399, \"value\": \"Ska-P\"}, \"Beck\": {\"frequency\": 597, \"value\": \"Beck\"}, \"Gigi D'agostino\": {\"frequency\": 177, \"value\": \"Gigi D'agostino\"}, \"The Misfits\": {\"frequency\": 524, \"value\": \"The Misfits\"}, \"Survivor\": {\"frequency\": 578, \"value\": \"Survivor\"}, \"Soulja Boy Tell'em\": {\"frequency\": 416, \"value\": \"Soulja Boy Tell'em\"}, \"Chris Brown\": {\"frequency\": 772, \"value\": \"Chris Brown\"}, \"Air France\": {\"frequency\": 497, \"value\": \"Air France\"}, \"The Hush Sound\": {\"frequency\": 332, \"value\": \"The Hush Sound\"}, \"August Burns Red\": {\"frequency\": 380, \"value\": \"August Burns Red\"}, \"Curtis Mayfield\": {\"frequency\": 163, \"value\": \"Curtis Mayfield\"}, \"Paramore\": {\"frequency\": 3124, \"value\": \"Paramore\"}, \"Avril Lavigne\": {\"frequency\": 2665, \"value\": \"Avril Lavigne\"}, \"Sugar Ray\": {\"frequency\": 224, \"value\": \"Sugar Ray\"}, \"Eric Church\": {\"frequency\": 909, \"value\": \"Eric Church\"}, \"Yann Tiersen\": {\"frequency\": 985, \"value\": \"Yann Tiersen\"}, \"Sting\": {\"frequency\": 704, \"value\": \"Sting\"}, \"Frankie Goes To Hollywood\": {\"frequency\": 242, \"value\": \"Frankie Goes To ...\"}, \"Mickie Krause\": {\"frequency\": 377, \"value\": \"Mickie Krause\"}, \"Shakira\": {\"frequency\": 3092, \"value\": \"Shakira\"}, \"Rainbow\": {\"frequency\": 266, \"value\": \"Rainbow\"}, \"Nightwish\": {\"frequency\": 1018, \"value\": \"Nightwish\"}, \"Jag Panzer\": {\"frequency\": 214, \"value\": \"Jag Panzer\"}, \"Pearl Jam\": {\"frequency\": 2186, \"value\": \"Pearl Jam\"}, \"Sub Focus\": {\"frequency\": 235, \"value\": \"Sub Focus\"}, \"Discovery\": {\"frequency\": 210, \"value\": \"Discovery\"}, \"Modest Mouse\": {\"frequency\": 2251, \"value\": \"Modest Mouse\"}, \"Between The Buried And Me\": {\"frequency\": 150, \"value\": \"Between The Buried ...\"}, \"Muse\": {\"frequency\": 7916, \"value\": \"Muse\"}, \"PeterLicht\": {\"frequency\": 232, \"value\": \"PeterLicht\"}, \"Hole\": {\"frequency\": 293, \"value\": \"Hole\"}, \"Alison Krauss / Union Station\": {\"frequency\": 732, \"value\": \"Alison Krauss / ...\"}, \"Suzi Quatro\": {\"frequency\": 298, \"value\": \"Suzi Quatro\"}, \"Young Money featuring Lloyd\": {\"frequency\": 596, \"value\": \"Young Money ...\"}, \"AFI\": {\"frequency\": 729, \"value\": \"AFI\"}, \"Saliva\": {\"frequency\": 480, \"value\": \"Saliva\"}, \"Greg Laswell\": {\"frequency\": 210, \"value\": \"Greg Laswell\"}, \"The Gerbils\": {\"frequency\": 271, \"value\": \"The Gerbils\"}, \"TV On The Radio\": {\"frequency\": 286, \"value\": \"TV On The Radio\"}, \"Irene Cara\": {\"frequency\": 150, \"value\": \"Irene Cara\"}, \"Kinky\": {\"frequency\": 163, \"value\": \"Kinky\"}, \"Metric\": {\"frequency\": 2067, \"value\": \"Metric\"}, \"Sam Adams\": {\"frequency\": 191, \"value\": \"Sam Adams\"}, \"Bananarama\": {\"frequency\": 163, \"value\": \"Bananarama\"}, \"Gwen Stefani\": {\"frequency\": 290, \"value\": \"Gwen Stefani\"}, \"Justin Timberlake duet with Beyonce\": {\"frequency\": 428, \"value\": \"Justin Timberlake ...\"}, \"Jack's Mannequin\": {\"frequency\": 478, \"value\": \"Jack's Mannequin\"}, \"Tenth Avenue North\": {\"frequency\": 460, \"value\": \"Tenth Avenue North\"}, \"Sarah McLachlan\": {\"frequency\": 217, \"value\": \"Sarah McLachlan\"}, \"Devotchka\": {\"frequency\": 395, \"value\": \"Devotchka\"}, \"Gotan Project\": {\"frequency\": 577, \"value\": \"Gotan Project\"}, \"LMFAO\": {\"frequency\": 761, \"value\": \"LMFAO\"}, \"Bowerbirds\": {\"frequency\": 171, \"value\": \"Bowerbirds\"}, \"The Killers\": {\"frequency\": 5721, \"value\": \"The Killers\"}, \"Shaggy / Ricardo Ducent\": {\"frequency\": 149, \"value\": \"Shaggy / Ricardo ...\"}, \"Kaizers Orchestra\": {\"frequency\": 155, \"value\": \"Kaizers Orchestra\"}, \"Craig David\": {\"frequency\": 488, \"value\": \"Craig David\"}, \"Kid Cudi Vs Crookers\": {\"frequency\": 1003, \"value\": \"Kid Cudi Vs ...\"}, \"Hanson\": {\"frequency\": 161, \"value\": \"Hanson\"}, \"ARRESTED DEVELOPMENT\": {\"frequency\": 270, \"value\": \"ARRESTED ...\"}, \"Selena\": {\"frequency\": 627, \"value\": \"Selena\"}, \"Tori Amos\": {\"frequency\": 163, \"value\": \"Tori Amos\"}, \"Moloko\": {\"frequency\": 270, \"value\": \"Moloko\"}, \"David Bowie\": {\"frequency\": 563, \"value\": \"David Bowie\"}, \"Blitzen Trapper\": {\"frequency\": 214, \"value\": \"Blitzen Trapper\"}, \"Cazuza\": {\"frequency\": 225, \"value\": \"Cazuza\"}, \"Sonny Boy Williamson\": {\"frequency\": 561, \"value\": \"Sonny Boy ...\"}, \"Zac Brown Band\": {\"frequency\": 1263, \"value\": \"Zac Brown Band\"}, \"SONATA ARCTICA\": {\"frequency\": 171, \"value\": \"SONATA ARCTICA\"}, \"The Weepies\": {\"frequency\": 399, \"value\": \"The Weepies\"}, \"Regina Spektor\": {\"frequency\": 1094, \"value\": \"Regina Spektor\"}, \"Ordo Rosarius Equilibrio\": {\"frequency\": 161, \"value\": \"Ordo Rosarius ...\"}, \"Five Iron Frenzy\": {\"frequency\": 1823, \"value\": \"Five Iron Frenzy\"}, \"Usher\": {\"frequency\": 1763, \"value\": \"Usher\"}, \"Fernando Delgadillo\": {\"frequency\": 170, \"value\": \"Fernando ...\"}, \"The Ordinary Boys\": {\"frequency\": 223, \"value\": \"The Ordinary Boys\"}, \"Madonna\": {\"frequency\": 1086, \"value\": \"Madonna\"}, \"The Pharcyde\": {\"frequency\": 350, \"value\": \"The Pharcyde\"}, \"Bethany Dillon\": {\"frequency\": 168, \"value\": \"Bethany Dillon\"}, \"Bee Gees\": {\"frequency\": 371, \"value\": \"Bee Gees\"}, \"Parkway Drive\": {\"frequency\": 194, \"value\": \"Parkway Drive\"}, \"Amanda Perez\": {\"frequency\": 180, \"value\": \"Amanda Perez\"}, \"Chicago\": {\"frequency\": 184, \"value\": \"Chicago\"}, \"The Thermals\": {\"frequency\": 152, \"value\": \"The Thermals\"}, \"Liz Phair\": {\"frequency\": 219, \"value\": \"Liz Phair\"}, \"Joe Cocker\": {\"frequency\": 269, \"value\": \"Joe Cocker\"}, \"Thousand Foot Krutch\": {\"frequency\": 690, \"value\": \"Thousand Foot ...\"}, \"Five Finger Death Punch\": {\"frequency\": 1116, \"value\": \"Five Finger Death ...\"}, \"Cece Winans\": {\"frequency\": 158, \"value\": \"Cece Winans\"}, \"Kevin Johansen\": {\"frequency\": 182, \"value\": \"Kevin Johansen\"}, \"Des'ree\": {\"frequency\": 176, \"value\": \"Des'ree\"}, \"Friendly Fires\": {\"frequency\": 267, \"value\": \"Friendly Fires\"}, \"Animal Collective\": {\"frequency\": 691, \"value\": \"Animal Collective\"}, \"System of a Down\": {\"frequency\": 1365, \"value\": \"System of a Down\"}, \"Empire Of The Sun\": {\"frequency\": 384, \"value\": \"Empire Of The Sun\"}, \"Orishas\": {\"frequency\": 879, \"value\": \"Orishas\"}, \"Bond\": {\"frequency\": 249, \"value\": \"Bond\"}, \"Ludovico Einaudi\": {\"frequency\": 610, \"value\": \"Ludovico Einaudi\"}, \"Jake Hess\": {\"frequency\": 543, \"value\": \"Jake Hess\"}, \"Tristan Prettyman\": {\"frequency\": 174, \"value\": \"Tristan Prettyman\"}, \"DAVE MATTHEWS BAND\": {\"frequency\": 1183, \"value\": \"DAVE MATTHEWS BAND\"}, \"Brooke Fraser\": {\"frequency\": 300, \"value\": \"Brooke Fraser\"}, \"The Rural Alberta Advantage\": {\"frequency\": 187, \"value\": \"The Rural Alberta ...\"}, \"Seeed\": {\"frequency\": 239, \"value\": \"Seeed\"}, \"Lila Downs\": {\"frequency\": 157, \"value\": \"Lila Downs\"}, \"A Fine Frenzy\": {\"frequency\": 884, \"value\": \"A Fine Frenzy\"}, \"Flo Rida\": {\"frequency\": 649, \"value\": \"Flo Rida\"}, \"Pereza\": {\"frequency\": 216, \"value\": \"Pereza\"}, \"MC Hammer\": {\"frequency\": 416, \"value\": \"MC Hammer\"}, \"CKY\": {\"frequency\": 348, \"value\": \"CKY\"}, \"Dario Marianelli\": {\"frequency\": 275, \"value\": \"Dario Marianelli\"}, \"Secret Machines\": {\"frequency\": 193, \"value\": \"Secret Machines\"}, \"Gillian Welch\": {\"frequency\": 287, \"value\": \"Gillian Welch\"}, \"You Me At Six\": {\"frequency\": 210, \"value\": \"You Me At Six\"}, \"Tiny Vipers\": {\"frequency\": 480, \"value\": \"Tiny Vipers\"}, \"Reel Big Fish\": {\"frequency\": 400, \"value\": \"Reel Big Fish\"}, \"Scorpions\": {\"frequency\": 261, \"value\": \"Scorpions\"}, \"Triumvirat\": {\"frequency\": 370, \"value\": \"Triumvirat\"}, \"Tricky\": {\"frequency\": 242, \"value\": \"Tricky\"}, \"Chromeo\": {\"frequency\": 822, \"value\": \"Chromeo\"}, \"Laura Marling\": {\"frequency\": 547, \"value\": \"Laura Marling\"}, \"Basshunter\": {\"frequency\": 1236, \"value\": \"Basshunter\"}, \"Base Ball Bear\": {\"frequency\": 817, \"value\": \"Base Ball Bear\"}, \"Kenny Rogers\": {\"frequency\": 194, \"value\": \"Kenny Rogers\"}, \"Streetlight Manifesto\": {\"frequency\": 515, \"value\": \"Streetlight ...\"}, \"The Temper Trap\": {\"frequency\": 920, \"value\": \"The Temper Trap\"}, \"Love\": {\"frequency\": 222, \"value\": \"Love\"}, \"Paul Kalkbrenner\": {\"frequency\": 323, \"value\": \"Paul Kalkbrenner\"}, \"Poverty Stinks\": {\"frequency\": 164, \"value\": \"Poverty Stinks\"}, \"The Beach Boys\": {\"frequency\": 292, \"value\": \"The Beach Boys\"}, \"Kaiser Chiefs\": {\"frequency\": 661, \"value\": \"Kaiser Chiefs\"}, \"Dispatch\": {\"frequency\": 391, \"value\": \"Dispatch\"}, \"Colbie Caillat\": {\"frequency\": 1704, \"value\": \"Colbie Caillat\"}, \"Cute Is What We Aim For\": {\"frequency\": 304, \"value\": \"Cute Is What We ...\"}, \"Sean Kingston and Justin Bieber\": {\"frequency\": 932, \"value\": \"Sean Kingston and ...\"}, \"Aesop Rock\": {\"frequency\": 453, \"value\": \"Aesop Rock\"}, \"Jill Scott\": {\"frequency\": 767, \"value\": \"Jill Scott\"}, \"Ashlee Simpson\": {\"frequency\": 302, \"value\": \"Ashlee Simpson\"}, \"Company Flow\": {\"frequency\": 220, \"value\": \"Company Flow\"}, \"Demon Hunter\": {\"frequency\": 217, \"value\": \"Demon Hunter\"}, \"Portishead\": {\"frequency\": 707, \"value\": \"Portishead\"}, \"Sister Hazel\": {\"frequency\": 172, \"value\": \"Sister Hazel\"}, \"DMX\": {\"frequency\": 608, \"value\": \"DMX\"}, \"Lady GaGa / Colby O'Donis\": {\"frequency\": 1419, \"value\": \"Lady GaGa / Colby ...\"}, \"Dr. Dre / Eminem / Alvin Joiner\": {\"frequency\": 180, \"value\": \"Dr. Dre / Eminem / ...\"}, \"Lange\": {\"frequency\": 518, \"value\": \"Lange\"}, \"Third Day\": {\"frequency\": 277, \"value\": \"Third Day\"}, \"The Meters\": {\"frequency\": 257, \"value\": \"The Meters\"}, \"Fluke\": {\"frequency\": 223, \"value\": \"Fluke\"}, \"M Ward\": {\"frequency\": 199, \"value\": \"M Ward\"}, \"Popol Vuh\": {\"frequency\": 154, \"value\": \"Popol Vuh\"}, \"Bebe\": {\"frequency\": 490, \"value\": \"Bebe\"}, \"H\\ufffd\\ufffdroes del Silencio\": {\"frequency\": 679, \"value\": \"H\\u00e9roes del ...\"}, \"Andre Hazes\": {\"frequency\": 200, \"value\": \"Andre Hazes\"}, \"Opeth\": {\"frequency\": 441, \"value\": \"Opeth\"}, \"Devendra Banhart\": {\"frequency\": 658, \"value\": \"Devendra Banhart\"}, \"She & Him\": {\"frequency\": 579, \"value\": \"She & Him\"}, \"The Lonely Island\": {\"frequency\": 782, \"value\": \"The Lonely Island\"}, \"Flogging Molly\": {\"frequency\": 1243, \"value\": \"Flogging Molly\"}, \"Puddle Of Mudd\": {\"frequency\": 412, \"value\": \"Puddle Of Mudd\"}, \"4 Non Blondes\": {\"frequency\": 234, \"value\": \"4 Non Blondes\"}, \"Mala Rodriguez\": {\"frequency\": 218, \"value\": \"Mala Rodriguez\"}, \"Steve Goodman\": {\"frequency\": 202, \"value\": \"Steve Goodman\"}, \"Jeff Buckley\": {\"frequency\": 232, \"value\": \"Jeff Buckley\"}, \"The Wombats\": {\"frequency\": 233, \"value\": \"The Wombats\"}, \"Cassie\": {\"frequency\": 486, \"value\": \"Cassie\"}, \"Badly Drawn Boy\": {\"frequency\": 173, \"value\": \"Badly Drawn Boy\"}, \"Margot & The Nuclear So And So's\": {\"frequency\": 171, \"value\": \"Margot & The ...\"}, \"Bedouin Soundclash\": {\"frequency\": 220, \"value\": \"Bedouin Soundclash\"}, \"Chris Isaak\": {\"frequency\": 430, \"value\": \"Chris Isaak\"}, \"Shantel\": {\"frequency\": 186, \"value\": \"Shantel\"}, \"DJ Dizzy\": {\"frequency\": 983, \"value\": \"DJ Dizzy\"}, \"The Hold Steady\": {\"frequency\": 168, \"value\": \"The Hold Steady\"}, \"Triple Six Mafia\": {\"frequency\": 252, \"value\": \"Triple Six Mafia\"}, \"Nina Simone\": {\"frequency\": 200, \"value\": \"Nina Simone\"}, \"Busdriver\": {\"frequency\": 172, \"value\": \"Busdriver\"}, \"Bad Religion\": {\"frequency\": 411, \"value\": \"Bad Religion\"}, \"Justin Bieber / Usher\": {\"frequency\": 307, \"value\": \"Justin Bieber / ...\"}, \"Sauce Money Featuring Memphis Bleek\": {\"frequency\": 202, \"value\": \"Sauce Money ...\"}, \"La Renga\": {\"frequency\": 386, \"value\": \"La Renga\"}, \"Death Cab for Cutie\": {\"frequency\": 1204, \"value\": \"Death Cab for ...\"}, \"N.E.R.D.\": {\"frequency\": 1463, \"value\": \"N.E.R.D.\"}, \"Calle 13\": {\"frequency\": 1332, \"value\": \"Calle 13\"}, \"Cursive\": {\"frequency\": 162, \"value\": \"Cursive\"}, \"Michael Learns To Rock\": {\"frequency\": 149, \"value\": \"Michael Learns To ...\"}, \"Sondre Lerche\": {\"frequency\": 302, \"value\": \"Sondre Lerche\"}, \"Rammstein\": {\"frequency\": 3093, \"value\": \"Rammstein\"}, \"Tito El Bambino\": {\"frequency\": 176, \"value\": \"Tito El Bambino\"}, \"Cyndi Lauper\": {\"frequency\": 431, \"value\": \"Cyndi Lauper\"}, \"Bram Vermeulen\": {\"frequency\": 173, \"value\": \"Bram Vermeulen\"}, \"Ti\\ufffd\\ufffdsto\": {\"frequency\": 420, \"value\": \"Ti\\u00ebsto\"}, \"Lupe Fiasco featuring Matt Santos\": {\"frequency\": 311, \"value\": \"Lupe Fiasco ...\"}, \"The Blues Brothers\": {\"frequency\": 463, \"value\": \"The Blues Brothers\"}, \"Macy Gray\": {\"frequency\": 151, \"value\": \"Macy Gray\"}, \"The Devil Wears Prada\": {\"frequency\": 421, \"value\": \"The Devil Wears ...\"}, \"Delerium\": {\"frequency\": 274, \"value\": \"Delerium\"}, \"Neutral Milk Hotel\": {\"frequency\": 907, \"value\": \"Neutral Milk Hotel\"}, \"Deana Carter\": {\"frequency\": 299, \"value\": \"Deana Carter\"}, \"The Rocket Summer\": {\"frequency\": 314, \"value\": \"The Rocket Summer\"}, \"Brazilian Girls\": {\"frequency\": 155, \"value\": \"Brazilian Girls\"}, \"Mindy Smith\": {\"frequency\": 178, \"value\": \"Mindy Smith\"}, \"In Flames\": {\"frequency\": 454, \"value\": \"In Flames\"}, \"Old 97's\": {\"frequency\": 343, \"value\": \"Old 97's\"}, \"Collective Soul\": {\"frequency\": 391, \"value\": \"Collective Soul\"}, \"Big Daddy Weave\": {\"frequency\": 154, \"value\": \"Big Daddy Weave\"}, \"Eminem / DMX / Obie Trice\": {\"frequency\": 155, \"value\": \"Eminem / DMX / ...\"}, \"Kylie Minogue\": {\"frequency\": 306, \"value\": \"Kylie Minogue\"}, \"Jordin Sparks featuring Chris Brown\": {\"frequency\": 182, \"value\": \"Jordin Sparks ...\"}, \"Twista\": {\"frequency\": 323, \"value\": \"Twista\"}, \"Keith Sweat Featuring Athena Cage\": {\"frequency\": 152, \"value\": \"Keith Sweat ...\"}, \"Prodigy\": {\"frequency\": 232, \"value\": \"Prodigy\"}, \"Gavin DeGraw\": {\"frequency\": 208, \"value\": \"Gavin DeGraw\"}, \"N.W.A.\": {\"frequency\": 447, \"value\": \"N.W.A.\"}, \"Marisa Monte\": {\"frequency\": 449, \"value\": \"Marisa Monte\"}, \"Vitalic\": {\"frequency\": 196, \"value\": \"Vitalic\"}, \"Me First And The Gimme Gimmes\": {\"frequency\": 396, \"value\": \"Me First And The ...\"}, \"Alter Bridge\": {\"frequency\": 381, \"value\": \"Alter Bridge\"}, \"Jadon Lavik\": {\"frequency\": 206, \"value\": \"Jadon Lavik\"}, \"Barry White\": {\"frequency\": 557, \"value\": \"Barry White\"}, \"They Might Be Giants\": {\"frequency\": 218, \"value\": \"They Might Be ...\"}, \"Marc Almond\": {\"frequency\": 171, \"value\": \"Marc Almond\"}, \"KT Tunstall\": {\"frequency\": 603, \"value\": \"KT Tunstall\"}, \"Andy Starr\": {\"frequency\": 198, \"value\": \"Andy Starr\"}, \"Athlete\": {\"frequency\": 180, \"value\": \"Athlete\"}, \"Bacilos\": {\"frequency\": 473, \"value\": \"Bacilos\"}, \"Corona\": {\"frequency\": 185, \"value\": \"Corona\"}, \"Digitalism\": {\"frequency\": 442, \"value\": \"Digitalism\"}, \"Architecture In Helsinki\": {\"frequency\": 185, \"value\": \"Architecture In ...\"}, \"Asia 2001\": {\"frequency\": 321, \"value\": \"Asia 2001\"}, \"Heart\": {\"frequency\": 393, \"value\": \"Heart\"}, \"Man\\ufffd\\ufffd\": {\"frequency\": 948, \"value\": \"Man\\u00e1\"}, \"The Rolling Stones\": {\"frequency\": 1544, \"value\": \"The Rolling Stones\"}, \"Arch Enemy\": {\"frequency\": 400, \"value\": \"Arch Enemy\"}, \"Catupecu Machu\": {\"frequency\": 388, \"value\": \"Catupecu Machu\"}, \"The Zombies\": {\"frequency\": 228, \"value\": \"The Zombies\"}, \"Kollaa Kest\\ufffd\\ufffd\\ufffd\\ufffd\": {\"frequency\": 194, \"value\": \"Kollaa Kest\\u00e4\\u00e4\"}, \"Black Label Society\": {\"frequency\": 317, \"value\": \"Black Label ...\"}, \"Maelo Ruiz\": {\"frequency\": 427, \"value\": \"Maelo Ruiz\"}, \"Trey Songz\": {\"frequency\": 642, \"value\": \"Trey Songz\"}, \"Mos Def\": {\"frequency\": 223, \"value\": \"Mos Def\"}, \"Joe Nichols\": {\"frequency\": 450, \"value\": \"Joe Nichols\"}, \"Stray Cats\": {\"frequency\": 199, \"value\": \"Stray Cats\"}, \"Dustin O'Halloran\": {\"frequency\": 156, \"value\": \"Dustin O'Halloran\"}, \"DHT Feat. Edm\\ufffd\\ufffde\": {\"frequency\": 156, \"value\": \"DHT Feat. Edm\\u00e9e\"}, \"Abba\": {\"frequency\": 401, \"value\": \"Abba\"}, \"Sigur R\\ufffd\\ufffds\": {\"frequency\": 426, \"value\": \"Sigur R\\u00f3s\"}, \"Starflyer 59\": {\"frequency\": 229, \"value\": \"Starflyer 59\"}, \"Rebelution\": {\"frequency\": 212, \"value\": \"Rebelution\"}, \"Cocteau Twins\": {\"frequency\": 189, \"value\": \"Cocteau Twins\"}, \"Bebel Gilberto\": {\"frequency\": 292, \"value\": \"Bebel Gilberto\"}, \"Whitney Houston\": {\"frequency\": 193, \"value\": \"Whitney Houston\"}, \"Robin Thicke\": {\"frequency\": 303, \"value\": \"Robin Thicke\"}, \"Rodrigo y Gabriela\": {\"frequency\": 501, \"value\": \"Rodrigo y Gabriela\"}, \"Air Supply\": {\"frequency\": 269, \"value\": \"Air Supply\"}, \"Brian Poole & The Tremeloes\": {\"frequency\": 224, \"value\": \"Brian Poole & The ...\"}, \"Francesca Battistelli\": {\"frequency\": 423, \"value\": \"Francesca ...\"}, \"Prince\": {\"frequency\": 422, \"value\": \"Prince\"}, \"Peaches\": {\"frequency\": 279, \"value\": \"Peaches\"}, \"Little People\": {\"frequency\": 167, \"value\": \"Little People\"}, \"USS (Ubiquitous Synergy Seeker)\": {\"frequency\": 172, \"value\": \"USS (Ubiquitous ...\"}, \"Todd Rundgren\": {\"frequency\": 164, \"value\": \"Todd Rundgren\"}, \"1990s\": {\"frequency\": 502, \"value\": \"1990s\"}, \"Jurassic 5\": {\"frequency\": 422, \"value\": \"Jurassic 5\"}, \"Bell Biv DeVoe\": {\"frequency\": 186, \"value\": \"Bell Biv DeVoe\"}, \"Ryan Adams & The Cardinals\": {\"frequency\": 536, \"value\": \"Ryan Adams & The ...\"}, \"Ratatat\": {\"frequency\": 1252, \"value\": \"Ratatat\"}, \"Four Year Strong\": {\"frequency\": 318, \"value\": \"Four Year Strong\"}, \"The Tallest Man On Earth\": {\"frequency\": 319, \"value\": \"The Tallest Man On ...\"}, \"Valerio Scanu\": {\"frequency\": 219, \"value\": \"Valerio Scanu\"}, \"Calexico\": {\"frequency\": 187, \"value\": \"Calexico\"}, \"Delirious?\": {\"frequency\": 601, \"value\": \"Delirious?\"}, \"Mastodon\": {\"frequency\": 266, \"value\": \"Mastodon\"}, \"Aqua\": {\"frequency\": 327, \"value\": \"Aqua\"}, \"Balkan Beat Box\": {\"frequency\": 321, \"value\": \"Balkan Beat Box\"}, \"Cobra Starship Featuring Leighton Meester\": {\"frequency\": 216, \"value\": \"Cobra Starship ...\"}, \"Kid Cudi\": {\"frequency\": 1532, \"value\": \"Kid Cudi\"}, \"Mystikal\": {\"frequency\": 174, \"value\": \"Mystikal\"}, \"Built To Spill\": {\"frequency\": 193, \"value\": \"Built To Spill\"}, \"Shinedown\": {\"frequency\": 1216, \"value\": \"Shinedown\"}, \"Lil Scrappy\": {\"frequency\": 633, \"value\": \"Lil Scrappy\"}, \"Modjo\": {\"frequency\": 186, \"value\": \"Modjo\"}, \"A Perfect Circle\": {\"frequency\": 811, \"value\": \"A Perfect Circle\"}, \"Zero 7\": {\"frequency\": 694, \"value\": \"Zero 7\"}, \"Ice Cube\": {\"frequency\": 788, \"value\": \"Ice Cube\"}, \"Mutemath\": {\"frequency\": 172, \"value\": \"Mutemath\"}, \"Totta N\\ufffd\\ufffdslund\": {\"frequency\": 169, \"value\": \"Totta N\\u00e4slund\"}, \"Cream\": {\"frequency\": 518, \"value\": \"Cream\"}, \"Crowded House\": {\"frequency\": 199, \"value\": \"Crowded House\"}, \"Natasha Bedingfield\": {\"frequency\": 326, \"value\": \"Natasha ...\"}, \"Stone Sour\": {\"frequency\": 393, \"value\": \"Stone Sour\"}, \"Local Natives\": {\"frequency\": 702, \"value\": \"Local Natives\"}, \"Bring Me The Horizon\": {\"frequency\": 262, \"value\": \"Bring Me The ...\"}, \"Missy Higgins\": {\"frequency\": 290, \"value\": \"Missy Higgins\"}, \"Ace of Base\": {\"frequency\": 519, \"value\": \"Ace of Base\"}, \"Eminem / Nate Dogg\": {\"frequency\": 574, \"value\": \"Eminem / Nate Dogg\"}, \"Shakira ft. Wyclef Jean\": {\"frequency\": 608, \"value\": \"Shakira ft. Wyclef ...\"}, \"Ugly Kid Joe\": {\"frequency\": 192, \"value\": \"Ugly Kid Joe\"}, \"Buju Banton\": {\"frequency\": 378, \"value\": \"Buju Banton\"}, \"Jars Of Clay\": {\"frequency\": 275, \"value\": \"Jars Of Clay\"}, \"Buckcherry\": {\"frequency\": 621, \"value\": \"Buckcherry\"}, \"Calvin Harris\": {\"frequency\": 259, \"value\": \"Calvin Harris\"}, \"Jos\\ufffd\\ufffd Gonzalez\": {\"frequency\": 216, \"value\": \"Jos\\u00e9 Gonzalez\"}, \"Justin Bieber\": {\"frequency\": 9259, \"value\": \"Justin Bieber\"}, \"Robbie Williams\": {\"frequency\": 365, \"value\": \"Robbie Williams\"}, \"Emmy The Great\": {\"frequency\": 365, \"value\": \"Emmy The Great\"}, \"Maria Gad\\ufffd\\ufffd\": {\"frequency\": 286, \"value\": \"Maria Gad\\u00fa\"}, \"Serj Tankian\": {\"frequency\": 230, \"value\": \"Serj Tankian\"}, \"Basshunter Feat. DJ Mental Theo\\u0019s Bazzheadz\": {\"frequency\": 177, \"value\": \"Basshunter Feat. ...\"}, \"Lykke Li\": {\"frequency\": 673, \"value\": \"Lykke Li\"}, \"Chuck Berry\": {\"frequency\": 170, \"value\": \"Chuck Berry\"}, \"Madness\": {\"frequency\": 189, \"value\": \"Madness\"}, \"Plain White T's\": {\"frequency\": 1071, \"value\": \"Plain White T's\"}, \"Dragonette\": {\"frequency\": 252, \"value\": \"Dragonette\"}, \"Atreyu\": {\"frequency\": 579, \"value\": \"Atreyu\"}, \"The Boxmasters\": {\"frequency\": 173, \"value\": \"The Boxmasters\"}, \"Shiny Toy Guns\": {\"frequency\": 149, \"value\": \"Shiny Toy Guns\"}, \"Brand New\": {\"frequency\": 796, \"value\": \"Brand New\"}, \"Caribou (formerly Dan Snaith's Manitoba)\": {\"frequency\": 269, \"value\": \"Caribou (formerly ...\"}, \"Reality Check\": {\"frequency\": 458, \"value\": \"Reality Check\"}, \"We The Kings\": {\"frequency\": 529, \"value\": \"We The Kings\"}, \"Roxy Music\": {\"frequency\": 327, \"value\": \"Roxy Music\"}, \"Motion City Soundtrack\": {\"frequency\": 266, \"value\": \"Motion City ...\"}, \"Fragma\": {\"frequency\": 152, \"value\": \"Fragma\"}, \"Toro Y Moi\": {\"frequency\": 274, \"value\": \"Toro Y Moi\"}, \"Floetry\": {\"frequency\": 187, \"value\": \"Floetry\"}, \"Sam Cooke\": {\"frequency\": 1756, \"value\": \"Sam Cooke\"}, \"James Blunt\": {\"frequency\": 776, \"value\": \"James Blunt\"}, \"Ariel Pink's Haunted Graffiti\": {\"frequency\": 189, \"value\": \"Ariel Pink's ...\"}, \"Jan Hammer\": {\"frequency\": 186, \"value\": \"Jan Hammer\"}, \"Operation Ivy\": {\"frequency\": 319, \"value\": \"Operation Ivy\"}, \"Pretty Ricky\": {\"frequency\": 402, \"value\": \"Pretty Ricky\"}, \"The Prodigy\": {\"frequency\": 820, \"value\": \"The Prodigy\"}, \"Whitechapel\": {\"frequency\": 181, \"value\": \"Whitechapel\"}, \"Erykah Badu\": {\"frequency\": 368, \"value\": \"Erykah Badu\"}, \"Skindred\": {\"frequency\": 167, \"value\": \"Skindred\"}, \"Juanes\": {\"frequency\": 902, \"value\": \"Juanes\"}, \"Angus & Julia Stone\": {\"frequency\": 1463, \"value\": \"Angus & Julia ...\"}, \"Flyleaf\": {\"frequency\": 1037, \"value\": \"Flyleaf\"}, \"Caf\\ufffd\\ufffd Tacvba\": {\"frequency\": 724, \"value\": \"Caf\\u00e9 Tacvba\"}, \"Eagles Of Death Metal\": {\"frequency\": 171, \"value\": \"Eagles Of Death ...\"}, \"Ludacris\": {\"frequency\": 194, \"value\": \"Ludacris\"}, \"Del The Funky Homosapien\": {\"frequency\": 187, \"value\": \"Del The Funky ...\"}, \"Lady GaGa\": {\"frequency\": 3359, \"value\": \"Lady GaGa\"}, \"Groove Armada\": {\"frequency\": 258, \"value\": \"Groove Armada\"}, \"The Darkness\": {\"frequency\": 257, \"value\": \"The Darkness\"}, \"Band Of Horses\": {\"frequency\": 1707, \"value\": \"Band Of Horses\"}, \"Why?\": {\"frequency\": 248, \"value\": \"Why?\"}, \"Bloc Party\": {\"frequency\": 853, \"value\": \"Bloc Party\"}, \"Darwin Deez\": {\"frequency\": 151, \"value\": \"Darwin Deez\"}, \"Simple Plan\": {\"frequency\": 576, \"value\": \"Simple Plan\"}, \"Jedi Mind Tricks\": {\"frequency\": 164, \"value\": \"Jedi Mind Tricks\"}, \"Happy Mondays\": {\"frequency\": 254, \"value\": \"Happy Mondays\"}, \"Everclear\": {\"frequency\": 736, \"value\": \"Everclear\"}, \"Tavares\": {\"frequency\": 260, \"value\": \"Tavares\"}, \"Alejandro Sanz\": {\"frequency\": 888, \"value\": \"Alejandro Sanz\"}, \"Violent Femmes\": {\"frequency\": 313, \"value\": \"Violent Femmes\"}, \"New Found Glory\": {\"frequency\": 447, \"value\": \"New Found Glory\"}, \"The B-52's\": {\"frequency\": 412, \"value\": \"The B-52's\"}, \"Michael Jackson\": {\"frequency\": 1370, \"value\": \"Michael Jackson\"}, \"Breathe Carolina\": {\"frequency\": 221, \"value\": \"Breathe Carolina\"}, \"Bar\\ufffd\\ufffdo Vermelho\": {\"frequency\": 174, \"value\": \"Bar\\u00e3o Vermelho\"}, \"Dangerdoom\": {\"frequency\": 172, \"value\": \"Dangerdoom\"}, \"Travis\": {\"frequency\": 447, \"value\": \"Travis\"}, \"Culture Club\": {\"frequency\": 236, \"value\": \"Culture Club\"}, \"UB40\": {\"frequency\": 541, \"value\": \"UB40\"}, \"Jaci Velasquez\": {\"frequency\": 272, \"value\": \"Jaci Velasquez\"}, \"Iration\": {\"frequency\": 375, \"value\": \"Iration\"}, \"Justice\": {\"frequency\": 1858, \"value\": \"Justice\"}, \"Eminem / Dina Rae\": {\"frequency\": 692, \"value\": \"Eminem / Dina Rae\"}, \"Within Temptation\": {\"frequency\": 473, \"value\": \"Within Temptation\"}, \"Dr. Dre / Eminem\": {\"frequency\": 325, \"value\": \"Dr. Dre / Eminem\"}, \"Tonic\": {\"frequency\": 225, \"value\": \"Tonic\"}, \"Timbaland / Keri Hilson / D.O.E.\": {\"frequency\": 401, \"value\": \"Timbaland / Keri ...\"}, \"The Mars Volta\": {\"frequency\": 759, \"value\": \"The Mars Volta\"}, \"Usher Featuring Lil' Jon & Ludacris\": {\"frequency\": 705, \"value\": \"Usher Featuring ...\"}, \"The Hives\": {\"frequency\": 474, \"value\": \"The Hives\"}, \"Benny Benassi Presents The Biz\": {\"frequency\": 452, \"value\": \"Benny Benassi ...\"}, \"Mariza\": {\"frequency\": 194, \"value\": \"Mariza\"}, \"Foo Fighters\": {\"frequency\": 4033, \"value\": \"Foo Fighters\"}, \"Jason Mraz & Colbie Caillat\": {\"frequency\": 1545, \"value\": \"Jason Mraz & ...\"}, \"Los Fabulosos Cadillacs\": {\"frequency\": 369, \"value\": \"Los Fabulosos ...\"}, \"Interpol\": {\"frequency\": 1092, \"value\": \"Interpol\"}, \"Saosin\": {\"frequency\": 220, \"value\": \"Saosin\"}, \"Sisters Of Mercy\": {\"frequency\": 161, \"value\": \"Sisters Of Mercy\"}, \"Village People\": {\"frequency\": 238, \"value\": \"Village People\"}, \"The Roots\": {\"frequency\": 337, \"value\": \"The Roots\"}, \"Talib Kweli\": {\"frequency\": 320, \"value\": \"Talib Kweli\"}, \"Gorillaz\": {\"frequency\": 2971, \"value\": \"Gorillaz\"}, \"The Boxer Rebellion\": {\"frequency\": 243, \"value\": \"The Boxer ...\"}, \"The Runaways\": {\"frequency\": 243, \"value\": \"The Runaways\"}, \"Hoobastank\": {\"frequency\": 236, \"value\": \"Hoobastank\"}, \"Black Moth Super Rainbow\": {\"frequency\": 217, \"value\": \"Black Moth Super ...\"}, \"Epica\": {\"frequency\": 399, \"value\": \"Epica\"}, \"Yonder Mountain String Band\": {\"frequency\": 382, \"value\": \"Yonder Mountain ...\"}, \"Aaron Shust\": {\"frequency\": 303, \"value\": \"Aaron Shust\"}, \"Iron & Wine\": {\"frequency\": 156, \"value\": \"Iron & Wine\"}, \"Taylor Swift\": {\"frequency\": 7435, \"value\": \"Taylor Swift\"}, \"Horkyze Slyze\": {\"frequency\": 168, \"value\": \"Horkyze Slyze\"}, \"Justin Timberlake Featuring T.I.\": {\"frequency\": 155, \"value\": \"Justin Timberlake ...\"}, \"Steel Pulse\": {\"frequency\": 363, \"value\": \"Steel Pulse\"}, \"Despised Icon\": {\"frequency\": 154, \"value\": \"Despised Icon\"}, \"Kate Winslet\": {\"frequency\": 155, \"value\": \"Kate Winslet\"}, \"Guasones\": {\"frequency\": 204, \"value\": \"Guasones\"}, \"Extremoduro\": {\"frequency\": 457, \"value\": \"Extremoduro\"}, \"Trapt\": {\"frequency\": 204, \"value\": \"Trapt\"}, \"Caetano Veloso\": {\"frequency\": 193, \"value\": \"Caetano Veloso\"}, \"Kid Cudi / MGMT / Ratatat\": {\"frequency\": 1683, \"value\": \"Kid Cudi / MGMT / ...\"}, \"Leonard Cohen\": {\"frequency\": 459, \"value\": \"Leonard Cohen\"}, \"Belle & Sebastian\": {\"frequency\": 517, \"value\": \"Belle & Sebastian\"}, \"Cake\": {\"frequency\": 1444, \"value\": \"Cake\"}, \"Kings Of Convenience\": {\"frequency\": 588, \"value\": \"Kings Of ...\"}, \"Ismael Serrano\": {\"frequency\": 245, \"value\": \"Ismael Serrano\"}, \"Ella Baila Sola\": {\"frequency\": 212, \"value\": \"Ella Baila Sola\"}, \"BarlowGirl\": {\"frequency\": 172, \"value\": \"BarlowGirl\"}, \"The Streets\": {\"frequency\": 378, \"value\": \"The Streets\"}, \"Black Sabbath\": {\"frequency\": 442, \"value\": \"Black Sabbath\"}, \"The Veronicas\": {\"frequency\": 431, \"value\": \"The Veronicas\"}, \"Natiruts\": {\"frequency\": 1105, \"value\": \"Natiruts\"}, \"Christy Nockels\": {\"frequency\": 165, \"value\": \"Christy Nockels\"}, \"Selena Gomez\": {\"frequency\": 190, \"value\": \"Selena Gomez\"}, \"Huey Lewis & The News\": {\"frequency\": 166, \"value\": \"Huey Lewis & The ...\"}, \"Eric B. & Rakim\": {\"frequency\": 348, \"value\": \"Eric B. & Rakim\"}, \"Crosby_ Stills_ Nash & Young\": {\"frequency\": 188, \"value\": \"Crosby_ Stills_ ...\"}, \"Jon Secada\": {\"frequency\": 155, \"value\": \"Jon Secada\"}, \"Huey Lewis And The News\": {\"frequency\": 439, \"value\": \"Huey Lewis And The ...\"}, \"Moose\": {\"frequency\": 294, \"value\": \"Moose\"}, \"Rihanna\": {\"frequency\": 4625, \"value\": \"Rihanna\"}, \"Rick Ross\": {\"frequency\": 258, \"value\": \"Rick Ross\"}, \"Josh Ritter\": {\"frequency\": 298, \"value\": \"Josh Ritter\"}, \"The Offspring\": {\"frequency\": 601, \"value\": \"The Offspring\"}, \"Hinder\": {\"frequency\": 566, \"value\": \"Hinder\"}, \"Damien Rice\": {\"frequency\": 1026, \"value\": \"Damien Rice\"}, \"Stephen Lynch\": {\"frequency\": 352, \"value\": \"Stephen Lynch\"}, \"Tom Waits\": {\"frequency\": 586, \"value\": \"Tom Waits\"}, \"Lisa Gerrard\": {\"frequency\": 161, \"value\": \"Lisa Gerrard\"}, \"Electric Light Orchestra\": {\"frequency\": 364, \"value\": \"Electric Light ...\"}, \"Infected Mushroom\": {\"frequency\": 954, \"value\": \"Infected Mushroom\"}, \"Spineshank\": {\"frequency\": 245, \"value\": \"Spineshank\"}, \"Santogold\": {\"frequency\": 243, \"value\": \"Santogold\"}, \"Eazy-E\": {\"frequency\": 241, \"value\": \"Eazy-E\"}, \"DJ Shadow\": {\"frequency\": 333, \"value\": \"DJ Shadow\"}, \"Bob Dylan\": {\"frequency\": 352, \"value\": \"Bob Dylan\"}, \"Janet Jackson\": {\"frequency\": 434, \"value\": \"Janet Jackson\"}, \"Robert Johnson\": {\"frequency\": 197, \"value\": \"Robert Johnson\"}, \"Frou Frou\": {\"frequency\": 362, \"value\": \"Frou Frou\"}, \"Starfield\": {\"frequency\": 360, \"value\": \"Starfield\"}, \"Deer Tick\": {\"frequency\": 199, \"value\": \"Deer Tick\"}, \"Charlotte Gainsbourg\": {\"frequency\": 200, \"value\": \"Charlotte ...\"}, \"Mando Diao\": {\"frequency\": 332, \"value\": \"Mando Diao\"}, \"Kajagoogoo\": {\"frequency\": 278, \"value\": \"Kajagoogoo\"}, \"Arctic Monkeys\": {\"frequency\": 2612, \"value\": \"Arctic Monkeys\"}, \"Anthrax\": {\"frequency\": 294, \"value\": \"Anthrax\"}, \"Travie McCoy\": {\"frequency\": 1661, \"value\": \"Travie McCoy\"}, \"Lifehouse\": {\"frequency\": 2005, \"value\": \"Lifehouse\"}, \"Marilyn Manson\": {\"frequency\": 885, \"value\": \"Marilyn Manson\"}, \"Broken Social Scene\": {\"frequency\": 603, \"value\": \"Broken Social ...\"}, \"Soilwork\": {\"frequency\": 211, \"value\": \"Soilwork\"}, \"Live\": {\"frequency\": 584, \"value\": \"Live\"}, \"Panic! At The Disco\": {\"frequency\": 478, \"value\": \"Panic! At The ...\"}, \"Keren Ann\": {\"frequency\": 158, \"value\": \"Keren Ann\"}, \"Vangelis\": {\"frequency\": 278, \"value\": \"Vangelis\"}, \"Liquid Tension Experiment\": {\"frequency\": 205, \"value\": \"Liquid Tension ...\"}, \"Kelis\": {\"frequency\": 227, \"value\": \"Kelis\"}, \"Maroon 5 / Rihanna\": {\"frequency\": 221, \"value\": \"Maroon 5 / Rihanna\"}, \"Journey\": {\"frequency\": 344, \"value\": \"Journey\"}, \"Hannah Montana\": {\"frequency\": 419, \"value\": \"Hannah Montana\"}, \"Enter Shikari\": {\"frequency\": 199, \"value\": \"Enter Shikari\"}, \"The Dresden Dolls\": {\"frequency\": 212, \"value\": \"The Dresden Dolls\"}, \"Juno Reactor\": {\"frequency\": 165, \"value\": \"Juno Reactor\"}, \"Brisa Roch\\ufffd\\ufffd\": {\"frequency\": 155, \"value\": \"Brisa Roch\\u00e9\"}, \"Julieta Venegas\": {\"frequency\": 160, \"value\": \"Julieta Venegas\"}, \"Enrique Iglesias\": {\"frequency\": 2058, \"value\": \"Enrique Iglesias\"}, \"Scouting for Girls\": {\"frequency\": 225, \"value\": \"Scouting for Girls\"}, \"Kevin Blechdom\": {\"frequency\": 175, \"value\": \"Kevin Blechdom\"}, \"James Horner\": {\"frequency\": 221, \"value\": \"James Horner\"}, \"ATB\": {\"frequency\": 751, \"value\": \"ATB\"}, \"Weird Al Yankovic\": {\"frequency\": 487, \"value\": \"Weird Al Yankovic\"}, \"Eminem / Dr. Dre\": {\"frequency\": 353, \"value\": \"Eminem / Dr. Dre\"}, \"Stars\": {\"frequency\": 689, \"value\": \"Stars\"}, \"Fever Ray\": {\"frequency\": 218, \"value\": \"Fever Ray\"}, \"Pretenders\": {\"frequency\": 158, \"value\": \"Pretenders\"}, \"Chris Cagle\": {\"frequency\": 323, \"value\": \"Chris Cagle\"}, \"Elton John\": {\"frequency\": 343, \"value\": \"Elton John\"}, \"Cassie Feat. Diddy & Yung Joc\": {\"frequency\": 158, \"value\": \"Cassie Feat. Diddy ...\"}, \"keller williams\": {\"frequency\": 221, \"value\": \"keller williams\"}, \"Olle Adolphson\": {\"frequency\": 198, \"value\": \"Olle Adolphson\"}, \"Blackstreet\": {\"frequency\": 380, \"value\": \"Blackstreet\"}, \"Devo\": {\"frequency\": 480, \"value\": \"Devo\"}, \"Hollywood Undead\": {\"frequency\": 1602, \"value\": \"Hollywood Undead\"}, \"Busted\": {\"frequency\": 275, \"value\": \"Busted\"}, \"blessthefall\": {\"frequency\": 233, \"value\": \"blessthefall\"}, \"Atmosphere\": {\"frequency\": 390, \"value\": \"Atmosphere\"}, \"Afroman\": {\"frequency\": 372, \"value\": \"Afroman\"}, \"Pantera\": {\"frequency\": 969, \"value\": \"Pantera\"}, \"DeGarmo & Key\": {\"frequency\": 191, \"value\": \"DeGarmo & Key\"}, \"The Specials\": {\"frequency\": 318, \"value\": \"The Specials\"}, \"Blue Man Group\": {\"frequency\": 197, \"value\": \"Blue Man Group\"}, \"Matt Redman\": {\"frequency\": 260, \"value\": \"Matt Redman\"}, \"The New York Dolls\": {\"frequency\": 157, \"value\": \"The New York Dolls\"}, \"Enrique Iglesias / Lil Wayne\": {\"frequency\": 159, \"value\": \"Enrique Iglesias / ...\"}, \"Frightened Rabbit\": {\"frequency\": 1064, \"value\": \"Frightened Rabbit\"}, \"The Heavy\": {\"frequency\": 262, \"value\": \"The Heavy\"}, \"St. Vincent\": {\"frequency\": 158, \"value\": \"St. Vincent\"}, \"Saybia\": {\"frequency\": 149, \"value\": \"Saybia\"}, \"Britney Spears\": {\"frequency\": 1745, \"value\": \"Britney Spears\"}, \"Flight Of The Conchords\": {\"frequency\": 590, \"value\": \"Flight Of The ...\"}, \"The Cat Empire\": {\"frequency\": 281, \"value\": \"The Cat Empire\"}, \"Alice Cooper\": {\"frequency\": 254, \"value\": \"Alice Cooper\"}, \"Children Of Bodom\": {\"frequency\": 473, \"value\": \"Children Of Bodom\"}, \"12 Stones\": {\"frequency\": 278, \"value\": \"12 Stones\"}, \"Keyshia Cole\": {\"frequency\": 513, \"value\": \"Keyshia Cole\"}, \"David Crowder*Band\": {\"frequency\": 369, \"value\": \"David Crowder*Band\"}, \"Refused\": {\"frequency\": 156, \"value\": \"Refused\"}, \"Joe Bonamassa\": {\"frequency\": 292, \"value\": \"Joe Bonamassa\"}, \"Pandora's Box\": {\"frequency\": 424, \"value\": \"Pandora's Box\"}, \"Dido\": {\"frequency\": 621, \"value\": \"Dido\"}, \"White Lion\": {\"frequency\": 203, \"value\": \"White Lion\"}, \"Pavement\": {\"frequency\": 1144, \"value\": \"Pavement\"}, \"LCD Soundsystem\": {\"frequency\": 1984, \"value\": \"LCD Soundsystem\"}, \"All Time Low\": {\"frequency\": 1053, \"value\": \"All Time Low\"}, \"C.V. J\\ufffd\\ufffdrgensen\": {\"frequency\": 203, \"value\": \"C.V. J\\u00f8rgensen\"}, \"Cher\": {\"frequency\": 372, \"value\": \"Cher\"}, \"The Radio Dept.\": {\"frequency\": 258, \"value\": \"The Radio Dept.\"}, \"Tegan And Sara\": {\"frequency\": 431, \"value\": \"Tegan And Sara\"}, \"Olivia Newton-John\": {\"frequency\": 511, \"value\": \"Olivia Newton-John\"}, \"Billy Curringham\": {\"frequency\": 213, \"value\": \"Billy Curringham\"}, \"Ashanti\": {\"frequency\": 350, \"value\": \"Ashanti\"}, \"Edgar Oceransky\": {\"frequency\": 233, \"value\": \"Edgar Oceransky\"}, \"Fatboy Slim\": {\"frequency\": 635, \"value\": \"Fatboy Slim\"}, \"The Presets\": {\"frequency\": 166, \"value\": \"The Presets\"}, \"Adam Lambert\": {\"frequency\": 1712, \"value\": \"Adam Lambert\"}, \"Alicia Keys featuring John Mayer\": {\"frequency\": 166, \"value\": \"Alicia Keys ...\"}, \"James Taylor\": {\"frequency\": 717, \"value\": \"James Taylor\"}, \"Kelly Clarkson\": {\"frequency\": 1675, \"value\": \"Kelly Clarkson\"}, \"Jesse Cook\": {\"frequency\": 271, \"value\": \"Jesse Cook\"}, \"Jack Johnson / Matt Costa\": {\"frequency\": 165, \"value\": \"Jack Johnson / ...\"}, \"Tommy James And The Shondells\": {\"frequency\": 226, \"value\": \"Tommy James And ...\"}, \"Bachman-Turner Overdrive\": {\"frequency\": 297, \"value\": \"Bachman-Turner ...\"}, \"Francisca Valenzuela\": {\"frequency\": 288, \"value\": \"Francisca ...\"}, \"Lionel Rogg\": {\"frequency\": 201, \"value\": \"Lionel Rogg\"}, \"The Fugees\": {\"frequency\": 184, \"value\": \"The Fugees\"}, \"Panic At The Disco\": {\"frequency\": 1263, \"value\": \"Panic At The Disco\"}, \"Kansas\": {\"frequency\": 638, \"value\": \"Kansas\"}, \"Funeral For A Friend\": {\"frequency\": 153, \"value\": \"Funeral For A ...\"}, \"Nick Drake\": {\"frequency\": 599, \"value\": \"Nick Drake\"}, \"Akon / Snoop Dogg\": {\"frequency\": 184, \"value\": \"Akon / Snoop Dogg\"}, \"Backstreet Boys\": {\"frequency\": 424, \"value\": \"Backstreet Boys\"}, \"Fisher\": {\"frequency\": 1047, \"value\": \"Fisher\"}, \"Madvillain\": {\"frequency\": 225, \"value\": \"Madvillain\"}, \"Ziggy Marley\": {\"frequency\": 208, \"value\": \"Ziggy Marley\"}, \"Beats Antique\": {\"frequency\": 260, \"value\": \"Beats Antique\"}, \"Damian Marley\": {\"frequency\": 283, \"value\": \"Damian Marley\"}, \"House Of Pain\": {\"frequency\": 331, \"value\": \"House Of Pain\"}, \"Corinne Bailey Rae\": {\"frequency\": 859, \"value\": \"Corinne Bailey Rae\"}, \"Emil Gilels/Orchestre de la Soci\\ufffd\\ufffdt\\ufffd\\ufffd des Concerts du Conservatoire/Andr\\ufffd\\ufffd Cluytens\": {\"frequency\": 398, \"value\": \"Emil ...\"}, \"Kate Voegele\": {\"frequency\": 332, \"value\": \"Kate Voegele\"}, \"Sin Bandera\": {\"frequency\": 366, \"value\": \"Sin Bandera\"}, \"Ghostland Observatory\": {\"frequency\": 271, \"value\": \"Ghostland ...\"}, \"A Rocket To The Moon\": {\"frequency\": 273, \"value\": \"A Rocket To The ...\"}, \"Luis Alberto Spinetta\": {\"frequency\": 186, \"value\": \"Luis Alberto ...\"}, \"Martina McBride\": {\"frequency\": 170, \"value\": \"Martina McBride\"}, \"Confederate Railroad\": {\"frequency\": 175, \"value\": \"Confederate ...\"}, \"Charttraxx Karaoke\": {\"frequency\": 2816, \"value\": \"Charttraxx Karaoke\"}, \"The String Cheese Incident\": {\"frequency\": 591, \"value\": \"The String Cheese ...\"}, \"Santana\": {\"frequency\": 177, \"value\": \"Santana\"}, \"Rick James\": {\"frequency\": 274, \"value\": \"Rick James\"}, \"Jarabe De Palo\": {\"frequency\": 537, \"value\": \"Jarabe De Palo\"}, \"George Lopez\": {\"frequency\": 151, \"value\": \"George Lopez\"}, \"Kate Bush\": {\"frequency\": 266, \"value\": \"Kate Bush\"}, \"Kanye West / T-Pain\": {\"frequency\": 270, \"value\": \"Kanye West / ...\"}, \"Portugal. The Man\": {\"frequency\": 184, \"value\": \"Portugal. The Man\"}, \"Boney M.\": {\"frequency\": 148, \"value\": \"Boney M.\"}, \"The Beautiful South\": {\"frequency\": 165, \"value\": \"The Beautiful ...\"}, \"Ying Yang Twins ft. Pitbull\": {\"frequency\": 163, \"value\": \"Ying Yang Twins ...\"}, \"Hans Zimmer_ James Newton Howard\": {\"frequency\": 186, \"value\": \"Hans Zimmer_ James ...\"}, \"Pixies\": {\"frequency\": 1621, \"value\": \"Pixies\"}, \"Nick Cave & Warren Ellis\": {\"frequency\": 227, \"value\": \"Nick Cave & Warren ...\"}, \"Aerosmith\": {\"frequency\": 2084, \"value\": \"Aerosmith\"}, \"Eddie Vedder\": {\"frequency\": 855, \"value\": \"Eddie Vedder\"}, \"Bj\\ufffd\\ufffdrk\": {\"frequency\": 5144, \"value\": \"Bj\\u00f6rk\"}, \"B.o.B\": {\"frequency\": 2347, \"value\": \"B.o.B\"}, \"Suicidal Tendencies\": {\"frequency\": 210, \"value\": \"Suicidal ...\"}, \"Chris Rea\": {\"frequency\": 229, \"value\": \"Chris Rea\"}, \"The Fray\": {\"frequency\": 640, \"value\": \"The Fray\"}, \"Christina Aguilera\": {\"frequency\": 567, \"value\": \"Christina Aguilera\"}, \"T.I.\": {\"frequency\": 842, \"value\": \"T.I.\"}, \"Ulrich Schnauss\": {\"frequency\": 579, \"value\": \"Ulrich Schnauss\"}, \"Machine Head\": {\"frequency\": 471, \"value\": \"Machine Head\"}, \"Plan B\": {\"frequency\": 388, \"value\": \"Plan B\"}, \"Box Car Racer\": {\"frequency\": 172, \"value\": \"Box Car Racer\"}, \"Simple Minds\": {\"frequency\": 420, \"value\": \"Simple Minds\"}, \"Wiz Khalifa\": {\"frequency\": 388, \"value\": \"Wiz Khalifa\"}, \"Silverchair\": {\"frequency\": 395, \"value\": \"Silverchair\"}, \"John Mayer\": {\"frequency\": 5452, \"value\": \"John Mayer\"}, \"Umphrey's McGee\": {\"frequency\": 139, \"value\": \"Umphrey's McGee\"}, \"Crazy Frog\": {\"frequency\": 172, \"value\": \"Crazy Frog\"}, \"Faith Evans\": {\"frequency\": 180, \"value\": \"Faith Evans\"}, \"Barry Tuckwell/Academy of St Martin-in-the-Fields/Sir Neville Marriner\": {\"frequency\": 3278, \"value\": \"Barry ...\"}, \"Billy Joel\": {\"frequency\": 201, \"value\": \"Billy Joel\"}, \"Bruce Springsteen\": {\"frequency\": 909, \"value\": \"Bruce Springsteen\"}, \"Marques Houston\": {\"frequency\": 254, \"value\": \"Marques Houston\"}, \"Robert Palmer\": {\"frequency\": 458, \"value\": \"Robert Palmer\"}, \"Riverside\": {\"frequency\": 154, \"value\": \"Riverside\"}, \"MxPx\": {\"frequency\": 272, \"value\": \"MxPx\"}, \"The Breeders\": {\"frequency\": 294, \"value\": \"The Breeders\"}, \"Pepper\": {\"frequency\": 899, \"value\": \"Pepper\"}, \"Fleet Foxes\": {\"frequency\": 1241, \"value\": \"Fleet Foxes\"}, \"Masta Killa\": {\"frequency\": 205, \"value\": \"Masta Killa\"}, \"Gang Starr\": {\"frequency\": 574, \"value\": \"Gang Starr\"}, \"Paulina Rubio\": {\"frequency\": 336, \"value\": \"Paulina Rubio\"}, \"Fergie / Ludacris\": {\"frequency\": 154, \"value\": \"Fergie / Ludacris\"}, \"Los Lobos\": {\"frequency\": 253, \"value\": \"Los Lobos\"}, \"Katie Melua\": {\"frequency\": 696, \"value\": \"Katie Melua\"}, \"The Gathering\": {\"frequency\": 188, \"value\": \"The Gathering\"}, \"Barry Manilow\": {\"frequency\": 174, \"value\": \"Barry Manilow\"}, \"The Mamas & The Papas\": {\"frequency\": 624, \"value\": \"The Mamas & The ...\"}, \"C\\ufffd\\ufffdline Dion\": {\"frequency\": 717, \"value\": \"C\\u00e9line Dion\"}, \"Simon & Garfunkel\": {\"frequency\": 342, \"value\": \"Simon & Garfunkel\"}, \"Sanctus Real\": {\"frequency\": 448, \"value\": \"Sanctus Real\"}, \"Celtic Woman\": {\"frequency\": 782, \"value\": \"Celtic Woman\"}, \"Candlebox\": {\"frequency\": 178, \"value\": \"Candlebox\"}, \"Sia\": {\"frequency\": 754, \"value\": \"Sia\"}, \"The Grascals\": {\"frequency\": 326, \"value\": \"The Grascals\"}, \"Dream Theater\": {\"frequency\": 540, \"value\": \"Dream Theater\"}, \"Amon Amarth\": {\"frequency\": 535, \"value\": \"Amon Amarth\"}, \"Van Halen\": {\"frequency\": 1572, \"value\": \"Van Halen\"}, \"38 Special\": {\"frequency\": 213, \"value\": \"38 Special\"}, \"Blind Pilot\": {\"frequency\": 257, \"value\": \"Blind Pilot\"}, \"Dr. Dre\": {\"frequency\": 168, \"value\": \"Dr. Dre\"}, \"Tokyo Police Club\": {\"frequency\": 305, \"value\": \"Tokyo Police Club\"}, \"Bob Marley\": {\"frequency\": 216, \"value\": \"Bob Marley\"}, \"Matt Pond PA\": {\"frequency\": 164, \"value\": \"Matt Pond PA\"}, \"Andres Calamaro\": {\"frequency\": 936, \"value\": \"Andres Calamaro\"}, \"Dash Berlin\": {\"frequency\": 204, \"value\": \"Dash Berlin\"}, \"The Maccabees\": {\"frequency\": 158, \"value\": \"The Maccabees\"}, \"Atomic Kitten\": {\"frequency\": 327, \"value\": \"Atomic Kitten\"}, \"Lucero\": {\"frequency\": 272, \"value\": \"Lucero\"}, \"Cat Power\": {\"frequency\": 972, \"value\": \"Cat Power\"}, \"Kaskade\": {\"frequency\": 289, \"value\": \"Kaskade\"}, \"Selena Gomez & The Scene\": {\"frequency\": 638, \"value\": \"Selena Gomez & The ...\"}, \"Rusko\": {\"frequency\": 172, \"value\": \"Rusko\"}, \"RJD2\": {\"frequency\": 334, \"value\": \"RJD2\"}, \"The Doors\": {\"frequency\": 525, \"value\": \"The Doors\"}, \"Bullet For My Valentine\": {\"frequency\": 1160, \"value\": \"Bullet For My ...\"}, \"Tarkan\": {\"frequency\": 234, \"value\": \"Tarkan\"}, \"Jason Aldean\": {\"frequency\": 521, \"value\": \"Jason Aldean\"}, \"Toby Keith\": {\"frequency\": 1019, \"value\": \"Toby Keith\"}, \"Eels\": {\"frequency\": 398, \"value\": \"Eels\"}, \"Bow Wow\": {\"frequency\": 195, \"value\": \"Bow Wow\"}, \"Plain White T S\": {\"frequency\": 237, \"value\": \"Plain White T S\"}, \"The New Pornographers\": {\"frequency\": 1633, \"value\": \"The New ...\"}, \"Lonnie Gordon\": {\"frequency\": 2125, \"value\": \"Lonnie Gordon\"}, \"Alicia Keys\": {\"frequency\": 2343, \"value\": \"Alicia Keys\"}, \"Nick Cave & The Bad Seeds\": {\"frequency\": 703, \"value\": \"Nick Cave & The ...\"}, \"Tracy Lawrence\": {\"frequency\": 190, \"value\": \"Tracy Lawrence\"}, \"Cocorosie\": {\"frequency\": 170, \"value\": \"Cocorosie\"}, \"REO Speedwagon\": {\"frequency\": 172, \"value\": \"REO Speedwagon\"}, \"Nine Inch Nails\": {\"frequency\": 2359, \"value\": \"Nine Inch Nails\"}, \"Koop\": {\"frequency\": 186, \"value\": \"Koop\"}, \"Katrina & The Waves\": {\"frequency\": 159, \"value\": \"Katrina & The ...\"}, \"Shaggy\": {\"frequency\": 446, \"value\": \"Shaggy\"}, \"Otis Redding\": {\"frequency\": 372, \"value\": \"Otis Redding\"}, \"Damian \\\"Jr. Gong\\\" Marley\": {\"frequency\": 179, \"value\": \"Damian \\\"Jr. Gong\\\" ...\"}, \"Spandau Ballet\": {\"frequency\": 159, \"value\": \"Spandau Ballet\"}, \"Timbaland / Katy Perry\": {\"frequency\": 311, \"value\": \"Timbaland / Katy ...\"}, \"Estopa\": {\"frequency\": 256, \"value\": \"Estopa\"}, \"Pennywise\": {\"frequency\": 168, \"value\": \"Pennywise\"}, \"Justin Bieber / Jessica Jarrell\": {\"frequency\": 340, \"value\": \"Justin Bieber / ...\"}, \"Mike And The Mechanics\": {\"frequency\": 807, \"value\": \"Mike And The ...\"}, \"Sea Wolf\": {\"frequency\": 214, \"value\": \"Sea Wolf\"}, \"The Black Crowes\": {\"frequency\": 205, \"value\": \"The Black Crowes\"}, \"Eddy Grant\": {\"frequency\": 317, \"value\": \"Eddy Grant\"}, \"The Bonzo Dog Band\": {\"frequency\": 166, \"value\": \"The Bonzo Dog Band\"}, \"Agnostic Front\": {\"frequency\": 195, \"value\": \"Agnostic Front\"}, \"Lil Wayne\": {\"frequency\": 560, \"value\": \"Lil Wayne\"}, \"O.G.C.\": {\"frequency\": 321, \"value\": \"O.G.C.\"}, \"Foreigner\": {\"frequency\": 273, \"value\": \"Foreigner\"}, \"Alberto Plaza\": {\"frequency\": 326, \"value\": \"Alberto Plaza\"}, \"Soda Stereo\": {\"frequency\": 1014, \"value\": \"Soda Stereo\"}, \"The Mercury Program\": {\"frequency\": 289, \"value\": \"The Mercury ...\"}, \"Chris Cornell\": {\"frequency\": 396, \"value\": \"Chris Cornell\"}, \"Ron Carter\": {\"frequency\": 1310, \"value\": \"Ron Carter\"}, \"Bryan Adams\": {\"frequency\": 709, \"value\": \"Bryan Adams\"}, \"NOFX\": {\"frequency\": 626, \"value\": \"NOFX\"}, \"Eiffel 65\": {\"frequency\": 150, \"value\": \"Eiffel 65\"}, \"Southside Spinners\": {\"frequency\": 529, \"value\": \"Southside Spinners\"}, \"No Doubt\": {\"frequency\": 920, \"value\": \"No Doubt\"}, \"Deepest Blue\": {\"frequency\": 207, \"value\": \"Deepest Blue\"}, \"Alexisonfire\": {\"frequency\": 171, \"value\": \"Alexisonfire\"}, \"Soul Coughing\": {\"frequency\": 188, \"value\": \"Soul Coughing\"}, \"Joe Satriani\": {\"frequency\": 298, \"value\": \"Joe Satriani\"}, \"Extreme\": {\"frequency\": 336, \"value\": \"Extreme\"}, \"Easton Corbin\": {\"frequency\": 414, \"value\": \"Easton Corbin\"}, \"Faithless\": {\"frequency\": 356, \"value\": \"Faithless\"}, \"Death From Above 1979\": {\"frequency\": 209, \"value\": \"Death From Above ...\"}, \"Christina Aguilera / Lil' Kim / Mya / Pink\": {\"frequency\": 292, \"value\": \"Christina Aguilera ...\"}, \"Burial\": {\"frequency\": 269, \"value\": \"Burial\"}, \"Melody Club\": {\"frequency\": 167, \"value\": \"Melody Club\"}, \"Matisyahu\": {\"frequency\": 370, \"value\": \"Matisyahu\"}, \"Aphex Twin\": {\"frequency\": 244, \"value\": \"Aphex Twin\"}, \"Sugar Pie DeSanto\": {\"frequency\": 166, \"value\": \"Sugar Pie DeSanto\"}, \"As I Lay Dying\": {\"frequency\": 471, \"value\": \"As I Lay Dying\"}, \"Crystal Castles\": {\"frequency\": 1347, \"value\": \"Crystal Castles\"}, \"Trentem\\ufffd\\ufffdller\": {\"frequency\": 215, \"value\": \"Trentem\\u00f8ller\"}, \"Redman\": {\"frequency\": 345, \"value\": \"Redman\"}, \"Bone Thugs-N-Harmony\": {\"frequency\": 183, \"value\": \"Bone ...\"}, \"Penguin Caf\\ufffd\\ufffd Orchestra\": {\"frequency\": 417, \"value\": \"Penguin Caf\\u00e9 ...\"}, \"The Faint\": {\"frequency\": 150, \"value\": \"The Faint\"}, \"MSTRKRFT\": {\"frequency\": 550, \"value\": \"MSTRKRFT\"}, \"Ween\": {\"frequency\": 417, \"value\": \"Ween\"}, \"John Fogerty\": {\"frequency\": 170, \"value\": \"John Fogerty\"}, \"Fear Factory\": {\"frequency\": 231, \"value\": \"Fear Factory\"}, \"Clara Hill\": {\"frequency\": 168, \"value\": \"Clara Hill\"}, \"2Pac\": {\"frequency\": 196, \"value\": \"2Pac\"}, \"Man Man\": {\"frequency\": 1218, \"value\": \"Man Man\"}, \"Bombay Bicycle Club\": {\"frequency\": 167, \"value\": \"Bombay Bicycle ...\"}, \"Marc Anthony\": {\"frequency\": 896, \"value\": \"Marc Anthony\"}, \"The Magic Numbers\": {\"frequency\": 182, \"value\": \"The Magic Numbers\"}, \"Dimmu Borgir\": {\"frequency\": 284, \"value\": \"Dimmu Borgir\"}, \"Casting Crowns\": {\"frequency\": 267, \"value\": \"Casting Crowns\"}, \"William Fitzsimmons\": {\"frequency\": 160, \"value\": \"William ...\"}, \"Glen Hansard & Marketa Irglova\": {\"frequency\": 343, \"value\": \"Glen Hansard & ...\"}, \"M.I.A.\": {\"frequency\": 851, \"value\": \"M.I.A.\"}, \"The Velvet Underground\": {\"frequency\": 518, \"value\": \"The Velvet ...\"}, \"Ben Kweller\": {\"frequency\": 168, \"value\": \"Ben Kweller\"}, \"The Lonely Island / Julian Casablancas\": {\"frequency\": 171, \"value\": \"The Lonely Island ...\"}, \"Hellogoodbye\": {\"frequency\": 175, \"value\": \"Hellogoodbye\"}, \"Foghat\": {\"frequency\": 236, \"value\": \"Foghat\"}, \"California Swag District\": {\"frequency\": 1194, \"value\": \"California Swag ...\"}, \"Thursday\": {\"frequency\": 515, \"value\": \"Thursday\"}, \"Paolo Nutini\": {\"frequency\": 496, \"value\": \"Paolo Nutini\"}, \"Boyzone\": {\"frequency\": 205, \"value\": \"Boyzone\"}, \"Ibrahim Ferrer\": {\"frequency\": 150, \"value\": \"Ibrahim Ferrer\"}, \"Sheena Easton\": {\"frequency\": 1117, \"value\": \"Sheena Easton\"}, \"Blake Shelton\": {\"frequency\": 372, \"value\": \"Blake Shelton\"}, \"Legi\\ufffd\\ufffdo Urbana\": {\"frequency\": 278, \"value\": \"Legi\\u00e3o Urbana\"}, \"Cosmo Vitelli\": {\"frequency\": 626, \"value\": \"Cosmo Vitelli\"}, \"Armin van Buuren\": {\"frequency\": 617, \"value\": \"Armin van Buuren\"}, \"Deftones\": {\"frequency\": 679, \"value\": \"Deftones\"}, \"Salt-N-Pepa\": {\"frequency\": 159, \"value\": \"Salt-N-Pepa\"}, \"Tiziano Ferro\": {\"frequency\": 354, \"value\": \"Tiziano Ferro\"}, \"Queens Of The Stone Age\": {\"frequency\": 915, \"value\": \"Queens Of The ...\"}, \"So Many Dynamos\": {\"frequency\": 152, \"value\": \"So Many Dynamos\"}, \"Jeremih\": {\"frequency\": 421, \"value\": \"Jeremih\"}, \"Groundation\": {\"frequency\": 184, \"value\": \"Groundation\"}, \"Audioslave\": {\"frequency\": 902, \"value\": \"Audioslave\"}, \"Mazzy Star\": {\"frequency\": 254, \"value\": \"Mazzy Star\"}, \"The Pierces\": {\"frequency\": 164, \"value\": \"The Pierces\"}, \"Coheed and Cambria\": {\"frequency\": 435, \"value\": \"Coheed and Cambria\"}, \"Ozzy Osbourne\": {\"frequency\": 489, \"value\": \"Ozzy Osbourne\"}, \"Ennio Morricone\": {\"frequency\": 269, \"value\": \"Ennio Morricone\"}, \"Gipsy Kings\": {\"frequency\": 471, \"value\": \"Gipsy Kings\"}, \"Commodores\": {\"frequency\": 178, \"value\": \"Commodores\"}, \"John Frusciante\": {\"frequency\": 397, \"value\": \"John Frusciante\"}, \"Jimmy Needham\": {\"frequency\": 269, \"value\": \"Jimmy Needham\"}, \"Brett Dennen\": {\"frequency\": 350, \"value\": \"Brett Dennen\"}, \"Jonathan Coulton\": {\"frequency\": 419, \"value\": \"Jonathan Coulton\"}, \"Porcupine Tree\": {\"frequency\": 643, \"value\": \"Porcupine Tree\"}, \"Melody Gardot\": {\"frequency\": 330, \"value\": \"Melody Gardot\"}, \"Joyce Cooling\": {\"frequency\": 162, \"value\": \"Joyce Cooling\"}, \"Warren Zevon\": {\"frequency\": 254, \"value\": \"Warren Zevon\"}, \"+44\": {\"frequency\": 168, \"value\": \"+44\"}, \"Platero Y Tu\": {\"frequency\": 199, \"value\": \"Platero Y Tu\"}, \"The Verve\": {\"frequency\": 1403, \"value\": \"The Verve\"}, \"Shawn McDonald\": {\"frequency\": 264, \"value\": \"Shawn McDonald\"}, \"Mike Jones\": {\"frequency\": 152, \"value\": \"Mike Jones\"}, \"Puff Daddy\": {\"frequency\": 434, \"value\": \"Puff Daddy\"}, \"Clannad\": {\"frequency\": 236, \"value\": \"Clannad\"}, \"D'Angelo\": {\"frequency\": 274, \"value\": \"D'Angelo\"}, \"Metallica / Marianne Faithfull\": {\"frequency\": 328, \"value\": \"Metallica / ...\"}, \"O'Rosko Raricim\": {\"frequency\": 597, \"value\": \"O'Rosko Raricim\"}, \"Laura Pausini\": {\"frequency\": 193, \"value\": \"Laura Pausini\"}, \"Beyonc\\ufffd\\ufffd\": {\"frequency\": 3741, \"value\": \"Beyonc\\u00e9\"}, \"Mecano\": {\"frequency\": 178, \"value\": \"Mecano\"}, \"Matt Wertz\": {\"frequency\": 385, \"value\": \"Matt Wertz\"}, \"Alkaline Trio\": {\"frequency\": 172, \"value\": \"Alkaline Trio\"}, \"Gogol Bordello\": {\"frequency\": 354, \"value\": \"Gogol Bordello\"}, \"Talking Heads\": {\"frequency\": 417, \"value\": \"Talking Heads\"}, \"Subhumans\": {\"frequency\": 328, \"value\": \"Subhumans\"}, \"Carolina Liar\": {\"frequency\": 204, \"value\": \"Carolina Liar\"}, \"Thrice\": {\"frequency\": 589, \"value\": \"Thrice\"}, \"Old Crow Medicine Show\": {\"frequency\": 710, \"value\": \"Old Crow Medicine ...\"}, \"Fugees\": {\"frequency\": 230, \"value\": \"Fugees\"}, \"Fergie / Will.I.Am\": {\"frequency\": 202, \"value\": \"Fergie / Will.I.Am\"}, \"Yeah Yeah Yeahs\": {\"frequency\": 1483, \"value\": \"Yeah Yeah Yeahs\"}, \"Descendents\": {\"frequency\": 330, \"value\": \"Descendents\"}, \"Enigma\": {\"frequency\": 899, \"value\": \"Enigma\"}, \"Limp Bizkit\": {\"frequency\": 558, \"value\": \"Limp Bizkit\"}, \"Prince & The Revolution\": {\"frequency\": 531, \"value\": \"Prince & The ...\"}, \"ZZ Top\": {\"frequency\": 483, \"value\": \"ZZ Top\"}, \"Despina Vandi\": {\"frequency\": 150, \"value\": \"Despina Vandi\"}, \"Rush\": {\"frequency\": 405, \"value\": \"Rush\"}, \"Nonpalidece\": {\"frequency\": 221, \"value\": \"Nonpalidece\"}, \"The Appleseed Cast\": {\"frequency\": 165, \"value\": \"The Appleseed Cast\"}, \"The Turtles\": {\"frequency\": 242, \"value\": \"The Turtles\"}, \"Sick Puppies\": {\"frequency\": 902, \"value\": \"Sick Puppies\"}, \"Weezer\": {\"frequency\": 3110, \"value\": \"Weezer\"}, \"Pulp\": {\"frequency\": 443, \"value\": \"Pulp\"}, \"Jonny Lang\": {\"frequency\": 394, \"value\": \"Jonny Lang\"}, \"Thievery Corporation\": {\"frequency\": 959, \"value\": \"Thievery ...\"}, \"Razorlight\": {\"frequency\": 212, \"value\": \"Razorlight\"}, \"tobyMac\": {\"frequency\": 462, \"value\": \"tobyMac\"}, \"Asian Dub Foundation\": {\"frequency\": 201, \"value\": \"Asian Dub ...\"}, \"Holy Fuck\": {\"frequency\": 1319, \"value\": \"Holy Fuck\"}, \"Papa Roach\": {\"frequency\": 163, \"value\": \"Papa Roach\"}, \"Johnny Winter\": {\"frequency\": 633, \"value\": \"Johnny Winter\"}, \"Fat Freddy's Drop\": {\"frequency\": 211, \"value\": \"Fat Freddy's Drop\"}, \"Cat Stevens\": {\"frequency\": 2036, \"value\": \"Cat Stevens\"}, \"Europe\": {\"frequency\": 238, \"value\": \"Europe\"}, \"The Kooks\": {\"frequency\": 1447, \"value\": \"The Kooks\"}, \"Dexys Midnight Runners\": {\"frequency\": 188, \"value\": \"Dexys Midnight ...\"}, \"The Yardbirds\": {\"frequency\": 225, \"value\": \"The Yardbirds\"}, \"Beyonc\\ufffd\\ufffd feat. Jay-Z\": {\"frequency\": 371, \"value\": \"Beyonc\\u00e9 feat. ...\"}, \"Miranda!\": {\"frequency\": 278, \"value\": \"Miranda!\"}, \"Alison Krauss\": {\"frequency\": 485, \"value\": \"Alison Krauss\"}, \"Junkie XL\": {\"frequency\": 166, \"value\": \"Junkie XL\"}, \"Of Montreal\": {\"frequency\": 247, \"value\": \"Of Montreal\"}, \"Timbaland & Magoo\": {\"frequency\": 179, \"value\": \"Timbaland & Magoo\"}, \"Eisley\": {\"frequency\": 235, \"value\": \"Eisley\"}, \"Hot Chip\": {\"frequency\": 1304, \"value\": \"Hot Chip\"}, \"Shania Twain\": {\"frequency\": 812, \"value\": \"Shania Twain\"}, \"The Smiths\": {\"frequency\": 1707, \"value\": \"The Smiths\"}, \"Tom Petty And The Heartbreakers\": {\"frequency\": 1039, \"value\": \"Tom Petty And The ...\"}, \"The Starting Line\": {\"frequency\": 162, \"value\": \"The Starting Line\"}, \"Marvin Gaye\": {\"frequency\": 338, \"value\": \"Marvin Gaye\"}, \"The Doobie Brothers\": {\"frequency\": 305, \"value\": \"The Doobie ...\"}, \"The Grass Roots\": {\"frequency\": 256, \"value\": \"The Grass Roots\"}, \"Erin Bode\": {\"frequency\": 270, \"value\": \"Erin Bode\"}, \"Patrick Watson\": {\"frequency\": 164, \"value\": \"Patrick Watson\"}, \"M\\ufffd\\ufffdm\": {\"frequency\": 155, \"value\": \"M\\u00fam\"}, \"Tim Hughes\": {\"frequency\": 230, \"value\": \"Tim Hughes\"}, \"Bad Company\": {\"frequency\": 490, \"value\": \"Bad Company\"}, \"Falling Up\": {\"frequency\": 170, \"value\": \"Falling Up\"}, \"Michael Bubl\\ufffd\\ufffd (With Nelly Furtado)\": {\"frequency\": 152, \"value\": \"Michael Bubl\\u00e9 ...\"}, \"Smash Mouth\": {\"frequency\": 663, \"value\": \"Smash Mouth\"}, \"Coldplay\": {\"frequency\": 13675, \"value\": \"Coldplay\"}, \"Jackson Browne\": {\"frequency\": 320, \"value\": \"Jackson Browne\"}, \"Tyrone Wells\": {\"frequency\": 156, \"value\": \"Tyrone Wells\"}, \"Emiliana Torrini\": {\"frequency\": 286, \"value\": \"Emiliana Torrini\"}, \"Black Eyed Peas\": {\"frequency\": 4299, \"value\": \"Black Eyed Peas\"}, \"Keith Sweat\": {\"frequency\": 456, \"value\": \"Keith Sweat\"}, \"Peter Bjorn And John\": {\"frequency\": 217, \"value\": \"Peter Bjorn And ...\"}, \"Max Richter\": {\"frequency\": 539, \"value\": \"Max Richter\"}, \"Madcon\": {\"frequency\": 160, \"value\": \"Madcon\"}, \"Aaliyah\": {\"frequency\": 466, \"value\": \"Aaliyah\"}, \"The Dears\": {\"frequency\": 155, \"value\": \"The Dears\"}, \"Lauryn Hill\": {\"frequency\": 433, \"value\": \"Lauryn Hill\"}, \"D-12\": {\"frequency\": 736, \"value\": \"D-12\"}, \"Television\": {\"frequency\": 152, \"value\": \"Television\"}, \"No Te Va Gustar\": {\"frequency\": 746, \"value\": \"No Te Va Gustar\"}, \"Elliott Smith\": {\"frequency\": 1100, \"value\": \"Elliott Smith\"}, \"Fat Joe\": {\"frequency\": 279, \"value\": \"Fat Joe\"}, \"The Fratellis\": {\"frequency\": 399, \"value\": \"The Fratellis\"}, \"Skunk Anansie\": {\"frequency\": 188, \"value\": \"Skunk Anansie\"}, \"Alesana\": {\"frequency\": 475, \"value\": \"Alesana\"}, \"Little River Band\": {\"frequency\": 190, \"value\": \"Little River Band\"}, \"PJ Harvey\": {\"frequency\": 526, \"value\": \"PJ Harvey\"}, \"Seal\": {\"frequency\": 256, \"value\": \"Seal\"}, \"Natalie Imbruglia\": {\"frequency\": 306, \"value\": \"Natalie Imbruglia\"}, \"Jimi Hendrix\": {\"frequency\": 815, \"value\": \"Jimi Hendrix\"}, \"Sage Francis\": {\"frequency\": 193, \"value\": \"Sage Francis\"}, \"Michael Bubl\\ufffd\\ufffd\": {\"frequency\": 3083, \"value\": \"Michael Bubl\\u00e9\"}, \"Killswitch Engage\": {\"frequency\": 638, \"value\": \"Killswitch Engage\"}, \"Okkervil River\": {\"frequency\": 270, \"value\": \"Okkervil River\"}, \"Jason Mraz\": {\"frequency\": 1844, \"value\": \"Jason Mraz\"}, \"Diam's\": {\"frequency\": 366, \"value\": \"Diam's\"}, \"Kate Ryan\": {\"frequency\": 182, \"value\": \"Kate Ryan\"}, \"FM Static\": {\"frequency\": 267, \"value\": \"FM Static\"}, \"Enya\": {\"frequency\": 2460, \"value\": \"Enya\"}, \"STEVE CAMP\": {\"frequency\": 205, \"value\": \"STEVE CAMP\"}, \"Josh Groban\": {\"frequency\": 793, \"value\": \"Josh Groban\"}, \"Talk Talk\": {\"frequency\": 198, \"value\": \"Talk Talk\"}, \"The Libertines\": {\"frequency\": 368, \"value\": \"The Libertines\"}, \"Wilco\": {\"frequency\": 879, \"value\": \"Wilco\"}, \"Bread\": {\"frequency\": 360, \"value\": \"Bread\"}, \"Breaking Benjamin\": {\"frequency\": 355, \"value\": \"Breaking Benjamin\"}, \"Lipps Inc.\": {\"frequency\": 193, \"value\": \"Lipps Inc.\"}, \"Modern Lovers\": {\"frequency\": 206, \"value\": \"Modern Lovers\"}, \"Cracker\": {\"frequency\": 196, \"value\": \"Cracker\"}, \"Dixie Chicks\": {\"frequency\": 333, \"value\": \"Dixie Chicks\"}, \"The Black Keys\": {\"frequency\": 6507, \"value\": \"The Black Keys\"}, \"HAMMERFALL\": {\"frequency\": 389, \"value\": \"HAMMERFALL\"}, \"Jos\\ufffd\\ufffd Gonz\\ufffd\\ufffdlez\": {\"frequency\": 722, \"value\": \"Jos\\u00e9 Gonz\\u00e1lez\"}, \"Era\": {\"frequency\": 352, \"value\": \"Era\"}, \"Delerium feat. Sarah McLachlan\": {\"frequency\": 247, \"value\": \"Delerium feat. ...\"}, \"Danny Elfman\": {\"frequency\": 201, \"value\": \"Danny Elfman\"}, \"Skid Row\": {\"frequency\": 195, \"value\": \"Skid Row\"}, \"Gin Blossoms\": {\"frequency\": 261, \"value\": \"Gin Blossoms\"}, \"Iron Maiden\": {\"frequency\": 1258, \"value\": \"Iron Maiden\"}, \"Alejandro Fernandez\": {\"frequency\": 302, \"value\": \"Alejandro ...\"}, \"Parachute\": {\"frequency\": 294, \"value\": \"Parachute\"}, \"Fito Paez\": {\"frequency\": 495, \"value\": \"Fito Paez\"}, \"Silverstein\": {\"frequency\": 276, \"value\": \"Silverstein\"}, \"Die Mooskirchner\": {\"frequency\": 928, \"value\": \"Die Mooskirchner\"}, \"Jimmy Buffett\": {\"frequency\": 159, \"value\": \"Jimmy Buffett\"}, \"The Lonely Island / Justin Timberlake\": {\"frequency\": 161, \"value\": \"The Lonely Island ...\"}, \"Sara Bareilles\": {\"frequency\": 650, \"value\": \"Sara Bareilles\"}, \"10 Years\": {\"frequency\": 182, \"value\": \"10 Years\"}, \"Joan Baez\": {\"frequency\": 170, \"value\": \"Joan Baez\"}, \"The White Stripes\": {\"frequency\": 2645, \"value\": \"The White Stripes\"}, \"The Northern Pikes\": {\"frequency\": 166, \"value\": \"The Northern Pikes\"}, \"Anberlin\": {\"frequency\": 615, \"value\": \"Anberlin\"}, \"Thomas Newman\": {\"frequency\": 213, \"value\": \"Thomas Newman\"}, \"Phosphorescent\": {\"frequency\": 183, \"value\": \"Phosphorescent\"}, \"Matt Costa\": {\"frequency\": 346, \"value\": \"Matt Costa\"}, \"Nelly\": {\"frequency\": 304, \"value\": \"Nelly\"}, \"Blonde Redhead\": {\"frequency\": 181, \"value\": \"Blonde Redhead\"}, \"SOJA\": {\"frequency\": 552, \"value\": \"SOJA\"}, \"Brother Ali\": {\"frequency\": 192, \"value\": \"Brother Ali\"}, \"Ellie Goulding\": {\"frequency\": 655, \"value\": \"Ellie Goulding\"}, \"Binary Star\": {\"frequency\": 413, \"value\": \"Binary Star\"}, \"Daniel Bedingfield\": {\"frequency\": 213, \"value\": \"Daniel Bedingfield\"}, \"Bruce Dickinson\": {\"frequency\": 227, \"value\": \"Bruce Dickinson\"}, \"Two Gallants\": {\"frequency\": 191, \"value\": \"Two Gallants\"}, \"Boston\": {\"frequency\": 843, \"value\": \"Boston\"}, \"R.E.M.\": {\"frequency\": 401, \"value\": \"R.E.M.\"}, \"Iyaz\": {\"frequency\": 499, \"value\": \"Iyaz\"}, \"Stone Temple Pilots\": {\"frequency\": 1071, \"value\": \"Stone Temple ...\"}, \"Buffalo Springfield\": {\"frequency\": 224, \"value\": \"Buffalo ...\"}, \"O.A.R.\": {\"frequency\": 247, \"value\": \"O.A.R.\"}, \"David Gray\": {\"frequency\": 440, \"value\": \"David Gray\"}, \"Toni Braxton\": {\"frequency\": 161, \"value\": \"Toni Braxton\"}, \"Swizz Beatz\": {\"frequency\": 234, \"value\": \"Swizz Beatz\"}, \"Scissor Sisters\": {\"frequency\": 407, \"value\": \"Scissor Sisters\"}, \"Bryan Ferry\": {\"frequency\": 237, \"value\": \"Bryan Ferry\"}, \"Genesis\": {\"frequency\": 380, \"value\": \"Genesis\"}, \"John Prine\": {\"frequency\": 186, \"value\": \"John Prine\"}, \"Esperanza Spalding / Leo Genovese\": {\"frequency\": 349, \"value\": \"Esperanza Spalding ...\"}, \"Ruben Blades\": {\"frequency\": 230, \"value\": \"Ruben Blades\"}, \"Dane Cook\": {\"frequency\": 160, \"value\": \"Dane Cook\"}, \"Minnie Riperton\": {\"frequency\": 180, \"value\": \"Minnie Riperton\"}, \"The Pussycat Dolls / Busta Rhymes\": {\"frequency\": 270, \"value\": \"The Pussycat Dolls ...\"}, \"Bubba Sparxxx\": {\"frequency\": 179, \"value\": \"Bubba Sparxxx\"}, \"Clint Mansell\": {\"frequency\": 253, \"value\": \"Clint Mansell\"}, \"Alphabeat\": {\"frequency\": 157, \"value\": \"Alphabeat\"}, \"Britt Nicole\": {\"frequency\": 504, \"value\": \"Britt Nicole\"}, \"Molotov\": {\"frequency\": 487, \"value\": \"Molotov\"}, \"ENUR Feat NATASJA\": {\"frequency\": 180, \"value\": \"ENUR Feat NATASJA\"}, \"Rancid\": {\"frequency\": 431, \"value\": \"Rancid\"}, \"Slayer\": {\"frequency\": 482, \"value\": \"Slayer\"}, \"The Almost\": {\"frequency\": 168, \"value\": \"The Almost\"}, \"Alceu Valen\\ufffd\\ufffda\": {\"frequency\": 459, \"value\": \"Alceu Valen\\u00e7a\"}, \"Nevermore\": {\"frequency\": 700, \"value\": \"Nevermore\"}, \"Iron Butterfly\": {\"frequency\": 175, \"value\": \"Iron Butterfly\"}, \"dEUS\": {\"frequency\": 162, \"value\": \"dEUS\"}, \"Hot Chocolate\": {\"frequency\": 160, \"value\": \"Hot Chocolate\"}, \"Story Of The Year\": {\"frequency\": 329, \"value\": \"Story Of The Year\"}, \"Klaus Badelt\": {\"frequency\": 552, \"value\": \"Klaus Badelt\"}, \"Diana Krall\": {\"frequency\": 447, \"value\": \"Diana Krall\"}, \"Crazy Town\": {\"frequency\": 166, \"value\": \"Crazy Town\"}, \"The Animals\": {\"frequency\": 477, \"value\": \"The Animals\"}, \"Rihanna / Slash\": {\"frequency\": 291, \"value\": \"Rihanna / Slash\"}, \"Elisa\": {\"frequency\": 163, \"value\": \"Elisa\"}, \"Boys Noize\": {\"frequency\": 1157, \"value\": \"Boys Noize\"}, \"The Cinematic Orchestra\": {\"frequency\": 252, \"value\": \"The Cinematic ...\"}, \"Kaoma\": {\"frequency\": 162, \"value\": \"Kaoma\"}, \"Stevie Nicks\": {\"frequency\": 220, \"value\": \"Stevie Nicks\"}, \"The Human League\": {\"frequency\": 411, \"value\": \"The Human League\"}, \"Lily Allen\": {\"frequency\": 4293, \"value\": \"Lily Allen\"}, \"J.J. Cale\": {\"frequency\": 155, \"value\": \"J.J. Cale\"}, \"Bag Raiders\": {\"frequency\": 152, \"value\": \"Bag Raiders\"}, \"Bloodhound Gang\": {\"frequency\": 808, \"value\": \"Bloodhound Gang\"}, \"Parov Stelar\": {\"frequency\": 284, \"value\": \"Parov Stelar\"}, \"Kix\": {\"frequency\": 262, \"value\": \"Kix\"}, \"We Are Scientists\": {\"frequency\": 224, \"value\": \"We Are Scientists\"}, \"Ximena Sarinana\": {\"frequency\": 171, \"value\": \"Ximena Sarinana\"}, \"Miami Horror\": {\"frequency\": 175, \"value\": \"Miami Horror\"}, \"Yo La Tengo\": {\"frequency\": 249, \"value\": \"Yo La Tengo\"}, \"R\\ufffd\\ufffdyksopp\": {\"frequency\": 990, \"value\": \"R\\u00f6yksopp\"}, \"Switchblade Symphony\": {\"frequency\": 469, \"value\": \"Switchblade ...\"}, \"Pink Martini\": {\"frequency\": 283, \"value\": \"Pink Martini\"}, \"Mark Knopfler\": {\"frequency\": 353, \"value\": \"Mark Knopfler\"}, \"Lucybell\": {\"frequency\": 154, \"value\": \"Lucybell\"}, \"Young Jeezy\": {\"frequency\": 336, \"value\": \"Young Jeezy\"}, \"Common\": {\"frequency\": 419, \"value\": \"Common\"}, \"Don Omar\": {\"frequency\": 500, \"value\": \"Don Omar\"}, \"Eric Clapton\": {\"frequency\": 884, \"value\": \"Eric Clapton\"}, \"Todd Barry\": {\"frequency\": 827, \"value\": \"Todd Barry\"}, \"Skillet\": {\"frequency\": 1938, \"value\": \"Skillet\"}, \"Edwyn Collins\": {\"frequency\": 555, \"value\": \"Edwyn Collins\"}, \"A Day To Remember\": {\"frequency\": 2137, \"value\": \"A Day To Remember\"}, \"Bon Jovi\": {\"frequency\": 3232, \"value\": \"Bon Jovi\"}, \"Milczenie Owiec\": {\"frequency\": 351, \"value\": \"Milczenie Owiec\"}, \"Gang Starr/Inspectah Deck\": {\"frequency\": 218, \"value\": \"Gang ...\"}, \"Lindisfarne\": {\"frequency\": 208, \"value\": \"Lindisfarne\"}, \"Jesper Kyd\": {\"frequency\": 162, \"value\": \"Jesper Kyd\"}, \"Radney Foster\": {\"frequency\": 1080, \"value\": \"Radney Foster\"}, \"Fiona Apple\": {\"frequency\": 205, \"value\": \"Fiona Apple\"}, \"Ke$ha\": {\"frequency\": 541, \"value\": \"Ke$ha\"}, \"Ben Folds\": {\"frequency\": 521, \"value\": \"Ben Folds\"}, \"Blink-182\": {\"frequency\": 2306, \"value\": \"Blink-182\"}, \"Kid Cudi / Kanye West / Common\": {\"frequency\": 540, \"value\": \"Kid Cudi / Kanye ...\"}, \"Creedence Clearwater Revival\": {\"frequency\": 3532, \"value\": \"Creedence ...\"}, \"Dr. Dre / Snoop Dogg\": {\"frequency\": 246, \"value\": \"Dr. Dre / Snoop ...\"}, \"The Smithereens\": {\"frequency\": 171, \"value\": \"The Smithereens\"}, \"Richard Marx\": {\"frequency\": 213, \"value\": \"Richard Marx\"}, \"Fall Out Boy\": {\"frequency\": 2581, \"value\": \"Fall Out Boy\"}, \"OutKast\": {\"frequency\": 900, \"value\": \"OutKast\"}, \"Yung Joc\": {\"frequency\": 323, \"value\": \"Yung Joc\"}, \"Anouk\": {\"frequency\": 264, \"value\": \"Anouk\"}, \"Dion & The Belmonts\": {\"frequency\": 174, \"value\": \"Dion & The ...\"}, \"Antony & The Johnsons\": {\"frequency\": 353, \"value\": \"Antony & The ...\"}, \"Crystal\": {\"frequency\": 218, \"value\": \"Crystal\"}, \"The Strokes\": {\"frequency\": 2185, \"value\": \"The Strokes\"}, \"Stevie Ray Vaughan And Double Trouble\": {\"frequency\": 217, \"value\": \"Stevie Ray Vaughan ...\"}, \"Daddy Yankee\": {\"frequency\": 1191, \"value\": \"Daddy Yankee\"}, \"Juan Carlos Baglietto\": {\"frequency\": 207, \"value\": \"Juan Carlos ...\"}, \"Tarot\": {\"frequency\": 165, \"value\": \"Tarot\"}, \"Hootie And The Blowfish\": {\"frequency\": 320, \"value\": \"Hootie And The ...\"}, \"Radiohead\": {\"frequency\": 5764, \"value\": \"Radiohead\"}, \"Smokie Norful\": {\"frequency\": 224, \"value\": \"Smokie Norful\"}, \"Morcheeba\": {\"frequency\": 1000, \"value\": \"Morcheeba\"}, \"Katy Perry\": {\"frequency\": 2078, \"value\": \"Katy Perry\"}, \"311\": {\"frequency\": 634, \"value\": \"311\"}, \"Guru Josh Project\": {\"frequency\": 168, \"value\": \"Guru Josh Project\"}, \"Asking Alexandria\": {\"frequency\": 640, \"value\": \"Asking Alexandria\"}, \"Coko featuring Kirk Franklin\": {\"frequency\": 258, \"value\": \"Coko featuring ...\"}, \"Secondhand Serenade\": {\"frequency\": 317, \"value\": \"Secondhand ...\"}, \"Soul II Soul\": {\"frequency\": 260, \"value\": \"Soul II Soul\"}, \"Guns N' Roses\": {\"frequency\": 5061, \"value\": \"Guns N' Roses\"}, \"Ladytron\": {\"frequency\": 229, \"value\": \"Ladytron\"}, \"Feist\": {\"frequency\": 944, \"value\": \"Feist\"}, \"M\\ufffd\\ufffdtley Cr\\ufffd\\ufffde\": {\"frequency\": 555, \"value\": \"M\\u00f6tley Cr\\u00fce\"}, \"Michael Cretu\": {\"frequency\": 315, \"value\": \"Michael Cretu\"}, \"Jimmy Eat World\": {\"frequency\": 1302, \"value\": \"Jimmy Eat World\"}, \"The Knife\": {\"frequency\": 565, \"value\": \"The Knife\"}, \"Cosmic Gate\": {\"frequency\": 212, \"value\": \"Cosmic Gate\"}, \"Telex\": {\"frequency\": 151, \"value\": \"Telex\"}, \"Mogwai\": {\"frequency\": 565, \"value\": \"Mogwai\"}, \"Brian McKnight\": {\"frequency\": 296, \"value\": \"Brian McKnight\"}, \"Explosions In The Sky\": {\"frequency\": 689, \"value\": \"Explosions In The ...\"}, \"R. Kelly\": {\"frequency\": 216, \"value\": \"R. Kelly\"}, \"Flobots\": {\"frequency\": 567, \"value\": \"Flobots\"}, \"The Format\": {\"frequency\": 283, \"value\": \"The Format\"}, \"New Boyz\": {\"frequency\": 374, \"value\": \"New Boyz\"}, \"Morrissey\": {\"frequency\": 227, \"value\": \"Morrissey\"}, \"Something Corporate\": {\"frequency\": 410, \"value\": \"Something ...\"}, \"Yes\": {\"frequency\": 174, \"value\": \"Yes\"}, \"Sharon Jones & The Dap-Kings\": {\"frequency\": 159, \"value\": \"Sharon Jones & The ...\"}, \"Kraftwerk\": {\"frequency\": 225, \"value\": \"Kraftwerk\"}, \"Neil Young\": {\"frequency\": 591, \"value\": \"Neil Young\"}, \"David Guetta - Joachim Garraud - Chris Willis\": {\"frequency\": 176, \"value\": \"David Guetta - ...\"}, \"Rilo Kiley\": {\"frequency\": 983, \"value\": \"Rilo Kiley\"}, \"Bohren & Der Club Of Gore\": {\"frequency\": 469, \"value\": \"Bohren & Der Club ...\"}, \"Maria Rita\": {\"frequency\": 160, \"value\": \"Maria Rita\"}, \"Destiny's Child\": {\"frequency\": 354, \"value\": \"Destiny's Child\"}, \"Third Eye Blind\": {\"frequency\": 993, \"value\": \"Third Eye Blind\"}, \"LL Cool J\": {\"frequency\": 272, \"value\": \"LL Cool J\"}, \"Billy Currington\": {\"frequency\": 632, \"value\": \"Billy Currington\"}, \"War\": {\"frequency\": 213, \"value\": \"War\"}, \"Erasure\": {\"frequency\": 375, \"value\": \"Erasure\"}, \"Blues Traveler\": {\"frequency\": 259, \"value\": \"Blues Traveler\"}, \"Astrix\": {\"frequency\": 171, \"value\": \"Astrix\"}, \"Arcade Fire\": {\"frequency\": 1876, \"value\": \"Arcade Fire\"}, \"Train\": {\"frequency\": 6617, \"value\": \"Train\"}, \"Mayday Parade\": {\"frequency\": 1272, \"value\": \"Mayday Parade\"}, \"Blackalicious\": {\"frequency\": 352, \"value\": \"Blackalicious\"}, \"Tokio Hotel\": {\"frequency\": 261, \"value\": \"Tokio Hotel\"}, \"59 Times the Pain\": {\"frequency\": 241, \"value\": \"59 Times the Pain\"}, \"Andrea Bocelli\": {\"frequency\": 276, \"value\": \"Andrea Bocelli\"}, \"The Dodos\": {\"frequency\": 216, \"value\": \"The Dodos\"}, \"Battles\": {\"frequency\": 208, \"value\": \"Battles\"}, \"Dierks Bentley\": {\"frequency\": 990, \"value\": \"Dierks Bentley\"}, \"Keri Hilson\": {\"frequency\": 154, \"value\": \"Keri Hilson\"}, \"Static-X\": {\"frequency\": 444, \"value\": \"Static-X\"}, \"Ben Folds Five\": {\"frequency\": 349, \"value\": \"Ben Folds Five\"}, \"Forever The Sickest Kids\": {\"frequency\": 285, \"value\": \"Forever The ...\"}, \"Rage Against The Machine\": {\"frequency\": 1454, \"value\": \"Rage Against The ...\"}, \"Slightly Stoopid\": {\"frequency\": 576, \"value\": \"Slightly Stoopid\"}, \"The Whitest Boy Alive\": {\"frequency\": 590, \"value\": \"The Whitest Boy ...\"}, \"Foals\": {\"frequency\": 967, \"value\": \"Foals\"}, \"The-Dream\": {\"frequency\": 271, \"value\": \"The-Dream\"}, \"City And Colour\": {\"frequency\": 485, \"value\": \"City And Colour\"}, \"Alex Ubago\": {\"frequency\": 486, \"value\": \"Alex Ubago\"}, \"Dead Kennedys\": {\"frequency\": 366, \"value\": \"Dead Kennedys\"}, \"Aimee Mann\": {\"frequency\": 322, \"value\": \"Aimee Mann\"}, \"The Stills\": {\"frequency\": 160, \"value\": \"The Stills\"}, \"The Sundays\": {\"frequency\": 149, \"value\": \"The Sundays\"}, \"Slash\": {\"frequency\": 282, \"value\": \"Slash\"}, \"Eagles\": {\"frequency\": 1224, \"value\": \"Eagles\"}, \"The Kills\": {\"frequency\": 1451, \"value\": \"The Kills\"}, \"Kurt Vile\": {\"frequency\": 235, \"value\": \"Kurt Vile\"}, \"Bat For Lashes\": {\"frequency\": 236, \"value\": \"Bat For Lashes\"}, \"Cliff Richard & The Shadows\": {\"frequency\": 187, \"value\": \"Cliff Richard & ...\"}, \"The Wallflowers\": {\"frequency\": 372, \"value\": \"The Wallflowers\"}, \"Thalia\": {\"frequency\": 167, \"value\": \"Thalia\"}, \"Demi Lovato\": {\"frequency\": 606, \"value\": \"Demi Lovato\"}, \"Spice Girls\": {\"frequency\": 567, \"value\": \"Spice Girls\"}, \"Two Door Cinema Club\": {\"frequency\": 1389, \"value\": \"Two Door Cinema ...\"}, \"Silk\": {\"frequency\": 181, \"value\": \"Silk\"}, \"Supertramp\": {\"frequency\": 321, \"value\": \"Supertramp\"}, \"Afro Celt Sound System\": {\"frequency\": 222, \"value\": \"Afro Celt Sound ...\"}, \"Dakota Oak\": {\"frequency\": 424, \"value\": \"Dakota Oak\"}, \"Days Of The New\": {\"frequency\": 818, \"value\": \"Days Of The New\"}, \"Jennifer Lopez\": {\"frequency\": 355, \"value\": \"Jennifer Lopez\"}, \"Tech N9ne\": {\"frequency\": 724, \"value\": \"Tech N9ne\"}, \"Leona Lewis\": {\"frequency\": 961, \"value\": \"Leona Lewis\"}, \"Joan Osborne\": {\"frequency\": 181, \"value\": \"Joan Osborne\"}, \"Cameo\": {\"frequency\": 483, \"value\": \"Cameo\"}, \"Eminem / Dr. Dre / 50 Cent\": {\"frequency\": 788, \"value\": \"Eminem / Dr. Dre / ...\"}, \"John Powell\": {\"frequency\": 175, \"value\": \"John Powell\"}, \"Luis Miguel\": {\"frequency\": 316, \"value\": \"Luis Miguel\"}, \"Joaquin Sabina\": {\"frequency\": 219, \"value\": \"Joaquin Sabina\"}, \"John Brown's Body\": {\"frequency\": 166, \"value\": \"John Brown's Body\"}, \"MGMT\": {\"frequency\": 2136, \"value\": \"MGMT\"}, \"Steve Miller\": {\"frequency\": 170, \"value\": \"Steve Miller\"}, \"Method Man\": {\"frequency\": 197, \"value\": \"Method Man\"}, \"The Academy Is...\": {\"frequency\": 292, \"value\": \"The Academy Is...\"}, \"Handsome Boy Modeling School\": {\"frequency\": 164, \"value\": \"Handsome Boy ...\"}, \"Just Jack\": {\"frequency\": 240, \"value\": \"Just Jack\"}, \"Brandy\": {\"frequency\": 216, \"value\": \"Brandy\"}, \"Miguel Calo\": {\"frequency\": 182, \"value\": \"Miguel Calo\"}, \"Mot\\ufffd\\ufffdrhead\": {\"frequency\": 223, \"value\": \"Mot\\u00f6rhead\"}, \"Hatebreed\": {\"frequency\": 150, \"value\": \"Hatebreed\"}, \"Helloween\": {\"frequency\": 268, \"value\": \"Helloween\"}, \"Dio\": {\"frequency\": 279, \"value\": \"Dio\"}, \"Lionel Richie\": {\"frequency\": 579, \"value\": \"Lionel Richie\"}, \"Avantasia\": {\"frequency\": 244, \"value\": \"Avantasia\"}, \"Air\": {\"frequency\": 952, \"value\": \"Air\"}, \"K-OS\": {\"frequency\": 637, \"value\": \"K-OS\"}, \"Telefon Tel Aviv\": {\"frequency\": 207, \"value\": \"Telefon Tel Aviv\"}, \"Efecto Mariposa\": {\"frequency\": 193, \"value\": \"Efecto Mariposa\"}, \"Franz Ferdinand\": {\"frequency\": 1770, \"value\": \"Franz Ferdinand\"}, \"Pendulum\": {\"frequency\": 605, \"value\": \"Pendulum\"}, \"Jim Sturgess\": {\"frequency\": 358, \"value\": \"Jim Sturgess\"}, \"Social Distortion\": {\"frequency\": 162, \"value\": \"Social Distortion\"}, \"James Morrison\": {\"frequency\": 185, \"value\": \"James Morrison\"}, \"Daft Punk\": {\"frequency\": 5411, \"value\": \"Daft Punk\"}, \"Flying Lotus\": {\"frequency\": 1029, \"value\": \"Flying Lotus\"}, \"Angels Of Light & Akron/Family\": {\"frequency\": 200, \"value\": \"Angels Of Light & ...\"}, \"Dashboard Confessional\": {\"frequency\": 745, \"value\": \"Dashboard ...\"}, \"Amos Lee\": {\"frequency\": 1043, \"value\": \"Amos Lee\"}, \"Skream\": {\"frequency\": 629, \"value\": \"Skream\"}, \"Traveling Wilburys\": {\"frequency\": 550, \"value\": \"Traveling Wilburys\"}, \"Carlos Baute\": {\"frequency\": 275, \"value\": \"Carlos Baute\"}, \"Erin McKeown\": {\"frequency\": 707, \"value\": \"Erin McKeown\"}, \"Shakira Featuring Wyclef Jean\": {\"frequency\": 608, \"value\": \"Shakira Featuring ...\"}, \"Duncan Dhu\": {\"frequency\": 289, \"value\": \"Duncan Dhu\"}, \"Crosby_ Stills & Nash\": {\"frequency\": 581, \"value\": \"Crosby_ Stills & ...\"}, \"OneRepublic\": {\"frequency\": 6027, \"value\": \"OneRepublic\"}, \"Grand Funk Railroad\": {\"frequency\": 154, \"value\": \"Grand Funk ...\"}, \"Led Zeppelin\": {\"frequency\": 499, \"value\": \"Led Zeppelin\"}, \"Guildo Horn\": {\"frequency\": 152, \"value\": \"Guildo Horn\"}, \"Cascada\": {\"frequency\": 241, \"value\": \"Cascada\"}, \"Placebo\": {\"frequency\": 695, \"value\": \"Placebo\"}, \"Tenacious D\": {\"frequency\": 214, \"value\": \"Tenacious D\"}, \"Thin Lizzy\": {\"frequency\": 300, \"value\": \"Thin Lizzy\"}, \"Timbaland / Justin Timberlake / Nelly Furtado\": {\"frequency\": 182, \"value\": \"Timbaland / Justin ...\"}, \"Biffy Clyro\": {\"frequency\": 563, \"value\": \"Biffy Clyro\"}, \"Whitesnake\": {\"frequency\": 154, \"value\": \"Whitesnake\"}, \"Grizzly Bear\": {\"frequency\": 393, \"value\": \"Grizzly Bear\"}, \"Louis Smith\": {\"frequency\": 175, \"value\": \"Louis Smith\"}, \"Girl Talk\": {\"frequency\": 713, \"value\": \"Girl Talk\"}, \"Depeche Mode\": {\"frequency\": 816, \"value\": \"Depeche Mode\"}, \"Jorge Drexler\": {\"frequency\": 914, \"value\": \"Jorge Drexler\"}, \"Rob Zombie\": {\"frequency\": 697, \"value\": \"Rob Zombie\"}, \"Tracy Chapman\": {\"frequency\": 550, \"value\": \"Tracy Chapman\"}, \"Belanova\": {\"frequency\": 239, \"value\": \"Belanova\"}, \"Passion Pit\": {\"frequency\": 1189, \"value\": \"Passion Pit\"}, \"Jane's Addiction\": {\"frequency\": 653, \"value\": \"Jane's Addiction\"}, \"Looptroop\": {\"frequency\": 160, \"value\": \"Looptroop\"}, \"Travis Tritt\": {\"frequency\": 417, \"value\": \"Travis Tritt\"}, \"Lisa Loeb & Nine Stories\": {\"frequency\": 188, \"value\": \"Lisa Loeb & Nine ...\"}, \"Lindsay Lohan\": {\"frequency\": 233, \"value\": \"Lindsay Lohan\"}, \"the bird and the bee\": {\"frequency\": 1509, \"value\": \"the bird and the ...\"}, \"Faith No More\": {\"frequency\": 1339, \"value\": \"Faith No More\"}, \"Misfits\": {\"frequency\": 181, \"value\": \"Misfits\"}, \"Filter\": {\"frequency\": 182, \"value\": \"Filter\"}, \"Moby\": {\"frequency\": 1046, \"value\": \"Moby\"}, \"Cradle Of Filth\": {\"frequency\": 889, \"value\": \"Cradle Of Filth\"}, \"Stevie Wonder\": {\"frequency\": 372, \"value\": \"Stevie Wonder\"}, \"Che Sudaka\": {\"frequency\": 215, \"value\": \"Che Sudaka\"}, \"The Lonely Island / T-Pain\": {\"frequency\": 561, \"value\": \"The Lonely Island ...\"}, \"Blackstreet / Dr. Dre\": {\"frequency\": 151, \"value\": \"Blackstreet / Dr. ...\"}, \"Rick Astley\": {\"frequency\": 234, \"value\": \"Rick Astley\"}, \"Orbital\": {\"frequency\": 202, \"value\": \"Orbital\"}, \"Ricardo Arjona\": {\"frequency\": 438, \"value\": \"Ricardo Arjona\"}, \"Eva Cassidy\": {\"frequency\": 275, \"value\": \"Eva Cassidy\"}, \"Underworld\": {\"frequency\": 262, \"value\": \"Underworld\"}, \"Patty Griffin\": {\"frequency\": 275, \"value\": \"Patty Griffin\"}, \"Vanessa Williams\": {\"frequency\": 276, \"value\": \"Vanessa Williams\"}, \"Blackmore's Night\": {\"frequency\": 182, \"value\": \"Blackmore's Night\"}, \"Brad Paisley\": {\"frequency\": 968, \"value\": \"Brad Paisley\"}, \"Ramones\": {\"frequency\": 765, \"value\": \"Ramones\"}, \"Owl City\": {\"frequency\": 1868, \"value\": \"Owl City\"}, \"LeAnn Rimes\": {\"frequency\": 251, \"value\": \"LeAnn Rimes\"}, \"Yeasayer\": {\"frequency\": 720, \"value\": \"Yeasayer\"}, \"Mae\": {\"frequency\": 329, \"value\": \"Mae\"}, \"Fleetwood Mac\": {\"frequency\": 595, \"value\": \"Fleetwood Mac\"}, \"P!nk\": {\"frequency\": 214, \"value\": \"P!nk\"}, \"Frumpies\": {\"frequency\": 722, \"value\": \"Frumpies\"}, \"Mitch Hedberg\": {\"frequency\": 189, \"value\": \"Mitch Hedberg\"}, \"Mudvayne\": {\"frequency\": 171, \"value\": \"Mudvayne\"}, \"Tub Ring\": {\"frequency\": 1635, \"value\": \"Tub Ring\"}, \"The Who\": {\"frequency\": 284, \"value\": \"The Who\"}, \"Framing Hanley\": {\"frequency\": 173, \"value\": \"Framing Hanley\"}, \"Dwight Yoakam\": {\"frequency\": 4246, \"value\": \"Dwight Yoakam\"}, \"Styx\": {\"frequency\": 219, \"value\": \"Styx\"}, \"Rata Blanca\": {\"frequency\": 161, \"value\": \"Rata Blanca\"}, \"Modeselektor\": {\"frequency\": 169, \"value\": \"Modeselektor\"}, \"Kid Rock\": {\"frequency\": 365, \"value\": \"Kid Rock\"}, \"Sense Field\": {\"frequency\": 167, \"value\": \"Sense Field\"}, \"XTC\": {\"frequency\": 244, \"value\": \"XTC\"}, \"Tears For Fears\": {\"frequency\": 753, \"value\": \"Tears For Fears\"}, \"Beatsteaks\": {\"frequency\": 153, \"value\": \"Beatsteaks\"}, \"The Corrs\": {\"frequency\": 501, \"value\": \"The Corrs\"}, \"MIKA\": {\"frequency\": 211, \"value\": \"MIKA\"}, \"+ / - {Plus/Minus}\": {\"frequency\": 181, \"value\": \"+ / - {Plus/Minus}\"}, \"Hayko Cepkin\": {\"frequency\": 157, \"value\": \"Hayko Cepkin\"}, \"Bob Marley & The Wailers\": {\"frequency\": 166, \"value\": \"Bob Marley & The ...\"}, \"Big Tymers\": {\"frequency\": 289, \"value\": \"Big Tymers\"}, \"Ray LaMontagne\": {\"frequency\": 824, \"value\": \"Ray LaMontagne\"}, \"The Futureheads\": {\"frequency\": 161, \"value\": \"The Futureheads\"}, \"Gary Moore\": {\"frequency\": 265, \"value\": \"Gary Moore\"}, \"The Red Jumpsuit Apparatus\": {\"frequency\": 806, \"value\": \"The Red Jumpsuit ...\"}, \"Markus Kruneg\\ufffd\\ufffdrd\": {\"frequency\": 222, \"value\": \"Markus Kruneg\\u00e5rd\"}, \"Eminem\": {\"frequency\": 8160, \"value\": \"Eminem\"}, \"Escape The Fate\": {\"frequency\": 827, \"value\": \"Escape The Fate\"}, \"Darius Rucker\": {\"frequency\": 783, \"value\": \"Darius Rucker\"}, \"Second Hand Serenade\": {\"frequency\": 327, \"value\": \"Second Hand ...\"}, \"Joni Mitchell\": {\"frequency\": 367, \"value\": \"Joni Mitchell\"}, \"Dan Black\": {\"frequency\": 197, \"value\": \"Dan Black\"}, \"Three Days Grace\": {\"frequency\": 678, \"value\": \"Three Days Grace\"}, \"The All-American Rejects\": {\"frequency\": 4464, \"value\": \"The All-American ...\"}, \"Vilma Palma e Vampiros\": {\"frequency\": 290, \"value\": \"Vilma Palma e ...\"}, \"Babasonicos\": {\"frequency\": 189, \"value\": \"Babasonicos\"}, \"John Hiatt\": {\"frequency\": 157, \"value\": \"John Hiatt\"}, \"Elbow\": {\"frequency\": 411, \"value\": \"Elbow\"}, \"JoJo\": {\"frequency\": 415, \"value\": \"JoJo\"}, \"Martin O'Donnell And Michael Salvatori\": {\"frequency\": 223, \"value\": \"Martin O'Donnell ...\"}, \"Xavier Rudd\": {\"frequency\": 447, \"value\": \"Xavier Rudd\"}, \"Paris Combo\": {\"frequency\": 265, \"value\": \"Paris Combo\"}, \"Usher featuring will.i.am\": {\"frequency\": 2260, \"value\": \"Usher featuring ...\"}, \"Blind Melon\": {\"frequency\": 718, \"value\": \"Blind Melon\"}, \"10cc\": {\"frequency\": 233, \"value\": \"10cc\"}, \"LMFAO / Lil Jon\": {\"frequency\": 613, \"value\": \"LMFAO / Lil Jon\"}, \"Lil Wayne / Bobby Valentino / Kidd Kidd\": {\"frequency\": 231, \"value\": \"Lil Wayne / Bobby ...\"}, \"Boyz II Men\": {\"frequency\": 709, \"value\": \"Boyz II Men\"}, \"50 Cent\": {\"frequency\": 577, \"value\": \"50 Cent\"}, \"Smokey Robinson & The Miracles\": {\"frequency\": 330, \"value\": \"Smokey Robinson & ...\"}, \"The Dead Weather\": {\"frequency\": 160, \"value\": \"The Dead Weather\"}, \"Randy Crawford\": {\"frequency\": 1058, \"value\": \"Randy Crawford\"}, \"Camera Obscura\": {\"frequency\": 1461, \"value\": \"Camera Obscura\"}, \"Kosheen\": {\"frequency\": 296, \"value\": \"Kosheen\"}, \"Jamie Cullum\": {\"frequency\": 702, \"value\": \"Jamie Cullum\"}, \"The Clash\": {\"frequency\": 608, \"value\": \"The Clash\"}, \"The Cure\": {\"frequency\": 766, \"value\": \"The Cure\"}, \"Snow Patrol\": {\"frequency\": 2085, \"value\": \"Snow Patrol\"}, \"Relient K\": {\"frequency\": 654, \"value\": \"Relient K\"}, \"The Alan Parsons Project\": {\"frequency\": 188, \"value\": \"The Alan Parsons ...\"}, \"Carla Bruni\": {\"frequency\": 802, \"value\": \"Carla Bruni\"}, \"Cobra Starship\": {\"frequency\": 187, \"value\": \"Cobra Starship\"}, \"America\": {\"frequency\": 225, \"value\": \"America\"}, \"Metallica\": {\"frequency\": 5011, \"value\": \"Metallica\"}, \"The Cardigans\": {\"frequency\": 771, \"value\": \"The Cardigans\"}, \"Noisettes\": {\"frequency\": 187, \"value\": \"Noisettes\"}, \"Pet Shop Boys\": {\"frequency\": 316, \"value\": \"Pet Shop Boys\"}, \"Wolfmother\": {\"frequency\": 759, \"value\": \"Wolfmother\"}, \"Nickelback\": {\"frequency\": 4147, \"value\": \"Nickelback\"}, \"Peter Tosh\": {\"frequency\": 344, \"value\": \"Peter Tosh\"}, \"Herb Alpert And The Tijuana Brass\": {\"frequency\": 266, \"value\": \"Herb Alpert And ...\"}, \"Hawthorne Heights\": {\"frequency\": 198, \"value\": \"Hawthorne Heights\"}, \"Donna Lewis\": {\"frequency\": 171, \"value\": \"Donna Lewis\"}, \"Nickel Creek\": {\"frequency\": 603, \"value\": \"Nickel Creek\"}, \"Eric Johnson\": {\"frequency\": 177, \"value\": \"Eric Johnson\"}, \"The Buggles\": {\"frequency\": 555, \"value\": \"The Buggles\"}, \"Eagle-Eye Cherry\": {\"frequency\": 249, \"value\": \"Eagle-Eye Cherry\"}, \"Macaco\": {\"frequency\": 398, \"value\": \"Macaco\"}, \"Ryan Leslie\": {\"frequency\": 225, \"value\": \"Ryan Leslie\"}, \"Ferry Corsten\": {\"frequency\": 258, \"value\": \"Ferry Corsten\"}, \"Danity Kane\": {\"frequency\": 296, \"value\": \"Danity Kane\"}, \"Copeland\": {\"frequency\": 184, \"value\": \"Copeland\"}, \"Dino Merlin\": {\"frequency\": 317, \"value\": \"Dino Merlin\"}, \"Tab Benoit\": {\"frequency\": 402, \"value\": \"Tab Benoit\"}, \"Diana Ross\": {\"frequency\": 174, \"value\": \"Diana Ross\"}, \"Scandinavian Music Group\": {\"frequency\": 156, \"value\": \"Scandinavian Music ...\"}, \"Free\": {\"frequency\": 171, \"value\": \"Free\"}, \"Carlos Vives\": {\"frequency\": 345, \"value\": \"Carlos Vives\"}, \"Justin Timberlake\": {\"frequency\": 1857, \"value\": \"Justin Timberlake\"}, \"Melendi\": {\"frequency\": 310, \"value\": \"Melendi\"}, \"Trivium\": {\"frequency\": 357, \"value\": \"Trivium\"}, \"Drake / Kanye West / Lil Wayne / Eminem\": {\"frequency\": 919, \"value\": \"Drake / Kanye West ...\"}, \"Akon\": {\"frequency\": 899, \"value\": \"Akon\"}, \"Blondie\": {\"frequency\": 343, \"value\": \"Blondie\"}, \"Eminem / Hailie Jade\": {\"frequency\": 340, \"value\": \"Eminem / Hailie ...\"}, \"JET\": {\"frequency\": 562, \"value\": \"JET\"}, \"The Postal Service\": {\"frequency\": 546, \"value\": \"The Postal Service\"}, \"White Town\": {\"frequency\": 284, \"value\": \"White Town\"}, \"Florence + The Machine\": {\"frequency\": 8213, \"value\": \"Florence + The ...\"}, \"Lagwagon\": {\"frequency\": 178, \"value\": \"Lagwagon\"}, \"Lamb Of God\": {\"frequency\": 237, \"value\": \"Lamb Of God\"}, \"Los Abuelos De La Nada\": {\"frequency\": 251, \"value\": \"Los Abuelos De La ...\"}, \"Fonseca\": {\"frequency\": 464, \"value\": \"Fonseca\"}, \"Aventura\": {\"frequency\": 1004, \"value\": \"Aventura\"}, \"Kris Allen\": {\"frequency\": 273, \"value\": \"Kris Allen\"}, \"India.Arie\": {\"frequency\": 604, \"value\": \"India.Arie\"}, \"Telepopmusik\": {\"frequency\": 242, \"value\": \"Telepopmusik\"}, \"S Club 7\": {\"frequency\": 266, \"value\": \"S Club 7\"}, \"The Notorious B.I.G.\": {\"frequency\": 2082, \"value\": \"The Notorious ...\"}, \"Charlie Louvin\": {\"frequency\": 383, \"value\": \"Charlie Louvin\"}, \"Sugarland\": {\"frequency\": 783, \"value\": \"Sugarland\"}, \"The Police\": {\"frequency\": 2195, \"value\": \"The Police\"}, \"Antonio Vivaldi\": {\"frequency\": 181, \"value\": \"Antonio Vivaldi\"}, \"Wolfsheim\": {\"frequency\": 197, \"value\": \"Wolfsheim\"}, \"The Album Leaf\": {\"frequency\": 325, \"value\": \"The Album Leaf\"}, \"Gyptian\": {\"frequency\": 183, \"value\": \"Gyptian\"}, \"NEEDTOBREATHE\": {\"frequency\": 875, \"value\": \"NEEDTOBREATHE\"}, \"Richard Ashcroft\": {\"frequency\": 171, \"value\": \"Richard Ashcroft\"}, \"The Spill Canvas\": {\"frequency\": 254, \"value\": \"The Spill Canvas\"}, \"Taking Back Sunday\": {\"frequency\": 656, \"value\": \"Taking Back Sunday\"}, \"Paul Oakenfold\": {\"frequency\": 210, \"value\": \"Paul Oakenfold\"}, \"Fireflight\": {\"frequency\": 162, \"value\": \"Fireflight\"}, \"Railroad Earth\": {\"frequency\": 207, \"value\": \"Railroad Earth\"}, \"Emery\": {\"frequency\": 224, \"value\": \"Emery\"}, \"Octopus Project\": {\"frequency\": 2353, \"value\": \"Octopus Project\"}, \"Alaska Y Dinarama\": {\"frequency\": 240, \"value\": \"Alaska Y Dinarama\"}, \"Blue Foundation\": {\"frequency\": 271, \"value\": \"Blue Foundation\"}, \"Cocoon\": {\"frequency\": 193, \"value\": \"Cocoon\"}, \"Job For A Cowboy\": {\"frequency\": 157, \"value\": \"Job For A Cowboy\"}, \"Camper Van Beethoven\": {\"frequency\": 202, \"value\": \"Camper Van ...\"}, \"Weird Al\\\" Yankovic\": {\"frequency\": 243, \"value\": \"Weird Al\\\" Yankovic\"}, \"Sex Pistols\": {\"frequency\": 195, \"value\": \"Sex Pistols\"}, \"Les Mis\\ufffd\\ufffdrables - 10th Anniversary Concert\": {\"frequency\": 402, \"value\": \"Les Mis\\u00e9rables - ...\"}, \"Great Lake Swimmers\": {\"frequency\": 216, \"value\": \"Great Lake ...\"}, \"Datarock\": {\"frequency\": 301, \"value\": \"Datarock\"}, \"Ayo\": {\"frequency\": 157, \"value\": \"Ayo\"}, \"Blue October\": {\"frequency\": 420, \"value\": \"Blue October\"}, \"Deadmau5\": {\"frequency\": 1642, \"value\": \"Deadmau5\"}, \"Blue Highway\": {\"frequency\": 215, \"value\": \"Blue Highway\"}, \"Secret Garden\": {\"frequency\": 214, \"value\": \"Secret Garden\"}, \"Beirut\": {\"frequency\": 2068, \"value\": \"Beirut\"}, \"Herbie Hancock\": {\"frequency\": 382, \"value\": \"Herbie Hancock\"}, \"Quantic\": {\"frequency\": 211, \"value\": \"Quantic\"}, \"DecembeRadio\": {\"frequency\": 204, \"value\": \"DecembeRadio\"}, \"Wall Of Voodoo\": {\"frequency\": 172, \"value\": \"Wall Of Voodoo\"}, \"Green Day\": {\"frequency\": 2132, \"value\": \"Green Day\"}, \"Hieroglyphics\": {\"frequency\": 186, \"value\": \"Hieroglyphics\"}, \"Steppenwolf\": {\"frequency\": 531, \"value\": \"Steppenwolf\"}, \"Kings Of Leon\": {\"frequency\": 11586, \"value\": \"Kings Of Leon\"}, \"South Park\": {\"frequency\": 150, \"value\": \"South Park\"}, \"Mike Posner\": {\"frequency\": 215, \"value\": \"Mike Posner\"}, \"Can\": {\"frequency\": 186, \"value\": \"Can\"}, \"Boards of Canada\": {\"frequency\": 188, \"value\": \"Boards of Canada\"}, \"Dru Hill\": {\"frequency\": 186, \"value\": \"Dru Hill\"}, \"Bill Withers\": {\"frequency\": 865, \"value\": \"Bill Withers\"}, \"Rank 1\": {\"frequency\": 214, \"value\": \"Rank 1\"}, \"matchbox twenty\": {\"frequency\": 1689, \"value\": \"matchbox twenty\"}, \"The Ventures\": {\"frequency\": 149, \"value\": \"The Ventures\"}, \"Postal Service\": {\"frequency\": 1526, \"value\": \"Postal Service\"}, \"Le\\ufffd\\ufffdn Gieco\": {\"frequency\": 322, \"value\": \"Le\\u00f3n Gieco\"}, \"Public Image Ltd\": {\"frequency\": 247, \"value\": \"Public Image Ltd\"}, \"Fabolous\": {\"frequency\": 299, \"value\": \"Fabolous\"}, \"Mondo Marcio\": {\"frequency\": 152, \"value\": \"Mondo Marcio\"}, \"Megadeth\": {\"frequency\": 390, \"value\": \"Megadeth\"}, \"Harmonia\": {\"frequency\": 5046, \"value\": \"Harmonia\"}, \"Lynyrd Skynyrd\": {\"frequency\": 647, \"value\": \"Lynyrd Skynyrd\"}, \"Cocoa Brovas\": {\"frequency\": 168, \"value\": \"Cocoa Brovas\"}, \"Belle and Sebastian\": {\"frequency\": 214, \"value\": \"Belle and ...\"}, \"Dim Pees\": {\"frequency\": 149, \"value\": \"Dim Pees\"}, \"The Velvet Underground / Nico\": {\"frequency\": 470, \"value\": \"The Velvet ...\"}, \"Ed Harcourt\": {\"frequency\": 161, \"value\": \"Ed Harcourt\"}, \"Aly & AJ\": {\"frequency\": 174, \"value\": \"Aly & AJ\"}, \"Nicholas Hooper\": {\"frequency\": 189, \"value\": \"Nicholas Hooper\"}, \"Devin Townsend\": {\"frequency\": 149, \"value\": \"Devin Townsend\"}, \"White Rabbits\": {\"frequency\": 152, \"value\": \"White Rabbits\"}, \"CSS\": {\"frequency\": 251, \"value\": \"CSS\"}, \"Tom Petty\": {\"frequency\": 550, \"value\": \"Tom Petty\"}, \"Julie London\": {\"frequency\": 308, \"value\": \"Julie London\"}, \"Lighthouse Family\": {\"frequency\": 216, \"value\": \"Lighthouse Family\"}, \"The Script\": {\"frequency\": 799, \"value\": \"The Script\"}, \"Alien Ant Farm\": {\"frequency\": 397, \"value\": \"Alien Ant Farm\"}, \"Lamb\": {\"frequency\": 297, \"value\": \"Lamb\"}, \"Symphony X\": {\"frequency\": 360, \"value\": \"Symphony X\"}, \"Wir Sind Helden\": {\"frequency\": 168, \"value\": \"Wir Sind Helden\"}, \"Shadows Fall\": {\"frequency\": 210, \"value\": \"Shadows Fall\"}, \"Lostprophets\": {\"frequency\": 304, \"value\": \"Lostprophets\"}, \"Vampire Weekend\": {\"frequency\": 2895, \"value\": \"Vampire Weekend\"}, \"Aretha Franklin\": {\"frequency\": 180, \"value\": \"Aretha Franklin\"}, \"Tinie Tempah\": {\"frequency\": 171, \"value\": \"Tinie Tempah\"}, \"Sonic Youth\": {\"frequency\": 374, \"value\": \"Sonic Youth\"}, \"The Asteroids Galaxy Tour\": {\"frequency\": 175, \"value\": \"The Asteroids ...\"}, \"Basement Jaxx\": {\"frequency\": 223, \"value\": \"Basement Jaxx\"}, \"Young Money\": {\"frequency\": 414, \"value\": \"Young Money\"}, \"Cypress Hill\": {\"frequency\": 321, \"value\": \"Cypress Hill\"}, \"Joe Vasconcellos\": {\"frequency\": 195, \"value\": \"Joe Vasconcellos\"}, \"Donavon Frankenreiter\": {\"frequency\": 165, \"value\": \"Donavon ...\"}, \"What We Feel\": {\"frequency\": 204, \"value\": \"What We Feel\"}, \"The Raconteurs\": {\"frequency\": 394, \"value\": \"The Raconteurs\"}, \"Philippe Rochard\": {\"frequency\": 300, \"value\": \"Philippe Rochard\"}, \"Ry Cooder\": {\"frequency\": 248, \"value\": \"Ry Cooder\"}, \"Kanye West\": {\"frequency\": 4508, \"value\": \"Kanye West\"}, \"The Temptations\": {\"frequency\": 159, \"value\": \"The Temptations\"}, \"Horse Feathers\": {\"frequency\": 250, \"value\": \"Horse Feathers\"}, \"My Chemical Romance\": {\"frequency\": 1289, \"value\": \"My Chemical ...\"}, \"George Michael\": {\"frequency\": 222, \"value\": \"George Michael\"}, \"Dropkick Murphys\": {\"frequency\": 1352, \"value\": \"Dropkick Murphys\"}, \"J. Holiday\": {\"frequency\": 337, \"value\": \"J. Holiday\"}, \"Vanilla Ice\": {\"frequency\": 349, \"value\": \"Vanilla Ice\"}, \"Cass McCombs\": {\"frequency\": 179, \"value\": \"Cass McCombs\"}, \"Restiform Bodies\": {\"frequency\": 266, \"value\": \"Restiform Bodies\"}, \"MC5\": {\"frequency\": 162, \"value\": \"MC5\"}, \"Charly Garc\\ufffd\\ufffda\": {\"frequency\": 630, \"value\": \"Charly Garc\\u00eda\"}, \"Ryan Adams\": {\"frequency\": 1120, \"value\": \"Ryan Adams\"}, \"Phish\": {\"frequency\": 498, \"value\": \"Phish\"}, \"Deep Blue Something\": {\"frequency\": 266, \"value\": \"Deep Blue ...\"}, \"Miranda Lambert\": {\"frequency\": 377, \"value\": \"Miranda Lambert\"}, \"Kiss\": {\"frequency\": 497, \"value\": \"Kiss\"}, \"John Legend\": {\"frequency\": 458, \"value\": \"John Legend\"}, \"The Cool Kids\": {\"frequency\": 202, \"value\": \"The Cool Kids\"}, \"Steve Miller Band\": {\"frequency\": 551, \"value\": \"Steve Miller Band\"}, \"Cage The Elephant\": {\"frequency\": 1701, \"value\": \"Cage The Elephant\"}, \"Nick Lowe\": {\"frequency\": 266, \"value\": \"Nick Lowe\"}, \"Eric Prydz\": {\"frequency\": 346, \"value\": \"Eric Prydz\"}, \"The Roots / Cody Chestnutt\": {\"frequency\": 159, \"value\": \"The Roots / Cody ...\"}, \"Godsmack\": {\"frequency\": 1066, \"value\": \"Godsmack\"}, \"Brandon Heath\": {\"frequency\": 233, \"value\": \"Brandon Heath\"}, \"Colossal\": {\"frequency\": 307, \"value\": \"Colossal\"}, \"London After Midnight\": {\"frequency\": 319, \"value\": \"London After ...\"}, \"Yael Na\\ufffd\\ufffdm\": {\"frequency\": 368, \"value\": \"Yael Na\\u00efm\"}, \"The Jacksons\": {\"frequency\": 152, \"value\": \"The Jacksons\"}, \"The Go! Team\": {\"frequency\": 208, \"value\": \"The Go! Team\"}, \"Queensryche\": {\"frequency\": 375, \"value\": \"Queensryche\"}, \"Phil Collins\": {\"frequency\": 1228, \"value\": \"Phil Collins\"}, \"Modern English\": {\"frequency\": 151, \"value\": \"Modern English\"}, \"Michael Franti & Spearhead\": {\"frequency\": 292, \"value\": \"Michael Franti & ...\"}, \"The Shins\": {\"frequency\": 1016, \"value\": \"The Shins\"}, \"Tycho\": {\"frequency\": 201, \"value\": \"Tycho\"}, \"Rufus Wainwright\": {\"frequency\": 566, \"value\": \"Rufus Wainwright\"}, \"Drowning Pool\": {\"frequency\": 854, \"value\": \"Drowning Pool\"}, \"Sufjan Stevens\": {\"frequency\": 297, \"value\": \"Sufjan Stevens\"}, \"The Avett Brothers\": {\"frequency\": 1477, \"value\": \"The Avett Brothers\"}, \"Slum Village\": {\"frequency\": 167, \"value\": \"Slum Village\"}, \"Primus\": {\"frequency\": 529, \"value\": \"Primus\"}, \"P.O.D.\": {\"frequency\": 762, \"value\": \"P.O.D.\"}, \"Fergie\": {\"frequency\": 461, \"value\": \"Fergie\"}, \"Counting Crows\": {\"frequency\": 555, \"value\": \"Counting Crows\"}, \"Klaxons\": {\"frequency\": 266, \"value\": \"Klaxons\"}, \"The Gaslight Anthem\": {\"frequency\": 305, \"value\": \"The Gaslight ...\"}, \"P. Diddy\": {\"frequency\": 250, \"value\": \"P. Diddy\"}, \"Easy Star All-Stars\": {\"frequency\": 434, \"value\": \"Easy Star All- ...\"}, \"Joy Division\": {\"frequency\": 411, \"value\": \"Joy Division\"}, \"Bersuit Vergarabat\": {\"frequency\": 951, \"value\": \"Bersuit Vergarabat\"}, \"Ronski Speed\": {\"frequency\": 149, \"value\": \"Ronski Speed\"}, \"Sheryl Crow\": {\"frequency\": 518, \"value\": \"Sheryl Crow\"}, \"A Skylit Drive\": {\"frequency\": 246, \"value\": \"A Skylit Drive\"}, \"Another Sunny Day\": {\"frequency\": 259, \"value\": \"Another Sunny Day\"}, \"Diamanda Galas\": {\"frequency\": 211, \"value\": \"Diamanda Galas\"}, \"Aliz\\ufffd\\ufffde\": {\"frequency\": 175, \"value\": \"Aliz\\u00e9e\"}, \"High School Musical Cast\": {\"frequency\": 239, \"value\": \"High School ...\"}, \"Soltero\": {\"frequency\": 997, \"value\": \"Soltero\"}, \"Mother Mother\": {\"frequency\": 154, \"value\": \"Mother Mother\"}, \"Beyonc\\ufffd\\ufffd feat. Slim Thug\": {\"frequency\": 247, \"value\": \"Beyonc\\u00e9 feat. Slim ...\"}, \"3OH!3\": {\"frequency\": 1229, \"value\": \"3OH!3\"}, \"Billy Idol\": {\"frequency\": 642, \"value\": \"Billy Idol\"}, \"Faith Hill\": {\"frequency\": 226, \"value\": \"Faith Hill\"}, \"The Presidents of the United States of America\": {\"frequency\": 415, \"value\": \"The Presidents of ...\"}, \"We Came As Romans\": {\"frequency\": 226, \"value\": \"We Came As Romans\"}, \"The Rapture\": {\"frequency\": 198, \"value\": \"The Rapture\"}, \"Jaheim\": {\"frequency\": 152, \"value\": \"Jaheim\"}, \"En Vogue\": {\"frequency\": 173, \"value\": \"En Vogue\"}, \"Against Me!\": {\"frequency\": 252, \"value\": \"Against Me!\"}, \"Fischerspooner\": {\"frequency\": 227, \"value\": \"Fischerspooner\"}, \"Cass McCombs feat. Karen Black\": {\"frequency\": 180, \"value\": \"Cass McCombs feat. ...\"}, \"Simon Harris\": {\"frequency\": 994, \"value\": \"Simon Harris\"}, \"James Blake\": {\"frequency\": 180, \"value\": \"James Blake\"}, \"A Tribe Called Quest\": {\"frequency\": 359, \"value\": \"A Tribe Called ...\"}, \"Musiq\": {\"frequency\": 356, \"value\": \"Musiq\"}, \"The Bloody Beetroots\": {\"frequency\": 236, \"value\": \"The Bloody ...\"}, \"White Denim\": {\"frequency\": 484, \"value\": \"White Denim\"}, \"Cross Canadian Ragweed\": {\"frequency\": 187, \"value\": \"Cross Canadian ...\"}, \"Cheryl Cole\": {\"frequency\": 169, \"value\": \"Cheryl Cole\"}, \"Gaelic Storm\": {\"frequency\": 160, \"value\": \"Gaelic Storm\"}, \"Ensiferum\": {\"frequency\": 220, \"value\": \"Ensiferum\"}, \"Immortal Technique\": {\"frequency\": 561, \"value\": \"Immortal Technique\"}, \"Caribou\": {\"frequency\": 377, \"value\": \"Caribou\"}, \"The Hollies\": {\"frequency\": 218, \"value\": \"The Hollies\"}, \"Spoon\": {\"frequency\": 499, \"value\": \"Spoon\"}, \"Buena Vista Social Club\": {\"frequency\": 277, \"value\": \"Buena Vista Social ...\"}, \"R\\ufffd\\ufffdis\\ufffd\\ufffdn Murphy\": {\"frequency\": 153, \"value\": \"R\\u00f3is\\u00edn Murphy\"}, \"Eyes Set to Kill\": {\"frequency\": 186, \"value\": \"Eyes Set to Kill\"}, \"Alan Jackson\": {\"frequency\": 379, \"value\": \"Alan Jackson\"}, \"Slipknot\": {\"frequency\": 1506, \"value\": \"Slipknot\"}, \"Rosana\": {\"frequency\": 411, \"value\": \"Rosana\"}, \"El Cuarteto De Nos\": {\"frequency\": 314, \"value\": \"El Cuarteto De Nos\"}, \"Miike Snow\": {\"frequency\": 466, \"value\": \"Miike Snow\"}, \"Mariah Carey\": {\"frequency\": 2069, \"value\": \"Mariah Carey\"}, \"Jason Derulo\": {\"frequency\": 1092, \"value\": \"Jason Derulo\"}, \"Butthole Surfers\": {\"frequency\": 202, \"value\": \"Butthole Surfers\"}, \"Bright Eyes\": {\"frequency\": 1541, \"value\": \"Bright Eyes\"}, \"Charlie Hall\": {\"frequency\": 193, \"value\": \"Charlie Hall\"}, \"J. Karjalainen & Mustat Lasit\": {\"frequency\": 939, \"value\": \"J. Karjalainen & ...\"}, \"Incubus\": {\"frequency\": 1929, \"value\": \"Incubus\"}, \"Stacie Orrico\": {\"frequency\": 221, \"value\": \"Stacie Orrico\"}, \"Pixie Lott\": {\"frequency\": 246, \"value\": \"Pixie Lott\"}, \"Yazoo\": {\"frequency\": 151, \"value\": \"Yazoo\"}, \"Violeta Parra\": {\"frequency\": 218, \"value\": \"Violeta Parra\"}, \"Line Renaud\": {\"frequency\": 357, \"value\": \"Line Renaud\"}, \"Vienna Teng\": {\"frequency\": 166, \"value\": \"Vienna Teng\"}, \"Slim Dusty\": {\"frequency\": 192, \"value\": \"Slim Dusty\"}, \"K'Naan\": {\"frequency\": 498, \"value\": \"K'Naan\"}, \"Marina And The Diamonds\": {\"frequency\": 466, \"value\": \"Marina And The ...\"}, \"La Roux\": {\"frequency\": 1963, \"value\": \"La Roux\"}, \"Fuel\": {\"frequency\": 153, \"value\": \"Fuel\"}, \"Three Drives\": {\"frequency\": 789, \"value\": \"Three Drives\"}, \"Lucinda Williams\": {\"frequency\": 156, \"value\": \"Lucinda Williams\"}, \"Sun Kil Moon\": {\"frequency\": 154, \"value\": \"Sun Kil Moon\"}, \"Apocalyptica\": {\"frequency\": 942, \"value\": \"Apocalyptica\"}, \"Jamie T\": {\"frequency\": 220, \"value\": \"Jamie T\"}, \"Kimya Dawson\": {\"frequency\": 237, \"value\": \"Kimya Dawson\"}, \"Miley Cyrus\": {\"frequency\": 3201, \"value\": \"Miley Cyrus\"}, \"Cloud Cult\": {\"frequency\": 191, \"value\": \"Cloud Cult\"}, \"The Maine\": {\"frequency\": 517, \"value\": \"The Maine\"}, \"Young Bleed\": {\"frequency\": 381, \"value\": \"Young Bleed\"}, \"Plies\": {\"frequency\": 676, \"value\": \"Plies\"}, \"Clay Walker\": {\"frequency\": 185, \"value\": \"Clay Walker\"}, \"Audio Adrenaline\": {\"frequency\": 292, \"value\": \"Audio Adrenaline\"}, \"Shout Out Louds\": {\"frequency\": 207, \"value\": \"Shout Out Louds\"}, \"Josh Turner\": {\"frequency\": 1124, \"value\": \"Josh Turner\"}, \"Linkin Park\": {\"frequency\": 5850, \"value\": \"Linkin Park\"}, \"The Sugarhill Gang\": {\"frequency\": 159, \"value\": \"The Sugarhill Gang\"}, \"Earth_ Wind & Fire\": {\"frequency\": 220, \"value\": \"Earth_ Wind & Fire\"}, \"Carpark North\": {\"frequency\": 178, \"value\": \"Carpark North\"}, \"Dance Gavin Dance\": {\"frequency\": 256, \"value\": \"Dance Gavin Dance\"}, \"Josh Rouse\": {\"frequency\": 190, \"value\": \"Josh Rouse\"}, \"Rose Royce\": {\"frequency\": 201, \"value\": \"Rose Royce\"}, \"The Kinks\": {\"frequency\": 190, \"value\": \"The Kinks\"}, \"Primal Scream\": {\"frequency\": 293, \"value\": \"Primal Scream\"}, \"Peter Sellers\": {\"frequency\": 306, \"value\": \"Peter Sellers\"}, \"Royksopp\": {\"frequency\": 365, \"value\": \"Royksopp\"}, \"Matt Nathanson\": {\"frequency\": 680, \"value\": \"Matt Nathanson\"}, \"Jordin Sparks\": {\"frequency\": 195, \"value\": \"Jordin Sparks\"}, \"Underoath\": {\"frequency\": 355, \"value\": \"Underoath\"}, \"Fountains Of Wayne\": {\"frequency\": 312, \"value\": \"Fountains Of Wayne\"}, \"Everything But The Girl\": {\"frequency\": 342, \"value\": \"Everything But The ...\"}, \"Dragonforce\": {\"frequency\": 566, \"value\": \"Dragonforce\"}, \"Ryan Bingham\": {\"frequency\": 161, \"value\": \"Ryan Bingham\"}, \"Jack Johnson\": {\"frequency\": 7465, \"value\": \"Jack Johnson\"}, \"Seu Jorge\": {\"frequency\": 257, \"value\": \"Seu Jorge\"}, \"The Stone Roses\": {\"frequency\": 275, \"value\": \"The Stone Roses\"}, \"New Order\": {\"frequency\": 648, \"value\": \"New Order\"}, \"First Aid Kit\": {\"frequency\": 149, \"value\": \"First Aid Kit\"}, \"Brooks & Dunn\": {\"frequency\": 406, \"value\": \"Brooks & Dunn\"}, \"Imogen Heap\": {\"frequency\": 475, \"value\": \"Imogen Heap\"}, \"Rin\\ufffd\\ufffd\\ufffd\\ufffd\\ufffd\\ufffdr\\ufffd\\ufffdse / Mark Gardener\": {\"frequency\": 189, \"value\": \"Rin\\u00f4\\u00e7\\u00e9r\\u00f4se / Mark ...\"}, \"Camila\": {\"frequency\": 1045, \"value\": \"Camila\"}, \"Righteous Brothers\": {\"frequency\": 245, \"value\": \"Righteous Brothers\"}, \"The xx\": {\"frequency\": 548, \"value\": \"The xx\"}, \"Haste The Day\": {\"frequency\": 155, \"value\": \"Haste The Day\"}, \"SNAP!\": {\"frequency\": 190, \"value\": \"SNAP!\"}, \"Hombres G\": {\"frequency\": 185, \"value\": \"Hombres G\"}, \"Jamiroquai\": {\"frequency\": 375, \"value\": \"Jamiroquai\"}, \"Boys Like Girls\": {\"frequency\": 340, \"value\": \"Boys Like Girls\"}, \"Hawk Nelson\": {\"frequency\": 303, \"value\": \"Hawk Nelson\"}, \"Way Out West\": {\"frequency\": 167, \"value\": \"Way Out West\"}, \"Creed\": {\"frequency\": 823, \"value\": \"Creed\"}, \"Gino Vannelli\": {\"frequency\": 190, \"value\": \"Gino Vannelli\"}, \"Insane Clown Posse\": {\"frequency\": 558, \"value\": \"Insane Clown Posse\"}, \"The Game\": {\"frequency\": 186, \"value\": \"The Game\"}, \"Janis Joplin\": {\"frequency\": 218, \"value\": \"Janis Joplin\"}, \"DESTRUCTION\": {\"frequency\": 231, \"value\": \"DESTRUCTION\"}, \"Staind\": {\"frequency\": 813, \"value\": \"Staind\"}, \"Deep Purple\": {\"frequency\": 272, \"value\": \"Deep Purple\"}, \"Mano Negra\": {\"frequency\": 231, \"value\": \"Mano Negra\"}, \"Manowar\": {\"frequency\": 447, \"value\": \"Manowar\"}, \"U2\": {\"frequency\": 1867, \"value\": \"U2\"}, \"Alvin And The Chipmunks\": {\"frequency\": 222, \"value\": \"Alvin And The ...\"}, \"Intocable\": {\"frequency\": 360, \"value\": \"Intocable\"}, \"Guano Apes\": {\"frequency\": 180, \"value\": \"Guano Apes\"}, \"112\": {\"frequency\": 176, \"value\": \"112\"}, \"El-P\": {\"frequency\": 257, \"value\": \"El-P\"}, \"Vanessa Carlton\": {\"frequency\": 396, \"value\": \"Vanessa Carlton\"}, \"Los Pericos\": {\"frequency\": 477, \"value\": \"Los Pericos\"}, \"Jonny L\": {\"frequency\": 271, \"value\": \"Jonny L\"}, \"Yellowcard\": {\"frequency\": 1152, \"value\": \"Yellowcard\"}, \"Meshuggah\": {\"frequency\": 205, \"value\": \"Meshuggah\"}, \"At The Drive-In\": {\"frequency\": 215, \"value\": \"At The Drive-In\"}, \"The Classic Crime\": {\"frequency\": 217, \"value\": \"The Classic Crime\"}, \"Kate Nash\": {\"frequency\": 658, \"value\": \"Kate Nash\"}, \"Duran Duran\": {\"frequency\": 571, \"value\": \"Duran Duran\"}, \"Jewel\": {\"frequency\": 311, \"value\": \"Jewel\"}, \"Leggo Beast\": {\"frequency\": 178, \"value\": \"Leggo Beast\"}, \"Madeleine Peyroux\": {\"frequency\": 368, \"value\": \"Madeleine Peyroux\"}, \"Alanis Morissette\": {\"frequency\": 1311, \"value\": \"Alanis Morissette\"}, \"Newsboys\": {\"frequency\": 393, \"value\": \"Newsboys\"}, \"Transvision Vamp\": {\"frequency\": 157, \"value\": \"Transvision Vamp\"}, \"Silvio Rodr\\ufffd\\ufffdguez\": {\"frequency\": 510, \"value\": \"Silvio Rodr\\u00edguez\"}, \"Taylor Swift / Colbie Caillat\": {\"frequency\": 287, \"value\": \"Taylor Swift / ...\"}, \"Alice In Chains\": {\"frequency\": 1546, \"value\": \"Alice In Chains\"}, \"Bad Brains\": {\"frequency\": 185, \"value\": \"Bad Brains\"}, \"Maroon 5\": {\"frequency\": 1624, \"value\": \"Maroon 5\"}, \"Ten Years After\": {\"frequency\": 330, \"value\": \"Ten Years After\"}, \"Danger Doom\": {\"frequency\": 204, \"value\": \"Danger Doom\"}, \"Prince & The New Power Generation\": {\"frequency\": 152, \"value\": \"Prince & The New ...\"}, \"Scooter\": {\"frequency\": 528, \"value\": \"Scooter\"}, \"Colt Ford\": {\"frequency\": 310, \"value\": \"Colt Ford\"}, \"Neko Case\": {\"frequency\": 311, \"value\": \"Neko Case\"}, \"Boys Like Girls featuring Taylor Swift\": {\"frequency\": 233, \"value\": \"Boys Like Girls ...\"}, \"Polly Paulusma\": {\"frequency\": 242, \"value\": \"Polly Paulusma\"}, \"Covenant\": {\"frequency\": 171, \"value\": \"Covenant\"}, \"Los Rodriguez\": {\"frequency\": 404, \"value\": \"Los Rodriguez\"}, \"Simian Mobile Disco\": {\"frequency\": 690, \"value\": \"Simian Mobile ...\"}, \"Chiddy Bang\": {\"frequency\": 394, \"value\": \"Chiddy Bang\"}, \"Savage Garden\": {\"frequency\": 251, \"value\": \"Savage Garden\"}, \"Safri Duo\": {\"frequency\": 150, \"value\": \"Safri Duo\"}, \"Alexi Murdoch\": {\"frequency\": 398, \"value\": \"Alexi Murdoch\"}, \"Four Tet\": {\"frequency\": 1428, \"value\": \"Four Tet\"}, \"Billy Squier\": {\"frequency\": 249, \"value\": \"Billy Squier\"}, \"Wu-Tang Clan\": {\"frequency\": 347, \"value\": \"Wu-Tang Clan\"}, \"3 Doors Down\": {\"frequency\": 3228, \"value\": \"3 Doors Down\"}, \"The Pussycat Dolls\": {\"frequency\": 1439, \"value\": \"The Pussycat Dolls\"}, \"Tiger Army\": {\"frequency\": 163, \"value\": \"Tiger Army\"}, \"The Airborne Toxic Event\": {\"frequency\": 268, \"value\": \"The Airborne Toxic ...\"}, \"Eluveitie\": {\"frequency\": 186, \"value\": \"Eluveitie\"}, \"Bonobo\": {\"frequency\": 461, \"value\": \"Bonobo\"}, \"Alliance Ethnik\": {\"frequency\": 3984, \"value\": \"Alliance Ethnik\"}, \"John Butler Trio\": {\"frequency\": 379, \"value\": \"John Butler Trio\"}, \"Simply Red\": {\"frequency\": 150, \"value\": \"Simply Red\"}, \"Great White\": {\"frequency\": 183, \"value\": \"Great White\"}, \"Sigur Ros\": {\"frequency\": 331, \"value\": \"Sigur Ros\"}, \"The Morning Benders\": {\"frequency\": 197, \"value\": \"The Morning ...\"}, \"Soundgarden\": {\"frequency\": 1267, \"value\": \"Soundgarden\"}, \"Evanescence\": {\"frequency\": 5170, \"value\": \"Evanescence\"}, \"Cut Copy\": {\"frequency\": 1484, \"value\": \"Cut Copy\"}, \"Bauhaus\": {\"frequency\": 168, \"value\": \"Bauhaus\"}, \"The Puppini Sisters\": {\"frequency\": 169, \"value\": \"The Puppini ...\"}, \"Steely Dan\": {\"frequency\": 909, \"value\": \"Steely Dan\"}, \"Ok Go\": {\"frequency\": 587, \"value\": \"Ok Go\"}, \"Smile Empty Soul\": {\"frequency\": 196, \"value\": \"Smile Empty Soul\"}, \"Hot Hot Heat\": {\"frequency\": 229, \"value\": \"Hot Hot Heat\"}, \"Silversun Pickups\": {\"frequency\": 641, \"value\": \"Silversun Pickups\"}, \"Jacky Terrasson\": {\"frequency\": 606, \"value\": \"Jacky Terrasson\"}, \"M83\": {\"frequency\": 1024, \"value\": \"M83\"}, \"Sean Paul\": {\"frequency\": 882, \"value\": \"Sean Paul\"}, \"Angels and Airwaves\": {\"frequency\": 1710, \"value\": \"Angels and ...\"}, \"Kreator\": {\"frequency\": 272, \"value\": \"Kreator\"}, \"Joshua Radin\": {\"frequency\": 758, \"value\": \"Joshua Radin\"}, \"Bran Van 3000\": {\"frequency\": 204, \"value\": \"Bran Van 3000\"}, \"DJ Khaled\": {\"frequency\": 771, \"value\": \"DJ Khaled\"}, \"The Ruts\": {\"frequency\": 933, \"value\": \"The Ruts\"}, \"Jadakiss / Swizz Beatz / OJ Da Juiceman\": {\"frequency\": 302, \"value\": \"Jadakiss / Swizz ...\"}, \"Billy Talent\": {\"frequency\": 640, \"value\": \"Billy Talent\"}, \"Doves\": {\"frequency\": 303, \"value\": \"Doves\"}, \"Paul Cardall\": {\"frequency\": 293, \"value\": \"Paul Cardall\"}, \"Garbage\": {\"frequency\": 611, \"value\": \"Garbage\"}, \"Jay-Z\": {\"frequency\": 960, \"value\": \"Jay-Z\"}, \"Andrew Bird\": {\"frequency\": 1428, \"value\": \"Andrew Bird\"}, \"Various Artists - Delicious Vinyl\": {\"frequency\": 194, \"value\": \"Various Artists - ...\"}, \"Newton Faulkner\": {\"frequency\": 322, \"value\": \"Newton Faulkner\"}, \"Phil Wickham\": {\"frequency\": 488, \"value\": \"Phil Wickham\"}, \"The Cranberries\": {\"frequency\": 769, \"value\": \"The Cranberries\"}}, \"size\": 1491952}, \"user\": {\"complete\": true, \"numeric\": false, \"num_unique\": 110332, \"num_undefined\": 0, \"progress\": 1.0, \"frequent_items\": {}, \"size\": 1491952}, \"year\": {\"std\": 812.1587900392218, \"complete\": true, \"min\": 0.0, \"max\": 2011.0, \"quantile\": [0.0, 0.0, 0.0, 0.0, 0.0, 0.0, 0.0, 0.0, 0.0, 0.0, 0.0, 0.0, 0.0, 0.0, 0.0, 0.0, 0.0, 0.0, 0.0, 0.0, 0.0, 1959.0, 1969.0, 1972.0, 1975.0, 1979.0, 1981.0, 1983.0, 1985.0, 1987.0, 1988.0, 1990.0, 1991.0, 1992.0, 1993.0, 1994.0, 1994.0, 1995.0, 1996.0, 1997.0, 1997.0, 1998.0, 1998.0, 1999.0, 1999.0, 2000.0, 2000.0, 2000.0, 2001.0, 2001.0, 2001.0, 2002.0, 2002.0, 2002.0, 2002.0, 2003.0, 2003.0, 2003.0, 2003.0, 2004.0, 2004.0, 2004.0, 2004.0, 2005.0, 2005.0, 2005.0, 2005.0, 2005.0, 2005.0, 2006.0, 2006.0, 2006.0, 2006.0, 2006.0, 2007.0, 2007.0, 2007.0, 2007.0, 2007.0, 2007.0, 2007.0, 2007.0, 2008.0, 2008.0, 2008.0, 2008.0, 2008.0, 2008.0, 2008.0, 2009.0, 2009.0, 2009.0, 2009.0, 2009.0, 2009.0, 2009.0, 2009.0, 2010.0, 2010.0, 2010.0, 2011.0], \"median\": 2001.0, \"numeric\": true, \"num_unique\": 78, \"num_undefined\": 0, \"var\": 659601.9002379728, \"progress\": 1.0, \"size\": 1491952, \"frequent_items\": {\"0\": {\"frequency\": 310497, \"value\": 0}, \"1922\": {\"frequency\": 1, \"value\": 1922}, \"1927\": {\"frequency\": 4, \"value\": 1927}, \"1928\": {\"frequency\": 3, \"value\": 1928}, \"1929\": {\"frequency\": 36, \"value\": 1929}, \"1930\": {\"frequency\": 19, \"value\": 1930}, \"1931\": {\"frequency\": 6, \"value\": 1931}, \"1934\": {\"frequency\": 2, \"value\": 1934}, \"1937\": {\"frequency\": 21, \"value\": 1937}, \"1939\": {\"frequency\": 1, \"value\": 1939}, \"1943\": {\"frequency\": 4, \"value\": 1943}, \"1945\": {\"frequency\": 4, \"value\": 1945}, \"1946\": {\"frequency\": 13, \"value\": 1946}, \"1947\": {\"frequency\": 11, \"value\": 1947}, \"1948\": {\"frequency\": 7, \"value\": 1948}, \"1949\": {\"frequency\": 16, \"value\": 1949}, \"1950\": {\"frequency\": 17, \"value\": 1950}, \"1951\": {\"frequency\": 12, \"value\": 1951}, \"1952\": {\"frequency\": 8, \"value\": 1952}, \"1953\": {\"frequency\": 44, \"value\": 1953}, \"1954\": {\"frequency\": 84, \"value\": 1954}, \"1955\": {\"frequency\": 98, \"value\": 1955}, \"1956\": {\"frequency\": 342, \"value\": 1956}, \"1957\": {\"frequency\": 412, \"value\": 1957}, \"1958\": {\"frequency\": 635, \"value\": 1958}, \"1959\": {\"frequency\": 734, \"value\": 1959}, \"1960\": {\"frequency\": 605, \"value\": 1960}, \"1961\": {\"frequency\": 374, \"value\": 1961}, \"1962\": {\"frequency\": 857, \"value\": 1962}, \"1963\": {\"frequency\": 1017, \"value\": 1963}, \"1964\": {\"frequency\": 1270, \"value\": 1964}, \"1965\": {\"frequency\": 2118, \"value\": 1965}, \"1966\": {\"frequency\": 2141, \"value\": 1966}, \"1967\": {\"frequency\": 2903, \"value\": 1967}, \"1968\": {\"frequency\": 3799, \"value\": 1968}, \"1969\": {\"frequency\": 4108, \"value\": 1969}, \"1970\": {\"frequency\": 5515, \"value\": 1970}, \"1971\": {\"frequency\": 3268, \"value\": 1971}, \"1972\": {\"frequency\": 3731, \"value\": 1972}, \"1973\": {\"frequency\": 4484, \"value\": 1973}, \"1974\": {\"frequency\": 6530, \"value\": 1974}, \"1975\": {\"frequency\": 4426, \"value\": 1975}, \"1976\": {\"frequency\": 4483, \"value\": 1976}, \"1977\": {\"frequency\": 3974, \"value\": 1977}, \"1978\": {\"frequency\": 5415, \"value\": 1978}, \"1979\": {\"frequency\": 6123, \"value\": 1979}, \"1980\": {\"frequency\": 5129, \"value\": 1980}, \"1981\": {\"frequency\": 5434, \"value\": 1981}, \"1982\": {\"frequency\": 7331, \"value\": 1982}, \"1983\": {\"frequency\": 6433, \"value\": 1983}, \"1984\": {\"frequency\": 7928, \"value\": 1984}, \"1985\": {\"frequency\": 6518, \"value\": 1985}, \"1986\": {\"frequency\": 11294, \"value\": 1986}, \"1987\": {\"frequency\": 10056, \"value\": 1987}, \"1988\": {\"frequency\": 9788, \"value\": 1988}, \"1989\": {\"frequency\": 9231, \"value\": 1989}, \"1990\": {\"frequency\": 14876, \"value\": 1990}, \"1991\": {\"frequency\": 15433, \"value\": 1991}, \"1992\": {\"frequency\": 17333, \"value\": 1992}, \"1993\": {\"frequency\": 15184, \"value\": 1993}, \"1994\": {\"frequency\": 18411, \"value\": 1994}, \"1995\": {\"frequency\": 21382, \"value\": 1995}, \"1996\": {\"frequency\": 22414, \"value\": 1996}, \"1997\": {\"frequency\": 27515, \"value\": 1997}, \"1998\": {\"frequency\": 22549, \"value\": 1998}, \"1999\": {\"frequency\": 32050, \"value\": 1999}, \"2000\": {\"frequency\": 42980, \"value\": 2000}, \"2001\": {\"frequency\": 47183, \"value\": 2001}, \"2002\": {\"frequency\": 51522, \"value\": 2002}, \"2003\": {\"frequency\": 72548, \"value\": 2003}, \"2004\": {\"frequency\": 58737, \"value\": 2004}, \"2005\": {\"frequency\": 79921, \"value\": 2005}, \"2006\": {\"frequency\": 87446, \"value\": 2006}, \"2007\": {\"frequency\": 108700, \"value\": 2007}, \"2008\": {\"frequency\": 111782, \"value\": 2008}, \"2009\": {\"frequency\": 119827, \"value\": 2009}, \"2010\": {\"frequency\": 44844, \"value\": 2010}, \"2011\": {\"frequency\": 1, \"value\": 2011}}, \"mean\": 1584.1461186418846}, \"release\": {\"complete\": true, \"numeric\": false, \"num_unique\": 53658, \"num_undefined\": 0, \"progress\": 1.0, \"frequent_items\": {\"Dangerously In Love\": {\"frequency\": 1033, \"value\": \"Dangerously In ...\"}, \"Tim's Bio\": {\"frequency\": 163, \"value\": \"Tim's Bio\"}, \"Black Cherry\": {\"frequency\": 173, \"value\": \"Black Cherry\"}, \"Madvillainy\": {\"frequency\": 214, \"value\": \"Madvillainy\"}, \"Hometowns\": {\"frequency\": 185, \"value\": \"Hometowns\"}, \"Mad Season\": {\"frequency\": 155, \"value\": \"Mad Season\"}, \"Jukebox\": {\"frequency\": 195, \"value\": \"Jukebox\"}, \"The Fragile\": {\"frequency\": 264, \"value\": \"The Fragile\"}, \"Spectators\": {\"frequency\": 178, \"value\": \"Spectators\"}, \"Lungs\": {\"frequency\": 3263, \"value\": \"Lungs\"}, \"Teach Me How To Dougie\": {\"frequency\": 1194, \"value\": \"Teach Me How To ...\"}, \"Bringing Down The Horse\": {\"frequency\": 251, \"value\": \"Bringing Down The ...\"}, \"Everything Is Fine\": {\"frequency\": 263, \"value\": \"Everything Is Fine\"}, \"Nirvana\": {\"frequency\": 771, \"value\": \"Nirvana\"}, \"Hotel California / Pretty Maids All In A Row [Digital 45]\": {\"frequency\": 853, \"value\": \"Hotel California / ...\"}, \"We Broke The Rules\": {\"frequency\": 251, \"value\": \"We Broke The Rules\"}, \"All I Can Provide\": {\"frequency\": 171, \"value\": \"All I Can Provide\"}, \"Daughtry\": {\"frequency\": 244, \"value\": \"Daughtry\"}, \"B-Sides & Rarities\": {\"frequency\": 231, \"value\": \"B-Sides & Rarities\"}, \"God's Project\": {\"frequency\": 173, \"value\": \"God's Project\"}, \"Music Bank\": {\"frequency\": 201, \"value\": \"Music Bank\"}, \"Throwing Copper\": {\"frequency\": 149, \"value\": \"Throwing Copper\"}, \"Jacksonville City Nights\": {\"frequency\": 535, \"value\": \"Jacksonville City ...\"}, \"I Gotta Make It\": {\"frequency\": 216, \"value\": \"I Gotta Make It\"}, \"No Name Face\": {\"frequency\": 357, \"value\": \"No Name Face\"}, \"Death Magnetic\": {\"frequency\": 286, \"value\": \"Death Magnetic\"}, \"Doin' My Thing\": {\"frequency\": 671, \"value\": \"Doin' My Thing\"}, \"Waking Up\": {\"frequency\": 5069, \"value\": \"Waking Up\"}, \"Plastic Beach\": {\"frequency\": 548, \"value\": \"Plastic Beach\"}, \"Idealism\": {\"frequency\": 281, \"value\": \"Idealism\"}, \"Pinkerton\": {\"frequency\": 200, \"value\": \"Pinkerton\"}, \"Atonement OST\": {\"frequency\": 221, \"value\": \"Atonement OST\"}, \"Unspoken\": {\"frequency\": 237, \"value\": \"Unspoken\"}, \"Motion Sickness\": {\"frequency\": 333, \"value\": \"Motion Sickness\"}, \"Workout Holiday\": {\"frequency\": 461, \"value\": \"Workout Holiday\"}, \"In A Safe Place\": {\"frequency\": 215, \"value\": \"In A Safe Place\"}, \"Love Angel Music Baby\": {\"frequency\": 178, \"value\": \"Love Angel Music ...\"}, \"Shwayze\": {\"frequency\": 259, \"value\": \"Shwayze\"}, \"Fearless Karaoke\": {\"frequency\": 332, \"value\": \"Fearless Karaoke\"}, \"10 Jahre Gute Unterhaltung!\": {\"frequency\": 367, \"value\": \"10 Jahre Gute ...\"}, \"Drive Time Anthems\": {\"frequency\": 383, \"value\": \"Drive Time Anthems\"}, \"Cricklewood Green\": {\"frequency\": 159, \"value\": \"Cricklewood Green\"}, \"Finger Eleven\": {\"frequency\": 181, \"value\": \"Finger Eleven\"}, \"Make Her Say\": {\"frequency\": 540, \"value\": \"Make Her Say\"}, \"S & M\": {\"frequency\": 223, \"value\": \"S & M\"}, \"Must I Paint You A Picture?: The Essential Billy Bragg\": {\"frequency\": 146, \"value\": \"Must I Paint You A ...\"}, \"Live It Out\": {\"frequency\": 392, \"value\": \"Live It Out\"}, \"I AM...SASHA FIERCE\": {\"frequency\": 616, \"value\": \"I AM...SASHA ...\"}, \"Rolling Stone Original\": {\"frequency\": 159, \"value\": \"Rolling Stone ...\"}, \"King For a Day_ Fool For a Lifetime\": {\"frequency\": 159, \"value\": \"King For a Day_ ...\"}, \"The Trinity\": {\"frequency\": 290, \"value\": \"The Trinity\"}, \"Essential Reggae\": {\"frequency\": 264, \"value\": \"Essential Reggae\"}, \"Home\": {\"frequency\": 488, \"value\": \"Home\"}, \"Take Me Out\": {\"frequency\": 466, \"value\": \"Take Me Out\"}, \"Traveling Wilburys Vol. 3\": {\"frequency\": 227, \"value\": \"Traveling Wilburys ...\"}, \"Traveling Wilburys Vol. 1\": {\"frequency\": 255, \"value\": \"Traveling Wilburys ...\"}, \"Five Score And Seven Years Ago\": {\"frequency\": 179, \"value\": \"Five Score And ...\"}, \"Wolfgang Amadeus Phoenix\": {\"frequency\": 1041, \"value\": \"Wolfgang Amadeus ...\"}, \"Every Six Seconds\": {\"frequency\": 204, \"value\": \"Every Six Seconds\"}, \"Deseo Carnal\": {\"frequency\": 214, \"value\": \"Deseo Carnal\"}, \"Herzeleid\": {\"frequency\": 449, \"value\": \"Herzeleid\"}, \"Dreaming Out Loud\": {\"frequency\": 607, \"value\": \"Dreaming Out Loud\"}, \"One Ten Hundred Thousand Million\": {\"frequency\": 837, \"value\": \"One Ten Hundred ...\"}, \"Hustlenomics\": {\"frequency\": 271, \"value\": \"Hustlenomics\"}, \"The Battle Of Electricity\": {\"frequency\": 271, \"value\": \"The Battle Of ...\"}, \"High School Musical 3 - Senior Year\": {\"frequency\": 232, \"value\": \"High School ...\"}, \"Mutilation Mix\": {\"frequency\": 274, \"value\": \"Mutilation Mix\"}, \"Battle Studies\": {\"frequency\": 2805, \"value\": \"Battle Studies\"}, \"Live In Tokyo\": {\"frequency\": 169, \"value\": \"Live In Tokyo\"}, \"End Of The Millenium\": {\"frequency\": 240, \"value\": \"End Of The ...\"}, \"Voice Of Jamaica\": {\"frequency\": 148, \"value\": \"Voice Of Jamaica\"}, \"Crows Fly Black\": {\"frequency\": 157, \"value\": \"Crows Fly Black\"}, \"666 Live\": {\"frequency\": 317, \"value\": \"666 Live\"}, \"Born In Babylon (Bonus Track Version)\": {\"frequency\": 287, \"value\": \"Born In Babylon ...\"}, \"A Little Bit Longer\": {\"frequency\": 594, \"value\": \"A Little Bit ...\"}, \"De La Cabeza Con Bersuit Vergarabat\": {\"frequency\": 187, \"value\": \"De La Cabeza Con ...\"}, \"Sleep Through The Static\": {\"frequency\": 542, \"value\": \"Sleep Through The ...\"}, \"Muscle Museum\": {\"frequency\": 221, \"value\": \"Muscle Museum\"}, \"The Life Pursuit\": {\"frequency\": 203, \"value\": \"The Life Pursuit\"}, \"Fight With Tools\": {\"frequency\": 187, \"value\": \"Fight With Tools\"}, \"Rachmaninov_ Piano Concerto No.3/ Saint-Sa\\ufffd\\ufffdns_ Piano Concerto No.2\": {\"frequency\": 398, \"value\": \"Rachmaninov_ Piano ...\"}, \"Slippery When Wet: Special Edition\": {\"frequency\": 427, \"value\": \"Slippery When Wet: ...\"}, \"Make Yourself\": {\"frequency\": 351, \"value\": \"Make Yourself\"}, \"Begin To Hope\": {\"frequency\": 265, \"value\": \"Begin To Hope\"}, \"ONE\": {\"frequency\": 173, \"value\": \"ONE\"}, \"Garden State - Music From The Motion Picture\": {\"frequency\": 337, \"value\": \"Garden State - ...\"}, \"You Could Have It So Much Better\": {\"frequency\": 229, \"value\": \"You Could Have It ...\"}, \"The L Word\": {\"frequency\": 260, \"value\": \"The L Word\"}, \"LP\": {\"frequency\": 975, \"value\": \"LP\"}, \"Der K\\ufffd\\ufffdnig Der M\\ufffd\\ufffdwen\": {\"frequency\": 155, \"value\": \"Der K\\u00f6nig Der ...\"}, \"Time Bomb\": {\"frequency\": 391, \"value\": \"Time Bomb\"}, \"Fat Come Back\": {\"frequency\": 2145, \"value\": \"Fat Come Back\"}, \"III\": {\"frequency\": 341, \"value\": \"III\"}, \"Fantasies\": {\"frequency\": 1152, \"value\": \"Fantasies\"}, \"J. S. Bach: The Art of Fugue & 'Vivaldi' Solo Organ Concertos\": {\"frequency\": 184, \"value\": \"J. S. Bach: The ...\"}, \"Heartbreakers (N)\": {\"frequency\": 182, \"value\": \"Heartbreakers (N)\"}, \"Castaways and Cutouts\": {\"frequency\": 254, \"value\": \"Castaways and ...\"}, \"Live At Benaroya Hall - Oct.22_ 2003\": {\"frequency\": 155, \"value\": \"Live At Benaroya ...\"}, \"Enema Of The State\": {\"frequency\": 551, \"value\": \"Enema Of The State\"}, \"Verde Que Te Quero Rosa\": {\"frequency\": 202, \"value\": \"Verde Que Te Quero ...\"}, \"Narrow Stairs\": {\"frequency\": 215, \"value\": \"Narrow Stairs\"}, \"Anywhere But Home (Live)\": {\"frequency\": 268, \"value\": \"Anywhere But Home ...\"}, \"Dans Ma Bulle\": {\"frequency\": 274, \"value\": \"Dans Ma Bulle\"}, \"In Our Nature\": {\"frequency\": 224, \"value\": \"In Our Nature\"}, \"My World\": {\"frequency\": 722, \"value\": \"My World\"}, \"Lords Of Dogtown\": {\"frequency\": 159, \"value\": \"Lords Of Dogtown\"}, \"Leave This Town\": {\"frequency\": 243, \"value\": \"Leave This Town\"}, \"Out Of The Vein\": {\"frequency\": 370, \"value\": \"Out Of The Vein\"}, \"The Gulag Orkestar\": {\"frequency\": 780, \"value\": \"The Gulag Orkestar\"}, \"Pubs_ Trucks & Plains\": {\"frequency\": 176, \"value\": \"Pubs_ Trucks & ...\"}, \"Creamfields 10 Years\": {\"frequency\": 161, \"value\": \"Creamfields 10 ...\"}, \"Karaoke Monthly Vol. 2 (January 2010)\": {\"frequency\": 2725, \"value\": \"Karaoke Monthly ...\"}, \"The Swell Season\": {\"frequency\": 343, \"value\": \"The Swell Season\"}, \"Original Album Classics\": {\"frequency\": 429, \"value\": \"Original Album ...\"}, \"Transformers: Revenge Of The Fallen The Album\": {\"frequency\": 381, \"value\": \"Transformers: ...\"}, \"Mail On Sunday\": {\"frequency\": 234, \"value\": \"Mail On Sunday\"}, \"The Great Escape\": {\"frequency\": 190, \"value\": \"The Great Escape\"}, \"Deja Vu\": {\"frequency\": 242, \"value\": \"Deja Vu\"}, \"Amnesia\": {\"frequency\": 325, \"value\": \"Amnesia\"}, \"Billionaire [feat. Bruno Mars]\": {\"frequency\": 1654, \"value\": \"Billionaire [feat. ...\"}, \"Hero\": {\"frequency\": 173, \"value\": \"Hero\"}, \"brand new eyes\": {\"frequency\": 232, \"value\": \"brand new eyes\"}, \"Full Clip: A Decade Of Gang Starr\": {\"frequency\": 169, \"value\": \"Full Clip: A ...\"}, \"Let Go\": {\"frequency\": 424, \"value\": \"Let Go\"}, \"No Need To Argue (The Complete Sessions 1994-1995)\": {\"frequency\": 151, \"value\": \"No Need To Argue ...\"}, \"Lips Of An Angel\": {\"frequency\": 197, \"value\": \"Lips Of An Angel\"}, \"Jagged Little Pill\": {\"frequency\": 171, \"value\": \"Jagged Little Pill\"}, \"R&B Love Songs 2010\": {\"frequency\": 374, \"value\": \"R&B Love Songs ...\"}, \"This Side\": {\"frequency\": 142, \"value\": \"This Side\"}, \"War Elephant\": {\"frequency\": 195, \"value\": \"War Elephant\"}, \"Chris Brown\": {\"frequency\": 219, \"value\": \"Chris Brown\"}, \"Led Zeppelin III\": {\"frequency\": 151, \"value\": \"Led Zeppelin III\"}, \"Dub Side Of The Moon\": {\"frequency\": 281, \"value\": \"Dub Side Of The ...\"}, \"Big Iron World\": {\"frequency\": 176, \"value\": \"Big Iron World\"}, \"Stand Up And Scream\": {\"frequency\": 640, \"value\": \"Stand Up And ...\"}, \"Big Tunes - Back 2 The 80s\": {\"frequency\": 176, \"value\": \"Big Tunes - Back 2 ...\"}, \"Four\": {\"frequency\": 150, \"value\": \"Four\"}, \"Oi Oi oi\": {\"frequency\": 511, \"value\": \"Oi Oi oi\"}, \"Old World Underground_ Where Are You Now?\": {\"frequency\": 187, \"value\": \"Old World ...\"}, \"Now That's What I Call Music! Vol. 14\": {\"frequency\": 182, \"value\": \"Now That's What I ...\"}, \"The Anthology\": {\"frequency\": 432, \"value\": \"The Anthology\"}, \"The Real Thing: Words & Sounds Vol 3\": {\"frequency\": 156, \"value\": \"The Real Thing: ...\"}, \"The Boombastic Collection - Best of Shaggy\": {\"frequency\": 246, \"value\": \"The Boombastic ...\"}, \"Morning View\": {\"frequency\": 218, \"value\": \"Morning View\"}, \"Discovery\": {\"frequency\": 1665, \"value\": \"Discovery\"}, \"Daft Punk Is Playing At My House\": {\"frequency\": 172, \"value\": \"Daft Punk Is ...\"}, \"How To Save A Life\": {\"frequency\": 157, \"value\": \"How To Save A Life\"}, \"R&B Love Collection 08\": {\"frequency\": 811, \"value\": \"R&B Love ...\"}, \"Time To Pretend\": {\"frequency\": 626, \"value\": \"Time To Pretend\"}, \"Doll Domination\": {\"frequency\": 422, \"value\": \"Doll Domination\"}, \"Sound Of Silver\": {\"frequency\": 256, \"value\": \"Sound Of Silver\"}, \"Shock 'N Y'all\": {\"frequency\": 381, \"value\": \"Shock 'N Y'all\"}, \"Hannah Montana - The Collection\": {\"frequency\": 180, \"value\": \"Hannah Montana - ...\"}, \"Hot Fuss\": {\"frequency\": 1087, \"value\": \"Hot Fuss\"}, \"Twice The Speed Of Life\": {\"frequency\": 324, \"value\": \"Twice The Speed Of ...\"}, \"Junior\": {\"frequency\": 207, \"value\": \"Junior\"}, \"Dummy\": {\"frequency\": 198, \"value\": \"Dummy\"}, \"Little Bit Of Everything\": {\"frequency\": 146, \"value\": \"Little Bit Of ...\"}, \"Grandes exitos 1991-2004\": {\"frequency\": 386, \"value\": \"Grandes exitos ...\"}, \"The Singles\": {\"frequency\": 808, \"value\": \"The Singles\"}, \"Best Of\": {\"frequency\": 757, \"value\": \"Best Of\"}, \"A Lo Cubano\": {\"frequency\": 210, \"value\": \"A Lo Cubano\"}, \"Yourself Or Someone Like You\": {\"frequency\": 433, \"value\": \"Yourself Or ...\"}, \"Come What[ever] May\": {\"frequency\": 218, \"value\": \"Come What[ever] ...\"}, \"Unbreakable\": {\"frequency\": 189, \"value\": \"Unbreakable\"}, \"Black Holes And Revelations\": {\"frequency\": 579, \"value\": \"Black Holes And ...\"}, \"When The World Comes Down\": {\"frequency\": 1823, \"value\": \"When The World ...\"}, \"Chau\": {\"frequency\": 200, \"value\": \"Chau\"}, \"Because Of The Times\": {\"frequency\": 948, \"value\": \"Because Of The ...\"}, \"Genetic World\": {\"frequency\": 188, \"value\": \"Genetic World\"}, \"More Adventurous\": {\"frequency\": 491, \"value\": \"More Adventurous\"}, \"Hold Time\": {\"frequency\": 206, \"value\": \"Hold Time\"}, \"Comfort Eagle\": {\"frequency\": 357, \"value\": \"Comfort Eagle\"}, \"Only Hits\": {\"frequency\": 161, \"value\": \"Only Hits\"}, \"Blueprints For City Friendships: The Anberlin Anthology\": {\"frequency\": 251, \"value\": \"Blueprints For ...\"}, \"Classic Big Tunes\": {\"frequency\": 437, \"value\": \"Classic Big Tunes\"}, \"Bred 2 Die Born 2 Live\": {\"frequency\": 538, \"value\": \"Bred 2 Die Born 2 ...\"}, \"Chunk of Change\": {\"frequency\": 260, \"value\": \"Chunk of Change\"}, \"#1s ... and then some\": {\"frequency\": 175, \"value\": \"#1s ... and then ...\"}, \"The Remixes\": {\"frequency\": 801, \"value\": \"The Remixes\"}, \"Fearless\": {\"frequency\": 3853, \"value\": \"Fearless\"}, \"It's Never Been Like That / Alphabetical\": {\"frequency\": 310, \"value\": \"It's Never Been ...\"}, \"Selected Scenes From The End Of The World\": {\"frequency\": 313, \"value\": \"Selected Scenes ...\"}, \"Snakes On A Plane [OST]\": {\"frequency\": 249, \"value\": \"Snakes On A Plane ...\"}, \"A Little More Personal (RAW)\": {\"frequency\": 169, \"value\": \"A Little More ...\"}, \"The Only Exception\": {\"frequency\": 1353, \"value\": \"The Only Exception\"}, \"Kaleidoscope\": {\"frequency\": 169, \"value\": \"Kaleidoscope\"}, \"Live at Stubb's\": {\"frequency\": 241, \"value\": \"Live at Stubb's\"}, \"Hearts On Fire\": {\"frequency\": 167, \"value\": \"Hearts On Fire\"}, \"Only Revolutions\": {\"frequency\": 310, \"value\": \"Only Revolutions\"}, \"Strict Joy [Deluxe Edition]\": {\"frequency\": 157, \"value\": \"Strict Joy [Deluxe ...\"}, \"Raro\": {\"frequency\": 243, \"value\": \"Raro\"}, \"Todo \\ufffd\\ufffdxitos 2009\": {\"frequency\": 1354, \"value\": \"Todo \\u00c9xitos 2009\"}, \"Victory\": {\"frequency\": 786, \"value\": \"Victory\"}, \"Kill The House Lights\": {\"frequency\": 298, \"value\": \"Kill The House ...\"}, \"In Between Dreams\": {\"frequency\": 2214, \"value\": \"In Between Dreams\"}, \"Shine On\": {\"frequency\": 180, \"value\": \"Shine On\"}, \"Joao Gilberto\": {\"frequency\": 158, \"value\": \"Joao Gilberto\"}, \"The Real Thing\": {\"frequency\": 277, \"value\": \"The Real Thing\"}, \"The Man in a Blue Turban with Face\": {\"frequency\": 294, \"value\": \"The Man in a Blue ...\"}, \"Three Cheers For Sweet Revenge\": {\"frequency\": 447, \"value\": \"Three Cheers For ...\"}, \"Lonely Runs Both Ways\": {\"frequency\": 287, \"value\": \"Lonely Runs Both ...\"}, \"21st Century Breakdown\": {\"frequency\": 304, \"value\": \"21st Century ...\"}, \"Big Echo\": {\"frequency\": 196, \"value\": \"Big Echo\"}, \"Just Like You\": {\"frequency\": 388, \"value\": \"Just Like You\"}, \"For Me_ It's You\": {\"frequency\": 514, \"value\": \"For Me_ It's You\"}, \"En Concert\": {\"frequency\": 209, \"value\": \"En Concert\"}, \"This Is... 1985\": {\"frequency\": 153, \"value\": \"This Is... 1985\"}, \"Deejay 25\": {\"frequency\": 1300, \"value\": \"Deejay 25\"}, \"Dulce Beat\": {\"frequency\": 238, \"value\": \"Dulce Beat\"}, \"True Power-Ballads / 3CD set\": {\"frequency\": 300, \"value\": \"True Power-Ballads ...\"}, \"En Tiempo De Amor\": {\"frequency\": 204, \"value\": \"En Tiempo De Amor\"}, \"Epica Etica Etnica Pathos (2008 Remastered Edition)\": {\"frequency\": 269, \"value\": \"Epica Etica Etnica ...\"}, \"Snow in June\": {\"frequency\": 148, \"value\": \"Snow in June\"}, \"Live Era '87-'93\": {\"frequency\": 1037, \"value\": \"Live Era '87-'93\"}, \"Infinite Arms\": {\"frequency\": 222, \"value\": \"Infinite Arms\"}, \"Funcrusher Plus\": {\"frequency\": 209, \"value\": \"Funcrusher Plus\"}, \"NOW Dance Anthems\": {\"frequency\": 490, \"value\": \"NOW Dance Anthems\"}, \"Friendly Fires\": {\"frequency\": 179, \"value\": \"Friendly Fires\"}, \"Hullabaloo Soundtrack\": {\"frequency\": 239, \"value\": \"Hullabaloo ...\"}, \"It's Not Me_ It's You (Special Edition)\": {\"frequency\": 174, \"value\": \"It's Not Me_ It's ...\"}, \"GOODBYE LENIN!\": {\"frequency\": 180, \"value\": \"GOODBYE LENIN!\"}, \"Hip Hop - The Collection 3\": {\"frequency\": 532, \"value\": \"Hip Hop - The ...\"}, \"Eye To The Telescope\": {\"frequency\": 300, \"value\": \"Eye To The ...\"}, \"Party Triple Set\": {\"frequency\": 383, \"value\": \"Party Triple Set\"}, \"Encore\": {\"frequency\": 279, \"value\": \"Encore\"}, \"Antidiotico\": {\"frequency\": 177, \"value\": \"Antidiotico\"}, \"100 Movie Hits\": {\"frequency\": 235, \"value\": \"100 Movie Hits\"}, \"Keasbey Nights\": {\"frequency\": 166, \"value\": \"Keasbey Nights\"}, \"Miranda directo!\": {\"frequency\": 278, \"value\": \"Miranda directo!\"}, \"Summer Love/Until The End Of Time Duet With Beyonce\": {\"frequency\": 214, \"value\": \"Summer Love/Until ...\"}, \"Voices\": {\"frequency\": 204, \"value\": \"Voices\"}, \"With Teeth\": {\"frequency\": 252, \"value\": \"With Teeth\"}, \"Massive R&B Spring 2010\": {\"frequency\": 493, \"value\": \"Massive R&B Spring ...\"}, \"Biggest Bluest Hi-Fi\": {\"frequency\": 251, \"value\": \"Biggest Bluest Hi- ...\"}, \"Remember Cat Stevens - The Ultimate Collection (Ecopac)\": {\"frequency\": 242, \"value\": \"Remember Cat ...\"}, \"Back Of My Lac'\": {\"frequency\": 209, \"value\": \"Back Of My Lac'\"}, \"Dear Catastrophe Waitress\": {\"frequency\": 167, \"value\": \"Dear Catastrophe ...\"}, \"Union\": {\"frequency\": 212, \"value\": \"Union\"}, \"Underground Vol. I\": {\"frequency\": 242, \"value\": \"Underground Vol. I\"}, \"Set It Off\": {\"frequency\": 199, \"value\": \"Set It Off\"}, \"Holidays & Hits\": {\"frequency\": 271, \"value\": \"Holidays & Hits\"}, \"Confessions\": {\"frequency\": 897, \"value\": \"Confessions\"}, \"Born Again\": {\"frequency\": 449, \"value\": \"Born Again\"}, \"Tiny Vipers\": {\"frequency\": 460, \"value\": \"Tiny Vipers\"}, \"Crazy World\": {\"frequency\": 187, \"value\": \"Crazy World\"}, \"No Way Down\": {\"frequency\": 497, \"value\": \"No Way Down\"}, \"Bis\": {\"frequency\": 231, \"value\": \"Bis\"}, \"Life After Death\": {\"frequency\": 182, \"value\": \"Life After Death\"}, \"Shock Value\": {\"frequency\": 574, \"value\": \"Shock Value\"}, \"Bitter Sweet Symphony\": {\"frequency\": 1077, \"value\": \"Bitter Sweet ...\"}, \"Rage Against The Machine / Evil Empire (Coffret 2 CD)\": {\"frequency\": 318, \"value\": \"Rage Against The ...\"}, \"Message In A Box\": {\"frequency\": 206, \"value\": \"Message In A Box\"}, \"Relapse: Refill\": {\"frequency\": 1740, \"value\": \"Relapse: Refill\"}, \"Clock EP\": {\"frequency\": 318, \"value\": \"Clock EP\"}, \"King Of Kings\": {\"frequency\": 223, \"value\": \"King Of Kings\"}, \"Hannah Montana The Movie\": {\"frequency\": 1008, \"value\": \"Hannah Montana The ...\"}, \"The Complete Led Zeppelin\": {\"frequency\": 212, \"value\": \"The Complete Led ...\"}, \"Loso's Way\": {\"frequency\": 161, \"value\": \"Loso's Way\"}, \"Glee\": {\"frequency\": 166, \"value\": \"Glee\"}, \"Portishead\": {\"frequency\": 358, \"value\": \"Portishead\"}, \"iTunes Originals\": {\"frequency\": 150, \"value\": \"iTunes Originals\"}, \"The Best Of Sade\": {\"frequency\": 630, \"value\": \"The Best Of Sade\"}, \"Scissors In My Pocket\": {\"frequency\": 228, \"value\": \"Scissors In My ...\"}, \"Best - The Greatest Hits\": {\"frequency\": 164, \"value\": \"Best - The ...\"}, \"Human After All\": {\"frequency\": 502, \"value\": \"Human After All\"}, \"Come Clean\": {\"frequency\": 310, \"value\": \"Come Clean\"}, \"For Those Who Have Heart [Re-Issue]\": {\"frequency\": 320, \"value\": \"For Those Who Have ...\"}, \"Frank & Back to Black\": {\"frequency\": 525, \"value\": \"Frank & Back to ...\"}, \"Rise\": {\"frequency\": 148, \"value\": \"Rise\"}, \"More Than A Game\": {\"frequency\": 230, \"value\": \"More Than A Game\"}, \"The Best of Bobby McFerrin\": {\"frequency\": 183, \"value\": \"The Best of Bobby ...\"}, \"Hitzone 38\": {\"frequency\": 608, \"value\": \"Hitzone 38\"}, \"THE E.N.D. (THE ENERGY NEVER DIES)\": {\"frequency\": 1154, \"value\": \"THE E.N.D. (THE ...\"}, \"Viva La Vida Or Death And All His Friends\": {\"frequency\": 576, \"value\": \"Viva La Vida Or ...\"}, \"Grammy Rap Nominees 2000\": {\"frequency\": 553, \"value\": \"Grammy Rap ...\"}, \"One Love\": {\"frequency\": 149, \"value\": \"One Love\"}, \"Brianstorm\": {\"frequency\": 152, \"value\": \"Brianstorm\"}, \"Words Are Dead\": {\"frequency\": 164, \"value\": \"Words Are Dead\"}, \"The Sound Of The Smiths\": {\"frequency\": 496, \"value\": \"The Sound Of The ...\"}, \"The Essential Michael Jackson\": {\"frequency\": 330, \"value\": \"The Essential ...\"}, \"Este Fuerte Viento Que Sopla\": {\"frequency\": 177, \"value\": \"Este Fuerte Viento ...\"}, \"B.o.B Presents: The Adventures of Bobby Ray\": {\"frequency\": 1178, \"value\": \"B.o.B Presents: ...\"}, \"Eternal Flame\": {\"frequency\": 181, \"value\": \"Eternal Flame\"}, \"Monkey Business\": {\"frequency\": 552, \"value\": \"Monkey Business\"}, \"Raditude\": {\"frequency\": 309, \"value\": \"Raditude\"}, \"Nothin' On You [feat. Bruno Mars]\": {\"frequency\": 1173, \"value\": \"Nothin' On You ...\"}, \"When I'm Gone Hit Pack\": {\"frequency\": 202, \"value\": \"When I'm Gone Hit ...\"}, \"One Life Stand\": {\"frequency\": 392, \"value\": \"One Life Stand\"}, \"Hit Collection - Edition\": {\"frequency\": 176, \"value\": \"Hit Collection - ...\"}, \"La Argentinidad Al Palo\": {\"frequency\": 249, \"value\": \"La Argentinidad Al ...\"}, \"The Mirror Conspiracy\": {\"frequency\": 211, \"value\": \"The Mirror ...\"}, \"Full Circle\": {\"frequency\": 467, \"value\": \"Full Circle\"}, \"Cassie\": {\"frequency\": 409, \"value\": \"Cassie\"}, \"Closer\": {\"frequency\": 252, \"value\": \"Closer\"}, \"The Black Parade\": {\"frequency\": 305, \"value\": \"The Black Parade\"}, \"So Wrong_ It's Right\": {\"frequency\": 257, \"value\": \"So Wrong_ It's ...\"}, \"Capitol Gold: The Best Of Tavares\": {\"frequency\": 245, \"value\": \"Capitol Gold: The ...\"}, \"Skinny Jeanz And A Mic\": {\"frequency\": 377, \"value\": \"Skinny Jeanz And A ...\"}, \"Kill 'Em All\": {\"frequency\": 183, \"value\": \"Kill 'Em All\"}, \"True School Party\": {\"frequency\": 176, \"value\": \"True School Party\"}, \"Eenie Meenie\": {\"frequency\": 930, \"value\": \"Eenie Meenie\"}, \"Six Feet Under - Everything Ends\": {\"frequency\": 341, \"value\": \"Six Feet Under - ...\"}, \"Save Me_ San Francisco\": {\"frequency\": 5305, \"value\": \"Save Me_ San ...\"}, \"In Rainbows\": {\"frequency\": 755, \"value\": \"In Rainbows\"}, \"You Are Free\": {\"frequency\": 196, \"value\": \"You Are Free\"}, \"Turn it Up\": {\"frequency\": 175, \"value\": \"Turn it Up\"}, \"Mi Reflejo\": {\"frequency\": 150, \"value\": \"Mi Reflejo\"}, \"Life On The Murder Scene\": {\"frequency\": 219, \"value\": \"Life On The Murder ...\"}, \"La Renga\": {\"frequency\": 159, \"value\": \"La Renga\"}, \"The Slim Shady LP\": {\"frequency\": 1106, \"value\": \"The Slim Shady LP\"}, \"Animales\": {\"frequency\": 162, \"value\": \"Animales\"}, \"Onnelliset Kohtaa\": {\"frequency\": 152, \"value\": \"Onnelliset Kohtaa\"}, \"Tonight And Forever\": {\"frequency\": 161, \"value\": \"Tonight And ...\"}, \"Check Your Head\": {\"frequency\": 722, \"value\": \"Check Your Head\"}, \"ESSENTIAL 08\": {\"frequency\": 221, \"value\": \"ESSENTIAL 08\"}, \"Don't Forget\": {\"frequency\": 373, \"value\": \"Don't Forget\"}, \"Crunk Juice\": {\"frequency\": 325, \"value\": \"Crunk Juice\"}, \"Six Demon Bag\": {\"frequency\": 502, \"value\": \"Six Demon Bag\"}, \"Messengers\": {\"frequency\": 187, \"value\": \"Messengers\"}, \"The Way Of The Fist\": {\"frequency\": 343, \"value\": \"The Way Of The ...\"}, \"Cooler Than Me\": {\"frequency\": 215, \"value\": \"Cooler Than Me\"}, \"LOL\": {\"frequency\": 324, \"value\": \"LOL\"}, \"Colour Collection\": {\"frequency\": 164, \"value\": \"Colour Collection\"}, \"The Very Best Of Sting And The Police\": {\"frequency\": 163, \"value\": \"The Very Best Of ...\"}, \"Breakaway\": {\"frequency\": 249, \"value\": \"Breakaway\"}, \"Whatcha Say\": {\"frequency\": 854, \"value\": \"Whatcha Say\"}, \"Stop\": {\"frequency\": 172, \"value\": \"Stop\"}, \"To Die For\": {\"frequency\": 510, \"value\": \"To Die For\"}, \"White Moth\": {\"frequency\": 181, \"value\": \"White Moth\"}, \"Maybe You've Been Brainwashed Too\": {\"frequency\": 384, \"value\": \"Maybe You've Been ...\"}, \"The Execution Of All Things\": {\"frequency\": 285, \"value\": \"The Execution Of ...\"}, \"Crystal Castles ( II )\": {\"frequency\": 448, \"value\": \"Crystal Castles ( ...\"}, \"Where The Light Is: John Mayer Live In Los Angeles\": {\"frequency\": 662, \"value\": \"Where The Light ...\"}, \"Blood Bank\": {\"frequency\": 182, \"value\": \"Blood Bank\"}, \"Collective Soul\": {\"frequency\": 159, \"value\": \"Collective Soul\"}, \"The Outsiders\": {\"frequency\": 291, \"value\": \"The Outsiders\"}, \"Watermark\": {\"frequency\": 274, \"value\": \"Watermark\"}, \"The Documentary\": {\"frequency\": 156, \"value\": \"The Documentary\"}, \"Incredibad\": {\"frequency\": 2007, \"value\": \"Incredibad\"}, \"808s & Heartbreak\": {\"frequency\": 759, \"value\": \"808s & Heartbreak\"}, \"Songs About Jane\": {\"frequency\": 420, \"value\": \"Songs About Jane\"}, \"Swan Songs\": {\"frequency\": 1311, \"value\": \"Swan Songs\"}, \"Call the Doctor\": {\"frequency\": 174, \"value\": \"Call the Doctor\"}, \"Calle 13 (Explicit Version)\": {\"frequency\": 497, \"value\": \"Calle 13 (Explicit ...\"}, \"Nothing Personal\": {\"frequency\": 501, \"value\": \"Nothing Personal\"}, \"Heart Full of Wine\": {\"frequency\": 321, \"value\": \"Heart Full of Wine\"}, \"War All The Time\": {\"frequency\": 150, \"value\": \"War All The Time\"}, \"All My Friends\": {\"frequency\": 162, \"value\": \"All My Friends\"}, \"Out Of My Hands\": {\"frequency\": 174, \"value\": \"Out Of My Hands\"}, \"Wave Of Mutilation: Best Of Pixies\": {\"frequency\": 790, \"value\": \"Wave Of ...\"}, \"Less And Less And I Don't Love You Anymore\": {\"frequency\": 367, \"value\": \"Less And Less And ...\"}, \"Supply And Demand\": {\"frequency\": 162, \"value\": \"Supply And Demand\"}, \"Heligoland\": {\"frequency\": 392, \"value\": \"Heligoland\"}, \"Hits The Very Best Of Erasure\": {\"frequency\": 225, \"value\": \"Hits The Very Best ...\"}, \"Based on a True Story\": {\"frequency\": 194, \"value\": \"Based on a True ...\"}, \"Declaration Of Dependence\": {\"frequency\": 161, \"value\": \"Declaration Of ...\"}, \"The Last Kiss\": {\"frequency\": 416, \"value\": \"The Last Kiss\"}, \"Alice\": {\"frequency\": 173, \"value\": \"Alice\"}, \"Devil's Playground\": {\"frequency\": 149, \"value\": \"Devil's Playground\"}, \"All Of A Sudden I Miss Everyone\": {\"frequency\": 218, \"value\": \"All Of A Sudden I ...\"}, \"Cowboys From Hell\": {\"frequency\": 231, \"value\": \"Cowboys From Hell\"}, \"It's Blitz!\": {\"frequency\": 1000, \"value\": \"It's Blitz!\"}, \"R&B: From Doo-Wop To Hip-Hop\": {\"frequency\": 257, \"value\": \"R&B: From Doo-Wop ...\"}, \"All Hope Is Gone\": {\"frequency\": 162, \"value\": \"All Hope Is Gone\"}, \"Heart\": {\"frequency\": 250, \"value\": \"Heart\"}, \"So Much More\": {\"frequency\": 194, \"value\": \"So Much More\"}, \"The College Dropout\": {\"frequency\": 526, \"value\": \"The College ...\"}, \"Greatest Hits [The Atlantic Years]\": {\"frequency\": 492, \"value\": \"Greatest Hits [The ...\"}, \"Prince\": {\"frequency\": 138, \"value\": \"Prince\"}, \"Big Boi & Dre Present_ Outkast\": {\"frequency\": 417, \"value\": \"Big Boi & Dre ...\"}, \"Pure Frosting\": {\"frequency\": 171, \"value\": \"Pure Frosting\"}, \"Labcabincalifornia\": {\"frequency\": 225, \"value\": \"Labcabincalifornia\"}, \"Lunas Rotas: De casa a las ventas\": {\"frequency\": 194, \"value\": \"Lunas Rotas: De ...\"}, \"There Is Love In You\": {\"frequency\": 206, \"value\": \"There Is Love In ...\"}, \"Everything Is Everything\": {\"frequency\": 165, \"value\": \"Everything Is ...\"}, \"Tri-polar\": {\"frequency\": 312, \"value\": \"Tri-polar\"}, \"Ultimate R&B Love 2009\": {\"frequency\": 874, \"value\": \"Ultimate R&B Love ...\"}, \"We Are Young Money\": {\"frequency\": 594, \"value\": \"We Are Young Money\"}, \"Life\": {\"frequency\": 199, \"value\": \"Life\"}, \"Aha Shake Heartbreak\": {\"frequency\": 500, \"value\": \"Aha Shake ...\"}, \"The Marshall Mathers LP\": {\"frequency\": 1258, \"value\": \"The Marshall ...\"}, \"Dino Merlin - Burek\": {\"frequency\": 321, \"value\": \"Dino Merlin - ...\"}, \"blink-182\": {\"frequency\": 276, \"value\": \"blink-182\"}, \"Celebration\": {\"frequency\": 645, \"value\": \"Celebration\"}, \"Check On It\": {\"frequency\": 268, \"value\": \"Check On It\"}, \"Cool - Pop\": {\"frequency\": 263, \"value\": \"Cool - Pop\"}, \"100 Greatest Rockabilly Hits\": {\"frequency\": 197, \"value\": \"100 Greatest ...\"}, \"Walking On A Dream\": {\"frequency\": 185, \"value\": \"Walking On A Dream\"}, \"Still Not Getting Any\": {\"frequency\": 164, \"value\": \"Still Not Getting ...\"}, \"Everytime We Touch\": {\"frequency\": 155, \"value\": \"Everytime We Touch\"}, \"Rise Or Die Trying\": {\"frequency\": 159, \"value\": \"Rise Or Die Trying\"}, \"The Warning\": {\"frequency\": 176, \"value\": \"The Warning\"}, \"Renegades\": {\"frequency\": 210, \"value\": \"Renegades\"}, \"The Velvet Underground Story 2CD Set\": {\"frequency\": 216, \"value\": \"The Velvet ...\"}, \"Blackout\": {\"frequency\": 152, \"value\": \"Blackout\"}, \"Good Girl Gone Bad: Reloaded\": {\"frequency\": 441, \"value\": \"Good Girl Gone ...\"}, \"I Feel Free - Ultimate Cream\": {\"frequency\": 257, \"value\": \"I Feel Free - ...\"}, \"The Best Of Me\": {\"frequency\": 198, \"value\": \"The Best Of Me\"}, \"Random Album Title \": {\"frequency\": 359, \"value\": \"Random Album Title\"}, \"Paint The Sky With Stars\": {\"frequency\": 293, \"value\": \"Paint The Sky With ...\"}, \"Waxing Off: Delicious Vinyl's Greatest Hits\": {\"frequency\": 194, \"value\": \"Waxing Off: ...\"}, \"The Private Press\": {\"frequency\": 167, \"value\": \"The Private Press\"}, \"Tha Carter III\": {\"frequency\": 499, \"value\": \"Tha Carter III\"}, \"Calle 13 (Clean Version)\": {\"frequency\": 259, \"value\": \"Calle 13 (Clean ...\"}, \"The Day After\": {\"frequency\": 220, \"value\": \"The Day After\"}, \"\\ufffd\\ufffd3 Greatest Hits 46\": {\"frequency\": 213, \"value\": \"\\u00d63 Greatest Hits ...\"}, \"Influencia\": {\"frequency\": 163, \"value\": \"Influencia\"}, \"Keep On Your Mean Side\": {\"frequency\": 535, \"value\": \"Keep On Your Mean ...\"}, \"Mer De Noms\": {\"frequency\": 324, \"value\": \"Mer De Noms\"}, \"Dance_ Dance\": {\"frequency\": 228, \"value\": \"Dance_ Dance\"}, \"It's Not Me_ It's You\": {\"frequency\": 564, \"value\": \"It's Not Me_ It's ...\"}, \"You're A Woman_ I'm A Machine\": {\"frequency\": 162, \"value\": \"You're A Woman_ ...\"}, \"My Balls And My Word (Explicit)\": {\"frequency\": 374, \"value\": \"My Balls And My ...\"}, \"New Soul\": {\"frequency\": 180, \"value\": \"New Soul\"}, \"New Masters\": {\"frequency\": 174, \"value\": \"New Masters\"}, \"Use Your Illusion\": {\"frequency\": 264, \"value\": \"Use Your Illusion\"}, \"Congratulations\": {\"frequency\": 334, \"value\": \"Congratulations\"}, \"What If We\": {\"frequency\": 156, \"value\": \"What If We\"}, \"ONE BY ONE\": {\"frequency\": 395, \"value\": \"ONE BY ONE\"}, \"O.C.M.S.\": {\"frequency\": 253, \"value\": \"O.C.M.S.\"}, \"Balkan Beat Box\": {\"frequency\": 222, \"value\": \"Balkan Beat Box\"}, \"The Velvet Underground & Nico\": {\"frequency\": 376, \"value\": \"The Velvet ...\"}, \"Carnavas\": {\"frequency\": 259, \"value\": \"Carnavas\"}, \"My Paper Heart\": {\"frequency\": 324, \"value\": \"My Paper Heart\"}, \"Till The Sun Turns Black\": {\"frequency\": 233, \"value\": \"Till The Sun Turns ...\"}, \"Through The Wire\": {\"frequency\": 406, \"value\": \"Through The Wire\"}, \"Modjo\": {\"frequency\": 183, \"value\": \"Modjo\"}, \"Hope For The Hopeless\": {\"frequency\": 156, \"value\": \"Hope For The ...\"}, \"Break The Cycle\": {\"frequency\": 276, \"value\": \"Break The Cycle\"}, \"Enjoy The Ride\": {\"frequency\": 283, \"value\": \"Enjoy The Ride\"}, \"Californication\": {\"frequency\": 734, \"value\": \"Californication\"}, \"Anthology\": {\"frequency\": 702, \"value\": \"Anthology\"}, \"Hello World - The Motown Solo Collection\": {\"frequency\": 153, \"value\": \"Hello World - The ...\"}, \"Cosmo's Factory\": {\"frequency\": 283, \"value\": \"Cosmo's Factory\"}, \"The Real Thing Words & Sounds Vol 3 Deluxe Edition\": {\"frequency\": 224, \"value\": \"The Real Thing ...\"}, \"Crush\": {\"frequency\": 729, \"value\": \"Crush\"}, \"Justified\": {\"frequency\": 448, \"value\": \"Justified\"}, \"Grand Champ\": {\"frequency\": 231, \"value\": \"Grand Champ\"}, \"Amplified - A Decade Of Reinventing The Cello\": {\"frequency\": 293, \"value\": \"Amplified - A ...\"}, \"Master Of Puppets\": {\"frequency\": 1165, \"value\": \"Master Of Puppets\"}, \"Maybe I'm Dreaming\": {\"frequency\": 312, \"value\": \"Maybe I'm Dreaming\"}, \"Enemy Of The Enemy\": {\"frequency\": 177, \"value\": \"Enemy Of The Enemy\"}, \"Memento Mori\": {\"frequency\": 420, \"value\": \"Memento Mori\"}, \"The Element Of Freedom\": {\"frequency\": 241, \"value\": \"The Element Of ...\"}, \"A Day Without Rain\": {\"frequency\": 244, \"value\": \"A Day Without Rain\"}, \"One Of The Boys\": {\"frequency\": 327, \"value\": \"One Of The Boys\"}, \"Maria Gad\\ufffd\\ufffd\": {\"frequency\": 285, \"value\": \"Maria Gad\\u00fa\"}, \"The Richest Man In Babylon\": {\"frequency\": 175, \"value\": \"The Richest Man In ...\"}, \"Parachutes\": {\"frequency\": 1034, \"value\": \"Parachutes\"}, \"Yael Na\\ufffd\\ufffdm\": {\"frequency\": 181, \"value\": \"Yael Na\\u00efm\"}, \"I'm So Sick\": {\"frequency\": 166, \"value\": \"I'm So Sick\"}, \"Tennessee Pusher\": {\"frequency\": 160, \"value\": \"Tennessee Pusher\"}, \"Me & Mr Jones\": {\"frequency\": 312, \"value\": \"Me & Mr Jones\"}, \"Amelie From Montmartre\": {\"frequency\": 670, \"value\": \"Amelie From ...\"}, \"Empire\": {\"frequency\": 229, \"value\": \"Empire\"}, \"Toys In The Attic\": {\"frequency\": 311, \"value\": \"Toys In The Attic\"}, \"Reality Check\": {\"frequency\": 513, \"value\": \"Reality Check\"}, \"Black Sands\": {\"frequency\": 180, \"value\": \"Black Sands\"}, \"Day & Age\": {\"frequency\": 842, \"value\": \"Day & Age\"}, \"Funhouse: The Tour Edition\": {\"frequency\": 214, \"value\": \"Funhouse: The Tour ...\"}, \"Hip Hop The Collection 2009\": {\"frequency\": 342, \"value\": \"Hip Hop The ...\"}, \"Elephant\": {\"frequency\": 821, \"value\": \"Elephant\"}, \"Silversun Pickups Remixes\": {\"frequency\": 162, \"value\": \"Silversun Pickups ...\"}, \"Todo Cambio\": {\"frequency\": 561, \"value\": \"Todo Cambio\"}, \"Prinsen av Peking\": {\"frequency\": 190, \"value\": \"Prinsen av Peking\"}, \"Trilla\": {\"frequency\": 172, \"value\": \"Trilla\"}, \"FETENHITS - New Party Rock (set)\": {\"frequency\": 704, \"value\": \"FETENHITS - New ...\"}, \"Road To Revolution: Live At Milton Keynes\": {\"frequency\": 1470, \"value\": \"Road To ...\"}, \"Believe\": {\"frequency\": 214, \"value\": \"Believe\"}, \"One Hot Minute\": {\"frequency\": 226, \"value\": \"One Hot Minute\"}, \"In Search Of...\": {\"frequency\": 1104, \"value\": \"In Search Of...\"}, \"Greatest Hits\": {\"frequency\": 10733, \"value\": \"Greatest Hits\"}, \"A Girl Like Me\": {\"frequency\": 361, \"value\": \"A Girl Like Me\"}, \"Someone Great\": {\"frequency\": 202, \"value\": \"Someone Great\"}, \"Hit By A Train: The Best Of Old 97's\": {\"frequency\": 305, \"value\": \"Hit By A Train: ...\"}, \"Romborama\": {\"frequency\": 273, \"value\": \"Romborama\"}, \"The Family Jewels\": {\"frequency\": 248, \"value\": \"The Family Jewels\"}, \"Flyleaf\": {\"frequency\": 437, \"value\": \"Flyleaf\"}, \"Stadium Arcadium\": {\"frequency\": 880, \"value\": \"Stadium Arcadium\"}, \"I Am A Bird Now\": {\"frequency\": 152, \"value\": \"I Am A Bird Now\"}, \"The Sufferer & The Witness\": {\"frequency\": 481, \"value\": \"The Sufferer & The ...\"}, \"Away From The Sun\": {\"frequency\": 206, \"value\": \"Away From The Sun\"}, \"Easton Corbin\": {\"frequency\": 414, \"value\": \"Easton Corbin\"}, \"Acoustic Soul\": {\"frequency\": 202, \"value\": \"Acoustic Soul\"}, \"Losing Sleep\": {\"frequency\": 295, \"value\": \"Losing Sleep\"}, \"Catch You Baby\": {\"frequency\": 2115, \"value\": \"Catch You Baby\"}, \"Get Born\": {\"frequency\": 301, \"value\": \"Get Born\"}, \"ODD BLOOD\": {\"frequency\": 401, \"value\": \"ODD BLOOD\"}, \"The Heat\": {\"frequency\": 418, \"value\": \"The Heat\"}, \"Konvicted\": {\"frequency\": 272, \"value\": \"Konvicted\"}, \"Substance\": {\"frequency\": 225, \"value\": \"Substance\"}, \"The Daydream/the Disconnect\": {\"frequency\": 180, \"value\": \"The Daydream/the ...\"}, \"Irreplaceable\": {\"frequency\": 166, \"value\": \"Irreplaceable\"}, \"Red\": {\"frequency\": 195, \"value\": \"Red\"}, \"Shining Down\": {\"frequency\": 173, \"value\": \"Shining Down\"}, \"The Eminem Show\": {\"frequency\": 2524, \"value\": \"The Eminem Show\"}, \"Sunsets & Car Crashes\": {\"frequency\": 159, \"value\": \"Sunsets & Car ...\"}, \"The Open Door\": {\"frequency\": 634, \"value\": \"The Open Door\"}, \"8 Mile\": {\"frequency\": 188, \"value\": \"8 Mile\"}, \"Ultimate Summer BBQ\": {\"frequency\": 310, \"value\": \"Ultimate Summer ...\"}, \"Worldwide Underground\": {\"frequency\": 161, \"value\": \"Worldwide ...\"}, \"1234\": {\"frequency\": 173, \"value\": \"1234\"}, \"Forever\": {\"frequency\": 230, \"value\": \"Forever\"}, \"Daft Club\": {\"frequency\": 711, \"value\": \"Daft Club\"}, \"Brushfire Fairytales\": {\"frequency\": 2005, \"value\": \"Brushfire ...\"}, \"Twin Cinema\": {\"frequency\": 334, \"value\": \"Twin Cinema\"}, \"Made of Bricks\": {\"frequency\": 308, \"value\": \"Made of Bricks\"}, \"Essential R&B Hit Selection\": {\"frequency\": 647, \"value\": \"Essential R&B Hit ...\"}, \"Big Night Out\": {\"frequency\": 216, \"value\": \"Big Night Out\"}, \"Heaven & Earth\": {\"frequency\": 207, \"value\": \"Heaven & Earth\"}, \"Under My Skin\": {\"frequency\": 553, \"value\": \"Under My Skin\"}, \"Lupe Fiasco's Food & Liquor\": {\"frequency\": 394, \"value\": \"Lupe Fiasco's Food ...\"}, \"So Far Gone\": {\"frequency\": 307, \"value\": \"So Far Gone\"}, \"Daylight\": {\"frequency\": 192, \"value\": \"Daylight\"}, \"Just Great Love Songs\": {\"frequency\": 332, \"value\": \"Just Great Love ...\"}, \"The Rising Tied\": {\"frequency\": 577, \"value\": \"The Rising Tied\"}, \"Justice\": {\"frequency\": 1140, \"value\": \"Justice\"}, \"The Bends (Collectors Edition)\": {\"frequency\": 472, \"value\": \"The Bends ...\"}, \"Live In A Dive\": {\"frequency\": 458, \"value\": \"Live In A Dive\"}, \"Devils Night Initial Run\": {\"frequency\": 208, \"value\": \"Devils Night ...\"}, \"Keep on Moving\": {\"frequency\": 194, \"value\": \"Keep on Moving\"}, \"Noble Beast\": {\"frequency\": 503, \"value\": \"Noble Beast\"}, \"Without Me\": {\"frequency\": 872, \"value\": \"Without Me\"}, \"Party Rock\": {\"frequency\": 1329, \"value\": \"Party Rock\"}, \"The Unraveling\": {\"frequency\": 216, \"value\": \"The Unraveling\"}, \"Everything Goes Numb\": {\"frequency\": 181, \"value\": \"Everything Goes ...\"}, \"See You Again\": {\"frequency\": 158, \"value\": \"See You Again\"}, \"Clubbers Guide 2009\": {\"frequency\": 228, \"value\": \"Clubbers Guide ...\"}, \"The Bends\": {\"frequency\": 197, \"value\": \"The Bends\"}, \"So Far So Good\": {\"frequency\": 439, \"value\": \"So Far So Good\"}, \"What If\": {\"frequency\": 158, \"value\": \"What If\"}, \"We Were Here\": {\"frequency\": 233, \"value\": \"We Were Here\"}, \"Ma Fleur\": {\"frequency\": 166, \"value\": \"Ma Fleur\"}, \"Uka~ tu svoju ZOO\": {\"frequency\": 168, \"value\": \"Uka~ tu svoju ZOO\"}, \"Foo Fighters\": {\"frequency\": 546, \"value\": \"Foo Fighters\"}, \"Misery Loves Kompany\": {\"frequency\": 167, \"value\": \"Misery Loves ...\"}, \"Meteora\": {\"frequency\": 559, \"value\": \"Meteora\"}, \"The Dust of Retreat\": {\"frequency\": 171, \"value\": \"The Dust of ...\"}, \"A Tiempo\": {\"frequency\": 275, \"value\": \"A Tiempo\"}, \"Plug In Baby\": {\"frequency\": 163, \"value\": \"Plug In Baby\"}, \"Gorillaz\": {\"frequency\": 585, \"value\": \"Gorillaz\"}, \"Float On\": {\"frequency\": 911, \"value\": \"Float On\"}, \"I Need A Dollar\": {\"frequency\": 326, \"value\": \"I Need A Dollar\"}, \"The Moment\": {\"frequency\": 168, \"value\": \"The Moment\"}, \"Super Hits\": {\"frequency\": 394, \"value\": \"Super Hits\"}, \"The Real Testament\": {\"frequency\": 340, \"value\": \"The Real Testament\"}, \"Westing (By Musket and Sextant)\": {\"frequency\": 844, \"value\": \"Westing (By Musket ...\"}, \"Walking On A Dream (Special Edition)\": {\"frequency\": 188, \"value\": \"Walking On A Dream ...\"}, \"Don't Panic\": {\"frequency\": 381, \"value\": \"Don't Panic\"}, \"March of the Zapotec and Realpeople Holland\": {\"frequency\": 391, \"value\": \"March of the ...\"}, \"The Best Of Talking Heads\": {\"frequency\": 161, \"value\": \"The Best Of ...\"}, \"2 Em 1\": {\"frequency\": 372, \"value\": \"2 Em 1\"}, \"Bossanova\": {\"frequency\": 313, \"value\": \"Bossanova\"}, \"Tarantula\": {\"frequency\": 158, \"value\": \"Tarantula\"}, \"Taylor Swift\": {\"frequency\": 1807, \"value\": \"Taylor Swift\"}, \"Agaetis Byrjun\": {\"frequency\": 263, \"value\": \"Agaetis Byrjun\"}, \"Good Girl Gone Bad\": {\"frequency\": 260, \"value\": \"Good Girl Gone Bad\"}, \"Inhuman Rampage\": {\"frequency\": 300, \"value\": \"Inhuman Rampage\"}, \"Here Without You\": {\"frequency\": 836, \"value\": \"Here Without You\"}, \"Diggin' Deeper Volume 7\": {\"frequency\": 162, \"value\": \"Diggin' Deeper ...\"}, \"I Speak Because I Can\": {\"frequency\": 252, \"value\": \"I Speak Because I ...\"}, \"D.A.N.C.E.\": {\"frequency\": 171, \"value\": \"D.A.N.C.E.\"}, \"Complete Clapton\": {\"frequency\": 441, \"value\": \"Complete Clapton\"}, \"All We Know Is Falling\": {\"frequency\": 360, \"value\": \"All We Know Is ...\"}, \"Exclusive\": {\"frequency\": 440, \"value\": \"Exclusive\"}, \"Furr\": {\"frequency\": 169, \"value\": \"Furr\"}, \"HIStory - PAST_ PRESENT AND FUTURE - Book I\": {\"frequency\": 263, \"value\": \"HIStory - PAST_ ...\"}, \"Massive R & B - Spring 2007\": {\"frequency\": 302, \"value\": \"Massive R & B - ...\"}, \"Who Needs Pictures\": {\"frequency\": 182, \"value\": \"Who Needs Pictures\"}, \"Nino Rojo\": {\"frequency\": 234, \"value\": \"Nino Rojo\"}, \"Glitter\": {\"frequency\": 170, \"value\": \"Glitter\"}, \"Bad Moon Rising Hit Pac\": {\"frequency\": 183, \"value\": \"Bad Moon Rising ...\"}, \"A Rush Of Blood To The Head\": {\"frequency\": 2769, \"value\": \"A Rush Of Blood To ...\"}, \"Re\": {\"frequency\": 321, \"value\": \"Re\"}, \"Big Tunes Back 2 The 90s\": {\"frequency\": 177, \"value\": \"Big Tunes Back 2 ...\"}, \"If There Was A Way\": {\"frequency\": 4136, \"value\": \"If There Was A Way\"}, \"Essential Bands\": {\"frequency\": 222, \"value\": \"Essential Bands\"}, \"Headstrong\": {\"frequency\": 149, \"value\": \"Headstrong\"}, \"The Crack/Grin And Bear It\": {\"frequency\": 815, \"value\": \"The Crack/Grin And ...\"}, \"Rules\": {\"frequency\": 272, \"value\": \"Rules\"}, \"Collide\": {\"frequency\": 285, \"value\": \"Collide\"}, \"The Best Of Sugar Ray\": {\"frequency\": 173, \"value\": \"The Best Of Sugar ...\"}, \"Santogold\": {\"frequency\": 149, \"value\": \"Santogold\"}, \"Microcastle\": {\"frequency\": 188, \"value\": \"Microcastle\"}, \"Futurino\": {\"frequency\": 192, \"value\": \"Futurino\"}, \"The Sparrow And The Crow\": {\"frequency\": 160, \"value\": \"The Sparrow And ...\"}, \"Pacha Classics\": {\"frequency\": 233, \"value\": \"Pacha Classics\"}, \"Them vs. You vs. Me\": {\"frequency\": 168, \"value\": \"Them vs. You vs. ...\"}, \"Ultimate\": {\"frequency\": 153, \"value\": \"Ultimate\"}, \"Blackbird\": {\"frequency\": 193, \"value\": \"Blackbird\"}, \"Scream\": {\"frequency\": 350, \"value\": \"Scream\"}, \"Kona Town\": {\"frequency\": 501, \"value\": \"Kona Town\"}, \"Word Of Mouf\": {\"frequency\": 252, \"value\": \"Word Of Mouf\"}, \"So Much For The Afterglow\": {\"frequency\": 278, \"value\": \"So Much For The ...\"}, \"Original Hits - Pub Jukebox\": {\"frequency\": 335, \"value\": \"Original Hits - ...\"}, \"MTV Unplugged In New York\": {\"frequency\": 401, \"value\": \"MTV Unplugged In ...\"}, \"War Is The Answer\": {\"frequency\": 573, \"value\": \"War Is The Answer\"}, \"My Moon My Man\": {\"frequency\": 240, \"value\": \"My Moon My Man\"}, \"Yellow\": {\"frequency\": 1328, \"value\": \"Yellow\"}, \"Teenage dirtbag\": {\"frequency\": 289, \"value\": \"Teenage dirtbag\"}, \"Vulgar Display Of Power\": {\"frequency\": 212, \"value\": \"Vulgar Display Of ...\"}, \"Lifehouse\": {\"frequency\": 237, \"value\": \"Lifehouse\"}, \"Broken Social Scene\": {\"frequency\": 157, \"value\": \"Broken Social ...\"}, \"Serpentine Gallery - Deluxe 2005 Edition\": {\"frequency\": 451, \"value\": \"Serpentine Gallery ...\"}, \"Club Traxxx Summer Slammin'_ Vol. 3\": {\"frequency\": 983, \"value\": \"Club Traxxx Summer ...\"}, \"Peregrine\": {\"frequency\": 150, \"value\": \"Peregrine\"}, \"Live\": {\"frequency\": 649, \"value\": \"Live\"}, \"Comatose Comes Alive [Deluxe]\": {\"frequency\": 230, \"value\": \"Comatose Comes ...\"}, \"Carolina\": {\"frequency\": 601, \"value\": \"Carolina\"}, \"Vilagok Hangjai\": {\"frequency\": 207, \"value\": \"Vilagok Hangjai\"}, \"Use Your Illusion II\": {\"frequency\": 379, \"value\": \"Use Your Illusion ...\"}, \"How It Ends\": {\"frequency\": 353, \"value\": \"How It Ends\"}, \"R&B Yearbook\": {\"frequency\": 1012, \"value\": \"R&B Yearbook\"}, \"Wishmaster\": {\"frequency\": 184, \"value\": \"Wishmaster\"}, \"The Very Best Of The A&M Years (1977-1988)\": {\"frequency\": 151, \"value\": \"The Very Best Of ...\"}, \"Dropping The Writ\": {\"frequency\": 158, \"value\": \"Dropping The Writ\"}, \"The Time Of Our Lives\": {\"frequency\": 244, \"value\": \"The Time Of Our ...\"}, \"The Very Best Of Sheryl Crow\": {\"frequency\": 402, \"value\": \"The Very Best Of ...\"}, \"The Very Best Of\": {\"frequency\": 864, \"value\": \"The Very Best Of\"}, \"First Day Of My Life\": {\"frequency\": 232, \"value\": \"First Day Of My ...\"}, \"Paper Trail\": {\"frequency\": 272, \"value\": \"Paper Trail\"}, \"Come Fly With Me\": {\"frequency\": 152, \"value\": \"Come Fly With Me\"}, \"Dad's Dancing Anthems\": {\"frequency\": 322, \"value\": \"Dad's Dancing ...\"}, \"Pablo Honey (Collector's Edition)\": {\"frequency\": 237, \"value\": \"Pablo Honey ...\"}, \"Empire State Of Mind (Part II) Broken Down\": {\"frequency\": 271, \"value\": \"Empire State Of ...\"}, \"Not Fair (Clean Radio Edit)\": {\"frequency\": 214, \"value\": \"Not Fair (Clean ...\"}, \"Ocean Eyes\": {\"frequency\": 1432, \"value\": \"Ocean Eyes\"}, \"Who We Are\": {\"frequency\": 346, \"value\": \"Who We Are\"}, \"xx\": {\"frequency\": 340, \"value\": \"xx\"}, \"Mr. Marley\": {\"frequency\": 164, \"value\": \"Mr. Marley\"}, \"Echoes_ Silence_ Patience & Grace\": {\"frequency\": 616, \"value\": \"Echoes_ Silence_ ...\"}, \"A Twist In My Story\": {\"frequency\": 344, \"value\": \"A Twist In My ...\"}, \"Libertinaje\": {\"frequency\": 220, \"value\": \"Libertinaje\"}, \"The Blue Room\": {\"frequency\": 202, \"value\": \"The Blue Room\"}, \"Thickfreakness\": {\"frequency\": 195, \"value\": \"Thickfreakness\"}, \"Cult\": {\"frequency\": 138, \"value\": \"Cult\"}, \"My Worlds\": {\"frequency\": 6893, \"value\": \"My Worlds\"}, \"Dutty Rock\": {\"frequency\": 366, \"value\": \"Dutty Rock\"}, \"Exclusive - The Forever Edition\": {\"frequency\": 173, \"value\": \"Exclusive - The ...\"}, \"Dirty\": {\"frequency\": 157, \"value\": \"Dirty\"}, \"R.O.O.T.S.\": {\"frequency\": 208, \"value\": \"R.O.O.T.S.\"}, \"A Mark_ A Mission_ A Brand_ A Scar\": {\"frequency\": 248, \"value\": \"A Mark_ A Mission_ ...\"}, \"The Complete Collection (Digital Box)\": {\"frequency\": 528, \"value\": \"The Complete ...\"}, \"15\": {\"frequency\": 479, \"value\": \"15\"}, \"Every Kind Of Mood\": {\"frequency\": 961, \"value\": \"Every Kind Of Mood\"}, \"Desireless\": {\"frequency\": 205, \"value\": \"Desireless\"}, \"Yuugata Generation\": {\"frequency\": 748, \"value\": \"Yuugata Generation\"}, \"Joyful Rebellion\": {\"frequency\": 270, \"value\": \"Joyful Rebellion\"}, \"Pump It\": {\"frequency\": 413, \"value\": \"Pump It\"}, \"On and On\": {\"frequency\": 432, \"value\": \"On and On\"}, \"The Essential Collection (1965-1997)\": {\"frequency\": 228, \"value\": \"The Essential ...\"}, \"Flight Of The Conchords\": {\"frequency\": 385, \"value\": \"Flight Of The ...\"}, \"Love On The Inside\": {\"frequency\": 153, \"value\": \"Love On The Inside\"}, \"12 Stones\": {\"frequency\": 164, \"value\": \"12 Stones\"}, \"Thirteenth Step\": {\"frequency\": 348, \"value\": \"Thirteenth Step\"}, \"Feel That Fire\": {\"frequency\": 369, \"value\": \"Feel That Fire\"}, \"Eco\": {\"frequency\": 291, \"value\": \"Eco\"}, \"The Fear\": {\"frequency\": 403, \"value\": \"The Fear\"}, \"Funeral\": {\"frequency\": 456, \"value\": \"Funeral\"}, \"Original Sin\": {\"frequency\": 421, \"value\": \"Original Sin\"}, \"The Looks\": {\"frequency\": 428, \"value\": \"The Looks\"}, \"The State\": {\"frequency\": 259, \"value\": \"The State\"}, \"Halo\": {\"frequency\": 1095, \"value\": \"Halo\"}, \"Ti\\ufffd\\ufffdsto - In Search Of Sunrise 6 - Ibiza\": {\"frequency\": 348, \"value\": \"Ti\\u00ebsto - In Search ...\"}, \"Music For Movies\": {\"frequency\": 177, \"value\": \"Music For Movies\"}, \"Now Is The Time\": {\"frequency\": 211, \"value\": \"Now Is The Time\"}, \"From Argentina To The World\": {\"frequency\": 206, \"value\": \"From Argentina To ...\"}, \"Rabbit Heart EP\": {\"frequency\": 529, \"value\": \"Rabbit Heart EP\"}, \"Alright_ Still (Deluxe)\": {\"frequency\": 304, \"value\": \"Alright_ Still ...\"}, \"O Brother_ Where Art Thou?\": {\"frequency\": 230, \"value\": \"O Brother_ Where ...\"}, \"LCD Soundsystem\": {\"frequency\": 699, \"value\": \"LCD Soundsystem\"}, \"Iowa\": {\"frequency\": 268, \"value\": \"Iowa\"}, \"The Scientist\": {\"frequency\": 1735, \"value\": \"The Scientist\"}, \"Main Course\": {\"frequency\": 161, \"value\": \"Main Course\"}, \"THE DEFINITIVE GROVER WASHINGTON_ JR. - THE ELEKTRA YEARS\": {\"frequency\": 156, \"value\": \"THE DEFINITIVE ...\"}, \"UNO (95/08)\": {\"frequency\": 157, \"value\": \"UNO (95/08)\"}, \"Doll Domination 3.0\": {\"frequency\": 245, \"value\": \"Doll Domination ...\"}, \"On And On\": {\"frequency\": 990, \"value\": \"On And On\"}, \"Nothing's Shocking\": {\"frequency\": 153, \"value\": \"Nothing's Shocking\"}, \"When You're Gone\": {\"frequency\": 201, \"value\": \"When You're Gone\"}, \"X & Y\": {\"frequency\": 1656, \"value\": \"X & Y\"}, \"In Your Honour\": {\"frequency\": 321, \"value\": \"In Your Honour\"}, \"Ocean Avenue\": {\"frequency\": 683, \"value\": \"Ocean Avenue\"}, \"Takk...\": {\"frequency\": 282, \"value\": \"Takk...\"}, \"O My Heart\": {\"frequency\": 154, \"value\": \"O My Heart\"}, \"Briefcase Full Of Blues\": {\"frequency\": 200, \"value\": \"Briefcase Full Of ...\"}, \"Damnation And A Day\": {\"frequency\": 712, \"value\": \"Damnation And A ...\"}, \"Smile\": {\"frequency\": 887, \"value\": \"Smile\"}, \"Give Up\": {\"frequency\": 1526, \"value\": \"Give Up\"}, \"Midlife: A Beginner's Guide To Blur\": {\"frequency\": 164, \"value\": \"Midlife: A ...\"}, \"You're Not Alone\": {\"frequency\": 203, \"value\": \"You're Not Alone\"}, \"FutureSex/LoveSounds\": {\"frequency\": 374, \"value\": \"FutureSex/LoveSoun ...\"}, \"Awake\": {\"frequency\": 976, \"value\": \"Awake\"}, \"The Earth Is Not A Cold Dead Place\": {\"frequency\": 474, \"value\": \"The Earth Is Not A ...\"}, \"Music From The Motion Picture P.S. Ich liebe Dich\": {\"frequency\": 160, \"value\": \"Music From The ...\"}, \"Immolate Yourself\": {\"frequency\": 162, \"value\": \"Immolate Yourself\"}, \"El Cartel: The Big Boss\": {\"frequency\": 201, \"value\": \"El Cartel: The Big ...\"}, \"The Runaways - The Mercury Albums Anthology\": {\"frequency\": 241, \"value\": \"The Runaways - The ...\"}, \"Good Times_ Bad Times - Ten Years of Godsmack\": {\"frequency\": 494, \"value\": \"Good Times_ Bad ...\"}, \"Every Second Counts\": {\"frequency\": 234, \"value\": \"Every Second ...\"}, \"Corinne Bailey Rae\": {\"frequency\": 357, \"value\": \"Corinne Bailey Rae\"}, \"Sings The Greys\": {\"frequency\": 215, \"value\": \"Sings The Greys\"}, \"Simple Et Funky\": {\"frequency\": 1809, \"value\": \"Simple Et Funky\"}, \"Violator\": {\"frequency\": 195, \"value\": \"Violator\"}, \"Konk\": {\"frequency\": 373, \"value\": \"Konk\"}, \"The Winter of Mixed Drinks\": {\"frequency\": 438, \"value\": \"The Winter of ...\"}, \"Drops Of Jupiter\": {\"frequency\": 393, \"value\": \"Drops Of Jupiter\"}, \"Sin Bandera\": {\"frequency\": 164, \"value\": \"Sin Bandera\"}, \"The Cosmic Game\": {\"frequency\": 159, \"value\": \"The Cosmic Game\"}, \"Bomb In A Birdcage\": {\"frequency\": 273, \"value\": \"Bomb In A Birdcage\"}, \"By The Way\": {\"frequency\": 167, \"value\": \"By The Way\"}, \"Jingle Bells (Bass)\": {\"frequency\": 184, \"value\": \"Jingle Bells ...\"}, \"Musik mit Herz und Schwung\": {\"frequency\": 928, \"value\": \"Musik mit Herz und ...\"}, \"G N' R Lies\": {\"frequency\": 548, \"value\": \"G N' R Lies\"}, \"Jesus Walks\": {\"frequency\": 242, \"value\": \"Jesus Walks\"}, \"Best Of Bread\": {\"frequency\": 202, \"value\": \"Best Of Bread\"}, \"At The Movies\": {\"frequency\": 155, \"value\": \"At The Movies\"}, \"Somewhere In The Between\": {\"frequency\": 151, \"value\": \"Somewhere In The ...\"}, \"30 Best Trance Anthems Best Ever\": {\"frequency\": 167, \"value\": \"30 Best Trance ...\"}, \"In Concert\": {\"frequency\": 192, \"value\": \"In Concert\"}, \"Box Set\": {\"frequency\": 462, \"value\": \"Box Set\"}, \"Awake [Deluxe]\": {\"frequency\": 661, \"value\": \"Awake [Deluxe]\"}, \"101 Indie Classics\": {\"frequency\": 180, \"value\": \"101 Indie Classics\"}, \"LDN\": {\"frequency\": 590, \"value\": \"LDN\"}, \"40:04\": {\"frequency\": 170, \"value\": \"40:04\"}, \"Figure 8\": {\"frequency\": 201, \"value\": \"Figure 8\"}, \"Aerosmith\": {\"frequency\": 572, \"value\": \"Aerosmith\"}, \"3\": {\"frequency\": 194, \"value\": \"3\"}, \"DECEMBERUNDERGROUND\": {\"frequency\": 248, \"value\": \"DECEMBERUNDERGROUN ...\"}, \"Music From The Motion Picture The Assassination Of Jesse James By The Coward Robert Ford\": {\"frequency\": 155, \"value\": \"Music From The ...\"}, \"Country Grammar\": {\"frequency\": 264, \"value\": \"Country Grammar\"}, \"The Celts\": {\"frequency\": 568, \"value\": \"The Celts\"}, \"It Won't Be Soon Before Long\": {\"frequency\": 807, \"value\": \"It Won't Be Soon ...\"}, \"The Joshua Tree\": {\"frequency\": 236, \"value\": \"The Joshua Tree\"}, \"Devotion\": {\"frequency\": 199, \"value\": \"Devotion\"}, \"Box Car Racer\": {\"frequency\": 172, \"value\": \"Box Car Racer\"}, \"Dear Science_\": {\"frequency\": 177, \"value\": \"Dear Science_\"}, \"Dookie\": {\"frequency\": 227, \"value\": \"Dookie\"}, \"The Rude Awakening\": {\"frequency\": 168, \"value\": \"The Rude Awakening\"}, \"Rhino Hi-Five: Hootie & The Blowfish\": {\"frequency\": 176, \"value\": \"Rhino Hi-Five: ...\"}, \"Escape\": {\"frequency\": 178, \"value\": \"Escape\"}, \"Save The Last Dance For Me EP\": {\"frequency\": 172, \"value\": \"Save The Last ...\"}, \"Music From The Original Motion Picture Soundtrack\": {\"frequency\": 991, \"value\": \"Music From The ...\"}, \"Lambada\": {\"frequency\": 156, \"value\": \"Lambada\"}, \"Inside The Fire\": {\"frequency\": 207, \"value\": \"Inside The Fire\"}, \"Evil Empire\": {\"frequency\": 202, \"value\": \"Evil Empire\"}, \"Stone Sour\": {\"frequency\": 151, \"value\": \"Stone Sour\"}, \"Bad Boy's 10th Anniversary- The Hits\": {\"frequency\": 368, \"value\": \"Bad Boy's 10th ...\"}, \"Late Night Special\": {\"frequency\": 258, \"value\": \"Late Night Special\"}, \"Kiss & Tell\": {\"frequency\": 638, \"value\": \"Kiss & Tell\"}, \"Fleet Foxes\": {\"frequency\": 742, \"value\": \"Fleet Foxes\"}, \"Love Song\": {\"frequency\": 219, \"value\": \"Love Song\"}, \"Mezmerize\": {\"frequency\": 297, \"value\": \"Mezmerize\"}, \"Exile On Mainstream\": {\"frequency\": 437, \"value\": \"Exile On ...\"}, \"Once Again\": {\"frequency\": 157, \"value\": \"Once Again\"}, \"Dystopia\": {\"frequency\": 151, \"value\": \"Dystopia\"}, \"Volume 2: Release\": {\"frequency\": 151, \"value\": \"Volume 2: Release\"}, \"These Are The Days\": {\"frequency\": 202, \"value\": \"These Are The Days\"}, \"The Sound Of The Smiths [Deluxe Edition]\": {\"frequency\": 267, \"value\": \"The Sound Of The ...\"}, \"The Libertines\": {\"frequency\": 155, \"value\": \"The Libertines\"}, \"Tighten Up\": {\"frequency\": 942, \"value\": \"Tighten Up\"}, \"Greatest\": {\"frequency\": 153, \"value\": \"Greatest\"}, \"Crazy Ex-Girlfriend\": {\"frequency\": 188, \"value\": \"Crazy Ex- ...\"}, \"Electric Version\": {\"frequency\": 454, \"value\": \"Electric Version\"}, \"Deja Vu: The TFK Anthology\": {\"frequency\": 226, \"value\": \"Deja Vu: The TFK ...\"}, \"77 Souter'1 Vol.2\": {\"frequency\": 592, \"value\": \"77 Souter'1 Vol.2\"}, \"Little Voice\": {\"frequency\": 593, \"value\": \"Little Voice\"}, \"Twarze\": {\"frequency\": 351, \"value\": \"Twarze\"}, \"Beneath These Fireworks\": {\"frequency\": 221, \"value\": \"Beneath These ...\"}, \"Vol. 3 The Subliminal Verses\": {\"frequency\": 479, \"value\": \"Vol. 3 The ...\"}, \"Stanley Climbfall\": {\"frequency\": 154, \"value\": \"Stanley Climbfall\"}, \"Galaxy Dance Anthems\": {\"frequency\": 413, \"value\": \"Galaxy Dance ...\"}, \"I-Empire\": {\"frequency\": 214, \"value\": \"I-Empire\"}, \"90s Rock Gold\": {\"frequency\": 261, \"value\": \"90s Rock Gold\"}, \"Akron/Family & Angels Of Light\": {\"frequency\": 200, \"value\": \"Akron/Family & ...\"}, \"Divas Collection\": {\"frequency\": 161, \"value\": \"Divas Collection\"}, \"The Doughnut In Granny's Greenhouse\": {\"frequency\": 151, \"value\": \"The Doughnut In ...\"}, \"Show Your Bones\": {\"frequency\": 177, \"value\": \"Show Your Bones\"}, \"Around The Well\": {\"frequency\": 311, \"value\": \"Around The Well\"}, \"The Katie Melua Collection\": {\"frequency\": 335, \"value\": \"The Katie Melua ...\"}, \"Plans\": {\"frequency\": 405, \"value\": \"Plans\"}, \"Extreme Behavior\": {\"frequency\": 205, \"value\": \"Extreme Behavior\"}, \"Here Comes Louis Smith\": {\"frequency\": 172, \"value\": \"Here Comes Louis ...\"}, \"Memoirs of an imperfect Angel\": {\"frequency\": 279, \"value\": \"Memoirs of an ...\"}, \"Home Again\": {\"frequency\": 248, \"value\": \"Home Again\"}, \"Decade Of The Nail-spiked Bat\": {\"frequency\": 205, \"value\": \"Decade Of The ...\"}, \"Sing The Sorrow\": {\"frequency\": 252, \"value\": \"Sing The Sorrow\"}, \"Classic Big Tunes 2009\": {\"frequency\": 226, \"value\": \"Classic Big Tunes ...\"}, \"O Mundo E Um Moinho\": {\"frequency\": 274, \"value\": \"O Mundo E Um ...\"}, \"The Writing's On The Wall\": {\"frequency\": 266, \"value\": \"The Writing's On ...\"}, \"Room For Squares\": {\"frequency\": 410, \"value\": \"Room For Squares\"}, \"Carnival Ride\": {\"frequency\": 220, \"value\": \"Carnival Ride\"}, \"Kiss Presents The Mixtape\": {\"frequency\": 161, \"value\": \"Kiss Presents The ...\"}, \"Tarkan\": {\"frequency\": 155, \"value\": \"Tarkan\"}, \"The Very Best Of Enya\": {\"frequency\": 424, \"value\": \"The Very Best Of ...\"}, \"McMxc A.D.\": {\"frequency\": 317, \"value\": \"McMxc A.D.\"}, \"Learn To Live\": {\"frequency\": 685, \"value\": \"Learn To Live\"}, \"Every Breath You Take : The Classics\": {\"frequency\": 452, \"value\": \"Every Breath You ...\"}, \"#1's\": {\"frequency\": 175, \"value\": \"#1's\"}, \"Happy Nation - U.S. Version\": {\"frequency\": 167, \"value\": \"Happy Nation - ...\"}, \"A Collection\": {\"frequency\": 429, \"value\": \"A Collection\"}, \"Clara Sheller (Saison 2)\": {\"frequency\": 289, \"value\": \"Clara Sheller ...\"}, \"Emotionalism\": {\"frequency\": 340, \"value\": \"Emotionalism\"}, \"Up!\": {\"frequency\": 597, \"value\": \"Up!\"}, \"Love Vs Money\": {\"frequency\": 204, \"value\": \"Love Vs Money\"}, \"70s Gems\": {\"frequency\": 229, \"value\": \"70s Gems\"}, \"100 Chillout Classics\": {\"frequency\": 313, \"value\": \"100 Chillout ...\"}, \"Lost And Found: Love Volume 2\": {\"frequency\": 229, \"value\": \"Lost And Found: ...\"}, \"From Under The Cork Tree Limited Tour Edition\": {\"frequency\": 315, \"value\": \"From Under The ...\"}, \"Remixed\": {\"frequency\": 223, \"value\": \"Remixed\"}, \"First Impressions Of Earth\": {\"frequency\": 191, \"value\": \"First Impressions ...\"}, \"Power In Numbers\": {\"frequency\": 156, \"value\": \"Power In Numbers\"}, \"The Day That Never Comes\": {\"frequency\": 166, \"value\": \"The Day That Never ...\"}, \"Whatever And Ever Amen (Remastered Edition)\": {\"frequency\": 165, \"value\": \"Whatever And Ever ...\"}, \"Loving You\": {\"frequency\": 275, \"value\": \"Loving You\"}, \"Eclipse\": {\"frequency\": 392, \"value\": \"Eclipse\"}, \"Album of the Year\": {\"frequency\": 230, \"value\": \"Album of the Year\"}, \"NOW (That's What I Call Music) 22\": {\"frequency\": 192, \"value\": \"NOW (That's What I ...\"}, \"Hi Scores\": {\"frequency\": 165, \"value\": \"Hi Scores\"}, \"Passion: Awakening (Special Edition)\": {\"frequency\": 249, \"value\": \"Passion: Awakening ...\"}, \"Run Run Run\": {\"frequency\": 177, \"value\": \"Run Run Run\"}, \"The Best Of Johnny Winter\": {\"frequency\": 495, \"value\": \"The Best Of Johnny ...\"}, \"Songs We Sing\": {\"frequency\": 158, \"value\": \"Songs We Sing\"}, \"Paid In Full\": {\"frequency\": 230, \"value\": \"Paid In Full\"}, \"La Revancha Del Tango\": {\"frequency\": 349, \"value\": \"La Revancha Del ...\"}, \"Da Storm\": {\"frequency\": 320, \"value\": \"Da Storm\"}, \"Lucero En Vivo  Auditorio Nacional\": {\"frequency\": 155, \"value\": \"Lucero En Vivo ...\"}, \"The Definitive Collection\": {\"frequency\": 1121, \"value\": \"The Definitive ...\"}, \"Entertainment\": {\"frequency\": 171, \"value\": \"Entertainment\"}, \"Put Your Hands Up! 4\": {\"frequency\": 237, \"value\": \"Put Your Hands Up! ...\"}, \"Let's Not Forget The Story\": {\"frequency\": 716, \"value\": \"Let's Not Forget ...\"}, \"The '59 Sound\": {\"frequency\": 238, \"value\": \"The '59 Sound\"}, \"The Best Of David Bowie 1969-74\": {\"frequency\": 347, \"value\": \"The Best Of David ...\"}, \"All I Ever Wanted\": {\"frequency\": 564, \"value\": \"All I Ever Wanted\"}, \"The Platinum Collection\": {\"frequency\": 1225, \"value\": \"The Platinum ...\"}, \"Makes Me Wonder\": {\"frequency\": 199, \"value\": \"Makes Me Wonder\"}, \"Monuments And Melodies\": {\"frequency\": 335, \"value\": \"Monuments And ...\"}, \"Chronicle: 20 Greatest Hits (Ecopac)\": {\"frequency\": 179, \"value\": \"Chronicle: 20 ...\"}, \"No Doubt\": {\"frequency\": 230, \"value\": \"No Doubt\"}, \"Ruby\": {\"frequency\": 149, \"value\": \"Ruby\"}, \"The Essential Bruce Springsteen\": {\"frequency\": 263, \"value\": \"The Essential ...\"}, \"Slowly Going The Way Of The Buffalo\": {\"frequency\": 169, \"value\": \"Slowly Going The ...\"}, \"Alison Krauss + Union Station Live\": {\"frequency\": 174, \"value\": \"Alison Krauss + ...\"}, \"The Way We Talk\": {\"frequency\": 268, \"value\": \"The Way We Talk\"}, \"Challengers\": {\"frequency\": 436, \"value\": \"Challengers\"}, \"The Poison\": {\"frequency\": 447, \"value\": \"The Poison\"}, \"Let's Get Out Of This Country\": {\"frequency\": 342, \"value\": \"Let's Get Out Of ...\"}, \"You Know I'm No Good - GFK Version\": {\"frequency\": 402, \"value\": \"You Know I'm No ...\"}, \"My Maudlin Career\": {\"frequency\": 257, \"value\": \"My Maudlin Career\"}, \"The Heart Of Everything\": {\"frequency\": 210, \"value\": \"The Heart Of ...\"}, \"Goodbye\": {\"frequency\": 399, \"value\": \"Goodbye\"}, \"Rock\": {\"frequency\": 225, \"value\": \"Rock\"}, \"Como Duele\": {\"frequency\": 134, \"value\": \"Como Duele\"}, \"Amnesiac\": {\"frequency\": 185, \"value\": \"Amnesiac\"}, \"Burial\": {\"frequency\": 200, \"value\": \"Burial\"}, \"The High Road\": {\"frequency\": 241, \"value\": \"The High Road\"}, \"Revolutionary Vol. 2\": {\"frequency\": 313, \"value\": \"Revolutionary Vol. ...\"}, \"The Artist In The Ambulance\": {\"frequency\": 161, \"value\": \"The Artist In The ...\"}, \"Modbilly\": {\"frequency\": 173, \"value\": \"Modbilly\"}, \"Whispers In The Dark\": {\"frequency\": 166, \"value\": \"Whispers In The ...\"}, \"Live In Japan\": {\"frequency\": 259, \"value\": \"Live In Japan\"}, \"Rich Boy\": {\"frequency\": 254, \"value\": \"Rich Boy\"}, \"Crystal Castles\": {\"frequency\": 477, \"value\": \"Crystal Castles\"}, \"Universal Masters Collection\": {\"frequency\": 147, \"value\": \"Universal Masters ...\"}, \"Gratitud\": {\"frequency\": 273, \"value\": \"Gratitud\"}, \"My One And Only Thrill\": {\"frequency\": 188, \"value\": \"My One And Only ...\"}, \"Days Of The New II\": {\"frequency\": 296, \"value\": \"Days Of The New II\"}, \"Nova Bis-Cartola\": {\"frequency\": 2734, \"value\": \"Nova Bis-Cartola\"}, \"Retratos\": {\"frequency\": 149, \"value\": \"Retratos\"}, \"As Daylight Dies\": {\"frequency\": 306, \"value\": \"As Daylight Dies\"}, \"The Fame Monster\": {\"frequency\": 3240, \"value\": \"The Fame Monster\"}, \"Converting Vegetarians\": {\"frequency\": 422, \"value\": \"Converting ...\"}, \"Cease to Begin\": {\"frequency\": 730, \"value\": \"Cease to Begin\"}, \"Street Love\": {\"frequency\": 156, \"value\": \"Street Love\"}, \"Antidotes\": {\"frequency\": 502, \"value\": \"Antidotes\"}, \"Hotel\": {\"frequency\": 167, \"value\": \"Hotel\"}, \"The Reminder\": {\"frequency\": 176, \"value\": \"The Reminder\"}, \"Collection\": {\"frequency\": 371, \"value\": \"Collection\"}, \"Get Rich Or Die Tryin'\": {\"frequency\": 429, \"value\": \"Get Rich Or Die ...\"}, \"So Far\": {\"frequency\": 164, \"value\": \"So Far\"}, \"The Story Of My Life\": {\"frequency\": 161, \"value\": \"The Story Of My ...\"}, \"Atomic: The Very Best Of Blondie\": {\"frequency\": 154, \"value\": \"Atomic: The Very ...\"}, \"Todo A Su Tiempo\": {\"frequency\": 161, \"value\": \"Todo A Su Tiempo\"}, \"Frumpie One-Piece\": {\"frequency\": 722, \"value\": \"Frumpie One-Piece\"}, \"In A Perfect World...\": {\"frequency\": 205, \"value\": \"In A Perfect ...\"}, \"Sports\": {\"frequency\": 166, \"value\": \"Sports\"}, \"Best of the Bayou Blues\": {\"frequency\": 381, \"value\": \"Best of the Bayou ...\"}, \"The Best Damn Thing\": {\"frequency\": 161, \"value\": \"The Best Damn ...\"}, \"Grace And Gratitude\": {\"frequency\": 413, \"value\": \"Grace And ...\"}, \"Para Amarte Mejor\": {\"frequency\": 147, \"value\": \"Para Amarte Mejor\"}, \"Live at the Grand Olympic Auditorium\": {\"frequency\": 236, \"value\": \"Live at the Grand ...\"}, \"The Dresden Dolls\": {\"frequency\": 176, \"value\": \"The Dresden Dolls\"}, \"Turn Around\": {\"frequency\": 154, \"value\": \"Turn Around\"}, \"South Saturn Delta\": {\"frequency\": 291, \"value\": \"South Saturn Delta\"}, \"Present 'Picaresque'\": {\"frequency\": 183, \"value\": \"Present ...\"}, \"Wild Child OST\": {\"frequency\": 589, \"value\": \"Wild Child OST\"}, \"Grow Up and Blow Away\": {\"frequency\": 154, \"value\": \"Grow Up and Blow ...\"}, \"Kids Party Pac\": {\"frequency\": 605, \"value\": \"Kids Party Pac\"}, \"Stadium Drum and Bass\": {\"frequency\": 156, \"value\": \"Stadium Drum and ...\"}, \"Consolers Of The Lonely\": {\"frequency\": 273, \"value\": \"Consolers Of The ...\"}, \"Valerio Scanu Limited Edition\": {\"frequency\": 163, \"value\": \"Valerio Scanu ...\"}, \"The Dutchess\": {\"frequency\": 569, \"value\": \"The Dutchess\"}, \"Tijd\": {\"frequency\": 159, \"value\": \"Tijd\"}, \"Swim\": {\"frequency\": 213, \"value\": \"Swim\"}, \"blink-182 (explicit version)\": {\"frequency\": 199, \"value\": \"blink-182 ...\"}, \"The Pick Of Destiny\": {\"frequency\": 161, \"value\": \"The Pick Of ...\"}, \"The Places You Have Come To Fear The Most\": {\"frequency\": 321, \"value\": \"The Places You ...\"}, \"Blake Shelton\": {\"frequency\": 151, \"value\": \"Blake Shelton\"}, \"Unstoppable\": {\"frequency\": 170, \"value\": \"Unstoppable\"}, \"Real Girl\": {\"frequency\": 156, \"value\": \"Real Girl\"}, \"All I Really Want To Do/The Sonny Side Of Cher\": {\"frequency\": 167, \"value\": \"All I Really Want ...\"}, \"In Your Honor\": {\"frequency\": 310, \"value\": \"In Your Honor\"}, \"Reload\": {\"frequency\": 506, \"value\": \"Reload\"}, \"The Best Of 1990-2000\": {\"frequency\": 171, \"value\": \"The Best Of ...\"}, \"Super Taranta!\": {\"frequency\": 237, \"value\": \"Super Taranta!\"}, \"Audioslave\": {\"frequency\": 428, \"value\": \"Audioslave\"}, \"Almost Alice\": {\"frequency\": 330, \"value\": \"Almost Alice\"}, \"All Hour Cymbals\": {\"frequency\": 213, \"value\": \"All Hour Cymbals\"}, \"Treasure Box : The Complete Sessions 1991-99\": {\"frequency\": 159, \"value\": \"Treasure Box : The ...\"}, \"Ten Thousand Fists\": {\"frequency\": 350, \"value\": \"Ten Thousand Fists\"}, \"Waking The Fallen\": {\"frequency\": 397, \"value\": \"Waking The Fallen\"}, \"Party In The U.S.A.\": {\"frequency\": 1060, \"value\": \"Party In The ...\"}, \"Don't Stop The Music 5 Track EP\": {\"frequency\": 571, \"value\": \"Don't Stop The ...\"}, \"History Makers: Greatest Hits\": {\"frequency\": 257, \"value\": \"History Makers: ...\"}, \"Stacy's Mom\": {\"frequency\": 164, \"value\": \"Stacy's Mom\"}, \"Everready\": {\"frequency\": 150, \"value\": \"Everready\"}, \"Revolutions Per Minute\": {\"frequency\": 174, \"value\": \"Revolutions Per ...\"}, \"A Cross The Universe\": {\"frequency\": 256, \"value\": \"A Cross The ...\"}, \"rearviewmirror (greatest hits 1991-2003)\": {\"frequency\": 348, \"value\": \"rearviewmirror ...\"}, \"Lost & Found:  Eddy Grant\": {\"frequency\": 267, \"value\": \"Lost & Found: ...\"}, \"On Your Side\": {\"frequency\": 256, \"value\": \"On Your Side\"}, \"Revolucion de amor\": {\"frequency\": 150, \"value\": \"Revolucion de amor\"}, \"30 Exitos Insuperables\": {\"frequency\": 162, \"value\": \"30 Exitos ...\"}, \"Caf\\ufffd\\ufffd Del Mar: Volumen Cinco y Seis\": {\"frequency\": 192, \"value\": \"Caf\\u00e9 Del Mar: ...\"}, \"Starter For 10: Original Motion Picture Soundtrack [International]\": {\"frequency\": 204, \"value\": \"Starter For 10: ...\"}, \"Eminem Presents The Re-Up\": {\"frequency\": 148, \"value\": \"Eminem Presents ...\"}, \"Is This It\": {\"frequency\": 892, \"value\": \"Is This It\"}, \"Armada's Amsterdam Dance Event Tunes (2008)\": {\"frequency\": 193, \"value\": \"Armada's Amsterdam ...\"}, \"Take Off Your Pants And Jacket\": {\"frequency\": 237, \"value\": \"Take Off Your ...\"}, \"Comatose\": {\"frequency\": 406, \"value\": \"Comatose\"}, \"Laura Pausini\": {\"frequency\": 167, \"value\": \"Laura Pausini\"}, \"E=MC\\ufffd\\ufffd\": {\"frequency\": 324, \"value\": \"E=MC\\u00b2\"}, \"Sweat Hotel - Live\": {\"frequency\": 166, \"value\": \"Sweat Hotel - Live\"}, \"They Can't All Be Zingers\": {\"frequency\": 178, \"value\": \"They Can't All Be ...\"}, \"Celtic Woman\": {\"frequency\": 224, \"value\": \"Celtic Woman\"}, \"The Colour And The Shape (Special Edition)\": {\"frequency\": 438, \"value\": \"The Colour And The ...\"}, \"Chilled R&B Volume II\": {\"frequency\": 279, \"value\": \"Chilled R&B Volume ...\"}, \"The Real Testament [Deluxe]\": {\"frequency\": 181, \"value\": \"The Real Testament ...\"}, \"Los De Atr\\ufffd\\ufffds Vienen Conmigo\": {\"frequency\": 263, \"value\": \"Los De Atr\\u00e1s ...\"}, \"Legend Of The Black Shawarma\": {\"frequency\": 193, \"value\": \"Legend Of The ...\"}, \"Me Ver\\ufffd\\ufffds Volver (Hits & M\\ufffd\\ufffds)\": {\"frequency\": 151, \"value\": \"Me Ver\\u00e1s Volver ...\"}, \"Am Deister\": {\"frequency\": 424, \"value\": \"Am Deister\"}, \"Greatest Kiss\": {\"frequency\": 260, \"value\": \"Greatest Kiss\"}, \"Latin\": {\"frequency\": 324, \"value\": \"Latin\"}, \"Singles\": {\"frequency\": 157, \"value\": \"Singles\"}, \"The Best Of Buffalo Springfield: Retrospective\": {\"frequency\": 161, \"value\": \"The Best Of ...\"}, \"Nova Bis-Natiruts\": {\"frequency\": 889, \"value\": \"Nova Bis-Natiruts\"}, \"Minutes To Midnight\": {\"frequency\": 538, \"value\": \"Minutes To ...\"}, \"The Grascals\": {\"frequency\": 321, \"value\": \"The Grascals\"}, \"Cansei De Ser Sexy\": {\"frequency\": 166, \"value\": \"Cansei De Ser Sexy\"}, \"The Boy With The Coin\": {\"frequency\": 149, \"value\": \"The Boy With The ...\"}, \"Press Play\": {\"frequency\": 148, \"value\": \"Press Play\"}, \"Classified\": {\"frequency\": 163, \"value\": \"Classified\"}, \"The World We Live In\": {\"frequency\": 1079, \"value\": \"The World We Live ...\"}, \"Mary Ann meets the Gravediggers and other short stories by regina spektor\": {\"frequency\": 321, \"value\": \"Mary Ann meets the ...\"}, \"Under Great White Northern Lights\": {\"frequency\": 168, \"value\": \"Under Great White ...\"}, \"The Very Best Of [International Version][expanded w/bonus tracks]\": {\"frequency\": 196, \"value\": \"The Very Best Of ...\"}, \"Viva La Vida - Prospekt's March Edition\": {\"frequency\": 608, \"value\": \"Viva La Vida - ...\"}, \"R&B Collection\": {\"frequency\": 885, \"value\": \"R&B Collection\"}, \"Weezer\": {\"frequency\": 1289, \"value\": \"Weezer\"}, \"The Ultimate Collection\": {\"frequency\": 870, \"value\": \"The Ultimate ...\"}, \"Plagues\": {\"frequency\": 197, \"value\": \"Plagues\"}, \"Man On The Moon: The End Of Day\": {\"frequency\": 1729, \"value\": \"Man On The Moon: ...\"}, \"Hybrid Theory\": {\"frequency\": 2241, \"value\": \"Hybrid Theory\"}, \"Audience Of One\": {\"frequency\": 138, \"value\": \"Audience Of One\"}, \"Lost Dogs\": {\"frequency\": 344, \"value\": \"Lost Dogs\"}, \"This Time\": {\"frequency\": 167, \"value\": \"This Time\"}, \"Old Dogs Original Soundtrack\": {\"frequency\": 395, \"value\": \"Old Dogs Original ...\"}, \"Holy Fuck\": {\"frequency\": 262, \"value\": \"Holy Fuck\"}, \"When I Grow Up\": {\"frequency\": 423, \"value\": \"When I Grow Up\"}, \"Inquisition Symphony\": {\"frequency\": 245, \"value\": \"Inquisition ...\"}, \"Animal\": {\"frequency\": 618, \"value\": \"Animal\"}, \"Lupe Fiasco's The Cool\": {\"frequency\": 1262, \"value\": \"Lupe Fiasco's The ...\"}, \"WOW Hits 2010\": {\"frequency\": 150, \"value\": \"WOW Hits 2010\"}, \"Core\": {\"frequency\": 228, \"value\": \"Core\"}, \"From Here To G\": {\"frequency\": 178, \"value\": \"From Here To G\"}, \"Attack Decay Sustain Release\": {\"frequency\": 238, \"value\": \"Attack Decay ...\"}, \"The Number Of The Beast\": {\"frequency\": 302, \"value\": \"The Number Of The ...\"}, \"Summer Sessions\": {\"frequency\": 203, \"value\": \"Summer Sessions\"}, \"Pafuera Telara\\ufffd\\ufffdas\": {\"frequency\": 358, \"value\": \"Pafuera Telara\\u00f1as\"}, \"Family Values Tour '98\": {\"frequency\": 313, \"value\": \"Family Values Tour ...\"}, \"The All American Rejects\": {\"frequency\": 505, \"value\": \"The All American ...\"}, \"Brave The Elements - EP\": {\"frequency\": 300, \"value\": \"Brave The Elements ...\"}, \"The Miseducation of Lauryn Hill\": {\"frequency\": 533, \"value\": \"The Miseducation ...\"}, \"The Smiths\": {\"frequency\": 313, \"value\": \"The Smiths\"}, \"Welcome to Jamrock\": {\"frequency\": 395, \"value\": \"Welcome to Jamrock\"}, \"Chinese Democracy\": {\"frequency\": 192, \"value\": \"Chinese Democracy\"}, \"The Pursuit\": {\"frequency\": 160, \"value\": \"The Pursuit\"}, \"Turn The Radio Off\": {\"frequency\": 170, \"value\": \"Turn The Radio Off\"}, \"Taylor Swift Karaoke\": {\"frequency\": 221, \"value\": \"Taylor Swift ...\"}, \"Speed Of Sound\": {\"frequency\": 569, \"value\": \"Speed Of Sound\"}, \"Showbiz\": {\"frequency\": 313, \"value\": \"Showbiz\"}, \"Ride The Lightning\": {\"frequency\": 339, \"value\": \"Ride The Lightning\"}, \"Tonight\": {\"frequency\": 279, \"value\": \"Tonight\"}, \"The Sinister Urge\": {\"frequency\": 161, \"value\": \"The Sinister Urge\"}, \"Muddy Waters\": {\"frequency\": 163, \"value\": \"Muddy Waters\"}, \"Billy Liar (CD-Single)\": {\"frequency\": 229, \"value\": \"Billy Liar (CD- ...\"}, \"Jump Back - The Best Of The Rolling Stones_ '71 - '93\": {\"frequency\": 326, \"value\": \"Jump Back - The ...\"}, \"The Best Of The 80's\": {\"frequency\": 214, \"value\": \"The Best Of The ...\"}, \"Ill Communication\": {\"frequency\": 239, \"value\": \"Ill Communication\"}, \"Smash Mouth\": {\"frequency\": 433, \"value\": \"Smash Mouth\"}, \"Bow Down\": {\"frequency\": 198, \"value\": \"Bow Down\"}, \"Operation Ivy\": {\"frequency\": 318, \"value\": \"Operation Ivy\"}, \"The Resistance\": {\"frequency\": 884, \"value\": \"The Resistance\"}, \"Everything Ecstatic\": {\"frequency\": 166, \"value\": \"Everything ...\"}, \"Dark Horse\": {\"frequency\": 1167, \"value\": \"Dark Horse\"}, \"Whataya Want From Me\": {\"frequency\": 568, \"value\": \"Whataya Want From ...\"}, \"Born on the Wrong Planet\": {\"frequency\": 300, \"value\": \"Born on the Wrong ...\"}, \"Keith Sweat\": {\"frequency\": 174, \"value\": \"Keith Sweat\"}, \"Bulletproof\": {\"frequency\": 1425, \"value\": \"Bulletproof\"}, \"Abattoir Blues/The Lyre of Orpheus\": {\"frequency\": 219, \"value\": \"Abattoir Blues/The ...\"}, \"Dreams\": {\"frequency\": 223, \"value\": \"Dreams\"}, \"Original Hits - Number 1s\": {\"frequency\": 490, \"value\": \"Original Hits - ...\"}, \"Pies Descalzos\": {\"frequency\": 376, \"value\": \"Pies Descalzos\"}, \"Invincible\": {\"frequency\": 158, \"value\": \"Invincible\"}, \"Elliott Smith\": {\"frequency\": 227, \"value\": \"Elliott Smith\"}, \"Don't Matter\": {\"frequency\": 205, \"value\": \"Don't Matter\"}, \"Dreamland\": {\"frequency\": 229, \"value\": \"Dreamland\"}, \"Grey's Anatomy Original Soundtrack\": {\"frequency\": 905, \"value\": \"Grey's Anatomy ...\"}, \"Never Say Never\": {\"frequency\": 217, \"value\": \"Never Say Never\"}, \"Magic Potion\": {\"frequency\": 802, \"value\": \"Magic Potion\"}, \"Invaders Must Die Remixes and Bonus Tracks\": {\"frequency\": 227, \"value\": \"Invaders Must Die ...\"}, \"Original Hits - Party\": {\"frequency\": 292, \"value\": \"Original Hits - ...\"}, \"Total Drivetime\": {\"frequency\": 163, \"value\": \"Total Drivetime\"}, \"Drivetime Triple Set\": {\"frequency\": 277, \"value\": \"Drivetime Triple ...\"}, \"Mamma Mia! The Movie Soundtrack\": {\"frequency\": 189, \"value\": \"Mamma Mia! The ...\"}, \"Now That's What I Call Music! 68\": {\"frequency\": 994, \"value\": \"Now That's What I ...\"}, \"Now That's What I Call Music! 69\": {\"frequency\": 282, \"value\": \"Now That's What I ...\"}, \"The Defamation of Strickland Banks\": {\"frequency\": 333, \"value\": \"The Defamation of ...\"}, \"This Is Happening\": {\"frequency\": 283, \"value\": \"This Is Happening\"}, \"Scars & Souvenirs\": {\"frequency\": 212, \"value\": \"Scars & Souvenirs\"}, \"You Only Live Once\": {\"frequency\": 215, \"value\": \"You Only Live Once\"}, \"James Taylor (Best Live)\": {\"frequency\": 303, \"value\": \"James Taylor (Best ...\"}, \"Purple\": {\"frequency\": 137, \"value\": \"Purple\"}, \"The Best Of\": {\"frequency\": 1318, \"value\": \"The Best Of\"}, \"Michael Bubl\\ufffd\\ufffd\": {\"frequency\": 1283, \"value\": \"Michael Bubl\\u00e9\"}, \"Motifs\": {\"frequency\": 221, \"value\": \"Motifs\"}, \"The Big Come Up\": {\"frequency\": 719, \"value\": \"The Big Come Up\"}, \"Who Is Jill Scott?\": {\"frequency\": 220, \"value\": \"Who Is Jill Scott?\"}, \"SOS\": {\"frequency\": 184, \"value\": \"SOS\"}, \"Get A Grip\": {\"frequency\": 348, \"value\": \"Get A Grip\"}, \"Josh Groban\": {\"frequency\": 241, \"value\": \"Josh Groban\"}, \"Merriweather Post Pavilion\": {\"frequency\": 199, \"value\": \"Merriweather Post ...\"}, \"...And Justice For All\": {\"frequency\": 477, \"value\": \"...And Justice For ...\"}, \"Until The End Of Time - Duet with Beyonce\": {\"frequency\": 214, \"value\": \"Until The End Of ...\"}, \"The O.C. Vol. 2\": {\"frequency\": 168, \"value\": \"The O.C. Vol. 2\"}, \"We Were Dead Before The Ship Even Sank\": {\"frequency\": 341, \"value\": \"We Were Dead ...\"}, \"Caf\\ufffd\\ufffd Tacvba\": {\"frequency\": 292, \"value\": \"Caf\\u00e9 Tacvba\"}, \"Michael\": {\"frequency\": 165, \"value\": \"Michael\"}, \"Get Lifted\": {\"frequency\": 250, \"value\": \"Get Lifted\"}, \"Boys Will Be Boys Hit Pac\": {\"frequency\": 208, \"value\": \"Boys Will Be Boys ...\"}, \"Ten Silver Drops\": {\"frequency\": 165, \"value\": \"Ten Silver Drops\"}, \"This Is It: The Best of Faith No More\": {\"frequency\": 171, \"value\": \"This Is It: The ...\"}, \"15 A\\ufffd\\ufffdos Vivo\": {\"frequency\": 227, \"value\": \"15 A\\u00f1os Vivo\"}, \"Ready\": {\"frequency\": 234, \"value\": \"Ready\"}, \"The Best That I Could Do 1978 - 1988\": {\"frequency\": 192, \"value\": \"The Best That I ...\"}, \"You And Your Heart\": {\"frequency\": 213, \"value\": \"You And Your Heart\"}, \"Ultimate R&B\": {\"frequency\": 188, \"value\": \"Ultimate R&B\"}, \"True Love Songs\": {\"frequency\": 149, \"value\": \"True Love Songs\"}, \"Skream!\": {\"frequency\": 463, \"value\": \"Skream!\"}, \"I Get Joy - Single\": {\"frequency\": 258, \"value\": \"I Get Joy - Single\"}, \". . . XYZ\": {\"frequency\": 277, \"value\": \". . . XYZ\"}, \"Oh No\": {\"frequency\": 244, \"value\": \"Oh No\"}, \"Hip Hop Classics\": {\"frequency\": 318, \"value\": \"Hip Hop Classics\"}, \"These Simple Truths\": {\"frequency\": 146, \"value\": \"These Simple ...\"}, \"Take This To Your Grave\": {\"frequency\": 192, \"value\": \"Take This To Your ...\"}, \"7\": {\"frequency\": 211, \"value\": \"7\"}, \"Total 90s\": {\"frequency\": 1264, \"value\": \"Total 90s\"}, \"Hell Train\": {\"frequency\": 998, \"value\": \"Hell Train\"}, \"Phrenology\": {\"frequency\": 200, \"value\": \"Phrenology\"}, \"Reise_ Reise\": {\"frequency\": 496, \"value\": \"Reise_ Reise\"}, \"EP\": {\"frequency\": 497, \"value\": \"EP\"}, \"Uno\": {\"frequency\": 205, \"value\": \"Uno\"}, \"The Moan\": {\"frequency\": 192, \"value\": \"The Moan\"}, \"Essential Rock - Definitive Rock Classics And Power Ballads\": {\"frequency\": 230, \"value\": \"Essential Rock - ...\"}, \"NME Presents Essential Bands 2006\": {\"frequency\": 266, \"value\": \"NME Presents ...\"}, \"Remember Cat Stevens - The Ultimate Collection\": {\"frequency\": 265, \"value\": \"Remember Cat ...\"}, \"Pursuit Of Happiness\": {\"frequency\": 1683, \"value\": \"Pursuit Of ...\"}, \"Hefty Fine\": {\"frequency\": 212, \"value\": \"Hefty Fine\"}, \"Breakthrough\": {\"frequency\": 732, \"value\": \"Breakthrough\"}, \"No Way Out\": {\"frequency\": 458, \"value\": \"No Way Out\"}, \"Dying Is Your Latest Fashion\": {\"frequency\": 375, \"value\": \"Dying Is Your ...\"}, \"No Surprise\": {\"frequency\": 210, \"value\": \"No Surprise\"}, \"Made In Italy\": {\"frequency\": 233, \"value\": \"Made In Italy\"}, \"Falling Off The Bone\": {\"frequency\": 783, \"value\": \"Falling Off The ...\"}, \"Mass Romantic\": {\"frequency\": 254, \"value\": \"Mass Romantic\"}, \"Our Love To Admire\": {\"frequency\": 369, \"value\": \"Our Love To Admire\"}, \"Big Summer Tunes\": {\"frequency\": 156, \"value\": \"Big Summer Tunes\"}, \"Tourist History\": {\"frequency\": 780, \"value\": \"Tourist History\"}, \"ROSENROT\": {\"frequency\": 259, \"value\": \"ROSENROT\"}, \"The Promise\": {\"frequency\": 151, \"value\": \"The Promise\"}, \"B In The Mix - The Remixes\": {\"frequency\": 192, \"value\": \"B In The Mix - The ...\"}, \"2004 Grammy Nominees\": {\"frequency\": 224, \"value\": \"2004 Grammy ...\"}, \"Arde el cielo\": {\"frequency\": 205, \"value\": \"Arde el cielo\"}, \"Hannah Montana 2 Original Soundtrack / Meet Miley Cyrus\": {\"frequency\": 585, \"value\": \"Hannah Montana 2 ...\"}, \"Fader\": {\"frequency\": 291, \"value\": \"Fader\"}, \"Catching Tales\": {\"frequency\": 175, \"value\": \"Catching Tales\"}, \"XO\": {\"frequency\": 203, \"value\": \"XO\"}, \"Wizards Of Waverly Place\": {\"frequency\": 180, \"value\": \"Wizards Of Waverly ...\"}, \"Get Up On It\": {\"frequency\": 197, \"value\": \"Get Up On It\"}, \"Back To Black\": {\"frequency\": 521, \"value\": \"Back To Black\"}, \"Lost Highway\": {\"frequency\": 177, \"value\": \"Lost Highway\"}, \"Youth And Young Manhood\": {\"frequency\": 613, \"value\": \"Youth And Young ...\"}, \"The Flying Club Cup\": {\"frequency\": 838, \"value\": \"The Flying Club ...\"}, \"Def Jam 25: Volume 1 - DJ Bring That Back (2008-1997)\": {\"frequency\": 171, \"value\": \"Def Jam 25: Volume ...\"}, \"Kid A\": {\"frequency\": 222, \"value\": \"Kid A\"}, \"Walking On The Moon\": {\"frequency\": 250, \"value\": \"Walking On The ...\"}, \"Rawkus Records - Best of Decade I 1995-2005\": {\"frequency\": 205, \"value\": \"Rawkus Records - ...\"}, \"The Long Road\": {\"frequency\": 405, \"value\": \"The Long Road\"}, \"Everglow_ The\": {\"frequency\": 165, \"value\": \"Everglow_ The\"}, \"Total Workout Running 102 - 135 - 84bpm Ideal For Jogging_ Running_ Treadmill & General Fitness\": {\"frequency\": 211, \"value\": \"Total Workout ...\"}, \"Angel Dust\": {\"frequency\": 256, \"value\": \"Angel Dust\"}, \"Mirando el mundo al rev\\ufffd\\ufffds\": {\"frequency\": 167, \"value\": \"Mirando el mundo ...\"}, \"Kix\": {\"frequency\": 240, \"value\": \"Kix\"}, \"First Love\": {\"frequency\": 368, \"value\": \"First Love\"}, \"Mutter\": {\"frequency\": 720, \"value\": \"Mutter\"}, \"Causers Of This\": {\"frequency\": 259, \"value\": \"Causers Of This\"}, \"Speakerboxxx/The Love Below\": {\"frequency\": 238, \"value\": \"Speakerboxxx/The ...\"}, \"PCD\": {\"frequency\": 477, \"value\": \"PCD\"}, \"Graffiti\": {\"frequency\": 240, \"value\": \"Graffiti\"}, \"Live at the longbranch and more\": {\"frequency\": 206, \"value\": \"Live at the ...\"}, \"Spirit\": {\"frequency\": 438, \"value\": \"Spirit\"}, \"Daddy Yankee Mundial\": {\"frequency\": 448, \"value\": \"Daddy Yankee ...\"}, \"Ready To Die The Remaster\": {\"frequency\": 709, \"value\": \"Ready To Die The ...\"}, \"In Ghost Colours\": {\"frequency\": 651, \"value\": \"In Ghost Colours\"}, \"Ice Ice Baby\": {\"frequency\": 306, \"value\": \"Ice Ice Baby\"}, \"Live In Chicago\": {\"frequency\": 1093, \"value\": \"Live In Chicago\"}, \"Jordin Sparks\": {\"frequency\": 303, \"value\": \"Jordin Sparks\"}, \"Tracy Chapman\": {\"frequency\": 209, \"value\": \"Tracy Chapman\"}, \"Divenire\": {\"frequency\": 268, \"value\": \"Divenire\"}, \"11:11\": {\"frequency\": 259, \"value\": \"11:11\"}, \"Use Your Illusion I\": {\"frequency\": 503, \"value\": \"Use Your Illusion ...\"}, \"the bird and the bee\": {\"frequency\": 324, \"value\": \"the bird and the ...\"}, \"Greatest Hits: Past_ Present & Future\": {\"frequency\": 215, \"value\": \"Greatest Hits: ...\"}, \"Piece By Piece\": {\"frequency\": 228, \"value\": \"Piece By Piece\"}, \"Que pides tu?\": {\"frequency\": 233, \"value\": \"Que pides tu?\"}, \"Honestidad Brutal\": {\"frequency\": 254, \"value\": \"Honestidad Brutal\"}, \"Novo Mesto\": {\"frequency\": 296, \"value\": \"Novo Mesto\"}, \"Solid Gold Hits\": {\"frequency\": 289, \"value\": \"Solid Gold Hits\"}, \"Tea For The Tillerman\": {\"frequency\": 307, \"value\": \"Tea For The ...\"}, \"Original Hits - Rock\": {\"frequency\": 338, \"value\": \"Original Hits - ...\"}, \"Dolores\": {\"frequency\": 466, \"value\": \"Dolores\"}, \"TV Loves You Back\": {\"frequency\": 257, \"value\": \"TV Loves You Back\"}, \"Duets: The Final Chapter\": {\"frequency\": 239, \"value\": \"Duets: The Final ...\"}, \"Music For The Motion Picture Into The Wild\": {\"frequency\": 854, \"value\": \"Music For The ...\"}, \"Three Days Grace (Deluxe Version)\": {\"frequency\": 576, \"value\": \"Three Days Grace ...\"}, \"Dead Cities_ Red Seas & Lost Ghosts\": {\"frequency\": 205, \"value\": \"Dead Cities_ Red ...\"}, \"El Tiempo Es Oro\": {\"frequency\": 197, \"value\": \"El Tiempo Es Oro\"}, \"Survival Story\": {\"frequency\": 157, \"value\": \"Survival Story\"}, \"Weekend Songs\": {\"frequency\": 328, \"value\": \"Weekend Songs\"}, \"One Man Band Man\": {\"frequency\": 208, \"value\": \"One Man Band Man\"}, \"Everything In Transit\": {\"frequency\": 197, \"value\": \"Everything In ...\"}, \"Tonight_ Not Again: Jason Mraz Live At The Eagles Ballroom\": {\"frequency\": 304, \"value\": \"Tonight_ Not ...\"}, \"Now That's What I Call Music! 75\": {\"frequency\": 4838, \"value\": \"Now That's What I ...\"}, \"Now That's What I Call Music! 74\": {\"frequency\": 352, \"value\": \"Now That's What I ...\"}, \"I Brought You My Bullets_ You Brought Me Your Love\": {\"frequency\": 250, \"value\": \"I Brought You My ...\"}, \"Realize\": {\"frequency\": 192, \"value\": \"Realize\"}, \"Now That's What I Call Music! 71\": {\"frequency\": 295, \"value\": \"Now That's What I ...\"}, \"Spice\": {\"frequency\": 243, \"value\": \"Spice\"}, \"Don't You Fake It\": {\"frequency\": 710, \"value\": \"Don't You Fake It\"}, \"Strange Times\": {\"frequency\": 184, \"value\": \"Strange Times\"}, \"When Incubus Attacks_ Vol. 1\": {\"frequency\": 153, \"value\": \"When Incubus ...\"}, \"Put Up or Shut Up\": {\"frequency\": 255, \"value\": \"Put Up or Shut Up\"}, \"Mr. A-Z\": {\"frequency\": 282, \"value\": \"Mr. A-Z\"}, \"Crazy Love\": {\"frequency\": 191, \"value\": \"Crazy Love\"}, \"What I've Done\": {\"frequency\": 527, \"value\": \"What I've Done\"}, \"Retrospective I (1974-1980)\": {\"frequency\": 129, \"value\": \"Retrospective I ...\"}, \"Violent Femmes\": {\"frequency\": 179, \"value\": \"Violent Femmes\"}, \"Fantastic Damage\": {\"frequency\": 213, \"value\": \"Fantastic Damage\"}, \"Sky Blue Sky\": {\"frequency\": 206, \"value\": \"Sky Blue Sky\"}, \"Siren Song Of The Counter-Culture\": {\"frequency\": 601, \"value\": \"Siren Song Of The ...\"}, \"Loud_ Fast_ Ramones:  Their Toughest Hits\": {\"frequency\": 480, \"value\": \"Loud_ Fast_ ...\"}, \"D-12 World\": {\"frequency\": 273, \"value\": \"D-12 World\"}, \"Homework\": {\"frequency\": 205, \"value\": \"Homework\"}, \"Decent Work For Decent Pay\": {\"frequency\": 646, \"value\": \"Decent Work For ...\"}, \"Robot Soul\": {\"frequency\": 623, \"value\": \"Robot Soul\"}, \"Hypnotize\": {\"frequency\": 308, \"value\": \"Hypnotize\"}, \"Dear God\": {\"frequency\": 161, \"value\": \"Dear God\"}, \"King\": {\"frequency\": 261, \"value\": \"King\"}, \"Kicking Television_ Live in Chicago\": {\"frequency\": 151, \"value\": \"Kicking ...\"}, \"Jimmy Eat World\": {\"frequency\": 140, \"value\": \"Jimmy Eat World\"}, \"Legion Of Boom\": {\"frequency\": 214, \"value\": \"Legion Of Boom\"}, \"Grandes Exitos\": {\"frequency\": 699, \"value\": \"Grandes Exitos\"}, \"Wheatever People Say I Am_ That's What I'M Not - Digital\": {\"frequency\": 219, \"value\": \"Wheatever People ...\"}, \"Ignition\": {\"frequency\": 229, \"value\": \"Ignition\"}, \"One Cell In The Sea\": {\"frequency\": 355, \"value\": \"One Cell In The ...\"}, \"The Sickness\": {\"frequency\": 580, \"value\": \"The Sickness\"}, \"Ultimate R&B 2008 (Double Album)\": {\"frequency\": 226, \"value\": \"Ultimate R&B 2008 ...\"}, \"Jason Derulo\": {\"frequency\": 234, \"value\": \"Jason Derulo\"}, \"The Wild Hunt\": {\"frequency\": 317, \"value\": \"The Wild Hunt\"}, \"In Memory (re-issue)\": {\"frequency\": 308, \"value\": \"In Memory (re- ...\"}, \"Desperate Measures\": {\"frequency\": 291, \"value\": \"Desperate Measures\"}, \"Middle Finger U\": {\"frequency\": 266, \"value\": \"Middle Finger U\"}, \"Sobrevive\": {\"frequency\": 148, \"value\": \"Sobrevive\"}, \"Aunque Cueste Ver El Sol\": {\"frequency\": 305, \"value\": \"Aunque Cueste Ver ...\"}, \"Raymond v Raymond\": {\"frequency\": 1261, \"value\": \"Raymond v Raymond\"}, \"Let's Go To Prison (OST)\": {\"frequency\": 210, \"value\": \"Let's Go To Prison ...\"}, \"Antichrist Superstar (Ecopac Explicit)\": {\"frequency\": 247, \"value\": \"Antichrist ...\"}, \"Maladroit\": {\"frequency\": 375, \"value\": \"Maladroit\"}, \"Lights\": {\"frequency\": 374, \"value\": \"Lights\"}, \"Better Late Than Never\": {\"frequency\": 385, \"value\": \"Better Late Than ...\"}, \"Play\": {\"frequency\": 279, \"value\": \"Play\"}, \"Brothers\": {\"frequency\": 1585, \"value\": \"Brothers\"}, \"The Magic Of Disney\": {\"frequency\": 366, \"value\": \"The Magic Of ...\"}, \"Over And Underneath\": {\"frequency\": 274, \"value\": \"Over And ...\"}, \"What Goes Around... Comes Around\": {\"frequency\": 519, \"value\": \"What Goes ...\"}, \"Protection\": {\"frequency\": 173, \"value\": \"Protection\"}, \"You Only Live Once/Mercy Mercy Me\": {\"frequency\": 199, \"value\": \"You Only Live ...\"}, \"Made In NYC\": {\"frequency\": 224, \"value\": \"Made In NYC\"}, \"Carry On\": {\"frequency\": 157, \"value\": \"Carry On\"}, \"Contra La Corriente\": {\"frequency\": 314, \"value\": \"Contra La ...\"}, \"Riot!\": {\"frequency\": 577, \"value\": \"Riot!\"}, \"Get The Party Started: Essential Pop and Dance Anthems\": {\"frequency\": 167, \"value\": \"Get The Party ...\"}, \"Scream Aim Fire\": {\"frequency\": 415, \"value\": \"Scream Aim Fire\"}, \"LoveStoned / I Think She Knows\": {\"frequency\": 150, \"value\": \"LoveStoned / I ...\"}, \"Nickel Creek\": {\"frequency\": 247, \"value\": \"Nickel Creek\"}, \"Graduation\": {\"frequency\": 2571, \"value\": \"Graduation\"}, \"Shine A Light\": {\"frequency\": 205, \"value\": \"Shine A Light\"}, \"Mass Appeal: The Best of Gang Starr [Edited]\": {\"frequency\": 223, \"value\": \"Mass Appeal: The ...\"}, \"Live At The House Of Blues\": {\"frequency\": 229, \"value\": \"Live At The House ...\"}, \"Long Black Train\": {\"frequency\": 156, \"value\": \"Long Black Train\"}, \"Identification Parade\": {\"frequency\": 1475, \"value\": \"Identification ...\"}, \"Undercover Martyn\": {\"frequency\": 152, \"value\": \"Undercover Martyn\"}, \"Up From The Catacombs: The Best Of Jane's Addiction\": {\"frequency\": 163, \"value\": \"Up From The ...\"}, \"Fancy Footwork\": {\"frequency\": 451, \"value\": \"Fancy Footwork\"}, \"Cream 1992-2008\": {\"frequency\": 192, \"value\": \"Cream 1992-2008\"}, \"Mu\\ufffd\\ufffdrdete La Lengua\": {\"frequency\": 276, \"value\": \"Mu\\u00e9rdete La Lengua\"}, \"Demos\": {\"frequency\": 188, \"value\": \"Demos\"}, \"Best Rock Anthems.....Ever!\": {\"frequency\": 568, \"value\": \"Best Rock ...\"}, \"Finally Woken\": {\"frequency\": 182, \"value\": \"Finally Woken\"}, \"Musique Vol 1\": {\"frequency\": 1142, \"value\": \"Musique Vol 1\"}, \"Parts Of The Process\": {\"frequency\": 523, \"value\": \"Parts Of The ...\"}, \"Rabbit Habits\": {\"frequency\": 422, \"value\": \"Rabbit Habits\"}, \"Boston's Boy\": {\"frequency\": 191, \"value\": \"Boston's Boy\"}, \"Live on Lansdowne_ Boston MA\": {\"frequency\": 571, \"value\": \"Live on Lansdowne_ ...\"}, \"Billy Breathes\": {\"frequency\": 247, \"value\": \"Billy Breathes\"}, \"Dance & Hip Hop Breaks\": {\"frequency\": 991, \"value\": \"Dance & Hip Hop ...\"}, \"Slash\": {\"frequency\": 278, \"value\": \"Slash\"}, \"All The Lost Souls\": {\"frequency\": 202, \"value\": \"All The Lost Souls\"}, \"Gold (Extended Edition)\": {\"frequency\": 210, \"value\": \"Gold (Extended ...\"}, \"Roots Of Blues\": {\"frequency\": 535, \"value\": \"Roots Of Blues\"}, \"Jonas Brothers\": {\"frequency\": 494, \"value\": \"Jonas Brothers\"}, \"When You  Were Young\": {\"frequency\": 1088, \"value\": \"When You  Were ...\"}, \"Almost Lover\": {\"frequency\": 208, \"value\": \"Almost Lover\"}, \"Ramones: Expanded And Remastered\": {\"frequency\": 150, \"value\": \"Ramones: Expanded ...\"}, \"Cradle 2 The Grave\": {\"frequency\": 162, \"value\": \"Cradle 2 The Grave\"}, \"9\": {\"frequency\": 266, \"value\": \"9\"}, \"Shine\": {\"frequency\": 158, \"value\": \"Shine\"}, \"Take It To The Limit\": {\"frequency\": 168, \"value\": \"Take It To The ...\"}, \"Various Artists/Rough Trade Counter Culture 09\": {\"frequency\": 207, \"value\": \"Various ...\"}, \"Days Of The New\": {\"frequency\": 381, \"value\": \"Days Of The New\"}, \"Just Dance\": {\"frequency\": 1923, \"value\": \"Just Dance\"}, \"EMI Comedy\": {\"frequency\": 337, \"value\": \"EMI Comedy\"}, \"Gimme Sympathy\": {\"frequency\": 202, \"value\": \"Gimme Sympathy\"}, \"Dub Wars\": {\"frequency\": 148, \"value\": \"Dub Wars\"}, \"The Update Collection Vol. 2\": {\"frequency\": 1036, \"value\": \"The Update ...\"}, \"Paper Walls\": {\"frequency\": 170, \"value\": \"Paper Walls\"}, \"Bring Me Your Love\": {\"frequency\": 425, \"value\": \"Bring Me Your Love\"}, \"Volume One\": {\"frequency\": 347, \"value\": \"Volume One\"}, \"Ten\": {\"frequency\": 639, \"value\": \"Ten\"}, \"The Pod\": {\"frequency\": 149, \"value\": \"The Pod\"}, \"The Memory Of Trees\": {\"frequency\": 170, \"value\": \"The Memory Of ...\"}, \"Questamation\": {\"frequency\": 172, \"value\": \"Questamation\"}, \"Donde Jurgaran Las Ni\\ufffd\\ufffdas?\": {\"frequency\": 176, \"value\": \"Donde Jurgaran Las ...\"}, \"Transference\": {\"frequency\": 165, \"value\": \"Transference\"}, \"Originales - 20 Exitos\": {\"frequency\": 191, \"value\": \"Originales - 20 ...\"}, \"The Commitments\": {\"frequency\": 156, \"value\": \"The Commitments\"}, \"Something Good Can Work\": {\"frequency\": 207, \"value\": \"Something Good Can ...\"}, \"OK Computer (Collector's Edition)\": {\"frequency\": 849, \"value\": \"OK Computer ...\"}, \"Hagan Correr La Voz\": {\"frequency\": 220, \"value\": \"Hagan Correr La ...\"}, \"Pablo Honey\": {\"frequency\": 1336, \"value\": \"Pablo Honey\"}, \"Supermassive Black Hole\": {\"frequency\": 946, \"value\": \"Supermassive Black ...\"}, \"Youth Novels\": {\"frequency\": 518, \"value\": \"Youth Novels\"}, \"Chocolate\": {\"frequency\": 165, \"value\": \"Chocolate\"}, \"Either Or\": {\"frequency\": 299, \"value\": \"Either Or\"}, \"Listener Supported\": {\"frequency\": 389, \"value\": \"Listener Supported\"}, \"The Black Album\": {\"frequency\": 303, \"value\": \"The Black Album\"}, \"Do You Love Me\": {\"frequency\": 224, \"value\": \"Do You Love Me\"}, \"Yankee Hotel Foxtrot\": {\"frequency\": 181, \"value\": \"Yankee Hotel ...\"}, \"Love Songs\": {\"frequency\": 926, \"value\": \"Love Songs\"}, \"You'll Never Know\": {\"frequency\": 269, \"value\": \"You'll Never Know\"}, \"Anywhere But Here\": {\"frequency\": 272, \"value\": \"Anywhere But Here\"}, \"Franz Ferdinand\": {\"frequency\": 208, \"value\": \"Franz Ferdinand\"}, \"Pendulum\": {\"frequency\": 208, \"value\": \"Pendulum\"}, \"Thankful\": {\"frequency\": 354, \"value\": \"Thankful\"}, \"Bones\": {\"frequency\": 167, \"value\": \"Bones\"}, \"The Collection\": {\"frequency\": 1522, \"value\": \"The Collection\"}, \"Room On Fire\": {\"frequency\": 341, \"value\": \"Room On Fire\"}, \"Te Seguir\\ufffd\\ufffd\": {\"frequency\": 197, \"value\": \"Te Seguir\\u00e9\"}, \"The Bird And The Bee Sides\": {\"frequency\": 176, \"value\": \"The Bird And The ...\"}, \"Life Of A Ghost\": {\"frequency\": 188, \"value\": \"Life Of A Ghost\"}, \"Gorillaz (Clean)\": {\"frequency\": 334, \"value\": \"Gorillaz (Clean)\"}, \"Da Derrty Versions: The Re-invention\": {\"frequency\": 253, \"value\": \"Da Derrty ...\"}, \"Amos Lee\": {\"frequency\": 484, \"value\": \"Amos Lee\"}, \"Lies / Appetite For Destruction\": {\"frequency\": 191, \"value\": \"Lies / Appetite ...\"}, \"Old Record\": {\"frequency\": 172, \"value\": \"Old Record\"}, \"My Private Nation\": {\"frequency\": 162, \"value\": \"My Private Nation\"}, \"Andres CD1\": {\"frequency\": 281, \"value\": \"Andres CD1\"}, \"Vierzehn Lieder\": {\"frequency\": 210, \"value\": \"Vierzehn Lieder\"}, \"Frank\": {\"frequency\": 537, \"value\": \"Frank\"}, \"We The Kings\": {\"frequency\": 485, \"value\": \"We The Kings\"}, \"9.0 Live\": {\"frequency\": 149, \"value\": \"9.0 Live\"}, \"On The Road To Find Out (Repackaged)\": {\"frequency\": 694, \"value\": \"On The Road To ...\"}, \"OMG - The Remixes\": {\"frequency\": 2260, \"value\": \"OMG - The Remixes\"}, \"Across The Universe\": {\"frequency\": 562, \"value\": \"Across The ...\"}, \"Waiting For My Rocket To Come\": {\"frequency\": 350, \"value\": \"Waiting For My ...\"}, \"Simple Things\": {\"frequency\": 309, \"value\": \"Simple Things\"}, \"Say It\": {\"frequency\": 195, \"value\": \"Say It\"}, \"Origin Of Symmetry\": {\"frequency\": 460, \"value\": \"Origin Of Symmetry\"}, \"Solo\": {\"frequency\": 153, \"value\": \"Solo\"}, \"Deloused in the Comatorium\": {\"frequency\": 153, \"value\": \"Deloused in the ...\"}, \"Mickey Mouse Operation\": {\"frequency\": 158, \"value\": \"Mickey Mouse ...\"}, \"O\": {\"frequency\": 596, \"value\": \"O\"}, \"Dejame Entrar\": {\"frequency\": 168, \"value\": \"Dejame Entrar\"}, \"B'Day Deluxe Edition\": {\"frequency\": 500, \"value\": \"B'Day Deluxe ...\"}, \"The Leak\": {\"frequency\": 178, \"value\": \"The Leak\"}, \"The Road Mix: Music From The Television Series One Tree Hill Vol. 3\": {\"frequency\": 690, \"value\": \"The Road Mix: ...\"}, \"Blood Sugar Sex Magik\": {\"frequency\": 471, \"value\": \"Blood Sugar Sex ...\"}, \"The Hits/The B-Sides 3\": {\"frequency\": 582, \"value\": \"The Hits/The ...\"}, \"Timespace - The Best Of Stevie Nicks\": {\"frequency\": 151, \"value\": \"Timespace - The ...\"}, \"Rounds\": {\"frequency\": 165, \"value\": \"Rounds\"}, \"Pass Out\": {\"frequency\": 171, \"value\": \"Pass Out\"}, \"A New Journey\": {\"frequency\": 271, \"value\": \"A New Journey\"}, \"A Fever You Can't Sweat Out\": {\"frequency\": 169, \"value\": \"A Fever You Can't ...\"}, \"Oi Oi oi REMIXED\": {\"frequency\": 491, \"value\": \"Oi Oi oi REMIXED\"}, \"In Silico\": {\"frequency\": 169, \"value\": \"In Silico\"}, \"Good News For People Who Love Bad News\": {\"frequency\": 593, \"value\": \"Good News For ...\"}, \"Haywire\": {\"frequency\": 348, \"value\": \"Haywire\"}, \"There Is Nothing Left To Lose\": {\"frequency\": 635, \"value\": \"There Is Nothing ...\"}, \"Top Of The Pops - Eighties\": {\"frequency\": 153, \"value\": \"Top Of The Pops - ...\"}, \"The Chess Story\": {\"frequency\": 160, \"value\": \"The Chess Story\"}, \"Don't Look Away\": {\"frequency\": 279, \"value\": \"Don't Look Away\"}, \"Pretty. Odd.\": {\"frequency\": 212, \"value\": \"Pretty. Odd.\"}, \"On Frail Wings of Vanity And Wax\": {\"frequency\": 311, \"value\": \"On Frail Wings of ...\"}, \"One Of The Boys (iTunes Exclusive)\": {\"frequency\": 1500, \"value\": \"One Of The Boys ...\"}, \"N.W.A. Greatest Hits (World)\": {\"frequency\": 171, \"value\": \"N.W.A. Greatest ...\"}, \"Les 4 saisons\": {\"frequency\": 152, \"value\": \"Les 4 saisons\"}, \"Esperanza\": {\"frequency\": 399, \"value\": \"Esperanza\"}, \"Bright Like Neon Love\": {\"frequency\": 399, \"value\": \"Bright Like Neon ...\"}, \"The All Star Sessions\": {\"frequency\": 157, \"value\": \"The All Star ...\"}, \"Moby\": {\"frequency\": 217, \"value\": \"Moby\"}, \"Kings Of Metal\": {\"frequency\": 162, \"value\": \"Kings Of Metal\"}, \"Load\": {\"frequency\": 306, \"value\": \"Load\"}, \"Quiet Is The New Loud\": {\"frequency\": 207, \"value\": \"Quiet Is The New ...\"}, \"The Midnight Organ Fight\": {\"frequency\": 221, \"value\": \"The Midnight Organ ...\"}, \"One Time\": {\"frequency\": 718, \"value\": \"One Time\"}, \"Your Man / Long Black Train\": {\"frequency\": 396, \"value\": \"Your Man / Long ...\"}, \"Some Mad Hope\": {\"frequency\": 312, \"value\": \"Some Mad Hope\"}, \"Drop The World\": {\"frequency\": 2226, \"value\": \"Drop The World\"}, \"Big Whiskey and the GrooGrux King\": {\"frequency\": 219, \"value\": \"Big Whiskey and ...\"}, \"Rockin' The Suburbs\": {\"frequency\": 198, \"value\": \"Rockin' The ...\"}, \"Float\": {\"frequency\": 181, \"value\": \"Float\"}, \"Your Favorite Weapon\": {\"frequency\": 180, \"value\": \"Your Favorite ...\"}, \"Musti Sotakoira\": {\"frequency\": 188, \"value\": \"Musti Sotakoira\"}, \"Collection Disques Path\\ufffd\\ufffd\": {\"frequency\": 274, \"value\": \"Collection Disques ...\"}, \"Queen On Fire - Live At The Bowl\": {\"frequency\": 534, \"value\": \"Queen On Fire - ...\"}, \"Happy New Year!\": {\"frequency\": 511, \"value\": \"Happy New Year!\"}, \"Together Again\": {\"frequency\": 160, \"value\": \"Together Again\"}, \"Summertime\": {\"frequency\": 1716, \"value\": \"Summertime\"}, \"Wu-Tang Forever (Explicit)\": {\"frequency\": 143, \"value\": \"Wu-Tang Forever ...\"}, \"Part II\": {\"frequency\": 155, \"value\": \"Part II\"}, \"Ingravitto\": {\"frequency\": 194, \"value\": \"Ingravitto\"}, \"Beggar On A Beach Of Gold\": {\"frequency\": 729, \"value\": \"Beggar On A Beach ...\"}, \"Ignorance\": {\"frequency\": 209, \"value\": \"Ignorance\"}, \"Songs For The Deaf\": {\"frequency\": 189, \"value\": \"Songs For The Deaf\"}, \"Dark Was The Night (Red Hot Compilation)\": {\"frequency\": 147, \"value\": \"Dark Was The Night ...\"}, \"The Foundation\": {\"frequency\": 1257, \"value\": \"The Foundation\"}, \"Don't Take Your Time\": {\"frequency\": 268, \"value\": \"Don't Take Your ...\"}, \"Appeal To Reason\": {\"frequency\": 1330, \"value\": \"Appeal To Reason\"}, \"Taking The Long Way\": {\"frequency\": 199, \"value\": \"Taking The Long ...\"}, \"Showbiz Kids: The Steely Dan Story 1972 - 1980\": {\"frequency\": 184, \"value\": \"Showbiz Kids: The ...\"}, \"The End Is Here\": {\"frequency\": 1755, \"value\": \"The End Is Here\"}, \"Alive 2007\": {\"frequency\": 528, \"value\": \"Alive 2007\"}, \"Coco\": {\"frequency\": 544, \"value\": \"Coco\"}, \"LIEBE IST F\\ufffd\\ufffdR ALLE DA\": {\"frequency\": 328, \"value\": \"LIEBE IST F\\u00fcR ALLE ...\"}, \"Chulahoma\": {\"frequency\": 253, \"value\": \"Chulahoma\"}, \"Trouble (B-Side)\": {\"frequency\": 410, \"value\": \"Trouble (B-Side)\"}, \"This War Is Ours\": {\"frequency\": 348, \"value\": \"This War Is Ours\"}, \"Toby Keith 35 Biggest Hits\": {\"frequency\": 268, \"value\": \"Toby Keith 35 ...\"}, \"2001\": {\"frequency\": 1044, \"value\": \"2001\"}, \"Batman Begins - Original Soundtrack\": {\"frequency\": 186, \"value\": \"Batman Begins - ...\"}, \"Foiled\": {\"frequency\": 229, \"value\": \"Foiled\"}, \"Invaders Must Die\": {\"frequency\": 195, \"value\": \"Invaders Must Die\"}, \"The Anthems\": {\"frequency\": 896, \"value\": \"The Anthems\"}, \"Weathered\": {\"frequency\": 154, \"value\": \"Weathered\"}, \"The Satanic Satanist (The Majestic Majesty Deluxe Edition)\": {\"frequency\": 184, \"value\": \"The Satanic ...\"}, \"True Rock (3 CD Set)\": {\"frequency\": 149, \"value\": \"True Rock (3 CD ...\"}, \"Self\": {\"frequency\": 155, \"value\": \"Self\"}, \"Canciones\": {\"frequency\": 154, \"value\": \"Canciones\"}, \"Baby I Don't Care - The Collection\": {\"frequency\": 153, \"value\": \"Baby I Don't Care ...\"}, \"Strays\": {\"frequency\": 157, \"value\": \"Strays\"}, \"Sam's Town\": {\"frequency\": 795, \"value\": \"Sam's Town\"}, \"Little Bit of Everything\": {\"frequency\": 213, \"value\": \"Little Bit of ...\"}, \"Debut Live\": {\"frequency\": 151, \"value\": \"Debut Live\"}, \"Wide Open\": {\"frequency\": 266, \"value\": \"Wide Open\"}, \"Prolonging the Magic\": {\"frequency\": 249, \"value\": \"Prolonging the ...\"}, \"Life For Rent\": {\"frequency\": 258, \"value\": \"Life For Rent\"}, \"Modern Day Drifter\": {\"frequency\": 187, \"value\": \"Modern Day Drifter\"}, \"The All-American Rejects\": {\"frequency\": 1063, \"value\": \"The All-American ...\"}, \"White Pony\": {\"frequency\": 129, \"value\": \"White Pony\"}, \"I'll Stay Me\": {\"frequency\": 247, \"value\": \"I'll Stay Me\"}, \"Armchair Apocrypha\": {\"frequency\": 191, \"value\": \"Armchair Apocrypha\"}, \"Fore!\": {\"frequency\": 158, \"value\": \"Fore!\"}, \"Classics\": {\"frequency\": 1057, \"value\": \"Classics\"}, \"Post Live\": {\"frequency\": 214, \"value\": \"Post Live\"}, \"The Ozzman Cometh\": {\"frequency\": 168, \"value\": \"The Ozzman Cometh\"}, \"Films About Ghosts (The Best Of Counting Crows)\": {\"frequency\": 629, \"value\": \"Films About Ghosts ...\"}, \"Chasing Cars [live in Toronto]\": {\"frequency\": 332, \"value\": \"Chasing Cars [live ...\"}, \"Time Well Wasted\": {\"frequency\": 369, \"value\": \"Time Well Wasted\"}, \"Favourite Worst Nightmare\": {\"frequency\": 688, \"value\": \"Favourite Worst ...\"}, \"Use Somebody\": {\"frequency\": 1915, \"value\": \"Use Somebody\"}, \"Blind Melon\": {\"frequency\": 460, \"value\": \"Blind Melon\"}, \"Overtones\": {\"frequency\": 199, \"value\": \"Overtones\"}, \"The Lost Get Found\": {\"frequency\": 222, \"value\": \"The Lost Get Found\"}, \"The Original Studio Recordings\": {\"frequency\": 185, \"value\": \"The Original ...\"}, \"We Don't Need To Whisper\": {\"frequency\": 1401, \"value\": \"We Don't Need To ...\"}, \"The Remedy [I Won't Worry]\": {\"frequency\": 206, \"value\": \"The Remedy [I ...\"}, \"Don't Stop The Music/ Remixes\": {\"frequency\": 571, \"value\": \"Don't Stop The ...\"}, \"No Angel\": {\"frequency\": 322, \"value\": \"No Angel\"}, \"Contra\": {\"frequency\": 951, \"value\": \"Contra\"}, \"El Kilo\": {\"frequency\": 277, \"value\": \"El Kilo\"}, \"The Early Years\": {\"frequency\": 225, \"value\": \"The Early Years\"}, \"Parklife\": {\"frequency\": 232, \"value\": \"Parklife\"}, \"Mum Of The Year\": {\"frequency\": 380, \"value\": \"Mum Of The Year\"}, \"The Unnamed Feeling\": {\"frequency\": 422, \"value\": \"The Unnamed ...\"}, \"Tell All Your Friends\": {\"frequency\": 199, \"value\": \"Tell All Your ...\"}, \"Metallica\": {\"frequency\": 696, \"value\": \"Metallica\"}, \"Whispered And Shouted\": {\"frequency\": 177, \"value\": \"Whispered And ...\"}, \"Freedom\": {\"frequency\": 430, \"value\": \"Freedom\"}, \"In The City\": {\"frequency\": 152, \"value\": \"In The City\"}, \"Wolfmother\": {\"frequency\": 193, \"value\": \"Wolfmother\"}, \"U Can't Touch This - The Collection\": {\"frequency\": 401, \"value\": \"U Can't Touch This ...\"}, \"LIVE AT MONTREUX\": {\"frequency\": 161, \"value\": \"LIVE AT MONTREUX\"}, \"High School Musical - The Collection\": {\"frequency\": 198, \"value\": \"High School ...\"}, \"Residente o Visitante\": {\"frequency\": 643, \"value\": \"Residente o ...\"}, \"Bang Bang\": {\"frequency\": 392, \"value\": \"Bang Bang\"}, \"Homesick [Special Edition]\": {\"frequency\": 1329, \"value\": \"Homesick [Special ...\"}, \"Folie \\ufffd\\ufffd Deux\": {\"frequency\": 163, \"value\": \"Folie \\u00e0 Deux\"}, \"Things Fall Apart\": {\"frequency\": 180, \"value\": \"Things Fall Apart\"}, \"A Night At The Opera\": {\"frequency\": 288, \"value\": \"A Night At The ...\"}, \"More Than You Think You Are\": {\"frequency\": 521, \"value\": \"More Than You ...\"}, \"Elephunk\": {\"frequency\": 221, \"value\": \"Elephunk\"}, \"Last Days At The Lodge\": {\"frequency\": 272, \"value\": \"Last Days At The ...\"}, \"Thank You\": {\"frequency\": 477, \"value\": \"Thank You\"}, \"Het Beste Uit De Top 40 - 2009\": {\"frequency\": 1266, \"value\": \"Het Beste Uit De ...\"}, \"Grey Oceans\": {\"frequency\": 162, \"value\": \"Grey Oceans\"}, \"The Mouse And The Mask\": {\"frequency\": 204, \"value\": \"The Mouse And The ...\"}, \"Danity Kane\": {\"frequency\": 205, \"value\": \"Danity Kane\"}, \"Hitzone 49\": {\"frequency\": 1912, \"value\": \"Hitzone 49\"}, \"Coming On Strong\": {\"frequency\": 175, \"value\": \"Coming On Strong\"}, \"Troubadour\": {\"frequency\": 585, \"value\": \"Troubadour\"}, \"Nightly Journey\": {\"frequency\": 149, \"value\": \"Nightly Journey\"}, \"Alphabetical\": {\"frequency\": 156, \"value\": \"Alphabetical\"}, \"Walk The Line (Original Motion Picture Soundtrack)\": {\"frequency\": 150, \"value\": \"Walk The Line ...\"}, \"Exit\": {\"frequency\": 162, \"value\": \"Exit\"}, \"Conditions\": {\"frequency\": 629, \"value\": \"Conditions\"}, \"Rock N' Roll Legends\": {\"frequency\": 152, \"value\": \"Rock N' Roll ...\"}, \"For Your Entertainment (Deluxe Version)\": {\"frequency\": 985, \"value\": \"For Your ...\"}, \"Music Of The Sun\": {\"frequency\": 237, \"value\": \"Music Of The Sun\"}, \"Kicks\": {\"frequency\": 238, \"value\": \"Kicks\"}, \"Chick Flicks\": {\"frequency\": 206, \"value\": \"Chick Flicks\"}, \"The Bridge\": {\"frequency\": 177, \"value\": \"The Bridge\"}, \"Visiter\": {\"frequency\": 185, \"value\": \"Visiter\"}, \"Demon Days\": {\"frequency\": 874, \"value\": \"Demon Days\"}, \"Through The Years/ A Traves De Los Anos\": {\"frequency\": 167, \"value\": \"Through The Years/ ...\"}, \"Up From Below\": {\"frequency\": 1669, \"value\": \"Up From Below\"}, \"Feedback\": {\"frequency\": 172, \"value\": \"Feedback\"}, \"Quiet Please... The New Best Of Nick Lowe\": {\"frequency\": 220, \"value\": \"Quiet Please... ...\"}, \"Sawdust\": {\"frequency\": 998, \"value\": \"Sawdust\"}, \"Xs On Your Eyes\": {\"frequency\": 151, \"value\": \"Xs On Your Eyes\"}, \"Harry Potter And The Half-Blood Prince - Original Soundtrack\": {\"frequency\": 189, \"value\": \"Harry Potter And ...\"}, \"Hand Built By Robots\": {\"frequency\": 170, \"value\": \"Hand Built By ...\"}, \"When Your Heart Stops Beating\": {\"frequency\": 168, \"value\": \"When Your Heart ...\"}, \"Live In Chicago 12.19.98 at The United Center\": {\"frequency\": 163, \"value\": \"Live In Chicago ...\"}, \"Kris Allen\": {\"frequency\": 273, \"value\": \"Kris Allen\"}, \"Bleed American\": {\"frequency\": 716, \"value\": \"Bleed American\"}, \"Brand New Day\": {\"frequency\": 171, \"value\": \"Brand New Day\"}, \"Vicious Delicious\": {\"frequency\": 205, \"value\": \"Vicious Delicious\"}, \"The Police\": {\"frequency\": 688, \"value\": \"The Police\"}, \"Down the Way\": {\"frequency\": 338, \"value\": \"Down the Way\"}, \"Hospitality Presents This Is Drum + Bass - Mixed By High Contrast + London Elektricity\": {\"frequency\": 297, \"value\": \"Hospitality ...\"}, \"Details\": {\"frequency\": 257, \"value\": \"Details\"}, \"Dressed Up As Life\": {\"frequency\": 348, \"value\": \"Dressed Up As Life\"}, \"Ch\\ufffd\\ufffdrie Love Songs\": {\"frequency\": 370, \"value\": \"Ch\\u00e9rie Love Songs\"}, \"Chavez Ravine\": {\"frequency\": 208, \"value\": \"Chavez Ravine\"}, \"All Access\": {\"frequency\": 412, \"value\": \"All Access\"}, \"The Downward Spiral - Deluxe Edition\": {\"frequency\": 219, \"value\": \"The Downward ...\"}, \"Here We Stand\": {\"frequency\": 157, \"value\": \"Here We Stand\"}, \"Fair Warning\": {\"frequency\": 170, \"value\": \"Fair Warning\"}, \"With The Lights Out - Box Set\": {\"frequency\": 155, \"value\": \"With The Lights ...\"}, \"\\ufffd\\ufffd La Carte\": {\"frequency\": 340, \"value\": \"\\u00c0 La Carte\"}, \"For Emma_ Forever Ago\": {\"frequency\": 1622, \"value\": \"For Emma_ Forever ...\"}, \"Twenty Three Places\": {\"frequency\": 235, \"value\": \"Twenty Three ...\"}, \"And Their Name Was Treason\": {\"frequency\": 238, \"value\": \"And Their Name Was ...\"}, \"Lo Mejor De Vilma Palma\": {\"frequency\": 218, \"value\": \"Lo Mejor De Vilma ...\"}, \"The Devil And God Are Raging Inside Me\": {\"frequency\": 247, \"value\": \"The Devil And God ...\"}, \"Love Drunk\": {\"frequency\": 303, \"value\": \"Love Drunk\"}, \"The Singles Collection\": {\"frequency\": 1684, \"value\": \"The Singles ...\"}, \"Nada Personal\": {\"frequency\": 158, \"value\": \"Nada Personal\"}, \"Ride Through The Country\": {\"frequency\": 239, \"value\": \"Ride Through The ...\"}, \"Resist\": {\"frequency\": 227, \"value\": \"Resist\"}, \"Aijuswannasing\": {\"frequency\": 177, \"value\": \"Aijuswannasing\"}, \"Les Mis\\ufffd\\ufffdrables - 10th Anniversary Concert\": {\"frequency\": 402, \"value\": \"Les Mis\\u00e9rables - ...\"}, \"I And Love And You\": {\"frequency\": 757, \"value\": \"I And Love And You\"}, \"Bass Generation\": {\"frequency\": 256, \"value\": \"Bass Generation\"}, \"De 2 F\\ufffd\\ufffdrste\": {\"frequency\": 195, \"value\": \"De 2 F\\u00f8rste\"}, \"A Data Learn the Language\": {\"frequency\": 184, \"value\": \"A Data Learn the ...\"}, \"R&B Divas\": {\"frequency\": 381, \"value\": \"R&B Divas\"}, \"Cross Road\": {\"frequency\": 1171, \"value\": \"Cross Road\"}, \"White Winter Hymnal\": {\"frequency\": 192, \"value\": \"White Winter ...\"}, \"I Ain't Movin'\": {\"frequency\": 147, \"value\": \"I Ain't Movin'\"}, \"Breakout\": {\"frequency\": 568, \"value\": \"Breakout\"}, \"The Hazards Of Love\": {\"frequency\": 246, \"value\": \"The Hazards Of ...\"}, \"Highway Companion\": {\"frequency\": 193, \"value\": \"Highway Companion\"}, \"The Mouse & The Mask\": {\"frequency\": 172, \"value\": \"The Mouse & The ...\"}, \"Now That's What I Call Music! 72\": {\"frequency\": 799, \"value\": \"Now That's What I ...\"}, \"Skunkworks\": {\"frequency\": 154, \"value\": \"Skunkworks\"}, \"Sehnsucht\": {\"frequency\": 482, \"value\": \"Sehnsucht\"}, \"Loud\": {\"frequency\": 165, \"value\": \"Loud\"}, \"LP3\": {\"frequency\": 225, \"value\": \"LP3\"}, \"DecembeRadio\": {\"frequency\": 195, \"value\": \"DecembeRadio\"}, \"Way To Normal\": {\"frequency\": 153, \"value\": \"Way To Normal\"}, \"Definition Of Real\": {\"frequency\": 288, \"value\": \"Definition Of Real\"}, \"Godskitchen Pure Trance Classics\": {\"frequency\": 202, \"value\": \"Godskitchen Pure ...\"}, \"Talento De Barrio\": {\"frequency\": 496, \"value\": \"Talento De Barrio\"}, \"Miike Snow\": {\"frequency\": 354, \"value\": \"Miike Snow\"}, \"The Last\": {\"frequency\": 379, \"value\": \"The Last\"}, \"Ray Guns Are Not Just The Future\": {\"frequency\": 936, \"value\": \"Ray Guns Are Not ...\"}, \"Be Not Nobody\": {\"frequency\": 185, \"value\": \"Be Not Nobody\"}, \"Spaceman\": {\"frequency\": 175, \"value\": \"Spaceman\"}, \"Call Me Irresponsible\": {\"frequency\": 235, \"value\": \"Call Me ...\"}, \"Ministry of Sound Presents Chilled II 1991-2009\": {\"frequency\": 433, \"value\": \"Ministry of Sound ...\"}, \"Shakira MTV Unplugged\": {\"frequency\": 708, \"value\": \"Shakira MTV ...\"}, \"The Boat That Rocked\": {\"frequency\": 200, \"value\": \"The Boat That ...\"}, \"Greece 2000\": {\"frequency\": 756, \"value\": \"Greece 2000\"}, \"Sing Loud Sing Proud\": {\"frequency\": 183, \"value\": \"Sing Loud Sing ...\"}, \"Musik von Harmonia\": {\"frequency\": 5048, \"value\": \"Musik von Harmonia\"}, \"She Wolf\": {\"frequency\": 292, \"value\": \"She Wolf\"}, \"A Man And His Music\": {\"frequency\": 228, \"value\": \"A Man And His ...\"}, \"Food In The Belly\": {\"frequency\": 148, \"value\": \"Food In The Belly\"}, \"The Greatest Hits Collection\": {\"frequency\": 187, \"value\": \"The Greatest Hits ...\"}, \"We Sing.  We Dance.  We Steal Things.\": {\"frequency\": 1978, \"value\": \"We Sing.  We ...\"}, \"Tribute To Jake Hess\": {\"frequency\": 534, \"value\": \"Tribute To Jake ...\"}, \"Celsius\": {\"frequency\": 158, \"value\": \"Celsius\"}, \"Volume V - Believe\": {\"frequency\": 218, \"value\": \"Volume V - Believe\"}, \"Silent Shout\": {\"frequency\": 396, \"value\": \"Silent Shout\"}, \"The Way It Is\": {\"frequency\": 171, \"value\": \"The Way It Is\"}, \"Whatever People Say I Am_ That's What I'm Not\": {\"frequency\": 806, \"value\": \"Whatever People ...\"}, \"Ghosts 'n' Stuff\": {\"frequency\": 1075, \"value\": \"Ghosts 'n' Stuff\"}, \"Sugar_ We're Goin Down\": {\"frequency\": 481, \"value\": \"Sugar_ We're Goin ...\"}, \"A Hundred Million Suns\": {\"frequency\": 547, \"value\": \"A Hundred Million ...\"}, \"Kamikaze\": {\"frequency\": 391, \"value\": \"Kamikaze\"}, \"Move Along\": {\"frequency\": 639, \"value\": \"Move Along\"}, \"Veneer\": {\"frequency\": 312, \"value\": \"Veneer\"}, \"Shepherd Moons\": {\"frequency\": 226, \"value\": \"Shepherd Moons\"}, \"3 Rounds and a Sound\": {\"frequency\": 257, \"value\": \"3 Rounds and a ...\"}, \"White Ladder\": {\"frequency\": 189, \"value\": \"White Ladder\"}, \"Eyes Open\": {\"frequency\": 579, \"value\": \"Eyes Open\"}, \"Down On The Upside\": {\"frequency\": 437, \"value\": \"Down On The Upside\"}, \"Attack & Release\": {\"frequency\": 799, \"value\": \"Attack & Release\"}, \"Two Shoes\": {\"frequency\": 257, \"value\": \"Two Shoes\"}, \"It's Time\": {\"frequency\": 885, \"value\": \"It's Time\"}, \"Oracular Spectacular\": {\"frequency\": 225, \"value\": \"Oracular ...\"}, \"Tatsum Tisal\": {\"frequency\": 907, \"value\": \"Tatsum Tisal\"}, \"Definitive Collection\": {\"frequency\": 144, \"value\": \"Definitive ...\"}, \"Evening Moods\": {\"frequency\": 217, \"value\": \"Evening Moods\"}, \"In Utero\": {\"frequency\": 518, \"value\": \"In Utero\"}, \"Q: Are We Not Men?  A: We Are Devo / Devo Live\": {\"frequency\": 202, \"value\": \"Q: Are We Not Men? ...\"}, \"The Curse\": {\"frequency\": 204, \"value\": \"The Curse\"}, \"Reggae Gold 2008\": {\"frequency\": 202, \"value\": \"Reggae Gold 2008\"}, \"Pause\": {\"frequency\": 682, \"value\": \"Pause\"}, \"Jump Back - The Best Of The Rolling Stones_ '71-'93\": {\"frequency\": 327, \"value\": \"Jump Back - The ...\"}, \"More Creedence Gold\": {\"frequency\": 515, \"value\": \"More Creedence ...\"}, \"The World Of Sheena Easton - The Singles\": {\"frequency\": 1078, \"value\": \"The World Of ...\"}, \"Vampire Weekend\": {\"frequency\": 1942, \"value\": \"Vampire Weekend\"}, \"S.C.I.E.N.C.E.\": {\"frequency\": 146, \"value\": \"S.C.I.E.N.C.E.\"}, \"Uprising\": {\"frequency\": 1061, \"value\": \"Uprising\"}, \"Silver Side Up\": {\"frequency\": 253, \"value\": \"Silver Side Up\"}, \"The Chase\": {\"frequency\": 154, \"value\": \"The Chase\"}, \"Smash\": {\"frequency\": 270, \"value\": \"Smash\"}, \"My Songs\": {\"frequency\": 152, \"value\": \"My Songs\"}, \"To Plant A Seed\": {\"frequency\": 226, \"value\": \"To Plant A Seed\"}, \"Pump Up The Jam\": {\"frequency\": 193, \"value\": \"Pump Up The Jam\"}, \"Music Monks\": {\"frequency\": 169, \"value\": \"Music Monks\"}, \"Live at the Greek Theatre\": {\"frequency\": 909, \"value\": \"Live at the Greek ...\"}, \"Gears\": {\"frequency\": 976, \"value\": \"Gears\"}, \"Only By The Night\": {\"frequency\": 5128, \"value\": \"Only By The Night\"}, \"20th Century Masters: The Millennium Collection: Best of Bel Biv DeVoe\": {\"frequency\": 183, \"value\": \"20th Century ...\"}, \"Greatest Hits / Every Mile A Memory 2003 - 2008\": {\"frequency\": 252, \"value\": \"Greatest Hits / ...\"}, \"Ultimate R&B 2007\": {\"frequency\": 185, \"value\": \"Ultimate R&B 2007\"}, \"The Very Best Of Kajagoogoo And Limahl\": {\"frequency\": 215, \"value\": \"The Very Best Of ...\"}, \"Pork And Beans\": {\"frequency\": 172, \"value\": \"Pork And Beans\"}, \"The Shepherd's Dog\": {\"frequency\": 325, \"value\": \"The Shepherd's Dog\"}, \"London Weekend\": {\"frequency\": 259, \"value\": \"London Weekend\"}, \"The Sound of Madness\": {\"frequency\": 685, \"value\": \"The Sound of ...\"}, \"Absolution\": {\"frequency\": 814, \"value\": \"Absolution\"}, \"Like Vines\": {\"frequency\": 170, \"value\": \"Like Vines\"}, \"Light Grenades\": {\"frequency\": 376, \"value\": \"Light Grenades\"}, \"Relapse\": {\"frequency\": 655, \"value\": \"Relapse\"}, \"Hot Potatoes: The Best Of Devo\": {\"frequency\": 181, \"value\": \"Hot Potatoes: The ...\"}, \"Smokey Rolls Down Thunder Canyon\": {\"frequency\": 183, \"value\": \"Smokey Rolls Down ...\"}, \"They're Only Chasing Safety\": {\"frequency\": 155, \"value\": \"They're Only ...\"}, \"One Fierce Beer Coaster\": {\"frequency\": 281, \"value\": \"One Fierce Beer ...\"}, \"The Good Times\": {\"frequency\": 321, \"value\": \"The Good Times\"}, \"Cage The Elephant\": {\"frequency\": 1643, \"value\": \"Cage The Elephant\"}, \"Lights & Music\": {\"frequency\": 228, \"value\": \"Lights & Music\"}, \"Godsmack\": {\"frequency\": 296, \"value\": \"Godsmack\"}, \"En Stol P\\ufffd\\ufffd Tegn\\ufffd\\ufffdr\": {\"frequency\": 190, \"value\": \"En Stol P\\u00e5 Tegn\\u00e9r\"}, \"My First Kiss\": {\"frequency\": 334, \"value\": \"My First Kiss\"}, \"Moulin Rouge I & II\": {\"frequency\": 362, \"value\": \"Moulin Rouge I & ...\"}, \"Pieces Of A Real Heart\": {\"frequency\": 203, \"value\": \"Pieces Of A Real ...\"}, \"Manners\": {\"frequency\": 833, \"value\": \"Manners\"}, \"Vespertine Live\": {\"frequency\": 4564, \"value\": \"Vespertine Live\"}, \"Rock N Roll Jesus\": {\"frequency\": 350, \"value\": \"Rock N Roll Jesus\"}, \"Ultimate Collection (Back To Front)\": {\"frequency\": 246, \"value\": \"Ultimate ...\"}, \"And All That Could Have Been/Still\": {\"frequency\": 172, \"value\": \"And All That Could ...\"}, \"Mi Sangre\": {\"frequency\": 513, \"value\": \"Mi Sangre\"}, \"If We Ever Meet Again (Featuring Katy Perry)\": {\"frequency\": 311, \"value\": \"If We Ever Meet ...\"}, \"WANT\": {\"frequency\": 809, \"value\": \"WANT\"}, \"Holy Roller Novocaine EP\": {\"frequency\": 254, \"value\": \"Holy Roller ...\"}, \"16 Candles\": {\"frequency\": 1083, \"value\": \"16 Candles\"}, \"It's A Misery Business\": {\"frequency\": 198, \"value\": \"It's A Misery ...\"}, \"Baron Von Bullshit Rides Again\": {\"frequency\": 283, \"value\": \"Baron Von Bullshit ...\"}, \"Hypnotica\": {\"frequency\": 373, \"value\": \"Hypnotica\"}, \"17 Again - Music From The Motion Picture\": {\"frequency\": 355, \"value\": \"17 Again - Music ...\"}, \"Magikal Journey (The Hits Collection 1998-2008)\": {\"frequency\": 204, \"value\": \"Magikal Journey ...\"}, \"New Joc City\": {\"frequency\": 240, \"value\": \"New Joc City\"}, \"Nevermind\": {\"frequency\": 428, \"value\": \"Nevermind\"}, \"Another Level\": {\"frequency\": 343, \"value\": \"Another Level\"}, \"The Very Best of Bananarama\": {\"frequency\": 155, \"value\": \"The Very Best of ...\"}, \"The Con\": {\"frequency\": 361, \"value\": \"The Con\"}, \"Mozart - Eine kleine Nachtmusik\": {\"frequency\": 3277, \"value\": \"Mozart - Eine ...\"}, \"Alvin & The Chipmunks / OST\": {\"frequency\": 164, \"value\": \"Alvin & The ...\"}, \"Sinner\": {\"frequency\": 349, \"value\": \"Sinner\"}, \"Blue Notebooks\": {\"frequency\": 423, \"value\": \"Blue Notebooks\"}, \"Thicker Than Water\": {\"frequency\": 221, \"value\": \"Thicker Than Water\"}, \"Gold\": {\"frequency\": 1701, \"value\": \"Gold\"}, \"Massive Reggae\": {\"frequency\": 272, \"value\": \"Massive Reggae\"}, \"Leaving Through The Window\": {\"frequency\": 177, \"value\": \"Leaving Through ...\"}, \"Digital Ash In A Digital Urn\": {\"frequency\": 167, \"value\": \"Digital Ash In A ...\"}, \"Away We Go Original Motion Picture Soundtrack\": {\"frequency\": 252, \"value\": \"Away We Go ...\"}, \"In The Aeroplane Over The Sea\": {\"frequency\": 410, \"value\": \"In The Aeroplane ...\"}, \"Def Jam 25_ Vol. 24 - Beef\": {\"frequency\": 154, \"value\": \"Def Jam 25_ Vol. ...\"}, \"Pure Urban Essentials 2010\": {\"frequency\": 219, \"value\": \"Pure Urban ...\"}, \"Smoke & Mirrors\": {\"frequency\": 512, \"value\": \"Smoke & Mirrors\"}, \"Lights And Sounds\": {\"frequency\": 161, \"value\": \"Lights And Sounds\"}, \"Pills 'n' Thrills And Bellyaches\": {\"frequency\": 153, \"value\": \"Pills 'n' Thrills ...\"}, \"Juno - Music From The Motion Picture\": {\"frequency\": 547, \"value\": \"Juno - Music From ...\"}, \"Her Majesty The Decemberists\": {\"frequency\": 793, \"value\": \"Her Majesty The ...\"}, \"Albertine\": {\"frequency\": 300, \"value\": \"Albertine\"}, \"South Park O.S.T\": {\"frequency\": 150, \"value\": \"South Park O.S.T\"}, \"Tha Carter II\": {\"frequency\": 208, \"value\": \"Tha Carter II\"}, \"The Downward Spiral\": {\"frequency\": 575, \"value\": \"The Downward ...\"}, \"For Your Entertainment\": {\"frequency\": 163, \"value\": \"For Your ...\"}, \"Elephant Shell\": {\"frequency\": 202, \"value\": \"Elephant Shell\"}, \"Us And Them\": {\"frequency\": 167, \"value\": \"Us And Them\"}, \"A Lesson In Romantics\": {\"frequency\": 797, \"value\": \"A Lesson In ...\"}, \"Los Angeles\": {\"frequency\": 575, \"value\": \"Los Angeles\"}, \"Live At The Bayside Social Club\": {\"frequency\": 209, \"value\": \"Live At The ...\"}, \"Try Sleeping With A Broken Heart\": {\"frequency\": 224, \"value\": \"Try Sleeping With ...\"}, \"Rated R\": {\"frequency\": 1318, \"value\": \"Rated R\"}, \"Masters Of The Universe\": {\"frequency\": 413, \"value\": \"Masters Of The ...\"}, \"On Avery Island\": {\"frequency\": 406, \"value\": \"On Avery Island\"}, \"Pricele$$\": {\"frequency\": 156, \"value\": \"Pricele$$\"}, \"Fashion Nugget\": {\"frequency\": 387, \"value\": \"Fashion Nugget\"}, \"The Invisible Man\": {\"frequency\": 311, \"value\": \"The Invisible Man\"}, \"Blues\": {\"frequency\": 161, \"value\": \"Blues\"}, \"2009 GRAMMY Nominees\": {\"frequency\": 507, \"value\": \"2009 GRAMMY ...\"}, \"Emergency\": {\"frequency\": 195, \"value\": \"Emergency\"}, \"Tarzan Original Soundtrack (Italian Version)\": {\"frequency\": 151, \"value\": \"Tarzan Original ...\"}, \"Unplugged\": {\"frequency\": 582, \"value\": \"Unplugged\"}, \"La Fossette\": {\"frequency\": 803, \"value\": \"La Fossette\"}, \"Fermi Paradox\": {\"frequency\": 1623, \"value\": \"Fermi Paradox\"}, \"Finally\": {\"frequency\": 148, \"value\": \"Finally\"}, \"Underachievers Please Try Harder\": {\"frequency\": 254, \"value\": \"Underachievers ...\"}, \"Gentlemania\": {\"frequency\": 176, \"value\": \"Gentlemania\"}, \"The Green Album\": {\"frequency\": 181, \"value\": \"The Green Album\"}, \"Wincing The Night Away\": {\"frequency\": 617, \"value\": \"Wincing The Night ...\"}, \"Alright_ Still\": {\"frequency\": 704, \"value\": \"Alright_ Still\"}, \"Donde Estan Los Ladrones\": {\"frequency\": 236, \"value\": \"Donde Estan Los ...\"}, \"The Very Best Of Euphoric Dance Breakdown\": {\"frequency\": 358, \"value\": \"The Very Best Of ...\"}, \"The Silver Tree\": {\"frequency\": 157, \"value\": \"The Silver Tree\"}, \"Antics\": {\"frequency\": 362, \"value\": \"Antics\"}, \"Melody AM\": {\"frequency\": 376, \"value\": \"Melody AM\"}, \"Buena Vista Social Club\": {\"frequency\": 141, \"value\": \"Buena Vista Social ...\"}, \"Trouble\": {\"frequency\": 638, \"value\": \"Trouble\"}, \"Dan In Real Life (Original Motion Picture Soundtrack)\": {\"frequency\": 162, \"value\": \"Dan In Real Life ...\"}, \"Urban Hits\": {\"frequency\": 162, \"value\": \"Urban Hits\"}, \"Humbug\": {\"frequency\": 300, \"value\": \"Humbug\"}, \"Naschi 14 Slov\": {\"frequency\": 204, \"value\": \"Naschi 14 Slov\"}, \"Slipknot\": {\"frequency\": 344, \"value\": \"Slipknot\"}, \"Epiphany\": {\"frequency\": 281, \"value\": \"Epiphany\"}, \"Puerto Presente\": {\"frequency\": 169, \"value\": \"Puerto Presente\"}, \"Mirrored\": {\"frequency\": 146, \"value\": \"Mirrored\"}, \"My World 2.0\": {\"frequency\": 1590, \"value\": \"My World 2.0\"}, \"A Book Like This\": {\"frequency\": 646, \"value\": \"A Book Like This\"}, \"Essential\": {\"frequency\": 389, \"value\": \"Essential\"}, \"Camp Rock OST\": {\"frequency\": 260, \"value\": \"Camp Rock OST\"}, \"Halo 2 (Original Soundtrack And New Music) Volume 1\": {\"frequency\": 215, \"value\": \"Halo 2 (Original ...\"}, \"Cool - Chillout\": {\"frequency\": 168, \"value\": \"Cool - Chillout\"}, \"Gorilla Manor\": {\"frequency\": 645, \"value\": \"Gorilla Manor\"}, \"Starlight\": {\"frequency\": 269, \"value\": \"Starlight\"}, \"Dejarte De Amar\": {\"frequency\": 484, \"value\": \"Dejarte De Amar\"}, \"Jackson Browne Solo Acoustic Vol. 1\": {\"frequency\": 187, \"value\": \"Jackson Browne ...\"}, \"Hail To The Thief\": {\"frequency\": 437, \"value\": \"Hail To The Thief\"}, \"Some People Have Real Problems\": {\"frequency\": 320, \"value\": \"Some People Have ...\"}, \"La Roux\": {\"frequency\": 527, \"value\": \"La Roux\"}, \"Here We Go Again\": {\"frequency\": 207, \"value\": \"Here We Go Again\"}, \"Sing-A-Longs & Lullabies For The Film Curious George\": {\"frequency\": 804, \"value\": \"Sing-A-Longs & ...\"}, \"Pirates Of The Caribbean Original Soundtrack\": {\"frequency\": 495, \"value\": \"Pirates Of The ...\"}, \"Like You (Triple Play)\": {\"frequency\": 150, \"value\": \"Like You (Triple ...\"}, \"Fever\": {\"frequency\": 196, \"value\": \"Fever\"}, \"Sweet Dreams\": {\"frequency\": 179, \"value\": \"Sweet Dreams\"}, \"Apocalyptica\": {\"frequency\": 316, \"value\": \"Apocalyptica\"}, \"Songs In A Minor\": {\"frequency\": 256, \"value\": \"Songs In A Minor\"}, \"I Got That Work\": {\"frequency\": 270, \"value\": \"I Got That Work\"}, \"Kids Sing Along Pac\": {\"frequency\": 222, \"value\": \"Kids Sing Along ...\"}, \"The Greatest\": {\"frequency\": 163, \"value\": \"The Greatest\"}, \"Cool - Rock\": {\"frequency\": 214, \"value\": \"Cool - Rock\"}, \"Chronicle: 20 Greatest Hits\": {\"frequency\": 813, \"value\": \"Chronicle: 20 ...\"}, \"Infinity On High\": {\"frequency\": 276, \"value\": \"Infinity On High\"}, \"A Cork Tale Wake\": {\"frequency\": 202, \"value\": \"A Cork Tale Wake\"}, \"Late Registration\": {\"frequency\": 602, \"value\": \"Late Registration\"}, \"Now That I've Found You - A Collection\": {\"frequency\": 165, \"value\": \"Now That I've ...\"}, \"Maximum Joy \": {\"frequency\": 149, \"value\": \"Maximum Joy\"}, \"Simple Times\": {\"frequency\": 309, \"value\": \"Simple Times\"}, \"[500] Days Of Summer - Music From The Motion Picture\": {\"frequency\": 388, \"value\": \"[500] Days Of ...\"}, \"Glittering Prize 81/92\": {\"frequency\": 147, \"value\": \"Glittering Prize ...\"}, \"Relapse [Deluxe]\": {\"frequency\": 414, \"value\": \"Relapse [Deluxe]\"}, \"It's The Time\": {\"frequency\": 1293, \"value\": \"It's The Time\"}, \"Lonely Day\": {\"frequency\": 407, \"value\": \"Lonely Day\"}, \"Jugganauts - The Best Of ICP\": {\"frequency\": 143, \"value\": \"Jugganauts - The ...\"}, \"Faithful\": {\"frequency\": 162, \"value\": \"Faithful\"}, \"Hello Nasty (Remastered Edition)\": {\"frequency\": 859, \"value\": \"Hello Nasty ...\"}, \"All The Right Reasons\": {\"frequency\": 776, \"value\": \"All The Right ...\"}, \"Totta 6: Bortom M\\ufffd\\ufffdnen Och Mars\": {\"frequency\": 156, \"value\": \"Totta 6: Bortom ...\"}, \"I Am Angry\": {\"frequency\": 268, \"value\": \"I Am Angry\"}, \"Be\": {\"frequency\": 196, \"value\": \"Be\"}, \"Blockbuster Movie Hits\": {\"frequency\": 173, \"value\": \"Blockbuster Movie ...\"}, \"Far\": {\"frequency\": 416, \"value\": \"Far\"}, \"Sonic Firestorm\": {\"frequency\": 171, \"value\": \"Sonic Firestorm\"}, \"Mignonette\": {\"frequency\": 181, \"value\": \"Mignonette\"}, \"Virgin Suicide / Talkie Walkie\": {\"frequency\": 307, \"value\": \"Virgin Suicide / ...\"}, \"Hits\": {\"frequency\": 647, \"value\": \"Hits\"}, \"R&B Classics Collection\": {\"frequency\": 249, \"value\": \"R&B Classics ...\"}, \"Continuum\": {\"frequency\": 1140, \"value\": \"Continuum\"}, \"9 Lives\": {\"frequency\": 263, \"value\": \"9 Lives\"}, \"Midnight Boom\": {\"frequency\": 725, \"value\": \"Midnight Boom\"}, \"Always Where I Need To Be\": {\"frequency\": 197, \"value\": \"Always Where I ...\"}, \"Fallen\": {\"frequency\": 4206, \"value\": \"Fallen\"}, \"Louder Now\": {\"frequency\": 162, \"value\": \"Louder Now\"}, \"Boys Like Girls\": {\"frequency\": 260, \"value\": \"Boys Like Girls\"}, \"Cookies\": {\"frequency\": 344, \"value\": \"Cookies\"}, \"Fell In Love With A Girl\": {\"frequency\": 182, \"value\": \"Fell In Love With ...\"}, \"Seven Nation Army\": {\"frequency\": 833, \"value\": \"Seven Nation Army\"}, \"Teen Dream\": {\"frequency\": 441, \"value\": \"Teen Dream\"}, \"Before The Dawn Heals Us\": {\"frequency\": 241, \"value\": \"Before The Dawn ...\"}, \"Yellow House\": {\"frequency\": 311, \"value\": \"Yellow House\"}, \"As I Am\": {\"frequency\": 206, \"value\": \"As I Am\"}, \"Hook Me Up\": {\"frequency\": 237, \"value\": \"Hook Me Up\"}, \"Insomniac\": {\"frequency\": 518, \"value\": \"Insomniac\"}, \"Monday Morning Cold\": {\"frequency\": 293, \"value\": \"Monday Morning ...\"}, \"The Papercut Chronicles\": {\"frequency\": 160, \"value\": \"The Papercut ...\"}, \"The Evolution of Robin Thicke\": {\"frequency\": 280, \"value\": \"The Evolution of ...\"}, \"Live At CBGB's\": {\"frequency\": 159, \"value\": \"Live At CBGB's\"}, \"Sun Giant\": {\"frequency\": 302, \"value\": \"Sun Giant\"}, \"D-Sides\": {\"frequency\": 278, \"value\": \"D-Sides\"}, \"Alejandro Sanz 3\": {\"frequency\": 273, \"value\": \"Alejandro Sanz 3\"}, \"Massive R&B Classics\": {\"frequency\": 180, \"value\": \"Massive R&B ...\"}, \"Inside In / Inside Out\": {\"frequency\": 515, \"value\": \"Inside In / Inside ...\"}, \"Curtain Call\": {\"frequency\": 1502, \"value\": \"Curtain Call\"}, \"The Essential Clash\": {\"frequency\": 167, \"value\": \"The Essential ...\"}, \"Garage Inc.\": {\"frequency\": 380, \"value\": \"Garage Inc.\"}, \"Neon Bible\": {\"frequency\": 993, \"value\": \"Neon Bible\"}, \"Straight Outta Lynwood\": {\"frequency\": 199, \"value\": \"Straight Outta ...\"}, \"Hot N Cold\": {\"frequency\": 151, \"value\": \"Hot N Cold\"}, \"Dirty Little Secret\": {\"frequency\": 191, \"value\": \"Dirty Little ...\"}, \"Black Market Music\": {\"frequency\": 190, \"value\": \"Black Market Music\"}, \"So Long & Thanks For All The Shoes\": {\"frequency\": 208, \"value\": \"So Long & Thanks ...\"}, \"Un\": {\"frequency\": 193, \"value\": \"Un\"}, \"From Under The Cork Tree\": {\"frequency\": 161, \"value\": \"From Under The ...\"}, \"The River Sessions\": {\"frequency\": 197, \"value\": \"The River Sessions\"}, \"Alice In Chains\": {\"frequency\": 179, \"value\": \"Alice In Chains\"}, \"Distillation\": {\"frequency\": 354, \"value\": \"Distillation\"}, \"Playlist: The Very Best Of Bill Withers\": {\"frequency\": 865, \"value\": \"Playlist: The Very ...\"}, \"Design Your Universe\": {\"frequency\": 203, \"value\": \"Design Your ...\"}, \"Bubbly\": {\"frequency\": 293, \"value\": \"Bubbly\"}, \"Kuschelrock 21\": {\"frequency\": 212, \"value\": \"Kuschelrock 21\"}, \"Winter Tour '05 - '06\": {\"frequency\": 576, \"value\": \"Winter Tour '05 - ...\"}, \"No Promises\": {\"frequency\": 350, \"value\": \"No Promises\"}, \"Ministry of Sound Presents Chilled Sessions\": {\"frequency\": 266, \"value\": \"Ministry of Sound ...\"}, \"U218 Singles\": {\"frequency\": 470, \"value\": \"U218 Singles\"}, \"Summerland\": {\"frequency\": 154, \"value\": \"Summerland\"}, \"An \\ufffd\\ufffdnswer Can Be Found\": {\"frequency\": 168, \"value\": \"An \\u00c5nswer Can Be ...\"}, \"Grease\": {\"frequency\": 156, \"value\": \"Grease\"}, \"1983\": {\"frequency\": 377, \"value\": \"1983\"}, \"The Golden Age\": {\"frequency\": 177, \"value\": \"The Golden Age\"}, \"R&B 2006\": {\"frequency\": 964, \"value\": \"R&B 2006\"}, \"Train\": {\"frequency\": 149, \"value\": \"Train\"}, \"3 Doors Down\": {\"frequency\": 632, \"value\": \"3 Doors Down\"}, \"Hood Rich\": {\"frequency\": 245, \"value\": \"Hood Rich\"}, \"Friends Reunited: Music Of The Year 1979\": {\"frequency\": 555, \"value\": \"Friends Reunited: ...\"}, \"Deja Entendu\": {\"frequency\": 201, \"value\": \"Deja Entendu\"}, \"Night Ripper\": {\"frequency\": 489, \"value\": \"Night Ripper\"}, \"The Airborne Toxic Event\": {\"frequency\": 262, \"value\": \"The Airborne Toxic ...\"}, \"Platinum & Gold Collection\": {\"frequency\": 291, \"value\": \"Platinum & Gold ...\"}, \"Anastasia\": {\"frequency\": 183, \"value\": \"Anastasia\"}, \"Toxicity\": {\"frequency\": 433, \"value\": \"Toxicity\"}, \"Los Reyes De La Cancion\": {\"frequency\": 174, \"value\": \"Los Reyes De La ...\"}, \"City Of Evil\": {\"frequency\": 471, \"value\": \"City Of Evil\"}, \"Noise Floor [Rarities 98 - 05]\": {\"frequency\": 290, \"value\": \"Noise Floor ...\"}, \"The Diary Of Alicia Keys\": {\"frequency\": 260, \"value\": \"The Diary Of ...\"}, \"Best Of Live\": {\"frequency\": 171, \"value\": \"Best Of Live\"}, \"Hard House Anthems\": {\"frequency\": 696, \"value\": \"Hard House Anthems\"}, \"Vertigo\": {\"frequency\": 206, \"value\": \"Vertigo\"}, \"Music From The Motion Picture Once\": {\"frequency\": 163, \"value\": \"Music From The ...\"}, \"Every Breath You Take The Classics\": {\"frequency\": 182, \"value\": \"Every Breath You ...\"}, \"Sounding The Seventh Trumpet\": {\"frequency\": 219, \"value\": \"Sounding The ...\"}, \"Sinners Like Me\": {\"frequency\": 388, \"value\": \"Sinners Like Me\"}, \"Made In The Dark\": {\"frequency\": 194, \"value\": \"Made In The Dark\"}, \"Shiver\": {\"frequency\": 286, \"value\": \"Shiver\"}, \"Rubber Factory\": {\"frequency\": 846, \"value\": \"Rubber Factory\"}, \"The Original Broadway Cast Recording 'American Idiot' Featuring Green Day\": {\"frequency\": 1213, \"value\": \"The Original ...\"}, \"The Hits\": {\"frequency\": 305, \"value\": \"The Hits\"}, \"TPH Production Perform The Blues Brothers\": {\"frequency\": 249, \"value\": \"TPH Production ...\"}, \"Under My Skin/Let Go\": {\"frequency\": 570, \"value\": \"Under My Skin/Let ...\"}, \"Tasty + B Sides\": {\"frequency\": 260, \"value\": \"Tasty + B Sides\"}, \"Doin' Something Right / Billy Currington\": {\"frequency\": 234, \"value\": \"Doin' Something ...\"}, \"Double Wide\": {\"frequency\": 269, \"value\": \"Double Wide\"}, \"Lost\": {\"frequency\": 148, \"value\": \"Lost\"}, \"Hip Hop Classics Collection\": {\"frequency\": 174, \"value\": \"Hip Hop Classics ...\"}, \"The Best Of Both Worlds\": {\"frequency\": 660, \"value\": \"The Best Of Both ...\"}, \"Ya Mama & Song For Shelter\": {\"frequency\": 160, \"value\": \"Ya Mama & Song For ...\"}, \"Al final de este viaje\": {\"frequency\": 215, \"value\": \"Al final de este ...\"}, \"Best.  Concert.  Ever.\": {\"frequency\": 419, \"value\": \"Best.  Concert. ...\"}, \"The Best Sixties Album In The World...Ever!\": {\"frequency\": 348, \"value\": \"The Best Sixties ...\"}, \"All Through The Night\": {\"frequency\": 208, \"value\": \"All Through The ...\"}, \"Love To Love\": {\"frequency\": 277, \"value\": \"Love To Love\"}, \"Garbage\": {\"frequency\": 266, \"value\": \"Garbage\"}, \"Dreams-Come-True-Girl\": {\"frequency\": 180, \"value\": \"Dreams-Come-True- ...\"}, \"Jagged Little Pill Acoustic\": {\"frequency\": 501, \"value\": \"Jagged Little Pill ...\"}, \"Phil Wickham\": {\"frequency\": 166, \"value\": \"Phil Wickham\"}, \"Live: And All That Could Have Been\": {\"frequency\": 290, \"value\": \"Live: And All That ...\"}, \"Appetite For Destruction\": {\"frequency\": 185, \"value\": \"Appetite For ...\"}}, \"size\": 1491952}}, \"selected_variable\": {\"name\": [\"combo_songs\"], \"descriptives\": {\"rows\": 1491952, \"columns\": 8}, \"view_component\": \"Summary\", \"view_file\": \"sframe\", \"view_params\": {\"y\": null, \"x\": null, \"columns\": [\"user\", \"song_id\", \"plays\", \"title\", \"release\", \"artist_name\", \"year\", \"song_name\"], \"view\": null}, \"view_components\": [\"Summary\", \"Table\", \"Bar Chart\", \"BoxWhisker Plot\", \"Line Chart\", \"Scatter Plot\", \"Heat Map\", \"Plots\"], \"type\": \"SFrame\", \"columns\": [{\"dtype\": \"str\", \"name\": \"user\"}, {\"dtype\": \"str\", \"name\": \"song_id\"}, {\"dtype\": \"int\", \"name\": \"plays\"}, {\"dtype\": \"str\", \"name\": \"title\"}, {\"dtype\": \"str\", \"name\": \"release\"}, {\"dtype\": \"str\", \"name\": \"artist_name\"}, {\"dtype\": \"int\", \"name\": \"year\"}, {\"dtype\": \"str\", \"name\": \"song_name\"}], \"column_identifiers\": [\"song_id\", \"plays\", \"title\", \"song_name\", \"artist_name\", \"user\", \"year\", \"release\"]}, \"columns\": [{\"dtype\": \"str\", \"name\": \"user\"}, {\"dtype\": \"str\", \"name\": \"song_id\"}, {\"dtype\": \"int\", \"name\": \"plays\"}, {\"dtype\": \"str\", \"name\": \"title\"}, {\"dtype\": \"str\", \"name\": \"release\"}, {\"dtype\": \"str\", \"name\": \"artist_name\"}, {\"dtype\": \"int\", \"name\": \"year\"}, {\"dtype\": \"str\", \"name\": \"song_name\"}]}, e);\n",
       "                });\n",
       "            })();\n",
       "        "
      ]
     },
     "metadata": {},
     "output_type": "display_data"
    }
   ],
   "source": [
    "combo_songs.show()"
   ]
  },
  {
   "cell_type": "code",
   "execution_count": 24,
   "metadata": {
    "collapsed": false
   },
   "outputs": [
    {
     "data": {
      "application/javascript": [
       "$(\"head\").append($(\"<link/>\").attr({\n",
       "  rel:  \"stylesheet\",\n",
       "  type: \"text/css\",\n",
       "  href: \"//cdnjs.cloudflare.com/ajax/libs/font-awesome/4.1.0/css/font-awesome.min.css\"\n",
       "}));\n",
       "$(\"head\").append($(\"<link/>\").attr({\n",
       "  rel:  \"stylesheet\",\n",
       "  type: \"text/css\",\n",
       "  href: \"https://static.turi.com/products/graphlab-create/2.1/canvas/css/canvas.css\"\n",
       "}));\n",
       "\n",
       "            (function(){\n",
       "\n",
       "                var e = null;\n",
       "                if (typeof element == 'undefined') {\n",
       "                    var scripts = document.getElementsByTagName('script');\n",
       "                    var thisScriptTag = scripts[scripts.length-1];\n",
       "                    var parentDiv = thisScriptTag.parentNode;\n",
       "                    e = document.createElement('div');\n",
       "                    parentDiv.appendChild(e);\n",
       "                } else {\n",
       "                    e = element[0];\n",
       "                }\n",
       "\n",
       "                if (typeof requirejs !== 'undefined') {\n",
       "                    // disable load timeout; ipython_app.js is large and can take a while to load.\n",
       "                    requirejs.config({waitSeconds: 0});\n",
       "                }\n",
       "\n",
       "                require(['https://static.turi.com/products/graphlab-create/2.1/canvas/js/ipython_app.js'], function(IPythonApp){\n",
       "                    var app = new IPythonApp();\n",
       "                    app.attachView('sframe','Summary', {\"ipython\": true, \"sketch\": {\"plays\": {\"std\": 9.372444698524358, \"complete\": true, \"min\": 1.0, \"max\": 923.0, \"quantile\": [1.0, 1.0, 1.0, 1.0, 1.0, 1.0, 1.0, 1.0, 1.0, 1.0, 1.0, 1.0, 1.0, 1.0, 1.0, 1.0, 1.0, 1.0, 1.0, 1.0, 1.0, 1.0, 1.0, 1.0, 1.0, 1.0, 1.0, 1.0, 1.0, 1.0, 1.0, 1.0, 1.0, 1.0, 1.0, 1.0, 1.0, 1.0, 1.0, 1.0, 1.0, 1.0, 1.0, 1.0, 1.0, 1.0, 1.0, 1.0, 1.0, 2.0, 2.0, 2.0, 2.0, 2.0, 2.0, 2.0, 2.0, 2.0, 2.0, 2.0, 2.0, 2.0, 2.0, 2.0, 2.0, 3.0, 3.0, 3.0, 3.0, 3.0, 3.0, 3.0, 4.0, 4.0, 4.0, 4.0, 4.0, 5.0, 5.0, 5.0, 5.0, 5.0, 5.0, 6.0, 6.0, 6.0, 7.0, 7.0, 8.0, 8.0, 9.0, 10.0, 11.0, 12.0, 13.0, 15.0, 18.0, 21.0, 27.0, 39.0, 923.0], \"median\": 2.0, \"numeric\": true, \"num_unique\": 341, \"num_undefined\": 0, \"var\": 87.84271962689733, \"progress\": 1.0, \"size\": 1133382, \"frequent_items\": {\"1\": {\"frequency\": 553061, \"value\": 1}, \"2\": {\"frequency\": 179752, \"value\": 2}, \"3\": {\"frequency\": 83456, \"value\": 3}, \"4\": {\"frequency\": 54293, \"value\": 4}, \"5\": {\"frequency\": 68979, \"value\": 5}, \"6\": {\"frequency\": 33337, \"value\": 6}, \"7\": {\"frequency\": 22169, \"value\": 7}, \"8\": {\"frequency\": 17704, \"value\": 8}, \"9\": {\"frequency\": 12824, \"value\": 9}, \"10\": {\"frequency\": 16936, \"value\": 10}, \"11\": {\"frequency\": 9823, \"value\": 11}, \"12\": {\"frequency\": 8646, \"value\": 12}, \"13\": {\"frequency\": 6438, \"value\": 13}, \"14\": {\"frequency\": 5873, \"value\": 14}, \"15\": {\"frequency\": 6360, \"value\": 15}, \"16\": {\"frequency\": 4878, \"value\": 16}, \"17\": {\"frequency\": 3912, \"value\": 17}, \"18\": {\"frequency\": 3649, \"value\": 18}, \"19\": {\"frequency\": 2843, \"value\": 19}, \"20\": {\"frequency\": 3372, \"value\": 20}, \"21\": {\"frequency\": 2588, \"value\": 21}, \"22\": {\"frequency\": 2460, \"value\": 22}, \"23\": {\"frequency\": 1939, \"value\": 23}, \"24\": {\"frequency\": 1900, \"value\": 24}, \"25\": {\"frequency\": 1849, \"value\": 25}, \"26\": {\"frequency\": 1538, \"value\": 26}, \"27\": {\"frequency\": 1432, \"value\": 27}, \"28\": {\"frequency\": 1277, \"value\": 28}, \"29\": {\"frequency\": 1080, \"value\": 29}, \"30\": {\"frequency\": 1224, \"value\": 30}, \"31\": {\"frequency\": 969, \"value\": 31}, \"32\": {\"frequency\": 981, \"value\": 32}, \"33\": {\"frequency\": 800, \"value\": 33}, \"34\": {\"frequency\": 791, \"value\": 34}, \"35\": {\"frequency\": 777, \"value\": 35}, \"36\": {\"frequency\": 702, \"value\": 36}, \"37\": {\"frequency\": 620, \"value\": 37}, \"38\": {\"frequency\": 601, \"value\": 38}, \"39\": {\"frequency\": 496, \"value\": 39}, \"40\": {\"frequency\": 621, \"value\": 40}, \"41\": {\"frequency\": 475, \"value\": 41}, \"42\": {\"frequency\": 481, \"value\": 42}, \"43\": {\"frequency\": 433, \"value\": 43}, \"44\": {\"frequency\": 402, \"value\": 44}, \"45\": {\"frequency\": 415, \"value\": 45}, \"46\": {\"frequency\": 361, \"value\": 46}, \"47\": {\"frequency\": 333, \"value\": 47}, \"48\": {\"frequency\": 319, \"value\": 48}, \"49\": {\"frequency\": 286, \"value\": 49}, \"50\": {\"frequency\": 292, \"value\": 50}, \"51\": {\"frequency\": 258, \"value\": 51}, \"52\": {\"frequency\": 258, \"value\": 52}, \"53\": {\"frequency\": 243, \"value\": 53}, \"54\": {\"frequency\": 232, \"value\": 54}, \"55\": {\"frequency\": 218, \"value\": 55}, \"56\": {\"frequency\": 196, \"value\": 56}, \"57\": {\"frequency\": 190, \"value\": 57}, \"58\": {\"frequency\": 187, \"value\": 58}, \"59\": {\"frequency\": 187, \"value\": 59}, \"60\": {\"frequency\": 179, \"value\": 60}, \"61\": {\"frequency\": 136, \"value\": 61}, \"62\": {\"frequency\": 143, \"value\": 62}, \"63\": {\"frequency\": 123, \"value\": 63}, \"64\": {\"frequency\": 128, \"value\": 64}, \"65\": {\"frequency\": 139, \"value\": 65}, \"66\": {\"frequency\": 132, \"value\": 66}, \"67\": {\"frequency\": 119, \"value\": 67}, \"68\": {\"frequency\": 126, \"value\": 68}, \"69\": {\"frequency\": 101, \"value\": 69}, \"70\": {\"frequency\": 106, \"value\": 70}, \"71\": {\"frequency\": 101, \"value\": 71}, \"72\": {\"frequency\": 95, \"value\": 72}, \"73\": {\"frequency\": 77, \"value\": 73}, \"74\": {\"frequency\": 87, \"value\": 74}, \"75\": {\"frequency\": 71, \"value\": 75}, \"76\": {\"frequency\": 75, \"value\": 76}, \"77\": {\"frequency\": 62, \"value\": 77}, \"78\": {\"frequency\": 96, \"value\": 78}, \"79\": {\"frequency\": 74, \"value\": 79}, \"80\": {\"frequency\": 77, \"value\": 80}, \"81\": {\"frequency\": 70, \"value\": 81}, \"82\": {\"frequency\": 76, \"value\": 82}, \"83\": {\"frequency\": 48, \"value\": 83}, \"84\": {\"frequency\": 73, \"value\": 84}, \"85\": {\"frequency\": 69, \"value\": 85}, \"86\": {\"frequency\": 51, \"value\": 86}, \"87\": {\"frequency\": 48, \"value\": 87}, \"88\": {\"frequency\": 37, \"value\": 88}, \"89\": {\"frequency\": 49, \"value\": 89}, \"90\": {\"frequency\": 53, \"value\": 90}, \"91\": {\"frequency\": 45, \"value\": 91}, \"92\": {\"frequency\": 49, \"value\": 92}, \"93\": {\"frequency\": 41, \"value\": 93}, \"94\": {\"frequency\": 50, \"value\": 94}, \"95\": {\"frequency\": 37, \"value\": 95}, \"96\": {\"frequency\": 33, \"value\": 96}, \"97\": {\"frequency\": 30, \"value\": 97}, \"98\": {\"frequency\": 38, \"value\": 98}, \"99\": {\"frequency\": 38, \"value\": 99}, \"100\": {\"frequency\": 42, \"value\": 100}, \"101\": {\"frequency\": 39, \"value\": 101}, \"102\": {\"frequency\": 40, \"value\": 102}, \"103\": {\"frequency\": 29, \"value\": 103}, \"104\": {\"frequency\": 34, \"value\": 104}, \"105\": {\"frequency\": 30, \"value\": 105}, \"106\": {\"frequency\": 37, \"value\": 106}, \"107\": {\"frequency\": 28, \"value\": 107}, \"108\": {\"frequency\": 27, \"value\": 108}, \"109\": {\"frequency\": 22, \"value\": 109}, \"110\": {\"frequency\": 21, \"value\": 110}, \"111\": {\"frequency\": 28, \"value\": 111}, \"112\": {\"frequency\": 31, \"value\": 112}, \"113\": {\"frequency\": 23, \"value\": 113}, \"114\": {\"frequency\": 23, \"value\": 114}, \"115\": {\"frequency\": 23, \"value\": 115}, \"116\": {\"frequency\": 21, \"value\": 116}, \"117\": {\"frequency\": 19, \"value\": 117}, \"118\": {\"frequency\": 17, \"value\": 118}, \"119\": {\"frequency\": 13, \"value\": 119}, \"120\": {\"frequency\": 16, \"value\": 120}, \"121\": {\"frequency\": 23, \"value\": 121}, \"122\": {\"frequency\": 13, \"value\": 122}, \"123\": {\"frequency\": 20, \"value\": 123}, \"124\": {\"frequency\": 16, \"value\": 124}, \"125\": {\"frequency\": 16, \"value\": 125}, \"126\": {\"frequency\": 17, \"value\": 126}, \"127\": {\"frequency\": 13, \"value\": 127}, \"128\": {\"frequency\": 16, \"value\": 128}, \"129\": {\"frequency\": 18, \"value\": 129}, \"130\": {\"frequency\": 17, \"value\": 130}, \"131\": {\"frequency\": 8, \"value\": 131}, \"132\": {\"frequency\": 16, \"value\": 132}, \"133\": {\"frequency\": 9, \"value\": 133}, \"134\": {\"frequency\": 11, \"value\": 134}, \"135\": {\"frequency\": 13, \"value\": 135}, \"136\": {\"frequency\": 14, \"value\": 136}, \"137\": {\"frequency\": 10, \"value\": 137}, \"138\": {\"frequency\": 16, \"value\": 138}, \"139\": {\"frequency\": 11, \"value\": 139}, \"140\": {\"frequency\": 15, \"value\": 140}, \"141\": {\"frequency\": 12, \"value\": 141}, \"142\": {\"frequency\": 13, \"value\": 142}, \"143\": {\"frequency\": 11, \"value\": 143}, \"144\": {\"frequency\": 14, \"value\": 144}, \"145\": {\"frequency\": 9, \"value\": 145}, \"146\": {\"frequency\": 15, \"value\": 146}, \"147\": {\"frequency\": 12, \"value\": 147}, \"148\": {\"frequency\": 12, \"value\": 148}, \"149\": {\"frequency\": 4, \"value\": 149}, \"150\": {\"frequency\": 8, \"value\": 150}, \"151\": {\"frequency\": 15, \"value\": 151}, \"152\": {\"frequency\": 5, \"value\": 152}, \"153\": {\"frequency\": 10, \"value\": 153}, \"154\": {\"frequency\": 8, \"value\": 154}, \"155\": {\"frequency\": 8, \"value\": 155}, \"156\": {\"frequency\": 12, \"value\": 156}, \"157\": {\"frequency\": 6, \"value\": 157}, \"158\": {\"frequency\": 11, \"value\": 158}, \"159\": {\"frequency\": 11, \"value\": 159}, \"160\": {\"frequency\": 6, \"value\": 160}, \"161\": {\"frequency\": 5, \"value\": 161}, \"162\": {\"frequency\": 7, \"value\": 162}, \"163\": {\"frequency\": 5, \"value\": 163}, \"164\": {\"frequency\": 11, \"value\": 164}, \"165\": {\"frequency\": 6, \"value\": 165}, \"166\": {\"frequency\": 6, \"value\": 166}, \"167\": {\"frequency\": 9, \"value\": 167}, \"168\": {\"frequency\": 6, \"value\": 168}, \"169\": {\"frequency\": 8, \"value\": 169}, \"170\": {\"frequency\": 5, \"value\": 170}, \"171\": {\"frequency\": 6, \"value\": 171}, \"172\": {\"frequency\": 3, \"value\": 172}, \"173\": {\"frequency\": 4, \"value\": 173}, \"174\": {\"frequency\": 10, \"value\": 174}, \"175\": {\"frequency\": 6, \"value\": 175}, \"176\": {\"frequency\": 3, \"value\": 176}, \"177\": {\"frequency\": 7, \"value\": 177}, \"178\": {\"frequency\": 3, \"value\": 178}, \"179\": {\"frequency\": 6, \"value\": 179}, \"180\": {\"frequency\": 3, \"value\": 180}, \"181\": {\"frequency\": 5, \"value\": 181}, \"182\": {\"frequency\": 2, \"value\": 182}, \"183\": {\"frequency\": 3, \"value\": 183}, \"184\": {\"frequency\": 2, \"value\": 184}, \"185\": {\"frequency\": 4, \"value\": 185}, \"186\": {\"frequency\": 5, \"value\": 186}, \"187\": {\"frequency\": 2, \"value\": 187}, \"188\": {\"frequency\": 6, \"value\": 188}, \"189\": {\"frequency\": 2, \"value\": 189}, \"190\": {\"frequency\": 4, \"value\": 190}, \"191\": {\"frequency\": 3, \"value\": 191}, \"192\": {\"frequency\": 4, \"value\": 192}, \"193\": {\"frequency\": 4, \"value\": 193}, \"194\": {\"frequency\": 4, \"value\": 194}, \"195\": {\"frequency\": 3, \"value\": 195}, \"196\": {\"frequency\": 4, \"value\": 196}, \"197\": {\"frequency\": 8, \"value\": 197}, \"198\": {\"frequency\": 1, \"value\": 198}, \"199\": {\"frequency\": 1, \"value\": 199}, \"200\": {\"frequency\": 2, \"value\": 200}, \"201\": {\"frequency\": 5, \"value\": 201}, \"202\": {\"frequency\": 4, \"value\": 202}, \"204\": {\"frequency\": 4, \"value\": 204}, \"205\": {\"frequency\": 2, \"value\": 205}, \"206\": {\"frequency\": 2, \"value\": 206}, \"207\": {\"frequency\": 3, \"value\": 207}, \"208\": {\"frequency\": 1, \"value\": 208}, \"209\": {\"frequency\": 3, \"value\": 209}, \"210\": {\"frequency\": 2, \"value\": 210}, \"211\": {\"frequency\": 3, \"value\": 211}, \"212\": {\"frequency\": 3, \"value\": 212}, \"213\": {\"frequency\": 4, \"value\": 213}, \"214\": {\"frequency\": 4, \"value\": 214}, \"215\": {\"frequency\": 2, \"value\": 215}, \"216\": {\"frequency\": 5, \"value\": 216}, \"217\": {\"frequency\": 1, \"value\": 217}, \"218\": {\"frequency\": 4, \"value\": 218}, \"219\": {\"frequency\": 3, \"value\": 219}, \"221\": {\"frequency\": 3, \"value\": 221}, \"222\": {\"frequency\": 4, \"value\": 222}, \"223\": {\"frequency\": 1, \"value\": 223}, \"225\": {\"frequency\": 2, \"value\": 225}, \"226\": {\"frequency\": 2, \"value\": 226}, \"227\": {\"frequency\": 6, \"value\": 227}, \"228\": {\"frequency\": 1, \"value\": 228}, \"229\": {\"frequency\": 1, \"value\": 229}, \"230\": {\"frequency\": 3, \"value\": 230}, \"231\": {\"frequency\": 1, \"value\": 231}, \"232\": {\"frequency\": 2, \"value\": 232}, \"233\": {\"frequency\": 1, \"value\": 233}, \"234\": {\"frequency\": 1, \"value\": 234}, \"235\": {\"frequency\": 1, \"value\": 235}, \"236\": {\"frequency\": 3, \"value\": 236}, \"237\": {\"frequency\": 2, \"value\": 237}, \"239\": {\"frequency\": 1, \"value\": 239}, \"240\": {\"frequency\": 2, \"value\": 240}, \"241\": {\"frequency\": 2, \"value\": 241}, \"242\": {\"frequency\": 1, \"value\": 242}, \"243\": {\"frequency\": 1, \"value\": 243}, \"244\": {\"frequency\": 4, \"value\": 244}, \"245\": {\"frequency\": 2, \"value\": 245}, \"246\": {\"frequency\": 2, \"value\": 246}, \"247\": {\"frequency\": 1, \"value\": 247}, \"250\": {\"frequency\": 1, \"value\": 250}, \"252\": {\"frequency\": 1, \"value\": 252}, \"253\": {\"frequency\": 1, \"value\": 253}, \"255\": {\"frequency\": 1, \"value\": 255}, \"256\": {\"frequency\": 3, \"value\": 256}, \"257\": {\"frequency\": 3, \"value\": 257}, \"258\": {\"frequency\": 4, \"value\": 258}, \"259\": {\"frequency\": 1, \"value\": 259}, \"261\": {\"frequency\": 1, \"value\": 261}, \"262\": {\"frequency\": 2, \"value\": 262}, \"264\": {\"frequency\": 1, \"value\": 264}, \"265\": {\"frequency\": 2, \"value\": 265}, \"266\": {\"frequency\": 2, \"value\": 266}, \"267\": {\"frequency\": 1, \"value\": 267}, \"268\": {\"frequency\": 2, \"value\": 268}, \"269\": {\"frequency\": 4, \"value\": 269}, \"270\": {\"frequency\": 1, \"value\": 270}, \"271\": {\"frequency\": 1, \"value\": 271}, \"272\": {\"frequency\": 2, \"value\": 272}, \"273\": {\"frequency\": 2, \"value\": 273}, \"274\": {\"frequency\": 1, \"value\": 274}, \"275\": {\"frequency\": 2, \"value\": 275}, \"278\": {\"frequency\": 1, \"value\": 278}, \"280\": {\"frequency\": 1, \"value\": 280}, \"281\": {\"frequency\": 2, \"value\": 281}, \"282\": {\"frequency\": 1, \"value\": 282}, \"283\": {\"frequency\": 1, \"value\": 283}, \"284\": {\"frequency\": 1, \"value\": 284}, \"286\": {\"frequency\": 1, \"value\": 286}, \"287\": {\"frequency\": 1, \"value\": 287}, \"290\": {\"frequency\": 1, \"value\": 290}, \"291\": {\"frequency\": 1, \"value\": 291}, \"292\": {\"frequency\": 1, \"value\": 292}, \"294\": {\"frequency\": 2, \"value\": 294}, \"296\": {\"frequency\": 1, \"value\": 296}, \"297\": {\"frequency\": 2, \"value\": 297}, \"304\": {\"frequency\": 2, \"value\": 304}, \"305\": {\"frequency\": 1, \"value\": 305}, \"306\": {\"frequency\": 1, \"value\": 306}, \"307\": {\"frequency\": 1, \"value\": 307}, \"308\": {\"frequency\": 1, \"value\": 308}, \"310\": {\"frequency\": 1, \"value\": 310}, \"311\": {\"frequency\": 1, \"value\": 311}, \"317\": {\"frequency\": 2, \"value\": 317}, \"319\": {\"frequency\": 2, \"value\": 319}, \"323\": {\"frequency\": 1, \"value\": 323}, \"324\": {\"frequency\": 3, \"value\": 324}, \"329\": {\"frequency\": 1, \"value\": 329}, \"330\": {\"frequency\": 1, \"value\": 330}, \"335\": {\"frequency\": 2, \"value\": 335}, \"340\": {\"frequency\": 1, \"value\": 340}, \"341\": {\"frequency\": 1, \"value\": 341}, \"345\": {\"frequency\": 1, \"value\": 345}, \"348\": {\"frequency\": 1, \"value\": 348}, \"351\": {\"frequency\": 1, \"value\": 351}, \"352\": {\"frequency\": 2, \"value\": 352}, \"354\": {\"frequency\": 1, \"value\": 354}, \"357\": {\"frequency\": 2, \"value\": 357}, \"359\": {\"frequency\": 1, \"value\": 359}, \"360\": {\"frequency\": 1, \"value\": 360}, \"366\": {\"frequency\": 1, \"value\": 366}, \"368\": {\"frequency\": 1, \"value\": 368}, \"369\": {\"frequency\": 1, \"value\": 369}, \"372\": {\"frequency\": 2, \"value\": 372}, \"373\": {\"frequency\": 1, \"value\": 373}, \"374\": {\"frequency\": 2, \"value\": 374}, \"375\": {\"frequency\": 1, \"value\": 375}, \"384\": {\"frequency\": 1, \"value\": 384}, \"385\": {\"frequency\": 2, \"value\": 385}, \"388\": {\"frequency\": 1, \"value\": 388}, \"391\": {\"frequency\": 2, \"value\": 391}, \"394\": {\"frequency\": 1, \"value\": 394}, \"396\": {\"frequency\": 1, \"value\": 396}, \"402\": {\"frequency\": 1, \"value\": 402}, \"406\": {\"frequency\": 1, \"value\": 406}, \"413\": {\"frequency\": 1, \"value\": 413}, \"423\": {\"frequency\": 1, \"value\": 423}, \"426\": {\"frequency\": 2, \"value\": 426}, \"433\": {\"frequency\": 1, \"value\": 433}, \"440\": {\"frequency\": 1, \"value\": 440}, \"442\": {\"frequency\": 1, \"value\": 442}, \"445\": {\"frequency\": 1, \"value\": 445}, \"446\": {\"frequency\": 1, \"value\": 446}, \"450\": {\"frequency\": 1, \"value\": 450}, \"454\": {\"frequency\": 1, \"value\": 454}, \"463\": {\"frequency\": 2, \"value\": 463}, \"476\": {\"frequency\": 1, \"value\": 476}, \"478\": {\"frequency\": 1, \"value\": 478}, \"481\": {\"frequency\": 1, \"value\": 481}, \"488\": {\"frequency\": 1, \"value\": 488}, \"500\": {\"frequency\": 1, \"value\": 500}, \"522\": {\"frequency\": 1, \"value\": 522}, \"535\": {\"frequency\": 1, \"value\": 535}, \"537\": {\"frequency\": 1, \"value\": 537}, \"582\": {\"frequency\": 1, \"value\": 582}, \"597\": {\"frequency\": 1, \"value\": 597}, \"618\": {\"frequency\": 1, \"value\": 618}, \"646\": {\"frequency\": 1, \"value\": 646}, \"867\": {\"frequency\": 1, \"value\": 867}, \"923\": {\"frequency\": 1, \"value\": 923}}, \"mean\": 4.18569202616593}, \"user\": {\"complete\": true, \"numeric\": false, \"num_unique\": 110332, \"num_undefined\": 0, \"progress\": 1.0, \"frequent_items\": {}, \"size\": 1133382}, \"artist_name\": {\"complete\": true, \"numeric\": false, \"num_unique\": 28266, \"num_undefined\": 0, \"progress\": 1.0, \"frequent_items\": {\"Los Bunkers\": {\"frequency\": 119, \"value\": \"Los Bunkers\"}, \"Eliza Doolittle\": {\"frequency\": 131, \"value\": \"Eliza Doolittle\"}, \"Bobby Darin\": {\"frequency\": 151, \"value\": \"Bobby Darin\"}, \"Caifanes\": {\"frequency\": 163, \"value\": \"Caifanes\"}, \"New Radicals\": {\"frequency\": 371, \"value\": \"New Radicals\"}, \"Julio Iglesias duet with Frank Sinatra\": {\"frequency\": 133, \"value\": \"Julio Iglesias ...\"}, \"Uncle Kracker\": {\"frequency\": 298, \"value\": \"Uncle Kracker\"}, \"Ester Dean / Chris Brown\": {\"frequency\": 202, \"value\": \"Ester Dean / Chris ...\"}, \"Crosby_ Stills_ Nash and Young\": {\"frequency\": 199, \"value\": \"Crosby_ Stills_ ...\"}, \"Lil Wayne / Eminem\": {\"frequency\": 2226, \"value\": \"Lil Wayne / Eminem\"}, \"Nirvana\": {\"frequency\": 1805, \"value\": \"Nirvana\"}, \"Randy Travis\": {\"frequency\": 240, \"value\": \"Randy Travis\"}, \"Massive Attack\": {\"frequency\": 725, \"value\": \"Massive Attack\"}, \"Plies featuring Akon\": {\"frequency\": 119, \"value\": \"Plies featuring ...\"}, \"Los Aut\\ufffd\\ufffdnticos Decadentes\": {\"frequency\": 214, \"value\": \"Los Aut\\u00e9nticos ...\"}, \"Procol Harum\": {\"frequency\": 146, \"value\": \"Procol Harum\"}, \"Goldfrapp\": {\"frequency\": 492, \"value\": \"Goldfrapp\"}, \"Plastilina Mosh\": {\"frequency\": 246, \"value\": \"Plastilina Mosh\"}, \"Jo\\ufffd\\ufffdo Gilberto\": {\"frequency\": 392, \"value\": \"Jo\\u00e3o Gilberto\"}, \"Westside Connection\": {\"frequency\": 226, \"value\": \"Westside ...\"}, \"Chris Tomlin\": {\"frequency\": 224, \"value\": \"Chris Tomlin\"}, \"Chris Bathgate\": {\"frequency\": 204, \"value\": \"Chris Bathgate\"}, \"Gary Allan\": {\"frequency\": 357, \"value\": \"Gary Allan\"}, \"Jag Panzer\": {\"frequency\": 213, \"value\": \"Jag Panzer\"}, \"Billy Bragg\": {\"frequency\": 201, \"value\": \"Billy Bragg\"}, \"John Waite\": {\"frequency\": 371, \"value\": \"John Waite\"}, \"Shaggy / Samantha Cole\": {\"frequency\": 228, \"value\": \"Shaggy / Samantha ...\"}, \"The Crystal Method\": {\"frequency\": 278, \"value\": \"The Crystal Method\"}, \"Panda\": {\"frequency\": 134, \"value\": \"Panda\"}, \"Dominique A\": {\"frequency\": 818, \"value\": \"Dominique A\"}, \"Twisted Sister\": {\"frequency\": 129, \"value\": \"Twisted Sister\"}, \"Bayside\": {\"frequency\": 231, \"value\": \"Bayside\"}, \"John Mellencamp\": {\"frequency\": 294, \"value\": \"John Mellencamp\"}, \"Red Hot Chili Peppers\": {\"frequency\": 2059, \"value\": \"Red Hot Chili ...\"}, \"Suzanne Vega\": {\"frequency\": 131, \"value\": \"Suzanne Vega\"}, \"Deerhunter\": {\"frequency\": 164, \"value\": \"Deerhunter\"}, \"Ely Guerra\": {\"frequency\": 181, \"value\": \"Ely Guerra\"}, \"Twista feat. Kayne West & Jamie Foxx\": {\"frequency\": 288, \"value\": \"Twista feat. Kayne ...\"}, \"Shwayze\": {\"frequency\": 154, \"value\": \"Shwayze\"}, \"Casiotone For The Painfully Alone\": {\"frequency\": 115, \"value\": \"Casiotone For The ...\"}, \"Beverley Craven\": {\"frequency\": 120, \"value\": \"Beverley Craven\"}, \"Menno De Jong feat. Relocate\": {\"frequency\": 139, \"value\": \"Menno De Jong ...\"}, \"Finger Eleven\": {\"frequency\": 338, \"value\": \"Finger Eleven\"}, \"Airbourne\": {\"frequency\": 139, \"value\": \"Airbourne\"}, \"Nada Surf\": {\"frequency\": 217, \"value\": \"Nada Surf\"}, \"David Bisbal\": {\"frequency\": 204, \"value\": \"David Bisbal\"}, \"Bon Iver\": {\"frequency\": 960, \"value\": \"Bon Iver\"}, \"US3 Featuring Rahsaan And Gerard Presencer\": {\"frequency\": 126, \"value\": \"US3 Featuring ...\"}, \"Wilson Pickett\": {\"frequency\": 125, \"value\": \"Wilson Pickett\"}, \"Disturbed\": {\"frequency\": 929, \"value\": \"Disturbed\"}, \"The Decemberists\": {\"frequency\": 1144, \"value\": \"The Decemberists\"}, \"T-Pain featuring Teddy Verseti\": {\"frequency\": 144, \"value\": \"T-Pain featuring ...\"}, \"Cold\": {\"frequency\": 162, \"value\": \"Cold\"}, \"Lupe Fiasco\": {\"frequency\": 669, \"value\": \"Lupe Fiasco\"}, \"Ashley Tisdale\": {\"frequency\": 152, \"value\": \"Ashley Tisdale\"}, \"Gian Marco\": {\"frequency\": 275, \"value\": \"Gian Marco\"}, \"Rachid Taha\": {\"frequency\": 154, \"value\": \"Rachid Taha\"}, \"Queen\": {\"frequency\": 1049, \"value\": \"Queen\"}, \"B.B. King\": {\"frequency\": 215, \"value\": \"B.B. King\"}, \"John Michael Montgomery\": {\"frequency\": 139, \"value\": \"John Michael ...\"}, \"Yelle\": {\"frequency\": 152, \"value\": \"Yelle\"}, \"Murs\": {\"frequency\": 212, \"value\": \"Murs\"}, \"Iron And Wine\": {\"frequency\": 573, \"value\": \"Iron And Wine\"}, \"RUN-DMC\": {\"frequency\": 178, \"value\": \"RUN-DMC\"}, \"Vienio & Pele\": {\"frequency\": 231, \"value\": \"Vienio & Pele\"}, \"Gerry Rafferty\": {\"frequency\": 133, \"value\": \"Gerry Rafferty\"}, \"Sleater-kinney\": {\"frequency\": 286, \"value\": \"Sleater-kinney\"}, \"Avenged Sevenfold\": {\"frequency\": 833, \"value\": \"Avenged Sevenfold\"}, \"Say Anything\": {\"frequency\": 147, \"value\": \"Say Anything\"}, \"CCCP - Fedeli Alla Linea\": {\"frequency\": 363, \"value\": \"CCCP - Fedeli Alla ...\"}, \"Jem\": {\"frequency\": 197, \"value\": \"Jem\"}, \"The Casualties\": {\"frequency\": 227, \"value\": \"The Casualties\"}, \"Ricky Martin\": {\"frequency\": 165, \"value\": \"Ricky Martin\"}, \"Bobby McFerrin\": {\"frequency\": 289, \"value\": \"Bobby McFerrin\"}, \"Joa~o Gilberto\": {\"frequency\": 123, \"value\": \"Joa~o Gilberto\"}, \"Blind Guardian\": {\"frequency\": 151, \"value\": \"Blind Guardian\"}, \"Foolish Things\": {\"frequency\": 716, \"value\": \"Foolish Things\"}, \"Ministry\": {\"frequency\": 219, \"value\": \"Ministry\"}, \"Craig Morgan\": {\"frequency\": 195, \"value\": \"Craig Morgan\"}, \"Beastie Boys\": {\"frequency\": 2248, \"value\": \"Beastie Boys\"}, \"Booka Shade\": {\"frequency\": 187, \"value\": \"Booka Shade\"}, \"Los Prisioneros\": {\"frequency\": 155, \"value\": \"Los Prisioneros\"}, \"Luis Fonsi\": {\"frequency\": 150, \"value\": \"Luis Fonsi\"}, \"Kudai\": {\"frequency\": 193, \"value\": \"Kudai\"}, \"Zoegirl\": {\"frequency\": 132, \"value\": \"Zoegirl\"}, \"Markus Schulz\": {\"frequency\": 133, \"value\": \"Markus Schulz\"}, \"Christina Milian\": {\"frequency\": 155, \"value\": \"Christina Milian\"}, \"Hans Zimmer\": {\"frequency\": 170, \"value\": \"Hans Zimmer\"}, \"Gang Of Four\": {\"frequency\": 189, \"value\": \"Gang Of Four\"}, \"Carpenters\": {\"frequency\": 667, \"value\": \"Carpenters\"}, \"UNKLE\": {\"frequency\": 117, \"value\": \"UNKLE\"}, \"The Crests\": {\"frequency\": 1089, \"value\": \"The Crests\"}, \"Lit\": {\"frequency\": 194, \"value\": \"Lit\"}, \"Theory Of A Deadman\": {\"frequency\": 379, \"value\": \"Theory Of A ...\"}, \"Cannibal Corpse\": {\"frequency\": 113, \"value\": \"Cannibal Corpse\"}, \"Luke Bryan\": {\"frequency\": 668, \"value\": \"Luke Bryan\"}, \"Il Divo\": {\"frequency\": 226, \"value\": \"Il Divo\"}, \"Amy Winehouse\": {\"frequency\": 1869, \"value\": \"Amy Winehouse\"}, \"Daughtry\": {\"frequency\": 593, \"value\": \"Daughtry\"}, \"Phoenix\": {\"frequency\": 1300, \"value\": \"Phoenix\"}, \"Darude\": {\"frequency\": 391, \"value\": \"Darude\"}, \"Edward Sharpe & The Magnetic Zeros\": {\"frequency\": 1099, \"value\": \"Edward Sharpe & ...\"}, \"LU\": {\"frequency\": 405, \"value\": \"LU\"}, \"Miles Davis\": {\"frequency\": 248, \"value\": \"Miles Davis\"}, \"Echo And The Bunnymen\": {\"frequency\": 290, \"value\": \"Echo And The ...\"}, \"Beach House\": {\"frequency\": 318, \"value\": \"Beach House\"}, \"Future Rock\": {\"frequency\": 976, \"value\": \"Future Rock\"}, \"Gym Class Heroes\": {\"frequency\": 470, \"value\": \"Gym Class Heroes\"}, \"Less Than Jake\": {\"frequency\": 221, \"value\": \"Less Than Jake\"}, \"Jonas Brothers\": {\"frequency\": 1145, \"value\": \"Jonas Brothers\"}, \"Rise Against\": {\"frequency\": 1728, \"value\": \"Rise Against\"}, \"Dusty Springfield\": {\"frequency\": 153, \"value\": \"Dusty Springfield\"}, \"The Stone Roses\": {\"frequency\": 209, \"value\": \"The Stone Roses\"}, \"Grace Jones\": {\"frequency\": 127, \"value\": \"Grace Jones\"}, \"Maxwell\": {\"frequency\": 171, \"value\": \"Maxwell\"}, \"Astrud Gilberto\": {\"frequency\": 131, \"value\": \"Astrud Gilberto\"}, \"Lloyd\": {\"frequency\": 199, \"value\": \"Lloyd\"}, \"Rick Cua\": {\"frequency\": 115, \"value\": \"Rick Cua\"}, \"Cartola\": {\"frequency\": 3261, \"value\": \"Cartola\"}, \"Nando Reis\": {\"frequency\": 139, \"value\": \"Nando Reis\"}, \"Bl\\ufffd\\ufffdf\": {\"frequency\": 184, \"value\": \"Bl\\u00f8f\"}, \"Bachman-Turner Overdrive\": {\"frequency\": 268, \"value\": \"Bachman-Turner ...\"}, \"Aloe Blacc\": {\"frequency\": 325, \"value\": \"Aloe Blacc\"}, \"Blur\": {\"frequency\": 608, \"value\": \"Blur\"}, \"Andr\\ufffd\\ufffds Cepeda\": {\"frequency\": 235, \"value\": \"Andr\\u00e9s Cepeda\"}, \"Junior Boys\": {\"frequency\": 185, \"value\": \"Junior Boys\"}, \"Suicidal Tendencies\": {\"frequency\": 188, \"value\": \"Suicidal ...\"}, \"Sade\": {\"frequency\": 456, \"value\": \"Sade\"}, \"Ted Nugent\": {\"frequency\": 170, \"value\": \"Ted Nugent\"}, \"Ska-P\": {\"frequency\": 205, \"value\": \"Ska-P\"}, \"Beck\": {\"frequency\": 456, \"value\": \"Beck\"}, \"Gigi D'agostino\": {\"frequency\": 160, \"value\": \"Gigi D'agostino\"}, \"The Misfits\": {\"frequency\": 345, \"value\": \"The Misfits\"}, \"Survivor\": {\"frequency\": 565, \"value\": \"Survivor\"}, \"Soulja Boy Tell'em\": {\"frequency\": 389, \"value\": \"Soulja Boy Tell'em\"}, \"Chris Brown\": {\"frequency\": 575, \"value\": \"Chris Brown\"}, \"Air France\": {\"frequency\": 350, \"value\": \"Air France\"}, \"The Hush Sound\": {\"frequency\": 153, \"value\": \"The Hush Sound\"}, \"August Burns Red\": {\"frequency\": 199, \"value\": \"August Burns Red\"}, \"Curtis Mayfield\": {\"frequency\": 144, \"value\": \"Curtis Mayfield\"}, \"Rammstein\": {\"frequency\": 1663, \"value\": \"Rammstein\"}, \"Avril Lavigne\": {\"frequency\": 1348, \"value\": \"Avril Lavigne\"}, \"Silk\": {\"frequency\": 150, \"value\": \"Silk\"}, \"Eric Church\": {\"frequency\": 403, \"value\": \"Eric Church\"}, \"Yann Tiersen\": {\"frequency\": 580, \"value\": \"Yann Tiersen\"}, \"Sting\": {\"frequency\": 546, \"value\": \"Sting\"}, \"Frankie Goes To Hollywood\": {\"frequency\": 224, \"value\": \"Frankie Goes To ...\"}, \"Mickie Krause\": {\"frequency\": 376, \"value\": \"Mickie Krause\"}, \"Shakira\": {\"frequency\": 1330, \"value\": \"Shakira\"}, \"Rainbow\": {\"frequency\": 208, \"value\": \"Rainbow\"}, \"Nightwish\": {\"frequency\": 610, \"value\": \"Nightwish\"}, \"Roadrunner United\": {\"frequency\": 147, \"value\": \"Roadrunner United\"}, \"Omarion\": {\"frequency\": 114, \"value\": \"Omarion\"}, \"Pearl Jam\": {\"frequency\": 1817, \"value\": \"Pearl Jam\"}, \"Sub Focus\": {\"frequency\": 181, \"value\": \"Sub Focus\"}, \"Discovery\": {\"frequency\": 130, \"value\": \"Discovery\"}, \"Modest Mouse\": {\"frequency\": 1619, \"value\": \"Modest Mouse\"}, \"Los Originales De San Juan\": {\"frequency\": 127, \"value\": \"Los Originales De ...\"}, \"Muse\": {\"frequency\": 3643, \"value\": \"Muse\"}, \"PeterLicht\": {\"frequency\": 230, \"value\": \"PeterLicht\"}, \"Hole\": {\"frequency\": 183, \"value\": \"Hole\"}, \"Alison Krauss / Union Station\": {\"frequency\": 550, \"value\": \"Alison Krauss / ...\"}, \"Suzi Quatro\": {\"frequency\": 283, \"value\": \"Suzi Quatro\"}, \"Young Money featuring Lloyd\": {\"frequency\": 596, \"value\": \"Young Money ...\"}, \"Old Crow Medicine Show\": {\"frequency\": 339, \"value\": \"Old Crow Medicine ...\"}, \"Saliva\": {\"frequency\": 414, \"value\": \"Saliva\"}, \"Jennifer Lopez\": {\"frequency\": 311, \"value\": \"Jennifer Lopez\"}, \"The Gerbils\": {\"frequency\": 271, \"value\": \"The Gerbils\"}, \"TV On The Radio\": {\"frequency\": 176, \"value\": \"TV On The Radio\"}, \"Irene Cara\": {\"frequency\": 147, \"value\": \"Irene Cara\"}, \"Falling Up\": {\"frequency\": 115, \"value\": \"Falling Up\"}, \"Sam Adams\": {\"frequency\": 136, \"value\": \"Sam Adams\"}, \"Bananarama\": {\"frequency\": 150, \"value\": \"Bananarama\"}, \"Gwen Stefani\": {\"frequency\": 246, \"value\": \"Gwen Stefani\"}, \"Chico Buarque\": {\"frequency\": 114, \"value\": \"Chico Buarque\"}, \"Sound 5\": {\"frequency\": 144, \"value\": \"Sound 5\"}, \"Justin Timberlake duet with Beyonce\": {\"frequency\": 214, \"value\": \"Justin Timberlake ...\"}, \"Jack's Mannequin\": {\"frequency\": 296, \"value\": \"Jack's Mannequin\"}, \"Tenth Avenue North\": {\"frequency\": 250, \"value\": \"Tenth Avenue North\"}, \"Sarah McLachlan\": {\"frequency\": 179, \"value\": \"Sarah McLachlan\"}, \"Devotchka\": {\"frequency\": 272, \"value\": \"Devotchka\"}, \"Gotan Project\": {\"frequency\": 279, \"value\": \"Gotan Project\"}, \"LMFAO\": {\"frequency\": 577, \"value\": \"LMFAO\"}, \"Buffalo Springfield\": {\"frequency\": 195, \"value\": \"Buffalo ...\"}, \"Swizz Beatz\": {\"frequency\": 193, \"value\": \"Swizz Beatz\"}, \"Dynamite Deluxe\": {\"frequency\": 136, \"value\": \"Dynamite Deluxe\"}, \"Shaggy / Ricardo Ducent\": {\"frequency\": 149, \"value\": \"Shaggy / Ricardo ...\"}, \"98\\ufffd\\ufffd\": {\"frequency\": 120, \"value\": \"98\\u00ba\"}, \"Kid Cudi Vs Crookers\": {\"frequency\": 1003, \"value\": \"Kid Cudi Vs ...\"}, \"Hanson\": {\"frequency\": 134, \"value\": \"Hanson\"}, \"ARRESTED DEVELOPMENT\": {\"frequency\": 262, \"value\": \"ARRESTED ...\"}, \"Selena\": {\"frequency\": 432, \"value\": \"Selena\"}, \"Tori Amos\": {\"frequency\": 127, \"value\": \"Tori Amos\"}, \"Moloko\": {\"frequency\": 182, \"value\": \"Moloko\"}, \"David Bowie\": {\"frequency\": 526, \"value\": \"David Bowie\"}, \"Blitzen Trapper\": {\"frequency\": 144, \"value\": \"Blitzen Trapper\"}, \"Cazuza\": {\"frequency\": 158, \"value\": \"Cazuza\"}, \"Damian Marley / Nas\": {\"frequency\": 126, \"value\": \"Damian Marley / ...\"}, \"Sonny Boy Williamson\": {\"frequency\": 553, \"value\": \"Sonny Boy ...\"}, \"Zac Brown Band\": {\"frequency\": 855, \"value\": \"Zac Brown Band\"}, \"SONATA ARCTICA\": {\"frequency\": 122, \"value\": \"SONATA ARCTICA\"}, \"Modjo\": {\"frequency\": 147, \"value\": \"Modjo\"}, \"Dion & The Belmonts\": {\"frequency\": 171, \"value\": \"Dion & The ...\"}, \"Twista featuring Pharrell Williams\": {\"frequency\": 135, \"value\": \"Twista featuring ...\"}, \"Ordo Rosarius Equilibrio\": {\"frequency\": 157, \"value\": \"Ordo Rosarius ...\"}, \"Five Iron Frenzy\": {\"frequency\": 1805, \"value\": \"Five Iron Frenzy\"}, \"Usher\": {\"frequency\": 1070, \"value\": \"Usher\"}, \"The Ordinary Boys\": {\"frequency\": 221, \"value\": \"The Ordinary Boys\"}, \"Madonna\": {\"frequency\": 744, \"value\": \"Madonna\"}, \"The Pharcyde\": {\"frequency\": 261, \"value\": \"The Pharcyde\"}, \"Bee Gees\": {\"frequency\": 315, \"value\": \"Bee Gees\"}, \"Olle Adolphson\": {\"frequency\": 197, \"value\": \"Olle Adolphson\"}, \"Amanda Perez\": {\"frequency\": 154, \"value\": \"Amanda Perez\"}, \"Kid Rock\": {\"frequency\": 322, \"value\": \"Kid Rock\"}, \"Liz Phair\": {\"frequency\": 205, \"value\": \"Liz Phair\"}, \"Dr Feelgood\": {\"frequency\": 145, \"value\": \"Dr Feelgood\"}, \"Blood_ Sweat & Tears\": {\"frequency\": 118, \"value\": \"Blood_ Sweat & ...\"}, \"Eminem / DMX / Obie Trice\": {\"frequency\": 155, \"value\": \"Eminem / DMX / ...\"}, \"Thousand Foot Krutch\": {\"frequency\": 374, \"value\": \"Thousand Foot ...\"}, \"Sa Trincha\": {\"frequency\": 111, \"value\": \"Sa Trincha\"}, \"Five Finger Death Punch\": {\"frequency\": 754, \"value\": \"Five Finger Death ...\"}, \"Des'ree\": {\"frequency\": 173, \"value\": \"Des'ree\"}, \"Friendly Fires\": {\"frequency\": 176, \"value\": \"Friendly Fires\"}, \"Animal Collective\": {\"frequency\": 425, \"value\": \"Animal Collective\"}, \"System of a Down\": {\"frequency\": 676, \"value\": \"System of a Down\"}, \"Empire Of The Sun\": {\"frequency\": 298, \"value\": \"Empire Of The Sun\"}, \"A-Ha\": {\"frequency\": 165, \"value\": \"A-Ha\"}, \"Alabama\": {\"frequency\": 122, \"value\": \"Alabama\"}, \"Orishas\": {\"frequency\": 425, \"value\": \"Orishas\"}, \"Bond\": {\"frequency\": 169, \"value\": \"Bond\"}, \"Ludovico Einaudi\": {\"frequency\": 216, \"value\": \"Ludovico Einaudi\"}, \"Brooklyn Bounce\": {\"frequency\": 138, \"value\": \"Brooklyn Bounce\"}, \"Jake Hess\": {\"frequency\": 541, \"value\": \"Jake Hess\"}, \"Brad Paisley\": {\"frequency\": 733, \"value\": \"Brad Paisley\"}, \"Brooke Fraser\": {\"frequency\": 120, \"value\": \"Brooke Fraser\"}, \"Seeed\": {\"frequency\": 142, \"value\": \"Seeed\"}, \"Harvey Danger\": {\"frequency\": 134, \"value\": \"Harvey Danger\"}, \"A Fine Frenzy\": {\"frequency\": 437, \"value\": \"A Fine Frenzy\"}, \"Xavier Rudd\": {\"frequency\": 210, \"value\": \"Xavier Rudd\"}, \"Kelly Clarkson\": {\"frequency\": 1135, \"value\": \"Kelly Clarkson\"}, \"Pereza\": {\"frequency\": 195, \"value\": \"Pereza\"}, \"Salt-N-Pepa\": {\"frequency\": 159, \"value\": \"Salt-N-Pepa\"}, \"CKY\": {\"frequency\": 226, \"value\": \"CKY\"}, \"Secret Machines\": {\"frequency\": 183, \"value\": \"Secret Machines\"}, \"Gillian Welch\": {\"frequency\": 133, \"value\": \"Gillian Welch\"}, \"Tiny Vipers\": {\"frequency\": 471, \"value\": \"Tiny Vipers\"}, \"Reel Big Fish\": {\"frequency\": 293, \"value\": \"Reel Big Fish\"}, \"Scorpions\": {\"frequency\": 242, \"value\": \"Scorpions\"}, \"Triumvirat\": {\"frequency\": 366, \"value\": \"Triumvirat\"}, \"Screamin' Jay Hawkins\": {\"frequency\": 118, \"value\": \"Screamin' Jay ...\"}, \"Drake / Bun B / Lil Wayne\": {\"frequency\": 133, \"value\": \"Drake / Bun B / ...\"}, \"Tricky\": {\"frequency\": 169, \"value\": \"Tricky\"}, \"Chromeo\": {\"frequency\": 523, \"value\": \"Chromeo\"}, \"Laura Marling\": {\"frequency\": 218, \"value\": \"Laura Marling\"}, \"Lauryn Hill Featuring Mary J. Blige\": {\"frequency\": 113, \"value\": \"Lauryn Hill ...\"}, \"Basshunter\": {\"frequency\": 741, \"value\": \"Basshunter\"}, \"Base Ball Bear\": {\"frequency\": 804, \"value\": \"Base Ball Bear\"}, \"Kenny Rogers\": {\"frequency\": 186, \"value\": \"Kenny Rogers\"}, \"Streetlight Manifesto\": {\"frequency\": 246, \"value\": \"Streetlight ...\"}, \"The Temper Trap\": {\"frequency\": 523, \"value\": \"The Temper Trap\"}, \"Love\": {\"frequency\": 183, \"value\": \"Love\"}, \"Paul Kalkbrenner\": {\"frequency\": 164, \"value\": \"Paul Kalkbrenner\"}, \"Ying Yang Twins ft. Lil Jon & The East Side Boyz\": {\"frequency\": 117, \"value\": \"Ying Yang Twins ...\"}, \"The Beach Boys\": {\"frequency\": 281, \"value\": \"The Beach Boys\"}, \"Kaiser Chiefs\": {\"frequency\": 494, \"value\": \"Kaiser Chiefs\"}, \"Dispatch\": {\"frequency\": 300, \"value\": \"Dispatch\"}, \"Colbie Caillat\": {\"frequency\": 968, \"value\": \"Colbie Caillat\"}, \"Cute Is What We Aim For\": {\"frequency\": 195, \"value\": \"Cute Is What We ...\"}, \"Sean Kingston and Justin Bieber\": {\"frequency\": 932, \"value\": \"Sean Kingston and ...\"}, \"Aesop Rock\": {\"frequency\": 284, \"value\": \"Aesop Rock\"}, \"Method Man\": {\"frequency\": 180, \"value\": \"Method Man\"}, \"Jill Scott\": {\"frequency\": 481, \"value\": \"Jill Scott\"}, \"Ashlee Simpson\": {\"frequency\": 230, \"value\": \"Ashlee Simpson\"}, \"Company Flow\": {\"frequency\": 166, \"value\": \"Company Flow\"}, \"Demon Hunter\": {\"frequency\": 148, \"value\": \"Demon Hunter\"}, \"David Lee Roth\": {\"frequency\": 119, \"value\": \"David Lee Roth\"}, \"Will.I.Am\": {\"frequency\": 114, \"value\": \"Will.I.Am\"}, \"Portishead\": {\"frequency\": 408, \"value\": \"Portishead\"}, \"Ry Cooder\": {\"frequency\": 232, \"value\": \"Ry Cooder\"}, \"DMX\": {\"frequency\": 507, \"value\": \"DMX\"}, \"Lady GaGa / Colby O'Donis\": {\"frequency\": 1416, \"value\": \"Lady GaGa / Colby ...\"}, \"Dr. Dre / Eminem / Alvin Joiner\": {\"frequency\": 180, \"value\": \"Dr. Dre / Eminem / ...\"}, \"Lange\": {\"frequency\": 388, \"value\": \"Lange\"}, \"The Meters\": {\"frequency\": 200, \"value\": \"The Meters\"}, \"Fluke\": {\"frequency\": 201, \"value\": \"Fluke\"}, \"M Ward\": {\"frequency\": 165, \"value\": \"M Ward\"}, \"Popol Vuh\": {\"frequency\": 151, \"value\": \"Popol Vuh\"}, \"Bebe\": {\"frequency\": 230, \"value\": \"Bebe\"}, \"H\\ufffd\\ufffdroes del Silencio\": {\"frequency\": 440, \"value\": \"H\\u00e9roes del ...\"}, \"Andre Hazes\": {\"frequency\": 200, \"value\": \"Andre Hazes\"}, \"Opeth\": {\"frequency\": 249, \"value\": \"Opeth\"}, \"Devendra Banhart\": {\"frequency\": 383, \"value\": \"Devendra Banhart\"}, \"She & Him\": {\"frequency\": 255, \"value\": \"She & Him\"}, \"Caribou\": {\"frequency\": 221, \"value\": \"Caribou\"}, \"Flogging Molly\": {\"frequency\": 693, \"value\": \"Flogging Molly\"}, \"Puddle Of Mudd\": {\"frequency\": 344, \"value\": \"Puddle Of Mudd\"}, \"4 Non Blondes\": {\"frequency\": 217, \"value\": \"4 Non Blondes\"}, \"Mala Rodriguez\": {\"frequency\": 154, \"value\": \"Mala Rodriguez\"}, \"Steve Goodman\": {\"frequency\": 188, \"value\": \"Steve Goodman\"}, \"Jeff Buckley\": {\"frequency\": 212, \"value\": \"Jeff Buckley\"}, \"The Wombats\": {\"frequency\": 160, \"value\": \"The Wombats\"}, \"Cassie\": {\"frequency\": 389, \"value\": \"Cassie\"}, \"Badly Drawn Boy\": {\"frequency\": 154, \"value\": \"Badly Drawn Boy\"}, \"Margot & The Nuclear So And So's\": {\"frequency\": 147, \"value\": \"Margot & The ...\"}, \"Bedouin Soundclash\": {\"frequency\": 156, \"value\": \"Bedouin Soundclash\"}, \"Chris Isaak\": {\"frequency\": 343, \"value\": \"Chris Isaak\"}, \"Sepultura\": {\"frequency\": 200, \"value\": \"Sepultura\"}, \"DJ Dizzy\": {\"frequency\": 983, \"value\": \"DJ Dizzy\"}, \"Triple Six Mafia\": {\"frequency\": 251, \"value\": \"Triple Six Mafia\"}, \"Envio\": {\"frequency\": 148, \"value\": \"Envio\"}, \"Busdriver\": {\"frequency\": 128, \"value\": \"Busdriver\"}, \"Bad Religion\": {\"frequency\": 280, \"value\": \"Bad Religion\"}, \"Justin Bieber / Usher\": {\"frequency\": 307, \"value\": \"Justin Bieber / ...\"}, \"Sauce Money Featuring Memphis Bleek\": {\"frequency\": 202, \"value\": \"Sauce Money ...\"}, \"La Renga\": {\"frequency\": 201, \"value\": \"La Renga\"}, \"Death Cab for Cutie\": {\"frequency\": 867, \"value\": \"Death Cab for ...\"}, \"N.E.R.D.\": {\"frequency\": 1368, \"value\": \"N.E.R.D.\"}, \"Calle 13\": {\"frequency\": 832, \"value\": \"Calle 13\"}, \"Alphaville\": {\"frequency\": 125, \"value\": \"Alphaville\"}, \"Sondre Lerche\": {\"frequency\": 222, \"value\": \"Sondre Lerche\"}, \"Judas Priest\": {\"frequency\": 117, \"value\": \"Judas Priest\"}, \"Tito El Bambino\": {\"frequency\": 161, \"value\": \"Tito El Bambino\"}, \"Flight Of The Conchords\": {\"frequency\": 302, \"value\": \"Flight Of The ...\"}, \"Bram Vermeulen\": {\"frequency\": 173, \"value\": \"Bram Vermeulen\"}, \"Vilma Palma\": {\"frequency\": 142, \"value\": \"Vilma Palma\"}, \"Ti\\ufffd\\ufffdsto\": {\"frequency\": 361, \"value\": \"Ti\\u00ebsto\"}, \"Franco Battiato\": {\"frequency\": 120, \"value\": \"Franco Battiato\"}, \"Lupe Fiasco featuring Matt Santos\": {\"frequency\": 311, \"value\": \"Lupe Fiasco ...\"}, \"The Blues Brothers\": {\"frequency\": 323, \"value\": \"The Blues Brothers\"}, \"Children Of Bodom\": {\"frequency\": 272, \"value\": \"Children Of Bodom\"}, \"The Devil Wears Prada\": {\"frequency\": 272, \"value\": \"The Devil Wears ...\"}, \"The Mountain Goats\": {\"frequency\": 126, \"value\": \"The Mountain Goats\"}, \"Phish\": {\"frequency\": 451, \"value\": \"Phish\"}, \"Neutral Milk Hotel\": {\"frequency\": 659, \"value\": \"Neutral Milk Hotel\"}, \"Ella Fitzgerald\": {\"frequency\": 113, \"value\": \"Ella Fitzgerald\"}, \"Deana Carter\": {\"frequency\": 288, \"value\": \"Deana Carter\"}, \"The Rocket Summer\": {\"frequency\": 186, \"value\": \"The Rocket Summer\"}, \"Brazilian Girls\": {\"frequency\": 115, \"value\": \"Brazilian Girls\"}, \"Bonobo\": {\"frequency\": 240, \"value\": \"Bonobo\"}, \"In Flames\": {\"frequency\": 329, \"value\": \"In Flames\"}, \"Old 97's\": {\"frequency\": 319, \"value\": \"Old 97's\"}, \"Collective Soul\": {\"frequency\": 282, \"value\": \"Collective Soul\"}, \"Joe Cocker\": {\"frequency\": 232, \"value\": \"Joe Cocker\"}, \"Kylie Minogue\": {\"frequency\": 296, \"value\": \"Kylie Minogue\"}, \"Yung Berg\": {\"frequency\": 123, \"value\": \"Yung Berg\"}, \"Jordin Sparks featuring Chris Brown\": {\"frequency\": 182, \"value\": \"Jordin Sparks ...\"}, \"Twista\": {\"frequency\": 292, \"value\": \"Twista\"}, \"Keith Sweat Featuring Athena Cage\": {\"frequency\": 152, \"value\": \"Keith Sweat ...\"}, \"Suzy Thompson\": {\"frequency\": 116, \"value\": \"Suzy Thompson\"}, \"Prodigy\": {\"frequency\": 219, \"value\": \"Prodigy\"}, \"Gavin DeGraw\": {\"frequency\": 180, \"value\": \"Gavin DeGraw\"}, \"N.W.A.\": {\"frequency\": 384, \"value\": \"N.W.A.\"}, \"Big Bopper\": {\"frequency\": 138, \"value\": \"Big Bopper\"}, \"Marisa Monte\": {\"frequency\": 276, \"value\": \"Marisa Monte\"}, \"Vitalic\": {\"frequency\": 147, \"value\": \"Vitalic\"}, \"Me First And The Gimme Gimmes\": {\"frequency\": 192, \"value\": \"Me First And The ...\"}, \"Alter Bridge\": {\"frequency\": 205, \"value\": \"Alter Bridge\"}, \"Barry White\": {\"frequency\": 504, \"value\": \"Barry White\"}, \"They Might Be Giants\": {\"frequency\": 169, \"value\": \"They Might Be ...\"}, \"Marc Almond\": {\"frequency\": 154, \"value\": \"Marc Almond\"}, \"KT Tunstall\": {\"frequency\": 381, \"value\": \"KT Tunstall\"}, \"Andy Starr\": {\"frequency\": 198, \"value\": \"Andy Starr\"}, \"Bacilos\": {\"frequency\": 334, \"value\": \"Bacilos\"}, \"Corona\": {\"frequency\": 177, \"value\": \"Corona\"}, \"Digitalism\": {\"frequency\": 353, \"value\": \"Digitalism\"}, \"Ste Strausz\": {\"frequency\": 140, \"value\": \"Ste Strausz\"}, \"Asia 2001\": {\"frequency\": 321, \"value\": \"Asia 2001\"}, \"Heart\": {\"frequency\": 329, \"value\": \"Heart\"}, \"Man\\ufffd\\ufffd\": {\"frequency\": 694, \"value\": \"Man\\u00e1\"}, \"Hollywood Undead\": {\"frequency\": 1004, \"value\": \"Hollywood Undead\"}, \"Arch Enemy\": {\"frequency\": 306, \"value\": \"Arch Enemy\"}, \"Kosheen\": {\"frequency\": 278, \"value\": \"Kosheen\"}, \"The Zombies\": {\"frequency\": 208, \"value\": \"The Zombies\"}, \"Kollaa Kest\\ufffd\\ufffd\\ufffd\\ufffd\": {\"frequency\": 194, \"value\": \"Kollaa Kest\\u00e4\\u00e4\"}, \"Black Label Society\": {\"frequency\": 165, \"value\": \"Black Label ...\"}, \"Maelo Ruiz\": {\"frequency\": 243, \"value\": \"Maelo Ruiz\"}, \"Trey Songz\": {\"frequency\": 541, \"value\": \"Trey Songz\"}, \"Mos Def\": {\"frequency\": 194, \"value\": \"Mos Def\"}, \"Joe Nichols\": {\"frequency\": 382, \"value\": \"Joe Nichols\"}, \"Stray Cats\": {\"frequency\": 180, \"value\": \"Stray Cats\"}, \"DHT Feat. Edm\\ufffd\\ufffde\": {\"frequency\": 156, \"value\": \"DHT Feat. Edm\\u00e9e\"}, \"Abba\": {\"frequency\": 350, \"value\": \"Abba\"}, \"Sigur R\\ufffd\\ufffds\": {\"frequency\": 313, \"value\": \"Sigur R\\u00f3s\"}, \"Starflyer 59\": {\"frequency\": 229, \"value\": \"Starflyer 59\"}, \"Rebelution\": {\"frequency\": 157, \"value\": \"Rebelution\"}, \"Kat DeLuna\": {\"frequency\": 120, \"value\": \"Kat DeLuna\"}, \"Pretty Ricky\": {\"frequency\": 282, \"value\": \"Pretty Ricky\"}, \"Whitney Houston\": {\"frequency\": 179, \"value\": \"Whitney Houston\"}, \"Robin Thicke\": {\"frequency\": 189, \"value\": \"Robin Thicke\"}, \"Rodrigo y Gabriela\": {\"frequency\": 215, \"value\": \"Rodrigo y Gabriela\"}, \"Kanye West / Jay-Z\": {\"frequency\": 114, \"value\": \"Kanye West / Jay-Z\"}, \"Air Supply\": {\"frequency\": 236, \"value\": \"Air Supply\"}, \"Brian Poole & The Tremeloes\": {\"frequency\": 224, \"value\": \"Brian Poole & The ...\"}, \"Francesca Battistelli\": {\"frequency\": 206, \"value\": \"Francesca ...\"}, \"Prince\": {\"frequency\": 358, \"value\": \"Prince\"}, \"Peaches\": {\"frequency\": 185, \"value\": \"Peaches\"}, \"Go West\": {\"frequency\": 123, \"value\": \"Go West\"}, \"Ron Van Den Beuken\": {\"frequency\": 132, \"value\": \"Ron Van Den Beuken\"}, \"USS (Ubiquitous Synergy Seeker)\": {\"frequency\": 163, \"value\": \"USS (Ubiquitous ...\"}, \"Todd Rundgren\": {\"frequency\": 148, \"value\": \"Todd Rundgren\"}, \"Poison\": {\"frequency\": 115, \"value\": \"Poison\"}, \"Static-X\": {\"frequency\": 306, \"value\": \"Static-X\"}, \"1990s\": {\"frequency\": 462, \"value\": \"1990s\"}, \"Jurassic 5\": {\"frequency\": 283, \"value\": \"Jurassic 5\"}, \"Bell Biv DeVoe\": {\"frequency\": 180, \"value\": \"Bell Biv DeVoe\"}, \"The New York Dolls\": {\"frequency\": 147, \"value\": \"The New York Dolls\"}, \"Ratatat\": {\"frequency\": 620, \"value\": \"Ratatat\"}, \"Four Year Strong\": {\"frequency\": 181, \"value\": \"Four Year Strong\"}, \"The Tallest Man On Earth\": {\"frequency\": 142, \"value\": \"The Tallest Man On ...\"}, \"Valerio Scanu\": {\"frequency\": 214, \"value\": \"Valerio Scanu\"}, \"Calexico\": {\"frequency\": 121, \"value\": \"Calexico\"}, \"Frightened Rabbit\": {\"frequency\": 795, \"value\": \"Frightened Rabbit\"}, \"Mastodon\": {\"frequency\": 181, \"value\": \"Mastodon\"}, \"Aqua\": {\"frequency\": 269, \"value\": \"Aqua\"}, \"Balkan Beat Box\": {\"frequency\": 149, \"value\": \"Balkan Beat Box\"}, \"Cobra Starship Featuring Leighton Meester\": {\"frequency\": 216, \"value\": \"Cobra Starship ...\"}, \"The xx\": {\"frequency\": 410, \"value\": \"The xx\"}, \"Mystikal\": {\"frequency\": 174, \"value\": \"Mystikal\"}, \"Angels Of Light & Akron/Family\": {\"frequency\": 194, \"value\": \"Angels Of Light & ...\"}, \"Paramore\": {\"frequency\": 2358, \"value\": \"Paramore\"}, \"Shinedown\": {\"frequency\": 799, \"value\": \"Shinedown\"}, \"Amos Lee\": {\"frequency\": 576, \"value\": \"Amos Lee\"}, \"The Cars\": {\"frequency\": 129, \"value\": \"The Cars\"}, \"The Beautiful South\": {\"frequency\": 137, \"value\": \"The Beautiful ...\"}, \"Nacho Cano\": {\"frequency\": 138, \"value\": \"Nacho Cano\"}, \"A Perfect Circle\": {\"frequency\": 427, \"value\": \"A Perfect Circle\"}, \"Zero 7\": {\"frequency\": 425, \"value\": \"Zero 7\"}, \"Ice Cube\": {\"frequency\": 720, \"value\": \"Ice Cube\"}, \"Mutemath\": {\"frequency\": 115, \"value\": \"Mutemath\"}, \"Totta N\\ufffd\\ufffdslund\": {\"frequency\": 169, \"value\": \"Totta N\\u00e4slund\"}, \"Cream\": {\"frequency\": 442, \"value\": \"Cream\"}, \"Crowded House\": {\"frequency\": 190, \"value\": \"Crowded House\"}, \"Natasha Bedingfield\": {\"frequency\": 282, \"value\": \"Natasha ...\"}, \"Stone Sour\": {\"frequency\": 254, \"value\": \"Stone Sour\"}, \"Local Natives\": {\"frequency\": 312, \"value\": \"Local Natives\"}, \"Bring Me The Horizon\": {\"frequency\": 205, \"value\": \"Bring Me The ...\"}, \"Missy Higgins\": {\"frequency\": 174, \"value\": \"Missy Higgins\"}, \"Ace of Base\": {\"frequency\": 383, \"value\": \"Ace of Base\"}, \"Eminem / Nate Dogg\": {\"frequency\": 574, \"value\": \"Eminem / Nate Dogg\"}, \"Shakira ft. Wyclef Jean\": {\"frequency\": 608, \"value\": \"Shakira ft. Wyclef ...\"}, \"Adoniran Barbosa - Com Nosso Samba\": {\"frequency\": 133, \"value\": \"Adoniran Barbosa - ...\"}, \"Ugly Kid Joe\": {\"frequency\": 168, \"value\": \"Ugly Kid Joe\"}, \"Buju Banton\": {\"frequency\": 279, \"value\": \"Buju Banton\"}, \"Jars Of Clay\": {\"frequency\": 172, \"value\": \"Jars Of Clay\"}, \"Jan & Dean\": {\"frequency\": 117, \"value\": \"Jan & Dean\"}, \"Buckcherry\": {\"frequency\": 522, \"value\": \"Buckcherry\"}, \"Calvin Harris\": {\"frequency\": 196, \"value\": \"Calvin Harris\"}, \"Jos\\ufffd\\ufffd Gonzalez\": {\"frequency\": 216, \"value\": \"Jos\\u00e9 Gonzalez\"}, \"Justin Bieber\": {\"frequency\": 4312, \"value\": \"Justin Bieber\"}, \"Robbie Williams\": {\"frequency\": 294, \"value\": \"Robbie Williams\"}, \"Gorilla Zoe\": {\"frequency\": 132, \"value\": \"Gorilla Zoe\"}, \"Kris Kross\": {\"frequency\": 138, \"value\": \"Kris Kross\"}, \"Emmy The Great\": {\"frequency\": 348, \"value\": \"Emmy The Great\"}, \"Maria Gad\\ufffd\\ufffd\": {\"frequency\": 121, \"value\": \"Maria Gad\\u00fa\"}, \"Serj Tankian\": {\"frequency\": 153, \"value\": \"Serj Tankian\"}, \"Basshunter Feat. DJ Mental Theo\\u0019s Bazzheadz\": {\"frequency\": 177, \"value\": \"Basshunter Feat. ...\"}, \"Lykke Li\": {\"frequency\": 349, \"value\": \"Lykke Li\"}, \"Tinariwen\": {\"frequency\": 118, \"value\": \"Tinariwen\"}, \"Carrie Underwood\": {\"frequency\": 272, \"value\": \"Carrie Underwood\"}, \"Madness\": {\"frequency\": 162, \"value\": \"Madness\"}, \"Plain White T's\": {\"frequency\": 983, \"value\": \"Plain White T's\"}, \"Atreyu\": {\"frequency\": 388, \"value\": \"Atreyu\"}, \"The Boxmasters\": {\"frequency\": 173, \"value\": \"The Boxmasters\"}, \"Shiny Toy Guns\": {\"frequency\": 138, \"value\": \"Shiny Toy Guns\"}, \"Brand New\": {\"frequency\": 422, \"value\": \"Brand New\"}, \"Caribou (formerly Dan Snaith's Manitoba)\": {\"frequency\": 200, \"value\": \"Caribou (formerly ...\"}, \"Reality Check\": {\"frequency\": 466, \"value\": \"Reality Check\"}, \"Traveling Wilburys\": {\"frequency\": 401, \"value\": \"Traveling Wilburys\"}, \"Sam & Dave\": {\"frequency\": 117, \"value\": \"Sam & Dave\"}, \"Roxy Music\": {\"frequency\": 279, \"value\": \"Roxy Music\"}, \"Motion City Soundtrack\": {\"frequency\": 174, \"value\": \"Motion City ...\"}, \"Maldita Nerea\": {\"frequency\": 113, \"value\": \"Maldita Nerea\"}, \"Fragma\": {\"frequency\": 148, \"value\": \"Fragma\"}, \"Toro Y Moi\": {\"frequency\": 139, \"value\": \"Toro Y Moi\"}, \"Sam Cooke\": {\"frequency\": 1751, \"value\": \"Sam Cooke\"}, \"James Blunt\": {\"frequency\": 544, \"value\": \"James Blunt\"}, \"Ariel Pink's Haunted Graffiti\": {\"frequency\": 161, \"value\": \"Ariel Pink's ...\"}, \"Energy 52\": {\"frequency\": 143, \"value\": \"Energy 52\"}, \"Jan Hammer\": {\"frequency\": 164, \"value\": \"Jan Hammer\"}, \"Operation Ivy\": {\"frequency\": 163, \"value\": \"Operation Ivy\"}, \"Bebel Gilberto\": {\"frequency\": 170, \"value\": \"Bebel Gilberto\"}, \"The Prodigy\": {\"frequency\": 702, \"value\": \"The Prodigy\"}, \"Erykah Badu\": {\"frequency\": 286, \"value\": \"Erykah Badu\"}, \"Juanes\": {\"frequency\": 556, \"value\": \"Juanes\"}, \"Angus & Julia Stone\": {\"frequency\": 520, \"value\": \"Angus & Julia ...\"}, \"Flyleaf\": {\"frequency\": 551, \"value\": \"Flyleaf\"}, \"The Cheetah Girls\": {\"frequency\": 131, \"value\": \"The Cheetah Girls\"}, \"Caf\\ufffd\\ufffd Tacvba\": {\"frequency\": 433, \"value\": \"Caf\\u00e9 Tacvba\"}, \"Ludacris\": {\"frequency\": 186, \"value\": \"Ludacris\"}, \"Del The Funky Homosapien\": {\"frequency\": 164, \"value\": \"Del The Funky ...\"}, \"Lady GaGa\": {\"frequency\": 2710, \"value\": \"Lady GaGa\"}, \"Brother Ali\": {\"frequency\": 125, \"value\": \"Brother Ali\"}, \"The Darkness\": {\"frequency\": 229, \"value\": \"The Darkness\"}, \"Band Of Horses\": {\"frequency\": 1167, \"value\": \"Band Of Horses\"}, \"Why?\": {\"frequency\": 163, \"value\": \"Why?\"}, \"Bloc Party\": {\"frequency\": 617, \"value\": \"Bloc Party\"}, \"Modern English\": {\"frequency\": 145, \"value\": \"Modern English\"}, \"Cutting Crew\": {\"frequency\": 142, \"value\": \"Cutting Crew\"}, \"Simple Plan\": {\"frequency\": 398, \"value\": \"Simple Plan\"}, \"Jedi Mind Tricks\": {\"frequency\": 117, \"value\": \"Jedi Mind Tricks\"}, \"Happy Mondays\": {\"frequency\": 210, \"value\": \"Happy Mondays\"}, \"Everclear\": {\"frequency\": 603, \"value\": \"Everclear\"}, \"The Last Goodnight\": {\"frequency\": 121, \"value\": \"The Last Goodnight\"}, \"The Shins\": {\"frequency\": 663, \"value\": \"The Shins\"}, \"Alejandro Sanz\": {\"frequency\": 733, \"value\": \"Alejandro Sanz\"}, \"Violent Femmes\": {\"frequency\": 245, \"value\": \"Violent Femmes\"}, \"New Found Glory\": {\"frequency\": 331, \"value\": \"New Found Glory\"}, \"The B-52's\": {\"frequency\": 371, \"value\": \"The B-52's\"}, \"Michael Jackson\": {\"frequency\": 1039, \"value\": \"Michael Jackson\"}, \"Breathe Carolina\": {\"frequency\": 140, \"value\": \"Breathe Carolina\"}, \"Bar\\ufffd\\ufffdo Vermelho\": {\"frequency\": 169, \"value\": \"Bar\\u00e3o Vermelho\"}, \"Dangerdoom\": {\"frequency\": 139, \"value\": \"Dangerdoom\"}, \"Travis\": {\"frequency\": 324, \"value\": \"Travis\"}, \"Culture Club\": {\"frequency\": 222, \"value\": \"Culture Club\"}, \"UB40\": {\"frequency\": 476, \"value\": \"UB40\"}, \"Jaci Velasquez\": {\"frequency\": 271, \"value\": \"Jaci Velasquez\"}, \"Iration\": {\"frequency\": 272, \"value\": \"Iration\"}, \"Justice\": {\"frequency\": 1441, \"value\": \"Justice\"}, \"Eminem / Dina Rae\": {\"frequency\": 692, \"value\": \"Eminem / Dina Rae\"}, \"Within Temptation\": {\"frequency\": 290, \"value\": \"Within Temptation\"}, \"Dr. Dre / Eminem\": {\"frequency\": 325, \"value\": \"Dr. Dre / Eminem\"}, \"Tonic\": {\"frequency\": 196, \"value\": \"Tonic\"}, \"Timbaland / Keri Hilson / D.O.E.\": {\"frequency\": 401, \"value\": \"Timbaland / Keri ...\"}, \"The Mars Volta\": {\"frequency\": 472, \"value\": \"The Mars Volta\"}, \"Ra Ra Riot\": {\"frequency\": 120, \"value\": \"Ra Ra Riot\"}, \"Bob Newhart\": {\"frequency\": 114, \"value\": \"Bob Newhart\"}, \"Usher Featuring Lil' Jon & Ludacris\": {\"frequency\": 705, \"value\": \"Usher Featuring ...\"}, \"The Hives\": {\"frequency\": 334, \"value\": \"The Hives\"}, \"Benny Benassi Presents The Biz\": {\"frequency\": 436, \"value\": \"Benny Benassi ...\"}, \"Mariza\": {\"frequency\": 132, \"value\": \"Mariza\"}, \"Foo Fighters\": {\"frequency\": 2071, \"value\": \"Foo Fighters\"}, \"Jason Mraz & Colbie Caillat\": {\"frequency\": 1545, \"value\": \"Jason Mraz & ...\"}, \"Los Fabulosos Cadillacs\": {\"frequency\": 309, \"value\": \"Los Fabulosos ...\"}, \"Carnal Forge\": {\"frequency\": 113, \"value\": \"Carnal Forge\"}, \"Interpol\": {\"frequency\": 704, \"value\": \"Interpol\"}, \"Saosin\": {\"frequency\": 132, \"value\": \"Saosin\"}, \"Litfiba\": {\"frequency\": 121, \"value\": \"Litfiba\"}, \"Sisters Of Mercy\": {\"frequency\": 126, \"value\": \"Sisters Of Mercy\"}, \"Village People\": {\"frequency\": 213, \"value\": \"Village People\"}, \"The Roots\": {\"frequency\": 286, \"value\": \"The Roots\"}, \"Talib Kweli\": {\"frequency\": 241, \"value\": \"Talib Kweli\"}, \"Gorillaz\": {\"frequency\": 1642, \"value\": \"Gorillaz\"}, \"The Boxer Rebellion\": {\"frequency\": 144, \"value\": \"The Boxer ...\"}, \"The Runaways\": {\"frequency\": 167, \"value\": \"The Runaways\"}, \"Hoobastank\": {\"frequency\": 161, \"value\": \"Hoobastank\"}, \"Black Moth Super Rainbow\": {\"frequency\": 161, \"value\": \"Black Moth Super ...\"}, \"Epica\": {\"frequency\": 332, \"value\": \"Epica\"}, \"Yonder Mountain String Band\": {\"frequency\": 255, \"value\": \"Yonder Mountain ...\"}, \"Aaron Shust\": {\"frequency\": 166, \"value\": \"Aaron Shust\"}, \"Iron & Wine\": {\"frequency\": 142, \"value\": \"Iron & Wine\"}, \"Taylor Swift\": {\"frequency\": 3622, \"value\": \"Taylor Swift\"}, \"Horkyze Slyze\": {\"frequency\": 167, \"value\": \"Horkyze Slyze\"}, \"Justin Timberlake Featuring T.I.\": {\"frequency\": 155, \"value\": \"Justin Timberlake ...\"}, \"Steel Pulse\": {\"frequency\": 293, \"value\": \"Steel Pulse\"}, \"Despised Icon\": {\"frequency\": 137, \"value\": \"Despised Icon\"}, \"Santigold\": {\"frequency\": 118, \"value\": \"Santigold\"}, \"Kate Winslet\": {\"frequency\": 155, \"value\": \"Kate Winslet\"}, \"Extremoduro\": {\"frequency\": 255, \"value\": \"Extremoduro\"}, \"Trapt\": {\"frequency\": 159, \"value\": \"Trapt\"}, \"Caetano Veloso\": {\"frequency\": 186, \"value\": \"Caetano Veloso\"}, \"Kid Cudi / MGMT / Ratatat\": {\"frequency\": 1683, \"value\": \"Kid Cudi / MGMT / ...\"}, \"Leonard Cohen\": {\"frequency\": 353, \"value\": \"Leonard Cohen\"}, \"Avant\": {\"frequency\": 113, \"value\": \"Avant\"}, \"Cake\": {\"frequency\": 845, \"value\": \"Cake\"}, \"Kings Of Convenience\": {\"frequency\": 267, \"value\": \"Kings Of ...\"}, \"Ismael Serrano\": {\"frequency\": 130, \"value\": \"Ismael Serrano\"}, \"Ella Baila Sola\": {\"frequency\": 151, \"value\": \"Ella Baila Sola\"}, \"BarlowGirl\": {\"frequency\": 134, \"value\": \"BarlowGirl\"}, \"The Streets\": {\"frequency\": 283, \"value\": \"The Streets\"}, \"Ja Rule / Vita\": {\"frequency\": 123, \"value\": \"Ja Rule / Vita\"}, \"Black Sabbath\": {\"frequency\": 371, \"value\": \"Black Sabbath\"}, \"The Veronicas\": {\"frequency\": 340, \"value\": \"The Veronicas\"}, \"Natiruts\": {\"frequency\": 954, \"value\": \"Natiruts\"}, \"Selena Gomez\": {\"frequency\": 167, \"value\": \"Selena Gomez\"}, \"Huey Lewis & The News\": {\"frequency\": 149, \"value\": \"Huey Lewis & The ...\"}, \"Eric B. & Rakim\": {\"frequency\": 331, \"value\": \"Eric B. & Rakim\"}, \"Crosby_ Stills_ Nash & Young\": {\"frequency\": 177, \"value\": \"Crosby_ Stills_ ...\"}, \"Jon Secada\": {\"frequency\": 120, \"value\": \"Jon Secada\"}, \"Huey Lewis And The News\": {\"frequency\": 374, \"value\": \"Huey Lewis And The ...\"}, \"Moose\": {\"frequency\": 292, \"value\": \"Moose\"}, \"Rihanna\": {\"frequency\": 2645, \"value\": \"Rihanna\"}, \"Rick Ross\": {\"frequency\": 226, \"value\": \"Rick Ross\"}, \"THE CHIFFONS\": {\"frequency\": 118, \"value\": \"THE CHIFFONS\"}, \"Josh Ritter\": {\"frequency\": 157, \"value\": \"Josh Ritter\"}, \"The Offspring\": {\"frequency\": 438, \"value\": \"The Offspring\"}, \"Hinder\": {\"frequency\": 438, \"value\": \"Hinder\"}, \"Damien Rice\": {\"frequency\": 628, \"value\": \"Damien Rice\"}, \"Stephen Lynch\": {\"frequency\": 139, \"value\": \"Stephen Lynch\"}, \"Tom Waits\": {\"frequency\": 386, \"value\": \"Tom Waits\"}, \"Electric Light Orchestra\": {\"frequency\": 327, \"value\": \"Electric Light ...\"}, \"Infected Mushroom\": {\"frequency\": 461, \"value\": \"Infected Mushroom\"}, \"Jorge Drexler\": {\"frequency\": 349, \"value\": \"Jorge Drexler\"}, \"Santogold\": {\"frequency\": 196, \"value\": \"Santogold\"}, \"Eazy-E\": {\"frequency\": 211, \"value\": \"Eazy-E\"}, \"DJ Shadow\": {\"frequency\": 251, \"value\": \"DJ Shadow\"}, \"Bob Dylan\": {\"frequency\": 299, \"value\": \"Bob Dylan\"}, \"Janet Jackson\": {\"frequency\": 396, \"value\": \"Janet Jackson\"}, \"Oscar Peterson\": {\"frequency\": 115, \"value\": \"Oscar Peterson\"}, \"Robert Johnson\": {\"frequency\": 192, \"value\": \"Robert Johnson\"}, \"Jordan Francis/Roshon Bernard Fegan\": {\"frequency\": 139, \"value\": \"Jordan ...\"}, \"Neneh Cherry\": {\"frequency\": 141, \"value\": \"Neneh Cherry\"}, \"Frou Frou\": {\"frequency\": 244, \"value\": \"Frou Frou\"}, \"Daniel Bedingfield\": {\"frequency\": 180, \"value\": \"Daniel Bedingfield\"}, \"Deer Tick\": {\"frequency\": 124, \"value\": \"Deer Tick\"}, \"Deep Purple\": {\"frequency\": 248, \"value\": \"Deep Purple\"}, \"Deadmau5 & Kaskade\": {\"frequency\": 134, \"value\": \"Deadmau5 & Kaskade\"}, \"Mando Diao\": {\"frequency\": 222, \"value\": \"Mando Diao\"}, \"Kajagoogoo\": {\"frequency\": 272, \"value\": \"Kajagoogoo\"}, \"Arctic Monkeys\": {\"frequency\": 913, \"value\": \"Arctic Monkeys\"}, \"Anthrax\": {\"frequency\": 248, \"value\": \"Anthrax\"}, \"Travie McCoy\": {\"frequency\": 1661, \"value\": \"Travie McCoy\"}, \"Melanie Fiona\": {\"frequency\": 116, \"value\": \"Melanie Fiona\"}, \"Lifehouse\": {\"frequency\": 1220, \"value\": \"Lifehouse\"}, \"Marilyn Manson\": {\"frequency\": 685, \"value\": \"Marilyn Manson\"}, \"Broken Social Scene\": {\"frequency\": 330, \"value\": \"Broken Social ...\"}, \"Live\": {\"frequency\": 440, \"value\": \"Live\"}, \"Panic! At The Disco\": {\"frequency\": 362, \"value\": \"Panic! At The ...\"}, \"Cut Copy\": {\"frequency\": 986, \"value\": \"Cut Copy\"}, \"Ok Go\": {\"frequency\": 387, \"value\": \"Ok Go\"}, \"Liquid Tension Experiment\": {\"frequency\": 136, \"value\": \"Liquid Tension ...\"}, \"Paulinho Da Viola\": {\"frequency\": 129, \"value\": \"Paulinho Da Viola\"}, \"El Arrebato\": {\"frequency\": 116, \"value\": \"El Arrebato\"}, \"Chuck Mangione\": {\"frequency\": 136, \"value\": \"Chuck Mangione\"}, \"Kelis\": {\"frequency\": 218, \"value\": \"Kelis\"}, \"Maroon 5 / Rihanna\": {\"frequency\": 221, \"value\": \"Maroon 5 / Rihanna\"}, \"Journey\": {\"frequency\": 316, \"value\": \"Journey\"}, \"Hannah Montana\": {\"frequency\": 327, \"value\": \"Hannah Montana\"}, \"Enter Shikari\": {\"frequency\": 125, \"value\": \"Enter Shikari\"}, \"The Moody Blues\": {\"frequency\": 116, \"value\": \"The Moody Blues\"}, \"The Dresden Dolls\": {\"frequency\": 117, \"value\": \"The Dresden Dolls\"}, \"Bo Kaspers Orkester\": {\"frequency\": 129, \"value\": \"Bo Kaspers ...\"}, \"Brisa Roch\\ufffd\\ufffd\": {\"frequency\": 153, \"value\": \"Brisa Roch\\u00e9\"}, \"Julieta Venegas\": {\"frequency\": 140, \"value\": \"Julieta Venegas\"}, \"Y\\ufffd\\ufffdlintu\": {\"frequency\": 126, \"value\": \"Y\\u00f6lintu\"}, \"Enrique Iglesias\": {\"frequency\": 1176, \"value\": \"Enrique Iglesias\"}, \"Scouting for Girls\": {\"frequency\": 164, \"value\": \"Scouting for Girls\"}, \"Kevin Blechdom\": {\"frequency\": 175, \"value\": \"Kevin Blechdom\"}, \"James Horner\": {\"frequency\": 150, \"value\": \"James Horner\"}, \"ATB\": {\"frequency\": 593, \"value\": \"ATB\"}, \"Weird Al Yankovic\": {\"frequency\": 329, \"value\": \"Weird Al Yankovic\"}, \"Eminem / Dr. Dre\": {\"frequency\": 280, \"value\": \"Eminem / Dr. Dre\"}, \"Stars\": {\"frequency\": 422, \"value\": \"Stars\"}, \"Fever Ray\": {\"frequency\": 130, \"value\": \"Fever Ray\"}, \"Jamie Foxx featuring T-Pain\": {\"frequency\": 140, \"value\": \"Jamie Foxx ...\"}, \"Pretenders\": {\"frequency\": 136, \"value\": \"Pretenders\"}, \"Will Smith\": {\"frequency\": 117, \"value\": \"Will Smith\"}, \"Chris Cagle\": {\"frequency\": 223, \"value\": \"Chris Cagle\"}, \"Elton John\": {\"frequency\": 315, \"value\": \"Elton John\"}, \"Cassie Feat. Diddy & Yung Joc\": {\"frequency\": 158, \"value\": \"Cassie Feat. Diddy ...\"}, \"keller williams\": {\"frequency\": 172, \"value\": \"keller williams\"}, \"Parkway Drive\": {\"frequency\": 114, \"value\": \"Parkway Drive\"}, \"Obie Trice\": {\"frequency\": 121, \"value\": \"Obie Trice\"}, \"Blackstreet\": {\"frequency\": 337, \"value\": \"Blackstreet\"}, \"Devo\": {\"frequency\": 402, \"value\": \"Devo\"}, \"Busted\": {\"frequency\": 160, \"value\": \"Busted\"}, \"blessthefall\": {\"frequency\": 145, \"value\": \"blessthefall\"}, \"Snoop Dogg\": {\"frequency\": 138, \"value\": \"Snoop Dogg\"}, \"Atmosphere\": {\"frequency\": 258, \"value\": \"Atmosphere\"}, \"Afroman\": {\"frequency\": 307, \"value\": \"Afroman\"}, \"Pantera\": {\"frequency\": 559, \"value\": \"Pantera\"}, \"DeGarmo & Key\": {\"frequency\": 191, \"value\": \"DeGarmo & Key\"}, \"The Specials\": {\"frequency\": 241, \"value\": \"The Specials\"}, \"Blue Man Group\": {\"frequency\": 125, \"value\": \"Blue Man Group\"}, \"Matt Redman\": {\"frequency\": 228, \"value\": \"Matt Redman\"}, \"Delirious?\": {\"frequency\": 546, \"value\": \"Delirious?\"}, \"The Heavy\": {\"frequency\": 158, \"value\": \"The Heavy\"}, \"Saybia\": {\"frequency\": 120, \"value\": \"Saybia\"}, \"Britney Spears\": {\"frequency\": 1468, \"value\": \"Britney Spears\"}, \"Cyndi Lauper\": {\"frequency\": 365, \"value\": \"Cyndi Lauper\"}, \"The Cat Empire\": {\"frequency\": 147, \"value\": \"The Cat Empire\"}, \"Alice Cooper\": {\"frequency\": 232, \"value\": \"Alice Cooper\"}, \"Macy Gray\": {\"frequency\": 114, \"value\": \"Macy Gray\"}, \"12 Stones\": {\"frequency\": 196, \"value\": \"12 Stones\"}, \"Keyshia Cole\": {\"frequency\": 406, \"value\": \"Keyshia Cole\"}, \"Cyberfit\": {\"frequency\": 126, \"value\": \"Cyberfit\"}, \"David Crowder*Band\": {\"frequency\": 253, \"value\": \"David Crowder*Band\"}, \"Juanes / Nelly Furtado\": {\"frequency\": 124, \"value\": \"Juanes / Nelly ...\"}, \"Refused\": {\"frequency\": 125, \"value\": \"Refused\"}, \"Joe Bonamassa\": {\"frequency\": 151, \"value\": \"Joe Bonamassa\"}, \"Diamanda Galas\": {\"frequency\": 209, \"value\": \"Diamanda Galas\"}, \"Dido\": {\"frequency\": 429, \"value\": \"Dido\"}, \"White Lion\": {\"frequency\": 180, \"value\": \"White Lion\"}, \"Pavement\": {\"frequency\": 1106, \"value\": \"Pavement\"}, \"LCD Soundsystem\": {\"frequency\": 1303, \"value\": \"LCD Soundsystem\"}, \"All Time Low\": {\"frequency\": 517, \"value\": \"All Time Low\"}, \"C.V. J\\ufffd\\ufffdrgensen\": {\"frequency\": 201, \"value\": \"C.V. J\\u00f8rgensen\"}, \"Cher\": {\"frequency\": 322, \"value\": \"Cher\"}, \"The Radio Dept.\": {\"frequency\": 125, \"value\": \"The Radio Dept.\"}, \"Tegan And Sara\": {\"frequency\": 301, \"value\": \"Tegan And Sara\"}, \"Olivia Newton-John\": {\"frequency\": 501, \"value\": \"Olivia Newton-John\"}, \"Billy Curringham\": {\"frequency\": 208, \"value\": \"Billy Curringham\"}, \"Spiderbait\": {\"frequency\": 114, \"value\": \"Spiderbait\"}, \"Ashanti\": {\"frequency\": 307, \"value\": \"Ashanti\"}, \"Edgar Oceransky\": {\"frequency\": 216, \"value\": \"Edgar Oceransky\"}, \"Fatboy Slim\": {\"frequency\": 593, \"value\": \"Fatboy Slim\"}, \"Adam Lambert\": {\"frequency\": 1427, \"value\": \"Adam Lambert\"}, \"Kid Cudi\": {\"frequency\": 1245, \"value\": \"Kid Cudi\"}, \"James Taylor\": {\"frequency\": 507, \"value\": \"James Taylor\"}, \"Marc Anthony\": {\"frequency\": 498, \"value\": \"Marc Anthony\"}, \"Jack Johnson / Matt Costa\": {\"frequency\": 165, \"value\": \"Jack Johnson / ...\"}, \"Tommy James And The Shondells\": {\"frequency\": 180, \"value\": \"Tommy James And ...\"}, \"Francisca Valenzuela\": {\"frequency\": 158, \"value\": \"Francisca ...\"}, \"Lionel Rogg\": {\"frequency\": 199, \"value\": \"Lionel Rogg\"}, \"The Fugees\": {\"frequency\": 174, \"value\": \"The Fugees\"}, \"Panic At The Disco\": {\"frequency\": 988, \"value\": \"Panic At The Disco\"}, \"Kansas\": {\"frequency\": 539, \"value\": \"Kansas\"}, \"Nick Drake\": {\"frequency\": 367, \"value\": \"Nick Drake\"}, \"Akon / Snoop Dogg\": {\"frequency\": 184, \"value\": \"Akon / Snoop Dogg\"}, \"Backstreet Boys\": {\"frequency\": 314, \"value\": \"Backstreet Boys\"}, \"Fisher\": {\"frequency\": 1047, \"value\": \"Fisher\"}, \"Madvillain\": {\"frequency\": 150, \"value\": \"Madvillain\"}, \"Ziggy Marley\": {\"frequency\": 172, \"value\": \"Ziggy Marley\"}, \"Plastic Boy\": {\"frequency\": 116, \"value\": \"Plastic Boy\"}, \"Damian Marley\": {\"frequency\": 234, \"value\": \"Damian Marley\"}, \"House Of Pain\": {\"frequency\": 277, \"value\": \"House Of Pain\"}, \"Corinne Bailey Rae\": {\"frequency\": 463, \"value\": \"Corinne Bailey Rae\"}, \"Emil Gilels/Orchestre de la Soci\\ufffd\\ufffdt\\ufffd\\ufffd des Concerts du Conservatoire/Andr\\ufffd\\ufffd Cluytens\": {\"frequency\": 398, \"value\": \"Emil ...\"}, \"Kate Voegele\": {\"frequency\": 195, \"value\": \"Kate Voegele\"}, \"Sin Bandera\": {\"frequency\": 285, \"value\": \"Sin Bandera\"}, \"Ghostland Observatory\": {\"frequency\": 126, \"value\": \"Ghostland ...\"}, \"A Rocket To The Moon\": {\"frequency\": 147, \"value\": \"A Rocket To The ...\"}, \"Luis Alberto Spinetta\": {\"frequency\": 142, \"value\": \"Luis Alberto ...\"}, \"Che Sudaka\": {\"frequency\": 169, \"value\": \"Che Sudaka\"}, \"Confederate Railroad\": {\"frequency\": 151, \"value\": \"Confederate ...\"}, \"Charttraxx Karaoke\": {\"frequency\": 2815, \"value\": \"Charttraxx Karaoke\"}, \"Mel & Kim\": {\"frequency\": 147, \"value\": \"Mel & Kim\"}, \"The String Cheese Incident\": {\"frequency\": 467, \"value\": \"The String Cheese ...\"}, \"Santana\": {\"frequency\": 168, \"value\": \"Santana\"}, \"Rick James\": {\"frequency\": 260, \"value\": \"Rick James\"}, \"Jarabe De Palo\": {\"frequency\": 314, \"value\": \"Jarabe De Palo\"}, \"George Lopez\": {\"frequency\": 147, \"value\": \"George Lopez\"}, \"Kate Bush\": {\"frequency\": 217, \"value\": \"Kate Bush\"}, \"Kanye West / T-Pain\": {\"frequency\": 135, \"value\": \"Kanye West / ...\"}, \"Boney M.\": {\"frequency\": 137, \"value\": \"Boney M.\"}, \"Jules Shear\": {\"frequency\": 134, \"value\": \"Jules Shear\"}, \"Ying Yang Twins ft. Pitbull\": {\"frequency\": 163, \"value\": \"Ying Yang Twins ...\"}, \"Hans Zimmer_ James Newton Howard\": {\"frequency\": 126, \"value\": \"Hans Zimmer_ James ...\"}, \"Pixies\": {\"frequency\": 1139, \"value\": \"Pixies\"}, \"Alice Deejay\": {\"frequency\": 139, \"value\": \"Alice Deejay\"}, \"Dr. Know\": {\"frequency\": 126, \"value\": \"Dr. Know\"}, \"Aerosmith\": {\"frequency\": 1707, \"value\": \"Aerosmith\"}, \"Eddie Vedder\": {\"frequency\": 423, \"value\": \"Eddie Vedder\"}, \"Syd Barrett\": {\"frequency\": 118, \"value\": \"Syd Barrett\"}, \"Bj\\ufffd\\ufffdrk\": {\"frequency\": 4975, \"value\": \"Bj\\u00f6rk\"}, \"B.o.B\": {\"frequency\": 1173, \"value\": \"B.o.B\"}, \"Amon Tobin\": {\"frequency\": 119, \"value\": \"Amon Tobin\"}, \"Chris Rea\": {\"frequency\": 219, \"value\": \"Chris Rea\"}, \"The Fray\": {\"frequency\": 366, \"value\": \"The Fray\"}, \"Christina Aguilera\": {\"frequency\": 524, \"value\": \"Christina Aguilera\"}, \"T.I.\": {\"frequency\": 734, \"value\": \"T.I.\"}, \"Ulrich Schnauss\": {\"frequency\": 380, \"value\": \"Ulrich Schnauss\"}, \"Machine Head\": {\"frequency\": 347, \"value\": \"Machine Head\"}, \"Plan B\": {\"frequency\": 263, \"value\": \"Plan B\"}, \"Box Car Racer\": {\"frequency\": 116, \"value\": \"Box Car Racer\"}, \"Simple Minds\": {\"frequency\": 408, \"value\": \"Simple Minds\"}, \"Wiz Khalifa\": {\"frequency\": 346, \"value\": \"Wiz Khalifa\"}, \"Silverchair\": {\"frequency\": 266, \"value\": \"Silverchair\"}, \"John Mayer\": {\"frequency\": 3136, \"value\": \"John Mayer\"}, \"Umphrey's McGee\": {\"frequency\": 126, \"value\": \"Umphrey's McGee\"}, \"Crazy Frog\": {\"frequency\": 144, \"value\": \"Crazy Frog\"}, \"Faith Evans\": {\"frequency\": 160, \"value\": \"Faith Evans\"}, \"Barry Tuckwell/Academy of St Martin-in-the-Fields/Sir Neville Marriner\": {\"frequency\": 3278, \"value\": \"Barry ...\"}, \"Billy Joel\": {\"frequency\": 179, \"value\": \"Billy Joel\"}, \"The Supremes\": {\"frequency\": 138, \"value\": \"The Supremes\"}, \"Bruce Springsteen\": {\"frequency\": 719, \"value\": \"Bruce Springsteen\"}, \"Marques Houston\": {\"frequency\": 230, \"value\": \"Marques Houston\"}, \"Robert Palmer\": {\"frequency\": 449, \"value\": \"Robert Palmer\"}, \"Riverside\": {\"frequency\": 130, \"value\": \"Riverside\"}, \"MxPx\": {\"frequency\": 258, \"value\": \"MxPx\"}, \"The Breeders\": {\"frequency\": 228, \"value\": \"The Breeders\"}, \"Pepper\": {\"frequency\": 552, \"value\": \"Pepper\"}, \"Fleet Foxes\": {\"frequency\": 646, \"value\": \"Fleet Foxes\"}, \"Masta Killa\": {\"frequency\": 186, \"value\": \"Masta Killa\"}, \"Gang Starr\": {\"frequency\": 438, \"value\": \"Gang Starr\"}, \"Paulina Rubio\": {\"frequency\": 323, \"value\": \"Paulina Rubio\"}, \"Public Enemy\": {\"frequency\": 123, \"value\": \"Public Enemy\"}, \"Fergie / Ludacris\": {\"frequency\": 154, \"value\": \"Fergie / Ludacris\"}, \"Los Lobos\": {\"frequency\": 199, \"value\": \"Los Lobos\"}, \"Katie Melua\": {\"frequency\": 323, \"value\": \"Katie Melua\"}, \"The Gathering\": {\"frequency\": 173, \"value\": \"The Gathering\"}, \"Barry Manilow\": {\"frequency\": 145, \"value\": \"Barry Manilow\"}, \"The Mamas & The Papas\": {\"frequency\": 549, \"value\": \"The Mamas & The ...\"}, \"Sly & The Family Stone\": {\"frequency\": 126, \"value\": \"Sly & The Family ...\"}, \"C\\ufffd\\ufffdline Dion\": {\"frequency\": 590, \"value\": \"C\\u00e9line Dion\"}, \"Simon & Garfunkel\": {\"frequency\": 279, \"value\": \"Simon & Garfunkel\"}, \"Sanctus Real\": {\"frequency\": 306, \"value\": \"Sanctus Real\"}, \"Wilco\": {\"frequency\": 500, \"value\": \"Wilco\"}, \"Celtic Woman\": {\"frequency\": 339, \"value\": \"Celtic Woman\"}, \"Regina Spektor\": {\"frequency\": 769, \"value\": \"Regina Spektor\"}, \"Candlebox\": {\"frequency\": 125, \"value\": \"Candlebox\"}, \"Sia\": {\"frequency\": 495, \"value\": \"Sia\"}, \"Cam'Ron / Juelz Santana\": {\"frequency\": 116, \"value\": \"Cam'Ron / Juelz ...\"}, \"The Grascals\": {\"frequency\": 238, \"value\": \"The Grascals\"}, \"Arcade Fire\": {\"frequency\": 1031, \"value\": \"Arcade Fire\"}, \"Dream Theater\": {\"frequency\": 409, \"value\": \"Dream Theater\"}, \"Amon Amarth\": {\"frequency\": 359, \"value\": \"Amon Amarth\"}, \"Van Halen\": {\"frequency\": 1052, \"value\": \"Van Halen\"}, \"38 Special\": {\"frequency\": 171, \"value\": \"38 Special\"}, \"Blind Pilot\": {\"frequency\": 128, \"value\": \"Blind Pilot\"}, \"Dr. Dre\": {\"frequency\": 166, \"value\": \"Dr. Dre\"}, \"Maxi Priest\": {\"frequency\": 137, \"value\": \"Maxi Priest\"}, \"Rock Kills Kid\": {\"frequency\": 115, \"value\": \"Rock Kills Kid\"}, \"Tokyo Police Club\": {\"frequency\": 151, \"value\": \"Tokyo Police Club\"}, \"Bob Marley\": {\"frequency\": 215, \"value\": \"Bob Marley\"}, \"Matt Pond PA\": {\"frequency\": 113, \"value\": \"Matt Pond PA\"}, \"The Knack\": {\"frequency\": 110, \"value\": \"The Knack\"}, \"Lil Wayne / T-Pain\": {\"frequency\": 121, \"value\": \"Lil Wayne / T-Pain\"}, \"Owl City\": {\"frequency\": 1260, \"value\": \"Owl City\"}, \"Andres Calamaro\": {\"frequency\": 709, \"value\": \"Andres Calamaro\"}, \"Dash Berlin\": {\"frequency\": 159, \"value\": \"Dash Berlin\"}, \"Atomic Kitten\": {\"frequency\": 292, \"value\": \"Atomic Kitten\"}, \"Lucero\": {\"frequency\": 202, \"value\": \"Lucero\"}, \"Cat Power\": {\"frequency\": 476, \"value\": \"Cat Power\"}, \"Kaskade\": {\"frequency\": 248, \"value\": \"Kaskade\"}, \"Selena Gomez & The Scene\": {\"frequency\": 568, \"value\": \"Selena Gomez & The ...\"}, \"Rusko\": {\"frequency\": 151, \"value\": \"Rusko\"}, \"RJD2\": {\"frequency\": 209, \"value\": \"RJD2\"}, \"The Doors\": {\"frequency\": 424, \"value\": \"The Doors\"}, \"Bullet For My Valentine\": {\"frequency\": 711, \"value\": \"Bullet For My ...\"}, \"Tarkan\": {\"frequency\": 150, \"value\": \"Tarkan\"}, \"Jason Aldean\": {\"frequency\": 438, \"value\": \"Jason Aldean\"}, \"Toby Keith\": {\"frequency\": 743, \"value\": \"Toby Keith\"}, \"Era\": {\"frequency\": 204, \"value\": \"Era\"}, \"Eels\": {\"frequency\": 279, \"value\": \"Eels\"}, \"Original Love\": {\"frequency\": 116, \"value\": \"Original Love\"}, \"Bow Wow\": {\"frequency\": 187, \"value\": \"Bow Wow\"}, \"Richard Marx\": {\"frequency\": 200, \"value\": \"Richard Marx\"}, \"The New Pornographers\": {\"frequency\": 1157, \"value\": \"The New ...\"}, \"Lonnie Gordon\": {\"frequency\": 2123, \"value\": \"Lonnie Gordon\"}, \"Alicia Keys\": {\"frequency\": 1688, \"value\": \"Alicia Keys\"}, \"Carpark North\": {\"frequency\": 119, \"value\": \"Carpark North\"}, \"Medeski_ Martin & Wood\": {\"frequency\": 114, \"value\": \"Medeski_ Martin & ...\"}, \"Tracy Lawrence\": {\"frequency\": 149, \"value\": \"Tracy Lawrence\"}, \"J-Black & Masta Ace\": {\"frequency\": 129, \"value\": \"J-Black & Masta ...\"}, \"Tokio Hotel\": {\"frequency\": 197, \"value\": \"Tokio Hotel\"}, \"Nine Inch Nails\": {\"frequency\": 1562, \"value\": \"Nine Inch Nails\"}, \"Koop\": {\"frequency\": 137, \"value\": \"Koop\"}, \"Katrina & The Waves\": {\"frequency\": 158, \"value\": \"Katrina & The ...\"}, \"Shaggy\": {\"frequency\": 410, \"value\": \"Shaggy\"}, \"Otis Redding\": {\"frequency\": 300, \"value\": \"Otis Redding\"}, \"Damian \\\"Jr. Gong\\\" Marley\": {\"frequency\": 121, \"value\": \"Damian \\\"Jr. Gong\\\" ...\"}, \"Spandau Ballet\": {\"frequency\": 155, \"value\": \"Spandau Ballet\"}, \"Timbaland / Katy Perry\": {\"frequency\": 311, \"value\": \"Timbaland / Katy ...\"}, \"Estopa\": {\"frequency\": 162, \"value\": \"Estopa\"}, \"MGMT\": {\"frequency\": 1639, \"value\": \"MGMT\"}, \"Example\": {\"frequency\": 127, \"value\": \"Example\"}, \"Justin Bieber / Jessica Jarrell\": {\"frequency\": 340, \"value\": \"Justin Bieber / ...\"}, \"Mike And The Mechanics\": {\"frequency\": 795, \"value\": \"Mike And The ...\"}, \"Crosby_ Stills & Nash\": {\"frequency\": 477, \"value\": \"Crosby_ Stills & ...\"}, \"The Black Crowes\": {\"frequency\": 145, \"value\": \"The Black Crowes\"}, \"Eddy Grant\": {\"frequency\": 300, \"value\": \"Eddy Grant\"}, \"The Bonzo Dog Band\": {\"frequency\": 164, \"value\": \"The Bonzo Dog Band\"}, \"Agnostic Front\": {\"frequency\": 170, \"value\": \"Agnostic Front\"}, \"Lil Wayne\": {\"frequency\": 492, \"value\": \"Lil Wayne\"}, \"O.G.C.\": {\"frequency\": 320, \"value\": \"O.G.C.\"}, \"Peggy Lee\": {\"frequency\": 114, \"value\": \"Peggy Lee\"}, \"Foreigner\": {\"frequency\": 268, \"value\": \"Foreigner\"}, \"Alberto Plaza\": {\"frequency\": 229, \"value\": \"Alberto Plaza\"}, \"Soda Stereo\": {\"frequency\": 715, \"value\": \"Soda Stereo\"}, \"The Mercury Program\": {\"frequency\": 213, \"value\": \"The Mercury ...\"}, \"Chris Cornell\": {\"frequency\": 310, \"value\": \"Chris Cornell\"}, \"Ron Carter\": {\"frequency\": 1309, \"value\": \"Ron Carter\"}, \"Bryan Adams\": {\"frequency\": 562, \"value\": \"Bryan Adams\"}, \"NOFX\": {\"frequency\": 362, \"value\": \"NOFX\"}, \"Ian Van Dahl\": {\"frequency\": 117, \"value\": \"Ian Van Dahl\"}, \"HYPOCRISY\": {\"frequency\": 132, \"value\": \"HYPOCRISY\"}, \"The Kinks\": {\"frequency\": 170, \"value\": \"The Kinks\"}, \"Christopher O'Riley\": {\"frequency\": 115, \"value\": \"Christopher ...\"}, \"Southside Spinners\": {\"frequency\": 529, \"value\": \"Southside Spinners\"}, \"No Doubt\": {\"frequency\": 597, \"value\": \"No Doubt\"}, \"Deepest Blue\": {\"frequency\": 207, \"value\": \"Deepest Blue\"}, \"Soul Coughing\": {\"frequency\": 133, \"value\": \"Soul Coughing\"}, \"Joe Satriani\": {\"frequency\": 186, \"value\": \"Joe Satriani\"}, \"Extreme\": {\"frequency\": 301, \"value\": \"Extreme\"}, \"Die Mooskirchner\": {\"frequency\": 928, \"value\": \"Die Mooskirchner\"}, \"Faithless\": {\"frequency\": 336, \"value\": \"Faithless\"}, \"Grandmaster Flash & The Furious Five\": {\"frequency\": 146, \"value\": \"Grandmaster Flash ...\"}, \"Christina Aguilera / Lil' Kim / Mya / Pink\": {\"frequency\": 292, \"value\": \"Christina Aguilera ...\"}, \"Burial\": {\"frequency\": 143, \"value\": \"Burial\"}, \"Jimmy Buffett\": {\"frequency\": 115, \"value\": \"Jimmy Buffett\"}, \"Matisyahu\": {\"frequency\": 256, \"value\": \"Matisyahu\"}, \"Aphex Twin\": {\"frequency\": 153, \"value\": \"Aphex Twin\"}, \"Sugar Pie DeSanto\": {\"frequency\": 166, \"value\": \"Sugar Pie DeSanto\"}, \"As I Lay Dying\": {\"frequency\": 258, \"value\": \"As I Lay Dying\"}, \"Crystal Castles\": {\"frequency\": 716, \"value\": \"Crystal Castles\"}, \"Tub Ring\": {\"frequency\": 1633, \"value\": \"Tub Ring\"}, \"Elvis Costello\": {\"frequency\": 128, \"value\": \"Elvis Costello\"}, \"Redman\": {\"frequency\": 284, \"value\": \"Redman\"}, \"Bone Thugs-N-Harmony\": {\"frequency\": 174, \"value\": \"Bone ...\"}, \"Underoath\": {\"frequency\": 223, \"value\": \"Underoath\"}, \"Penguin Caf\\ufffd\\ufffd Orchestra\": {\"frequency\": 357, \"value\": \"Penguin Caf\\u00e9 ...\"}, \"MSTRKRFT\": {\"frequency\": 484, \"value\": \"MSTRKRFT\"}, \"Ween\": {\"frequency\": 329, \"value\": \"Ween\"}, \"John Fogerty\": {\"frequency\": 128, \"value\": \"John Fogerty\"}, \"Fear Factory\": {\"frequency\": 176, \"value\": \"Fear Factory\"}, \"Clara Hill\": {\"frequency\": 168, \"value\": \"Clara Hill\"}, \"2Pac\": {\"frequency\": 177, \"value\": \"2Pac\"}, \"Pandora's Box\": {\"frequency\": 423, \"value\": \"Pandora's Box\"}, \"Chuck Berry\": {\"frequency\": 161, \"value\": \"Chuck Berry\"}, \"Mindy Smith\": {\"frequency\": 159, \"value\": \"Mindy Smith\"}, \"Dimmu Borgir\": {\"frequency\": 194, \"value\": \"Dimmu Borgir\"}, \"Glen Hansard & Marketa Irglova\": {\"frequency\": 240, \"value\": \"Glen Hansard & ...\"}, \"M.I.A.\": {\"frequency\": 808, \"value\": \"M.I.A.\"}, \"The Velvet Underground\": {\"frequency\": 461, \"value\": \"The Velvet ...\"}, \"Ben Kweller\": {\"frequency\": 134, \"value\": \"Ben Kweller\"}, \"The Lonely Island / Julian Casablancas\": {\"frequency\": 171, \"value\": \"The Lonely Island ...\"}, \"KC And The Sunshine Band\": {\"frequency\": 136, \"value\": \"KC And The ...\"}, \"Hellogoodbye\": {\"frequency\": 138, \"value\": \"Hellogoodbye\"}, \"Foghat\": {\"frequency\": 228, \"value\": \"Foghat\"}, \"California Swag District\": {\"frequency\": 1194, \"value\": \"California Swag ...\"}, \"Thursday\": {\"frequency\": 473, \"value\": \"Thursday\"}, \"The Spades\": {\"frequency\": 126, \"value\": \"The Spades\"}, \"Paolo Nutini\": {\"frequency\": 298, \"value\": \"Paolo Nutini\"}, \"Boyzone\": {\"frequency\": 147, \"value\": \"Boyzone\"}, \"Clay Walker\": {\"frequency\": 135, \"value\": \"Clay Walker\"}, \"Sheena Easton\": {\"frequency\": 1114, \"value\": \"Sheena Easton\"}, \"Carcass\": {\"frequency\": 120, \"value\": \"Carcass\"}, \"Blake Shelton\": {\"frequency\": 288, \"value\": \"Blake Shelton\"}, \"Legi\\ufffd\\ufffdo Urbana\": {\"frequency\": 166, \"value\": \"Legi\\u00e3o Urbana\"}, \"Cosmo Vitelli\": {\"frequency\": 626, \"value\": \"Cosmo Vitelli\"}, \"Armin van Buuren\": {\"frequency\": 522, \"value\": \"Armin van Buuren\"}, \"Anis\": {\"frequency\": 128, \"value\": \"Anis\"}, \"Yellowcard\": {\"frequency\": 680, \"value\": \"Yellowcard\"}, \"The Go-Go's\": {\"frequency\": 121, \"value\": \"The Go-Go's\"}, \"Lady & Bird\": {\"frequency\": 115, \"value\": \"Lady & Bird\"}, \"Tiziano Ferro\": {\"frequency\": 281, \"value\": \"Tiziano Ferro\"}, \"Queens Of The Stone Age\": {\"frequency\": 699, \"value\": \"Queens Of The ...\"}, \"So Many Dynamos\": {\"frequency\": 145, \"value\": \"So Many Dynamos\"}, \"Jeremih\": {\"frequency\": 376, \"value\": \"Jeremih\"}, \"Dave Grusin\": {\"frequency\": 127, \"value\": \"Dave Grusin\"}, \"Audioslave\": {\"frequency\": 590, \"value\": \"Audioslave\"}, \"Mazzy Star\": {\"frequency\": 156, \"value\": \"Mazzy Star\"}, \"Coheed and Cambria\": {\"frequency\": 263, \"value\": \"Coheed and Cambria\"}, \"Ozzy Osbourne\": {\"frequency\": 425, \"value\": \"Ozzy Osbourne\"}, \"Ennio Morricone\": {\"frequency\": 264, \"value\": \"Ennio Morricone\"}, \"Gipsy Kings\": {\"frequency\": 336, \"value\": \"Gipsy Kings\"}, \"Commodores\": {\"frequency\": 163, \"value\": \"Commodores\"}, \"John Frusciante\": {\"frequency\": 243, \"value\": \"John Frusciante\"}, \"Cocteau Twins\": {\"frequency\": 139, \"value\": \"Cocteau Twins\"}, \"Brett Dennen\": {\"frequency\": 181, \"value\": \"Brett Dennen\"}, \"Jonathan Coulton\": {\"frequency\": 229, \"value\": \"Jonathan Coulton\"}, \"Porcupine Tree\": {\"frequency\": 392, \"value\": \"Porcupine Tree\"}, \"Frankie Valli\": {\"frequency\": 113, \"value\": \"Frankie Valli\"}, \"Joyce Cooling\": {\"frequency\": 161, \"value\": \"Joyce Cooling\"}, \"Warren Zevon\": {\"frequency\": 212, \"value\": \"Warren Zevon\"}, \"+44\": {\"frequency\": 130, \"value\": \"+44\"}, \"Platero Y Tu\": {\"frequency\": 182, \"value\": \"Platero Y Tu\"}, \"The Verve\": {\"frequency\": 1292, \"value\": \"The Verve\"}, \"Mike Jones\": {\"frequency\": 148, \"value\": \"Mike Jones\"}, \"Puff Daddy\": {\"frequency\": 428, \"value\": \"Puff Daddy\"}, \"Clannad\": {\"frequency\": 195, \"value\": \"Clannad\"}, \"D'Angelo\": {\"frequency\": 170, \"value\": \"D'Angelo\"}, \"Metallica / Marianne Faithfull\": {\"frequency\": 328, \"value\": \"Metallica / ...\"}, \"O'Rosko Raricim\": {\"frequency\": 597, \"value\": \"O'Rosko Raricim\"}, \"Laura Pausini\": {\"frequency\": 185, \"value\": \"Laura Pausini\"}, \"Christophe Ma\\ufffd\\ufffd\": {\"frequency\": 114, \"value\": \"Christophe Ma\\u00e9\"}, \"Beyonc\\ufffd\\ufffd\": {\"frequency\": 2974, \"value\": \"Beyonc\\u00e9\"}, \"Mecano\": {\"frequency\": 118, \"value\": \"Mecano\"}, \"Matt Wertz\": {\"frequency\": 204, \"value\": \"Matt Wertz\"}, \"Gogol Bordello\": {\"frequency\": 194, \"value\": \"Gogol Bordello\"}, \"Tevin Campbell\": {\"frequency\": 121, \"value\": \"Tevin Campbell\"}, \"Aimee Mann\": {\"frequency\": 192, \"value\": \"Aimee Mann\"}, \"Talking Heads\": {\"frequency\": 368, \"value\": \"Talking Heads\"}, \"Subhumans\": {\"frequency\": 328, \"value\": \"Subhumans\"}, \"Carolina Liar\": {\"frequency\": 151, \"value\": \"Carolina Liar\"}, \"Thrice\": {\"frequency\": 342, \"value\": \"Thrice\"}, \"AFI\": {\"frequency\": 529, \"value\": \"AFI\"}, \"Fugees\": {\"frequency\": 212, \"value\": \"Fugees\"}, \"Derek Webb\": {\"frequency\": 115, \"value\": \"Derek Webb\"}, \"Fergie / Will.I.Am\": {\"frequency\": 202, \"value\": \"Fergie / Will.I.Am\"}, \"Yeah Yeah Yeahs\": {\"frequency\": 1009, \"value\": \"Yeah Yeah Yeahs\"}, \"Descendents\": {\"frequency\": 242, \"value\": \"Descendents\"}, \"Golden Earring\": {\"frequency\": 131, \"value\": \"Golden Earring\"}, \"Enigma\": {\"frequency\": 650, \"value\": \"Enigma\"}, \"Limp Bizkit\": {\"frequency\": 496, \"value\": \"Limp Bizkit\"}, \"Prince & The Revolution\": {\"frequency\": 484, \"value\": \"Prince & The ...\"}, \"ZZ Top\": {\"frequency\": 393, \"value\": \"ZZ Top\"}, \"Despina Vandi\": {\"frequency\": 144, \"value\": \"Despina Vandi\"}, \"Bo Diddley\": {\"frequency\": 147, \"value\": \"Bo Diddley\"}, \"Rush\": {\"frequency\": 332, \"value\": \"Rush\"}, \"Nonpalidece\": {\"frequency\": 134, \"value\": \"Nonpalidece\"}, \"The Appleseed Cast\": {\"frequency\": 159, \"value\": \"The Appleseed Cast\"}, \"The Turtles\": {\"frequency\": 209, \"value\": \"The Turtles\"}, \"Sick Puppies\": {\"frequency\": 579, \"value\": \"Sick Puppies\"}, \"Weezer\": {\"frequency\": 1726, \"value\": \"Weezer\"}, \"Beneath the Massacre\": {\"frequency\": 125, \"value\": \"Beneath the ...\"}, \"Pulp\": {\"frequency\": 290, \"value\": \"Pulp\"}, \"Jonny Lang\": {\"frequency\": 222, \"value\": \"Jonny Lang\"}, \"Thievery Corporation\": {\"frequency\": 535, \"value\": \"Thievery ...\"}, \"Kim Carnes\": {\"frequency\": 139, \"value\": \"Kim Carnes\"}, \"Goldfinger\": {\"frequency\": 119, \"value\": \"Goldfinger\"}, \"The Red Jumpsuit Apparatus\": {\"frequency\": 609, \"value\": \"The Red Jumpsuit ...\"}, \"tobyMac\": {\"frequency\": 278, \"value\": \"tobyMac\"}, \"Asian Dub Foundation\": {\"frequency\": 193, \"value\": \"Asian Dub ...\"}, \"Holy Fuck\": {\"frequency\": 1013, \"value\": \"Holy Fuck\"}, \"Papa Roach\": {\"frequency\": 151, \"value\": \"Papa Roach\"}, \"Johnny Winter\": {\"frequency\": 625, \"value\": \"Johnny Winter\"}, \"Cat Stevens\": {\"frequency\": 1456, \"value\": \"Cat Stevens\"}, \"Europe\": {\"frequency\": 230, \"value\": \"Europe\"}, \"The Kooks\": {\"frequency\": 825, \"value\": \"The Kooks\"}, \"Dexys Midnight Runners\": {\"frequency\": 188, \"value\": \"Dexys Midnight ...\"}, \"The Yardbirds\": {\"frequency\": 210, \"value\": \"The Yardbirds\"}, \"Beyonc\\ufffd\\ufffd feat. Jay-Z\": {\"frequency\": 363, \"value\": \"Beyonc\\u00e9 feat. ...\"}, \"Miranda!\": {\"frequency\": 185, \"value\": \"Miranda!\"}, \"Alison Krauss\": {\"frequency\": 374, \"value\": \"Alison Krauss\"}, \"Junkie XL\": {\"frequency\": 155, \"value\": \"Junkie XL\"}, \"Of Montreal\": {\"frequency\": 138, \"value\": \"Of Montreal\"}, \"Timbaland & Magoo\": {\"frequency\": 156, \"value\": \"Timbaland & Magoo\"}, \"Hot Chip\": {\"frequency\": 974, \"value\": \"Hot Chip\"}, \"Shania Twain\": {\"frequency\": 751, \"value\": \"Shania Twain\"}, \"The Smiths\": {\"frequency\": 949, \"value\": \"The Smiths\"}, \"Tom Petty And The Heartbreakers\": {\"frequency\": 810, \"value\": \"Tom Petty And The ...\"}, \"Marvin Gaye\": {\"frequency\": 325, \"value\": \"Marvin Gaye\"}, \"The Doobie Brothers\": {\"frequency\": 270, \"value\": \"The Doobie ...\"}, \"The Grass Roots\": {\"frequency\": 238, \"value\": \"The Grass Roots\"}, \"Erin Bode\": {\"frequency\": 269, \"value\": \"Erin Bode\"}, \"Tim Hughes\": {\"frequency\": 172, \"value\": \"Tim Hughes\"}, \"Bad Company\": {\"frequency\": 434, \"value\": \"Bad Company\"}, \"Metric\": {\"frequency\": 1338, \"value\": \"Metric\"}, \"Michael Bubl\\ufffd\\ufffd (With Nelly Furtado)\": {\"frequency\": 152, \"value\": \"Michael Bubl\\u00e9 ...\"}, \"Usher Featuring The Nu Beginning\": {\"frequency\": 128, \"value\": \"Usher Featuring ...\"}, \"Smash Mouth\": {\"frequency\": 574, \"value\": \"Smash Mouth\"}, \"Coldplay\": {\"frequency\": 7036, \"value\": \"Coldplay\"}, \"Jackson Browne\": {\"frequency\": 266, \"value\": \"Jackson Browne\"}, \"Bonnie Tyler\": {\"frequency\": 130, \"value\": \"Bonnie Tyler\"}, \"Emiliana Torrini\": {\"frequency\": 155, \"value\": \"Emiliana Torrini\"}, \"Black Eyed Peas\": {\"frequency\": 3600, \"value\": \"Black Eyed Peas\"}, \"Keith Sweat\": {\"frequency\": 372, \"value\": \"Keith Sweat\"}, \"Peter Bjorn And John\": {\"frequency\": 127, \"value\": \"Peter Bjorn And ...\"}, \"Max Richter\": {\"frequency\": 355, \"value\": \"Max Richter\"}, \"Madcon\": {\"frequency\": 146, \"value\": \"Madcon\"}, \"Aaliyah\": {\"frequency\": 379, \"value\": \"Aaliyah\"}, \"Lauryn Hill\": {\"frequency\": 326, \"value\": \"Lauryn Hill\"}, \"D-12\": {\"frequency\": 618, \"value\": \"D-12\"}, \"Television\": {\"frequency\": 125, \"value\": \"Television\"}, \"No Te Va Gustar\": {\"frequency\": 352, \"value\": \"No Te Va Gustar\"}, \"Elliott Smith\": {\"frequency\": 646, \"value\": \"Elliott Smith\"}, \"Fat Joe\": {\"frequency\": 274, \"value\": \"Fat Joe\"}, \"The Fratellis\": {\"frequency\": 255, \"value\": \"The Fratellis\"}, \"Alesana\": {\"frequency\": 246, \"value\": \"Alesana\"}, \"Little River Band\": {\"frequency\": 150, \"value\": \"Little River Band\"}, \"PJ Harvey\": {\"frequency\": 275, \"value\": \"PJ Harvey\"}, \"Seal\": {\"frequency\": 203, \"value\": \"Seal\"}, \"Natalie Imbruglia\": {\"frequency\": 257, \"value\": \"Natalie Imbruglia\"}, \"Sage Francis\": {\"frequency\": 141, \"value\": \"Sage Francis\"}, \"Wang Chung\": {\"frequency\": 115, \"value\": \"Wang Chung\"}, \"Michael Bubl\\ufffd\\ufffd\": {\"frequency\": 1548, \"value\": \"Michael Bubl\\u00e9\"}, \"Killswitch Engage\": {\"frequency\": 391, \"value\": \"Killswitch Engage\"}, \"Okkervil River\": {\"frequency\": 177, \"value\": \"Okkervil River\"}, \"Jason Mraz\": {\"frequency\": 1158, \"value\": \"Jason Mraz\"}, \"Diam's\": {\"frequency\": 362, \"value\": \"Diam's\"}, \"Kate Ryan\": {\"frequency\": 167, \"value\": \"Kate Ryan\"}, \"FM Static\": {\"frequency\": 160, \"value\": \"FM Static\"}, \"Enya\": {\"frequency\": 1025, \"value\": \"Enya\"}, \"STEVE CAMP\": {\"frequency\": 201, \"value\": \"STEVE CAMP\"}, \"Josh Groban\": {\"frequency\": 407, \"value\": \"Josh Groban\"}, \"Talk Talk\": {\"frequency\": 175, \"value\": \"Talk Talk\"}, \"The Libertines\": {\"frequency\": 227, \"value\": \"The Libertines\"}, \"The Archies\": {\"frequency\": 140, \"value\": \"The Archies\"}, \"Breaking Benjamin\": {\"frequency\": 332, \"value\": \"Breaking Benjamin\"}, \"Lipps Inc.\": {\"frequency\": 193, \"value\": \"Lipps Inc.\"}, \"Modern Lovers\": {\"frequency\": 191, \"value\": \"Modern Lovers\"}, \"Savatage\": {\"frequency\": 126, \"value\": \"Savatage\"}, \"Cracker\": {\"frequency\": 185, \"value\": \"Cracker\"}, \"Dixie Chicks\": {\"frequency\": 246, \"value\": \"Dixie Chicks\"}, \"The Black Keys\": {\"frequency\": 2798, \"value\": \"The Black Keys\"}, \"HAMMERFALL\": {\"frequency\": 295, \"value\": \"HAMMERFALL\"}, \"Jos\\ufffd\\ufffd Gonz\\ufffd\\ufffdlez\": {\"frequency\": 362, \"value\": \"Jos\\u00e9 Gonz\\u00e1lez\"}, \"Philmont\": {\"frequency\": 116, \"value\": \"Philmont\"}, \"Delerium feat. Sarah McLachlan\": {\"frequency\": 247, \"value\": \"Delerium feat. ...\"}, \"Danny Elfman\": {\"frequency\": 180, \"value\": \"Danny Elfman\"}, \"Skid Row\": {\"frequency\": 177, \"value\": \"Skid Row\"}, \"Gin Blossoms\": {\"frequency\": 212, \"value\": \"Gin Blossoms\"}, \"Iron Maiden\": {\"frequency\": 954, \"value\": \"Iron Maiden\"}, \"Alejandro Fernandez\": {\"frequency\": 213, \"value\": \"Alejandro ...\"}, \"Parachute\": {\"frequency\": 201, \"value\": \"Parachute\"}, \"Fito Paez\": {\"frequency\": 310, \"value\": \"Fito Paez\"}, \"Silverstein\": {\"frequency\": 187, \"value\": \"Silverstein\"}, \"Easton Corbin\": {\"frequency\": 300, \"value\": \"Easton Corbin\"}, \"Melody Club\": {\"frequency\": 161, \"value\": \"Melody Club\"}, \"The Lonely Island / Justin Timberlake\": {\"frequency\": 161, \"value\": \"The Lonely Island ...\"}, \"Sara Bareilles\": {\"frequency\": 574, \"value\": \"Sara Bareilles\"}, \"10 Years\": {\"frequency\": 125, \"value\": \"10 Years\"}, \"Joan Baez\": {\"frequency\": 145, \"value\": \"Joan Baez\"}, \"The White Stripes\": {\"frequency\": 1460, \"value\": \"The White Stripes\"}, \"The Northern Pikes\": {\"frequency\": 157, \"value\": \"The Northern Pikes\"}, \"Anberlin\": {\"frequency\": 430, \"value\": \"Anberlin\"}, \"Thomas Newman\": {\"frequency\": 139, \"value\": \"Thomas Newman\"}, \"Phosphorescent\": {\"frequency\": 143, \"value\": \"Phosphorescent\"}, \"Matt Costa\": {\"frequency\": 193, \"value\": \"Matt Costa\"}, \"Nelly\": {\"frequency\": 279, \"value\": \"Nelly\"}, \"Blonde Redhead\": {\"frequency\": 115, \"value\": \"Blonde Redhead\"}, \"SOJA\": {\"frequency\": 222, \"value\": \"SOJA\"}, \"Groove Armada\": {\"frequency\": 196, \"value\": \"Groove Armada\"}, \"Ellie Goulding\": {\"frequency\": 352, \"value\": \"Ellie Goulding\"}, \"Binary Star\": {\"frequency\": 364, \"value\": \"Binary Star\"}, \"Mountain Goats\": {\"frequency\": 126, \"value\": \"Mountain Goats\"}, \"Bruce Dickinson\": {\"frequency\": 217, \"value\": \"Bruce Dickinson\"}, \"Two Gallants\": {\"frequency\": 125, \"value\": \"Two Gallants\"}, \"Boston\": {\"frequency\": 652, \"value\": \"Boston\"}, \"R.E.M.\": {\"frequency\": 355, \"value\": \"R.E.M.\"}, \"Iyaz\": {\"frequency\": 497, \"value\": \"Iyaz\"}, \"Stone Temple Pilots\": {\"frequency\": 710, \"value\": \"Stone Temple ...\"}, \"O.A.R.\": {\"frequency\": 217, \"value\": \"O.A.R.\"}, \"David Gray\": {\"frequency\": 321, \"value\": \"David Gray\"}, \"Renegade Soundwave\": {\"frequency\": 126, \"value\": \"Renegade Soundwave\"}, \"Toni Braxton\": {\"frequency\": 135, \"value\": \"Toni Braxton\"}, \"The Killers\": {\"frequency\": 3749, \"value\": \"The Killers\"}, \"Scissor Sisters\": {\"frequency\": 283, \"value\": \"Scissor Sisters\"}, \"Bryan Ferry\": {\"frequency\": 222, \"value\": \"Bryan Ferry\"}, \"Genesis\": {\"frequency\": 332, \"value\": \"Genesis\"}, \"Esperanza Spalding / Leo Genovese\": {\"frequency\": 146, \"value\": \"Esperanza Spalding ...\"}, \"Ruben Blades\": {\"frequency\": 180, \"value\": \"Ruben Blades\"}, \"Minnie Riperton\": {\"frequency\": 178, \"value\": \"Minnie Riperton\"}, \"The Pussycat Dolls / Busta Rhymes\": {\"frequency\": 270, \"value\": \"The Pussycat Dolls ...\"}, \"Bubba Sparxxx\": {\"frequency\": 168, \"value\": \"Bubba Sparxxx\"}, \"Craig David\": {\"frequency\": 392, \"value\": \"Craig David\"}, \"Alphabeat\": {\"frequency\": 124, \"value\": \"Alphabeat\"}, \"Britt Nicole\": {\"frequency\": 266, \"value\": \"Britt Nicole\"}, \"Molotov\": {\"frequency\": 322, \"value\": \"Molotov\"}, \"ENUR Feat NATASJA\": {\"frequency\": 180, \"value\": \"ENUR Feat NATASJA\"}, \"Rancid\": {\"frequency\": 293, \"value\": \"Rancid\"}, \"Slayer\": {\"frequency\": 352, \"value\": \"Slayer\"}, \"Kanye West / Mos Def / Freeway / The Boys Choir Of Harlem\": {\"frequency\": 123, \"value\": \"Kanye West / Mos ...\"}, \"Alceu Valen\\ufffd\\ufffda\": {\"frequency\": 438, \"value\": \"Alceu Valen\\u00e7a\"}, \"Nevermore\": {\"frequency\": 592, \"value\": \"Nevermore\"}, \"Iron Butterfly\": {\"frequency\": 146, \"value\": \"Iron Butterfly\"}, \"Jason Collett\": {\"frequency\": 112, \"value\": \"Jason Collett\"}, \"dEUS\": {\"frequency\": 157, \"value\": \"dEUS\"}, \"Hot Chocolate\": {\"frequency\": 155, \"value\": \"Hot Chocolate\"}, \"Story Of The Year\": {\"frequency\": 182, \"value\": \"Story Of The Year\"}, \"Counting Crows / Vanessa Carlton\": {\"frequency\": 134, \"value\": \"Counting Crows / ...\"}, \"Klaus Badelt\": {\"frequency\": 283, \"value\": \"Klaus Badelt\"}, \"Diana Krall\": {\"frequency\": 229, \"value\": \"Diana Krall\"}, \"Crazy Town\": {\"frequency\": 159, \"value\": \"Crazy Town\"}, \"The Animals\": {\"frequency\": 419, \"value\": \"The Animals\"}, \"Rihanna / Slash\": {\"frequency\": 291, \"value\": \"Rihanna / Slash\"}, \"Elisa\": {\"frequency\": 129, \"value\": \"Elisa\"}, \"Boys Noize\": {\"frequency\": 832, \"value\": \"Boys Noize\"}, \"The Cinematic Orchestra\": {\"frequency\": 163, \"value\": \"The Cinematic ...\"}, \"Naughty By Nature\": {\"frequency\": 113, \"value\": \"Naughty By Nature\"}, \"Kaoma\": {\"frequency\": 159, \"value\": \"Kaoma\"}, \"Stevie Nicks\": {\"frequency\": 191, \"value\": \"Stevie Nicks\"}, \"The Human League\": {\"frequency\": 370, \"value\": \"The Human League\"}, \"Lily Allen\": {\"frequency\": 1894, \"value\": \"Lily Allen\"}, \"Bag Raiders\": {\"frequency\": 127, \"value\": \"Bag Raiders\"}, \"Rihanna / will.i.am\": {\"frequency\": 129, \"value\": \"Rihanna / ...\"}, \"Bloodhound Gang\": {\"frequency\": 603, \"value\": \"Bloodhound Gang\"}, \"Parov Stelar\": {\"frequency\": 179, \"value\": \"Parov Stelar\"}, \"Kix\": {\"frequency\": 250, \"value\": \"Kix\"}, \"We Are Scientists\": {\"frequency\": 187, \"value\": \"We Are Scientists\"}, \"Miami Horror\": {\"frequency\": 127, \"value\": \"Miami Horror\"}, \"Yo La Tengo\": {\"frequency\": 185, \"value\": \"Yo La Tengo\"}, \"R\\ufffd\\ufffdyksopp\": {\"frequency\": 746, \"value\": \"R\\u00f6yksopp\"}, \"Carlos Baute\": {\"frequency\": 215, \"value\": \"Carlos Baute\"}, \"Switchblade Symphony\": {\"frequency\": 459, \"value\": \"Switchblade ...\"}, \"Pink Martini\": {\"frequency\": 124, \"value\": \"Pink Martini\"}, \"Mark Knopfler\": {\"frequency\": 170, \"value\": \"Mark Knopfler\"}, \"Young Jeezy\": {\"frequency\": 300, \"value\": \"Young Jeezy\"}, \"Common\": {\"frequency\": 350, \"value\": \"Common\"}, \"BT\": {\"frequency\": 114, \"value\": \"BT\"}, \"Don Omar\": {\"frequency\": 429, \"value\": \"Don Omar\"}, \"The Creation\": {\"frequency\": 114, \"value\": \"The Creation\"}, \"Eric Clapton\": {\"frequency\": 778, \"value\": \"Eric Clapton\"}, \"Todd Barry\": {\"frequency\": 827, \"value\": \"Todd Barry\"}, \"Skillet\": {\"frequency\": 1191, \"value\": \"Skillet\"}, \"Edwyn Collins\": {\"frequency\": 513, \"value\": \"Edwyn Collins\"}, \"A Day To Remember\": {\"frequency\": 1128, \"value\": \"A Day To Remember\"}, \"Guus Meeuwis\": {\"frequency\": 122, \"value\": \"Guus Meeuwis\"}, \"Bon Jovi\": {\"frequency\": 2561, \"value\": \"Bon Jovi\"}, \"Milczenie Owiec\": {\"frequency\": 351, \"value\": \"Milczenie Owiec\"}, \"Gang Starr/Inspectah Deck\": {\"frequency\": 218, \"value\": \"Gang ...\"}, \"Lindisfarne\": {\"frequency\": 208, \"value\": \"Lindisfarne\"}, \"Radney Foster\": {\"frequency\": 730, \"value\": \"Radney Foster\"}, \"Fiona Apple\": {\"frequency\": 135, \"value\": \"Fiona Apple\"}, \"Ke$ha\": {\"frequency\": 437, \"value\": \"Ke$ha\"}, \"Ben Folds\": {\"frequency\": 362, \"value\": \"Ben Folds\"}, \"Blink-182\": {\"frequency\": 1075, \"value\": \"Blink-182\"}, \"Kid Cudi / Kanye West / Common\": {\"frequency\": 540, \"value\": \"Kid Cudi / Kanye ...\"}, \"Creedence Clearwater Revival\": {\"frequency\": 2437, \"value\": \"Creedence ...\"}, \"Dr. Dre / Snoop Dogg\": {\"frequency\": 246, \"value\": \"Dr. Dre / Snoop ...\"}, \"Benga\": {\"frequency\": 118, \"value\": \"Benga\"}, \"The Smithereens\": {\"frequency\": 166, \"value\": \"The Smithereens\"}, \"Plain White T S\": {\"frequency\": 157, \"value\": \"Plain White T S\"}, \"Fall Out Boy\": {\"frequency\": 1108, \"value\": \"Fall Out Boy\"}, \"OutKast\": {\"frequency\": 766, \"value\": \"OutKast\"}, \"Yung Joc\": {\"frequency\": 302, \"value\": \"Yung Joc\"}, \"Anouk\": {\"frequency\": 203, \"value\": \"Anouk\"}, \"The Weepies\": {\"frequency\": 316, \"value\": \"The Weepies\"}, \"Camper Van Beethoven\": {\"frequency\": 194, \"value\": \"Camper Van ...\"}, \"Crystal\": {\"frequency\": 217, \"value\": \"Crystal\"}, \"The Strokes\": {\"frequency\": 898, \"value\": \"The Strokes\"}, \"Stevie Ray Vaughan And Double Trouble\": {\"frequency\": 193, \"value\": \"Stevie Ray Vaughan ...\"}, \"Mediengruppe Telekommander\": {\"frequency\": 127, \"value\": \"Mediengruppe ...\"}, \"Olivier Darock\": {\"frequency\": 130, \"value\": \"Olivier Darock\"}, \"Harmonia\": {\"frequency\": 5046, \"value\": \"Harmonia\"}, \"Juan Carlos Baglietto\": {\"frequency\": 145, \"value\": \"Juan Carlos ...\"}, \"Tarot\": {\"frequency\": 164, \"value\": \"Tarot\"}, \"Hootie And The Blowfish\": {\"frequency\": 233, \"value\": \"Hootie And The ...\"}, \"Radiohead\": {\"frequency\": 3410, \"value\": \"Radiohead\"}, \"Tom Petty\": {\"frequency\": 434, \"value\": \"Tom Petty\"}, \"Andrew Gold\": {\"frequency\": 118, \"value\": \"Andrew Gold\"}, \"Morcheeba\": {\"frequency\": 509, \"value\": \"Morcheeba\"}, \"Katy Perry\": {\"frequency\": 1826, \"value\": \"Katy Perry\"}, \"311\": {\"frequency\": 486, \"value\": \"311\"}, \"Guru Josh Project\": {\"frequency\": 165, \"value\": \"Guru Josh Project\"}, \"The Lonely Island / Natalie Portman / Chris Parnell\": {\"frequency\": 126, \"value\": \"The Lonely Island ...\"}, \"Asking Alexandria\": {\"frequency\": 320, \"value\": \"Asking Alexandria\"}, \"Chris Brown featuring T-Pain\": {\"frequency\": 123, \"value\": \"Chris Brown ...\"}, \"Coko featuring Kirk Franklin\": {\"frequency\": 258, \"value\": \"Coko featuring ...\"}, \"Secondhand Serenade\": {\"frequency\": 233, \"value\": \"Secondhand ...\"}, \"Liz Callaway\": {\"frequency\": 113, \"value\": \"Liz Callaway\"}, \"Soul II Soul\": {\"frequency\": 255, \"value\": \"Soul II Soul\"}, \"The Kingston Trio\": {\"frequency\": 115, \"value\": \"The Kingston Trio\"}, \"Guns N' Roses\": {\"frequency\": 2624, \"value\": \"Guns N' Roses\"}, \"Nick Cave & The Bad Seeds\": {\"frequency\": 559, \"value\": \"Nick Cave & The ...\"}, \"R.I.O.\": {\"frequency\": 133, \"value\": \"R.I.O.\"}, \"Ladytron\": {\"frequency\": 158, \"value\": \"Ladytron\"}, \"Feist\": {\"frequency\": 664, \"value\": \"Feist\"}, \"M\\ufffd\\ufffdtley Cr\\ufffd\\ufffde\": {\"frequency\": 485, \"value\": \"M\\u00f6tley Cr\\u00fce\"}, \"Michael Cretu\": {\"frequency\": 317, \"value\": \"Michael Cretu\"}, \"Jimmy Eat World\": {\"frequency\": 1058, \"value\": \"Jimmy Eat World\"}, \"The Knife\": {\"frequency\": 498, \"value\": \"The Knife\"}, \"Cosmic Gate\": {\"frequency\": 176, \"value\": \"Cosmic Gate\"}, \"Telex\": {\"frequency\": 147, \"value\": \"Telex\"}, \"Mogwai\": {\"frequency\": 340, \"value\": \"Mogwai\"}, \"Brian McKnight\": {\"frequency\": 232, \"value\": \"Brian McKnight\"}, \"Explosions In The Sky\": {\"frequency\": 424, \"value\": \"Explosions In The ...\"}, \"R. Kelly\": {\"frequency\": 201, \"value\": \"R. Kelly\"}, \"Flobots\": {\"frequency\": 426, \"value\": \"Flobots\"}, \"The Format\": {\"frequency\": 143, \"value\": \"The Format\"}, \"Jason Derulo\": {\"frequency\": 1062, \"value\": \"Jason Derulo\"}, \"Morrissey\": {\"frequency\": 176, \"value\": \"Morrissey\"}, \"Petey Pablo\": {\"frequency\": 118, \"value\": \"Petey Pablo\"}, \"Something Corporate\": {\"frequency\": 235, \"value\": \"Something ...\"}, \"Yes\": {\"frequency\": 145, \"value\": \"Yes\"}, \"Kraftwerk\": {\"frequency\": 203, \"value\": \"Kraftwerk\"}, \"Neil Young\": {\"frequency\": 520, \"value\": \"Neil Young\"}, \"David Guetta - Joachim Garraud - Chris Willis\": {\"frequency\": 168, \"value\": \"David Guetta - ...\"}, \"Rilo Kiley\": {\"frequency\": 743, \"value\": \"Rilo Kiley\"}, \"Bohren & Der Club Of Gore\": {\"frequency\": 421, \"value\": \"Bohren & Der Club ...\"}, \"Hombres G\": {\"frequency\": 157, \"value\": \"Hombres G\"}, \"Destiny's Child\": {\"frequency\": 316, \"value\": \"Destiny's Child\"}, \"Third Eye Blind\": {\"frequency\": 674, \"value\": \"Third Eye Blind\"}, \"LL Cool J\": {\"frequency\": 247, \"value\": \"LL Cool J\"}, \"Billy Currington\": {\"frequency\": 416, \"value\": \"Billy Currington\"}, \"War\": {\"frequency\": 198, \"value\": \"War\"}, \"Erasure\": {\"frequency\": 315, \"value\": \"Erasure\"}, \"Percy Sledge\": {\"frequency\": 122, \"value\": \"Percy Sledge\"}, \"Chicago\": {\"frequency\": 173, \"value\": \"Chicago\"}, \"Train\": {\"frequency\": 5182, \"value\": \"Train\"}, \"Mayday Parade\": {\"frequency\": 644, \"value\": \"Mayday Parade\"}, \"Blackalicious\": {\"frequency\": 284, \"value\": \"Blackalicious\"}, \"REO Speedwagon\": {\"frequency\": 167, \"value\": \"REO Speedwagon\"}, \"Shantel\": {\"frequency\": 117, \"value\": \"Shantel\"}, \"59 Times the Pain\": {\"frequency\": 241, \"value\": \"59 Times the Pain\"}, \"Andrea Bocelli\": {\"frequency\": 208, \"value\": \"Andrea Bocelli\"}, \"The Dodos\": {\"frequency\": 143, \"value\": \"The Dodos\"}, \"Battles\": {\"frequency\": 153, \"value\": \"Battles\"}, \"Dierks Bentley\": {\"frequency\": 683, \"value\": \"Dierks Bentley\"}, \"Keri Hilson\": {\"frequency\": 134, \"value\": \"Keri Hilson\"}, \"Ricardo Arjona\": {\"frequency\": 323, \"value\": \"Ricardo Arjona\"}, \"Ben Folds Five\": {\"frequency\": 231, \"value\": \"Ben Folds Five\"}, \"Forever The Sickest Kids\": {\"frequency\": 176, \"value\": \"Forever The ...\"}, \"Rage Against The Machine\": {\"frequency\": 924, \"value\": \"Rage Against The ...\"}, \"Slightly Stoopid\": {\"frequency\": 412, \"value\": \"Slightly Stoopid\"}, \"The Whitest Boy Alive\": {\"frequency\": 227, \"value\": \"The Whitest Boy ...\"}, \"Foals\": {\"frequency\": 729, \"value\": \"Foals\"}, \"The-Dream\": {\"frequency\": 212, \"value\": \"The-Dream\"}, \"City And Colour\": {\"frequency\": 274, \"value\": \"City And Colour\"}, \"Alex Ubago\": {\"frequency\": 306, \"value\": \"Alex Ubago\"}, \"Dead Kennedys\": {\"frequency\": 239, \"value\": \"Dead Kennedys\"}, \"Niccol\\ufffd\\ufffd Fabi\": {\"frequency\": 307, \"value\": \"Niccol\\u00f2 Fabi\"}, \"The Stills\": {\"frequency\": 130, \"value\": \"The Stills\"}, \"Slash\": {\"frequency\": 172, \"value\": \"Slash\"}, \"Eagles\": {\"frequency\": 1099, \"value\": \"Eagles\"}, \"The Kills\": {\"frequency\": 1051, \"value\": \"The Kills\"}, \"Kurt Vile\": {\"frequency\": 159, \"value\": \"Kurt Vile\"}, \"Bat For Lashes\": {\"frequency\": 221, \"value\": \"Bat For Lashes\"}, \"Cliff Richard & The Shadows\": {\"frequency\": 187, \"value\": \"Cliff Richard & ...\"}, \"The Wallflowers\": {\"frequency\": 318, \"value\": \"The Wallflowers\"}, \"Thalia\": {\"frequency\": 129, \"value\": \"Thalia\"}, \"Demi Lovato\": {\"frequency\": 383, \"value\": \"Demi Lovato\"}, \"Spice Girls\": {\"frequency\": 352, \"value\": \"Spice Girls\"}, \"Two Door Cinema Club\": {\"frequency\": 712, \"value\": \"Two Door Cinema ...\"}, \"Sugar Ray\": {\"frequency\": 172, \"value\": \"Sugar Ray\"}, \"Supertramp\": {\"frequency\": 245, \"value\": \"Supertramp\"}, \"Sisqo\": {\"frequency\": 114, \"value\": \"Sisqo\"}, \"Afro Celt Sound System\": {\"frequency\": 193, \"value\": \"Afro Celt Sound ...\"}, \"Dakota Oak\": {\"frequency\": 424, \"value\": \"Dakota Oak\"}, \"Days Of The New\": {\"frequency\": 763, \"value\": \"Days Of The New\"}, \"Charlelie Couture\": {\"frequency\": 125, \"value\": \"Charlelie Couture\"}, \"Rihanna / Sean Paul\": {\"frequency\": 129, \"value\": \"Rihanna / Sean ...\"}, \"4 Strings\": {\"frequency\": 131, \"value\": \"4 Strings\"}, \"Tech N9ne\": {\"frequency\": 564, \"value\": \"Tech N9ne\"}, \"Leona Lewis\": {\"frequency\": 835, \"value\": \"Leona Lewis\"}, \"Joan Osborne\": {\"frequency\": 166, \"value\": \"Joan Osborne\"}, \"Cameo\": {\"frequency\": 466, \"value\": \"Cameo\"}, \"Eminem / Dr. Dre / 50 Cent\": {\"frequency\": 394, \"value\": \"Eminem / Dr. Dre / ...\"}, \"John Powell\": {\"frequency\": 127, \"value\": \"John Powell\"}, \"Luis Miguel\": {\"frequency\": 228, \"value\": \"Luis Miguel\"}, \"Disturbing Tha Peace / Ludacris / Mystikal / I-20\": {\"frequency\": 135, \"value\": \"Disturbing Tha ...\"}, \"Joaquin Sabina\": {\"frequency\": 183, \"value\": \"Joaquin Sabina\"}, \"John Brown's Body\": {\"frequency\": 144, \"value\": \"John Brown's Body\"}, \"Pennywise\": {\"frequency\": 141, \"value\": \"Pennywise\"}, \"Fort Minor (Featuring Styles Of Beyond)\": {\"frequency\": 119, \"value\": \"Fort Minor ...\"}, \"Steve Miller\": {\"frequency\": 166, \"value\": \"Steve Miller\"}, \"Montell Jordan\": {\"frequency\": 137, \"value\": \"Montell Jordan\"}, \"The Academy Is...\": {\"frequency\": 215, \"value\": \"The Academy Is...\"}, \"Handsome Boy Modeling School\": {\"frequency\": 138, \"value\": \"Handsome Boy ...\"}, \"Just Jack\": {\"frequency\": 151, \"value\": \"Just Jack\"}, \"Brandy\": {\"frequency\": 163, \"value\": \"Brandy\"}, \"Miguel Calo\": {\"frequency\": 182, \"value\": \"Miguel Calo\"}, \"Tommy Sands\": {\"frequency\": 126, \"value\": \"Tommy Sands\"}, \"Mot\\ufffd\\ufffdrhead\": {\"frequency\": 203, \"value\": \"Mot\\u00f6rhead\"}, \"Boys Like Girls\": {\"frequency\": 259, \"value\": \"Boys Like Girls\"}, \"Dio\": {\"frequency\": 233, \"value\": \"Dio\"}, \"Lionel Richie\": {\"frequency\": 484, \"value\": \"Lionel Richie\"}, \"Avantasia\": {\"frequency\": 148, \"value\": \"Avantasia\"}, \"Air\": {\"frequency\": 688, \"value\": \"Air\"}, \"K-OS\": {\"frequency\": 482, \"value\": \"K-OS\"}, \"Telefon Tel Aviv\": {\"frequency\": 170, \"value\": \"Telefon Tel Aviv\"}, \"Efecto Mariposa\": {\"frequency\": 185, \"value\": \"Efecto Mariposa\"}, \"Franz Ferdinand\": {\"frequency\": 796, \"value\": \"Franz Ferdinand\"}, \"Pendulum\": {\"frequency\": 439, \"value\": \"Pendulum\"}, \"Jim Sturgess\": {\"frequency\": 273, \"value\": \"Jim Sturgess\"}, \"Social Distortion\": {\"frequency\": 116, \"value\": \"Social Distortion\"}, \"James Morrison\": {\"frequency\": 144, \"value\": \"James Morrison\"}, \"Daft Punk\": {\"frequency\": 3364, \"value\": \"Daft Punk\"}, \"Sunlounger\": {\"frequency\": 121, \"value\": \"Sunlounger\"}, \"Flying Lotus\": {\"frequency\": 721, \"value\": \"Flying Lotus\"}, \"Built To Spill\": {\"frequency\": 134, \"value\": \"Built To Spill\"}, \"Dashboard Confessional\": {\"frequency\": 348, \"value\": \"Dashboard ...\"}, \"Lil Scrappy\": {\"frequency\": 565, \"value\": \"Lil Scrappy\"}, \"Skream\": {\"frequency\": 511, \"value\": \"Skream\"}, \"The Beastie Boys\": {\"frequency\": 124, \"value\": \"The Beastie Boys\"}, \"We The Kings\": {\"frequency\": 375, \"value\": \"We The Kings\"}, \"Cobra Starship\": {\"frequency\": 131, \"value\": \"Cobra Starship\"}, \"Erin McKeown\": {\"frequency\": 586, \"value\": \"Erin McKeown\"}, \"Shakira Featuring Wyclef Jean\": {\"frequency\": 608, \"value\": \"Shakira Featuring ...\"}, \"Duncan Dhu\": {\"frequency\": 267, \"value\": \"Duncan Dhu\"}, \"Sea Wolf\": {\"frequency\": 157, \"value\": \"Sea Wolf\"}, \"OneRepublic\": {\"frequency\": 4858, \"value\": \"OneRepublic\"}, \"Grand Funk Railroad\": {\"frequency\": 147, \"value\": \"Grand Funk ...\"}, \"Led Zeppelin\": {\"frequency\": 329, \"value\": \"Led Zeppelin\"}, \"Guildo Horn\": {\"frequency\": 151, \"value\": \"Guildo Horn\"}, \"Cascada\": {\"frequency\": 185, \"value\": \"Cascada\"}, \"Placebo\": {\"frequency\": 444, \"value\": \"Placebo\"}, \"Tenacious D\": {\"frequency\": 165, \"value\": \"Tenacious D\"}, \"Thin Lizzy\": {\"frequency\": 269, \"value\": \"Thin Lizzy\"}, \"Fort Minor [Featuring Holly Brook And Jonah Matranga]\": {\"frequency\": 139, \"value\": \"Fort Minor ...\"}, \"Timbaland / Justin Timberlake / Nelly Furtado\": {\"frequency\": 182, \"value\": \"Timbaland / Justin ...\"}, \"Biffy Clyro\": {\"frequency\": 353, \"value\": \"Biffy Clyro\"}, \"Tony Rice\": {\"frequency\": 123, \"value\": \"Tony Rice\"}, \"Whitesnake\": {\"frequency\": 132, \"value\": \"Whitesnake\"}, \"Grizzly Bear\": {\"frequency\": 258, \"value\": \"Grizzly Bear\"}, \"Louis Smith\": {\"frequency\": 158, \"value\": \"Louis Smith\"}, \"Girl Talk\": {\"frequency\": 351, \"value\": \"Girl Talk\"}, \"Jodeci\": {\"frequency\": 116, \"value\": \"Jodeci\"}, \"Depeche Mode\": {\"frequency\": 703, \"value\": \"Depeche Mode\"}, \"Spineshank\": {\"frequency\": 219, \"value\": \"Spineshank\"}, \"Rob Zombie\": {\"frequency\": 488, \"value\": \"Rob Zombie\"}, \"Tracy Chapman\": {\"frequency\": 354, \"value\": \"Tracy Chapman\"}, \"Faith Hill And Tim McGraw\": {\"frequency\": 143, \"value\": \"Faith Hill And Tim ...\"}, \"Belanova\": {\"frequency\": 150, \"value\": \"Belanova\"}, \"Daniel Powter\": {\"frequency\": 123, \"value\": \"Daniel Powter\"}, \"Passion Pit\": {\"frequency\": 866, \"value\": \"Passion Pit\"}, \"Jane's Addiction\": {\"frequency\": 506, \"value\": \"Jane's Addiction\"}, \"Looptroop\": {\"frequency\": 148, \"value\": \"Looptroop\"}, \"Travis Tritt\": {\"frequency\": 332, \"value\": \"Travis Tritt\"}, \"Lisa Loeb & Nine Stories\": {\"frequency\": 187, \"value\": \"Lisa Loeb & Nine ...\"}, \"London After Midnight\": {\"frequency\": 317, \"value\": \"London After ...\"}, \"Lindsay Lohan\": {\"frequency\": 188, \"value\": \"Lindsay Lohan\"}, \"the bird and the bee\": {\"frequency\": 1044, \"value\": \"the bird and the ...\"}, \"Lucas Masciano\": {\"frequency\": 132, \"value\": \"Lucas Masciano\"}, \"Faith No More\": {\"frequency\": 973, \"value\": \"Faith No More\"}, \"Misfits\": {\"frequency\": 136, \"value\": \"Misfits\"}, \"Filter\": {\"frequency\": 161, \"value\": \"Filter\"}, \"Moby\": {\"frequency\": 734, \"value\": \"Moby\"}, \"Cradle Of Filth\": {\"frequency\": 844, \"value\": \"Cradle Of Filth\"}, \"Stevie Wonder\": {\"frequency\": 326, \"value\": \"Stevie Wonder\"}, \"Martina McBride\": {\"frequency\": 143, \"value\": \"Martina McBride\"}, \"The Lonely Island / T-Pain\": {\"frequency\": 561, \"value\": \"The Lonely Island ...\"}, \"Blackstreet / Dr. Dre\": {\"frequency\": 151, \"value\": \"Blackstreet / Dr. ...\"}, \"Rick Astley\": {\"frequency\": 208, \"value\": \"Rick Astley\"}, \"Orbital\": {\"frequency\": 155, \"value\": \"Orbital\"}, \"Eva Cassidy\": {\"frequency\": 179, \"value\": \"Eva Cassidy\"}, \"Underworld\": {\"frequency\": 254, \"value\": \"Underworld\"}, \"Patty Griffin\": {\"frequency\": 166, \"value\": \"Patty Griffin\"}, \"Vanessa Williams\": {\"frequency\": 274, \"value\": \"Vanessa Williams\"}, \"DAVE MATTHEWS BAND\": {\"frequency\": 930, \"value\": \"DAVE MATTHEWS BAND\"}, \"Ramones\": {\"frequency\": 655, \"value\": \"Ramones\"}, \"Ryan Adams & The Cardinals\": {\"frequency\": 477, \"value\": \"Ryan Adams & The ...\"}, \"Willie Colon\": {\"frequency\": 131, \"value\": \"Willie Colon\"}, \"LeAnn Rimes\": {\"frequency\": 234, \"value\": \"LeAnn Rimes\"}, \"Catupecu Machu\": {\"frequency\": 232, \"value\": \"Catupecu Machu\"}, \"Stavento\": {\"frequency\": 129, \"value\": \"Stavento\"}, \"Yeasayer\": {\"frequency\": 433, \"value\": \"Yeasayer\"}, \"Mae\": {\"frequency\": 251, \"value\": \"Mae\"}, \"Fleetwood Mac\": {\"frequency\": 508, \"value\": \"Fleetwood Mac\"}, \"P!nk\": {\"frequency\": 214, \"value\": \"P!nk\"}, \"Frumpies\": {\"frequency\": 722, \"value\": \"Frumpies\"}, \"Mudvayne\": {\"frequency\": 128, \"value\": \"Mudvayne\"}, \"Onar\": {\"frequency\": 121, \"value\": \"Onar\"}, \"Trentem\\ufffd\\ufffdller\": {\"frequency\": 130, \"value\": \"Trentem\\u00f8ller\"}, \"The Who\": {\"frequency\": 254, \"value\": \"The Who\"}, \"Ray J / Yung Berg\": {\"frequency\": 115, \"value\": \"Ray J / Yung Berg\"}, \"Dwight Yoakam\": {\"frequency\": 4221, \"value\": \"Dwight Yoakam\"}, \"Styx\": {\"frequency\": 202, \"value\": \"Styx\"}, \"Rata Blanca\": {\"frequency\": 152, \"value\": \"Rata Blanca\"}, \"Modeselektor\": {\"frequency\": 116, \"value\": \"Modeselektor\"}, \"Sense Field\": {\"frequency\": 157, \"value\": \"Sense Field\"}, \"XTC\": {\"frequency\": 235, \"value\": \"XTC\"}, \"Tears For Fears\": {\"frequency\": 581, \"value\": \"Tears For Fears\"}, \"The Corrs\": {\"frequency\": 327, \"value\": \"The Corrs\"}, \"MIKA\": {\"frequency\": 211, \"value\": \"MIKA\"}, \"+ / - {Plus/Minus}\": {\"frequency\": 177, \"value\": \"+ / - {Plus/Minus}\"}, \"Bob Marley & The Wailers\": {\"frequency\": 157, \"value\": \"Bob Marley & The ...\"}, \"Big Tymers\": {\"frequency\": 278, \"value\": \"Big Tymers\"}, \"Ray LaMontagne\": {\"frequency\": 461, \"value\": \"Ray LaMontagne\"}, \"The Futureheads\": {\"frequency\": 142, \"value\": \"The Futureheads\"}, \"iio\": {\"frequency\": 120, \"value\": \"iio\"}, \"Gary Moore\": {\"frequency\": 239, \"value\": \"Gary Moore\"}, \"Non\": {\"frequency\": 136, \"value\": \"Non\"}, \"Razorlight\": {\"frequency\": 176, \"value\": \"Razorlight\"}, \"Markus Kruneg\\ufffd\\ufffdrd\": {\"frequency\": 221, \"value\": \"Markus Kruneg\\u00e5rd\"}, \"Eminem\": {\"frequency\": 4168, \"value\": \"Eminem\"}, \"Escape The Fate\": {\"frequency\": 447, \"value\": \"Escape The Fate\"}, \"Dr. Alban\": {\"frequency\": 121, \"value\": \"Dr. Alban\"}, \"Darius Rucker\": {\"frequency\": 502, \"value\": \"Darius Rucker\"}, \"The Roots / Erykah Badu\": {\"frequency\": 128, \"value\": \"The Roots / Erykah ...\"}, \"Eiffel 65\": {\"frequency\": 150, \"value\": \"Eiffel 65\"}, \"Second Hand Serenade\": {\"frequency\": 263, \"value\": \"Second Hand ...\"}, \"Joni Mitchell\": {\"frequency\": 241, \"value\": \"Joni Mitchell\"}, \"Dan Black\": {\"frequency\": 155, \"value\": \"Dan Black\"}, \"Three Days Grace\": {\"frequency\": 485, \"value\": \"Three Days Grace\"}, \"The All-American Rejects\": {\"frequency\": 2459, \"value\": \"The All-American ...\"}, \"Vilma Palma e Vampiros\": {\"frequency\": 203, \"value\": \"Vilma Palma e ...\"}, \"Babasonicos\": {\"frequency\": 119, \"value\": \"Babasonicos\"}, \"John Hiatt\": {\"frequency\": 133, \"value\": \"John Hiatt\"}, \"Elbow\": {\"frequency\": 217, \"value\": \"Elbow\"}, \"JoJo\": {\"frequency\": 316, \"value\": \"JoJo\"}, \"Martin O'Donnell And Michael Salvatori\": {\"frequency\": 151, \"value\": \"Martin O'Donnell ...\"}, \"Flo Rida\": {\"frequency\": 560, \"value\": \"Flo Rida\"}, \"Paris Combo\": {\"frequency\": 232, \"value\": \"Paris Combo\"}, \"Blind Melon\": {\"frequency\": 497, \"value\": \"Blind Melon\"}, \"10cc\": {\"frequency\": 213, \"value\": \"10cc\"}, \"LMFAO / Lil Jon\": {\"frequency\": 613, \"value\": \"LMFAO / Lil Jon\"}, \"Lil Wayne / Bobby Valentino / Kidd Kidd\": {\"frequency\": 231, \"value\": \"Lil Wayne / Bobby ...\"}, \"Boyz II Men\": {\"frequency\": 565, \"value\": \"Boyz II Men\"}, \"MC Hammer\": {\"frequency\": 412, \"value\": \"MC Hammer\"}, \"50 Cent\": {\"frequency\": 501, \"value\": \"50 Cent\"}, \"Bebe And Cece Winans\": {\"frequency\": 118, \"value\": \"Bebe And Cece ...\"}, \"Smokey Robinson & The Miracles\": {\"frequency\": 328, \"value\": \"Smokey Robinson & ...\"}, \"Randy Crawford\": {\"frequency\": 1049, \"value\": \"Randy Crawford\"}, \"Camera Obscura\": {\"frequency\": 1043, \"value\": \"Camera Obscura\"}, \"Jamie Cullum\": {\"frequency\": 321, \"value\": \"Jamie Cullum\"}, \"The Clash\": {\"frequency\": 541, \"value\": \"The Clash\"}, \"The Cure\": {\"frequency\": 630, \"value\": \"The Cure\"}, \"Snow Patrol\": {\"frequency\": 1400, \"value\": \"Snow Patrol\"}, \"Relient K\": {\"frequency\": 466, \"value\": \"Relient K\"}, \"The Alan Parsons Project\": {\"frequency\": 147, \"value\": \"The Alan Parsons ...\"}, \"Carla Bruni\": {\"frequency\": 415, \"value\": \"Carla Bruni\"}, \"America\": {\"frequency\": 191, \"value\": \"America\"}, \"Metallica\": {\"frequency\": 3557, \"value\": \"Metallica\"}, \"The Cardigans\": {\"frequency\": 519, \"value\": \"The Cardigans\"}, \"Noisettes\": {\"frequency\": 126, \"value\": \"Noisettes\"}, \"Pet Shop Boys\": {\"frequency\": 295, \"value\": \"Pet Shop Boys\"}, \"Mansun\": {\"frequency\": 122, \"value\": \"Mansun\"}, \"Wolfmother\": {\"frequency\": 578, \"value\": \"Wolfmother\"}, \"Nickelback\": {\"frequency\": 2529, \"value\": \"Nickelback\"}, \"Elton John / Kiki Dee\": {\"frequency\": 123, \"value\": \"Elton John / Kiki ...\"}, \"Peter Tosh\": {\"frequency\": 308, \"value\": \"Peter Tosh\"}, \"Herb Alpert And The Tijuana Brass\": {\"frequency\": 201, \"value\": \"Herb Alpert And ...\"}, \"Hawthorne Heights\": {\"frequency\": 128, \"value\": \"Hawthorne Heights\"}, \"Donna Lewis\": {\"frequency\": 147, \"value\": \"Donna Lewis\"}, \"Gene Kelly\": {\"frequency\": 119, \"value\": \"Gene Kelly\"}, \"Nickel Creek\": {\"frequency\": 294, \"value\": \"Nickel Creek\"}, \"Eric Johnson\": {\"frequency\": 123, \"value\": \"Eric Johnson\"}, \"The Buggles\": {\"frequency\": 553, \"value\": \"The Buggles\"}, \"Eagle-Eye Cherry\": {\"frequency\": 221, \"value\": \"Eagle-Eye Cherry\"}, \"Macaco\": {\"frequency\": 255, \"value\": \"Macaco\"}, \"Ryan Leslie\": {\"frequency\": 182, \"value\": \"Ryan Leslie\"}, \"Ferry Corsten\": {\"frequency\": 203, \"value\": \"Ferry Corsten\"}, \"Danity Kane\": {\"frequency\": 238, \"value\": \"Danity Kane\"}, \"Dino Merlin\": {\"frequency\": 317, \"value\": \"Dino Merlin\"}, \"Tab Benoit\": {\"frequency\": 388, \"value\": \"Tab Benoit\"}, \"Diana Ross\": {\"frequency\": 166, \"value\": \"Diana Ross\"}, \"Scandinavian Music Group\": {\"frequency\": 155, \"value\": \"Scandinavian Music ...\"}, \"Free\": {\"frequency\": 162, \"value\": \"Free\"}, \"Carlos Vives\": {\"frequency\": 215, \"value\": \"Carlos Vives\"}, \"Justin Timberlake\": {\"frequency\": 1485, \"value\": \"Justin Timberlake\"}, \"Nelly / David Banner / 8-Ball\": {\"frequency\": 146, \"value\": \"Nelly / David ...\"}, \"Bodyrox\": {\"frequency\": 116, \"value\": \"Bodyrox\"}, \"Melendi\": {\"frequency\": 169, \"value\": \"Melendi\"}, \"Trivium\": {\"frequency\": 258, \"value\": \"Trivium\"}, \"Drake / Kanye West / Lil Wayne / Eminem\": {\"frequency\": 919, \"value\": \"Drake / Kanye West ...\"}, \"Akon\": {\"frequency\": 739, \"value\": \"Akon\"}, \"Blondie\": {\"frequency\": 330, \"value\": \"Blondie\"}, \"Eisbrecher\": {\"frequency\": 119, \"value\": \"Eisbrecher\"}, \"Squeeze\": {\"frequency\": 135, \"value\": \"Squeeze\"}, \"Eminem / Hailie Jade\": {\"frequency\": 340, \"value\": \"Eminem / Hailie ...\"}, \"Jorge Gonzalez\": {\"frequency\": 114, \"value\": \"Jorge Gonzalez\"}, \"JET\": {\"frequency\": 447, \"value\": \"JET\"}, \"The Postal Service\": {\"frequency\": 545, \"value\": \"The Postal Service\"}, \"White Town\": {\"frequency\": 142, \"value\": \"White Town\"}, \"Transvision Vamp\": {\"frequency\": 157, \"value\": \"Transvision Vamp\"}, \"Florence + The Machine\": {\"frequency\": 5596, \"value\": \"Florence + The ...\"}, \"Blues Traveler\": {\"frequency\": 208, \"value\": \"Blues Traveler\"}, \"Lamb Of God\": {\"frequency\": 154, \"value\": \"Lamb Of God\"}, \"Black Rebel Motorcycle Club\": {\"frequency\": 111, \"value\": \"Black Rebel ...\"}, \"Los Abuelos De La Nada\": {\"frequency\": 165, \"value\": \"Los Abuelos De La ...\"}, \"Fonseca\": {\"frequency\": 317, \"value\": \"Fonseca\"}, \"Silvio Rodr\\ufffd\\ufffdguez\": {\"frequency\": 334, \"value\": \"Silvio Rodr\\u00edguez\"}, \"The Stranglers\": {\"frequency\": 115, \"value\": \"The Stranglers\"}, \"Aventura\": {\"frequency\": 685, \"value\": \"Aventura\"}, \"Kris Allen\": {\"frequency\": 245, \"value\": \"Kris Allen\"}, \"India.Arie\": {\"frequency\": 359, \"value\": \"India.Arie\"}, \"Alice In Chains\": {\"frequency\": 1003, \"value\": \"Alice In Chains\"}, \"S Club 7\": {\"frequency\": 200, \"value\": \"S Club 7\"}, \"The Notorious B.I.G.\": {\"frequency\": 1421, \"value\": \"The Notorious ...\"}, \"Charlie Louvin\": {\"frequency\": 383, \"value\": \"Charlie Louvin\"}, \"Sugarland\": {\"frequency\": 546, \"value\": \"Sugarland\"}, \"The Police\": {\"frequency\": 1332, \"value\": \"The Police\"}, \"Antonio Vivaldi\": {\"frequency\": 155, \"value\": \"Antonio Vivaldi\"}, \"Wolfsheim\": {\"frequency\": 191, \"value\": \"Wolfsheim\"}, \"The Album Leaf\": {\"frequency\": 201, \"value\": \"The Album Leaf\"}, \"Gyptian\": {\"frequency\": 142, \"value\": \"Gyptian\"}, \"NEEDTOBREATHE\": {\"frequency\": 314, \"value\": \"NEEDTOBREATHE\"}, \"Richard Ashcroft\": {\"frequency\": 125, \"value\": \"Richard Ashcroft\"}, \"The Spill Canvas\": {\"frequency\": 153, \"value\": \"The Spill Canvas\"}, \"Taking Back Sunday\": {\"frequency\": 414, \"value\": \"Taking Back Sunday\"}, \"Paul Oakenfold\": {\"frequency\": 204, \"value\": \"Paul Oakenfold\"}, \"Fireflight\": {\"frequency\": 116, \"value\": \"Fireflight\"}, \"Railroad Earth\": {\"frequency\": 133, \"value\": \"Railroad Earth\"}, \"Scott Walker\": {\"frequency\": 127, \"value\": \"Scott Walker\"}, \"Charlie Peacock\": {\"frequency\": 119, \"value\": \"Charlie Peacock\"}, \"Emery\": {\"frequency\": 127, \"value\": \"Emery\"}, \"Charles Mingus\": {\"frequency\": 120, \"value\": \"Charles Mingus\"}, \"Alaska Y Dinarama\": {\"frequency\": 226, \"value\": \"Alaska Y Dinarama\"}, \"Blue Foundation\": {\"frequency\": 174, \"value\": \"Blue Foundation\"}, \"Antony & The Johnsons\": {\"frequency\": 167, \"value\": \"Antony & The ...\"}, \"Weird Al\\\" Yankovic\": {\"frequency\": 229, \"value\": \"Weird Al\\\" Yankovic\"}, \"Sex Pistols\": {\"frequency\": 175, \"value\": \"Sex Pistols\"}, \"Les Mis\\ufffd\\ufffdrables - 10th Anniversary Concert\": {\"frequency\": 213, \"value\": \"Les Mis\\u00e9rables - ...\"}, \"Great Lake Swimmers\": {\"frequency\": 153, \"value\": \"Great Lake ...\"}, \"Datarock\": {\"frequency\": 239, \"value\": \"Datarock\"}, \"Blue October\": {\"frequency\": 300, \"value\": \"Blue October\"}, \"Deadmau5\": {\"frequency\": 1382, \"value\": \"Deadmau5\"}, \"Blue Highway\": {\"frequency\": 156, \"value\": \"Blue Highway\"}, \"Beirut\": {\"frequency\": 1225, \"value\": \"Beirut\"}, \"F.I.R.\": {\"frequency\": 120, \"value\": \"F.I.R.\"}, \"Herbie Hancock\": {\"frequency\": 323, \"value\": \"Herbie Hancock\"}, \"Grover Washington Jr. feat. Bill Withers\": {\"frequency\": 139, \"value\": \"Grover Washington ...\"}, \"DecembeRadio\": {\"frequency\": 203, \"value\": \"DecembeRadio\"}, \"Poverty Stinks\": {\"frequency\": 164, \"value\": \"Poverty Stinks\"}, \"Wall Of Voodoo\": {\"frequency\": 164, \"value\": \"Wall Of Voodoo\"}, \"Green Day\": {\"frequency\": 1492, \"value\": \"Green Day\"}, \"Hieroglyphics\": {\"frequency\": 155, \"value\": \"Hieroglyphics\"}, \"Bette Midler\": {\"frequency\": 124, \"value\": \"Bette Midler\"}, \"Rosana\": {\"frequency\": 269, \"value\": \"Rosana\"}, \"Kings Of Leon\": {\"frequency\": 6858, \"value\": \"Kings Of Leon\"}, \"South Park\": {\"frequency\": 122, \"value\": \"South Park\"}, \"Mike Posner\": {\"frequency\": 215, \"value\": \"Mike Posner\"}, \"Can\": {\"frequency\": 170, \"value\": \"Can\"}, \"Boards of Canada\": {\"frequency\": 154, \"value\": \"Boards of Canada\"}, \"Dru Hill\": {\"frequency\": 150, \"value\": \"Dru Hill\"}, \"Bill Withers\": {\"frequency\": 865, \"value\": \"Bill Withers\"}, \"Rank 1\": {\"frequency\": 203, \"value\": \"Rank 1\"}, \"Ida Corr Vs Fedde Le Grand\": {\"frequency\": 135, \"value\": \"Ida Corr Vs Fedde ...\"}, \"Julia Fordham\": {\"frequency\": 131, \"value\": \"Julia Fordham\"}, \"matchbox twenty\": {\"frequency\": 1177, \"value\": \"matchbox twenty\"}, \"The Ventures\": {\"frequency\": 139, \"value\": \"The Ventures\"}, \"Postal Service\": {\"frequency\": 1189, \"value\": \"Postal Service\"}, \"Le\\ufffd\\ufffdn Gieco\": {\"frequency\": 237, \"value\": \"Le\\u00f3n Gieco\"}, \"Public Image Ltd\": {\"frequency\": 226, \"value\": \"Public Image Ltd\"}, \"Fabolous\": {\"frequency\": 258, \"value\": \"Fabolous\"}, \"Mondo Marcio\": {\"frequency\": 148, \"value\": \"Mondo Marcio\"}, \"Megadeth\": {\"frequency\": 287, \"value\": \"Megadeth\"}, \"Daddy Yankee\": {\"frequency\": 876, \"value\": \"Daddy Yankee\"}, \"Lynyrd Skynyrd\": {\"frequency\": 628, \"value\": \"Lynyrd Skynyrd\"}, \"Cocoa Brovas\": {\"frequency\": 168, \"value\": \"Cocoa Brovas\"}, \"Belle and Sebastian\": {\"frequency\": 193, \"value\": \"Belle and ...\"}, \"Dim Pees\": {\"frequency\": 149, \"value\": \"Dim Pees\"}, \"Rakim\": {\"frequency\": 120, \"value\": \"Rakim\"}, \"Johnny Cash\": {\"frequency\": 117, \"value\": \"Johnny Cash\"}, \"The Velvet Underground / Nico\": {\"frequency\": 413, \"value\": \"The Velvet ...\"}, \"Birdman / Lil Wayne / Drake\": {\"frequency\": 145, \"value\": \"Birdman / Lil ...\"}, \"Ed Harcourt\": {\"frequency\": 129, \"value\": \"Ed Harcourt\"}, \"Aly & AJ\": {\"frequency\": 149, \"value\": \"Aly & AJ\"}, \"Belle & Sebastian\": {\"frequency\": 389, \"value\": \"Belle & Sebastian\"}, \"Octopus Project\": {\"frequency\": 1756, \"value\": \"Octopus Project\"}, \"CSS\": {\"frequency\": 176, \"value\": \"CSS\"}, \"Smokie Norful\": {\"frequency\": 141, \"value\": \"Smokie Norful\"}, \"Julie London\": {\"frequency\": 296, \"value\": \"Julie London\"}, \"Lighthouse Family\": {\"frequency\": 148, \"value\": \"Lighthouse Family\"}, \"The Script\": {\"frequency\": 799, \"value\": \"The Script\"}, \"Alien Ant Farm\": {\"frequency\": 343, \"value\": \"Alien Ant Farm\"}, \"Justin Timberlake;Justin Timberlake featuring will.i.am\": {\"frequency\": 145, \"value\": \"Justin ...\"}, \"Lamb\": {\"frequency\": 248, \"value\": \"Lamb\"}, \"Symphony X\": {\"frequency\": 246, \"value\": \"Symphony X\"}, \"Shadows Fall\": {\"frequency\": 178, \"value\": \"Shadows Fall\"}, \"Lostprophets\": {\"frequency\": 219, \"value\": \"Lostprophets\"}, \"Vampire Weekend\": {\"frequency\": 1694, \"value\": \"Vampire Weekend\"}, \"Juvenile / Mannie Fresh / Lil Wayne\": {\"frequency\": 138, \"value\": \"Juvenile / Mannie ...\"}, \"Aretha Franklin\": {\"frequency\": 159, \"value\": \"Aretha Franklin\"}, \"Tinie Tempah\": {\"frequency\": 170, \"value\": \"Tinie Tempah\"}, \"Sonic Youth\": {\"frequency\": 328, \"value\": \"Sonic Youth\"}, \"Basement Jaxx\": {\"frequency\": 170, \"value\": \"Basement Jaxx\"}, \"Young Money\": {\"frequency\": 359, \"value\": \"Young Money\"}, \"Cypress Hill\": {\"frequency\": 247, \"value\": \"Cypress Hill\"}, \"Joe Vasconcellos\": {\"frequency\": 135, \"value\": \"Joe Vasconcellos\"}, \"Donavon Frankenreiter\": {\"frequency\": 131, \"value\": \"Donavon ...\"}, \"What We Feel\": {\"frequency\": 204, \"value\": \"What We Feel\"}, \"The Raconteurs\": {\"frequency\": 276, \"value\": \"The Raconteurs\"}, \"Philippe Rochard\": {\"frequency\": 300, \"value\": \"Philippe Rochard\"}, \"Sister Hazel\": {\"frequency\": 131, \"value\": \"Sister Hazel\"}, \"Kanye West\": {\"frequency\": 2409, \"value\": \"Kanye West\"}, \"Brandy duet with Monica\": {\"frequency\": 115, \"value\": \"Brandy duet with ...\"}, \"The Temptations\": {\"frequency\": 138, \"value\": \"The Temptations\"}, \"Horse Feathers\": {\"frequency\": 143, \"value\": \"Horse Feathers\"}, \"My Chemical Romance\": {\"frequency\": 853, \"value\": \"My Chemical ...\"}, \"Embrace\": {\"frequency\": 117, \"value\": \"Embrace\"}, \"Bobbie Gentry\": {\"frequency\": 122, \"value\": \"Bobbie Gentry\"}, \"George Michael\": {\"frequency\": 206, \"value\": \"George Michael\"}, \"Man Man\": {\"frequency\": 922, \"value\": \"Man Man\"}, \"Dropkick Murphys\": {\"frequency\": 766, \"value\": \"Dropkick Murphys\"}, \"J. Holiday\": {\"frequency\": 279, \"value\": \"J. Holiday\"}, \"Vanilla Ice\": {\"frequency\": 340, \"value\": \"Vanilla Ice\"}, \"Cass McCombs\": {\"frequency\": 172, \"value\": \"Cass McCombs\"}, \"Restiform Bodies\": {\"frequency\": 266, \"value\": \"Restiform Bodies\"}, \"MC5\": {\"frequency\": 153, \"value\": \"MC5\"}, \"Charly Garc\\ufffd\\ufffda\": {\"frequency\": 372, \"value\": \"Charly Garc\\u00eda\"}, \"Ryan Adams\": {\"frequency\": 751, \"value\": \"Ryan Adams\"}, \"Delerium\": {\"frequency\": 230, \"value\": \"Delerium\"}, \"Deep Blue Something\": {\"frequency\": 259, \"value\": \"Deep Blue ...\"}, \"Miranda Lambert\": {\"frequency\": 317, \"value\": \"Miranda Lambert\"}, \"Kiss\": {\"frequency\": 452, \"value\": \"Kiss\"}, \"John Legend\": {\"frequency\": 361, \"value\": \"John Legend\"}, \"The Cool Kids\": {\"frequency\": 135, \"value\": \"The Cool Kids\"}, \"Steve Miller Band\": {\"frequency\": 514, \"value\": \"Steve Miller Band\"}, \"Cage The Elephant\": {\"frequency\": 1293, \"value\": \"Cage The Elephant\"}, \"Nick Lowe\": {\"frequency\": 257, \"value\": \"Nick Lowe\"}, \"Eric Prydz\": {\"frequency\": 326, \"value\": \"Eric Prydz\"}, \"Godsmack\": {\"frequency\": 782, \"value\": \"Godsmack\"}, \"Brandon Heath\": {\"frequency\": 151, \"value\": \"Brandon Heath\"}, \"Margaret Becker\": {\"frequency\": 118, \"value\": \"Margaret Becker\"}, \"Colossal\": {\"frequency\": 307, \"value\": \"Colossal\"}, \"Jimi Hendrix\": {\"frequency\": 585, \"value\": \"Jimi Hendrix\"}, \"Yael Na\\ufffd\\ufffdm\": {\"frequency\": 274, \"value\": \"Yael Na\\u00efm\"}, \"The Jacksons\": {\"frequency\": 150, \"value\": \"The Jacksons\"}, \"The Go! Team\": {\"frequency\": 122, \"value\": \"The Go! Team\"}, \"Queensryche\": {\"frequency\": 336, \"value\": \"Queensryche\"}, \"Phil Collins\": {\"frequency\": 991, \"value\": \"Phil Collins\"}, \"Audio Bullys Featuring Nancy Sinatra\": {\"frequency\": 145, \"value\": \"Audio Bullys ...\"}, \"Michael Franti & Spearhead\": {\"frequency\": 226, \"value\": \"Michael Franti & ...\"}, \"Tavares\": {\"frequency\": 255, \"value\": \"Tavares\"}, \"Fanfarlo\": {\"frequency\": 115, \"value\": \"Fanfarlo\"}, \"De La Soul\": {\"frequency\": 114, \"value\": \"De La Soul\"}, \"Tycho\": {\"frequency\": 176, \"value\": \"Tycho\"}, \"Rufus Wainwright\": {\"frequency\": 482, \"value\": \"Rufus Wainwright\"}, \"Drowning Pool\": {\"frequency\": 702, \"value\": \"Drowning Pool\"}, \"Future Loop Foundation\": {\"frequency\": 127, \"value\": \"Future Loop ...\"}, \"Sufjan Stevens\": {\"frequency\": 216, \"value\": \"Sufjan Stevens\"}, \"The Avett Brothers\": {\"frequency\": 626, \"value\": \"The Avett Brothers\"}, \"Slum Village\": {\"frequency\": 148, \"value\": \"Slum Village\"}, \"Primus\": {\"frequency\": 310, \"value\": \"Primus\"}, \"P.O.D.\": {\"frequency\": 575, \"value\": \"P.O.D.\"}, \"Fergie\": {\"frequency\": 281, \"value\": \"Fergie\"}, \"King Floyd\": {\"frequency\": 122, \"value\": \"King Floyd\"}, \"Counting Crows\": {\"frequency\": 541, \"value\": \"Counting Crows\"}, \"Klaxons\": {\"frequency\": 221, \"value\": \"Klaxons\"}, \"The Gaslight Anthem\": {\"frequency\": 139, \"value\": \"The Gaslight ...\"}, \"The Long Blondes\": {\"frequency\": 125, \"value\": \"The Long Blondes\"}, \"P. Diddy\": {\"frequency\": 226, \"value\": \"P. Diddy\"}, \"Easy Star All-Stars\": {\"frequency\": 191, \"value\": \"Easy Star All- ...\"}, \"Joy Division\": {\"frequency\": 294, \"value\": \"Joy Division\"}, \"moe.\": {\"frequency\": 118, \"value\": \"moe.\"}, \"Bersuit Vergarabat\": {\"frequency\": 446, \"value\": \"Bersuit Vergarabat\"}, \"Ronski Speed\": {\"frequency\": 126, \"value\": \"Ronski Speed\"}, \"Sheryl Crow\": {\"frequency\": 484, \"value\": \"Sheryl Crow\"}, \"Petra\": {\"frequency\": 133, \"value\": \"Petra\"}, \"Another Sunny Day\": {\"frequency\": 259, \"value\": \"Another Sunny Day\"}, \"Bread\": {\"frequency\": 235, \"value\": \"Bread\"}, \"Aliz\\ufffd\\ufffde\": {\"frequency\": 144, \"value\": \"Aliz\\u00e9e\"}, \"High School Musical Cast\": {\"frequency\": 205, \"value\": \"High School ...\"}, \"Soltero\": {\"frequency\": 857, \"value\": \"Soltero\"}, \"Huntingtons\": {\"frequency\": 124, \"value\": \"Huntingtons\"}, \"Beyonc\\ufffd\\ufffd feat. Slim Thug\": {\"frequency\": 247, \"value\": \"Beyonc\\u00e9 feat. Slim ...\"}, \"3OH!3\": {\"frequency\": 1037, \"value\": \"3OH!3\"}, \"Billy Idol\": {\"frequency\": 610, \"value\": \"Billy Idol\"}, \"Faith Hill\": {\"frequency\": 195, \"value\": \"Faith Hill\"}, \"The Presidents of the United States of America\": {\"frequency\": 294, \"value\": \"The Presidents of ...\"}, \"We Came As Romans\": {\"frequency\": 117, \"value\": \"We Came As Romans\"}, \"The Rapture\": {\"frequency\": 151, \"value\": \"The Rapture\"}, \"En Vogue\": {\"frequency\": 157, \"value\": \"En Vogue\"}, \"Fischerspooner\": {\"frequency\": 136, \"value\": \"Fischerspooner\"}, \"Cass McCombs feat. Karen Black\": {\"frequency\": 180, \"value\": \"Cass McCombs feat. ...\"}, \"Simon Harris\": {\"frequency\": 994, \"value\": \"Simon Harris\"}, \"A Tribe Called Quest\": {\"frequency\": 236, \"value\": \"A Tribe Called ...\"}, \"Faithless Featuring Dido\": {\"frequency\": 131, \"value\": \"Faithless ...\"}, \"Musiq\": {\"frequency\": 285, \"value\": \"Musiq\"}, \"The Bloody Beetroots\": {\"frequency\": 177, \"value\": \"The Bloody ...\"}, \"White Denim\": {\"frequency\": 473, \"value\": \"White Denim\"}, \"Cheryl Cole\": {\"frequency\": 150, \"value\": \"Cheryl Cole\"}, \"Immortal Technique\": {\"frequency\": 392, \"value\": \"Immortal Technique\"}, \"Outkast Featuring Killer Mike\": {\"frequency\": 140, \"value\": \"Outkast Featuring ...\"}, \"The Lonely Island\": {\"frequency\": 563, \"value\": \"The Lonely Island\"}, \"The Hollies\": {\"frequency\": 216, \"value\": \"The Hollies\"}, \"Spoon\": {\"frequency\": 361, \"value\": \"Spoon\"}, \"Buena Vista Social Club\": {\"frequency\": 199, \"value\": \"Buena Vista Social ...\"}, \"Klaus Schulze\": {\"frequency\": 137, \"value\": \"Klaus Schulze\"}, \"Eyes Set to Kill\": {\"frequency\": 112, \"value\": \"Eyes Set to Kill\"}, \"Alan Jackson\": {\"frequency\": 323, \"value\": \"Alan Jackson\"}, \"Slipknot\": {\"frequency\": 1021, \"value\": \"Slipknot\"}, \"Steppenwolf\": {\"frequency\": 473, \"value\": \"Steppenwolf\"}, \"El Cuarteto De Nos\": {\"frequency\": 139, \"value\": \"El Cuarteto De Nos\"}, \"Miike Snow\": {\"frequency\": 300, \"value\": \"Miike Snow\"}, \"Mariah Carey\": {\"frequency\": 1599, \"value\": \"Mariah Carey\"}, \"New Boyz\": {\"frequency\": 332, \"value\": \"New Boyz\"}, \"Butthole Surfers\": {\"frequency\": 190, \"value\": \"Butthole Surfers\"}, \"Bright Eyes\": {\"frequency\": 1094, \"value\": \"Bright Eyes\"}, \"Charlie Hall\": {\"frequency\": 166, \"value\": \"Charlie Hall\"}, \"J. Karjalainen & Mustat Lasit\": {\"frequency\": 936, \"value\": \"J. Karjalainen & ...\"}, \"Incubus\": {\"frequency\": 1171, \"value\": \"Incubus\"}, \"Stacie Orrico\": {\"frequency\": 167, \"value\": \"Stacie Orrico\"}, \"Pixie Lott\": {\"frequency\": 158, \"value\": \"Pixie Lott\"}, \"Yazoo\": {\"frequency\": 129, \"value\": \"Yazoo\"}, \"Violeta Parra\": {\"frequency\": 203, \"value\": \"Violeta Parra\"}, \"Line Renaud\": {\"frequency\": 354, \"value\": \"Line Renaud\"}, \"Stephane Pompougnac\": {\"frequency\": 123, \"value\": \"Stephane ...\"}, \"Slim Dusty\": {\"frequency\": 192, \"value\": \"Slim Dusty\"}, \"K'Naan\": {\"frequency\": 442, \"value\": \"K'Naan\"}, \"Marina And The Diamonds\": {\"frequency\": 281, \"value\": \"Marina And The ...\"}, \"La Roux\": {\"frequency\": 1684, \"value\": \"La Roux\"}, \"Fuel\": {\"frequency\": 130, \"value\": \"Fuel\"}, \"Three Drives\": {\"frequency\": 788, \"value\": \"Three Drives\"}, \"Skunk Anansie\": {\"frequency\": 129, \"value\": \"Skunk Anansie\"}, \"Apocalyptica\": {\"frequency\": 576, \"value\": \"Apocalyptica\"}, \"Jamie T\": {\"frequency\": 150, \"value\": \"Jamie T\"}, \"Kimya Dawson\": {\"frequency\": 182, \"value\": \"Kimya Dawson\"}, \"Miley Cyrus\": {\"frequency\": 2586, \"value\": \"Miley Cyrus\"}, \"The Maine\": {\"frequency\": 334, \"value\": \"The Maine\"}, \"Young Bleed\": {\"frequency\": 381, \"value\": \"Young Bleed\"}, \"Plies\": {\"frequency\": 602, \"value\": \"Plies\"}, \"Ibrahim Ferrer\": {\"frequency\": 136, \"value\": \"Ibrahim Ferrer\"}, \"The Notting Hillbillies\": {\"frequency\": 136, \"value\": \"The Notting ...\"}, \"Audio Adrenaline\": {\"frequency\": 260, \"value\": \"Audio Adrenaline\"}, \"Shout Out Louds\": {\"frequency\": 134, \"value\": \"Shout Out Louds\"}, \"Josh Turner\": {\"frequency\": 678, \"value\": \"Josh Turner\"}, \"Linkin Park\": {\"frequency\": 3950, \"value\": \"Linkin Park\"}, \"The Sugarhill Gang\": {\"frequency\": 155, \"value\": \"The Sugarhill Gang\"}, \"Earth_ Wind & Fire\": {\"frequency\": 211, \"value\": \"Earth_ Wind & Fire\"}, \"Dance Gavin Dance\": {\"frequency\": 120, \"value\": \"Dance Gavin Dance\"}, \"Josh Rouse\": {\"frequency\": 135, \"value\": \"Josh Rouse\"}, \"Rose Royce\": {\"frequency\": 197, \"value\": \"Rose Royce\"}, \"Third Day\": {\"frequency\": 182, \"value\": \"Third Day\"}, \"Primal Scream\": {\"frequency\": 253, \"value\": \"Primal Scream\"}, \"Peter Sellers\": {\"frequency\": 306, \"value\": \"Peter Sellers\"}, \"Royksopp\": {\"frequency\": 269, \"value\": \"Royksopp\"}, \"Matt Nathanson\": {\"frequency\": 340, \"value\": \"Matt Nathanson\"}, \"Jordin Sparks\": {\"frequency\": 178, \"value\": \"Jordin Sparks\"}, \"Ensiferum\": {\"frequency\": 141, \"value\": \"Ensiferum\"}, \"Fountains Of Wayne\": {\"frequency\": 296, \"value\": \"Fountains Of Wayne\"}, \"Everything But The Girl\": {\"frequency\": 287, \"value\": \"Everything But The ...\"}, \"The Calling\": {\"frequency\": 113, \"value\": \"The Calling\"}, \"Dragonforce\": {\"frequency\": 444, \"value\": \"Dragonforce\"}, \"Cupid\": {\"frequency\": 143, \"value\": \"Cupid\"}, \"Jack Johnson\": {\"frequency\": 3100, \"value\": \"Jack Johnson\"}, \"Seu Jorge\": {\"frequency\": 178, \"value\": \"Seu Jorge\"}, \"Against Me!\": {\"frequency\": 199, \"value\": \"Against Me!\"}, \"New Order\": {\"frequency\": 551, \"value\": \"New Order\"}, \"Brooks & Dunn\": {\"frequency\": 311, \"value\": \"Brooks & Dunn\"}, \"Imogen Heap\": {\"frequency\": 425, \"value\": \"Imogen Heap\"}, \"Rin\\ufffd\\ufffd\\ufffd\\ufffd\\ufffd\\ufffdr\\ufffd\\ufffdse / Mark Gardener\": {\"frequency\": 189, \"value\": \"Rin\\u00f4\\u00e7\\u00e9r\\u00f4se / Mark ...\"}, \"Camila\": {\"frequency\": 665, \"value\": \"Camila\"}, \"Starfield\": {\"frequency\": 191, \"value\": \"Starfield\"}, \"Righteous Brothers\": {\"frequency\": 213, \"value\": \"Righteous Brothers\"}, \"SNAP!\": {\"frequency\": 180, \"value\": \"SNAP!\"}, \"Jamiroquai\": {\"frequency\": 293, \"value\": \"Jamiroquai\"}, \"David Arkenstone\": {\"frequency\": 122, \"value\": \"David Arkenstone\"}, \"Helloween\": {\"frequency\": 237, \"value\": \"Helloween\"}, \"Hawk Nelson\": {\"frequency\": 173, \"value\": \"Hawk Nelson\"}, \"Way Out West\": {\"frequency\": 147, \"value\": \"Way Out West\"}, \"Creed\": {\"frequency\": 580, \"value\": \"Creed\"}, \"Gino Vannelli\": {\"frequency\": 183, \"value\": \"Gino Vannelli\"}, \"Insane Clown Posse\": {\"frequency\": 447, \"value\": \"Insane Clown Posse\"}, \"The Game\": {\"frequency\": 170, \"value\": \"The Game\"}, \"Janis Joplin\": {\"frequency\": 167, \"value\": \"Janis Joplin\"}, \"DESTRUCTION\": {\"frequency\": 194, \"value\": \"DESTRUCTION\"}, \"Staind\": {\"frequency\": 592, \"value\": \"Staind\"}, \"Casting Crowns\": {\"frequency\": 205, \"value\": \"Casting Crowns\"}, \"Mano Negra\": {\"frequency\": 176, \"value\": \"Mano Negra\"}, \"Manowar\": {\"frequency\": 311, \"value\": \"Manowar\"}, \"U2\": {\"frequency\": 1489, \"value\": \"U2\"}, \"Alvin And The Chipmunks\": {\"frequency\": 160, \"value\": \"Alvin And The ...\"}, \"Intocable\": {\"frequency\": 259, \"value\": \"Intocable\"}, \"112\": {\"frequency\": 159, \"value\": \"112\"}, \"El-P\": {\"frequency\": 253, \"value\": \"El-P\"}, \"Vanessa Carlton\": {\"frequency\": 300, \"value\": \"Vanessa Carlton\"}, \"Nelly / Paul Wall / Ali & Gipp\": {\"frequency\": 117, \"value\": \"Nelly / Paul Wall ...\"}, \"Notorious B.I.G.\": {\"frequency\": 125, \"value\": \"Notorious B.I.G.\"}, \"Mariah Carey feat. Boyz II Men\": {\"frequency\": 119, \"value\": \"Mariah Carey feat. ...\"}, \"Los Pericos\": {\"frequency\": 394, \"value\": \"Los Pericos\"}, \"Jonny L\": {\"frequency\": 271, \"value\": \"Jonny L\"}, \"Deftones\": {\"frequency\": 449, \"value\": \"Deftones\"}, \"Usher featuring will.i.am\": {\"frequency\": 2260, \"value\": \"Usher featuring ...\"}, \"Kate Nash\": {\"frequency\": 411, \"value\": \"Kate Nash\"}, \"Duran Duran\": {\"frequency\": 492, \"value\": \"Duran Duran\"}, \"Jewel\": {\"frequency\": 263, \"value\": \"Jewel\"}, \"Leggo Beast\": {\"frequency\": 171, \"value\": \"Leggo Beast\"}, \"Madeleine Peyroux\": {\"frequency\": 235, \"value\": \"Madeleine Peyroux\"}, \"Alanis Morissette\": {\"frequency\": 874, \"value\": \"Alanis Morissette\"}, \"Deep Forest\": {\"frequency\": 91, \"value\": \"Deep Forest\"}, \"Newsboys\": {\"frequency\": 320, \"value\": \"Newsboys\"}, \"Kid Sister\": {\"frequency\": 126, \"value\": \"Kid Sister\"}, \"Norman Greenbaum\": {\"frequency\": 118, \"value\": \"Norman Greenbaum\"}, \"Taylor Swift / Colbie Caillat\": {\"frequency\": 287, \"value\": \"Taylor Swift / ...\"}, \"Telepopmusik\": {\"frequency\": 175, \"value\": \"Telepopmusik\"}, \"Bad Brains\": {\"frequency\": 151, \"value\": \"Bad Brains\"}, \"Nina Simone\": {\"frequency\": 164, \"value\": \"Nina Simone\"}, \"Maroon 5\": {\"frequency\": 1034, \"value\": \"Maroon 5\"}, \"Apocalyptica / Sandra Nasic\": {\"frequency\": 117, \"value\": \"Apocalyptica / ...\"}, \"Ten Years After\": {\"frequency\": 325, \"value\": \"Ten Years After\"}, \"Danger Doom\": {\"frequency\": 174, \"value\": \"Danger Doom\"}, \"Prince & The New Power Generation\": {\"frequency\": 140, \"value\": \"Prince & The New ...\"}, \"Scooter\": {\"frequency\": 379, \"value\": \"Scooter\"}, \"Jadakiss / Swizz Beatz / OJ Da Juiceman\": {\"frequency\": 302, \"value\": \"Jadakiss / Swizz ...\"}, \"Neko Case\": {\"frequency\": 146, \"value\": \"Neko Case\"}, \"Billy Talent\": {\"frequency\": 335, \"value\": \"Billy Talent\"}, \"Polly Paulusma\": {\"frequency\": 239, \"value\": \"Polly Paulusma\"}, \"Covenant\": {\"frequency\": 166, \"value\": \"Covenant\"}, \"Los Rodriguez\": {\"frequency\": 308, \"value\": \"Los Rodriguez\"}, \"Simian Mobile Disco\": {\"frequency\": 614, \"value\": \"Simian Mobile ...\"}, \"Chiddy Bang\": {\"frequency\": 388, \"value\": \"Chiddy Bang\"}, \"Savage Garden\": {\"frequency\": 219, \"value\": \"Savage Garden\"}, \"The Rolling Stones\": {\"frequency\": 891, \"value\": \"The Rolling Stones\"}, \"Alexi Murdoch\": {\"frequency\": 270, \"value\": \"Alexi Murdoch\"}, \"Four Tet\": {\"frequency\": 1088, \"value\": \"Four Tet\"}, \"Billy Squier\": {\"frequency\": 211, \"value\": \"Billy Squier\"}, \"Brotha Lynch Hung\": {\"frequency\": 141, \"value\": \"Brotha Lynch Hung\"}, \"Wu-Tang Clan\": {\"frequency\": 273, \"value\": \"Wu-Tang Clan\"}, \"3 Doors Down\": {\"frequency\": 2482, \"value\": \"3 Doors Down\"}, \"The Pussycat Dolls\": {\"frequency\": 1249, \"value\": \"The Pussycat Dolls\"}, \"The Roots / Cody Chestnutt\": {\"frequency\": 159, \"value\": \"The Roots / Cody ...\"}, \"The Airborne Toxic Event\": {\"frequency\": 170, \"value\": \"The Airborne Toxic ...\"}, \"Eluveitie\": {\"frequency\": 115, \"value\": \"Eluveitie\"}, \"Clint Mansell\": {\"frequency\": 149, \"value\": \"Clint Mansell\"}, \"Alliance Ethnik\": {\"frequency\": 3720, \"value\": \"Alliance Ethnik\"}, \"John Butler Trio\": {\"frequency\": 190, \"value\": \"John Butler Trio\"}, \"Simply Red\": {\"frequency\": 117, \"value\": \"Simply Red\"}, \"Great White\": {\"frequency\": 172, \"value\": \"Great White\"}, \"Sigur Ros\": {\"frequency\": 240, \"value\": \"Sigur Ros\"}, \"Soundgarden\": {\"frequency\": 975, \"value\": \"Soundgarden\"}, \"Be Bop Deluxe\": {\"frequency\": 134, \"value\": \"Be Bop Deluxe\"}, \"Evanescence\": {\"frequency\": 1995, \"value\": \"Evanescence\"}, \"Johan Gielen\": {\"frequency\": 131, \"value\": \"Johan Gielen\"}, \"Bauhaus\": {\"frequency\": 144, \"value\": \"Bauhaus\"}, \"Steely Dan\": {\"frequency\": 639, \"value\": \"Steely Dan\"}, \"Vangelis\": {\"frequency\": 184, \"value\": \"Vangelis\"}, \"Smile Empty Soul\": {\"frequency\": 153, \"value\": \"Smile Empty Soul\"}, \"Hot Hot Heat\": {\"frequency\": 162, \"value\": \"Hot Hot Heat\"}, \"Silversun Pickups\": {\"frequency\": 391, \"value\": \"Silversun Pickups\"}, \"Jacky Terrasson\": {\"frequency\": 603, \"value\": \"Jacky Terrasson\"}, \"M83\": {\"frequency\": 731, \"value\": \"M83\"}, \"Sean Paul\": {\"frequency\": 694, \"value\": \"Sean Paul\"}, \"Angels and Airwaves\": {\"frequency\": 1515, \"value\": \"Angels and ...\"}, \"Kreator\": {\"frequency\": 244, \"value\": \"Kreator\"}, \"Joshua Radin\": {\"frequency\": 404, \"value\": \"Joshua Radin\"}, \"Bran Van 3000\": {\"frequency\": 151, \"value\": \"Bran Van 3000\"}, \"DJ Khaled\": {\"frequency\": 765, \"value\": \"DJ Khaled\"}, \"The Ruts\": {\"frequency\": 933, \"value\": \"The Ruts\"}, \"Colt Ford\": {\"frequency\": 184, \"value\": \"Colt Ford\"}, \"Afromental\": {\"frequency\": 126, \"value\": \"Afromental\"}, \"Boys Like Girls featuring Taylor Swift\": {\"frequency\": 233, \"value\": \"Boys Like Girls ...\"}, \"Doves\": {\"frequency\": 232, \"value\": \"Doves\"}, \"Garbage\": {\"frequency\": 396, \"value\": \"Garbage\"}, \"The Cranberries\": {\"frequency\": 530, \"value\": \"The Cranberries\"}, \"Andrew Bird\": {\"frequency\": 1027, \"value\": \"Andrew Bird\"}, \"Various Artists - Delicious Vinyl\": {\"frequency\": 193, \"value\": \"Various Artists - ...\"}, \"Newton Faulkner\": {\"frequency\": 147, \"value\": \"Newton Faulkner\"}, \"Phil Wickham\": {\"frequency\": 212, \"value\": \"Phil Wickham\"}, \"Jay-Z\": {\"frequency\": 694, \"value\": \"Jay-Z\"}}, \"size\": 1133382}}, \"selected_variable\": {\"name\": [\"artist\"], \"descriptives\": {\"rows\": 1133382, \"columns\": 3}, \"view_component\": \"Summary\", \"view_file\": \"sframe\", \"view_params\": {\"y\": null, \"x\": null, \"columns\": [\"user\", \"artist_name\", \"plays\"], \"view\": null}, \"view_components\": [\"Summary\", \"Table\", \"Bar Chart\", \"BoxWhisker Plot\", \"Line Chart\", \"Scatter Plot\", \"Heat Map\", \"Plots\"], \"type\": \"SFrame\", \"columns\": [{\"dtype\": \"str\", \"name\": \"user\"}, {\"dtype\": \"str\", \"name\": \"artist_name\"}, {\"dtype\": \"int\", \"name\": \"plays\"}], \"column_identifiers\": [\"plays\", \"user\", \"artist_name\"]}, \"columns\": [{\"dtype\": \"str\", \"name\": \"user\"}, {\"dtype\": \"str\", \"name\": \"artist_name\"}, {\"dtype\": \"int\", \"name\": \"plays\"}]}, e);\n",
       "                });\n",
       "            })();\n",
       "        "
      ]
     },
     "metadata": {},
     "output_type": "display_data"
    }
   ],
   "source": [
    "artist.show()"
   ]
  },
  {
   "cell_type": "markdown",
   "metadata": {},
   "source": [
    "Executing the `graphlab show` commands above will provide summary information about the data in a local browser using GraphLab Canvas.   \n",
    "\n",
    "The song data includes over 110,000 users listening to over 166,433 unique songs.   The data includes 138,499 unqiue song titles.   The inference is 27,934 songs have the same title although they are different songs.   Analysis will need to be done on the `song_id` rather than the `title`.   Songs were played between 1 times and 923 times.  Both the song data as well as the artist data contain 28,266 unique artists.   Neither dataset has missing values.  The year has some missing values that are populated with 0.  Detail on the missing years can be found in the GraphLab Canvas.   Due to 20% of the year data missing, analysis will not include the year informaiton.  \n",
    "\n",
    "Since the user identification is based on a user ID, the possiblities of a single person having multiple user IDs or a single user ID being used by multiple individuals cannot be eliminated.   Since the sharing of user IDs is common with families, our analysis will proceed with caution.  "
   ]
  },
  {
   "cell_type": "markdown",
   "metadata": {},
   "source": [
    "## Train and Adjust parameters"
   ]
  },
  {
   "cell_type": "code",
   "execution_count": 12,
   "metadata": {
    "collapsed": false
   },
   "outputs": [
    {
     "data": {
      "text/html": [
       "<div style=\"max-height:1000px;max-width:1500px;overflow:auto;\"><table frame=\"box\" rules=\"cols\">\n",
       "    <tr>\n",
       "        <th style=\"padding-left: 1em; padding-right: 1em; text-align: center\">user</th>\n",
       "        <th style=\"padding-left: 1em; padding-right: 1em; text-align: center\">song_id</th>\n",
       "        <th style=\"padding-left: 1em; padding-right: 1em; text-align: center\">plays</th>\n",
       "        <th style=\"padding-left: 1em; padding-right: 1em; text-align: center\">title</th>\n",
       "        <th style=\"padding-left: 1em; padding-right: 1em; text-align: center\">release</th>\n",
       "    </tr>\n",
       "    <tr>\n",
       "        <td style=\"padding-left: 1em; padding-right: 1em; text-align: center; vertical-align: top\">fd50c4007b68a3737fe052d5a<br>4f78ce8aa117f3d ...</td>\n",
       "        <td style=\"padding-left: 1em; padding-right: 1em; text-align: center; vertical-align: top\">SOBONKR12A58A7A7E0</td>\n",
       "        <td style=\"padding-left: 1em; padding-right: 1em; text-align: center; vertical-align: top\">1</td>\n",
       "        <td style=\"padding-left: 1em; padding-right: 1em; text-align: center; vertical-align: top\">You're The One</td>\n",
       "        <td style=\"padding-left: 1em; padding-right: 1em; text-align: center; vertical-align: top\">If There Was A Way</td>\n",
       "    </tr>\n",
       "    <tr>\n",
       "        <td style=\"padding-left: 1em; padding-right: 1em; text-align: center; vertical-align: top\">fd50c4007b68a3737fe052d5a<br>4f78ce8aa117f3d ...</td>\n",
       "        <td style=\"padding-left: 1em; padding-right: 1em; text-align: center; vertical-align: top\">SOEGIYH12A6D4FC0E3</td>\n",
       "        <td style=\"padding-left: 1em; padding-right: 1em; text-align: center; vertical-align: top\">1</td>\n",
       "        <td style=\"padding-left: 1em; padding-right: 1em; text-align: center; vertical-align: top\">Horn Concerto No. 4 in E<br>flat K495: II. Romance ...</td>\n",
       "        <td style=\"padding-left: 1em; padding-right: 1em; text-align: center; vertical-align: top\">Mozart - Eine kleine<br>Nachtmusik ...</td>\n",
       "    </tr>\n",
       "    <tr>\n",
       "        <td style=\"padding-left: 1em; padding-right: 1em; text-align: center; vertical-align: top\">fd50c4007b68a3737fe052d5a<br>4f78ce8aa117f3d ...</td>\n",
       "        <td style=\"padding-left: 1em; padding-right: 1em; text-align: center; vertical-align: top\">SOFLJQZ12A6D4FADA6</td>\n",
       "        <td style=\"padding-left: 1em; padding-right: 1em; text-align: center; vertical-align: top\">1</td>\n",
       "        <td style=\"padding-left: 1em; padding-right: 1em; text-align: center; vertical-align: top\">Tive Sim</td>\n",
       "        <td style=\"padding-left: 1em; padding-right: 1em; text-align: center; vertical-align: top\">Nova Bis-Cartola</td>\n",
       "    </tr>\n",
       "</table>\n",
       "<table frame=\"box\" rules=\"cols\">\n",
       "    <tr>\n",
       "        <th style=\"padding-left: 1em; padding-right: 1em; text-align: center\">artist_name</th>\n",
       "        <th style=\"padding-left: 1em; padding-right: 1em; text-align: center\">year</th>\n",
       "        <th style=\"padding-left: 1em; padding-right: 1em; text-align: center\">song_name</th>\n",
       "    </tr>\n",
       "    <tr>\n",
       "        <td style=\"padding-left: 1em; padding-right: 1em; text-align: center; vertical-align: top\">Dwight Yoakam</td>\n",
       "        <td style=\"padding-left: 1em; padding-right: 1em; text-align: center; vertical-align: top\">1990</td>\n",
       "        <td style=\"padding-left: 1em; padding-right: 1em; text-align: center; vertical-align: top\">You're The One (Dwight<br>Yoakam) ...</td>\n",
       "    </tr>\n",
       "    <tr>\n",
       "        <td style=\"padding-left: 1em; padding-right: 1em; text-align: center; vertical-align: top\">Barry Tuckwell/Academy of<br>St Martin-in-the- ...</td>\n",
       "        <td style=\"padding-left: 1em; padding-right: 1em; text-align: center; vertical-align: top\">0</td>\n",
       "        <td style=\"padding-left: 1em; padding-right: 1em; text-align: center; vertical-align: top\">Horn Concerto No. 4 in E<br>flat K495: II. Romance ...</td>\n",
       "    </tr>\n",
       "    <tr>\n",
       "        <td style=\"padding-left: 1em; padding-right: 1em; text-align: center; vertical-align: top\">Cartola</td>\n",
       "        <td style=\"padding-left: 1em; padding-right: 1em; text-align: center; vertical-align: top\">1974</td>\n",
       "        <td style=\"padding-left: 1em; padding-right: 1em; text-align: center; vertical-align: top\">Tive Sim (Cartola)</td>\n",
       "    </tr>\n",
       "</table>\n",
       "[3 rows x 8 columns]<br/>\n",
       "</div>"
      ],
      "text/plain": [
       "Columns:\n",
       "\tuser\tstr\n",
       "\tsong_id\tstr\n",
       "\tplays\tint\n",
       "\ttitle\tstr\n",
       "\trelease\tstr\n",
       "\tartist_name\tstr\n",
       "\tyear\tint\n",
       "\tsong_name\tstr\n",
       "\n",
       "Rows: 3\n",
       "\n",
       "Data:\n",
       "+-------------------------------+--------------------+-------+\n",
       "|              user             |      song_id       | plays |\n",
       "+-------------------------------+--------------------+-------+\n",
       "| fd50c4007b68a3737fe052d5a4... | SOBONKR12A58A7A7E0 |   1   |\n",
       "| fd50c4007b68a3737fe052d5a4... | SOEGIYH12A6D4FC0E3 |   1   |\n",
       "| fd50c4007b68a3737fe052d5a4... | SOFLJQZ12A6D4FADA6 |   1   |\n",
       "+-------------------------------+--------------------+-------+\n",
       "+-------------------------------+-------------------------------+\n",
       "|             title             |            release            |\n",
       "+-------------------------------+-------------------------------+\n",
       "|         You're The One        |       If There Was A Way      |\n",
       "| Horn Concerto No. 4 in E f... | Mozart - Eine kleine Nacht... |\n",
       "|            Tive Sim           |        Nova Bis-Cartola       |\n",
       "+-------------------------------+-------------------------------+\n",
       "+-------------------------------+------+--------------------------------+\n",
       "|          artist_name          | year |           song_name            |\n",
       "+-------------------------------+------+--------------------------------+\n",
       "|         Dwight Yoakam         | 1990 | You're The One (Dwight Yoakam) |\n",
       "| Barry Tuckwell/Academy of ... |  0   | Horn Concerto No. 4 in E f...  |\n",
       "|            Cartola            | 1974 |       Tive Sim (Cartola)       |\n",
       "+-------------------------------+------+--------------------------------+\n",
       "[3 rows x 8 columns]"
      ]
     },
     "execution_count": 12,
     "metadata": {},
     "output_type": "execute_result"
    }
   ],
   "source": [
    "combo_songs.head(3)"
   ]
  },
  {
   "cell_type": "markdown",
   "metadata": {},
   "source": [
    "#### Song Recommendation\n",
    "The following is the training and testing of the song usage data.  The analysis includes both the user and the song information.    "
   ]
  },
  {
   "cell_type": "markdown",
   "metadata": {},
   "source": [
    "A recommender based on the plays from users will be created.  The recommender will suggest 5 songs for each user based on the feedback from other users."
   ]
  },
  {
   "cell_type": "code",
   "execution_count": 13,
   "metadata": {
    "collapsed": false
   },
   "outputs": [
    {
     "data": {
      "text/html": [
       "<pre>Recsys training: model = item_similarity</pre>"
      ],
      "text/plain": [
       "Recsys training: model = item_similarity"
      ]
     },
     "metadata": {},
     "output_type": "display_data"
    },
    {
     "data": {
      "text/html": [
       "<pre>Warning: Ignoring columns title, release, artist_name, year, song_name;</pre>"
      ],
      "text/plain": [
       "Warning: Ignoring columns title, release, artist_name, year, song_name;"
      ]
     },
     "metadata": {},
     "output_type": "display_data"
    },
    {
     "data": {
      "text/html": [
       "<pre>    To use these columns in scoring predictions, use a model that allows the use of additional features.</pre>"
      ],
      "text/plain": [
       "    To use these columns in scoring predictions, use a model that allows the use of additional features."
      ]
     },
     "metadata": {},
     "output_type": "display_data"
    },
    {
     "data": {
      "text/html": [
       "<pre>Preparing data set.</pre>"
      ],
      "text/plain": [
       "Preparing data set."
      ]
     },
     "metadata": {},
     "output_type": "display_data"
    },
    {
     "data": {
      "text/html": [
       "<pre>    Data has 1489352 observations with 110000 users and 163095 items.</pre>"
      ],
      "text/plain": [
       "    Data has 1489352 observations with 110000 users and 163095 items."
      ]
     },
     "metadata": {},
     "output_type": "display_data"
    },
    {
     "data": {
      "text/html": [
       "<pre>    Data prepared in: 1.589s</pre>"
      ],
      "text/plain": [
       "    Data prepared in: 1.589s"
      ]
     },
     "metadata": {},
     "output_type": "display_data"
    },
    {
     "data": {
      "text/html": [
       "<pre>Training model from provided data.</pre>"
      ],
      "text/plain": [
       "Training model from provided data."
      ]
     },
     "metadata": {},
     "output_type": "display_data"
    },
    {
     "data": {
      "text/html": [
       "<pre>Gathering per-item and per-user statistics.</pre>"
      ],
      "text/plain": [
       "Gathering per-item and per-user statistics."
      ]
     },
     "metadata": {},
     "output_type": "display_data"
    },
    {
     "data": {
      "text/html": [
       "<pre>+--------------------------------+------------+</pre>"
      ],
      "text/plain": [
       "+--------------------------------+------------+"
      ]
     },
     "metadata": {},
     "output_type": "display_data"
    },
    {
     "data": {
      "text/html": [
       "<pre>| Elapsed Time (Item Statistics) | % Complete |</pre>"
      ],
      "text/plain": [
       "| Elapsed Time (Item Statistics) | % Complete |"
      ]
     },
     "metadata": {},
     "output_type": "display_data"
    },
    {
     "data": {
      "text/html": [
       "<pre>+--------------------------------+------------+</pre>"
      ],
      "text/plain": [
       "+--------------------------------+------------+"
      ]
     },
     "metadata": {},
     "output_type": "display_data"
    },
    {
     "data": {
      "text/html": [
       "<pre>| 3.636ms                        | 0.75       |</pre>"
      ],
      "text/plain": [
       "| 3.636ms                        | 0.75       |"
      ]
     },
     "metadata": {},
     "output_type": "display_data"
    },
    {
     "data": {
      "text/html": [
       "<pre>| 48.46ms                        | 100        |</pre>"
      ],
      "text/plain": [
       "| 48.46ms                        | 100        |"
      ]
     },
     "metadata": {},
     "output_type": "display_data"
    },
    {
     "data": {
      "text/html": [
       "<pre>+--------------------------------+------------+</pre>"
      ],
      "text/plain": [
       "+--------------------------------+------------+"
      ]
     },
     "metadata": {},
     "output_type": "display_data"
    },
    {
     "data": {
      "text/html": [
       "<pre>Setting up lookup tables.</pre>"
      ],
      "text/plain": [
       "Setting up lookup tables."
      ]
     },
     "metadata": {},
     "output_type": "display_data"
    },
    {
     "data": {
      "text/html": [
       "<pre>Processing the 32 most common items by brute force search.</pre>"
      ],
      "text/plain": [
       "Processing the 32 most common items by brute force search."
      ]
     },
     "metadata": {},
     "output_type": "display_data"
    },
    {
     "data": {
      "text/html": [
       "<pre>Transposing user-item lists for use in nearest neighbor search.</pre>"
      ],
      "text/plain": [
       "Transposing user-item lists for use in nearest neighbor search."
      ]
     },
     "metadata": {},
     "output_type": "display_data"
    },
    {
     "data": {
      "text/html": [
       "<pre>+------------------------------------+------------+</pre>"
      ],
      "text/plain": [
       "+------------------------------------+------------+"
      ]
     },
     "metadata": {},
     "output_type": "display_data"
    },
    {
     "data": {
      "text/html": [
       "<pre>| Elapsed Time (Data Transposition)) | % Complete |</pre>"
      ],
      "text/plain": [
       "| Elapsed Time (Data Transposition)) | % Complete |"
      ]
     },
     "metadata": {},
     "output_type": "display_data"
    },
    {
     "data": {
      "text/html": [
       "<pre>+------------------------------------+------------+</pre>"
      ],
      "text/plain": [
       "+------------------------------------+------------+"
      ]
     },
     "metadata": {},
     "output_type": "display_data"
    },
    {
     "data": {
      "text/html": [
       "<pre>| 15.682ms                           | 0          |</pre>"
      ],
      "text/plain": [
       "| 15.682ms                           | 0          |"
      ]
     },
     "metadata": {},
     "output_type": "display_data"
    },
    {
     "data": {
      "text/html": [
       "<pre>| 367.691ms                          | 100        |</pre>"
      ],
      "text/plain": [
       "| 367.691ms                          | 100        |"
      ]
     },
     "metadata": {},
     "output_type": "display_data"
    },
    {
     "data": {
      "text/html": [
       "<pre>+------------------------------------+------------+</pre>"
      ],
      "text/plain": [
       "+------------------------------------+------------+"
      ]
     },
     "metadata": {},
     "output_type": "display_data"
    },
    {
     "data": {
      "text/html": [
       "<pre>+-------------------------------------+------------------+-----------------+</pre>"
      ],
      "text/plain": [
       "+-------------------------------------+------------------+-----------------+"
      ]
     },
     "metadata": {},
     "output_type": "display_data"
    },
    {
     "data": {
      "text/html": [
       "<pre>| Elapsed Time (Constructing Lookups) | Total % Complete | Items Processed |</pre>"
      ],
      "text/plain": [
       "| Elapsed Time (Constructing Lookups) | Total % Complete | Items Processed |"
      ]
     },
     "metadata": {},
     "output_type": "display_data"
    },
    {
     "data": {
      "text/html": [
       "<pre>+-------------------------------------+------------------+-----------------+</pre>"
      ],
      "text/plain": [
       "+-------------------------------------+------------------+-----------------+"
      ]
     },
     "metadata": {},
     "output_type": "display_data"
    },
    {
     "data": {
      "text/html": [
       "<pre>| 466.835ms                           | 0                | 0               |</pre>"
      ],
      "text/plain": [
       "| 466.835ms                           | 0                | 0               |"
      ]
     },
     "metadata": {},
     "output_type": "display_data"
    },
    {
     "data": {
      "text/html": [
       "<pre>+-------------------------------------+------------------+-----------------+</pre>"
      ],
      "text/plain": [
       "+-------------------------------------+------------------+-----------------+"
      ]
     },
     "metadata": {},
     "output_type": "display_data"
    },
    {
     "data": {
      "text/html": [
       "<pre>Processing data in one pass using sparse lookup tables.</pre>"
      ],
      "text/plain": [
       "Processing data in one pass using sparse lookup tables."
      ]
     },
     "metadata": {},
     "output_type": "display_data"
    },
    {
     "data": {
      "text/html": [
       "<pre>+-------------------------------------+------------------+-----------------+</pre>"
      ],
      "text/plain": [
       "+-------------------------------------+------------------+-----------------+"
      ]
     },
     "metadata": {},
     "output_type": "display_data"
    },
    {
     "data": {
      "text/html": [
       "<pre>| Elapsed Time (Constructing Lookups) | Total % Complete | Items Processed |</pre>"
      ],
      "text/plain": [
       "| Elapsed Time (Constructing Lookups) | Total % Complete | Items Processed |"
      ]
     },
     "metadata": {},
     "output_type": "display_data"
    },
    {
     "data": {
      "text/html": [
       "<pre>+-------------------------------------+------------------+-----------------+</pre>"
      ],
      "text/plain": [
       "+-------------------------------------+------------------+-----------------+"
      ]
     },
     "metadata": {},
     "output_type": "display_data"
    },
    {
     "data": {
      "text/html": [
       "<pre>| 1.46s                               | 25.5             | 41898           |</pre>"
      ],
      "text/plain": [
       "| 1.46s                               | 25.5             | 41898           |"
      ]
     },
     "metadata": {},
     "output_type": "display_data"
    },
    {
     "data": {
      "text/html": [
       "<pre>| 2.47s                               | 90               | 146947          |</pre>"
      ],
      "text/plain": [
       "| 2.47s                               | 90               | 146947          |"
      ]
     },
     "metadata": {},
     "output_type": "display_data"
    },
    {
     "data": {
      "text/html": [
       "<pre>| 3.03s                               | 100              | 163095          |</pre>"
      ],
      "text/plain": [
       "| 3.03s                               | 100              | 163095          |"
      ]
     },
     "metadata": {},
     "output_type": "display_data"
    },
    {
     "data": {
      "text/html": [
       "<pre>+-------------------------------------+------------------+-----------------+</pre>"
      ],
      "text/plain": [
       "+-------------------------------------+------------------+-----------------+"
      ]
     },
     "metadata": {},
     "output_type": "display_data"
    },
    {
     "data": {
      "text/html": [
       "<pre>Finalizing lookup tables.</pre>"
      ],
      "text/plain": [
       "Finalizing lookup tables."
      ]
     },
     "metadata": {},
     "output_type": "display_data"
    },
    {
     "data": {
      "text/html": [
       "<pre>Generating candidate set for working with new users.</pre>"
      ],
      "text/plain": [
       "Generating candidate set for working with new users."
      ]
     },
     "metadata": {},
     "output_type": "display_data"
    },
    {
     "data": {
      "text/html": [
       "<pre>Finished training in 4.21949s</pre>"
      ],
      "text/plain": [
       "Finished training in 4.21949s"
      ]
     },
     "metadata": {},
     "output_type": "display_data"
    },
    {
     "name": "stdout",
     "output_type": "stream",
     "text": [
      "\n",
      "Precision and recall summary statistics by cutoff\n",
      "+--------+------------------+------------------+\n",
      "| cutoff |  mean_precision  |   mean_recall    |\n",
      "+--------+------------------+------------------+\n",
      "|   1    | 0.00463499420626 | 0.00225955967555 |\n",
      "|   2    | 0.00463499420626 | 0.00414252607184 |\n",
      "|   3    | 0.00502124372345 | 0.00643243392374 |\n",
      "|   4    | 0.00463499420626 | 0.0074808254704  |\n",
      "|   5    | 0.00393974507532 | 0.00786707498758 |\n",
      "|   6    | 0.00347624565469 | 0.00815676212548 |\n",
      "|   7    | 0.00430392319152 | 0.0116054185289  |\n",
      "|   8    | 0.00420046349942 | 0.0124551674668  |\n",
      "|   9    | 0.00424874468907 |  0.015517574353  |\n",
      "|   10   | 0.00428736964079 | 0.0161079135876  |\n",
      "+--------+------------------+------------------+\n",
      "[10 rows x 3 columns]\n",
      "\n",
      "('\\nOverall RMSE: ', 6.278726095375254)\n",
      "\n",
      "Per User RMSE (best)\n",
      "+-------------------------------+-------+----------------+\n",
      "|              user             | count |      rmse      |\n",
      "+-------------------------------+-------+----------------+\n",
      "| 61b79361ff80fe57a95015f19b... |   1   | 0.624539837241 |\n",
      "+-------------------------------+-------+----------------+\n",
      "[1 rows x 3 columns]\n",
      "\n",
      "\n",
      "Per User RMSE (worst)\n",
      "+-------------------------------+-------+--------------+\n",
      "|              user             | count |     rmse     |\n",
      "+-------------------------------+-------+--------------+\n",
      "| 617ed2dd7af6b88f157d6fdfa9... |   2   | 49.244289009 |\n",
      "+-------------------------------+-------+--------------+\n",
      "[1 rows x 3 columns]\n",
      "\n",
      "\n",
      "Per Item RMSE (best)\n",
      "+--------------------+-------+----------------+\n",
      "|      song_id       | count |      rmse      |\n",
      "+--------------------+-------+----------------+\n",
      "| SONWILZ12A8C1362B5 |   1   | 0.457430371216 |\n",
      "+--------------------+-------+----------------+\n",
      "[1 rows x 3 columns]\n",
      "\n",
      "\n",
      "Per Item RMSE (worst)\n",
      "+--------------------+-------+------+\n",
      "|      song_id       | count | rmse |\n",
      "+--------------------+-------+------+\n",
      "| SOYAIPB12A8C143D84 |   1   | 75.0 |\n",
      "+--------------------+-------+------+\n",
      "[1 rows x 3 columns]\n",
      "\n",
      "dict_keys(['rmse_by_user', 'precision_recall_overall', 'rmse_by_item', 'precision_recall_by_user', 'rmse_overall'])\n"
     ]
    }
   ],
   "source": [
    "train_song, test_song = gl.recommender.util.random_split_by_user(combo_songs,\n",
    "                                                      user_id=\"user\", item_id=\"song_id\",\n",
    "                                                      item_test_proportion=0.2)\n",
    "\n",
    "song_rec = gl.recommender.item_similarity_recommender.create(train_song,\n",
    "                                                             user_id=\"user\",\n",
    "                                                             item_id=\"song_id\",\n",
    "                                                             target=\"plays\",\n",
    "                                                             only_top_k=5,\n",
    "                                                             similarity_type=\"cosine\")\n",
    "\n",
    "rmse_results = song_rec.evaluate(test_song)\n",
    "\n",
    "print rmse_results.viewkeys()"
   ]
  },
  {
   "cell_type": "code",
   "execution_count": 14,
   "metadata": {
    "collapsed": false
   },
   "outputs": [
    {
     "data": {
      "text/plain": [
       "6.278726095375254"
      ]
     },
     "execution_count": 14,
     "metadata": {},
     "output_type": "execute_result"
    }
   ],
   "source": [
    "rmse_results['rmse_overall']"
   ]
  },
  {
   "cell_type": "code",
   "execution_count": 16,
   "metadata": {
    "collapsed": false
   },
   "outputs": [
    {
     "data": {
      "text/html": [
       "<div style=\"max-height:1000px;max-width:1500px;overflow:auto;\"><table frame=\"box\" rules=\"cols\">\n",
       "    <tr>\n",
       "        <th style=\"padding-left: 1em; padding-right: 1em; text-align: center\">user</th>\n",
       "        <th style=\"padding-left: 1em; padding-right: 1em; text-align: center\">count</th>\n",
       "        <th style=\"padding-left: 1em; padding-right: 1em; text-align: center\">rmse</th>\n",
       "    </tr>\n",
       "    <tr>\n",
       "        <td style=\"padding-left: 1em; padding-right: 1em; text-align: center; vertical-align: top\">c174d59c27220c94999bf67cd<br>98fd3eca67f7ab0 ...</td>\n",
       "        <td style=\"padding-left: 1em; padding-right: 1em; text-align: center; vertical-align: top\">4</td>\n",
       "        <td style=\"padding-left: 1em; padding-right: 1em; text-align: center; vertical-align: top\">1.0</td>\n",
       "    </tr>\n",
       "    <tr>\n",
       "        <td style=\"padding-left: 1em; padding-right: 1em; text-align: center; vertical-align: top\">1be569aefb976bae9aa6a29af<br>47db2e8d666dcd2 ...</td>\n",
       "        <td style=\"padding-left: 1em; padding-right: 1em; text-align: center; vertical-align: top\">9</td>\n",
       "        <td style=\"padding-left: 1em; padding-right: 1em; text-align: center; vertical-align: top\">4.20317340431</td>\n",
       "    </tr>\n",
       "    <tr>\n",
       "        <td style=\"padding-left: 1em; padding-right: 1em; text-align: center; vertical-align: top\">e8f5730a122c64e706a3fb9b4<br>7dc33d30d1e4c18 ...</td>\n",
       "        <td style=\"padding-left: 1em; padding-right: 1em; text-align: center; vertical-align: top\">8</td>\n",
       "        <td style=\"padding-left: 1em; padding-right: 1em; text-align: center; vertical-align: top\">3.42336455287</td>\n",
       "    </tr>\n",
       "    <tr>\n",
       "        <td style=\"padding-left: 1em; padding-right: 1em; text-align: center; vertical-align: top\">9b9fb6acabe8bdde3012ddc21<br>626c435e62bc077 ...</td>\n",
       "        <td style=\"padding-left: 1em; padding-right: 1em; text-align: center; vertical-align: top\">7</td>\n",
       "        <td style=\"padding-left: 1em; padding-right: 1em; text-align: center; vertical-align: top\">1.88982236505</td>\n",
       "    </tr>\n",
       "</table>\n",
       "[4 rows x 3 columns]<br/>\n",
       "</div>"
      ],
      "text/plain": [
       "Columns:\n",
       "\tuser\tstr\n",
       "\tcount\tint\n",
       "\trmse\tfloat\n",
       "\n",
       "Rows: 4\n",
       "\n",
       "Data:\n",
       "+-------------------------------+-------+---------------+\n",
       "|              user             | count |      rmse     |\n",
       "+-------------------------------+-------+---------------+\n",
       "| c174d59c27220c94999bf67cd9... |   4   |      1.0      |\n",
       "| 1be569aefb976bae9aa6a29af4... |   9   | 4.20317340431 |\n",
       "| e8f5730a122c64e706a3fb9b47... |   8   | 3.42336455287 |\n",
       "| 9b9fb6acabe8bdde3012ddc216... |   7   | 1.88982236505 |\n",
       "+-------------------------------+-------+---------------+\n",
       "[4 rows x 3 columns]"
      ]
     },
     "execution_count": 16,
     "metadata": {},
     "output_type": "execute_result"
    }
   ],
   "source": [
    "rmse_results['rmse_by_user'].head(4)"
   ]
  },
  {
   "cell_type": "code",
   "execution_count": 17,
   "metadata": {
    "collapsed": false
   },
   "outputs": [
    {
     "data": {
      "text/html": [
       "<div style=\"max-height:1000px;max-width:1500px;overflow:auto;\"><table frame=\"box\" rules=\"cols\">\n",
       "    <tr>\n",
       "        <th style=\"padding-left: 1em; padding-right: 1em; text-align: center\">song_id</th>\n",
       "        <th style=\"padding-left: 1em; padding-right: 1em; text-align: center\">count</th>\n",
       "        <th style=\"padding-left: 1em; padding-right: 1em; text-align: center\">rmse</th>\n",
       "    </tr>\n",
       "    <tr>\n",
       "        <td style=\"padding-left: 1em; padding-right: 1em; text-align: center; vertical-align: top\">SOEKEWC12A8C132A59</td>\n",
       "        <td style=\"padding-left: 1em; padding-right: 1em; text-align: center; vertical-align: top\">1</td>\n",
       "        <td style=\"padding-left: 1em; padding-right: 1em; text-align: center; vertical-align: top\">1.0</td>\n",
       "    </tr>\n",
       "    <tr>\n",
       "        <td style=\"padding-left: 1em; padding-right: 1em; text-align: center; vertical-align: top\">SOQIPYO12AAF3B5B1D</td>\n",
       "        <td style=\"padding-left: 1em; padding-right: 1em; text-align: center; vertical-align: top\">1</td>\n",
       "        <td style=\"padding-left: 1em; padding-right: 1em; text-align: center; vertical-align: top\">10.0</td>\n",
       "    </tr>\n",
       "    <tr>\n",
       "        <td style=\"padding-left: 1em; padding-right: 1em; text-align: center; vertical-align: top\">SOYIOZB12A58A797FC</td>\n",
       "        <td style=\"padding-left: 1em; padding-right: 1em; text-align: center; vertical-align: top\">1</td>\n",
       "        <td style=\"padding-left: 1em; padding-right: 1em; text-align: center; vertical-align: top\">4.0</td>\n",
       "    </tr>\n",
       "    <tr>\n",
       "        <td style=\"padding-left: 1em; padding-right: 1em; text-align: center; vertical-align: top\">SOSZAST12A6D4F6245</td>\n",
       "        <td style=\"padding-left: 1em; padding-right: 1em; text-align: center; vertical-align: top\">1</td>\n",
       "        <td style=\"padding-left: 1em; padding-right: 1em; text-align: center; vertical-align: top\">2.0</td>\n",
       "    </tr>\n",
       "</table>\n",
       "[4 rows x 3 columns]<br/>\n",
       "</div>"
      ],
      "text/plain": [
       "Columns:\n",
       "\tsong_id\tstr\n",
       "\tcount\tint\n",
       "\trmse\tfloat\n",
       "\n",
       "Rows: 4\n",
       "\n",
       "Data:\n",
       "+--------------------+-------+------+\n",
       "|      song_id       | count | rmse |\n",
       "+--------------------+-------+------+\n",
       "| SOEKEWC12A8C132A59 |   1   | 1.0  |\n",
       "| SOQIPYO12AAF3B5B1D |   1   | 10.0 |\n",
       "| SOYIOZB12A58A797FC |   1   | 4.0  |\n",
       "| SOSZAST12A6D4F6245 |   1   | 2.0  |\n",
       "+--------------------+-------+------+\n",
       "[4 rows x 3 columns]"
      ]
     },
     "execution_count": 17,
     "metadata": {},
     "output_type": "execute_result"
    }
   ],
   "source": [
    "rmse_results['rmse_by_item'].head(4)"
   ]
  },
  {
   "cell_type": "code",
   "execution_count": 25,
   "metadata": {
    "collapsed": false
   },
   "outputs": [
    {
     "data": {
      "text/html": [
       "<pre>Recsys training: model = item_similarity</pre>"
      ],
      "text/plain": [
       "Recsys training: model = item_similarity"
      ]
     },
     "metadata": {},
     "output_type": "display_data"
    },
    {
     "data": {
      "text/html": [
       "<pre>Warning: Ignoring columns title, release, artist_name, year, song_name;</pre>"
      ],
      "text/plain": [
       "Warning: Ignoring columns title, release, artist_name, year, song_name;"
      ]
     },
     "metadata": {},
     "output_type": "display_data"
    },
    {
     "data": {
      "text/html": [
       "<pre>    To use these columns in scoring predictions, use a model that allows the use of additional features.</pre>"
      ],
      "text/plain": [
       "    To use these columns in scoring predictions, use a model that allows the use of additional features."
      ]
     },
     "metadata": {},
     "output_type": "display_data"
    },
    {
     "data": {
      "text/html": [
       "<pre>Preparing data set.</pre>"
      ],
      "text/plain": [
       "Preparing data set."
      ]
     },
     "metadata": {},
     "output_type": "display_data"
    },
    {
     "data": {
      "text/html": [
       "<pre>    Data has 1489352 observations with 110000 users and 163095 items.</pre>"
      ],
      "text/plain": [
       "    Data has 1489352 observations with 110000 users and 163095 items."
      ]
     },
     "metadata": {},
     "output_type": "display_data"
    },
    {
     "data": {
      "text/html": [
       "<pre>    Data prepared in: 1.38976s</pre>"
      ],
      "text/plain": [
       "    Data prepared in: 1.38976s"
      ]
     },
     "metadata": {},
     "output_type": "display_data"
    },
    {
     "data": {
      "text/html": [
       "<pre>Training model from provided data.</pre>"
      ],
      "text/plain": [
       "Training model from provided data."
      ]
     },
     "metadata": {},
     "output_type": "display_data"
    },
    {
     "data": {
      "text/html": [
       "<pre>Gathering per-item and per-user statistics.</pre>"
      ],
      "text/plain": [
       "Gathering per-item and per-user statistics."
      ]
     },
     "metadata": {},
     "output_type": "display_data"
    },
    {
     "data": {
      "text/html": [
       "<pre>+--------------------------------+------------+</pre>"
      ],
      "text/plain": [
       "+--------------------------------+------------+"
      ]
     },
     "metadata": {},
     "output_type": "display_data"
    },
    {
     "data": {
      "text/html": [
       "<pre>| Elapsed Time (Item Statistics) | % Complete |</pre>"
      ],
      "text/plain": [
       "| Elapsed Time (Item Statistics) | % Complete |"
      ]
     },
     "metadata": {},
     "output_type": "display_data"
    },
    {
     "data": {
      "text/html": [
       "<pre>+--------------------------------+------------+</pre>"
      ],
      "text/plain": [
       "+--------------------------------+------------+"
      ]
     },
     "metadata": {},
     "output_type": "display_data"
    },
    {
     "data": {
      "text/html": [
       "<pre>| 1.262ms                        | 0.75       |</pre>"
      ],
      "text/plain": [
       "| 1.262ms                        | 0.75       |"
      ]
     },
     "metadata": {},
     "output_type": "display_data"
    },
    {
     "data": {
      "text/html": [
       "<pre>| 61.428ms                       | 100        |</pre>"
      ],
      "text/plain": [
       "| 61.428ms                       | 100        |"
      ]
     },
     "metadata": {},
     "output_type": "display_data"
    },
    {
     "data": {
      "text/html": [
       "<pre>+--------------------------------+------------+</pre>"
      ],
      "text/plain": [
       "+--------------------------------+------------+"
      ]
     },
     "metadata": {},
     "output_type": "display_data"
    },
    {
     "data": {
      "text/html": [
       "<pre>Setting up lookup tables.</pre>"
      ],
      "text/plain": [
       "Setting up lookup tables."
      ]
     },
     "metadata": {},
     "output_type": "display_data"
    },
    {
     "data": {
      "text/html": [
       "<pre>Processing the 32 most common items by brute force search.</pre>"
      ],
      "text/plain": [
       "Processing the 32 most common items by brute force search."
      ]
     },
     "metadata": {},
     "output_type": "display_data"
    },
    {
     "data": {
      "text/html": [
       "<pre>Transposing user-item lists for use in nearest neighbor search.</pre>"
      ],
      "text/plain": [
       "Transposing user-item lists for use in nearest neighbor search."
      ]
     },
     "metadata": {},
     "output_type": "display_data"
    },
    {
     "data": {
      "text/html": [
       "<pre>+------------------------------------+------------+</pre>"
      ],
      "text/plain": [
       "+------------------------------------+------------+"
      ]
     },
     "metadata": {},
     "output_type": "display_data"
    },
    {
     "data": {
      "text/html": [
       "<pre>| Elapsed Time (Data Transposition)) | % Complete |</pre>"
      ],
      "text/plain": [
       "| Elapsed Time (Data Transposition)) | % Complete |"
      ]
     },
     "metadata": {},
     "output_type": "display_data"
    },
    {
     "data": {
      "text/html": [
       "<pre>+------------------------------------+------------+</pre>"
      ],
      "text/plain": [
       "+------------------------------------+------------+"
      ]
     },
     "metadata": {},
     "output_type": "display_data"
    },
    {
     "data": {
      "text/html": [
       "<pre>| 17.843ms                           | 0          |</pre>"
      ],
      "text/plain": [
       "| 17.843ms                           | 0          |"
      ]
     },
     "metadata": {},
     "output_type": "display_data"
    },
    {
     "data": {
      "text/html": [
       "<pre>| 343.022ms                          | 100        |</pre>"
      ],
      "text/plain": [
       "| 343.022ms                          | 100        |"
      ]
     },
     "metadata": {},
     "output_type": "display_data"
    },
    {
     "data": {
      "text/html": [
       "<pre>+------------------------------------+------------+</pre>"
      ],
      "text/plain": [
       "+------------------------------------+------------+"
      ]
     },
     "metadata": {},
     "output_type": "display_data"
    },
    {
     "data": {
      "text/html": [
       "<pre>+-------------------------------------+------------------+-----------------+</pre>"
      ],
      "text/plain": [
       "+-------------------------------------+------------------+-----------------+"
      ]
     },
     "metadata": {},
     "output_type": "display_data"
    },
    {
     "data": {
      "text/html": [
       "<pre>| Elapsed Time (Constructing Lookups) | Total % Complete | Items Processed |</pre>"
      ],
      "text/plain": [
       "| Elapsed Time (Constructing Lookups) | Total % Complete | Items Processed |"
      ]
     },
     "metadata": {},
     "output_type": "display_data"
    },
    {
     "data": {
      "text/html": [
       "<pre>+-------------------------------------+------------------+-----------------+</pre>"
      ],
      "text/plain": [
       "+-------------------------------------+------------------+-----------------+"
      ]
     },
     "metadata": {},
     "output_type": "display_data"
    },
    {
     "data": {
      "text/html": [
       "<pre>| 464.289ms                           | 0                | 0               |</pre>"
      ],
      "text/plain": [
       "| 464.289ms                           | 0                | 0               |"
      ]
     },
     "metadata": {},
     "output_type": "display_data"
    },
    {
     "data": {
      "text/html": [
       "<pre>+-------------------------------------+------------------+-----------------+</pre>"
      ],
      "text/plain": [
       "+-------------------------------------+------------------+-----------------+"
      ]
     },
     "metadata": {},
     "output_type": "display_data"
    },
    {
     "data": {
      "text/html": [
       "<pre>Processing data in one pass using sparse lookup tables.</pre>"
      ],
      "text/plain": [
       "Processing data in one pass using sparse lookup tables."
      ]
     },
     "metadata": {},
     "output_type": "display_data"
    },
    {
     "data": {
      "text/html": [
       "<pre>+-------------------------------------+------------------+-----------------+</pre>"
      ],
      "text/plain": [
       "+-------------------------------------+------------------+-----------------+"
      ]
     },
     "metadata": {},
     "output_type": "display_data"
    },
    {
     "data": {
      "text/html": [
       "<pre>| Elapsed Time (Constructing Lookups) | Total % Complete | Items Processed |</pre>"
      ],
      "text/plain": [
       "| Elapsed Time (Constructing Lookups) | Total % Complete | Items Processed |"
      ]
     },
     "metadata": {},
     "output_type": "display_data"
    },
    {
     "data": {
      "text/html": [
       "<pre>+-------------------------------------+------------------+-----------------+</pre>"
      ],
      "text/plain": [
       "+-------------------------------------+------------------+-----------------+"
      ]
     },
     "metadata": {},
     "output_type": "display_data"
    },
    {
     "data": {
      "text/html": [
       "<pre>| 1.47s                               | 18.75            | 30831           |</pre>"
      ],
      "text/plain": [
       "| 1.47s                               | 18.75            | 30831           |"
      ]
     },
     "metadata": {},
     "output_type": "display_data"
    },
    {
     "data": {
      "text/html": [
       "<pre>| 2.47s                               | 62.75            | 102634          |</pre>"
      ],
      "text/plain": [
       "| 2.47s                               | 62.75            | 102634          |"
      ]
     },
     "metadata": {},
     "output_type": "display_data"
    },
    {
     "data": {
      "text/html": [
       "<pre>| 3.47s                               | 88               | 143701          |</pre>"
      ],
      "text/plain": [
       "| 3.47s                               | 88               | 143701          |"
      ]
     },
     "metadata": {},
     "output_type": "display_data"
    },
    {
     "data": {
      "text/html": [
       "<pre>| 4.27s                               | 100              | 163095          |</pre>"
      ],
      "text/plain": [
       "| 4.27s                               | 100              | 163095          |"
      ]
     },
     "metadata": {},
     "output_type": "display_data"
    },
    {
     "data": {
      "text/html": [
       "<pre>+-------------------------------------+------------------+-----------------+</pre>"
      ],
      "text/plain": [
       "+-------------------------------------+------------------+-----------------+"
      ]
     },
     "metadata": {},
     "output_type": "display_data"
    },
    {
     "data": {
      "text/html": [
       "<pre>Finalizing lookup tables.</pre>"
      ],
      "text/plain": [
       "Finalizing lookup tables."
      ]
     },
     "metadata": {},
     "output_type": "display_data"
    },
    {
     "data": {
      "text/html": [
       "<pre>Generating candidate set for working with new users.</pre>"
      ],
      "text/plain": [
       "Generating candidate set for working with new users."
      ]
     },
     "metadata": {},
     "output_type": "display_data"
    },
    {
     "data": {
      "text/html": [
       "<pre>Finished training in 4.39432s</pre>"
      ],
      "text/plain": [
       "Finished training in 4.39432s"
      ]
     },
     "metadata": {},
     "output_type": "display_data"
    },
    {
     "name": "stdout",
     "output_type": "stream",
     "text": [
      "\n",
      "Precision and recall summary statistics by cutoff\n",
      "+--------+----------------+-------------+\n",
      "| cutoff | mean_precision | mean_recall |\n",
      "+--------+----------------+-------------+\n",
      "|   1    |      0.0       |     0.0     |\n",
      "|   2    |      0.0       |     0.0     |\n",
      "|   3    |      0.0       |     0.0     |\n",
      "|   4    |      0.0       |     0.0     |\n",
      "|   5    |      0.0       |     0.0     |\n",
      "|   6    |      0.0       |     0.0     |\n",
      "|   7    |      0.0       |     0.0     |\n",
      "|   8    |      0.0       |     0.0     |\n",
      "|   9    |      0.0       |     0.0     |\n",
      "|   10   |      0.0       |     0.0     |\n",
      "+--------+----------------+-------------+\n",
      "[10 rows x 3 columns]\n",
      "\n",
      "('\\nOverall RMSE: ', 5.471660027577793)\n",
      "\n",
      "Per User RMSE (best)\n",
      "+-------------------------------+-------+------+\n",
      "|              user             | count | rmse |\n",
      "+-------------------------------+-------+------+\n",
      "| bb560bb8852897da731e52705e... |   1   | 0.0  |\n",
      "+-------------------------------+-------+------+\n",
      "[1 rows x 3 columns]\n",
      "\n",
      "\n",
      "Per User RMSE (worst)\n",
      "+-------------------------------+-------+------+\n",
      "|              user             | count | rmse |\n",
      "+-------------------------------+-------+------+\n",
      "| 8f06aa5ffa214dac220c131dca... |   1   | 47.0 |\n",
      "+-------------------------------+-------+------+\n",
      "[1 rows x 3 columns]\n",
      "\n",
      "\n",
      "Per Item RMSE (best)\n",
      "+--------------------+-------+------+\n",
      "|      song_id       | count | rmse |\n",
      "+--------------------+-------+------+\n",
      "| SOMWKUX12A8C133BC1 |   1   | 0.0  |\n",
      "+--------------------+-------+------+\n",
      "[1 rows x 3 columns]\n",
      "\n",
      "\n",
      "Per Item RMSE (worst)\n",
      "+--------------------+-------+---------------+\n",
      "|      song_id       | count |      rmse     |\n",
      "+--------------------+-------+---------------+\n",
      "| SOYAIPB12A8C143D84 |   1   | 71.3821138211 |\n",
      "+--------------------+-------+---------------+\n",
      "[1 rows x 3 columns]\n",
      "\n"
     ]
    },
    {
     "data": {
      "text/plain": [
       "dict_keys(['rmse_by_user', 'precision_recall_overall', 'rmse_by_item', 'precision_recall_by_user', 'rmse_overall'])"
      ]
     },
     "execution_count": 25,
     "metadata": {},
     "output_type": "execute_result"
    }
   ],
   "source": [
    "train_song, test_song = gl.recommender.util.random_split_by_user(combo_songs,\n",
    "                                                      user_id=\"user\", item_id=\"song_id\",\n",
    "                                                      item_test_proportion=0.2)\n",
    "\n",
    "song_rec = gl.recommender.item_similarity_recommender.create(train_song,\n",
    "                                                             user_id=\"user\",\n",
    "                                                             item_id=\"song_id\",\n",
    "                                                             target=\"plays\",\n",
    "                                                             only_top_k=5,\n",
    "                                                             similarity_type=\"pearson\")\n",
    "\n",
    "rmse_results = song_rec.evaluate(test_song)\n",
    "\n",
    "rmse_results.viewkeys()"
   ]
  },
  {
   "cell_type": "code",
   "execution_count": 19,
   "metadata": {
    "collapsed": false
   },
   "outputs": [
    {
     "data": {
      "text/plain": [
       "5.4716600275776"
      ]
     },
     "execution_count": 19,
     "metadata": {},
     "output_type": "execute_result"
    }
   ],
   "source": [
    "rmse_results['rmse_overall']"
   ]
  },
  {
   "cell_type": "code",
   "execution_count": 21,
   "metadata": {
    "collapsed": false
   },
   "outputs": [
    {
     "data": {
      "text/html": [
       "<div style=\"max-height:1000px;max-width:1500px;overflow:auto;\"><table frame=\"box\" rules=\"cols\">\n",
       "    <tr>\n",
       "        <th style=\"padding-left: 1em; padding-right: 1em; text-align: center\">user</th>\n",
       "        <th style=\"padding-left: 1em; padding-right: 1em; text-align: center\">count</th>\n",
       "        <th style=\"padding-left: 1em; padding-right: 1em; text-align: center\">rmse</th>\n",
       "    </tr>\n",
       "    <tr>\n",
       "        <td style=\"padding-left: 1em; padding-right: 1em; text-align: center; vertical-align: top\">c174d59c27220c94999bf67cd<br>98fd3eca67f7ab0 ...</td>\n",
       "        <td style=\"padding-left: 1em; padding-right: 1em; text-align: center; vertical-align: top\">4</td>\n",
       "        <td style=\"padding-left: 1em; padding-right: 1em; text-align: center; vertical-align: top\">1.63401832999</td>\n",
       "    </tr>\n",
       "    <tr>\n",
       "        <td style=\"padding-left: 1em; padding-right: 1em; text-align: center; vertical-align: top\">1be569aefb976bae9aa6a29af<br>47db2e8d666dcd2 ...</td>\n",
       "        <td style=\"padding-left: 1em; padding-right: 1em; text-align: center; vertical-align: top\">9</td>\n",
       "        <td style=\"padding-left: 1em; padding-right: 1em; text-align: center; vertical-align: top\">2.04651934683</td>\n",
       "    </tr>\n",
       "    <tr>\n",
       "        <td style=\"padding-left: 1em; padding-right: 1em; text-align: center; vertical-align: top\">e8f5730a122c64e706a3fb9b4<br>7dc33d30d1e4c18 ...</td>\n",
       "        <td style=\"padding-left: 1em; padding-right: 1em; text-align: center; vertical-align: top\">8</td>\n",
       "        <td style=\"padding-left: 1em; padding-right: 1em; text-align: center; vertical-align: top\">3.12925062706</td>\n",
       "    </tr>\n",
       "    <tr>\n",
       "        <td style=\"padding-left: 1em; padding-right: 1em; text-align: center; vertical-align: top\">9b9fb6acabe8bdde3012ddc21<br>626c435e62bc077 ...</td>\n",
       "        <td style=\"padding-left: 1em; padding-right: 1em; text-align: center; vertical-align: top\">7</td>\n",
       "        <td style=\"padding-left: 1em; padding-right: 1em; text-align: center; vertical-align: top\">1.9644652305</td>\n",
       "    </tr>\n",
       "</table>\n",
       "[4 rows x 3 columns]<br/>\n",
       "</div>"
      ],
      "text/plain": [
       "Columns:\n",
       "\tuser\tstr\n",
       "\tcount\tint\n",
       "\trmse\tfloat\n",
       "\n",
       "Rows: 4\n",
       "\n",
       "Data:\n",
       "+-------------------------------+-------+---------------+\n",
       "|              user             | count |      rmse     |\n",
       "+-------------------------------+-------+---------------+\n",
       "| c174d59c27220c94999bf67cd9... |   4   | 1.63401832999 |\n",
       "| 1be569aefb976bae9aa6a29af4... |   9   | 2.04651934683 |\n",
       "| e8f5730a122c64e706a3fb9b47... |   8   | 3.12925062706 |\n",
       "| 9b9fb6acabe8bdde3012ddc216... |   7   |  1.9644652305 |\n",
       "+-------------------------------+-------+---------------+\n",
       "[4 rows x 3 columns]"
      ]
     },
     "execution_count": 21,
     "metadata": {},
     "output_type": "execute_result"
    }
   ],
   "source": [
    "rmse_results['rmse_by_user'].head(4)"
   ]
  },
  {
   "cell_type": "code",
   "execution_count": 22,
   "metadata": {
    "collapsed": false
   },
   "outputs": [
    {
     "data": {
      "text/html": [
       "<div style=\"max-height:1000px;max-width:1500px;overflow:auto;\"><table frame=\"box\" rules=\"cols\">\n",
       "    <tr>\n",
       "        <th style=\"padding-left: 1em; padding-right: 1em; text-align: center\">song_id</th>\n",
       "        <th style=\"padding-left: 1em; padding-right: 1em; text-align: center\">count</th>\n",
       "        <th style=\"padding-left: 1em; padding-right: 1em; text-align: center\">rmse</th>\n",
       "    </tr>\n",
       "    <tr>\n",
       "        <td style=\"padding-left: 1em; padding-right: 1em; text-align: center; vertical-align: top\">SOEKEWC12A8C132A59</td>\n",
       "        <td style=\"padding-left: 1em; padding-right: 1em; text-align: center; vertical-align: top\">1</td>\n",
       "        <td style=\"padding-left: 1em; padding-right: 1em; text-align: center; vertical-align: top\">2.75925925926</td>\n",
       "    </tr>\n",
       "    <tr>\n",
       "        <td style=\"padding-left: 1em; padding-right: 1em; text-align: center; vertical-align: top\">SOQIPYO12AAF3B5B1D</td>\n",
       "        <td style=\"padding-left: 1em; padding-right: 1em; text-align: center; vertical-align: top\">1</td>\n",
       "        <td style=\"padding-left: 1em; padding-right: 1em; text-align: center; vertical-align: top\">6.83146067416</td>\n",
       "    </tr>\n",
       "    <tr>\n",
       "        <td style=\"padding-left: 1em; padding-right: 1em; text-align: center; vertical-align: top\">SOYIOZB12A58A797FC</td>\n",
       "        <td style=\"padding-left: 1em; padding-right: 1em; text-align: center; vertical-align: top\">1</td>\n",
       "        <td style=\"padding-left: 1em; padding-right: 1em; text-align: center; vertical-align: top\">1.30303030303</td>\n",
       "    </tr>\n",
       "    <tr>\n",
       "        <td style=\"padding-left: 1em; padding-right: 1em; text-align: center; vertical-align: top\">SOSZAST12A6D4F6245</td>\n",
       "        <td style=\"padding-left: 1em; padding-right: 1em; text-align: center; vertical-align: top\">1</td>\n",
       "        <td style=\"padding-left: 1em; padding-right: 1em; text-align: center; vertical-align: top\">0.516129032258</td>\n",
       "    </tr>\n",
       "</table>\n",
       "[4 rows x 3 columns]<br/>\n",
       "</div>"
      ],
      "text/plain": [
       "Columns:\n",
       "\tsong_id\tstr\n",
       "\tcount\tint\n",
       "\trmse\tfloat\n",
       "\n",
       "Rows: 4\n",
       "\n",
       "Data:\n",
       "+--------------------+-------+----------------+\n",
       "|      song_id       | count |      rmse      |\n",
       "+--------------------+-------+----------------+\n",
       "| SOEKEWC12A8C132A59 |   1   | 2.75925925926  |\n",
       "| SOQIPYO12AAF3B5B1D |   1   | 6.83146067416  |\n",
       "| SOYIOZB12A58A797FC |   1   | 1.30303030303  |\n",
       "| SOSZAST12A6D4F6245 |   1   | 0.516129032258 |\n",
       "+--------------------+-------+----------------+\n",
       "[4 rows x 3 columns]"
      ]
     },
     "execution_count": 22,
     "metadata": {},
     "output_type": "execute_result"
    }
   ],
   "source": [
    "rmse_results['rmse_by_item'].head(4)"
   ]
  },
  {
   "cell_type": "markdown",
   "metadata": {},
   "source": [
    "The RMSE (root mean square error) is evaluated for both the cosine and pearson model for the item similarity recommender.  The pearson model is the preferred model with the lower RMSE (5.47 compared to 6.28)."
   ]
  },
  {
   "cell_type": "markdown",
   "metadata": {},
   "source": [
    "#### Artist Recommendation\n",
    "Music recommendations may be offered in multiple forms.  In addition to the recommendation of songs, the analysis includes the recommendation of music by artist.  The data was trained as tested the same as the song data to offere comparison of the two collaborative filtering results.   "
   ]
  },
  {
   "cell_type": "code",
   "execution_count": 26,
   "metadata": {
    "collapsed": false
   },
   "outputs": [
    {
     "data": {
      "text/html": [
       "<pre>Recsys training: model = item_similarity</pre>"
      ],
      "text/plain": [
       "Recsys training: model = item_similarity"
      ]
     },
     "metadata": {},
     "output_type": "display_data"
    },
    {
     "data": {
      "text/html": [
       "<pre>Preparing data set.</pre>"
      ],
      "text/plain": [
       "Preparing data set."
      ]
     },
     "metadata": {},
     "output_type": "display_data"
    },
    {
     "data": {
      "text/html": [
       "<pre>    Data has 1131349 observations with 109996 users and 28359 items.</pre>"
      ],
      "text/plain": [
       "    Data has 1131349 observations with 109996 users and 28359 items."
      ]
     },
     "metadata": {},
     "output_type": "display_data"
    },
    {
     "data": {
      "text/html": [
       "<pre>    Data prepared in: 1.21072s</pre>"
      ],
      "text/plain": [
       "    Data prepared in: 1.21072s"
      ]
     },
     "metadata": {},
     "output_type": "display_data"
    },
    {
     "data": {
      "text/html": [
       "<pre>Training model from provided data.</pre>"
      ],
      "text/plain": [
       "Training model from provided data."
      ]
     },
     "metadata": {},
     "output_type": "display_data"
    },
    {
     "data": {
      "text/html": [
       "<pre>Gathering per-item and per-user statistics.</pre>"
      ],
      "text/plain": [
       "Gathering per-item and per-user statistics."
      ]
     },
     "metadata": {},
     "output_type": "display_data"
    },
    {
     "data": {
      "text/html": [
       "<pre>+--------------------------------+------------+</pre>"
      ],
      "text/plain": [
       "+--------------------------------+------------+"
      ]
     },
     "metadata": {},
     "output_type": "display_data"
    },
    {
     "data": {
      "text/html": [
       "<pre>| Elapsed Time (Item Statistics) | % Complete |</pre>"
      ],
      "text/plain": [
       "| Elapsed Time (Item Statistics) | % Complete |"
      ]
     },
     "metadata": {},
     "output_type": "display_data"
    },
    {
     "data": {
      "text/html": [
       "<pre>+--------------------------------+------------+</pre>"
      ],
      "text/plain": [
       "+--------------------------------+------------+"
      ]
     },
     "metadata": {},
     "output_type": "display_data"
    },
    {
     "data": {
      "text/html": [
       "<pre>| 1.496ms                        | 0.75       |</pre>"
      ],
      "text/plain": [
       "| 1.496ms                        | 0.75       |"
      ]
     },
     "metadata": {},
     "output_type": "display_data"
    },
    {
     "data": {
      "text/html": [
       "<pre>| 33.994ms                       | 100        |</pre>"
      ],
      "text/plain": [
       "| 33.994ms                       | 100        |"
      ]
     },
     "metadata": {},
     "output_type": "display_data"
    },
    {
     "data": {
      "text/html": [
       "<pre>+--------------------------------+------------+</pre>"
      ],
      "text/plain": [
       "+--------------------------------+------------+"
      ]
     },
     "metadata": {},
     "output_type": "display_data"
    },
    {
     "data": {
      "text/html": [
       "<pre>Setting up lookup tables.</pre>"
      ],
      "text/plain": [
       "Setting up lookup tables."
      ]
     },
     "metadata": {},
     "output_type": "display_data"
    },
    {
     "data": {
      "text/html": [
       "<pre>Processing data in one pass using dense lookup tables.</pre>"
      ],
      "text/plain": [
       "Processing data in one pass using dense lookup tables."
      ]
     },
     "metadata": {},
     "output_type": "display_data"
    },
    {
     "data": {
      "text/html": [
       "<pre>+-------------------------------------+------------------+-----------------+</pre>"
      ],
      "text/plain": [
       "+-------------------------------------+------------------+-----------------+"
      ]
     },
     "metadata": {},
     "output_type": "display_data"
    },
    {
     "data": {
      "text/html": [
       "<pre>| Elapsed Time (Constructing Lookups) | Total % Complete | Items Processed |</pre>"
      ],
      "text/plain": [
       "| Elapsed Time (Constructing Lookups) | Total % Complete | Items Processed |"
      ]
     },
     "metadata": {},
     "output_type": "display_data"
    },
    {
     "data": {
      "text/html": [
       "<pre>+-------------------------------------+------------------+-----------------+</pre>"
      ],
      "text/plain": [
       "+-------------------------------------+------------------+-----------------+"
      ]
     },
     "metadata": {},
     "output_type": "display_data"
    },
    {
     "data": {
      "text/html": [
       "<pre>| 2.22s                               | 0                | 0               |</pre>"
      ],
      "text/plain": [
       "| 2.22s                               | 0                | 0               |"
      ]
     },
     "metadata": {},
     "output_type": "display_data"
    },
    {
     "data": {
      "text/html": [
       "<pre>| 3.22s                               | 49.75            | 14175           |</pre>"
      ],
      "text/plain": [
       "| 3.22s                               | 49.75            | 14175           |"
      ]
     },
     "metadata": {},
     "output_type": "display_data"
    },
    {
     "data": {
      "text/html": [
       "<pre>| 8.08s                               | 100              | 28359           |</pre>"
      ],
      "text/plain": [
       "| 8.08s                               | 100              | 28359           |"
      ]
     },
     "metadata": {},
     "output_type": "display_data"
    },
    {
     "data": {
      "text/html": [
       "<pre>+-------------------------------------+------------------+-----------------+</pre>"
      ],
      "text/plain": [
       "+-------------------------------------+------------------+-----------------+"
      ]
     },
     "metadata": {},
     "output_type": "display_data"
    },
    {
     "data": {
      "text/html": [
       "<pre>Finalizing lookup tables.</pre>"
      ],
      "text/plain": [
       "Finalizing lookup tables."
      ]
     },
     "metadata": {},
     "output_type": "display_data"
    },
    {
     "data": {
      "text/html": [
       "<pre>Generating candidate set for working with new users.</pre>"
      ],
      "text/plain": [
       "Generating candidate set for working with new users."
      ]
     },
     "metadata": {},
     "output_type": "display_data"
    },
    {
     "data": {
      "text/html": [
       "<pre>Finished training in 8.18355s</pre>"
      ],
      "text/plain": [
       "Finished training in 8.18355s"
      ]
     },
     "metadata": {},
     "output_type": "display_data"
    },
    {
     "name": "stdout",
     "output_type": "stream",
     "text": [
      "\n",
      "Precision and recall summary statistics by cutoff\n",
      "+--------+------------------+------------------+\n",
      "| cutoff |  mean_precision  |   mean_recall    |\n",
      "+--------+------------------+------------------+\n",
      "|   1    | 0.0024154589372  | 0.00144927536232 |\n",
      "|   2    | 0.0024154589372  | 0.00305958132045 |\n",
      "|   3    | 0.00201288244767 | 0.00346215780998 |\n",
      "|   4    | 0.00332125603865 | 0.00678341384863 |\n",
      "|   5    | 0.00434782608696 | 0.0113123993559  |\n",
      "|   6    | 0.00402576489533 | 0.0122181964573  |\n",
      "|   7    | 0.0036231884058  | 0.0126207729469  |\n",
      "|   8    | 0.00347222222222 | 0.0141304347826  |\n",
      "|   9    | 0.00322061191626 | 0.0143719806763  |\n",
      "|   10   | 0.00326086956522 | 0.0163345410628  |\n",
      "+--------+------------------+------------------+\n",
      "[10 rows x 3 columns]\n",
      "\n",
      "('\\nOverall RMSE: ', 13.99781300253604)\n",
      "\n",
      "Per User RMSE (best)\n",
      "+-------------------------------+-------+----------------+\n",
      "|              user             | count |      rmse      |\n",
      "+-------------------------------+-------+----------------+\n",
      "| fb0bbc94b368705b741330e179... |   1   | 0.800261950493 |\n",
      "+-------------------------------+-------+----------------+\n",
      "[1 rows x 3 columns]\n",
      "\n",
      "\n",
      "Per User RMSE (worst)\n",
      "+-------------------------------+-------+---------------+\n",
      "|              user             | count |      rmse     |\n",
      "+-------------------------------+-------+---------------+\n",
      "| d1d845a92cd34456423e781512... |   3   | 270.932956036 |\n",
      "+-------------------------------+-------+---------------+\n",
      "[1 rows x 3 columns]\n",
      "\n",
      "\n",
      "Per Item RMSE (best)\n",
      "+-------------+-------+----------------+\n",
      "| artist_name | count |      rmse      |\n",
      "+-------------+-------+----------------+\n",
      "|  Jay-Z / JD |   1   | 0.800261950493 |\n",
      "+-------------+-------+----------------+\n",
      "[1 rows x 3 columns]\n",
      "\n",
      "\n",
      "Per Item RMSE (worst)\n",
      "+--------------+-------+---------------+\n",
      "| artist_name  | count |      rmse     |\n",
      "+--------------+-------+---------------+\n",
      "| 3 Doors Down |   2   | 292.042805082 |\n",
      "+--------------+-------+---------------+\n",
      "[1 rows x 3 columns]\n",
      "\n"
     ]
    },
    {
     "data": {
      "text/plain": [
       "dict_keys(['rmse_by_user', 'precision_recall_overall', 'rmse_by_item', 'precision_recall_by_user', 'rmse_overall'])"
      ]
     },
     "execution_count": 26,
     "metadata": {},
     "output_type": "execute_result"
    }
   ],
   "source": [
    "train_art, test_art = gl.recommender.util.random_split_by_user(artist,\n",
    "                                                      user_id=\"user\", item_id=\"artist_name\",\n",
    "                                                      item_test_proportion=0.2)\n",
    "\n",
    "art_rec = gl.recommender.item_similarity_recommender.create(train_art,\n",
    "                                                             user_id=\"user\",\n",
    "                                                             item_id=\"artist_name\",\n",
    "                                                             target=\"plays\",\n",
    "                                                             only_top_k=5,\n",
    "                                                             similarity_type=\"cosine\")\n",
    "\n",
    "rmse_results = art_rec.evaluate(test_art)\n",
    "\n",
    "rmse_results.viewkeys()"
   ]
  },
  {
   "cell_type": "code",
   "execution_count": 27,
   "metadata": {
    "collapsed": false
   },
   "outputs": [
    {
     "data": {
      "text/plain": [
       "13.99781300253604"
      ]
     },
     "execution_count": 27,
     "metadata": {},
     "output_type": "execute_result"
    }
   ],
   "source": [
    "rmse_results['rmse_overall']"
   ]
  },
  {
   "cell_type": "code",
   "execution_count": 29,
   "metadata": {
    "collapsed": false
   },
   "outputs": [
    {
     "data": {
      "text/html": [
       "<div style=\"max-height:1000px;max-width:1500px;overflow:auto;\"><table frame=\"box\" rules=\"cols\">\n",
       "    <tr>\n",
       "        <th style=\"padding-left: 1em; padding-right: 1em; text-align: center\">user</th>\n",
       "        <th style=\"padding-left: 1em; padding-right: 1em; text-align: center\">count</th>\n",
       "        <th style=\"padding-left: 1em; padding-right: 1em; text-align: center\">rmse</th>\n",
       "    </tr>\n",
       "    <tr>\n",
       "        <td style=\"padding-left: 1em; padding-right: 1em; text-align: center; vertical-align: top\">c174d59c27220c94999bf67cd<br>98fd3eca67f7ab0 ...</td>\n",
       "        <td style=\"padding-left: 1em; padding-right: 1em; text-align: center; vertical-align: top\">4</td>\n",
       "        <td style=\"padding-left: 1em; padding-right: 1em; text-align: center; vertical-align: top\">1.0</td>\n",
       "    </tr>\n",
       "    <tr>\n",
       "        <td style=\"padding-left: 1em; padding-right: 1em; text-align: center; vertical-align: top\">1be569aefb976bae9aa6a29af<br>47db2e8d666dcd2 ...</td>\n",
       "        <td style=\"padding-left: 1em; padding-right: 1em; text-align: center; vertical-align: top\">4</td>\n",
       "        <td style=\"padding-left: 1em; padding-right: 1em; text-align: center; vertical-align: top\">10.4642247682</td>\n",
       "    </tr>\n",
       "    <tr>\n",
       "        <td style=\"padding-left: 1em; padding-right: 1em; text-align: center; vertical-align: top\">cfa3a9fb3d859ace61a1e05fd<br>5e51f3cef9cd3e6 ...</td>\n",
       "        <td style=\"padding-left: 1em; padding-right: 1em; text-align: center; vertical-align: top\">4</td>\n",
       "        <td style=\"padding-left: 1em; padding-right: 1em; text-align: center; vertical-align: top\">8.09320702812</td>\n",
       "    </tr>\n",
       "    <tr>\n",
       "        <td style=\"padding-left: 1em; padding-right: 1em; text-align: center; vertical-align: top\">e8f5730a122c64e706a3fb9b4<br>7dc33d30d1e4c18 ...</td>\n",
       "        <td style=\"padding-left: 1em; padding-right: 1em; text-align: center; vertical-align: top\">7</td>\n",
       "        <td style=\"padding-left: 1em; padding-right: 1em; text-align: center; vertical-align: top\">9.53904623816</td>\n",
       "    </tr>\n",
       "</table>\n",
       "[4 rows x 3 columns]<br/>\n",
       "</div>"
      ],
      "text/plain": [
       "Columns:\n",
       "\tuser\tstr\n",
       "\tcount\tint\n",
       "\trmse\tfloat\n",
       "\n",
       "Rows: 4\n",
       "\n",
       "Data:\n",
       "+-------------------------------+-------+---------------+\n",
       "|              user             | count |      rmse     |\n",
       "+-------------------------------+-------+---------------+\n",
       "| c174d59c27220c94999bf67cd9... |   4   |      1.0      |\n",
       "| 1be569aefb976bae9aa6a29af4... |   4   | 10.4642247682 |\n",
       "| cfa3a9fb3d859ace61a1e05fd5... |   4   | 8.09320702812 |\n",
       "| e8f5730a122c64e706a3fb9b47... |   7   | 9.53904623816 |\n",
       "+-------------------------------+-------+---------------+\n",
       "[4 rows x 3 columns]"
      ]
     },
     "execution_count": 29,
     "metadata": {},
     "output_type": "execute_result"
    }
   ],
   "source": [
    "rmse_results['rmse_by_user'].head(4)"
   ]
  },
  {
   "cell_type": "code",
   "execution_count": 30,
   "metadata": {
    "collapsed": false
   },
   "outputs": [
    {
     "data": {
      "text/html": [
       "<div style=\"max-height:1000px;max-width:1500px;overflow:auto;\"><table frame=\"box\" rules=\"cols\">\n",
       "    <tr>\n",
       "        <th style=\"padding-left: 1em; padding-right: 1em; text-align: center\">artist_name</th>\n",
       "        <th style=\"padding-left: 1em; padding-right: 1em; text-align: center\">count</th>\n",
       "        <th style=\"padding-left: 1em; padding-right: 1em; text-align: center\">rmse</th>\n",
       "    </tr>\n",
       "    <tr>\n",
       "        <td style=\"padding-left: 1em; padding-right: 1em; text-align: center; vertical-align: top\">Spoon</td>\n",
       "        <td style=\"padding-left: 1em; padding-right: 1em; text-align: center; vertical-align: top\">2</td>\n",
       "        <td style=\"padding-left: 1em; padding-right: 1em; text-align: center; vertical-align: top\">6.0827625303</td>\n",
       "    </tr>\n",
       "    <tr>\n",
       "        <td style=\"padding-left: 1em; padding-right: 1em; text-align: center; vertical-align: top\">Scooter</td>\n",
       "        <td style=\"padding-left: 1em; padding-right: 1em; text-align: center; vertical-align: top\">1</td>\n",
       "        <td style=\"padding-left: 1em; padding-right: 1em; text-align: center; vertical-align: top\">5.0</td>\n",
       "    </tr>\n",
       "    <tr>\n",
       "        <td style=\"padding-left: 1em; padding-right: 1em; text-align: center; vertical-align: top\">Pru</td>\n",
       "        <td style=\"padding-left: 1em; padding-right: 1em; text-align: center; vertical-align: top\">1</td>\n",
       "        <td style=\"padding-left: 1em; padding-right: 1em; text-align: center; vertical-align: top\">1.0</td>\n",
       "    </tr>\n",
       "    <tr>\n",
       "        <td style=\"padding-left: 1em; padding-right: 1em; text-align: center; vertical-align: top\">Dragonland</td>\n",
       "        <td style=\"padding-left: 1em; padding-right: 1em; text-align: center; vertical-align: top\">1</td>\n",
       "        <td style=\"padding-left: 1em; padding-right: 1em; text-align: center; vertical-align: top\">1.0</td>\n",
       "    </tr>\n",
       "</table>\n",
       "[4 rows x 3 columns]<br/>\n",
       "</div>"
      ],
      "text/plain": [
       "Columns:\n",
       "\tartist_name\tstr\n",
       "\tcount\tint\n",
       "\trmse\tfloat\n",
       "\n",
       "Rows: 4\n",
       "\n",
       "Data:\n",
       "+-------------+-------+--------------+\n",
       "| artist_name | count |     rmse     |\n",
       "+-------------+-------+--------------+\n",
       "|    Spoon    |   2   | 6.0827625303 |\n",
       "|   Scooter   |   1   |     5.0      |\n",
       "|     Pru     |   1   |     1.0      |\n",
       "|  Dragonland |   1   |     1.0      |\n",
       "+-------------+-------+--------------+\n",
       "[4 rows x 3 columns]"
      ]
     },
     "execution_count": 30,
     "metadata": {},
     "output_type": "execute_result"
    }
   ],
   "source": [
    "rmse_results['rmse_by_item'].head(4)"
   ]
  },
  {
   "cell_type": "code",
   "execution_count": 31,
   "metadata": {
    "collapsed": false
   },
   "outputs": [
    {
     "data": {
      "text/html": [
       "<pre>Recsys training: model = item_similarity</pre>"
      ],
      "text/plain": [
       "Recsys training: model = item_similarity"
      ]
     },
     "metadata": {},
     "output_type": "display_data"
    },
    {
     "data": {
      "text/html": [
       "<pre>Preparing data set.</pre>"
      ],
      "text/plain": [
       "Preparing data set."
      ]
     },
     "metadata": {},
     "output_type": "display_data"
    },
    {
     "data": {
      "text/html": [
       "<pre>    Data has 1131349 observations with 109996 users and 28359 items.</pre>"
      ],
      "text/plain": [
       "    Data has 1131349 observations with 109996 users and 28359 items."
      ]
     },
     "metadata": {},
     "output_type": "display_data"
    },
    {
     "data": {
      "text/html": [
       "<pre>    Data prepared in: 1.18551s</pre>"
      ],
      "text/plain": [
       "    Data prepared in: 1.18551s"
      ]
     },
     "metadata": {},
     "output_type": "display_data"
    },
    {
     "data": {
      "text/html": [
       "<pre>Training model from provided data.</pre>"
      ],
      "text/plain": [
       "Training model from provided data."
      ]
     },
     "metadata": {},
     "output_type": "display_data"
    },
    {
     "data": {
      "text/html": [
       "<pre>Gathering per-item and per-user statistics.</pre>"
      ],
      "text/plain": [
       "Gathering per-item and per-user statistics."
      ]
     },
     "metadata": {},
     "output_type": "display_data"
    },
    {
     "data": {
      "text/html": [
       "<pre>+--------------------------------+------------+</pre>"
      ],
      "text/plain": [
       "+--------------------------------+------------+"
      ]
     },
     "metadata": {},
     "output_type": "display_data"
    },
    {
     "data": {
      "text/html": [
       "<pre>| Elapsed Time (Item Statistics) | % Complete |</pre>"
      ],
      "text/plain": [
       "| Elapsed Time (Item Statistics) | % Complete |"
      ]
     },
     "metadata": {},
     "output_type": "display_data"
    },
    {
     "data": {
      "text/html": [
       "<pre>+--------------------------------+------------+</pre>"
      ],
      "text/plain": [
       "+--------------------------------+------------+"
      ]
     },
     "metadata": {},
     "output_type": "display_data"
    },
    {
     "data": {
      "text/html": [
       "<pre>| 1.916ms                        | 5.25       |</pre>"
      ],
      "text/plain": [
       "| 1.916ms                        | 5.25       |"
      ]
     },
     "metadata": {},
     "output_type": "display_data"
    },
    {
     "data": {
      "text/html": [
       "<pre>| 54.265ms                       | 100        |</pre>"
      ],
      "text/plain": [
       "| 54.265ms                       | 100        |"
      ]
     },
     "metadata": {},
     "output_type": "display_data"
    },
    {
     "data": {
      "text/html": [
       "<pre>+--------------------------------+------------+</pre>"
      ],
      "text/plain": [
       "+--------------------------------+------------+"
      ]
     },
     "metadata": {},
     "output_type": "display_data"
    },
    {
     "data": {
      "text/html": [
       "<pre>Setting up lookup tables.</pre>"
      ],
      "text/plain": [
       "Setting up lookup tables."
      ]
     },
     "metadata": {},
     "output_type": "display_data"
    },
    {
     "data": {
      "text/html": [
       "<pre>Processing data in one pass using dense lookup tables.</pre>"
      ],
      "text/plain": [
       "Processing data in one pass using dense lookup tables."
      ]
     },
     "metadata": {},
     "output_type": "display_data"
    },
    {
     "data": {
      "text/html": [
       "<pre>+-------------------------------------+------------------+-----------------+</pre>"
      ],
      "text/plain": [
       "+-------------------------------------+------------------+-----------------+"
      ]
     },
     "metadata": {},
     "output_type": "display_data"
    },
    {
     "data": {
      "text/html": [
       "<pre>| Elapsed Time (Constructing Lookups) | Total % Complete | Items Processed |</pre>"
      ],
      "text/plain": [
       "| Elapsed Time (Constructing Lookups) | Total % Complete | Items Processed |"
      ]
     },
     "metadata": {},
     "output_type": "display_data"
    },
    {
     "data": {
      "text/html": [
       "<pre>+-------------------------------------+------------------+-----------------+</pre>"
      ],
      "text/plain": [
       "+-------------------------------------+------------------+-----------------+"
      ]
     },
     "metadata": {},
     "output_type": "display_data"
    },
    {
     "data": {
      "text/html": [
       "<pre>| 1.97s                               | 0                | 0               |</pre>"
      ],
      "text/plain": [
       "| 1.97s                               | 0                | 0               |"
      ]
     },
     "metadata": {},
     "output_type": "display_data"
    },
    {
     "data": {
      "text/html": [
       "<pre>| 2.98s                               | 45.5             | 12932           |</pre>"
      ],
      "text/plain": [
       "| 2.98s                               | 45.5             | 12932           |"
      ]
     },
     "metadata": {},
     "output_type": "display_data"
    },
    {
     "data": {
      "text/html": [
       "<pre>| 3.98s                               | 82.25            | 23358           |</pre>"
      ],
      "text/plain": [
       "| 3.98s                               | 82.25            | 23358           |"
      ]
     },
     "metadata": {},
     "output_type": "display_data"
    },
    {
     "data": {
      "text/html": [
       "<pre>| 7.22s                               | 100              | 28359           |</pre>"
      ],
      "text/plain": [
       "| 7.22s                               | 100              | 28359           |"
      ]
     },
     "metadata": {},
     "output_type": "display_data"
    },
    {
     "data": {
      "text/html": [
       "<pre>+-------------------------------------+------------------+-----------------+</pre>"
      ],
      "text/plain": [
       "+-------------------------------------+------------------+-----------------+"
      ]
     },
     "metadata": {},
     "output_type": "display_data"
    },
    {
     "data": {
      "text/html": [
       "<pre>Finalizing lookup tables.</pre>"
      ],
      "text/plain": [
       "Finalizing lookup tables."
      ]
     },
     "metadata": {},
     "output_type": "display_data"
    },
    {
     "data": {
      "text/html": [
       "<pre>Generating candidate set for working with new users.</pre>"
      ],
      "text/plain": [
       "Generating candidate set for working with new users."
      ]
     },
     "metadata": {},
     "output_type": "display_data"
    },
    {
     "data": {
      "text/html": [
       "<pre>Finished training in 7.30669s</pre>"
      ],
      "text/plain": [
       "Finished training in 7.30669s"
      ]
     },
     "metadata": {},
     "output_type": "display_data"
    },
    {
     "name": "stdout",
     "output_type": "stream",
     "text": [
      "\n",
      "Precision and recall summary statistics by cutoff\n",
      "+--------+----------------+-------------+\n",
      "| cutoff | mean_precision | mean_recall |\n",
      "+--------+----------------+-------------+\n",
      "|   1    |      0.0       |     0.0     |\n",
      "|   2    |      0.0       |     0.0     |\n",
      "|   3    |      0.0       |     0.0     |\n",
      "|   4    |      0.0       |     0.0     |\n",
      "|   5    |      0.0       |     0.0     |\n",
      "|   6    |      0.0       |     0.0     |\n",
      "|   7    |      0.0       |     0.0     |\n",
      "|   8    |      0.0       |     0.0     |\n",
      "|   9    |      0.0       |     0.0     |\n",
      "|   10   |      0.0       |     0.0     |\n",
      "+--------+----------------+-------------+\n",
      "[10 rows x 3 columns]\n",
      "\n",
      "('\\nOverall RMSE: ', 13.234525217052376)\n",
      "\n",
      "Per User RMSE (best)\n",
      "+-------------------------------+-------+------+\n",
      "|              user             | count | rmse |\n",
      "+-------------------------------+-------+------+\n",
      "| 7fd613423ff2305c23ab30d5f9... |   1   | 0.0  |\n",
      "+-------------------------------+-------+------+\n",
      "[1 rows x 3 columns]\n",
      "\n",
      "\n",
      "Per User RMSE (worst)\n",
      "+-------------------------------+-------+---------------+\n",
      "|              user             | count |      rmse     |\n",
      "+-------------------------------+-------+---------------+\n",
      "| d1d845a92cd34456423e781512... |   3   | 266.441177788 |\n",
      "+-------------------------------+-------+---------------+\n",
      "[1 rows x 3 columns]\n",
      "\n",
      "\n",
      "Per Item RMSE (best)\n",
      "+-------------+-------+------+\n",
      "| artist_name | count | rmse |\n",
      "+-------------+-------+------+\n",
      "|   Kreators  |   1   | 0.0  |\n",
      "+-------------+-------+------+\n",
      "[1 rows x 3 columns]\n",
      "\n",
      "\n",
      "Per Item RMSE (worst)\n",
      "+--------------+-------+---------------+\n",
      "| artist_name  | count |      rmse     |\n",
      "+--------------+-------+---------------+\n",
      "| 3 Doors Down |   2   | 288.872396556 |\n",
      "+--------------+-------+---------------+\n",
      "[1 rows x 3 columns]\n",
      "\n",
      "dict_keys(['rmse_by_user', 'precision_recall_overall', 'rmse_by_item', 'precision_recall_by_user', 'rmse_overall'])\n"
     ]
    }
   ],
   "source": [
    "train_art, test_art = gl.recommender.util.random_split_by_user(artist,\n",
    "                                                      user_id=\"user\", item_id=\"artist_name\",\n",
    "                                                      item_test_proportion=0.2)\n",
    "\n",
    "art_rec = gl.recommender.item_similarity_recommender.create(train_art,\n",
    "                                                             user_id=\"user\",\n",
    "                                                             item_id=\"artist_name\",\n",
    "                                                             target=\"plays\",\n",
    "                                                             only_top_k=5,\n",
    "                                                             similarity_type=\"pearson\")\n",
    "\n",
    "rmse_results = art_rec.evaluate(test_art)\n",
    "\n",
    "print rmse_results.viewkeys()"
   ]
  },
  {
   "cell_type": "code",
   "execution_count": 32,
   "metadata": {
    "collapsed": false
   },
   "outputs": [
    {
     "data": {
      "text/plain": [
       "13.234525217052376"
      ]
     },
     "execution_count": 32,
     "metadata": {},
     "output_type": "execute_result"
    }
   ],
   "source": [
    "rmse_results['rmse_overall']"
   ]
  },
  {
   "cell_type": "code",
   "execution_count": 33,
   "metadata": {
    "collapsed": false
   },
   "outputs": [
    {
     "data": {
      "text/html": [
       "<div style=\"max-height:1000px;max-width:1500px;overflow:auto;\"><table frame=\"box\" rules=\"cols\">\n",
       "    <tr>\n",
       "        <th style=\"padding-left: 1em; padding-right: 1em; text-align: center\">user</th>\n",
       "        <th style=\"padding-left: 1em; padding-right: 1em; text-align: center\">count</th>\n",
       "        <th style=\"padding-left: 1em; padding-right: 1em; text-align: center\">rmse</th>\n",
       "    </tr>\n",
       "    <tr>\n",
       "        <td style=\"padding-left: 1em; padding-right: 1em; text-align: center; vertical-align: top\">c174d59c27220c94999bf67cd<br>98fd3eca67f7ab0 ...</td>\n",
       "        <td style=\"padding-left: 1em; padding-right: 1em; text-align: center; vertical-align: top\">4</td>\n",
       "        <td style=\"padding-left: 1em; padding-right: 1em; text-align: center; vertical-align: top\">2.93748076643</td>\n",
       "    </tr>\n",
       "    <tr>\n",
       "        <td style=\"padding-left: 1em; padding-right: 1em; text-align: center; vertical-align: top\">1be569aefb976bae9aa6a29af<br>47db2e8d666dcd2 ...</td>\n",
       "        <td style=\"padding-left: 1em; padding-right: 1em; text-align: center; vertical-align: top\">4</td>\n",
       "        <td style=\"padding-left: 1em; padding-right: 1em; text-align: center; vertical-align: top\">7.23482442001</td>\n",
       "    </tr>\n",
       "    <tr>\n",
       "        <td style=\"padding-left: 1em; padding-right: 1em; text-align: center; vertical-align: top\">cfa3a9fb3d859ace61a1e05fd<br>5e51f3cef9cd3e6 ...</td>\n",
       "        <td style=\"padding-left: 1em; padding-right: 1em; text-align: center; vertical-align: top\">4</td>\n",
       "        <td style=\"padding-left: 1em; padding-right: 1em; text-align: center; vertical-align: top\">6.13846481143</td>\n",
       "    </tr>\n",
       "    <tr>\n",
       "        <td style=\"padding-left: 1em; padding-right: 1em; text-align: center; vertical-align: top\">e8f5730a122c64e706a3fb9b4<br>7dc33d30d1e4c18 ...</td>\n",
       "        <td style=\"padding-left: 1em; padding-right: 1em; text-align: center; vertical-align: top\">7</td>\n",
       "        <td style=\"padding-left: 1em; padding-right: 1em; text-align: center; vertical-align: top\">7.54462252268</td>\n",
       "    </tr>\n",
       "</table>\n",
       "[4 rows x 3 columns]<br/>\n",
       "</div>"
      ],
      "text/plain": [
       "Columns:\n",
       "\tuser\tstr\n",
       "\tcount\tint\n",
       "\trmse\tfloat\n",
       "\n",
       "Rows: 4\n",
       "\n",
       "Data:\n",
       "+-------------------------------+-------+---------------+\n",
       "|              user             | count |      rmse     |\n",
       "+-------------------------------+-------+---------------+\n",
       "| c174d59c27220c94999bf67cd9... |   4   | 2.93748076643 |\n",
       "| 1be569aefb976bae9aa6a29af4... |   4   | 7.23482442001 |\n",
       "| cfa3a9fb3d859ace61a1e05fd5... |   4   | 6.13846481143 |\n",
       "| e8f5730a122c64e706a3fb9b47... |   7   | 7.54462252268 |\n",
       "+-------------------------------+-------+---------------+\n",
       "[4 rows x 3 columns]"
      ]
     },
     "execution_count": 33,
     "metadata": {},
     "output_type": "execute_result"
    }
   ],
   "source": [
    "rmse_results['rmse_by_user'].head(4)"
   ]
  },
  {
   "cell_type": "code",
   "execution_count": 34,
   "metadata": {
    "collapsed": false
   },
   "outputs": [
    {
     "data": {
      "text/html": [
       "<div style=\"max-height:1000px;max-width:1500px;overflow:auto;\"><table frame=\"box\" rules=\"cols\">\n",
       "    <tr>\n",
       "        <th style=\"padding-left: 1em; padding-right: 1em; text-align: center\">artist_name</th>\n",
       "        <th style=\"padding-left: 1em; padding-right: 1em; text-align: center\">count</th>\n",
       "        <th style=\"padding-left: 1em; padding-right: 1em; text-align: center\">rmse</th>\n",
       "    </tr>\n",
       "    <tr>\n",
       "        <td style=\"padding-left: 1em; padding-right: 1em; text-align: center; vertical-align: top\">Spoon</td>\n",
       "        <td style=\"padding-left: 1em; padding-right: 1em; text-align: center; vertical-align: top\">2</td>\n",
       "        <td style=\"padding-left: 1em; padding-right: 1em; text-align: center; vertical-align: top\">2.17400503742</td>\n",
       "    </tr>\n",
       "    <tr>\n",
       "        <td style=\"padding-left: 1em; padding-right: 1em; text-align: center; vertical-align: top\">Scooter</td>\n",
       "        <td style=\"padding-left: 1em; padding-right: 1em; text-align: center; vertical-align: top\">1</td>\n",
       "        <td style=\"padding-left: 1em; padding-right: 1em; text-align: center; vertical-align: top\">0.283068783069</td>\n",
       "    </tr>\n",
       "    <tr>\n",
       "        <td style=\"padding-left: 1em; padding-right: 1em; text-align: center; vertical-align: top\">Pru</td>\n",
       "        <td style=\"padding-left: 1em; padding-right: 1em; text-align: center; vertical-align: top\">1</td>\n",
       "        <td style=\"padding-left: 1em; padding-right: 1em; text-align: center; vertical-align: top\">0.45</td>\n",
       "    </tr>\n",
       "    <tr>\n",
       "        <td style=\"padding-left: 1em; padding-right: 1em; text-align: center; vertical-align: top\">Dragonland</td>\n",
       "        <td style=\"padding-left: 1em; padding-right: 1em; text-align: center; vertical-align: top\">1</td>\n",
       "        <td style=\"padding-left: 1em; padding-right: 1em; text-align: center; vertical-align: top\">0.533333333333</td>\n",
       "    </tr>\n",
       "</table>\n",
       "[4 rows x 3 columns]<br/>\n",
       "</div>"
      ],
      "text/plain": [
       "Columns:\n",
       "\tartist_name\tstr\n",
       "\tcount\tint\n",
       "\trmse\tfloat\n",
       "\n",
       "Rows: 4\n",
       "\n",
       "Data:\n",
       "+-------------+-------+----------------+\n",
       "| artist_name | count |      rmse      |\n",
       "+-------------+-------+----------------+\n",
       "|    Spoon    |   2   | 2.17400503742  |\n",
       "|   Scooter   |   1   | 0.283068783069 |\n",
       "|     Pru     |   1   |      0.45      |\n",
       "|  Dragonland |   1   | 0.533333333333 |\n",
       "+-------------+-------+----------------+\n",
       "[4 rows x 3 columns]"
      ]
     },
     "execution_count": 34,
     "metadata": {},
     "output_type": "execute_result"
    }
   ],
   "source": [
    "rmse_results['rmse_by_item'].head(4)"
   ]
  },
  {
   "cell_type": "markdown",
   "metadata": {},
   "source": [
    "## Evaluate and Compare"
   ]
  },
  {
   "cell_type": "markdown",
   "metadata": {
    "collapsed": true
   },
   "source": [
    "The recommendation models were run for the artist prediction to offer a comparison.   Although it may be expected that the recommendation model would be better with the same amount plays data yet fewer recommendations; however, that was incorrect.  Both models for the artist prediction were significantly higher than the song recommendation counterpart.   \n",
    "\n",
    "The model for song recommendation using the pearsons similarity type will be used for the remainder of the analysis.  "
   ]
  },
  {
   "cell_type": "markdown",
   "metadata": {},
   "source": [
    "## Visualize Results"
   ]
  },
  {
   "cell_type": "code",
   "execution_count": 35,
   "metadata": {
    "collapsed": false,
    "scrolled": false
   },
   "outputs": [
    {
     "data": {
      "text/html": [
       "<pre>Recsys training: model = item_similarity</pre>"
      ],
      "text/plain": [
       "Recsys training: model = item_similarity"
      ]
     },
     "metadata": {},
     "output_type": "display_data"
    },
    {
     "data": {
      "text/html": [
       "<pre>Warning: Ignoring columns title, release, artist_name, year, song_name;</pre>"
      ],
      "text/plain": [
       "Warning: Ignoring columns title, release, artist_name, year, song_name;"
      ]
     },
     "metadata": {},
     "output_type": "display_data"
    },
    {
     "data": {
      "text/html": [
       "<pre>    To use these columns in scoring predictions, use a model that allows the use of additional features.</pre>"
      ],
      "text/plain": [
       "    To use these columns in scoring predictions, use a model that allows the use of additional features."
      ]
     },
     "metadata": {},
     "output_type": "display_data"
    },
    {
     "data": {
      "text/html": [
       "<pre>Preparing data set.</pre>"
      ],
      "text/plain": [
       "Preparing data set."
      ]
     },
     "metadata": {},
     "output_type": "display_data"
    },
    {
     "data": {
      "text/html": [
       "<pre>    Data has 1489352 observations with 110000 users and 163095 items.</pre>"
      ],
      "text/plain": [
       "    Data has 1489352 observations with 110000 users and 163095 items."
      ]
     },
     "metadata": {},
     "output_type": "display_data"
    },
    {
     "data": {
      "text/html": [
       "<pre>    Data prepared in: 1.40951s</pre>"
      ],
      "text/plain": [
       "    Data prepared in: 1.40951s"
      ]
     },
     "metadata": {},
     "output_type": "display_data"
    },
    {
     "data": {
      "text/html": [
       "<pre>Training model from provided data.</pre>"
      ],
      "text/plain": [
       "Training model from provided data."
      ]
     },
     "metadata": {},
     "output_type": "display_data"
    },
    {
     "data": {
      "text/html": [
       "<pre>Gathering per-item and per-user statistics.</pre>"
      ],
      "text/plain": [
       "Gathering per-item and per-user statistics."
      ]
     },
     "metadata": {},
     "output_type": "display_data"
    },
    {
     "data": {
      "text/html": [
       "<pre>+--------------------------------+------------+</pre>"
      ],
      "text/plain": [
       "+--------------------------------+------------+"
      ]
     },
     "metadata": {},
     "output_type": "display_data"
    },
    {
     "data": {
      "text/html": [
       "<pre>| Elapsed Time (Item Statistics) | % Complete |</pre>"
      ],
      "text/plain": [
       "| Elapsed Time (Item Statistics) | % Complete |"
      ]
     },
     "metadata": {},
     "output_type": "display_data"
    },
    {
     "data": {
      "text/html": [
       "<pre>+--------------------------------+------------+</pre>"
      ],
      "text/plain": [
       "+--------------------------------+------------+"
      ]
     },
     "metadata": {},
     "output_type": "display_data"
    },
    {
     "data": {
      "text/html": [
       "<pre>| 1.854ms                        | 1.75       |</pre>"
      ],
      "text/plain": [
       "| 1.854ms                        | 1.75       |"
      ]
     },
     "metadata": {},
     "output_type": "display_data"
    },
    {
     "data": {
      "text/html": [
       "<pre>| 68.484ms                       | 100        |</pre>"
      ],
      "text/plain": [
       "| 68.484ms                       | 100        |"
      ]
     },
     "metadata": {},
     "output_type": "display_data"
    },
    {
     "data": {
      "text/html": [
       "<pre>+--------------------------------+------------+</pre>"
      ],
      "text/plain": [
       "+--------------------------------+------------+"
      ]
     },
     "metadata": {},
     "output_type": "display_data"
    },
    {
     "data": {
      "text/html": [
       "<pre>Setting up lookup tables.</pre>"
      ],
      "text/plain": [
       "Setting up lookup tables."
      ]
     },
     "metadata": {},
     "output_type": "display_data"
    },
    {
     "data": {
      "text/html": [
       "<pre>Processing the 32 most common items by brute force search.</pre>"
      ],
      "text/plain": [
       "Processing the 32 most common items by brute force search."
      ]
     },
     "metadata": {},
     "output_type": "display_data"
    },
    {
     "data": {
      "text/html": [
       "<pre>Transposing user-item lists for use in nearest neighbor search.</pre>"
      ],
      "text/plain": [
       "Transposing user-item lists for use in nearest neighbor search."
      ]
     },
     "metadata": {},
     "output_type": "display_data"
    },
    {
     "data": {
      "text/html": [
       "<pre>+------------------------------------+------------+</pre>"
      ],
      "text/plain": [
       "+------------------------------------+------------+"
      ]
     },
     "metadata": {},
     "output_type": "display_data"
    },
    {
     "data": {
      "text/html": [
       "<pre>| Elapsed Time (Data Transposition)) | % Complete |</pre>"
      ],
      "text/plain": [
       "| Elapsed Time (Data Transposition)) | % Complete |"
      ]
     },
     "metadata": {},
     "output_type": "display_data"
    },
    {
     "data": {
      "text/html": [
       "<pre>+------------------------------------+------------+</pre>"
      ],
      "text/plain": [
       "+------------------------------------+------------+"
      ]
     },
     "metadata": {},
     "output_type": "display_data"
    },
    {
     "data": {
      "text/html": [
       "<pre>| 15.742ms                           | 0          |</pre>"
      ],
      "text/plain": [
       "| 15.742ms                           | 0          |"
      ]
     },
     "metadata": {},
     "output_type": "display_data"
    },
    {
     "data": {
      "text/html": [
       "<pre>| 355.642ms                          | 100        |</pre>"
      ],
      "text/plain": [
       "| 355.642ms                          | 100        |"
      ]
     },
     "metadata": {},
     "output_type": "display_data"
    },
    {
     "data": {
      "text/html": [
       "<pre>+------------------------------------+------------+</pre>"
      ],
      "text/plain": [
       "+------------------------------------+------------+"
      ]
     },
     "metadata": {},
     "output_type": "display_data"
    },
    {
     "data": {
      "text/html": [
       "<pre>+-------------------------------------+------------------+-----------------+</pre>"
      ],
      "text/plain": [
       "+-------------------------------------+------------------+-----------------+"
      ]
     },
     "metadata": {},
     "output_type": "display_data"
    },
    {
     "data": {
      "text/html": [
       "<pre>| Elapsed Time (Constructing Lookups) | Total % Complete | Items Processed |</pre>"
      ],
      "text/plain": [
       "| Elapsed Time (Constructing Lookups) | Total % Complete | Items Processed |"
      ]
     },
     "metadata": {},
     "output_type": "display_data"
    },
    {
     "data": {
      "text/html": [
       "<pre>+-------------------------------------+------------------+-----------------+</pre>"
      ],
      "text/plain": [
       "+-------------------------------------+------------------+-----------------+"
      ]
     },
     "metadata": {},
     "output_type": "display_data"
    },
    {
     "data": {
      "text/html": [
       "<pre>| 484.654ms                           | 0                | 0               |</pre>"
      ],
      "text/plain": [
       "| 484.654ms                           | 0                | 0               |"
      ]
     },
     "metadata": {},
     "output_type": "display_data"
    },
    {
     "data": {
      "text/html": [
       "<pre>+-------------------------------------+------------------+-----------------+</pre>"
      ],
      "text/plain": [
       "+-------------------------------------+------------------+-----------------+"
      ]
     },
     "metadata": {},
     "output_type": "display_data"
    },
    {
     "data": {
      "text/html": [
       "<pre>Processing data in one pass using sparse lookup tables.</pre>"
      ],
      "text/plain": [
       "Processing data in one pass using sparse lookup tables."
      ]
     },
     "metadata": {},
     "output_type": "display_data"
    },
    {
     "data": {
      "text/html": [
       "<pre>+-------------------------------------+------------------+-----------------+</pre>"
      ],
      "text/plain": [
       "+-------------------------------------+------------------+-----------------+"
      ]
     },
     "metadata": {},
     "output_type": "display_data"
    },
    {
     "data": {
      "text/html": [
       "<pre>| Elapsed Time (Constructing Lookups) | Total % Complete | Items Processed |</pre>"
      ],
      "text/plain": [
       "| Elapsed Time (Constructing Lookups) | Total % Complete | Items Processed |"
      ]
     },
     "metadata": {},
     "output_type": "display_data"
    },
    {
     "data": {
      "text/html": [
       "<pre>+-------------------------------------+------------------+-----------------+</pre>"
      ],
      "text/plain": [
       "+-------------------------------------+------------------+-----------------+"
      ]
     },
     "metadata": {},
     "output_type": "display_data"
    },
    {
     "data": {
      "text/html": [
       "<pre>| 1.48s                               | 27.75            | 45456           |</pre>"
      ],
      "text/plain": [
       "| 1.48s                               | 27.75            | 45456           |"
      ]
     },
     "metadata": {},
     "output_type": "display_data"
    },
    {
     "data": {
      "text/html": [
       "<pre>| 2.49s                               | 90               | 146867          |</pre>"
      ],
      "text/plain": [
       "| 2.49s                               | 90               | 146867          |"
      ]
     },
     "metadata": {},
     "output_type": "display_data"
    },
    {
     "data": {
      "text/html": [
       "<pre>| 2.95s                               | 100              | 163095          |</pre>"
      ],
      "text/plain": [
       "| 2.95s                               | 100              | 163095          |"
      ]
     },
     "metadata": {},
     "output_type": "display_data"
    },
    {
     "data": {
      "text/html": [
       "<pre>+-------------------------------------+------------------+-----------------+</pre>"
      ],
      "text/plain": [
       "+-------------------------------------+------------------+-----------------+"
      ]
     },
     "metadata": {},
     "output_type": "display_data"
    },
    {
     "data": {
      "text/html": [
       "<pre>Finalizing lookup tables.</pre>"
      ],
      "text/plain": [
       "Finalizing lookup tables."
      ]
     },
     "metadata": {},
     "output_type": "display_data"
    },
    {
     "data": {
      "text/html": [
       "<pre>Generating candidate set for working with new users.</pre>"
      ],
      "text/plain": [
       "Generating candidate set for working with new users."
      ]
     },
     "metadata": {},
     "output_type": "display_data"
    },
    {
     "data": {
      "text/html": [
       "<pre>Finished training in 3.04957s</pre>"
      ],
      "text/plain": [
       "Finished training in 3.04957s"
      ]
     },
     "metadata": {},
     "output_type": "display_data"
    },
    {
     "name": "stdout",
     "output_type": "stream",
     "text": [
      "\n",
      "Precision and recall summary statistics by cutoff\n",
      "+--------+----------------+-------------+\n",
      "| cutoff | mean_precision | mean_recall |\n",
      "+--------+----------------+-------------+\n",
      "|   1    |      0.0       |     0.0     |\n",
      "|   2    |      0.0       |     0.0     |\n",
      "|   3    |      0.0       |     0.0     |\n",
      "|   4    |      0.0       |     0.0     |\n",
      "|   5    |      0.0       |     0.0     |\n",
      "|   6    |      0.0       |     0.0     |\n",
      "|   7    |      0.0       |     0.0     |\n",
      "|   8    |      0.0       |     0.0     |\n",
      "|   9    |      0.0       |     0.0     |\n",
      "|   10   |      0.0       |     0.0     |\n",
      "+--------+----------------+-------------+\n",
      "[10 rows x 3 columns]\n",
      "\n",
      "('\\nOverall RMSE: ', 5.471660027577793)\n",
      "\n",
      "Per User RMSE (best)\n",
      "+-------------------------------+-------+------+\n",
      "|              user             | count | rmse |\n",
      "+-------------------------------+-------+------+\n",
      "| bb560bb8852897da731e52705e... |   1   | 0.0  |\n",
      "+-------------------------------+-------+------+\n",
      "[1 rows x 3 columns]\n",
      "\n",
      "\n",
      "Per User RMSE (worst)\n",
      "+-------------------------------+-------+------+\n",
      "|              user             | count | rmse |\n",
      "+-------------------------------+-------+------+\n",
      "| 8f06aa5ffa214dac220c131dca... |   1   | 47.0 |\n",
      "+-------------------------------+-------+------+\n",
      "[1 rows x 3 columns]\n",
      "\n",
      "\n",
      "Per Item RMSE (best)\n",
      "+--------------------+-------+------+\n",
      "|      song_id       | count | rmse |\n",
      "+--------------------+-------+------+\n",
      "| SOMWKUX12A8C133BC1 |   1   | 0.0  |\n",
      "+--------------------+-------+------+\n",
      "[1 rows x 3 columns]\n",
      "\n",
      "\n",
      "Per Item RMSE (worst)\n",
      "+--------------------+-------+---------------+\n",
      "|      song_id       | count |      rmse     |\n",
      "+--------------------+-------+---------------+\n",
      "| SOYAIPB12A8C143D84 |   1   | 71.3821138211 |\n",
      "+--------------------+-------+---------------+\n",
      "[1 rows x 3 columns]\n",
      "\n",
      "dict_keys(['rmse_by_user', 'precision_recall_overall', 'rmse_by_item', 'precision_recall_by_user', 'rmse_overall'])\n"
     ]
    }
   ],
   "source": [
    "#Preferred method selected above\n",
    "train_song, test_song = gl.recommender.util.random_split_by_user(combo_songs,\n",
    "                                                      user_id=\"user\", item_id=\"song_id\",\n",
    "                                                      item_test_proportion=0.2)\n",
    "\n",
    "song_rec = gl.recommender.item_similarity_recommender.create(train_song,\n",
    "                                                             user_id=\"user\",\n",
    "                                                             item_id=\"song_id\",\n",
    "                                                             target=\"plays\",\n",
    "                                                             only_top_k=5,\n",
    "                                                             similarity_type=\"pearson\")\n",
    "\n",
    "rmse_results = song_rec.evaluate(test_song)\n",
    "\n",
    "print rmse_results.viewkeys()"
   ]
  },
  {
   "cell_type": "code",
   "execution_count": null,
   "metadata": {
    "collapsed": false
   },
   "outputs": [],
   "source": [
    "from matplotlib import pyplot as plt\n",
    "%matplotlib inline\n",
    "plt.style.use('ggplot')\n",
    "\n",
    "rmsevals = rmse_results['rmse_by_item']['rmse']\n",
    "\n",
    "plt.hist(rmsevals, bins=20)\n",
    "plt.title('RMSE by Song')\n",
    "plt.show()"
   ]
  },
  {
   "cell_type": "markdown",
   "metadata": {},
   "source": [
    "The RMSE of most songs is relatively low.   However, we can see a few songs with very high RMSE or errors in the prediction from the training set to the testing set.   \n",
    "\n",
    "# To do:  find way to list highest RMSE songs"
   ]
  },
  {
   "cell_type": "code",
   "execution_count": null,
   "metadata": {
    "collapsed": false
   },
   "outputs": [],
   "source": [
    "from matplotlib import pyplot as plt\n",
    "%matplotlib inline\n",
    "plt.style.use('ggplot')\n",
    "\n",
    "rmsevals = rmse_results['rmse_by_user']['rmse']\n",
    "rmsevals = rmsevals[rmse_results['rmse_by_user']['count']>10]\n",
    "\n",
    "\n",
    "plt.hist(rmsevals, bins=20)\n",
    "plt.title('RMSE by User')\n",
    "plt.show()"
   ]
  },
  {
   "cell_type": "markdown",
   "metadata": {},
   "source": [
    "A few users have high RMSE.   As mentioned in the early analysis of the data, errors for the prediction of certain users may be related to multiple family members accessing the music using the same user ID.  In additon, the high RMSE may be due to eclectic music plays."
   ]
  },
  {
   "cell_type": "markdown",
   "metadata": {},
   "source": [
    "### Ranking Factorization Recommender\n",
    "The ranking factorication recommender learns factors from the user and item.  This model of prediction is preferred for rankings.  Since the plays data is similar to ranking, we will explore the effectiveness of this model.   This model is also know as cross validating collaborative filtering.   The model is very time consuming to process with a large dataset. "
   ]
  },
  {
   "cell_type": "code",
   "execution_count": 36,
   "metadata": {
    "collapsed": false
   },
   "outputs": [
    {
     "data": {
      "text/html": [
       "<pre>Recsys training: model = ranking_factorization_recommender</pre>"
      ],
      "text/plain": [
       "Recsys training: model = ranking_factorization_recommender"
      ]
     },
     "metadata": {},
     "output_type": "display_data"
    },
    {
     "data": {
      "text/html": [
       "<pre>Preparing data set.</pre>"
      ],
      "text/plain": [
       "Preparing data set."
      ]
     },
     "metadata": {},
     "output_type": "display_data"
    },
    {
     "data": {
      "text/html": [
       "<pre>    Data has 1489352 observations with 110000 users and 163095 items.</pre>"
      ],
      "text/plain": [
       "    Data has 1489352 observations with 110000 users and 163095 items."
      ]
     },
     "metadata": {},
     "output_type": "display_data"
    },
    {
     "data": {
      "text/html": [
       "<pre>    Data prepared in: 3.72523s</pre>"
      ],
      "text/plain": [
       "    Data prepared in: 3.72523s"
      ]
     },
     "metadata": {},
     "output_type": "display_data"
    },
    {
     "data": {
      "text/html": [
       "<pre>Training ranking_factorization_recommender for recommendations.</pre>"
      ],
      "text/plain": [
       "Training ranking_factorization_recommender for recommendations."
      ]
     },
     "metadata": {},
     "output_type": "display_data"
    },
    {
     "data": {
      "text/html": [
       "<pre>+--------------------------------+--------------------------------------------------+----------+</pre>"
      ],
      "text/plain": [
       "+--------------------------------+--------------------------------------------------+----------+"
      ]
     },
     "metadata": {},
     "output_type": "display_data"
    },
    {
     "data": {
      "text/html": [
       "<pre>| Parameter                      | Description                                      | Value    |</pre>"
      ],
      "text/plain": [
       "| Parameter                      | Description                                      | Value    |"
      ]
     },
     "metadata": {},
     "output_type": "display_data"
    },
    {
     "data": {
      "text/html": [
       "<pre>+--------------------------------+--------------------------------------------------+----------+</pre>"
      ],
      "text/plain": [
       "+--------------------------------+--------------------------------------------------+----------+"
      ]
     },
     "metadata": {},
     "output_type": "display_data"
    },
    {
     "data": {
      "text/html": [
       "<pre>| num_factors                    | Factor Dimension                                 | 32       |</pre>"
      ],
      "text/plain": [
       "| num_factors                    | Factor Dimension                                 | 32       |"
      ]
     },
     "metadata": {},
     "output_type": "display_data"
    },
    {
     "data": {
      "text/html": [
       "<pre>| regularization                 | L2 Regularization on Factors                     | 1e-09    |</pre>"
      ],
      "text/plain": [
       "| regularization                 | L2 Regularization on Factors                     | 1e-09    |"
      ]
     },
     "metadata": {},
     "output_type": "display_data"
    },
    {
     "data": {
      "text/html": [
       "<pre>| solver                         | Solver used for training                         | adagrad  |</pre>"
      ],
      "text/plain": [
       "| solver                         | Solver used for training                         | adagrad  |"
      ]
     },
     "metadata": {},
     "output_type": "display_data"
    },
    {
     "data": {
      "text/html": [
       "<pre>| linear_regularization          | L2 Regularization on Linear Coefficients         | 1e-09    |</pre>"
      ],
      "text/plain": [
       "| linear_regularization          | L2 Regularization on Linear Coefficients         | 1e-09    |"
      ]
     },
     "metadata": {},
     "output_type": "display_data"
    },
    {
     "data": {
      "text/html": [
       "<pre>| ranking_regularization         | Rank-based Regularization Weight                 | 0.25     |</pre>"
      ],
      "text/plain": [
       "| ranking_regularization         | Rank-based Regularization Weight                 | 0.25     |"
      ]
     },
     "metadata": {},
     "output_type": "display_data"
    },
    {
     "data": {
      "text/html": [
       "<pre>| max_iterations                 | Maximum Number of Iterations                     | 25       |</pre>"
      ],
      "text/plain": [
       "| max_iterations                 | Maximum Number of Iterations                     | 25       |"
      ]
     },
     "metadata": {},
     "output_type": "display_data"
    },
    {
     "data": {
      "text/html": [
       "<pre>+--------------------------------+--------------------------------------------------+----------+</pre>"
      ],
      "text/plain": [
       "+--------------------------------+--------------------------------------------------+----------+"
      ]
     },
     "metadata": {},
     "output_type": "display_data"
    },
    {
     "data": {
      "text/html": [
       "<pre>  Optimizing model using SGD; tuning step size.</pre>"
      ],
      "text/plain": [
       "  Optimizing model using SGD; tuning step size."
      ]
     },
     "metadata": {},
     "output_type": "display_data"
    },
    {
     "data": {
      "text/html": [
       "<pre>  Using 186169 / 1489352 points for tuning the step size.</pre>"
      ],
      "text/plain": [
       "  Using 186169 / 1489352 points for tuning the step size."
      ]
     },
     "metadata": {},
     "output_type": "display_data"
    },
    {
     "data": {
      "text/html": [
       "<pre>+---------+-------------------+------------------------------------------+</pre>"
      ],
      "text/plain": [
       "+---------+-------------------+------------------------------------------+"
      ]
     },
     "metadata": {},
     "output_type": "display_data"
    },
    {
     "data": {
      "text/html": [
       "<pre>| Attempt | Initial Step Size | Estimated Objective Value                |</pre>"
      ],
      "text/plain": [
       "| Attempt | Initial Step Size | Estimated Objective Value                |"
      ]
     },
     "metadata": {},
     "output_type": "display_data"
    },
    {
     "data": {
      "text/html": [
       "<pre>+---------+-------------------+------------------------------------------+</pre>"
      ],
      "text/plain": [
       "+---------+-------------------+------------------------------------------+"
      ]
     },
     "metadata": {},
     "output_type": "display_data"
    },
    {
     "data": {
      "text/html": [
       "<pre>| 0       | 7.14286           | Not Viable                               |</pre>"
      ],
      "text/plain": [
       "| 0       | 7.14286           | Not Viable                               |"
      ]
     },
     "metadata": {},
     "output_type": "display_data"
    },
    {
     "data": {
      "text/html": [
       "<pre>| 1       | 1.78571           | Not Viable                               |</pre>"
      ],
      "text/plain": [
       "| 1       | 1.78571           | Not Viable                               |"
      ]
     },
     "metadata": {},
     "output_type": "display_data"
    },
    {
     "data": {
      "text/html": [
       "<pre>| 2       | 0.446429          | Not Viable                               |</pre>"
      ],
      "text/plain": [
       "| 2       | 0.446429          | Not Viable                               |"
      ]
     },
     "metadata": {},
     "output_type": "display_data"
    },
    {
     "data": {
      "text/html": [
       "<pre>| 3       | 0.111607          | 48.1526                                  |</pre>"
      ],
      "text/plain": [
       "| 3       | 0.111607          | 48.1526                                  |"
      ]
     },
     "metadata": {},
     "output_type": "display_data"
    },
    {
     "data": {
      "text/html": [
       "<pre>| 4       | 0.0558036         | 55.4999                                  |</pre>"
      ],
      "text/plain": [
       "| 4       | 0.0558036         | 55.4999                                  |"
      ]
     },
     "metadata": {},
     "output_type": "display_data"
    },
    {
     "data": {
      "text/html": [
       "<pre>| 5       | 0.0279018         | 61.0443                                  |</pre>"
      ],
      "text/plain": [
       "| 5       | 0.0279018         | 61.0443                                  |"
      ]
     },
     "metadata": {},
     "output_type": "display_data"
    },
    {
     "data": {
      "text/html": [
       "<pre>| 6       | 0.0139509         | 68.6158                                  |</pre>"
      ],
      "text/plain": [
       "| 6       | 0.0139509         | 68.6158                                  |"
      ]
     },
     "metadata": {},
     "output_type": "display_data"
    },
    {
     "data": {
      "text/html": [
       "<pre>+---------+-------------------+------------------------------------------+</pre>"
      ],
      "text/plain": [
       "+---------+-------------------+------------------------------------------+"
      ]
     },
     "metadata": {},
     "output_type": "display_data"
    },
    {
     "data": {
      "text/html": [
       "<pre>| Final   | 0.111607          | 48.1526                                  |</pre>"
      ],
      "text/plain": [
       "| Final   | 0.111607          | 48.1526                                  |"
      ]
     },
     "metadata": {},
     "output_type": "display_data"
    },
    {
     "data": {
      "text/html": [
       "<pre>+---------+-------------------+------------------------------------------+</pre>"
      ],
      "text/plain": [
       "+---------+-------------------+------------------------------------------+"
      ]
     },
     "metadata": {},
     "output_type": "display_data"
    },
    {
     "data": {
      "text/html": [
       "<pre>Starting Optimization.</pre>"
      ],
      "text/plain": [
       "Starting Optimization."
      ]
     },
     "metadata": {},
     "output_type": "display_data"
    },
    {
     "data": {
      "text/html": [
       "<pre>+---------+--------------+-------------------+-----------------------+-------------+</pre>"
      ],
      "text/plain": [
       "+---------+--------------+-------------------+-----------------------+-------------+"
      ]
     },
     "metadata": {},
     "output_type": "display_data"
    },
    {
     "data": {
      "text/html": [
       "<pre>| Iter.   | Elapsed Time | Approx. Objective | Approx. Training RMSE | Step Size   |</pre>"
      ],
      "text/plain": [
       "| Iter.   | Elapsed Time | Approx. Objective | Approx. Training RMSE | Step Size   |"
      ]
     },
     "metadata": {},
     "output_type": "display_data"
    },
    {
     "data": {
      "text/html": [
       "<pre>+---------+--------------+-------------------+-----------------------+-------------+</pre>"
      ],
      "text/plain": [
       "+---------+--------------+-------------------+-----------------------+-------------+"
      ]
     },
     "metadata": {},
     "output_type": "display_data"
    },
    {
     "data": {
      "text/html": [
       "<pre>| Initial | 124us        | 96.5425           | 7.0175                |             |</pre>"
      ],
      "text/plain": [
       "| Initial | 124us        | 96.5425           | 7.0175                |             |"
      ]
     },
     "metadata": {},
     "output_type": "display_data"
    },
    {
     "data": {
      "text/html": [
       "<pre>+---------+--------------+-------------------+-----------------------+-------------+</pre>"
      ],
      "text/plain": [
       "+---------+--------------+-------------------+-----------------------+-------------+"
      ]
     },
     "metadata": {},
     "output_type": "display_data"
    },
    {
     "data": {
      "text/html": [
       "<pre>| 1       | 3.68s        | 121.912           | 9.55683               | 0.111607    |</pre>"
      ],
      "text/plain": [
       "| 1       | 3.68s        | 121.912           | 9.55683               | 0.111607    |"
      ]
     },
     "metadata": {},
     "output_type": "display_data"
    },
    {
     "data": {
      "text/html": [
       "<pre>| 2       | 7.46s        | 100.465           | 8.97077               | 0.111607    |</pre>"
      ],
      "text/plain": [
       "| 2       | 7.46s        | 100.465           | 8.97077               | 0.111607    |"
      ]
     },
     "metadata": {},
     "output_type": "display_data"
    },
    {
     "data": {
      "text/html": [
       "<pre>| 3       | 10.53s       | 103.393           | 9.11631               | 0.111607    |</pre>"
      ],
      "text/plain": [
       "| 3       | 10.53s       | 103.393           | 9.11631               | 0.111607    |"
      ]
     },
     "metadata": {},
     "output_type": "display_data"
    },
    {
     "data": {
      "text/html": [
       "<pre>| 4       | 13.99s       | 118.442           | 9.79481               | 0.111607    |</pre>"
      ],
      "text/plain": [
       "| 4       | 13.99s       | 118.442           | 9.79481               | 0.111607    |"
      ]
     },
     "metadata": {},
     "output_type": "display_data"
    },
    {
     "data": {
      "text/html": [
       "<pre>| 5       | 16.87s       | 150.284           | 11.1075               | 0.111607    |</pre>"
      ],
      "text/plain": [
       "| 5       | 16.87s       | 150.284           | 11.1075               | 0.111607    |"
      ]
     },
     "metadata": {},
     "output_type": "display_data"
    },
    {
     "data": {
      "text/html": [
       "<pre>| 6       | 20.99s       | DIVERGED          | DIVERGED              | 0.111607    |</pre>"
      ],
      "text/plain": [
       "| 6       | 20.99s       | DIVERGED          | DIVERGED              | 0.111607    |"
      ]
     },
     "metadata": {},
     "output_type": "display_data"
    },
    {
     "data": {
      "text/html": [
       "<pre>| RESET   | 22.67s       | 96.5426           | 7.0175                |             |</pre>"
      ],
      "text/plain": [
       "| RESET   | 22.67s       | 96.5426           | 7.0175                |             |"
      ]
     },
     "metadata": {},
     "output_type": "display_data"
    },
    {
     "data": {
      "text/html": [
       "<pre>| 1       | 26.62s       | 92.5759           | 8.12297               | 0.0558036   |</pre>"
      ],
      "text/plain": [
       "| 1       | 26.62s       | 92.5759           | 8.12297               | 0.0558036   |"
      ]
     },
     "metadata": {},
     "output_type": "display_data"
    },
    {
     "data": {
      "text/html": [
       "<pre>| 2       | 31.16s       | 76.6367           | 7.576                 | 0.0558036   |</pre>"
      ],
      "text/plain": [
       "| 2       | 31.16s       | 76.6367           | 7.576                 | 0.0558036   |"
      ]
     },
     "metadata": {},
     "output_type": "display_data"
    },
    {
     "data": {
      "text/html": [
       "<pre>| 3       | 35.42s       | 69.2561           | 7.1632                | 0.0558036   |</pre>"
      ],
      "text/plain": [
       "| 3       | 35.42s       | 69.2561           | 7.1632                | 0.0558036   |"
      ]
     },
     "metadata": {},
     "output_type": "display_data"
    },
    {
     "data": {
      "text/html": [
       "<pre>| 4       | 39.15s       | 65.0597           | 6.92571               | 0.0558036   |</pre>"
      ],
      "text/plain": [
       "| 4       | 39.15s       | 65.0597           | 6.92571               | 0.0558036   |"
      ]
     },
     "metadata": {},
     "output_type": "display_data"
    },
    {
     "data": {
      "text/html": [
       "<pre>| 5       | 42.21s       | 62.4508           | 6.77912               | 0.0558036   |</pre>"
      ],
      "text/plain": [
       "| 5       | 42.21s       | 62.4508           | 6.77912               | 0.0558036   |"
      ]
     },
     "metadata": {},
     "output_type": "display_data"
    },
    {
     "data": {
      "text/html": [
       "<pre>| 6       | 45.52s       | 60.5764           | 6.66772               | 0.0558036   |</pre>"
      ],
      "text/plain": [
       "| 6       | 45.52s       | 60.5764           | 6.66772               | 0.0558036   |"
      ]
     },
     "metadata": {},
     "output_type": "display_data"
    },
    {
     "data": {
      "text/html": [
       "<pre>| 7       | 48.87s       | 58.951            | 6.57274               | 0.0558036   |</pre>"
      ],
      "text/plain": [
       "| 7       | 48.87s       | 58.951            | 6.57274               | 0.0558036   |"
      ]
     },
     "metadata": {},
     "output_type": "display_data"
    },
    {
     "data": {
      "text/html": [
       "<pre>| 8       | 52.98s       | 57.6557           | 6.49832               | 0.0558036   |</pre>"
      ],
      "text/plain": [
       "| 8       | 52.98s       | 57.6557           | 6.49832               | 0.0558036   |"
      ]
     },
     "metadata": {},
     "output_type": "display_data"
    },
    {
     "data": {
      "text/html": [
       "<pre>| 9       | 56.12s       | 56.5821           | 6.43238               | 0.0558036   |</pre>"
      ],
      "text/plain": [
       "| 9       | 56.12s       | 56.5821           | 6.43238               | 0.0558036   |"
      ]
     },
     "metadata": {},
     "output_type": "display_data"
    },
    {
     "data": {
      "text/html": [
       "<pre>| 10      | 59.10s       | 55.6351           | 6.37449               | 0.0558036   |</pre>"
      ],
      "text/plain": [
       "| 10      | 59.10s       | 55.6351           | 6.37449               | 0.0558036   |"
      ]
     },
     "metadata": {},
     "output_type": "display_data"
    },
    {
     "data": {
      "text/html": [
       "<pre>| 11      | 1m 2s        | 54.7297           | 6.32029               | 0.0558036   |</pre>"
      ],
      "text/plain": [
       "| 11      | 1m 2s        | 54.7297           | 6.32029               | 0.0558036   |"
      ]
     },
     "metadata": {},
     "output_type": "display_data"
    },
    {
     "data": {
      "text/html": [
       "<pre>| 12      | 1m 5s        | 53.9186           | 6.26998               | 0.0558036   |</pre>"
      ],
      "text/plain": [
       "| 12      | 1m 5s        | 53.9186           | 6.26998               | 0.0558036   |"
      ]
     },
     "metadata": {},
     "output_type": "display_data"
    },
    {
     "data": {
      "text/html": [
       "<pre>| 13      | 1m 8s        | 53.1387           | 6.22326               | 0.0558036   |</pre>"
      ],
      "text/plain": [
       "| 13      | 1m 8s        | 53.1387           | 6.22326               | 0.0558036   |"
      ]
     },
     "metadata": {},
     "output_type": "display_data"
    },
    {
     "data": {
      "text/html": [
       "<pre>| 14      | 1m 11s       | 52.4578           | 6.17832               | 0.0558036   |</pre>"
      ],
      "text/plain": [
       "| 14      | 1m 11s       | 52.4578           | 6.17832               | 0.0558036   |"
      ]
     },
     "metadata": {},
     "output_type": "display_data"
    },
    {
     "data": {
      "text/html": [
       "<pre>| 15      | 1m 16s       | 51.8214           | 6.13845               | 0.0558036   |</pre>"
      ],
      "text/plain": [
       "| 15      | 1m 16s       | 51.8214           | 6.13845               | 0.0558036   |"
      ]
     },
     "metadata": {},
     "output_type": "display_data"
    },
    {
     "data": {
      "text/html": [
       "<pre>| 16      | 1m 19s       | 51.1943           | 6.09854               | 0.0558036   |</pre>"
      ],
      "text/plain": [
       "| 16      | 1m 19s       | 51.1943           | 6.09854               | 0.0558036   |"
      ]
     },
     "metadata": {},
     "output_type": "display_data"
    },
    {
     "data": {
      "text/html": [
       "<pre>| 17      | 1m 23s       | 50.5805           | 6.0599                | 0.0558036   |</pre>"
      ],
      "text/plain": [
       "| 17      | 1m 23s       | 50.5805           | 6.0599                | 0.0558036   |"
      ]
     },
     "metadata": {},
     "output_type": "display_data"
    },
    {
     "data": {
      "text/html": [
       "<pre>| 18      | 1m 27s       | 50.0211           | 6.02356               | 0.0558036   |</pre>"
      ],
      "text/plain": [
       "| 18      | 1m 27s       | 50.0211           | 6.02356               | 0.0558036   |"
      ]
     },
     "metadata": {},
     "output_type": "display_data"
    },
    {
     "data": {
      "text/html": [
       "<pre>| 19      | 1m 30s       | 49.5088           | 5.98812               | 0.0558036   |</pre>"
      ],
      "text/plain": [
       "| 19      | 1m 30s       | 49.5088           | 5.98812               | 0.0558036   |"
      ]
     },
     "metadata": {},
     "output_type": "display_data"
    },
    {
     "data": {
      "text/html": [
       "<pre>| 20      | 1m 34s       | 48.9759           | 5.95359               | 0.0558036   |</pre>"
      ],
      "text/plain": [
       "| 20      | 1m 34s       | 48.9759           | 5.95359               | 0.0558036   |"
      ]
     },
     "metadata": {},
     "output_type": "display_data"
    },
    {
     "data": {
      "text/html": [
       "<pre>| 21      | 1m 37s       | 48.5158           | 5.92135               | 0.0558036   |</pre>"
      ],
      "text/plain": [
       "| 21      | 1m 37s       | 48.5158           | 5.92135               | 0.0558036   |"
      ]
     },
     "metadata": {},
     "output_type": "display_data"
    },
    {
     "data": {
      "text/html": [
       "<pre>| 22      | 1m 40s       | 48.0084           | 5.88865               | 0.0558036   |</pre>"
      ],
      "text/plain": [
       "| 22      | 1m 40s       | 48.0084           | 5.88865               | 0.0558036   |"
      ]
     },
     "metadata": {},
     "output_type": "display_data"
    },
    {
     "data": {
      "text/html": [
       "<pre>| 23      | 1m 42s       | 47.5181           | 5.85669               | 0.0558036   |</pre>"
      ],
      "text/plain": [
       "| 23      | 1m 42s       | 47.5181           | 5.85669               | 0.0558036   |"
      ]
     },
     "metadata": {},
     "output_type": "display_data"
    },
    {
     "data": {
      "text/html": [
       "<pre>| 24      | 1m 45s       | 47.0848           | 5.82534               | 0.0558036   |</pre>"
      ],
      "text/plain": [
       "| 24      | 1m 45s       | 47.0848           | 5.82534               | 0.0558036   |"
      ]
     },
     "metadata": {},
     "output_type": "display_data"
    },
    {
     "data": {
      "text/html": [
       "<pre>+---------+--------------+-------------------+-----------------------+-------------+</pre>"
      ],
      "text/plain": [
       "+---------+--------------+-------------------+-----------------------+-------------+"
      ]
     },
     "metadata": {},
     "output_type": "display_data"
    },
    {
     "data": {
      "text/html": [
       "<pre>Optimization Complete: Maximum number of passes through the data reached (hard limit).</pre>"
      ],
      "text/plain": [
       "Optimization Complete: Maximum number of passes through the data reached (hard limit)."
      ]
     },
     "metadata": {},
     "output_type": "display_data"
    },
    {
     "data": {
      "text/html": [
       "<pre>Computing final objective value and training RMSE.</pre>"
      ],
      "text/plain": [
       "Computing final objective value and training RMSE."
      ]
     },
     "metadata": {},
     "output_type": "display_data"
    },
    {
     "data": {
      "text/html": [
       "<pre>       Final objective value: 44.3193</pre>"
      ],
      "text/plain": [
       "       Final objective value: 44.3193"
      ]
     },
     "metadata": {},
     "output_type": "display_data"
    },
    {
     "data": {
      "text/html": [
       "<pre>       Final training RMSE: 5.61823</pre>"
      ],
      "text/plain": [
       "       Final training RMSE: 5.61823"
      ]
     },
     "metadata": {},
     "output_type": "display_data"
    },
    {
     "name": "stdout",
     "output_type": "stream",
     "text": [
      "\n",
      "Precision and recall summary statistics by cutoff\n",
      "+--------+-------------------+-------------------+\n",
      "| cutoff |   mean_precision  |    mean_recall    |\n",
      "+--------+-------------------+-------------------+\n",
      "|   1    |  0.00115874855156 | 0.000289687137891 |\n",
      "|   2    | 0.000579374275782 | 0.000289687137891 |\n",
      "|   3    | 0.000386249517188 | 0.000289687137891 |\n",
      "|   4    | 0.000579374275782 | 0.000579374275782 |\n",
      "|   5    | 0.000463499420626 | 0.000579374275782 |\n",
      "|   6    | 0.000386249517188 | 0.000579374275782 |\n",
      "|   7    | 0.000331071014733 | 0.000579374275782 |\n",
      "|   8    | 0.000289687137891 | 0.000579374275782 |\n",
      "|   9    | 0.000257499678125 | 0.000579374275782 |\n",
      "|   10   | 0.000463499420626 | 0.000939873825158 |\n",
      "+--------+-------------------+-------------------+\n",
      "[10 rows x 3 columns]\n",
      "\n",
      "('\\nOverall RMSE: ', 5.9122153029011795)\n",
      "\n",
      "Per User RMSE (best)\n",
      "+-------------------------------+-------+-----------------+\n",
      "|              user             | count |       rmse      |\n",
      "+-------------------------------+-------+-----------------+\n",
      "| 3779c4987e9389679d7bcc49a0... |   1   | 0.0233471594493 |\n",
      "+-------------------------------+-------+-----------------+\n",
      "[1 rows x 3 columns]\n",
      "\n",
      "\n",
      "Per User RMSE (worst)\n",
      "+-------------------------------+-------+---------------+\n",
      "|              user             | count |      rmse     |\n",
      "+-------------------------------+-------+---------------+\n",
      "| 8f06aa5ffa214dac220c131dca... |   1   | 50.1625373015 |\n",
      "+-------------------------------+-------+---------------+\n",
      "[1 rows x 3 columns]\n",
      "\n",
      "\n",
      "Per Item RMSE (best)\n",
      "+--------------------+-------+------------------+\n",
      "|      song_id       | count |       rmse       |\n",
      "+--------------------+-------+------------------+\n",
      "| SOLOZRE12A8C133256 |   1   | 0.00254525310798 |\n",
      "+--------------------+-------+------------------+\n",
      "[1 rows x 3 columns]\n",
      "\n",
      "\n",
      "Per Item RMSE (worst)\n",
      "+--------------------+-------+---------------+\n",
      "|      song_id       | count |      rmse     |\n",
      "+--------------------+-------+---------------+\n",
      "| SOYAIPB12A8C143D84 |   1   | 73.3473022385 |\n",
      "+--------------------+-------+---------------+\n",
      "[1 rows x 3 columns]\n",
      "\n"
     ]
    }
   ],
   "source": [
    "recl = gl.recommender.ranking_factorization_recommender.create(train_song,\n",
    "                                                             user_id=\"user\",\n",
    "                                                             item_id=\"song_id\",\n",
    "                                                             target=\"plays\")\n",
    "\n",
    "rmse_results = recl.evaluate(test_song)"
   ]
  },
  {
   "cell_type": "code",
   "execution_count": 37,
   "metadata": {
    "collapsed": false
   },
   "outputs": [
    {
     "data": {
      "text/plain": [
       "5.9122153029011795"
      ]
     },
     "execution_count": 37,
     "metadata": {},
     "output_type": "execute_result"
    }
   ],
   "source": [
    "rmse_results['rmse_overall']"
   ]
  },
  {
   "cell_type": "markdown",
   "metadata": {},
   "source": [
    "The cross validation model increased the RMSE from 5.47 to 7.34.  "
   ]
  },
  {
   "cell_type": "code",
   "execution_count": 38,
   "metadata": {
    "collapsed": false
   },
   "outputs": [
    {
     "data": {
      "text/html": [
       "<div style=\"max-height:1000px;max-width:1500px;overflow:auto;\"><table frame=\"box\" rules=\"cols\">\n",
       "    <tr>\n",
       "        <th style=\"padding-left: 1em; padding-right: 1em; text-align: center\">cutoff</th>\n",
       "        <th style=\"padding-left: 1em; padding-right: 1em; text-align: center\">Avg of precision</th>\n",
       "        <th style=\"padding-left: 1em; padding-right: 1em; text-align: center\">Stdv of precision</th>\n",
       "        <th style=\"padding-left: 1em; padding-right: 1em; text-align: center\">Avg of recall</th>\n",
       "    </tr>\n",
       "    <tr>\n",
       "        <td style=\"padding-left: 1em; padding-right: 1em; text-align: center; vertical-align: top\">16</td>\n",
       "        <td style=\"padding-left: 1em; padding-right: 1em; text-align: center; vertical-align: top\">0.000434530706837</td>\n",
       "        <td style=\"padding-left: 1em; padding-right: 1em; text-align: center; vertical-align: top\">0.00519320250348</td>\n",
       "        <td style=\"padding-left: 1em; padding-right: 1em; text-align: center; vertical-align: top\">0.00180893523883</td>\n",
       "    </tr>\n",
       "    <tr>\n",
       "        <td style=\"padding-left: 1em; padding-right: 1em; text-align: center; vertical-align: top\">10</td>\n",
       "        <td style=\"padding-left: 1em; padding-right: 1em; text-align: center; vertical-align: top\">0.000463499420626</td>\n",
       "        <td style=\"padding-left: 1em; padding-right: 1em; text-align: center; vertical-align: top\">0.00679228314705</td>\n",
       "        <td style=\"padding-left: 1em; padding-right: 1em; text-align: center; vertical-align: top\">0.000939873825158</td>\n",
       "    </tr>\n",
       "    <tr>\n",
       "        <td style=\"padding-left: 1em; padding-right: 1em; text-align: center; vertical-align: top\">36</td>\n",
       "        <td style=\"padding-left: 1em; padding-right: 1em; text-align: center; vertical-align: top\">0.000708124114845</td>\n",
       "        <td style=\"padding-left: 1em; padding-right: 1em; text-align: center; vertical-align: top\">0.00457786705229</td>\n",
       "        <td style=\"padding-left: 1em; padding-right: 1em; text-align: center; vertical-align: top\">0.0087356765804</td>\n",
       "    </tr>\n",
       "    <tr>\n",
       "        <td style=\"padding-left: 1em; padding-right: 1em; text-align: center; vertical-align: top\">26</td>\n",
       "        <td style=\"padding-left: 1em; padding-right: 1em; text-align: center; vertical-align: top\">0.000668508779749</td>\n",
       "        <td style=\"padding-left: 1em; padding-right: 1em; text-align: center; vertical-align: top\">0.00502642737494</td>\n",
       "        <td style=\"padding-left: 1em; padding-right: 1em; text-align: center; vertical-align: top\">0.00542036822454</td>\n",
       "    </tr>\n",
       "    <tr>\n",
       "        <td style=\"padding-left: 1em; padding-right: 1em; text-align: center; vertical-align: top\">41</td>\n",
       "        <td style=\"padding-left: 1em; padding-right: 1em; text-align: center; vertical-align: top\">0.000678291835062</td>\n",
       "        <td style=\"padding-left: 1em; padding-right: 1em; text-align: center; vertical-align: top\">0.00417878755405</td>\n",
       "        <td style=\"padding-left: 1em; padding-right: 1em; text-align: center; vertical-align: top\">0.0104737994078</td>\n",
       "    </tr>\n",
       "    <tr>\n",
       "        <td style=\"padding-left: 1em; padding-right: 1em; text-align: center; vertical-align: top\">3</td>\n",
       "        <td style=\"padding-left: 1em; padding-right: 1em; text-align: center; vertical-align: top\">0.000386249517188</td>\n",
       "        <td style=\"padding-left: 1em; padding-right: 1em; text-align: center; vertical-align: top\">0.0113402226774</td>\n",
       "        <td style=\"padding-left: 1em; padding-right: 1em; text-align: center; vertical-align: top\">0.000289687137891</td>\n",
       "    </tr>\n",
       "    <tr>\n",
       "        <td style=\"padding-left: 1em; padding-right: 1em; text-align: center; vertical-align: top\">1</td>\n",
       "        <td style=\"padding-left: 1em; padding-right: 1em; text-align: center; vertical-align: top\">0.00115874855156</td>\n",
       "        <td style=\"padding-left: 1em; padding-right: 1em; text-align: center; vertical-align: top\">0.0340206680322</td>\n",
       "        <td style=\"padding-left: 1em; padding-right: 1em; text-align: center; vertical-align: top\">0.000289687137891</td>\n",
       "    </tr>\n",
       "    <tr>\n",
       "        <td style=\"padding-left: 1em; padding-right: 1em; text-align: center; vertical-align: top\">6</td>\n",
       "        <td style=\"padding-left: 1em; padding-right: 1em; text-align: center; vertical-align: top\">0.000386249517188</td>\n",
       "        <td style=\"padding-left: 1em; padding-right: 1em; text-align: center; vertical-align: top\">0.00801409575946</td>\n",
       "        <td style=\"padding-left: 1em; padding-right: 1em; text-align: center; vertical-align: top\">0.000579374275782</td>\n",
       "    </tr>\n",
       "    <tr>\n",
       "        <td style=\"padding-left: 1em; padding-right: 1em; text-align: center; vertical-align: top\">11</td>\n",
       "        <td style=\"padding-left: 1em; padding-right: 1em; text-align: center; vertical-align: top\">0.00042136310966</td>\n",
       "        <td style=\"padding-left: 1em; padding-right: 1em; text-align: center; vertical-align: top\">0.00617480286095</td>\n",
       "        <td style=\"padding-left: 1em; padding-right: 1em; text-align: center; vertical-align: top\">0.000939873825158</td>\n",
       "    </tr>\n",
       "    <tr>\n",
       "        <td style=\"padding-left: 1em; padding-right: 1em; text-align: center; vertical-align: top\">2</td>\n",
       "        <td style=\"padding-left: 1em; padding-right: 1em; text-align: center; vertical-align: top\">0.000579374275782</td>\n",
       "        <td style=\"padding-left: 1em; padding-right: 1em; text-align: center; vertical-align: top\">0.0170103340161</td>\n",
       "        <td style=\"padding-left: 1em; padding-right: 1em; text-align: center; vertical-align: top\">0.000289687137891</td>\n",
       "    </tr>\n",
       "</table>\n",
       "[18 rows x 4 columns]<br/>Note: Only the head of the SFrame is printed.<br/>You can use print_rows(num_rows=m, num_columns=n) to print more rows and columns.\n",
       "</div>"
      ],
      "text/plain": [
       "Columns:\n",
       "\tcutoff\tint\n",
       "\tAvg of precision\tfloat\n",
       "\tStdv of precision\tfloat\n",
       "\tAvg of recall\tfloat\n",
       "\n",
       "Rows: 18\n",
       "\n",
       "Data:\n",
       "+--------+-------------------+-------------------+-------------------+\n",
       "| cutoff |  Avg of precision | Stdv of precision |   Avg of recall   |\n",
       "+--------+-------------------+-------------------+-------------------+\n",
       "|   16   | 0.000434530706837 |  0.00519320250348 |  0.00180893523883 |\n",
       "|   10   | 0.000463499420626 |  0.00679228314705 | 0.000939873825158 |\n",
       "|   36   | 0.000708124114845 |  0.00457786705229 |  0.0087356765804  |\n",
       "|   26   | 0.000668508779749 |  0.00502642737494 |  0.00542036822454 |\n",
       "|   41   | 0.000678291835062 |  0.00417878755405 |  0.0104737994078  |\n",
       "|   3    | 0.000386249517188 |  0.0113402226774  | 0.000289687137891 |\n",
       "|   1    |  0.00115874855156 |  0.0340206680322  | 0.000289687137891 |\n",
       "|   6    | 0.000386249517188 |  0.00801409575946 | 0.000579374275782 |\n",
       "|   11   |  0.00042136310966 |  0.00617480286095 | 0.000939873825158 |\n",
       "|   2    | 0.000579374275782 |  0.0170103340161  | 0.000289687137891 |\n",
       "+--------+-------------------+-------------------+-------------------+\n",
       "[18 rows x 4 columns]\n",
       "Note: Only the head of the SFrame is printed.\n",
       "You can use print_rows(num_rows=m, num_columns=n) to print more rows and columns."
      ]
     },
     "execution_count": 38,
     "metadata": {},
     "output_type": "execute_result"
    }
   ],
   "source": [
    "rmse_results['precision_recall_by_user'].groupby('cutoff',[agg.AVG('precision'),agg.STD('precision'),agg.AVG('recall')])"
   ]
  },
  {
   "cell_type": "markdown",
   "metadata": {},
   "source": [
    "The aggregate of the precision and recall are evaluated for this model.   Precision is the measurement of not predicting falsely.  Recall is the measurement of correct predictions.  Accuracy is the measure the fraction of prediting correct.  "
   ]
  },
  {
   "cell_type": "markdown",
   "metadata": {},
   "source": [
    "### Determine correct number of latent factors"
   ]
  },
  {
   "cell_type": "markdown",
   "metadata": {},
   "source": [
    "Since the RMSE decreased with the cross validation, the model will be slightly adjusted from the default to analyze again with the number latent factors clearly designated.  Before determining the correct number of latent factors, models will be run for 4 different possible latent factors.  "
   ]
  },
  {
   "cell_type": "code",
   "execution_count": 39,
   "metadata": {
    "collapsed": true
   },
   "outputs": [],
   "source": [
    "params = {'user_id': 'user',\n",
    "         'item_id': 'song_id',\n",
    "         'target': 'plays',\n",
    "         'num_factors': [4, 10, 20],\n",
    "         'regularization': [0.001] ,\n",
    "         'linear_regularization': [0.001]}\n",
    "\n",
    "job = gl.model_parameter_search.create( (train_song,test_song),\n",
    "                                      gl.recommender.ranking_factorization_recommender.create,\n",
    "                                      params,\n",
    "                                      max_models=3,\n",
    "                                      environment=None)\n"
   ]
  },
  {
   "cell_type": "code",
   "execution_count": null,
   "metadata": {
    "collapsed": false
   },
   "outputs": [],
   "source": [
    "job.get_status()"
   ]
  },
  {
   "cell_type": "code",
   "execution_count": null,
   "metadata": {
    "collapsed": true
   },
   "outputs": [],
   "source": [
    "job_result = job.get_results()\n",
    "\n",
    "job_result.head()"
   ]
  },
  {
   "cell_type": "code",
   "execution_count": null,
   "metadata": {
    "collapsed": true
   },
   "outputs": [],
   "source": [
    "bst_prms = job.get_best_params()\n",
    "bst_prms"
   ]
  },
  {
   "cell_type": "code",
   "execution_count": null,
   "metadata": {
    "collapsed": true
   },
   "outputs": [],
   "source": [
    "models = job.get_models()\n",
    "models"
   ]
  },
  {
   "cell_type": "code",
   "execution_count": null,
   "metadata": {
    "collapsed": true
   },
   "outputs": [],
   "source": [
    "comparisonstruct = gl.compare(test_song,models)\n",
    "gl.show_comparison(comparisonstruct,models)"
   ]
  },
  {
   "cell_type": "code",
   "execution_count": null,
   "metadata": {
    "collapsed": true
   },
   "outputs": [],
   "source": [
    "models[1]"
   ]
  },
  {
   "cell_type": "markdown",
   "metadata": {},
   "source": [
    "# Based on the results of the above - manually change the num_factors to that number for the latent factors."
   ]
  },
  {
   "cell_type": "code",
   "execution_count": null,
   "metadata": {
    "collapsed": false
   },
   "outputs": [],
   "source": [
    "recl = gl.recommender.ranking_factorization_recommender.create(train_song,\n",
    "                                                             user_id=\"user\",\n",
    "                                                             item_id=\"song_id\",\n",
    "                                                             target=\"plays\",\n",
    "                                                              num_factors=10, \n",
    "                                                              regularization=1e-02,\n",
    "                                                              linear_regularization = 1e-3)\n",
    "\n",
    "rmse_results = recl.evaluate(test_song)"
   ]
  },
  {
   "cell_type": "code",
   "execution_count": null,
   "metadata": {
    "collapsed": false
   },
   "outputs": [],
   "source": [
    "rmse_results['rmse_overall']"
   ]
  },
  {
   "cell_type": "code",
   "execution_count": null,
   "metadata": {
    "collapsed": false
   },
   "outputs": [],
   "source": [
    "rmse_results['precision_recall_by_user'].groupby('cutoff',[agg.AVG('precision'),agg.STD('precision'),agg.AVG('recall')])"
   ]
  },
  {
   "cell_type": "markdown",
   "metadata": {},
   "source": []
  },
  {
   "cell_type": "markdown",
   "metadata": {},
   "source": [
    "The comparison between the models"
   ]
  },
  {
   "cell_type": "code",
   "execution_count": null,
   "metadata": {
    "collapsed": true
   },
   "outputs": [],
   "source": [
    "comparisonstruct = gl.compare(test_song, [song_rec, recl])"
   ]
  },
  {
   "cell_type": "code",
   "execution_count": null,
   "metadata": {
    "collapsed": false
   },
   "outputs": [],
   "source": [
    "comparisonstruct = gl.compare(test_song, [song_rec, recl])"
   ]
  },
  {
   "cell_type": "code",
   "execution_count": null,
   "metadata": {
    "collapsed": true
   },
   "outputs": [],
   "source": [
    "gl.show_comparison(comparisonstruct,[song_rec, recl])"
   ]
  },
  {
   "cell_type": "code",
   "execution_count": null,
   "metadata": {
    "collapsed": true
   },
   "outputs": [],
   "source": []
  },
  {
   "cell_type": "markdown",
   "metadata": {},
   "source": [
    "## Summarize the Ramifications"
   ]
  },
  {
   "cell_type": "code",
   "execution_count": null,
   "metadata": {
    "collapsed": true
   },
   "outputs": [],
   "source": []
  },
  {
   "cell_type": "markdown",
   "metadata": {},
   "source": [
    "## Deployment"
   ]
  },
  {
   "cell_type": "markdown",
   "metadata": {},
   "source": [
    "Turi has in depth documentation on how to deploy a GraphLab model. Specifically, there seems to be three ways to make a deployment:\n",
    "\n",
    " - Turi Distributed\n",
    " - Turi Predictive Services\n",
    " - Simply running `predict` against your chosen model\n",
    " \n",
    " \n",
    "[Turi Distributed](https://turi.com/learn/userguide/deployment/pipeline-introduction.html) provides a way to distribute to ec2 or hadoop clusters. Turi Distributed also adds some management tools to help with your production environment.\n",
    "\n",
    "[Turi Predictive Services](https://turi.com/learn/userguide/deployment/pred-intro.html) offers another service to deploy your models. This way may be considered to be more robust as much of the deployment process and management is completely automated.\n",
    "\n",
    "If the production environment would be on a local environment, you could just load your model locally and run predictions as needed.\n"
   ]
  },
  {
   "cell_type": "markdown",
   "metadata": {},
   "source": [
    "## Exceptional Work"
   ]
  },
  {
   "cell_type": "markdown",
   "metadata": {},
   "source": [
    "We were really excited to see this project in action. We tried all three different ways to deploy our model. The first two \"automated\" ways to deploy threw errors when we got to the final steps due to some S3 error.\n",
    "\n",
    "We attempted to create our own small environment. The working example can be seen below:"
   ]
  },
  {
   "cell_type": "code",
   "execution_count": null,
   "metadata": {
    "collapsed": false
   },
   "outputs": [],
   "source": [
    "from IPython.display import IFrame\n",
    "IFrame('http://ec2-52-53-178-233.us-west-1.compute.amazonaws.com:3000/', width=700, height=220)"
   ]
  },
  {
   "cell_type": "markdown",
   "metadata": {},
   "source": [
    "As you can see, if you select a song title, another song will be recommended based on your choice. This project includes having a python script that polls for a `song_id` as its stdin, which then returns a list of recommendations. A nodejs server sits above the python script to provide a fast, lightweight web server to serve the recommendations. The full source code for this project can be found [here](https://github.com/kjprice/graph-lab-demo)."
   ]
  },
  {
   "cell_type": "markdown",
   "metadata": {
    "collapsed": true
   },
   "source": [
    "## References\n",
    "\n",
    "Reference for the dataset:\n",
    "@INPROCEEDINGS{Bertin-Mahieux2011,\n",
    "  author = {Thierry Bertin-Mahieux and Daniel P.W. Ellis and Brian Whitman and Paul Lamere},\n",
    "  title = {The Million Song Dataset},\n",
    "  booktitle = {{Proceedings of the 12th International Conference on Music Information\n",
    "\tRetrieval ({ISMIR} 2011)}},\n",
    "  year = {2011},\n",
    "  owner = {thierry},\n",
    "  timestamp = {2010.03.07}\n",
    "  "
   ]
  },
  {
   "cell_type": "code",
   "execution_count": null,
   "metadata": {
    "collapsed": true
   },
   "outputs": [],
   "source": []
  }
 ],
 "metadata": {
  "kernelspec": {
   "display_name": "Python [conda env:gl-env]",
   "language": "python",
   "name": "conda-env-gl-env-py"
  },
  "language_info": {
   "codemirror_mode": {
    "name": "ipython",
    "version": 2
   },
   "file_extension": ".py",
   "mimetype": "text/x-python",
   "name": "python",
   "nbconvert_exporter": "python",
   "pygments_lexer": "ipython2",
   "version": "2.7.11"
  }
 },
 "nbformat": 4,
 "nbformat_minor": 2
}
