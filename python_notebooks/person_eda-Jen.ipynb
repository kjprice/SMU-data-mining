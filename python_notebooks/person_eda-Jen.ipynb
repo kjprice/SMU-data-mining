{
 "cells": [
  {
   "cell_type": "markdown",
   "metadata": {},
   "source": [
    "# General Understanding\n",
    "\n",
    "The United States constitution requires a decennial census.   The census provides a headcount which does not provide enough details to make data driven decisions about the distribution of government funds.  A long form census with necessary details was introduced in the 20th century.   Only one in six households received the additional questions on the long form.  In the 21st century, the American Community Survey (ACS) was established to conduct ongoing surveys with the details previously included on the decennial long form census.   The ACS survey results provide data to determine the appropriate distribution of more than $400 billion in federal and state funds.  The funds are for social programs as well as physical and service infrastructure.  Annually 3.5 million homes are surveyed for the ACS.   \n",
    "\n",
    "The attributes from the personal data allow for exploration of the correlation between select attributes and the total income. \n",
    "\n",
    "\n",
    "Source: https://www.census.gov/programs-surveys/acs/\n",
    "        https://www.kaggle.com/census/2013-american-community-survey\n"
   ]
  },
  {
   "cell_type": "markdown",
   "metadata": {},
   "source": [
    "# Data Description\n",
    "\n",
    "Data from the 2013 ACS is available.  The data is segmented into housing data which applies to the entire household and personal data which provides detailed data for all individuals living in the household surveyed.  The household and personal data are independent.   No attempt was made to consolidate the files on this exploration of the data.   \n",
    "\n",
    "Due to the size of the files and the number of attributes, the focus was on the 2.5% random sample of the personal data.  The personal data sample contains over seventy thousand (78,320) records with 283 attributes.  The descriptions of all attributes is contained in the data dictionary from the US Census Bureau.\n",
    "\n",
    "Data Dictionary:  https://www2.census.gov/programs-surveys/acs/tech_docs/pums/data_dict/PUMSDataDict13.txt\n",
    "\n",
    "For the exploratory analysis, all children were omitted from the data.  The question was the factors influencing poverty and income.  Any inferences would be limited to the sample population and would not be causal inferences.\n",
    "\n",
    "\n",
    "### Data Descriptions\n",
    "Several key variables were included in the exploratory analysis.  The following lists the attributes used for the data exploration.    \n",
    "\n",
    "Attributes used for data exploration and visualization:\n",
    "  * AGEP:  Age of person (continuous 0-95)\n",
    "  * CIT:  Citizenship status (categorical - numerical key)\n",
    "  * CIT_CAT:  Citizenship status (categorical - string)\n",
    "  * COW:  Class of worker (categorical - string)\n",
    "  * ENG:  Ability to speak English (categorical scale of 1-4 and native speakers)\n",
    "  * JWMNP:  Travel time to work (continuous - minutes of commute to work)\n",
    "  * JWTR:  Means of transportation to work (categorical - 12 modes of transportation)\n",
    "  * MAR:  Marital status (categorical - 5 categories: married, divorced, separated, single, widow)\n",
    "  * OC_CAT:  Own child (Boolean)\n",
    "  * PAP:  Public assistance income past 12 months (continuous variable of dollars of assistance received)\n",
    "  * PINCP:  Total person's income (continuous of total income)\n",
    "  * POVPIP:  Income-to-poverty ratio recode (continuous with a cap at 501)\n",
    "  * PUMA:  Public use microdata area code (PUMA) based on 2010 Census  (provides geographic data of individual location)\n",
    "  * RAC1P:  Recoded detailed race code (categorical - 9 categories including 7 primary categories and 2 miscellaneous categories)\n",
    "  * SCHL:  Educational attainment (continuous - years of completed education)\n",
    "  * SEX:  Sex (gender of female or male)\n",
    "  "
   ]
  },
  {
   "cell_type": "markdown",
   "metadata": {},
   "source": [
    "### Randomized Sampling of the ACS Personal Data\n",
    "A randomized sample was generated from the "
   ]
  },
  {
   "cell_type": "code",
   "execution_count": null,
   "metadata": {
    "collapsed": true
   },
   "outputs": [],
   "source": [
    "#####Need to add in code for sampling#######"
   ]
  },
  {
   "cell_type": "markdown",
   "metadata": {},
   "source": [
    "### Data Loaded\n",
    "The data is loaded from the random sample"
   ]
  },
  {
   "cell_type": "code",
   "execution_count": 1,
   "metadata": {
    "collapsed": true
   },
   "outputs": [],
   "source": [
    "import pandas as pd\n",
    "import numpy as np\n",
    "import matplotlib.pyplot as plt"
   ]
  },
  {
   "cell_type": "markdown",
   "metadata": {},
   "source": [
    "The original dataset contained approximately 3.1 million records. We quickly found that using the entire dataset would be much too arduous on our computers and would take too much time to gain meaningful information from the data.\n",
    "\n",
    "Instead of using the massive, original dataset; we decided to take a subset of the dataset. The new dataset includes 2.5% of the original obserations (approximate 78,000 rows). We recognize that there will be some loss in the interpretability of any statistical observations we make on this subset."
   ]
  },
  {
   "cell_type": "code",
   "execution_count": 2,
   "metadata": {
    "collapsed": false
   },
   "outputs": [],
   "source": [
    "df = pd.read_csv('../data/person-subset-2.5percent.csv')"
   ]
  },
  {
   "cell_type": "markdown",
   "metadata": {},
   "source": [
    "## Poverty"
   ]
  },
  {
   "cell_type": "code",
   "execution_count": 3,
   "metadata": {
    "collapsed": false
   },
   "outputs": [
    {
     "data": {
      "text/plain": [
       "count    75204.000000\n",
       "mean       304.934019\n",
       "std        165.949662\n",
       "min          0.000000\n",
       "25%        159.000000\n",
       "50%        307.000000\n",
       "75%        501.000000\n",
       "max        501.000000\n",
       "Name: POVPIP, dtype: float64"
      ]
     },
     "execution_count": 3,
     "metadata": {},
     "output_type": "execute_result"
    }
   ],
   "source": [
    "df.POVPIP.describe()"
   ]
  },
  {
   "cell_type": "code",
   "execution_count": 4,
   "metadata": {
    "collapsed": false
   },
   "outputs": [
    {
     "data": {
      "image/png": "[encoded data removed]",
      "text/plain": [
       "<matplotlib.figure.Figure at 0x110156ed0>"
      ]
     },
     "metadata": {},
     "output_type": "display_data"
    }
   ],
   "source": [
    "df.POVPIP.hist()\n",
    "plt.show()"
   ]
  },
  {
   "cell_type": "markdown",
   "metadata": {
    "collapsed": true
   },
   "source": [
    "### Relationships between attributes\n",
    "The focus of data exploration was on the effects of various attributes on income and poverty.   \n",
    "\n",
    "#### Relationship between travel time to work in total income:\n",
    "The correlation between the travel time and the total income was not as expected.  The expectation was that longer travel times would be for higher paying employment.  One possibility to explore is the travel times may be longer in the rural areas where wages are traditionally lower as in the cost of living. "
   ]
  },
  {
   "cell_type": "code",
   "execution_count": null,
   "metadata": {
    "collapsed": true
   },
   "outputs": [],
   "source": [
    "### Scatterplot of Income and commute time\n",
    "df.plot.scatter(x='JWMNP', y='PINCP')\n",
    "plt.xlabel('Commute Time in minutes')\n",
    "plt.ylabel('Income')"
   ]
  },
  {
   "cell_type": "markdown",
   "metadata": {
    "collapsed": true
   },
   "source": [
    "#### Relationship between Ability to speak English and Income:\n",
    "The ACS is focused on US households.  The ability to speak English has a strong impact on income.  Interestingly, the average income for non-native English speaker who speak very well is higher than the average income for native speakers of English.  "
   ]
  },
  {
   "cell_type": "code",
   "execution_count": null,
   "metadata": {
    "collapsed": true
   },
   "outputs": [],
   "source": [
    "### Barplot of Average Income and Ability to Speak English\n",
    "df.groupby('ENG_CAT').PINCP.mean().plot.bar()\n",
    "plt.xlabel('Ability to Speak English')\n",
    "plt.ylabel('Average Income')"
   ]
  },
  {
   "cell_type": "markdown",
   "metadata": {
    "collapsed": true
   },
   "source": [
    "#### Relationship between years of education and Income:\n",
    "As expected, the years of education have a correlation to the income.  Interestingly, the correlation has some exceptions.   Income for those who only completed high school or some college does not increase.   A significant jump in income can be seen with the completion of college."
   ]
  },
  {
   "cell_type": "code",
   "execution_count": null,
   "metadata": {
    "collapsed": true
   },
   "outputs": [],
   "source": [
    "### Simple plot of years of education and total income\n",
    "df.plot.scatter(x='SCHL', y='PINCP')\n",
    "plt.xlabel('Years of Education')\n",
    "plt.ylabel('Income')"
   ]
  },
  {
   "cell_type": "markdown",
   "metadata": {
    "collapsed": true
   },
   "source": [
    "#### Relationship of Gender and Marital Status on Poverty\n",
    "A subset of the random sample containing only those with poverty level income to poverty ratios was created.  A comparison of the number of individuals of each marital status and gender was examined.  Single women had the highest frequency of poverty.  In all marital status categories, women had higher frequencies of poverty."
   ]
  },
  {
   "cell_type": "code",
   "execution_count": null,
   "metadata": {
    "collapsed": true
   },
   "outputs": [],
   "source": [
    "### Gender and Marital Status in poverty\n",
    "df_poverty = df[df.POVPIP <100]\n",
    "df_grouped = df_poverty.groupby(by=['MAR', 'SEX'])\n",
    "genderpov=df_grouped.MAR.count()\n",
    "genderpov_df = genderpov.to_frame('genderpov')\n",
    "print (genderpov_df)\n",
    "print (genderpov_df.unstack())\n",
    "ax = genderpov.unstack().plot(kind='bar')\n",
    "plt.xlabel('Marital Status')\n",
    "plt.ylabel('Income')"
   ]
  },
  {
   "cell_type": "markdown",
   "metadata": {},
   "source": [
    "#### Relationship of Race and Income\n",
    "Several attributes from the survey apply to the ancestry and race.  One attribute was the highest level only considering 7 primary categories of race.  The average income for the racial categories were varied.  The average income of those indicating Asian was the highest."
   ]
  },
  {
   "cell_type": "code",
   "execution_count": null,
   "metadata": {
    "collapsed": true
   },
   "outputs": [],
   "source": [
    "### Attempt race and income\n",
    "df['RAC1P'] = df.RAC1P.astype('category').astype('str')\n",
    "df.RAC1P = df.RAC1P \\\n",
    "    .replace('1', 'White') \\\n",
    "    .replace('2', 'Afican American') \\\n",
    "    .replace('3', 'American Indian') \\\n",
    "    .replace('4', 'Alaska Native') \\\n",
    "    .replace('5', 'Native American Unspecified') \\\n",
    "    .replace('6', 'Asian') \\\n",
    "    .replace('7', 'Native Pacific Islander') \\\n",
    "    .replace('8', 'Other') \\\n",
    "    .replace('9', 'More than 2 races')\n",
    "\n",
    "df_race = df.groupby(by='RAC1P')\n",
    "race = df_race.PINCP.mean()\n",
    "print(race)\n",
    "ax = race.plot(kind='bar')\n",
    "plt.xlabel('Race')\n",
    "plt.ylabel('Average Income')"
   ]
  },
  {
   "cell_type": "markdown",
   "metadata": {},
   "source": [
    "#### Relationship of Gender and Income\n",
    "The relationship between gender and income is often a social discussion.  No consideration was given to any factors other than gender.   Other attributes such as class of worker, education, and type of position may impact the income.  The average income for women was 58.7% of male average income."
   ]
  },
  {
   "cell_type": "code",
   "execution_count": null,
   "metadata": {
    "collapsed": true
   },
   "outputs": [],
   "source": [
    "### Attempt race and income\n",
    "df_sex = df.groupby(by='SEX')\n",
    "sex = df_sex.PINCP.mean()\n",
    "print(sex)\n",
    "ax = sex.plot(kind='barh')\n",
    "plt.ylabel('Gender')\n",
    "plt.xlabel('Average Income')\n",
    "\n",
    "df_women = df[df.SEX == \"Female\"]\n",
    "df_men = df[df.SEX == \"Male\"]\n",
    "fem = df_women.PINCP.mean()\n",
    "mal = df_men.PINCP.mean()\n",
    "per = fem/mal\n",
    "print (per)"
   ]
  },
  {
   "cell_type": "markdown",
   "metadata": {},
   "source": [
    "### Additional Features\n",
    "As mentioned in the introduction, other attributes may be considered in the analysis of the data.   Included in the personal data are military history, disabilities, race, and ancestry.   In the associated housing file, attributes about housing details, expenses of the household, and internet access are included.  Due to the one to many relationship from the housing data to the personal data, no attempt was made to combine the data at this time.\n",
    "\n",
    "Examples of additional attributes that may be explored within the personal dataset:\n",
    "    * Disabilities: Includes a variety of disability indicators such as vision, hearing, cognitive, and self-care.\n",
    "    * Military Service: Includes era of service, duration of service, and disability from service.\n",
    "    * Ancestry:  Includes more specific details on race as well as country of origin for ancestry.\n",
    "    * Family unit:  Includes details about multigenerational homes and the responsibility of grandparents caring for grandchildren.\n",
    "    * Insurance:  Includes the source of the insurance.\n",
    "\n",
    "Examples of attributes from the housing data:\n",
    "    * Home features:  Includes bathrooms, bedrooms, running water, and other home features.\n",
    "    * Internet access types.\n",
    "    * Home expenses:  Includes utilities, rent, and mortgages."
   ]
  },
  {
   "cell_type": "code",
   "execution_count": null,
   "metadata": {
    "collapsed": true
   },
   "outputs": [],
   "source": []
  }
 ],
 "metadata": {
  "anaconda-cloud": {},
  "kernelspec": {
   "display_name": "Python [default]",
   "language": "python",
   "name": "python3"
  },
  "language_info": {
   "codemirror_mode": {
    "name": "ipython",
    "version": 3
   },
   "file_extension": ".py",
   "mimetype": "text/x-python",
   "name": "python",
   "nbconvert_exporter": "python",
   "pygments_lexer": "ipython3",
   "version": "3.5.2"
  }
 },
 "nbformat": 4,
 "nbformat_minor": 1
}
