{
 "cells": [
  {
   "cell_type": "code",
   "execution_count": 1,
   "metadata": {
    "collapsed": false
   },
   "outputs": [],
   "source": [
    "import pandas as pd\n",
    "import numpy as np\n",
    "import matplotlib.pyplot as plt"
   ]
  },
  {
   "cell_type": "code",
   "execution_count": 2,
   "metadata": {
    "collapsed": false
   },
   "outputs": [],
   "source": [
    "person_raw = pd.read_csv('../data/person-subset-2.5percent.csv')"
   ]
  },
  {
   "cell_type": "code",
   "execution_count": 3,
   "metadata": {
    "collapsed": true
   },
   "outputs": [],
   "source": [
    "df = person_raw.copy(deep=True)"
   ]
  },
  {
   "cell_type": "code",
   "execution_count": 4,
   "metadata": {
    "collapsed": true
   },
   "outputs": [],
   "source": [
    "\n",
    "# Clean important features\n",
    "### Change from numeric to categorical (ordinal)\n",
    "df['CIT_CAT'] = df.CIT.astype('category').astype('str')\n",
    "df.CIT_CAT = df.CIT_CAT \\\n",
    "    .replace('1', 'Born - USA') \\\n",
    "    .replace('2', 'Born - USA Territory') \\\n",
    "    .replace('3', 'Born - Abroad (American Parents)') \\\n",
    "    .replace('4', 'Citizen - Naturalization') \\\n",
    "    .replace('5', 'Not Citizen')\n",
    "\n",
    "df['OC_CAT'] = df.OC.astype('category').astype(bool)\n",
    "\n",
    "df['ENG_CAT'] = df.ENG.astype('category')\n",
    "\n",
    "important_features = [\n",
    "    'PINCP',    # Total person's income (signed)\n",
    "    'POVPIP',   # Income-to-poverty ratio recode (continuous)\n",
    "    'JWMNP',    # Travel time to work (continuous)\n",
    "    'AGEP',     # Age of person (continuous 0-95)\n",
    "    'PWGTP',    # Person's weight (continuous)\n",
    "    'CIT_CAT',  # Citizenship status (categorical - string)\n",
    "    'OC_CAT',   # Own child (Boolean)\n",
    "    'ENG_CAT'   # Ability to speak English (ordinal 1-4)\n",
    "]"
   ]
  },
  {
   "cell_type": "code",
   "execution_count": 5,
   "metadata": {
    "collapsed": false
   },
   "outputs": [],
   "source": [
    "df = df[important_features]"
   ]
  },
  {
   "cell_type": "code",
   "execution_count": 6,
   "metadata": {
    "collapsed": false
   },
   "outputs": [
    {
     "name": "stdout",
     "output_type": "stream",
     "text": [
      "<class 'pandas.core.frame.DataFrame'>\n",
      "RangeIndex: 78320 entries, 0 to 78319\n",
      "Data columns (total 8 columns):\n",
      "PINCP      64498 non-null float64\n",
      "POVPIP     75204 non-null float64\n",
      "JWMNP      33117 non-null float64\n",
      "AGEP       78320 non-null int64\n",
      "PWGTP      78320 non-null int64\n",
      "CIT_CAT    78320 non-null object\n",
      "OC_CAT     78320 non-null bool\n",
      "ENG_CAT    13310 non-null category\n",
      "dtypes: bool(1), category(1), float64(3), int64(2), object(1)\n",
      "memory usage: 3.7+ MB\n"
     ]
    }
   ],
   "source": [
    "df.info()"
   ]
  },
  {
   "cell_type": "code",
   "execution_count": 7,
   "metadata": {
    "collapsed": false
   },
   "outputs": [
    {
     "data": {
      "text/html": [
       "<div>\n",
       "<table border=\"1\" class=\"dataframe\">\n",
       "  <thead>\n",
       "    <tr style=\"text-align: right;\">\n",
       "      <th></th>\n",
       "      <th>PINCP</th>\n",
       "      <th>POVPIP</th>\n",
       "      <th>JWMNP</th>\n",
       "      <th>PWGTP</th>\n",
       "      <th>AGEP</th>\n",
       "    </tr>\n",
       "  </thead>\n",
       "  <tbody>\n",
       "    <tr>\n",
       "      <th>count</th>\n",
       "      <td>64498</td>\n",
       "      <td>75204</td>\n",
       "      <td>33117</td>\n",
       "      <td>78320</td>\n",
       "      <td>78320</td>\n",
       "    </tr>\n",
       "    <tr>\n",
       "      <th>mean</th>\n",
       "      <td>35980</td>\n",
       "      <td>304</td>\n",
       "      <td>26</td>\n",
       "      <td>101</td>\n",
       "      <td>40</td>\n",
       "    </tr>\n",
       "    <tr>\n",
       "      <th>std</th>\n",
       "      <td>53893</td>\n",
       "      <td>165</td>\n",
       "      <td>22</td>\n",
       "      <td>81</td>\n",
       "      <td>23</td>\n",
       "    </tr>\n",
       "    <tr>\n",
       "      <th>min</th>\n",
       "      <td>-12200</td>\n",
       "      <td>0</td>\n",
       "      <td>1</td>\n",
       "      <td>1</td>\n",
       "      <td>0</td>\n",
       "    </tr>\n",
       "    <tr>\n",
       "      <th>25%</th>\n",
       "      <td>7000</td>\n",
       "      <td>159</td>\n",
       "      <td>10</td>\n",
       "      <td>53</td>\n",
       "      <td>20</td>\n",
       "    </tr>\n",
       "    <tr>\n",
       "      <th>50%</th>\n",
       "      <td>21000</td>\n",
       "      <td>307</td>\n",
       "      <td>20</td>\n",
       "      <td>78</td>\n",
       "      <td>41</td>\n",
       "    </tr>\n",
       "    <tr>\n",
       "      <th>75%</th>\n",
       "      <td>45900</td>\n",
       "      <td>501</td>\n",
       "      <td>30</td>\n",
       "      <td>123</td>\n",
       "      <td>59</td>\n",
       "    </tr>\n",
       "    <tr>\n",
       "      <th>max</th>\n",
       "      <td>1027000</td>\n",
       "      <td>501</td>\n",
       "      <td>167</td>\n",
       "      <td>1505</td>\n",
       "      <td>95</td>\n",
       "    </tr>\n",
       "  </tbody>\n",
       "</table>\n",
       "</div>"
      ],
      "text/plain": [
       "         PINCP  POVPIP  JWMNP  PWGTP   AGEP\n",
       "count    64498   75204  33117  78320  78320\n",
       "mean     35980     304     26    101     40\n",
       "std      53893     165     22     81     23\n",
       "min     -12200       0      1      1      0\n",
       "25%       7000     159     10     53     20\n",
       "50%      21000     307     20     78     41\n",
       "75%      45900     501     30    123     59\n",
       "max    1027000     501    167   1505     95"
      ]
     },
     "execution_count": 7,
     "metadata": {},
     "output_type": "execute_result"
    }
   ],
   "source": [
    "df[['PINCP', 'POVPIP', 'JWMNP', 'PWGTP', 'AGEP']].describe().astype('int64')"
   ]
  },
  {
   "cell_type": "code",
   "execution_count": 8,
   "metadata": {
    "collapsed": false
   },
   "outputs": [
    {
     "data": {
      "text/html": [
       "<div>\n",
       "<table border=\"1\" class=\"dataframe\">\n",
       "  <thead>\n",
       "    <tr style=\"text-align: right;\">\n",
       "      <th></th>\n",
       "      <th>CIT_CAT</th>\n",
       "      <th>OC_CAT</th>\n",
       "      <th>ENG_CAT</th>\n",
       "    </tr>\n",
       "  </thead>\n",
       "  <tbody>\n",
       "    <tr>\n",
       "      <th>count</th>\n",
       "      <td>78320</td>\n",
       "      <td>78320</td>\n",
       "      <td>13310.0</td>\n",
       "    </tr>\n",
       "    <tr>\n",
       "      <th>unique</th>\n",
       "      <td>5</td>\n",
       "      <td>2</td>\n",
       "      <td>4.0</td>\n",
       "    </tr>\n",
       "    <tr>\n",
       "      <th>top</th>\n",
       "      <td>Born - USA</td>\n",
       "      <td>False</td>\n",
       "      <td>1.0</td>\n",
       "    </tr>\n",
       "    <tr>\n",
       "      <th>freq</th>\n",
       "      <td>68411</td>\n",
       "      <td>63727</td>\n",
       "      <td>7914.0</td>\n",
       "    </tr>\n",
       "  </tbody>\n",
       "</table>\n",
       "</div>"
      ],
      "text/plain": [
       "           CIT_CAT OC_CAT  ENG_CAT\n",
       "count        78320  78320  13310.0\n",
       "unique           5      2      4.0\n",
       "top     Born - USA  False      1.0\n",
       "freq         68411  63727   7914.0"
      ]
     },
     "execution_count": 8,
     "metadata": {},
     "output_type": "execute_result"
    }
   ],
   "source": [
    "df[['CIT_CAT', 'OC_CAT', 'ENG_CAT']].describe()"
   ]
  }
 ],
 "metadata": {
  "kernelspec": {
   "display_name": "Python 2",
   "language": "python",
   "name": "python2"
  },
  "language_info": {
   "codemirror_mode": {
    "name": "ipython",
    "version": 2
   },
   "file_extension": ".py",
   "mimetype": "text/x-python",
   "name": "python",
   "nbconvert_exporter": "python",
   "pygments_lexer": "ipython2",
   "version": "2.7.13"
  }
 },
 "nbformat": 4,
 "nbformat_minor": 2
}
