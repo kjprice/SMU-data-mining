{
 "cells": [
  {
   "cell_type": "markdown",
   "metadata": {},
   "source": [
    "Based on https://turi.com/products/predictive-services/docs/userguide/getting-started.html\n",
    "\n",
    "This saved my life http://docs.aws.amazon.com/cli/latest/reference/s3/"
   ]
  },
  {
   "cell_type": "code",
   "execution_count": 47,
   "metadata": {
    "collapsed": true
   },
   "outputs": [],
   "source": [
    "\n",
    "import psclient\n",
    "\n",
    "ec2 = psclient.Ec2Config(region='us-west-2',\n",
    "                         instance_type='m3.xlarge',\n",
    "                         aws_access_key_id='xxxxx',\n",
    "                         aws_secret_access_key='xxxxx')"
   ]
  },
  {
   "cell_type": "code",
   "execution_count": 50,
   "metadata": {
    "collapsed": false
   },
   "outputs": [
    {
     "name": "stderr",
     "output_type": "stream",
     "text": [
      "2017-08-18 21:30:25,983 INFO     Launching Predictive Service with 1 hosts, as specified by num_hosts parameter\n",
      "2017-08-18 21:30:25,985 INFO     Launching Predictive Service, with name: graph-lab\n",
      "2017-08-18 21:30:25,986 INFO     [Step 0/5]: Initializing S3 locations.\n",
      "2017-08-18 21:30:26,426 INFO     [Step 1/5]: Launching EC2 instances.\n",
      "2017-08-18 21:30:43,625 INFO     Launching an m3.xlarge instance in the us-west-2c availability zone, with id: i-00d781dc884b714f1. You will be responsible for the cost of this instance.\n",
      "2017-08-18 21:30:59,314 INFO     WARNING: Launching Predictive Service without SSL certificate!\n",
      "2017-08-18 21:30:59,315 INFO     [Step 2/5]: Launching Load Balancer.\n",
      "2017-08-18 21:31:00,604 INFO     [Step 3/5]: Configuring Load Balancer.\n",
      "2017-08-18 21:31:01,396 INFO     [Step 4/5]: Waiting for Load Balancer to put all instances into service.\n",
      "2017-08-18 21:31:02,210 INFO     Cluster not fully operational yet, [0/1] instances currently in service.\n",
      "2017-08-18 21:31:18,070 INFO     Cluster not fully operational yet, [0/1] instances currently in service.\n",
      "2017-08-18 21:31:34,165 INFO     Cluster not fully operational yet, [0/1] instances currently in service.\n",
      "2017-08-18 21:31:50,047 INFO     Cluster not fully operational yet, [0/1] instances currently in service.\n",
      "2017-08-18 21:32:06,018 INFO     Cluster not fully operational yet, [0/1] instances currently in service.\n",
      "2017-08-18 21:32:21,931 INFO     Cluster not fully operational yet, [0/1] instances currently in service.\n",
      "2017-08-18 21:32:37,829 INFO     Cluster not fully operational yet, [0/1] instances currently in service.\n",
      "2017-08-18 21:32:53,665 INFO     Cluster not fully operational yet, [0/1] instances currently in service.\n",
      "2017-08-18 21:33:09,626 INFO     Cluster not fully operational yet, [0/1] instances currently in service.\n",
      "2017-08-18 21:33:25,670 INFO     Cluster not fully operational yet, [0/1] instances currently in service.\n",
      "2017-08-18 21:33:41,683 INFO     Cluster not fully operational yet, [0/1] instances currently in service.\n",
      "2017-08-18 21:33:57,590 INFO     Cluster not fully operational yet, [0/1] instances currently in service.\n",
      "2017-08-18 21:34:13,646 INFO     Cluster not fully operational yet, [0/1] instances currently in service.\n",
      "2017-08-18 21:34:29,585 INFO     Cluster not fully operational yet, [0/1] instances currently in service.\n",
      "2017-08-18 21:34:45,467 INFO     Cluster not fully operational yet, [0/1] instances currently in service.\n",
      "2017-08-18 21:35:01,301 INFO     Cluster not fully operational yet, [0/1] instances currently in service.\n",
      "2017-08-18 21:35:17,265 INFO     Cluster not fully operational yet, [0/1] instances currently in service.\n",
      "2017-08-18 21:35:33,164 INFO     Cluster not fully operational yet, [0/1] instances currently in service.\n",
      "2017-08-18 21:35:49,151 INFO     Cluster not fully operational yet, [0/1] instances currently in service.\n",
      "2017-08-18 21:36:05,021 INFO     Cluster not fully operational yet, [0/1] instances currently in service.\n",
      "2017-08-18 21:36:20,976 INFO     Cluster not fully operational yet, [0/1] instances currently in service.\n",
      "2017-08-18 21:36:36,834 INFO     Cluster not fully operational yet, [0/1] instances currently in service.\n",
      "2017-08-18 21:36:52,756 INFO     Cluster not fully operational yet, [0/1] instances currently in service.\n",
      "2017-08-18 21:37:08,686 INFO     Cluster not fully operational yet, [0/1] instances currently in service.\n",
      "2017-08-18 21:37:24,583 INFO     Cluster not fully operational yet, [0/1] instances currently in service.\n",
      "2017-08-18 21:37:40,413 INFO     Cluster not fully operational yet, [0/1] instances currently in service.\n",
      "2017-08-18 21:37:56,402 INFO     Cluster not fully operational yet, [0/1] instances currently in service.\n",
      "2017-08-18 21:38:12,238 INFO     Cluster not fully operational yet, [0/1] instances currently in service.\n",
      "2017-08-18 21:38:28,202 INFO     Cluster not fully operational yet, [0/1] instances currently in service.\n",
      "2017-08-18 21:38:44,047 INFO     Cluster not fully operational yet, [0/1] instances currently in service.\n",
      "2017-08-18 21:39:00,179 INFO     Cluster not fully operational yet, [0/1] instances currently in service.\n",
      "2017-08-18 21:39:16,177 INFO     Cluster not fully operational yet, [0/1] instances currently in service.\n",
      "2017-08-18 21:39:32,151 INFO     Cluster not fully operational yet, [0/1] instances currently in service.\n",
      "2017-08-18 21:39:48,039 INFO     Cluster not fully operational yet, [0/1] instances currently in service.\n",
      "2017-08-18 21:40:04,012 INFO     Cluster not fully operational yet, [0/1] instances currently in service.\n",
      "2017-08-18 21:40:20,196 INFO     Cluster not fully operational yet, [0/1] instances currently in service.\n",
      "2017-08-18 21:40:36,223 INFO     Cluster not fully operational yet, [0/1] instances currently in service.\n",
      "2017-08-18 21:40:52,079 INFO     Cluster not fully operational yet, [0/1] instances currently in service.\n",
      "2017-08-18 21:41:08,234 INFO     Cluster not fully operational yet, [0/1] instances currently in service.\n",
      "2017-08-18 21:41:24,284 INFO     Cluster not fully operational yet, [0/1] instances currently in service.\n",
      "2017-08-18 21:41:40,196 INFO     Cluster not fully operational yet, [0/1] instances currently in service.\n",
      "2017-08-18 21:41:56,014 INFO     Cluster is fully operational, [1/1] instances currently in service.\n",
      "2017-08-18 21:41:56,014 INFO     [Step 5/5]: Finalizing Configuration.\n",
      "2017-08-18 21:41:56,015 INFO     Created config file at /Users/kjprice/Library/Projects/smu/data-mining/DataMiningProject/python_notebooks/graph-lab.conf\n",
      "2017-08-18 21:41:56,016 INFO     Contents are:\n",
      "[Predictive Service]\n",
      "manager_endpoint = http://graph-lab-1198013655.us-west-2.elb.amazonaws.com:8088\n",
      "verify_certificate = True\n",
      "admin_key = 6e4ce8f5-d2df-4f24-a19c-7d46621206d6\n",
      "\n",
      "\n"
     ]
    }
   ],
   "source": [
    "deployment = psclient.create('graph-lab', ec2,\n",
    "                             's3://graphlab-deployment-smu-2/test2')"
   ]
  },
  {
   "cell_type": "code",
   "execution_count": 51,
   "metadata": {
    "collapsed": true
   },
   "outputs": [],
   "source": [
    "def uppercase(s):\n",
    "  return s.upper()"
   ]
  },
  {
   "cell_type": "code",
   "execution_count": 53,
   "metadata": {
    "collapsed": false
   },
   "outputs": [
    {
     "name": "stdout",
     "output_type": "stream",
     "text": [
      "Completed 554 Bytes/557 Bytes (0 Bytes/s) with 1 file(s) remaining"
     ]
    },
    {
     "ename": "RuntimeError",
     "evalue": "AWS S3 operation failed",
     "output_type": "error",
     "traceback": [
      "\u001b[0;31m---------------------------------------------------------------------------\u001b[0m",
      "\u001b[0;31mRuntimeError\u001b[0m                              Traceback (most recent call last)",
      "\u001b[0;32m<ipython-input-53-63d0cae651c8>\u001b[0m in \u001b[0;36m<module>\u001b[0;34m()\u001b[0m\n\u001b[0;32m----> 1\u001b[0;31m \u001b[0mdeployment\u001b[0m\u001b[0;34m.\u001b[0m\u001b[0mdeploy\u001b[0m\u001b[0;34m(\u001b[0m\u001b[0;34m'upper'\u001b[0m\u001b[0;34m,\u001b[0m \u001b[0muppercase\u001b[0m\u001b[0;34m,\u001b[0m \u001b[0;34m'returns a string converted to uppercase'\u001b[0m\u001b[0;34m)\u001b[0m\u001b[0;34m\u001b[0m\u001b[0m\n\u001b[0m",
      "\u001b[0;32m/Users/kjprice/anaconda/envs/gl-env/lib/python2.7/site-packages/psclient/predictive_service_client.pyc\u001b[0m in \u001b[0;36mdeploy\u001b[0;34m(self, name, obj, description, evaluator, schema, override)\u001b[0m\n\u001b[1;32m    874\u001b[0m             schema)\n\u001b[1;32m    875\u001b[0m \u001b[0;34m\u001b[0m\u001b[0m\n\u001b[0;32m--> 876\u001b[0;31m         \u001b[0mself\u001b[0m\u001b[0;34m.\u001b[0m\u001b[0m_upload_endpoint\u001b[0m\u001b[0;34m(\u001b[0m\u001b[0mobj\u001b[0m\u001b[0;34m)\u001b[0m\u001b[0;34m\u001b[0m\u001b[0m\n\u001b[0m\u001b[1;32m    877\u001b[0m \u001b[0;34m\u001b[0m\u001b[0m\n\u001b[1;32m    878\u001b[0m         \u001b[0;32mif\u001b[0m \u001b[0mversion\u001b[0m \u001b[0;34m==\u001b[0m \u001b[0;36m1\u001b[0m\u001b[0;34m:\u001b[0m\u001b[0;34m\u001b[0m\u001b[0m\n",
      "\u001b[0;32m/Users/kjprice/anaconda/envs/gl-env/lib/python2.7/site-packages/psclient/predictive_service_client.pyc\u001b[0m in \u001b[0;36m_upload_endpoint\u001b[0;34m(self, obj)\u001b[0m\n\u001b[1;32m   1078\u001b[0m             \u001b[0mobj\u001b[0m\u001b[0;34m[\u001b[0m\u001b[0;34m'name'\u001b[0m\u001b[0;34m]\u001b[0m\u001b[0;34m,\u001b[0m\u001b[0;34m\u001b[0m\u001b[0m\n\u001b[1;32m   1079\u001b[0m             str(obj['version']))\n\u001b[0;32m-> 1080\u001b[0;31m         \u001b[0mendpoint_obj\u001b[0m\u001b[0;34m.\u001b[0m\u001b[0msave\u001b[0m\u001b[0;34m(\u001b[0m\u001b[0mobj\u001b[0m\u001b[0;34m[\u001b[0m\u001b[0;34m'src_path'\u001b[0m\u001b[0;34m]\u001b[0m\u001b[0;34m)\u001b[0m\u001b[0;34m\u001b[0m\u001b[0m\n\u001b[0m\u001b[1;32m   1081\u001b[0m \u001b[0;34m\u001b[0m\u001b[0m\n\u001b[1;32m   1082\u001b[0m         \u001b[0;31m# Upload required files for the Predictive Object\u001b[0m\u001b[0;34m\u001b[0m\u001b[0;34m\u001b[0m\u001b[0m\n",
      "\u001b[0;32m/Users/kjprice/anaconda/envs/gl-env/lib/python2.7/site-packages/psclient/predictive_object.pyc\u001b[0m in \u001b[0;36msave\u001b[0;34m(self, path, aws_credentials)\u001b[0m\n\u001b[1;32m    105\u001b[0m             \u001b[0mself\u001b[0m\u001b[0;34m.\u001b[0m\u001b[0m_save_local\u001b[0m\u001b[0;34m(\u001b[0m\u001b[0mpath\u001b[0m\u001b[0;34m)\u001b[0m\u001b[0;34m\u001b[0m\u001b[0m\n\u001b[1;32m    106\u001b[0m         \u001b[0;32melse\u001b[0m\u001b[0;34m:\u001b[0m\u001b[0;34m\u001b[0m\u001b[0m\n\u001b[0;32m--> 107\u001b[0;31m             \u001b[0mself\u001b[0m\u001b[0;34m.\u001b[0m\u001b[0m_save_remote\u001b[0m\u001b[0;34m(\u001b[0m\u001b[0mpath\u001b[0m\u001b[0;34m,\u001b[0m \u001b[0maws_credentials\u001b[0m\u001b[0;34m)\u001b[0m\u001b[0;34m\u001b[0m\u001b[0m\n\u001b[0m\u001b[1;32m    108\u001b[0m \u001b[0;34m\u001b[0m\u001b[0m\n\u001b[1;32m    109\u001b[0m     \u001b[0;32mdef\u001b[0m \u001b[0m_save_remote\u001b[0m\u001b[0;34m(\u001b[0m\u001b[0mself\u001b[0m\u001b[0;34m,\u001b[0m \u001b[0mpath\u001b[0m\u001b[0;34m,\u001b[0m \u001b[0maws_credentials\u001b[0m\u001b[0;34m)\u001b[0m\u001b[0;34m:\u001b[0m\u001b[0;34m\u001b[0m\u001b[0m\n",
      "\u001b[0;32m/Users/kjprice/anaconda/envs/gl-env/lib/python2.7/site-packages/psclient/predictive_object.pyc\u001b[0m in \u001b[0;36m_save_remote\u001b[0;34m(self, path, aws_credentials)\u001b[0m\n\u001b[1;32m    114\u001b[0m             \u001b[0mself\u001b[0m\u001b[0;34m.\u001b[0m\u001b[0m_save_local\u001b[0m\u001b[0;34m(\u001b[0m\u001b[0mtempdir\u001b[0m\u001b[0;34m)\u001b[0m\u001b[0;34m\u001b[0m\u001b[0m\n\u001b[1;32m    115\u001b[0m             \u001b[0;32mif\u001b[0m \u001b[0mfu\u001b[0m\u001b[0;34m.\u001b[0m\u001b[0mis_s3_path\u001b[0m\u001b[0;34m(\u001b[0m\u001b[0mpath\u001b[0m\u001b[0;34m)\u001b[0m\u001b[0;34m:\u001b[0m\u001b[0;34m\u001b[0m\u001b[0m\n\u001b[0;32m--> 116\u001b[0;31m                 \u001b[0mfu\u001b[0m\u001b[0;34m.\u001b[0m\u001b[0mupload_to_s3\u001b[0m\u001b[0;34m(\u001b[0m\u001b[0mtempdir\u001b[0m\u001b[0;34m,\u001b[0m \u001b[0mpath\u001b[0m\u001b[0;34m,\u001b[0m \u001b[0mis_dir\u001b[0m\u001b[0;34m=\u001b[0m\u001b[0mTrue\u001b[0m\u001b[0;34m,\u001b[0m \u001b[0maws_credentials\u001b[0m \u001b[0;34m=\u001b[0m \u001b[0maws_credentials\u001b[0m\u001b[0;34m)\u001b[0m\u001b[0;34m\u001b[0m\u001b[0m\n\u001b[0m\u001b[1;32m    117\u001b[0m             \u001b[0;32melif\u001b[0m \u001b[0mfu\u001b[0m\u001b[0;34m.\u001b[0m\u001b[0mis_hdfs_path\u001b[0m\u001b[0;34m(\u001b[0m\u001b[0mpath\u001b[0m\u001b[0;34m)\u001b[0m\u001b[0;34m:\u001b[0m\u001b[0;34m\u001b[0m\u001b[0m\n\u001b[1;32m    118\u001b[0m                 \u001b[0mfu\u001b[0m\u001b[0;34m.\u001b[0m\u001b[0mhdfs_mkdir\u001b[0m\u001b[0;34m(\u001b[0m\u001b[0mpath\u001b[0m\u001b[0;34m)\u001b[0m\u001b[0;34m\u001b[0m\u001b[0m\n",
      "\u001b[0;32m/Users/kjprice/anaconda/envs/gl-env/lib/python2.7/site-packages/psclient/file_util.pyc\u001b[0m in \u001b[0;36mupload_to_s3\u001b[0;34m(local_path, s3_path, is_dir, aws_credentials, silent)\u001b[0m\n\u001b[1;32m    258\u001b[0m             \u001b[0;32melse\u001b[0m\u001b[0;34m:\u001b[0m\u001b[0;34m\u001b[0m\u001b[0m\n\u001b[1;32m    259\u001b[0m                 _awscli_s3_op('cp', local_path, s3_path, recursive=is_dir,\n\u001b[0;32m--> 260\u001b[0;31m                               silent = silent, aws_credentials=aws_credentials)\n\u001b[0m\u001b[1;32m    261\u001b[0m \u001b[0;34m\u001b[0m\u001b[0m\n\u001b[1;32m    262\u001b[0m             \u001b[0;31m# We are done\u001b[0m\u001b[0;34m\u001b[0m\u001b[0;34m\u001b[0m\u001b[0m\n",
      "\u001b[0;32m/Users/kjprice/anaconda/envs/gl-env/lib/python2.7/site-packages/psclient/file_util.pyc\u001b[0m in \u001b[0;36m_awscli_s3_op\u001b[0;34m(op, src, dst, recursive, silent, is_test, aws_credentials)\u001b[0m\n\u001b[1;32m    755\u001b[0m     \u001b[0;31m# check for error\u001b[0m\u001b[0;34m\u001b[0m\u001b[0;34m\u001b[0m\u001b[0m\n\u001b[1;32m    756\u001b[0m     \u001b[0;32mif\u001b[0m \u001b[0mproc\u001b[0m\u001b[0;34m.\u001b[0m\u001b[0mreturncode\u001b[0m \u001b[0;34m!=\u001b[0m \u001b[0;36m0\u001b[0m\u001b[0;34m:\u001b[0m  \u001b[0;31m# error\u001b[0m\u001b[0;34m\u001b[0m\u001b[0m\n\u001b[0;32m--> 757\u001b[0;31m         \u001b[0;32mraise\u001b[0m \u001b[0mRuntimeError\u001b[0m\u001b[0;34m(\u001b[0m\u001b[0;34m'AWS S3 operation failed'\u001b[0m\u001b[0;34m)\u001b[0m\u001b[0;34m\u001b[0m\u001b[0m\n\u001b[0m\u001b[1;32m    758\u001b[0m \u001b[0;34m\u001b[0m\u001b[0m\n\u001b[1;32m    759\u001b[0m \u001b[0;32mdef\u001b[0m \u001b[0m_awscli_print\u001b[0m\u001b[0;34m(\u001b[0m\u001b[0mline\u001b[0m\u001b[0;34m)\u001b[0m\u001b[0;34m:\u001b[0m\u001b[0;34m\u001b[0m\u001b[0m\n",
      "\u001b[0;31mRuntimeError\u001b[0m: AWS S3 operation failed"
     ]
    }
   ],
   "source": [
    "deployment.deploy('upper', uppercase, 'returns a string converted to uppercase')"
   ]
  },
  {
   "cell_type": "code",
   "execution_count": 52,
   "metadata": {
    "collapsed": false
   },
   "outputs": [
    {
     "name": "stdout",
     "output_type": "stream",
     "text": [
      "Name                  : graph-lab\n",
      "Version               : 2.0\n",
      "Description           : None\n",
      "State Path            : s3://graphlab-deployment-smu-2/test2\n",
      "Creation time         : 2017-08-18T21:31:00\n",
      "Query Endpoint        : http://graph-lab-1198013655.us-west-2.elb.amazonaws.com\n",
      "Management Endpoint   : http://graph-lab-1198013655.us-west-2.elb.amazonaws.com:8088\n",
      "\n",
      "Deployed endpoints:\n",
      "\n"
     ]
    }
   ],
   "source": [
    "print deployment\n"
   ]
  },
  {
   "cell_type": "code",
   "execution_count": null,
   "metadata": {
    "collapsed": true
   },
   "outputs": [],
   "source": [
    "deployment.query('upper', s='hello')"
   ]
  },
  {
   "cell_type": "markdown",
   "metadata": {},
   "source": [
    "# Connect after deploying "
   ]
  },
  {
   "cell_type": "code",
   "execution_count": 43,
   "metadata": {
    "collapsed": true
   },
   "outputs": [],
   "source": [
    "import psclient\n",
    "\n",
    "url = 'http://graph-lab-1198013655.us-west-2.elb.amazonaws.com:8088'\n",
    "admin_key = '6e4ce8f5-d2df-4f24-a19c-7d46621206d6graph-lab'\n",
    "\n",
    "deployment = psclient.connect(manager_endpoint=url, admin_key=admin_key, name='graph-lab', verify_certificate=False)"
   ]
  },
  {
   "cell_type": "code",
   "execution_count": 44,
   "metadata": {
    "collapsed": false
   },
   "outputs": [
    {
     "name": "stdout",
     "output_type": "stream",
     "text": [
      "Completed 554 Bytes/557 Bytes (0 Bytes/s) with 1 file(s) remaining"
     ]
    },
    {
     "ename": "RuntimeError",
     "evalue": "AWS S3 operation failed",
     "output_type": "error",
     "traceback": [
      "\u001b[0;31m---------------------------------------------------------------------------\u001b[0m",
      "\u001b[0;31mRuntimeError\u001b[0m                              Traceback (most recent call last)",
      "\u001b[0;32m<ipython-input-44-63d0cae651c8>\u001b[0m in \u001b[0;36m<module>\u001b[0;34m()\u001b[0m\n\u001b[0;32m----> 1\u001b[0;31m \u001b[0mdeployment\u001b[0m\u001b[0;34m.\u001b[0m\u001b[0mdeploy\u001b[0m\u001b[0;34m(\u001b[0m\u001b[0;34m'upper'\u001b[0m\u001b[0;34m,\u001b[0m \u001b[0muppercase\u001b[0m\u001b[0;34m,\u001b[0m \u001b[0;34m'returns a string converted to uppercase'\u001b[0m\u001b[0;34m)\u001b[0m\u001b[0;34m\u001b[0m\u001b[0m\n\u001b[0m",
      "\u001b[0;32m/Users/kjprice/anaconda/envs/gl-env/lib/python2.7/site-packages/psclient/predictive_service_client.pyc\u001b[0m in \u001b[0;36mdeploy\u001b[0;34m(self, name, obj, description, evaluator, schema, override)\u001b[0m\n\u001b[1;32m    874\u001b[0m             schema)\n\u001b[1;32m    875\u001b[0m \u001b[0;34m\u001b[0m\u001b[0m\n\u001b[0;32m--> 876\u001b[0;31m         \u001b[0mself\u001b[0m\u001b[0;34m.\u001b[0m\u001b[0m_upload_endpoint\u001b[0m\u001b[0;34m(\u001b[0m\u001b[0mobj\u001b[0m\u001b[0;34m)\u001b[0m\u001b[0;34m\u001b[0m\u001b[0m\n\u001b[0m\u001b[1;32m    877\u001b[0m \u001b[0;34m\u001b[0m\u001b[0m\n\u001b[1;32m    878\u001b[0m         \u001b[0;32mif\u001b[0m \u001b[0mversion\u001b[0m \u001b[0;34m==\u001b[0m \u001b[0;36m1\u001b[0m\u001b[0;34m:\u001b[0m\u001b[0;34m\u001b[0m\u001b[0m\n",
      "\u001b[0;32m/Users/kjprice/anaconda/envs/gl-env/lib/python2.7/site-packages/psclient/predictive_service_client.pyc\u001b[0m in \u001b[0;36m_upload_endpoint\u001b[0;34m(self, obj)\u001b[0m\n\u001b[1;32m   1078\u001b[0m             \u001b[0mobj\u001b[0m\u001b[0;34m[\u001b[0m\u001b[0;34m'name'\u001b[0m\u001b[0;34m]\u001b[0m\u001b[0;34m,\u001b[0m\u001b[0;34m\u001b[0m\u001b[0m\n\u001b[1;32m   1079\u001b[0m             str(obj['version']))\n\u001b[0;32m-> 1080\u001b[0;31m         \u001b[0mendpoint_obj\u001b[0m\u001b[0;34m.\u001b[0m\u001b[0msave\u001b[0m\u001b[0;34m(\u001b[0m\u001b[0mobj\u001b[0m\u001b[0;34m[\u001b[0m\u001b[0;34m'src_path'\u001b[0m\u001b[0;34m]\u001b[0m\u001b[0;34m)\u001b[0m\u001b[0;34m\u001b[0m\u001b[0m\n\u001b[0m\u001b[1;32m   1081\u001b[0m \u001b[0;34m\u001b[0m\u001b[0m\n\u001b[1;32m   1082\u001b[0m         \u001b[0;31m# Upload required files for the Predictive Object\u001b[0m\u001b[0;34m\u001b[0m\u001b[0;34m\u001b[0m\u001b[0m\n",
      "\u001b[0;32m/Users/kjprice/anaconda/envs/gl-env/lib/python2.7/site-packages/psclient/predictive_object.pyc\u001b[0m in \u001b[0;36msave\u001b[0;34m(self, path, aws_credentials)\u001b[0m\n\u001b[1;32m    105\u001b[0m             \u001b[0mself\u001b[0m\u001b[0;34m.\u001b[0m\u001b[0m_save_local\u001b[0m\u001b[0;34m(\u001b[0m\u001b[0mpath\u001b[0m\u001b[0;34m)\u001b[0m\u001b[0;34m\u001b[0m\u001b[0m\n\u001b[1;32m    106\u001b[0m         \u001b[0;32melse\u001b[0m\u001b[0;34m:\u001b[0m\u001b[0;34m\u001b[0m\u001b[0m\n\u001b[0;32m--> 107\u001b[0;31m             \u001b[0mself\u001b[0m\u001b[0;34m.\u001b[0m\u001b[0m_save_remote\u001b[0m\u001b[0;34m(\u001b[0m\u001b[0mpath\u001b[0m\u001b[0;34m,\u001b[0m \u001b[0maws_credentials\u001b[0m\u001b[0;34m)\u001b[0m\u001b[0;34m\u001b[0m\u001b[0m\n\u001b[0m\u001b[1;32m    108\u001b[0m \u001b[0;34m\u001b[0m\u001b[0m\n\u001b[1;32m    109\u001b[0m     \u001b[0;32mdef\u001b[0m \u001b[0m_save_remote\u001b[0m\u001b[0;34m(\u001b[0m\u001b[0mself\u001b[0m\u001b[0;34m,\u001b[0m \u001b[0mpath\u001b[0m\u001b[0;34m,\u001b[0m \u001b[0maws_credentials\u001b[0m\u001b[0;34m)\u001b[0m\u001b[0;34m:\u001b[0m\u001b[0;34m\u001b[0m\u001b[0m\n",
      "\u001b[0;32m/Users/kjprice/anaconda/envs/gl-env/lib/python2.7/site-packages/psclient/predictive_object.pyc\u001b[0m in \u001b[0;36m_save_remote\u001b[0;34m(self, path, aws_credentials)\u001b[0m\n\u001b[1;32m    114\u001b[0m             \u001b[0mself\u001b[0m\u001b[0;34m.\u001b[0m\u001b[0m_save_local\u001b[0m\u001b[0;34m(\u001b[0m\u001b[0mtempdir\u001b[0m\u001b[0;34m)\u001b[0m\u001b[0;34m\u001b[0m\u001b[0m\n\u001b[1;32m    115\u001b[0m             \u001b[0;32mif\u001b[0m \u001b[0mfu\u001b[0m\u001b[0;34m.\u001b[0m\u001b[0mis_s3_path\u001b[0m\u001b[0;34m(\u001b[0m\u001b[0mpath\u001b[0m\u001b[0;34m)\u001b[0m\u001b[0;34m:\u001b[0m\u001b[0;34m\u001b[0m\u001b[0m\n\u001b[0;32m--> 116\u001b[0;31m                 \u001b[0mfu\u001b[0m\u001b[0;34m.\u001b[0m\u001b[0mupload_to_s3\u001b[0m\u001b[0;34m(\u001b[0m\u001b[0mtempdir\u001b[0m\u001b[0;34m,\u001b[0m \u001b[0mpath\u001b[0m\u001b[0;34m,\u001b[0m \u001b[0mis_dir\u001b[0m\u001b[0;34m=\u001b[0m\u001b[0mTrue\u001b[0m\u001b[0;34m,\u001b[0m \u001b[0maws_credentials\u001b[0m \u001b[0;34m=\u001b[0m \u001b[0maws_credentials\u001b[0m\u001b[0;34m)\u001b[0m\u001b[0;34m\u001b[0m\u001b[0m\n\u001b[0m\u001b[1;32m    117\u001b[0m             \u001b[0;32melif\u001b[0m \u001b[0mfu\u001b[0m\u001b[0;34m.\u001b[0m\u001b[0mis_hdfs_path\u001b[0m\u001b[0;34m(\u001b[0m\u001b[0mpath\u001b[0m\u001b[0;34m)\u001b[0m\u001b[0;34m:\u001b[0m\u001b[0;34m\u001b[0m\u001b[0m\n\u001b[1;32m    118\u001b[0m                 \u001b[0mfu\u001b[0m\u001b[0;34m.\u001b[0m\u001b[0mhdfs_mkdir\u001b[0m\u001b[0;34m(\u001b[0m\u001b[0mpath\u001b[0m\u001b[0;34m)\u001b[0m\u001b[0;34m\u001b[0m\u001b[0m\n",
      "\u001b[0;32m/Users/kjprice/anaconda/envs/gl-env/lib/python2.7/site-packages/psclient/file_util.pyc\u001b[0m in \u001b[0;36mupload_to_s3\u001b[0;34m(local_path, s3_path, is_dir, aws_credentials, silent)\u001b[0m\n\u001b[1;32m    258\u001b[0m             \u001b[0;32melse\u001b[0m\u001b[0;34m:\u001b[0m\u001b[0;34m\u001b[0m\u001b[0m\n\u001b[1;32m    259\u001b[0m                 _awscli_s3_op('cp', local_path, s3_path, recursive=is_dir,\n\u001b[0;32m--> 260\u001b[0;31m                               silent = silent, aws_credentials=aws_credentials)\n\u001b[0m\u001b[1;32m    261\u001b[0m \u001b[0;34m\u001b[0m\u001b[0m\n\u001b[1;32m    262\u001b[0m             \u001b[0;31m# We are done\u001b[0m\u001b[0;34m\u001b[0m\u001b[0;34m\u001b[0m\u001b[0m\n",
      "\u001b[0;32m/Users/kjprice/anaconda/envs/gl-env/lib/python2.7/site-packages/psclient/file_util.pyc\u001b[0m in \u001b[0;36m_awscli_s3_op\u001b[0;34m(op, src, dst, recursive, silent, is_test, aws_credentials)\u001b[0m\n\u001b[1;32m    755\u001b[0m     \u001b[0;31m# check for error\u001b[0m\u001b[0;34m\u001b[0m\u001b[0;34m\u001b[0m\u001b[0m\n\u001b[1;32m    756\u001b[0m     \u001b[0;32mif\u001b[0m \u001b[0mproc\u001b[0m\u001b[0;34m.\u001b[0m\u001b[0mreturncode\u001b[0m \u001b[0;34m!=\u001b[0m \u001b[0;36m0\u001b[0m\u001b[0;34m:\u001b[0m  \u001b[0;31m# error\u001b[0m\u001b[0;34m\u001b[0m\u001b[0m\n\u001b[0;32m--> 757\u001b[0;31m         \u001b[0;32mraise\u001b[0m \u001b[0mRuntimeError\u001b[0m\u001b[0;34m(\u001b[0m\u001b[0;34m'AWS S3 operation failed'\u001b[0m\u001b[0;34m)\u001b[0m\u001b[0;34m\u001b[0m\u001b[0m\n\u001b[0m\u001b[1;32m    758\u001b[0m \u001b[0;34m\u001b[0m\u001b[0m\n\u001b[1;32m    759\u001b[0m \u001b[0;32mdef\u001b[0m \u001b[0m_awscli_print\u001b[0m\u001b[0;34m(\u001b[0m\u001b[0mline\u001b[0m\u001b[0;34m)\u001b[0m\u001b[0;34m:\u001b[0m\u001b[0;34m\u001b[0m\u001b[0m\n",
      "\u001b[0;31mRuntimeError\u001b[0m: AWS S3 operation failed"
     ]
    }
   ],
   "source": [
    "deployment.deploy('upper', uppercase, 'returns a string converted to uppercase')"
   ]
  }
 ],
 "metadata": {
  "kernelspec": {
   "display_name": "Python [conda env:gl-env]",
   "language": "python",
   "name": "conda-env-gl-env-py"
  },
  "language_info": {
   "codemirror_mode": {
    "name": "ipython",
    "version": 2
   },
   "file_extension": ".py",
   "mimetype": "text/x-python",
   "name": "python",
   "nbconvert_exporter": "python",
   "pygments_lexer": "ipython2",
   "version": "2.7.11"
  }
 },
 "nbformat": 4,
 "nbformat_minor": 2
}
