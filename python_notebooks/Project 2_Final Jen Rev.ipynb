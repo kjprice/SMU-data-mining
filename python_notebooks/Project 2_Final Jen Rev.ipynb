{
 "cells": [
  {
   "cell_type": "markdown",
   "metadata": {},
   "source": [
    "## Introduction\n",
    "Project 2 will continue the work with census data from [Project 1](https://gist.github.com/kjprice/820c75bd8e5c3f2558f4576f38893dae) and the [Mini Project](https://gist.github.com/kjprice/bb3ecd63e7a2e5050c018d63c875a79b), to take a deeper look into the data. The analysis of this project will focus on the predictive classification ability.  Methods for both categorical variables as well as continuous variables will be evaluated.  "
   ]
  },
  {
   "cell_type": "code",
   "execution_count": 1,
   "metadata": {
    "collapsed": true
   },
   "outputs": [],
   "source": [
    "import numpy as np \n",
    "import pandas as pd\n",
    "import seaborn as sns\n",
    "\n",
    "from sklearn import model_selection\n",
    "from sklearn.linear_model import LogisticRegression\n",
    "from sklearn import metrics as mt\n",
    "from sklearn.naive_bayes import MultinomialNB, GaussianNB, BernoulliNB\n",
    "from sklearn.tree import DecisionTreeClassifier\n",
    "from sklearn.neighbors import KNeighborsClassifier\n",
    "from sklearn.linear_model import SGDClassifier\n",
    "from sklearn.ensemble import RandomForestClassifier\n",
    "from sklearn.tree import DecisionTreeRegressor\n",
    "from sklearn.svm import SVC\n",
    "from datetime import datetime\n",
    "import matplotlib.pyplot as plt\n",
    "from scipy import stats\n",
    "\n",
    "# load in raw dataset\n",
    "person_raw = pd.read_csv('../data/person-subset-2.5percent.csv')\n",
    "\n",
    "# clean data (as performed in Project 1)\n",
    "# will provide us with a new dataset \"df\"\n",
    "# ...and a list of \"important_features\"\n",
    "execfile('../python/clean_data_person.py')"
   ]
  },
  {
   "cell_type": "markdown",
   "metadata": {},
   "source": [
    "The `important_features` discovered from the first project will continue to be utilized in this project."
   ]
  },
  {
   "cell_type": "code",
   "execution_count": 2,
   "metadata": {
    "collapsed": false
   },
   "outputs": [
    {
     "name": "stdout",
     "output_type": "stream",
     "text": [
      "<class 'pandas.core.frame.DataFrame'>\n",
      "Int64Index: 60357 entries, 0 to 60356\n",
      "Data columns (total 15 columns):\n",
      "PINCP        60357 non-null float64\n",
      "POVPIP       57892 non-null float64\n",
      "JWMNP        32486 non-null float64\n",
      "AGEP         60357 non-null int64\n",
      "PWGTP        60357 non-null int64\n",
      "PAP          60357 non-null float64\n",
      "CIT          60357 non-null object\n",
      "ENG          60357 non-null object\n",
      "COW          60357 non-null object\n",
      "PUMA         60357 non-null category\n",
      "SEX          60357 non-null object\n",
      "MIL          60357 non-null object\n",
      "SCHL         60357 non-null float64\n",
      "MAR          60357 non-null object\n",
      "affluency    60312 non-null category\n",
      "dtypes: category(2), float64(5), int64(2), object(6)\n",
      "memory usage: 6.6+ MB\n"
     ]
    }
   ],
   "source": [
    "df[important_features].info()"
   ]
  },
  {
   "cell_type": "markdown",
   "metadata": {},
   "source": [
    "### Data Descriptions\n",
    "\n",
    "The included attributes with descriptions:\n",
    "  * AGEP:  Age of person (continuous 0-95)\n",
    "  * CIT:  Citizenship status (categorical - numerical key)\n",
    "  * CIT_CAT:  Citizenship status (categorical - string)\n",
    "  * COW:  Class of worker (categorical - string)\n",
    "  * ENG:  Ability to speak English (categorical scale of 1-4 and native speakers)\n",
    "  * JWMNP:  Travel time to work (continuous - minutes of commute to work)\n",
    "  * JWTR:  Means of transportation to work (categorical - 12 modes of transportation)\n",
    "  * MAR:  Marital status (categorical - 5 categories: married, divorced, separated, single, widow)\n",
    "  * PAP:  Public assistance income past 12 months (continuous variable of dollars of assistance received)\n",
    "  * PINCP:  Total person's income (continuous of total income)\n",
    "  * POVPIP:  Income-to-poverty ratio recode (continuous with a cap at 501)\n",
    "  * SCHL:  Educational attainment (continuous - years of completed education)\n",
    "  * SEX:  Sex (gender of female or male)"
   ]
  },
  {
   "cell_type": "markdown",
   "metadata": {},
   "source": [
    "### Classification variable\n",
    "\n",
    "A new variable has been created to categorize wealth.   The new variable called `affluency` which can be one of two levels - \"general\" or \"rich\" (greater than $100,000 income):"
   ]
  },
  {
   "cell_type": "code",
   "execution_count": 3,
   "metadata": {
    "collapsed": true
   },
   "outputs": [],
   "source": [
    "def create_affluency():\n",
    "    global lr\n",
    "    global important_features\n",
    "\n",
    "    lr = df[important_features].copy(deep=True)\n",
    "    lr['affluency'] = pd.cut(df.PINCP, [-1, 99999.99, 1e12], labels=('general', 'rich'))\n",
    "create_affluency()"
   ]
  },
  {
   "cell_type": "markdown",
   "metadata": {},
   "source": [
    "### Cleanup\n",
    "\n",
    "As performed in the previous project, unneccesaary variables are removed from the dataset: \n",
    " - `POVPIP`\n",
    " - `PINCP`\n",
    " - `PUMA`\n",
    " - `MIL`\n",
    " - `MAR`\n",
    " - `SCHL`\n",
    "\n",
    "The \"Travel Time\" (`JWMNP`) attributed is grouped into appropriate intervals (previously a continuous variable):\n",
    " - `na`\n",
    " - `short`\n",
    " - `half hour`\n",
    " - `hour`\n",
    " - `long`\n",
    " \n",
    "Then, from the variables `affluency` and `SEX`, boolean variables of `wealthy` and `is_male` are created respectively.\n",
    "\n",
    "Finally, one-hot-encoding is performed on other categorical variables `travel_time`, `CIT`, `ENG`, `COW`.\n",
    "\n",
    "All of this gives the following:"
   ]
  },
  {
   "cell_type": "code",
   "execution_count": 4,
   "metadata": {
    "collapsed": false
   },
   "outputs": [
    {
     "name": "stdout",
     "output_type": "stream",
     "text": [
      "<class 'pandas.core.frame.DataFrame'>\n",
      "Int64Index: 60357 entries, 0 to 60356\n",
      "Data columns (total 49 columns):\n",
      "PINCP                                              60357 non-null float64\n",
      "AGEP                                               60357 non-null int64\n",
      "PWGTP                                              60357 non-null int64\n",
      "PAP                                                60357 non-null float64\n",
      "wealthy                                            60357 non-null bool\n",
      "is_male                                            60357 non-null int32\n",
      "Travel_Time__na                                    60357 non-null uint8\n",
      "Travel_Time__short                                 60357 non-null uint8\n",
      "Travel_Time__half hour                             60357 non-null uint8\n",
      "Travel_Time__hour                                  60357 non-null uint8\n",
      "Travel_Time__long                                  60357 non-null uint8\n",
      "Citizen__Born Abroad)                              60357 non-null uint8\n",
      "Citizen__Naturalized                               60357 non-null uint8\n",
      "Citizen__Non-Citizen                               60357 non-null uint8\n",
      "Citizen__US Born                                   60357 non-null uint8\n",
      "Citizen__US Territory Born                         60357 non-null uint8\n",
      "English__Not at all                                60357 non-null uint8\n",
      "English__Not well                                  60357 non-null uint8\n",
      "English__Speaks only English                       60357 non-null uint8\n",
      "English__Very well                                 60357 non-null uint8\n",
      "English__Well                                      60357 non-null uint8\n",
      "Worker_Class__Family Business - no pay             60357 non-null uint8\n",
      "Worker_Class__Federal Government                   60357 non-null uint8\n",
      "Worker_Class__Local Government                     60357 non-null uint8\n",
      "Worker_Class__Private Non-Profit                   60357 non-null uint8\n",
      "Worker_Class__Private for Profit                   60357 non-null uint8\n",
      "Worker_Class__Self Employed (incorporated)         60357 non-null uint8\n",
      "Worker_Class__Self Employed (not incorportated)    60357 non-null uint8\n",
      "Worker_Class__State Government                     60357 non-null uint8\n",
      "Worker_Class__Unemployeed                          60357 non-null uint8\n",
      "Worker_Class__nan                                  60357 non-null uint8\n",
      "Miliary_Service__Never Served                      60357 non-null uint8\n",
      "Miliary_Service__Reserves                          60357 non-null uint8\n",
      "Miliary_Service__Served Not Active                 60357 non-null uint8\n",
      "Miliary_Service__Serving Active Duty               60357 non-null uint8\n",
      "Education_Attained__na                             60357 non-null uint8\n",
      "Education_Attained__no_high_school                 60357 non-null uint8\n",
      "Education_Attained__some_high_school               60357 non-null uint8\n",
      "Education_Attained__HS_diploma                     60357 non-null uint8\n",
      "Education_Attained__some_college                   60357 non-null uint8\n",
      "Education_Attained__bacholors_degree               60357 non-null uint8\n",
      "Education_Attained__masters_degree                 60357 non-null uint8\n",
      "Education_Attained__professional_degree            60357 non-null uint8\n",
      "Education_Attained__doctorate_degree               60357 non-null uint8\n",
      "Marital_status__Divorced                           60357 non-null uint8\n",
      "Marital_status__Married                            60357 non-null uint8\n",
      "Marital_status__Never Married                      60357 non-null uint8\n",
      "Marital_status__Separated                          60357 non-null uint8\n",
      "Marital_status__Widowed                            60357 non-null uint8\n",
      "dtypes: bool(1), float64(2), int32(1), int64(2), uint8(43)\n",
      "memory usage: 5.1 MB\n"
     ]
    }
   ],
   "source": [
    "execfile('../python/clean_data_classification.py')\n",
    "lr.info()"
   ]
  },
  {
   "cell_type": "markdown",
   "metadata": {},
   "source": [
    "### PCA"
   ]
  },
  {
   "cell_type": "markdown",
   "metadata": {},
   "source": [
    "A principal components analysis is also performed with five components on a scaled-version of our dataset. Although the PCA is not officially part of the classification analysis, the data may be useful for comparative reference. "
   ]
  },
  {
   "cell_type": "code",
   "execution_count": 5,
   "metadata": {
    "collapsed": false
   },
   "outputs": [
    {
     "data": {
      "text/html": [
       "<div>\n",
       "<table border=\"1\" class=\"dataframe\">\n",
       "  <thead>\n",
       "    <tr style=\"text-align: right;\">\n",
       "      <th></th>\n",
       "      <th>PCA_0</th>\n",
       "      <th>PCA_1</th>\n",
       "      <th>PCA_2</th>\n",
       "      <th>PCA_3</th>\n",
       "      <th>PCA_4</th>\n",
       "    </tr>\n",
       "  </thead>\n",
       "  <tbody>\n",
       "    <tr>\n",
       "      <th>0</th>\n",
       "      <td>1.884722</td>\n",
       "      <td>1.800257</td>\n",
       "      <td>0.924182</td>\n",
       "      <td>-0.699642</td>\n",
       "      <td>-0.178168</td>\n",
       "    </tr>\n",
       "    <tr>\n",
       "      <th>1</th>\n",
       "      <td>0.337951</td>\n",
       "      <td>-1.349852</td>\n",
       "      <td>0.459928</td>\n",
       "      <td>-0.865060</td>\n",
       "      <td>0.822004</td>\n",
       "    </tr>\n",
       "    <tr>\n",
       "      <th>2</th>\n",
       "      <td>-1.203093</td>\n",
       "      <td>-0.315044</td>\n",
       "      <td>-0.527054</td>\n",
       "      <td>-0.989047</td>\n",
       "      <td>1.147478</td>\n",
       "    </tr>\n",
       "    <tr>\n",
       "      <th>3</th>\n",
       "      <td>-0.173147</td>\n",
       "      <td>-1.279213</td>\n",
       "      <td>-0.209784</td>\n",
       "      <td>-0.614139</td>\n",
       "      <td>-0.449462</td>\n",
       "    </tr>\n",
       "    <tr>\n",
       "      <th>4</th>\n",
       "      <td>1.361579</td>\n",
       "      <td>1.421788</td>\n",
       "      <td>-0.016835</td>\n",
       "      <td>-1.109768</td>\n",
       "      <td>0.966580</td>\n",
       "    </tr>\n",
       "  </tbody>\n",
       "</table>\n",
       "</div>"
      ],
      "text/plain": [
       "      PCA_0     PCA_1     PCA_2     PCA_3     PCA_4\n",
       "0  1.884722  1.800257  0.924182 -0.699642 -0.178168\n",
       "1  0.337951 -1.349852  0.459928 -0.865060  0.822004\n",
       "2 -1.203093 -0.315044 -0.527054 -0.989047  1.147478\n",
       "3 -0.173147 -1.279213 -0.209784 -0.614139 -0.449462\n",
       "4  1.361579  1.421788 -0.016835 -1.109768  0.966580"
      ]
     },
     "execution_count": 5,
     "metadata": {},
     "output_type": "execute_result"
    }
   ],
   "source": [
    "df[pca_features].head()"
   ]
  },
  {
   "cell_type": "markdown",
   "metadata": {},
   "source": [
    "## Evaluation metric"
   ]
  },
  {
   "cell_type": "markdown",
   "metadata": {},
   "source": [
    "Ultimately, the object is to classify individuals as either _wealthy_ (income > \\$100,000) or _general_ (income < \\$100,000). Being so, the model should be as accurate as possible and analysis will consider accuracy to be the most important metric.\n",
    "\n",
    "The dataset is highly unbalanced with only 7% of the population being classified as \"wealthy\". With an unbalanced dataset, the accuracy may be misleading because 92% of the accuracy is obtained by all individuals as \"general.\"  Because of the unbalance in the dataset, the F-measure will be evaluated.  The F-measure will be a secondary metric to accuracy since it is a metric of precision and recall\n",
    "\n",
    "For regression, we will use r^2 as the metric. This will give us a metric which is on the same scale as accuracy."
   ]
  },
  {
   "cell_type": "markdown",
   "metadata": {},
   "source": [
    "## Dividing Data"
   ]
  },
  {
   "cell_type": "markdown",
   "metadata": {},
   "source": [
    "To help ensure that overfitting is mitigated, the 10-fold cross validation technique will be used to split the dataset. Because the dataset is so unbalanced, the stratified k-fold cross validator will be used.\n",
    "\n",
    "Additionally, the dataset will be scaled so various classification techniques can be used."
   ]
  },
  {
   "cell_type": "code",
   "execution_count": 6,
   "metadata": {
    "collapsed": true
   },
   "outputs": [],
   "source": [
    "def get_X_y(regression=False):\n",
    "   global lr2\n",
    "   lr2 = lr.copy(deep=True)\n",
    "   y = list(lr2.wealthy.values)\n",
    "   if regression:\n",
    "       y = list(lr2.PINCP.values)\n",
    "   del lr2['wealthy']\n",
    "   del lr2['PINCP']\n",
    "   X = lr2.values\n",
    "   \n",
    "   ### Standardize X values\n",
    "   scl_obj = MinMaxScaler()\n",
    "   scl_obj.fit(X)\n",
    "   X = scl_obj.transform(X)\n",
    " \n",
    "   return (X,y)"
   ]
  },
  {
   "cell_type": "markdown",
   "metadata": {},
   "source": [
    "## Creating models"
   ]
  },
  {
   "cell_type": "markdown",
   "metadata": {},
   "source": [
    "As mentioned earlier, the analysis will include both classification models predicting the feature wealthy.   Also, models will use regression to predict the feature income.   \n",
    "\n",
    "Classification models will include Decision Tree, Naïve Bayes (Multinomial, Bernoulli, Gaussian), Stochastic Gradient Descent, and KNN.  \n",
    "\n",
    "Regression models will include Decision Tree Regression, Ridge Regression, and LASSO Regression."
   ]
  },
  {
   "cell_type": "markdown",
   "metadata": {},
   "source": [
    "### Helper functions"
   ]
  },
  {
   "cell_type": "markdown",
   "metadata": {},
   "source": [
    "Two functions are created to assist with the cognitive overload and clean the data and the code for each classification and regression model.   \n",
    "\n",
    "The first function defines the statistical output.  The second function includes the cross validations along with control of the boolean or continuous variable in the resulting dataset. "
   ]
  },
  {
   "cell_type": "code",
   "execution_count": 7,
   "metadata": {
    "collapsed": true
   },
   "outputs": [],
   "source": [
    "# variables to be used later\n",
    "methodSpeeds = []\n",
    "methodSpeedNames = []\n",
    "_results = []\n",
    "names = []\n",
    "\n",
    "def print_accuracy(title, results):\n",
    "    accuracy = round(results.mean()*100, 2)\n",
    "    std = round(results.std(), 6)\n",
    "    print('%s%% accuracy (%s std) - %s' % (accuracy, std, title))\n",
    "\n",
    "def fit_and_test(title, model, show_individual_accuracies=False, print_confusion=False, regression=False, scoring='accuracy'):\n",
    "    startTime = datetime.now()\n",
    "\n",
    "    X, y = get_X_y(regression)\n",
    "    \n",
    "    cv_results = model_selection.cross_val_score(model, X, y, cv=10, scoring=scoring)\n",
    "    \n",
    "    _results.append(cv_results)\n",
    "    names.append(title)\n",
    "    \n",
    "    print_accuracy(title, cv_results)\n",
    "\n",
    "    methodSpeedNames.append(model.__class__.__name__)\n",
    "    timePassed = datetime.now() - startTime\n",
    "    methodSpeeds.append(timePassed.total_seconds())"
   ]
  },
  {
   "cell_type": "markdown",
   "metadata": {},
   "source": [
    "### Decision Trees"
   ]
  },
  {
   "cell_type": "code",
   "execution_count": 8,
   "metadata": {
    "collapsed": false
   },
   "outputs": [
    {
     "name": "stdout",
     "output_type": "stream",
     "text": [
      "89.7% accuracy (0.002904 std) - decision tree (no max feature)\n",
      "89.67% accuracy (0.002594 std) - decision tree (max_features=4)\n",
      "92.53% accuracy (0.001812 std) - Random Forest\n"
     ]
    }
   ],
   "source": [
    "dt_clf = DecisionTreeClassifier(max_features=None, class_weight='balanced')\n",
    "fit_and_test('decision tree (no max feature)', dt_clf)\n",
    "dt_clf = DecisionTreeClassifier(max_features=4, class_weight='balanced')\n",
    "fit_and_test('decision tree (max_features=4)', dt_clf)\n",
    "dt_clf = RandomForestClassifier(max_features=None, class_weight='balanced')\n",
    "fit_and_test('Random Forest', dt_clf)"
   ]
  },
  {
   "cell_type": "markdown",
   "metadata": {},
   "source": [
    "The decision tree provides **90%** accuracy.  Only a slight accuracy improvement is seen when limiting the features (‘max features =4’).   Using the random forest provides a more substantial boost with an accuracy of about **92%** total."
   ]
  },
  {
   "cell_type": "markdown",
   "metadata": {},
   "source": [
    "### Multinomial Bayes"
   ]
  },
  {
   "cell_type": "code",
   "execution_count": 9,
   "metadata": {
    "collapsed": false
   },
   "outputs": [
    {
     "name": "stdout",
     "output_type": "stream",
     "text": [
      "92.74% accuracy (0.001426 std) - bayes multinomial (alpha=100)\n",
      "92.82% accuracy (0.001239 std) - bayes multinomial (alpha=1)\n",
      "92.82% accuracy (0.001171 std) - bayes multinomial (alpha=.001)\n"
     ]
    }
   ],
   "source": [
    "mb_clf = MultinomialNB(alpha=100)\n",
    "fit_and_test('bayes multinomial (alpha=100)', mb_clf, show_individual_accuracies=False)\n",
    "mb_clf = MultinomialNB(alpha=1)\n",
    "fit_and_test('bayes multinomial (alpha=1)', mb_clf, show_individual_accuracies=False)\n",
    "mb_clf = MultinomialNB(alpha=.001)\n",
    "fit_and_test('bayes multinomial (alpha=.001)', mb_clf, show_individual_accuracies=False)"
   ]
  },
  {
   "cell_type": "markdown",
   "metadata": {},
   "source": [
    "The multinomial Bayes has an accuracy around **93%** consistently.  Adjustments in the `alpha` parameter do not seem to produce a significant change in accuracy."
   ]
  },
  {
   "cell_type": "markdown",
   "metadata": {},
   "source": [
    "### Bernoulli Bayes"
   ]
  },
  {
   "cell_type": "code",
   "execution_count": 10,
   "metadata": {
    "collapsed": false
   },
   "outputs": [
    {
     "name": "stdout",
     "output_type": "stream",
     "text": [
      "92.03% accuracy (0.002165 std) - bayes bernoulli alpha=100, binarize=None\n",
      "91.35% accuracy (0.002516 std) - bayes bernoulli alpha=0.1, binarize=None\n",
      "\n",
      "92.68% accuracy (6e-06 std) - bayes bernoulli alpha=0.1, binarize=1\n",
      "92.68% accuracy (6e-06 std) - bayes bernoulli alpha=100, binarize=1\n"
     ]
    }
   ],
   "source": [
    "mb_clf = BernoulliNB(alpha=100)\n",
    "title_with_params = 'bayes bernoulli alpha=100, binarize=None'\n",
    "fit_and_test(title_with_params, mb_clf, show_individual_accuracies=False)\n",
    "mb_clf = BernoulliNB(alpha=.1)\n",
    "title_with_params = 'bayes bernoulli alpha=0.1, binarize=None'\n",
    "fit_and_test(title_with_params, mb_clf, show_individual_accuracies=False)\n",
    "mb_clf = BernoulliNB(alpha=.1, binarize=1)\n",
    "\n",
    "print('')\n",
    "\n",
    "title_with_params = 'bayes bernoulli alpha=0.1, binarize=1'\n",
    "fit_and_test(title_with_params, mb_clf, show_individual_accuracies=False)\n",
    "mb_clf = BernoulliNB(alpha=100, binarize=1)\n",
    "title_with_params = 'bayes bernoulli alpha=100, binarize=1'\n",
    "fit_and_test(title_with_params, mb_clf, show_individual_accuracies=False)\n"
   ]
  },
  {
   "cell_type": "markdown",
   "metadata": {},
   "source": [
    "Bernoulli Bayes gives about **92%** accuracy with a slight gain for setting the property `binarize=1`."
   ]
  },
  {
   "cell_type": "markdown",
   "metadata": {},
   "source": [
    "### Gaussian Bayes"
   ]
  },
  {
   "cell_type": "code",
   "execution_count": 11,
   "metadata": {
    "collapsed": false
   },
   "outputs": [
    {
     "name": "stdout",
     "output_type": "stream",
     "text": [
      "42.82% accuracy (0.005449 std) - bayes gaussian\n"
     ]
    }
   ],
   "source": [
    "mb_clf = GaussianNB()\n",
    "fit_and_test('bayes gaussian', mb_clf, show_individual_accuracies=False)"
   ]
  },
  {
   "cell_type": "markdown",
   "metadata": {},
   "source": [
    "The Gaussian Bayes performs terribly. Many of the dataset features are nominal or binomial, so the performance is expected since Gaussian Bayes performs best with normally distributed data.  Even with the assumption of normal distribution unmet, the fact that this model performs worse than a random guess might do (less than 50%) is pretty startling."
   ]
  },
  {
   "cell_type": "markdown",
   "metadata": {},
   "source": [
    "### Gradient Descent"
   ]
  },
  {
   "cell_type": "code",
   "execution_count": 12,
   "metadata": {
    "collapsed": false
   },
   "outputs": [
    {
     "name": "stdout",
     "output_type": "stream",
     "text": [
      "72.05% accuracy (0.011006 std) - gradient descent\n"
     ]
    }
   ],
   "source": [
    "regularize_const = 0.1\n",
    "iterations = 5\n",
    "svm_sgd = SGDClassifier(alpha=regularize_const, class_weight='balanced',\n",
    "       fit_intercept=True, l1_ratio=0.0, learning_rate='optimal',\n",
    "       loss='hinge', n_iter=iterations, n_jobs=-1, penalty='l2')\n",
    "\n",
    "fit_and_test('gradient descent', svm_sgd, show_individual_accuracies=False)"
   ]
  },
  {
   "cell_type": "markdown",
   "metadata": {},
   "source": [
    "Stochastic gradient descent does not perform as well as the some previous models.  The gradient descent would not be an accurate model for this particular dataset.  "
   ]
  },
  {
   "cell_type": "markdown",
   "metadata": {},
   "source": [
    "### KNN (k-nearest neighbor)"
   ]
  },
  {
   "cell_type": "code",
   "execution_count": 13,
   "metadata": {
    "collapsed": false
   },
   "outputs": [
    {
     "name": "stdout",
     "output_type": "stream",
     "text": [
      "92.5% accuracy (0.001742 std) - knn\n"
     ]
    }
   ],
   "source": [
    "def run_knn():\n",
    "    ## seems to default to kd_tree\n",
    "    ## TODO: see if parameters can be used to tweak\n",
    "    knn_clf = KNeighborsClassifier()\n",
    "    fit_and_test('knn', knn_clf, show_individual_accuracies=False)\n",
    "\n",
    "run_knn()"
   ]
  },
  {
   "cell_type": "markdown",
   "metadata": {},
   "source": [
    "The KNN model provides an accuracy as high as the Decision Tree; however, due to the dataset size, the model is not an effienct one to use.  "
   ]
  },
  {
   "cell_type": "markdown",
   "metadata": {},
   "source": [
    "### Decision Tree Regressor"
   ]
  },
  {
   "cell_type": "code",
   "execution_count": 14,
   "metadata": {
    "collapsed": false
   },
   "outputs": [
    {
     "name": "stdout",
     "output_type": "stream",
     "text": [
      "23.58% accuracy (0.019461 std) - Decision Tree Regressor\n"
     ]
    }
   ],
   "source": [
    "dt_reg = DecisionTreeRegressor(max_depth=5)\n",
    "fit_and_test(\"Decision Tree Regressor\", dt_reg, regression=True, scoring='r2')"
   ]
  },
  {
   "cell_type": "markdown",
   "metadata": {},
   "source": [
    "Our metric is no longer _accuracy_, because this is a regression function, but instead we are using _r^2_. The decision tree regressor gives us an r^2 of around **23%**."
   ]
  },
  {
   "cell_type": "markdown",
   "metadata": {},
   "source": [
    "### Ridge Regression"
   ]
  },
  {
   "cell_type": "code",
   "execution_count": 15,
   "metadata": {
    "collapsed": false
   },
   "outputs": [
    {
     "name": "stdout",
     "output_type": "stream",
     "text": [
      "28.24% accuracy (0.00946 std) - Ridge Regressor\n"
     ]
    }
   ],
   "source": [
    "from sklearn.linear_model import Ridge\n",
    "\n",
    "def ridge_reg():\n",
    "    ridge_reg = Ridge(alpha=.05, normalize=True)\n",
    "    fit_and_test(\"Ridge Regressor\", ridge_reg, regression=True, scoring='r2')\n",
    "    return\n",
    "   \n",
    "ridge_reg()"
   ]
  },
  {
   "cell_type": "markdown",
   "metadata": {},
   "source": [
    "The ridge regression adds a factor of sum of squares to the coefficients and also uses the r^2.  The results of around **28%** are higher that the decision tree regressor; however, the results are still not as statistically valuable as the classification models."
   ]
  },
  {
   "cell_type": "markdown",
   "metadata": {},
   "source": [
    "### LASSO Regression"
   ]
  },
  {
   "cell_type": "code",
   "execution_count": 17,
   "metadata": {
    "collapsed": false
   },
   "outputs": [
    {
     "name": "stdout",
     "output_type": "stream",
     "text": [
      "28.28% accuracy (0.009837 std) - Lasso Regressor\n"
     ]
    }
   ],
   "source": [
    "from sklearn.linear_model import Lasso\n",
    "\n",
    "def lasso_reg():\n",
    "    lasso_reg = Lasso(alpha=.05, normalize=True, max_iter=1e5)\n",
    "    fit_and_test(\"Lasso Regressor\", lasso_reg, regression=True, scoring='r2')\n",
    "    return\n",
    "   \n",
    "lasso_reg()"
   ]
  },
  {
   "cell_type": "markdown",
   "metadata": {},
   "source": [
    "The LASSO regression (least absolute shrinkage and selection operator) will also rely on the r^2 for the accuracy of the prediction.   The LASSO regression results are also about **28%** which is comparable to ridge regression.   \n",
    "\n",
    "The regression models were less successful with the predictive modeling than the classification models.   \n"
   ]
  },
  {
   "cell_type": "markdown",
   "metadata": {
    "collapsed": true
   },
   "source": [
    "## Analyze Results\n"
   ]
  },
  {
   "cell_type": "markdown",
   "metadata": {},
   "source": [
    "The results of the models will be compared.  Since nine models with various arguements have been run, the comparison will only include those with _accuracy_ (for classification) and _r^2_  (for regression) greater then 80%. "
   ]
  },
  {
   "cell_type": "markdown",
   "metadata": {},
   "source": [
    "### Compare Metrics\n",
    "\n",
    "Here the top-performing models are compared using box plots of the accuracies for the 10fold cross validation. The Bayes multinomial model, with alpha set to .001 seems to provide the highest accuracy with moderate variance. If variance was an issue, then the Bernoulli Bayes model would be used."
   ]
  },
  {
   "cell_type": "code",
   "execution_count": 18,
   "metadata": {
    "collapsed": false
   },
   "outputs": [
    {
     "data": {
      "image/png": "[encoded data removed]",
      "text/plain": [
       "<matplotlib.figure.Figure at 0x10e4dd30>"
      ]
     },
     "metadata": {},
     "output_type": "display_data"
    }
   ],
   "source": [
    "###Comparison of Algorithms\n",
    "x_results = pd.Series(_results)\n",
    "x_names = pd.Series(names)\n",
    "def showAlgorithmMetricPlots(items_index):\n",
    "    fig = plt.figure(figsize=(16,10))\n",
    "    fig.suptitle('Algorithm Comparison')\n",
    "    ax = fig.add_subplot(111)\n",
    "    plt.boxplot(x_results[items_index])\n",
    "    ax.set_xticklabels(x_names[items_index], rotation=90, fontsize=16)\n",
    "    plt.show()\n",
    "\n",
    "showAlgorithmMetricPlots(x_results.map(np.mean) > .8)\n"
   ]
  },
  {
   "cell_type": "markdown",
   "metadata": {},
   "source": [
    "### Statistically compare models"
   ]
  },
  {
   "cell_type": "markdown",
   "metadata": {},
   "source": [
    "The box plot clearly shows the difference between the accuracies between models.   Before continuing with assumptions about the accuracies, the F-Statistic (and p-value) for the first six models will be analyzed.   The f-statistic and p-value requires the assumption of normality and equal variance.  Normality can be assumed, but equal variance is still under scrutiny.  "
   ]
  },
  {
   "cell_type": "code",
   "execution_count": 19,
   "metadata": {
    "collapsed": false
   },
   "outputs": [
    {
     "name": "stdout",
     "output_type": "stream",
     "text": [
      "F statistic 571.833286361 and p-value 1.8961295352e-45\n"
     ]
    }
   ],
   "source": [
    "F, p = stats.f_oneway(_results[0], _results[1], _results[2], _results[3], _results[4], _results[5])\n",
    "print ('F statistic %s and p-value %s' %(F, p))"
   ]
  },
  {
   "cell_type": "markdown",
   "metadata": {},
   "source": [
    "Clearly, there is overwhelming evidence to suggest that at least one of the models has a different mean. Review of the t-test statistic of the two highest-performing bayes models (one model with an alpha of 1 and the other with an alpha of .001) will provide more information."
   ]
  },
  {
   "cell_type": "code",
   "execution_count": 20,
   "metadata": {
    "collapsed": false
   },
   "outputs": [
    {
     "name": "stdout",
     "output_type": "stream",
     "text": [
      "T statistic -0.0874468434361 and p-value 0.931281834641\n"
     ]
    }
   ],
   "source": [
    "t, p = stats.ttest_ind(_results[4], _results[5])\n",
    "print ('T statistic %s and p-value %s' %(t, p))"
   ]
  },
  {
   "cell_type": "markdown",
   "metadata": {},
   "source": [
    "With such a large p-value, it is not possible to reject the assumption that the two distributions have the same mean."
   ]
  },
  {
   "cell_type": "markdown",
   "metadata": {},
   "source": [
    "### Compare Time to complete\n",
    "\n",
    "The computation time of each function is evaluated.  The results provide in seconds the time to model both the training and the testing set.  "
   ]
  },
  {
   "cell_type": "code",
   "execution_count": 21,
   "metadata": {
    "collapsed": false
   },
   "outputs": [
    {
     "data": {
      "image/png": "[encoded data removed]",
      "text/plain": [
       "<matplotlib.figure.Figure at 0x10e4d470>"
      ]
     },
     "metadata": {},
     "output_type": "display_data"
    }
   ],
   "source": [
    "def showSpeedPlot():\n",
    "   speeds = pd.DataFrame({'method': methodSpeedNames, 'time': methodSpeeds})\n",
    "   speeds.plot.bar(x='method', y='time')\n",
    "   plt.show()\n",
    "showSpeedPlot()"
   ]
  },
  {
   "cell_type": "markdown",
   "metadata": {},
   "source": [
    "The Multinomial Bayes model is clearly the fastest model. Based on the analysis, the Multinomial Bayes models gives both the best accuracy and is the fastest compared to all other classification techniques explored. However, no convincing evidence is provided that a change in an alpha can give us better accuracy on our Multinomial Bayes model."
   ]
  },
  {
   "cell_type": "markdown",
   "metadata": {},
   "source": [
    "### Compare F1 score\n",
    "\n",
    "Because the dataset is so unbalanced, it would be wise to check the F1 score to take a look at precision and recall. Since the Multinomial Bayes model has the best accuracy, the statistic for that model will be computed:"
   ]
  },
  {
   "cell_type": "code",
   "execution_count": 22,
   "metadata": {
    "collapsed": false
   },
   "outputs": [
    {
     "name": "stdout",
     "output_type": "stream",
     "text": [
      "[[10997   182]\n",
      " [  679   214]]\n",
      "F1 score 0.33204034135\n"
     ]
    }
   ],
   "source": [
    "X, y = get_X_y()\n",
    "X_train, X_test, y_train, y_test = model_selection.train_test_split(X, y, test_size=.2, random_state=42)\n",
    "\n",
    "mb_clf = MultinomialNB(alpha=1)\n",
    "mb_clf.fit(X_train, y_train)\n",
    "\n",
    "y_hat = mb_clf.predict(X_test)\n",
    "\n",
    "acc = mt.accuracy_score(y_test, y_hat)\n",
    "print(mt.confusion_matrix(y_test, y_hat))\n",
    "print('F1 score %s' % mt.f1_score(y_test, y_hat))"
   ]
  },
  {
   "cell_type": "markdown",
   "metadata": {},
   "source": [
    "The confusion matrix and the F1 score both confirm the issue with large unblanced datasets.  Three times as many people incorrectly classifed as \"general\" (679) as there were correctly classified as \"wealthy\" (214).  A small F1 score further confirms the concerns.  A larger F1 score would be more beneficial; however, with an unbalanced dataset, the score may be the best possible score.  Analysis will continue with caution."
   ]
  },
  {
   "cell_type": "markdown",
   "metadata": {},
   "source": [
    "## Most important features"
   ]
  },
  {
   "cell_type": "markdown",
   "metadata": {},
   "source": [
    "With Multinomial Bayes being the strongest model for accuracy, the coefficients are calculated from fitting the model."
   ]
  },
  {
   "cell_type": "code",
   "execution_count": 23,
   "metadata": {
    "collapsed": false
   },
   "outputs": [
    {
     "data": {
      "text/plain": [
       "Worker_Class__Unemployeed                         -3.283832\n",
       "PAP                                               -1.972800\n",
       "English__Not at all                               -1.897538\n",
       "Education_Attained__na                            -1.492073\n",
       "Worker_Class__Family Business - no pay            -1.204390\n",
       "Education_Attained__no_high_school                -0.981247\n",
       "Citizen__US Territory Born                        -0.644775\n",
       "Miliary_Service__Serving Active Duty              -0.288100\n",
       "English__Not well                                 -0.148338\n",
       "Marital_status__Separated                          0.242528\n",
       "Citizen__Born Abroad)                              0.327086\n",
       "Education_Attained__some_high_school               0.353754\n",
       "Miliary_Service__Reserves                          1.135009\n",
       "English__Well                                      1.270045\n",
       "Worker_Class__State Government                     1.398299\n",
       "Marital_status__Widowed                            1.469758\n",
       "Citizen__Non-Citizen                               1.772414\n",
       "Worker_Class__Local Government                     1.941915\n",
       "Worker_Class__Federal Government                   1.973663\n",
       "Travel_Time__long                                  2.068026\n",
       "PWGTP                                              2.111613\n",
       "Worker_Class__nan                                  2.162905\n",
       "Worker_Class__Private Non-Profit                   2.184228\n",
       "Education_Attained__doctorate_degree               2.225556\n",
       "Worker_Class__Self Employed (not incorportated)    2.257432\n",
       "Worker_Class__Self Employed (incorporated)         2.413261\n",
       "Education_Attained__HS_diploma                     2.429901\n",
       "Marital_status__Divorced                           2.493820\n",
       "Marital_status__Never Married                      2.503065\n",
       "Citizen__Naturalized                               2.599490\n",
       "Education_Attained__professional_degree            2.658967\n",
       "English__Very well                                 2.800667\n",
       "Miliary_Service__Served Not Active                 2.873147\n",
       "Travel_Time__hour                                  2.926768\n",
       "Education_Attained__some_college                   3.150714\n",
       "Travel_Time__na                                    3.245587\n",
       "Education_Attained__masters_degree                 3.411967\n",
       "Travel_Time__short                                 3.528513\n",
       "Education_Attained__bacholors_degree               3.753196\n",
       "Travel_Time__half hour                             3.845466\n",
       "AGEP                                               4.064535\n",
       "Worker_Class__Private for Profit                   4.336383\n",
       "is_male                                            4.584422\n",
       "Marital_status__Married                            4.636251\n",
       "Miliary_Service__Never Served                      4.714167\n",
       "Citizen__US Born                                   4.717188\n",
       "English__Speaks only English                       4.719197\n",
       "dtype: float64"
      ]
     },
     "execution_count": 23,
     "metadata": {},
     "output_type": "execute_result"
    }
   ],
   "source": [
    "X, y = get_X_y()\n",
    "X_train, X_test, y_train, y_test = model_selection.train_test_split(X, y, test_size=.2)\n",
    "\n",
    "mb_clf = MultinomialNB(alpha=1)\n",
    "mb_clf.fit(X_train, y_train)\n",
    "\n",
    "chosen_coeficients = pd.Series(mb_clf.coef_[0])\n",
    "chosen_coeficients.index = lr2.columns\n",
    "chosen_coeficients = chosen_coeficients.sort_values()\n",
    "\n",
    "# All coefficients seem to be negative, let's offset them to show some positive weights\n",
    "chosen_coeficients + 7"
   ]
  },
  {
   "cell_type": "markdown",
   "metadata": {},
   "source": [
    "Clearly never being in the military seems to be an important feature. Additional research might be warranted into why this feature is so important.\n",
    "\n",
    "Other features seem less surprising: Being married, born in US, and only speaking English are the next most important positive features. The most important negative features are: being unemployed, receiving public assistance in the last 12 months (`PAP`), and not speaking English."
   ]
  },
  {
   "cell_type": "markdown",
   "metadata": {},
   "source": [
    "## Deployment\n",
    "\n",
    "The model achieves about 93% accuracy. We may want to work on getting the accuracy up higher as you could, theoretically, get about 92% by naively classifying all people as \"general\" wealth.\n",
    "\n",
    "For true classification, we would want to see this model in production. To deploy, we may want to use a low-level, compiled language such as Java to be in charge of handling the actual classification of real data.\n",
    "\n",
    "The model could be useful for anyone guiding young adults on advice to have financially successful careers.   The data needs to be updated annually to reflect the new dataset from the US census.\n"
   ]
  },
  {
   "cell_type": "markdown",
   "metadata": {},
   "source": [
    "## Exceptional Work\n",
    "\n",
    "For exceptional work, two regression models were included in the analysis above.  An attempt was made for the kernel ridge regression; however, the computation resources were too great for local machine calculation.  "
   ]
  },
  {
   "cell_type": "code",
   "execution_count": null,
   "metadata": {
    "collapsed": true
   },
   "outputs": [],
   "source": []
  }
 ],
 "metadata": {
  "kernelspec": {
   "display_name": "Python [default]",
   "language": "python",
   "name": "python2"
  },
  "language_info": {
   "codemirror_mode": {
    "name": "ipython",
    "version": 2
   },
   "file_extension": ".py",
   "mimetype": "text/x-python",
   "name": "python",
   "nbconvert_exporter": "python",
   "pygments_lexer": "ipython2",
   "version": "2.7.13"
  }
 },
 "nbformat": 4,
 "nbformat_minor": 2
}
