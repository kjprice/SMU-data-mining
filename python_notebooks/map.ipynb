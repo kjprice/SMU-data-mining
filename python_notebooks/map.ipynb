{
 "cells": [
  {
   "cell_type": "code",
   "execution_count": 1,
   "metadata": {
    "collapsed": false
   },
   "outputs": [
    {
     "name": "stderr",
     "output_type": "stream",
     "text": [
      "/anaconda/envs/python2/lib/python2.7/site-packages/matplotlib/cbook.py:136: MatplotlibDeprecationWarning: The axisbg attribute was deprecated in version 2.0. Use facecolor instead.\n",
      "  warnings.warn(message, mplDeprecation, stacklevel=1)\n"
     ]
    },
    {
     "data": {
      "text/plain": [
       "<matplotlib.text.Text at 0x1110d07d0>"
      ]
     },
     "execution_count": 1,
     "metadata": {},
     "output_type": "execute_result"
    }
   ],
   "source": [
    "import os\n",
    "import matplotlib as mpl\n",
    "import matplotlib.pyplot as plt\n",
    "import numpy as np\n",
    "import random\n",
    "from matplotlib.patches import Polygon, PathPatch\n",
    "from matplotlib.collections import PatchCollection\n",
    "from mpl_toolkits.basemap import Basemap\n",
    "\n",
    "fig = plt.figure(figsize=(20,10))\n",
    "ax = fig.add_subplot(111, axisbg='w', frame_on=False)\n",
    "fig.suptitle('PUMA Shapefiles: An Example with Basemap', fontsize=20)\n",
    "\n"
   ]
  },
  {
   "cell_type": "code",
   "execution_count": 2,
   "metadata": {
    "collapsed": true
   },
   "outputs": [],
   "source": [
    "\n",
    "# create a map object with the Albert Equal Areas projection.\n",
    "# This projection tends to look nice for the contiguous us.\n",
    "m = Basemap(width=5000000,height=3500000,\n",
    "            resolution='l',projection='aea',\\\n",
    "            lat_1=30.,lat_2=50,lon_0=-96,lat_0=38)\n",
    "            \n",
    "# state codes from http://www2.census.gov/programs-surveys/acs/tech_docs/pums/data_dict/PUMSDataDict13.txt\n",
    "# note that areas outside of the conus have been commented out\n",
    "state_codes = {\n",
    "    '01': 'Alabama',\n",
    "    '02': 'Alaska',\n",
    "    '04': 'Arizona',\n",
    "    '05': 'Arkansas',\n",
    "    '06': 'California',\n",
    "    '08': 'Colorado',\n",
    "    '09': 'Connecticut',\n",
    "    '10': 'Delaware',\n",
    "    '11': 'District of Columbia',\n",
    "    '12': 'Florida',\n",
    "    '13': 'Georgia',\n",
    "    '15': 'Hawaii',\n",
    "    '16': 'Idaho',\n",
    "    '17': 'Illinois',\n",
    "    '18': 'Indiana',\n",
    "    '19': 'Iowa',\n",
    "    '20': 'Kansas',\n",
    "    '21': 'Kentucky',\n",
    "    '22': 'Louisiana',\n",
    "    '23': 'Maine',\n",
    "    '24': 'Maryland',\n",
    "    '25': 'Massachusetts',\n",
    "    '26': 'Michigan',\n",
    "    '27': 'Minnesota',\n",
    "    '28': 'Mississippi',\n",
    "    '29': 'Missouri',\n",
    "    '30': 'Montana',\n",
    "    '31': 'Nebraska',\n",
    "    '32': 'Nevada',\n",
    "    '33': 'New Hampshire',\n",
    "    '34': 'New Jersey',\n",
    "    '35': 'New Mexico',\n",
    "    '36': 'New York',\n",
    "    '37': 'North Carolina',\n",
    "    '38': 'North Dakota',\n",
    "    '39': 'Ohio',\n",
    "    '40': 'Oklahoma',\n",
    "    '41': 'Oregon',\n",
    "    '42': 'Pennsylvania',\n",
    "    '44': 'Rhode Island',\n",
    "    '45': 'South Carolina',\n",
    "    '46': 'South Dakota',\n",
    "    '47': 'Tennessee',\n",
    "    '48': 'Texas',\n",
    "    '49': 'Utah',\n",
    "    '50': 'Vermont',\n",
    "    '51': 'Virginia',\n",
    "    '53': 'Washington',\n",
    "    '54': 'West Virginia',\n",
    "    '55': 'Wisconsin',\n",
    "    '56': 'Wyoming',\n",
    "    '72': 'Puerto Rico'\n",
    "}       \n",
    "\n"
   ]
  },
  {
   "cell_type": "code",
   "execution_count": 3,
   "metadata": {
    "collapsed": true
   },
   "outputs": [],
   "source": [
    "# define a colorramp\n",
    "num_colors = 12\n",
    "cm = plt.get_cmap('Blues')\n",
    "blues = [cm(1.*i/num_colors) for i in range(num_colors)]\n"
   ]
  },
  {
   "cell_type": "code",
   "execution_count": 4,
   "metadata": {
    "collapsed": true
   },
   "outputs": [],
   "source": [
    "# add colorbar legend\n",
    "cmap = mpl.colors.ListedColormap(blues)\n",
    "# define the bins\n",
    "bounds = np.linspace(0.0, 1.0, num_colors)\n"
   ]
  },
  {
   "cell_type": "code",
   "execution_count": 5,
   "metadata": {
    "collapsed": false
   },
   "outputs": [],
   "source": [
    "# read each states shapefile\n",
    "for key in state_codes.keys():\n",
    "    m.readshapefile('../data/shapefiles/tl_2013_{0}_puma10'.format(key),\n",
    "                    name='state', drawbounds=True, default_encoding='latin-1')\n",
    "                    \n",
    "    # loop through each PUMA and assign a random color from our colorramp\n",
    "    for info, shape in zip(m.state_info, m.state):\n",
    "        patches = [Polygon(np.array(shape), True)]\n",
    "        pc = PatchCollection(patches, edgecolor='k', linewidths=1., zorder=2)\n",
    "        pc.set_color(random.choice(blues))\n",
    "        ax.add_collection(pc)\n"
   ]
  },
  {
   "cell_type": "code",
   "execution_count": 6,
   "metadata": {
    "collapsed": false
   },
   "outputs": [],
   "source": [
    "# create a second axes for the colorbar\n",
    "ax2 = fig.add_axes([0.82, 0.1, 0.03, 0.8])\n",
    "cb = mpl.colorbar.ColorbarBase(ax2, cmap=cmap, ticks=bounds, boundaries=bounds,\n",
    "                               format='%1i')\n",
    "cb.ax.set_yticklabels([str(round(i, 2)) for i in bounds])\n",
    "\n",
    "plt.savefig('../data/conus.png')\n"
   ]
  },
  {
   "cell_type": "code",
   "execution_count": null,
   "metadata": {
    "collapsed": true
   },
   "outputs": [],
   "source": []
  }
 ],
 "metadata": {
  "kernelspec": {
   "display_name": "Python 2",
   "language": "python",
   "name": "python2"
  },
  "language_info": {
   "codemirror_mode": {
    "name": "ipython",
    "version": 2
   },
   "file_extension": ".py",
   "mimetype": "text/x-python",
   "name": "python",
   "nbconvert_exporter": "python",
   "pygments_lexer": "ipython2",
   "version": "2.7.13"
  }
 },
 "nbformat": 4,
 "nbformat_minor": 2
}
